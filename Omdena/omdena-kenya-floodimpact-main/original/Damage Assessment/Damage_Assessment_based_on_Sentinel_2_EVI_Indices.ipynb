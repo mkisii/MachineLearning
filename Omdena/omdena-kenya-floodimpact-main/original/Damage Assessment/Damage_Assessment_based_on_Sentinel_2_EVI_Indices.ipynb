{
 "cells": [
  {
   "cell_type": "markdown",
   "metadata": {
    "colab_type": "text",
    "id": "view-in-github"
   },
   "source": [
    "<a href=\"https://colab.research.google.com/github/OmdenaAI/KenyaRedCross/blob/main/Damage%20Assessment/Damage_Assessment_based_on_Sentinel_2_EVI_Indices.ipynb\" target=\"_parent\"><img src=\"https://colab.research.google.com/assets/colab-badge.svg\" alt=\"Open In Colab\"/></a>"
   ]
  },
  {
   "cell_type": "markdown",
   "metadata": {
    "id": "EiDm3ZRgZidz"
   },
   "source": [
    "# Damage Assessment using EVI2.\n",
    "\n",
    "---\n",
    "\n"
   ]
  },
  {
   "cell_type": "markdown",
   "metadata": {
    "id": "PZCn3qY1nONB"
   },
   "source": [
    "**What is Enhanced Vegetation Index(EVI) ?**\n",
    "\n",
    "The Enhanced Vegetation Index was developed to simultaneously correct for atmospheric influences and soil background signals, especially in areas of dense canopy. The value range for EVI is -1 to 1, and for healthy vegetation it varies between 0.2 and 0.8. \n",
    "\n",
    "EVI = 2.5 * ((NIR – Red) / ((NIR) + (C1 * Red) – (C2 * Blue) + L))\n",
    "\n",
    "The coefficients C1 and C2 correct for aerosol scattering. \n",
    "\n",
    "When to use: for analyzing areas of Earth with large amounts of chlorophyll (such as rainforests), and preferably with minimum topographic effects (not mountainous regions).\n",
    "\n",
    "Due to the problematic blue band, whose Signal to Noise ratio is poor(S/N), hence the development of EVI_2.\n",
    "\n",
    "Formula: EVI2 = 2.5*((NIR-Red)/(NIR+2.4 * Red+1))\n",
    "\n",
    "Resource: https://eos.com/blog/6-spectral-indexes-on-top-of-ndvi-to-make-your-vegetation-analysis-complete/\n",
    "\n"
   ]
  },
  {
   "cell_type": "markdown",
   "metadata": {
    "id": "4i88dWhiaMxp"
   },
   "source": [
    "This notebook entails using the u-net model built to performing inference on the before images to create masks for different vegetation covers. In this case cropland, pastureland and forestland. The steps used are as follows:\n",
    "1. Loading the u-net model:lcn_unet_resnet50.pkl\n",
    "2. Loading the before images in .tif and creating an RGB image from it as a numpy array.\n",
    "3. Using the model to predict the vegetation classes from the image.\n",
    "4. creating masks for cropland, pastureland and forestland.\n",
    "5. Calculating the EVI diff and affected pixels for respective classses categorized by degree of damage.\n",
    "6. Saving the data into .csv file for further/future analysis.\n",
    "7. Performing further Exploratory Data Analysis(EDA) on the data.\n",
    "\n"
   ]
  },
  {
   "cell_type": "markdown",
   "metadata": {
    "id": "Ma_9uOCEbiBw"
   },
   "source": [
    "### **Loading Necessary Dependencies**"
   ]
  },
  {
   "cell_type": "code",
   "execution_count": 1,
   "metadata": {
    "id": "7IJ1emUtYxxu"
   },
   "outputs": [],
   "source": [
    "#suppressing output of the cell\n",
    "%%capture  \n",
    "#installing necessary dependencies\n",
    "!pip -q install geopandas\n",
    "!pip -q install geojson\n",
    "!pip -q install rasterio\n",
    "!pip install fastai --upgrade"
   ]
  },
  {
   "cell_type": "code",
   "execution_count": 2,
   "metadata": {
    "id": "z-M9-eN1a0gS"
   },
   "outputs": [],
   "source": [
    "# importing libraries\n",
    "import os\n",
    "import json\n",
    "import requests\n",
    "import glob\n",
    "from pathlib import Path\n",
    "\n",
    "import geojson\n",
    "import rasterio as rio\n",
    "from rasterio.plot import show\n",
    "import geopandas as gpd\n",
    "from shapely.geometry import Point, Polygon\n",
    "from rasterio.plot import show_hist\n",
    "\n",
    "\n",
    "from matplotlib import pyplot\n",
    "import matplotlib.pyplot as plt\n",
    "import matplotlib.patches as mpatches\n",
    "import numpy as np\n",
    "import pandas as pd\n",
    "import time\n",
    "\n",
    "from sklearn.preprocessing import MinMaxScaler\n",
    "from fastai.vision.all import *\n",
    "\n",
    "from  IPython.core.interactiveshell import InteractiveShell\n",
    "InteractiveShell.ast_node_interactivity = \"all\"\n",
    "%matplotlib inline"
   ]
  },
  {
   "cell_type": "markdown",
   "metadata": {
    "id": "OIgALLZAbTGg"
   },
   "source": [
    "**Mounting Google Drive**"
   ]
  },
  {
   "cell_type": "code",
   "execution_count": 5,
   "metadata": {
    "colab": {
     "base_uri": "https://localhost:8080/"
    },
    "id": "H0WkLFj3bSdV",
    "outputId": "9835d294-33e9-44ff-e29a-5631c7edec23"
   },
   "outputs": [
    {
     "name": "stdout",
     "output_type": "stream",
     "text": [
      "Mounted at /content/drive\n"
     ]
    }
   ],
   "source": [
    "from google.colab import drive\n",
    "drive.mount('/content/drive',force_remount = True)"
   ]
  },
  {
   "cell_type": "markdown",
   "metadata": {
    "id": "NXtnjHaDbsXA"
   },
   "source": [
    "### **Loading the Sentinel-2 Images from Google Drive**"
   ]
  },
  {
   "cell_type": "code",
   "execution_count": 6,
   "metadata": {
    "colab": {
     "base_uri": "https://localhost:8080/"
    },
    "id": "egmGzWG8bSbA",
    "outputId": "87960a2c-3c0f-4800-da1b-48b95dc3f152"
   },
   "outputs": [
    {
     "name": "stdout",
     "output_type": "stream",
     "text": [
      "/content/drive/.shortcut-targets-by-id/12QHGizgz_g-tBWlzTcLz5dz_YOtWUXz8/Official Folder of Kenya Red Cross Desert Locust Project/Data/Sentinel_Data/dl_aoi/Kenya_AOI_224/Kenya_AOI_224_GeoTiff\n"
     ]
    }
   ],
   "source": [
    "#Directory for storage of sentinel 2 images\n",
    "%cd '/content/drive/My Drive/Official Folder of Kenya Red Cross Desert Locust Project/Data/Sentinel_Data/dl_aoi/Kenya_AOI_224/Kenya_AOI_224_GeoTiff'"
   ]
  },
  {
   "cell_type": "code",
   "execution_count": 7,
   "metadata": {
    "colab": {
     "base_uri": "https://localhost:8080/"
    },
    "id": "drgDtrn2bSVC",
    "outputId": "708b743e-facd-4b94-c02b-fc3088b94a0b"
   },
   "outputs": [
    {
     "data": {
      "text/plain": [
       "['Kenya_AOI_before_224_clean/kenya_aoi_before (1).tif',\n",
       " 'Kenya_AOI_before_224_clean/kenya_aoi_before (55).tif',\n",
       " 'Kenya_AOI_before_224_clean/kenya_aoi_before (53).tif',\n",
       " 'Kenya_AOI_before_224_clean/kenya_aoi_before (52).tif',\n",
       " 'Kenya_AOI_before_224_clean/kenya_aoi_before (51).tif']"
      ]
     },
     "execution_count": 7,
     "metadata": {
      "tags": []
     },
     "output_type": "execute_result"
    }
   ],
   "source": [
    "#path to before sentinel images\n",
    "#paths for the .tif images\n",
    "data_path = 'Kenya_AOI_before_224_clean'\n",
    "bf_data = Path(data_path)\n",
    "\n",
    "#the tif images are stored in the paths list\n",
    "bf_data = glob.glob(os.path.join(bf_data,'*.tif'))\n",
    "bf_data[:5]"
   ]
  },
  {
   "cell_type": "code",
   "execution_count": 8,
   "metadata": {
    "colab": {
     "base_uri": "https://localhost:8080/"
    },
    "id": "3ov_IuQObSS6",
    "outputId": "bee23cd2-3e78-4a29-b09b-721748e5840b"
   },
   "outputs": [
    {
     "data": {
      "text/plain": [
       "['Kenya_AOI_after_224_clean/kenya_aoi_after (9).tif',\n",
       " 'Kenya_AOI_after_224_clean/kenya_aoi_after (1).tif',\n",
       " 'Kenya_AOI_after_224_clean/kenya_aoi_after (2).tif',\n",
       " 'Kenya_AOI_after_224_clean/kenya_aoi_after (3).tif',\n",
       " 'Kenya_AOI_after_224_clean/kenya_aoi_after (4).tif']"
      ]
     },
     "execution_count": 8,
     "metadata": {
      "tags": []
     },
     "output_type": "execute_result"
    }
   ],
   "source": [
    "#path to after sentiel images\n",
    "#paths for the .tif images\n",
    "data_path = 'Kenya_AOI_after_224_clean'\n",
    "af_data = Path(data_path)\n",
    "\n",
    "#the tif images are stored in the paths list\n",
    "af_data = glob.glob(os.path.join(af_data,'*.tif'))\n",
    "af_data[:5]"
   ]
  },
  {
   "cell_type": "code",
   "execution_count": null,
   "metadata": {
    "colab": {
     "base_uri": "https://localhost:8080/"
    },
    "id": "SUDhtnOSbSN9",
    "outputId": "cc4c6442-d24a-46a1-ebdf-f985a78f7ba0"
   },
   "outputs": [
    {
     "name": "stdout",
     "output_type": "stream",
     "text": [
      "Length of bf data= 348\n",
      "Length of af data= 348\n"
     ]
    }
   ],
   "source": [
    "print(\"Length of bf data=\", len(bf_data))\n",
    "print(\"Length of af data=\", len(af_data))"
   ]
  },
  {
   "cell_type": "code",
   "execution_count": null,
   "metadata": {
    "colab": {
     "base_uri": "https://localhost:8080/"
    },
    "id": "XUO6OztvbSLM",
    "outputId": "33a61c22-e319-4539-a621-206deec103c0"
   },
   "outputs": [
    {
     "data": {
      "text/plain": [
       "1"
      ]
     },
     "execution_count": 9,
     "metadata": {
      "tags": []
     },
     "output_type": "execute_result"
    }
   ],
   "source": [
    "#How to extract the image ID\n",
    "int(bf_data[0].split('(')[1].split(')')[0])"
   ]
  },
  {
   "cell_type": "code",
   "execution_count": 9,
   "metadata": {
    "colab": {
     "base_uri": "https://localhost:8080/"
    },
    "id": "NA9zg5gobSIw",
    "outputId": "6877e16d-4063-4ffa-bbd7-1f27de775266"
   },
   "outputs": [
    {
     "name": "stdout",
     "output_type": "stream",
     "text": [
      "The number of correctly matched images:  348\n",
      "The number of mismatched images are:  0\n"
     ]
    }
   ],
   "source": [
    "#using for loop and storing the items/images into a dictionary\n",
    "folder = {}\n",
    "bf_list = bf_data.copy()\n",
    "af_list = af_data.copy()\n",
    "#iterating through the images\n",
    "for i in range(len(bf_data)):\n",
    "  files = []  #holds the before and after images\n",
    "  for  j in range(len(af_data)):\n",
    "    #checking for equality, splitting by the first parantheses in the string\n",
    "    if str(bf_data[i].split('(')[1]) == str(af_data[j].split('(')[1]):\n",
    "      #extracting the image_Id from the image name\n",
    "      key = bf_data[i].split('(')[1].split(')')[0]\n",
    "      files = [bf_data[i],af_data[j]]\n",
    "      folder[key] = files\n",
    "      bf_list.remove(bf_data[i]) #removing the matcged image \n",
    "      af_list.remove(af_data[j])\n",
    "\n",
    "print('The number of correctly matched images: ',len(folder.keys()))\n",
    "print(\"The number of mismatched images are: \",len(bf_list))"
   ]
  },
  {
   "cell_type": "markdown",
   "metadata": {
    "id": "3E0Vl7DTdmVI"
   },
   "source": [
    "### **Pixel-Wise Vegetation Classification & Damage Assessment Using NDVI**\n",
    "Using the resnet model built to classify each pixel in the sentinel-2 images to its respective landcover type. See the notebooks on using the U-net model for classification for more details.\n"
   ]
  },
  {
   "cell_type": "code",
   "execution_count": null,
   "metadata": {
    "id": "3aZzaqfebSGM"
   },
   "outputs": [],
   "source": [
    "def get_y_fn(x) :\n",
    "  return path_lbl/f'{re.findall(r\"(.*2018)[0-9]+_RGB\", x.stem)[0]}_LC_10m.png'"
   ]
  },
  {
   "cell_type": "code",
   "execution_count": null,
   "metadata": {
    "id": "n7_rKYrTbSDL"
   },
   "outputs": [],
   "source": [
    "def segm_acc(input, target) :\n",
    "  target = target.squeeze(1)\n",
    "  return (input.argmax(dim=1)==torch.tensor(target)).float().mean()"
   ]
  },
  {
   "cell_type": "code",
   "execution_count": null,
   "metadata": {
    "id": "AmPFfnN2bR_R"
   },
   "outputs": [],
   "source": [
    "#loading the model from the drive\n",
    "infer = load_learner('/content/drive/My Drive/Omdena Project/Model/lcn_unet_resnet50.pkl')"
   ]
  },
  {
   "cell_type": "code",
   "execution_count": null,
   "metadata": {
    "id": "N25UxbvTbR6L"
   },
   "outputs": [],
   "source": [
    "def get_rgb(path) :\n",
    "  red = rio.open(path).read(4) # B4\n",
    "  green = rio.open(path).read(3) # B3\n",
    "  blue = rio.open(path).read(2) # B2\n",
    "\n",
    "  rgb = np.dstack((red, green, blue))\n",
    "\n",
    "  # normalize and convert to range 0-255\n",
    "  rgb = ((rgb - rgb.min()) / (rgb.max() - rgb.min()) * 255).astype('uint8')\n",
    "  return rgb"
   ]
  },
  {
   "cell_type": "code",
   "execution_count": null,
   "metadata": {
    "colab": {
     "base_uri": "https://localhost:8080/",
     "height": 286
    },
    "id": "04LwP5T5eW4x",
    "outputId": "955f7fa0-40a3-400f-b63d-f764e7b24fd0"
   },
   "outputs": [
    {
     "data": {
      "text/plain": [
       "<matplotlib.image.AxesImage at 0x7f2d2c729128>"
      ]
     },
     "execution_count": 12,
     "metadata": {
      "tags": []
     },
     "output_type": "execute_result"
    },
    {
     "data": {
      "image/png": "[encoded data removed]",
      "text/plain": [
       "<Figure size 432x288 with 1 Axes>"
      ]
     },
     "metadata": {
      "needs_background": "light",
      "tags": []
     },
     "output_type": "display_data"
    }
   ],
   "source": [
    "im = get_rgb(folder['1'][0])\n",
    "plt.imshow(im)"
   ]
  },
  {
   "cell_type": "markdown",
   "metadata": {
    "id": "2zqTO6oqBQbo"
   },
   "source": [
    "**Calculating EVI_Two Band For One Image**"
   ]
  },
  {
   "cell_type": "code",
   "execution_count": null,
   "metadata": {
    "id": "fTyd5L2oBQKa"
   },
   "outputs": [],
   "source": [
    "# reading the rasters\n",
    "image_bf = rio.open(folder['1'][0])\n",
    "image_af = rio.open(folder['1'][1])"
   ]
  },
  {
   "cell_type": "code",
   "execution_count": null,
   "metadata": {
    "id": "mLXPpaS0BP-q"
   },
   "outputs": [],
   "source": [
    "#reading the bands\n",
    "bf_red =  image_bf.read(4)\n",
    "bf_nir =  image_bf.read(8)\n",
    "af_red =  image_af.read(4)\n",
    "af_nir =  image_af.read(8)"
   ]
  },
  {
   "cell_type": "code",
   "execution_count": null,
   "metadata": {
    "id": "MPrwhlWtCMg6"
   },
   "outputs": [],
   "source": [
    "#calculating EVI\n",
    "bf_EVI2 = 2.5 * (( bf_nir.astype(float) - bf_red.astype(float)) / (bf_nir.astype(float) + 2.4* bf_red.astype(float) + 1))"
   ]
  },
  {
   "cell_type": "code",
   "execution_count": null,
   "metadata": {
    "colab": {
     "base_uri": "https://localhost:8080/"
    },
    "id": "kDXvKNfCCbL7",
    "outputId": "27d0ce23-dccd-40e0-9e14-41e28abe198d"
   },
   "outputs": [
    {
     "data": {
      "text/plain": [
       "(0.2733134920634921, 1.8480602489006002)"
      ]
     },
     "execution_count": 26,
     "metadata": {
      "tags": []
     },
     "output_type": "execute_result"
    }
   ],
   "source": [
    "bf_EVI2.min(),bf_EVI2.max()"
   ]
  },
  {
   "cell_type": "code",
   "execution_count": null,
   "metadata": {
    "id": "G139qtZGFj8A"
   },
   "outputs": [],
   "source": [
    "#scaling the array between -1 to 1\n",
    "scaler = MinMaxScaler(feature_range=(-1,1))\n",
    "bf_EVI2 = scaler.fit_transform(bf_EVI2)"
   ]
  },
  {
   "cell_type": "code",
   "execution_count": null,
   "metadata": {
    "colab": {
     "base_uri": "https://localhost:8080/"
    },
    "id": "7N7MfvKYFyR-",
    "outputId": "09f4037c-a593-420a-9410-0163c4b062ee"
   },
   "outputs": [
    {
     "data": {
      "text/plain": [
       "(-1.0000000000000002, 1.0000000000000004)"
      ]
     },
     "execution_count": 28,
     "metadata": {
      "tags": []
     },
     "output_type": "execute_result"
    }
   ],
   "source": [
    "bf_EVI2.min(),bf_EVI2.max()"
   ]
  },
  {
   "cell_type": "code",
   "execution_count": null,
   "metadata": {
    "colab": {
     "base_uri": "https://localhost:8080/"
    },
    "id": "V4ux52a-GDY1",
    "outputId": "509ed9b6-4f05-4573-9e91-6241d7a47da3"
   },
   "outputs": [
    {
     "data": {
      "text/plain": [
       "array([[ 0.42610073,  0.86914445,  0.81447872, ...,  0.30452447,\n",
       "         0.45149872,  0.46263024],\n",
       "       [ 0.72857651,  0.86670018,  0.56147893, ...,  0.342074  ,\n",
       "         0.42235532,  0.54514918],\n",
       "       [ 0.76708176,  0.66300422,  0.45576261, ...,  0.34196751,\n",
       "         0.51493285,  0.59655538],\n",
       "       ...,\n",
       "       [ 0.17914477,  0.50241152,  0.63128729, ..., -0.87251278,\n",
       "        -0.74067854, -0.51832476],\n",
       "       [ 0.15887131,  0.65962663,  0.71457812, ..., -0.97724635,\n",
       "        -0.48452428, -0.21655522],\n",
       "       [ 0.28750501,  0.76655795,  0.7404806 , ..., -0.3700538 ,\n",
       "        -0.08986561, -0.11386201]])"
      ]
     },
     "execution_count": 29,
     "metadata": {
      "tags": []
     },
     "output_type": "execute_result"
    }
   ],
   "source": [
    "bf_EVI2"
   ]
  },
  {
   "cell_type": "markdown",
   "metadata": {
    "id": "WNaIQtQ8OOiG"
   },
   "source": [
    "**Damage Assessment using EVI difference**\n",
    "\n",
    "The idea is to use the EVI difference to categorize the pixels by the degree of damage. The following approach has been used:\n",
    "- low damage - EVI 0.01 to 0.2\n",
    "- Moderate damage - EVI > 0.2 to < 0.5\n",
    "- High damage - EVI > 0.5"
   ]
  },
  {
   "cell_type": "code",
   "execution_count": null,
   "metadata": {
    "id": "tVoSoklMoVXb"
   },
   "outputs": [],
   "source": [
    "def veg_calc(mask,degree):\n",
    "  #getting the total area of damage\n",
    "  if degree == 'total':\n",
    "    total = 0\n",
    "    for i in range(mask.shape[0]):\n",
    "      for j in range(mask.shape[0]):\n",
    "          if mask[i][j] >= 0.01:\n",
    "              total += 1\n",
    "\n",
    "    return total * 0.01\n",
    "\n",
    "  # calculating the areas with low damage\n",
    "  elif degree == 'low':\n",
    "    low = 0\n",
    "    for i in range(mask.shape[0]):\n",
    "        for j in range(mask.shape[0]):\n",
    "            if mask[i][j] >= 0.01 and mask[i][j] <0.2 :\n",
    "                low += 1\n",
    "\n",
    "    return low *0.01\n",
    "  \n",
    "  #calculating the total area in Hectares(Ha) with moderate damage\n",
    "  elif degree == 'moderate':\n",
    "    moderate = 0\n",
    "    for i in range(mask.shape[0]):\n",
    "        for j in range(mask.shape[0]):\n",
    "          #NDVI difference between 0.2 to 0.5\n",
    "          if mask[i][j] >= 0.2 and mask[i][j] <0.5 :\n",
    "                moderate += 1\n",
    "\n",
    "    return moderate * 0.01\n",
    "\n",
    "  #calculating the total area with high damage\n",
    "  elif degree == 'high':\n",
    "    high = 0\n",
    "    for i in range(mask.shape[0]):\n",
    "      for j in range(mask.shape[0]):\n",
    "          if mask[i][j] >= 0.5:\n",
    "              high += 1\n",
    "\n",
    "    return high * 0.01\n"
   ]
  },
  {
   "cell_type": "markdown",
   "metadata": {
    "id": "GorNUX7ePW4G"
   },
   "source": [
    "*Caution:This section takes very long to execute: about 60 minutes. Better ways to optimize the code can be explored.*"
   ]
  },
  {
   "cell_type": "code",
   "execution_count": null,
   "metadata": {
    "colab": {
     "base_uri": "https://localhost:8080/",
     "height": 51
    },
    "id": "bfCkh2OHeN3S",
    "outputId": "24f6297c-cae3-4cb9-997d-5df133698010"
   },
   "outputs": [
    {
     "data": {
      "text/html": [],
      "text/plain": [
       "<IPython.core.display.HTML object>"
      ]
     },
     "metadata": {
      "tags": []
     },
     "output_type": "display_data"
    },
    {
     "data": {
      "text/html": [],
      "text/plain": [
       "<IPython.core.display.HTML object>"
      ]
     },
     "metadata": {
      "tags": []
     },
     "output_type": "display_data"
    },
    {
     "data": {
      "text/html": [],
      "text/plain": [
       "<IPython.core.display.HTML object>"
      ]
     },
     "metadata": {
      "tags": []
     },
     "output_type": "display_data"
    },
    {
     "data": {
      "text/html": [],
      "text/plain": [
       "<IPython.core.display.HTML object>"
      ]
     },
     "metadata": {
      "tags": []
     },
     "output_type": "display_data"
    },
    {
     "data": {
      "text/html": [],
      "text/plain": [
       "<IPython.core.display.HTML object>"
      ]
     },
     "metadata": {
      "tags": []
     },
     "output_type": "display_data"
    },
    {
     "data": {
      "text/html": [],
      "text/plain": [
       "<IPython.core.display.HTML object>"
      ]
     },
     "metadata": {
      "tags": []
     },
     "output_type": "display_data"
    },
    {
     "data": {
      "text/html": [],
      "text/plain": [
       "<IPython.core.display.HTML object>"
      ]
     },
     "metadata": {
      "tags": []
     },
     "output_type": "display_data"
    },
    {
     "data": {
      "text/html": [],
      "text/plain": [
       "<IPython.core.display.HTML object>"
      ]
     },
     "metadata": {
      "tags": []
     },
     "output_type": "display_data"
    },
    {
     "data": {
      "text/html": [],
      "text/plain": [
       "<IPython.core.display.HTML object>"
      ]
     },
     "metadata": {
      "tags": []
     },
     "output_type": "display_data"
    },
    {
     "data": {
      "text/html": [],
      "text/plain": [
       "<IPython.core.display.HTML object>"
      ]
     },
     "metadata": {
      "tags": []
     },
     "output_type": "display_data"
    },
    {
     "data": {
      "text/html": [],
      "text/plain": [
       "<IPython.core.display.HTML object>"
      ]
     },
     "metadata": {
      "tags": []
     },
     "output_type": "display_data"
    },
    {
     "data": {
      "text/html": [],
      "text/plain": [
       "<IPython.core.display.HTML object>"
      ]
     },
     "metadata": {
      "tags": []
     },
     "output_type": "display_data"
    },
    {
     "data": {
      "text/html": [],
      "text/plain": [
       "<IPython.core.display.HTML object>"
      ]
     },
     "metadata": {
      "tags": []
     },
     "output_type": "display_data"
    },
    {
     "data": {
      "text/html": [],
      "text/plain": [
       "<IPython.core.display.HTML object>"
      ]
     },
     "metadata": {
      "tags": []
     },
     "output_type": "display_data"
    },
    {
     "data": {
      "text/html": [],
      "text/plain": [
       "<IPython.core.display.HTML object>"
      ]
     },
     "metadata": {
      "tags": []
     },
     "output_type": "display_data"
    },
    {
     "data": {
      "text/html": [],
      "text/plain": [
       "<IPython.core.display.HTML object>"
      ]
     },
     "metadata": {
      "tags": []
     },
     "output_type": "display_data"
    },
    {
     "data": {
      "text/html": [],
      "text/plain": [
       "<IPython.core.display.HTML object>"
      ]
     },
     "metadata": {
      "tags": []
     },
     "output_type": "display_data"
    },
    {
     "data": {
      "text/html": [],
      "text/plain": [
       "<IPython.core.display.HTML object>"
      ]
     },
     "metadata": {
      "tags": []
     },
     "output_type": "display_data"
    },
    {
     "data": {
      "text/html": [],
      "text/plain": [
       "<IPython.core.display.HTML object>"
      ]
     },
     "metadata": {
      "tags": []
     },
     "output_type": "display_data"
    },
    {
     "data": {
      "text/html": [],
      "text/plain": [
       "<IPython.core.display.HTML object>"
      ]
     },
     "metadata": {
      "tags": []
     },
     "output_type": "display_data"
    },
    {
     "data": {
      "text/html": [],
      "text/plain": [
       "<IPython.core.display.HTML object>"
      ]
     },
     "metadata": {
      "tags": []
     },
     "output_type": "display_data"
    },
    {
     "data": {
      "text/html": [],
      "text/plain": [
       "<IPython.core.display.HTML object>"
      ]
     },
     "metadata": {
      "tags": []
     },
     "output_type": "display_data"
    },
    {
     "data": {
      "text/html": [],
      "text/plain": [
       "<IPython.core.display.HTML object>"
      ]
     },
     "metadata": {
      "tags": []
     },
     "output_type": "display_data"
    },
    {
     "data": {
      "text/html": [],
      "text/plain": [
       "<IPython.core.display.HTML object>"
      ]
     },
     "metadata": {
      "tags": []
     },
     "output_type": "display_data"
    },
    {
     "data": {
      "text/html": [],
      "text/plain": [
       "<IPython.core.display.HTML object>"
      ]
     },
     "metadata": {
      "tags": []
     },
     "output_type": "display_data"
    },
    {
     "data": {
      "text/html": [],
      "text/plain": [
       "<IPython.core.display.HTML object>"
      ]
     },
     "metadata": {
      "tags": []
     },
     "output_type": "display_data"
    },
    {
     "data": {
      "text/html": [],
      "text/plain": [
       "<IPython.core.display.HTML object>"
      ]
     },
     "metadata": {
      "tags": []
     },
     "output_type": "display_data"
    },
    {
     "data": {
      "text/html": [],
      "text/plain": [
       "<IPython.core.display.HTML object>"
      ]
     },
     "metadata": {
      "tags": []
     },
     "output_type": "display_data"
    },
    {
     "data": {
      "text/html": [],
      "text/plain": [
       "<IPython.core.display.HTML object>"
      ]
     },
     "metadata": {
      "tags": []
     },
     "output_type": "display_data"
    },
    {
     "data": {
      "text/html": [],
      "text/plain": [
       "<IPython.core.display.HTML object>"
      ]
     },
     "metadata": {
      "tags": []
     },
     "output_type": "display_data"
    },
    {
     "data": {
      "text/html": [],
      "text/plain": [
       "<IPython.core.display.HTML object>"
      ]
     },
     "metadata": {
      "tags": []
     },
     "output_type": "display_data"
    },
    {
     "data": {
      "text/html": [],
      "text/plain": [
       "<IPython.core.display.HTML object>"
      ]
     },
     "metadata": {
      "tags": []
     },
     "output_type": "display_data"
    },
    {
     "data": {
      "text/html": [],
      "text/plain": [
       "<IPython.core.display.HTML object>"
      ]
     },
     "metadata": {
      "tags": []
     },
     "output_type": "display_data"
    },
    {
     "data": {
      "text/html": [],
      "text/plain": [
       "<IPython.core.display.HTML object>"
      ]
     },
     "metadata": {
      "tags": []
     },
     "output_type": "display_data"
    },
    {
     "data": {
      "text/html": [],
      "text/plain": [
       "<IPython.core.display.HTML object>"
      ]
     },
     "metadata": {
      "tags": []
     },
     "output_type": "display_data"
    },
    {
     "data": {
      "text/html": [],
      "text/plain": [
       "<IPython.core.display.HTML object>"
      ]
     },
     "metadata": {
      "tags": []
     },
     "output_type": "display_data"
    },
    {
     "data": {
      "text/html": [],
      "text/plain": [
       "<IPython.core.display.HTML object>"
      ]
     },
     "metadata": {
      "tags": []
     },
     "output_type": "display_data"
    },
    {
     "data": {
      "text/html": [],
      "text/plain": [
       "<IPython.core.display.HTML object>"
      ]
     },
     "metadata": {
      "tags": []
     },
     "output_type": "display_data"
    },
    {
     "data": {
      "text/html": [],
      "text/plain": [
       "<IPython.core.display.HTML object>"
      ]
     },
     "metadata": {
      "tags": []
     },
     "output_type": "display_data"
    },
    {
     "data": {
      "text/html": [],
      "text/plain": [
       "<IPython.core.display.HTML object>"
      ]
     },
     "metadata": {
      "tags": []
     },
     "output_type": "display_data"
    },
    {
     "data": {
      "text/html": [],
      "text/plain": [
       "<IPython.core.display.HTML object>"
      ]
     },
     "metadata": {
      "tags": []
     },
     "output_type": "display_data"
    },
    {
     "data": {
      "text/html": [],
      "text/plain": [
       "<IPython.core.display.HTML object>"
      ]
     },
     "metadata": {
      "tags": []
     },
     "output_type": "display_data"
    },
    {
     "data": {
      "text/html": [],
      "text/plain": [
       "<IPython.core.display.HTML object>"
      ]
     },
     "metadata": {
      "tags": []
     },
     "output_type": "display_data"
    },
    {
     "data": {
      "text/html": [],
      "text/plain": [
       "<IPython.core.display.HTML object>"
      ]
     },
     "metadata": {
      "tags": []
     },
     "output_type": "display_data"
    },
    {
     "data": {
      "text/html": [],
      "text/plain": [
       "<IPython.core.display.HTML object>"
      ]
     },
     "metadata": {
      "tags": []
     },
     "output_type": "display_data"
    },
    {
     "data": {
      "text/html": [],
      "text/plain": [
       "<IPython.core.display.HTML object>"
      ]
     },
     "metadata": {
      "tags": []
     },
     "output_type": "display_data"
    },
    {
     "data": {
      "text/html": [],
      "text/plain": [
       "<IPython.core.display.HTML object>"
      ]
     },
     "metadata": {
      "tags": []
     },
     "output_type": "display_data"
    },
    {
     "data": {
      "text/html": [],
      "text/plain": [
       "<IPython.core.display.HTML object>"
      ]
     },
     "metadata": {
      "tags": []
     },
     "output_type": "display_data"
    },
    {
     "data": {
      "text/html": [],
      "text/plain": [
       "<IPython.core.display.HTML object>"
      ]
     },
     "metadata": {
      "tags": []
     },
     "output_type": "display_data"
    },
    {
     "data": {
      "text/html": [],
      "text/plain": [
       "<IPython.core.display.HTML object>"
      ]
     },
     "metadata": {
      "tags": []
     },
     "output_type": "display_data"
    },
    {
     "data": {
      "text/html": [],
      "text/plain": [
       "<IPython.core.display.HTML object>"
      ]
     },
     "metadata": {
      "tags": []
     },
     "output_type": "display_data"
    },
    {
     "data": {
      "text/html": [],
      "text/plain": [
       "<IPython.core.display.HTML object>"
      ]
     },
     "metadata": {
      "tags": []
     },
     "output_type": "display_data"
    },
    {
     "data": {
      "text/html": [],
      "text/plain": [
       "<IPython.core.display.HTML object>"
      ]
     },
     "metadata": {
      "tags": []
     },
     "output_type": "display_data"
    },
    {
     "data": {
      "text/html": [],
      "text/plain": [
       "<IPython.core.display.HTML object>"
      ]
     },
     "metadata": {
      "tags": []
     },
     "output_type": "display_data"
    },
    {
     "data": {
      "text/html": [],
      "text/plain": [
       "<IPython.core.display.HTML object>"
      ]
     },
     "metadata": {
      "tags": []
     },
     "output_type": "display_data"
    },
    {
     "data": {
      "text/html": [],
      "text/plain": [
       "<IPython.core.display.HTML object>"
      ]
     },
     "metadata": {
      "tags": []
     },
     "output_type": "display_data"
    },
    {
     "data": {
      "text/html": [],
      "text/plain": [
       "<IPython.core.display.HTML object>"
      ]
     },
     "metadata": {
      "tags": []
     },
     "output_type": "display_data"
    },
    {
     "data": {
      "text/html": [],
      "text/plain": [
       "<IPython.core.display.HTML object>"
      ]
     },
     "metadata": {
      "tags": []
     },
     "output_type": "display_data"
    },
    {
     "data": {
      "text/html": [],
      "text/plain": [
       "<IPython.core.display.HTML object>"
      ]
     },
     "metadata": {
      "tags": []
     },
     "output_type": "display_data"
    },
    {
     "data": {
      "text/html": [],
      "text/plain": [
       "<IPython.core.display.HTML object>"
      ]
     },
     "metadata": {
      "tags": []
     },
     "output_type": "display_data"
    },
    {
     "data": {
      "text/html": [],
      "text/plain": [
       "<IPython.core.display.HTML object>"
      ]
     },
     "metadata": {
      "tags": []
     },
     "output_type": "display_data"
    },
    {
     "data": {
      "text/html": [],
      "text/plain": [
       "<IPython.core.display.HTML object>"
      ]
     },
     "metadata": {
      "tags": []
     },
     "output_type": "display_data"
    },
    {
     "data": {
      "text/html": [],
      "text/plain": [
       "<IPython.core.display.HTML object>"
      ]
     },
     "metadata": {
      "tags": []
     },
     "output_type": "display_data"
    },
    {
     "data": {
      "text/html": [],
      "text/plain": [
       "<IPython.core.display.HTML object>"
      ]
     },
     "metadata": {
      "tags": []
     },
     "output_type": "display_data"
    },
    {
     "data": {
      "text/html": [],
      "text/plain": [
       "<IPython.core.display.HTML object>"
      ]
     },
     "metadata": {
      "tags": []
     },
     "output_type": "display_data"
    },
    {
     "data": {
      "text/html": [],
      "text/plain": [
       "<IPython.core.display.HTML object>"
      ]
     },
     "metadata": {
      "tags": []
     },
     "output_type": "display_data"
    },
    {
     "data": {
      "text/html": [],
      "text/plain": [
       "<IPython.core.display.HTML object>"
      ]
     },
     "metadata": {
      "tags": []
     },
     "output_type": "display_data"
    },
    {
     "data": {
      "text/html": [],
      "text/plain": [
       "<IPython.core.display.HTML object>"
      ]
     },
     "metadata": {
      "tags": []
     },
     "output_type": "display_data"
    },
    {
     "data": {
      "text/html": [],
      "text/plain": [
       "<IPython.core.display.HTML object>"
      ]
     },
     "metadata": {
      "tags": []
     },
     "output_type": "display_data"
    },
    {
     "data": {
      "text/html": [],
      "text/plain": [
       "<IPython.core.display.HTML object>"
      ]
     },
     "metadata": {
      "tags": []
     },
     "output_type": "display_data"
    },
    {
     "data": {
      "text/html": [],
      "text/plain": [
       "<IPython.core.display.HTML object>"
      ]
     },
     "metadata": {
      "tags": []
     },
     "output_type": "display_data"
    },
    {
     "data": {
      "text/html": [],
      "text/plain": [
       "<IPython.core.display.HTML object>"
      ]
     },
     "metadata": {
      "tags": []
     },
     "output_type": "display_data"
    },
    {
     "data": {
      "text/html": [],
      "text/plain": [
       "<IPython.core.display.HTML object>"
      ]
     },
     "metadata": {
      "tags": []
     },
     "output_type": "display_data"
    },
    {
     "data": {
      "text/html": [],
      "text/plain": [
       "<IPython.core.display.HTML object>"
      ]
     },
     "metadata": {
      "tags": []
     },
     "output_type": "display_data"
    },
    {
     "data": {
      "text/html": [],
      "text/plain": [
       "<IPython.core.display.HTML object>"
      ]
     },
     "metadata": {
      "tags": []
     },
     "output_type": "display_data"
    },
    {
     "data": {
      "text/html": [],
      "text/plain": [
       "<IPython.core.display.HTML object>"
      ]
     },
     "metadata": {
      "tags": []
     },
     "output_type": "display_data"
    },
    {
     "data": {
      "text/html": [],
      "text/plain": [
       "<IPython.core.display.HTML object>"
      ]
     },
     "metadata": {
      "tags": []
     },
     "output_type": "display_data"
    },
    {
     "data": {
      "text/html": [],
      "text/plain": [
       "<IPython.core.display.HTML object>"
      ]
     },
     "metadata": {
      "tags": []
     },
     "output_type": "display_data"
    },
    {
     "data": {
      "text/html": [],
      "text/plain": [
       "<IPython.core.display.HTML object>"
      ]
     },
     "metadata": {
      "tags": []
     },
     "output_type": "display_data"
    },
    {
     "data": {
      "text/html": [],
      "text/plain": [
       "<IPython.core.display.HTML object>"
      ]
     },
     "metadata": {
      "tags": []
     },
     "output_type": "display_data"
    },
    {
     "data": {
      "text/html": [],
      "text/plain": [
       "<IPython.core.display.HTML object>"
      ]
     },
     "metadata": {
      "tags": []
     },
     "output_type": "display_data"
    },
    {
     "data": {
      "text/html": [],
      "text/plain": [
       "<IPython.core.display.HTML object>"
      ]
     },
     "metadata": {
      "tags": []
     },
     "output_type": "display_data"
    },
    {
     "data": {
      "text/html": [],
      "text/plain": [
       "<IPython.core.display.HTML object>"
      ]
     },
     "metadata": {
      "tags": []
     },
     "output_type": "display_data"
    },
    {
     "data": {
      "text/html": [],
      "text/plain": [
       "<IPython.core.display.HTML object>"
      ]
     },
     "metadata": {
      "tags": []
     },
     "output_type": "display_data"
    },
    {
     "data": {
      "text/html": [],
      "text/plain": [
       "<IPython.core.display.HTML object>"
      ]
     },
     "metadata": {
      "tags": []
     },
     "output_type": "display_data"
    },
    {
     "data": {
      "text/html": [],
      "text/plain": [
       "<IPython.core.display.HTML object>"
      ]
     },
     "metadata": {
      "tags": []
     },
     "output_type": "display_data"
    },
    {
     "data": {
      "text/html": [],
      "text/plain": [
       "<IPython.core.display.HTML object>"
      ]
     },
     "metadata": {
      "tags": []
     },
     "output_type": "display_data"
    },
    {
     "data": {
      "text/html": [],
      "text/plain": [
       "<IPython.core.display.HTML object>"
      ]
     },
     "metadata": {
      "tags": []
     },
     "output_type": "display_data"
    },
    {
     "data": {
      "text/html": [],
      "text/plain": [
       "<IPython.core.display.HTML object>"
      ]
     },
     "metadata": {
      "tags": []
     },
     "output_type": "display_data"
    },
    {
     "data": {
      "text/html": [],
      "text/plain": [
       "<IPython.core.display.HTML object>"
      ]
     },
     "metadata": {
      "tags": []
     },
     "output_type": "display_data"
    },
    {
     "data": {
      "text/html": [],
      "text/plain": [
       "<IPython.core.display.HTML object>"
      ]
     },
     "metadata": {
      "tags": []
     },
     "output_type": "display_data"
    },
    {
     "data": {
      "text/html": [],
      "text/plain": [
       "<IPython.core.display.HTML object>"
      ]
     },
     "metadata": {
      "tags": []
     },
     "output_type": "display_data"
    },
    {
     "data": {
      "text/html": [],
      "text/plain": [
       "<IPython.core.display.HTML object>"
      ]
     },
     "metadata": {
      "tags": []
     },
     "output_type": "display_data"
    },
    {
     "data": {
      "text/html": [],
      "text/plain": [
       "<IPython.core.display.HTML object>"
      ]
     },
     "metadata": {
      "tags": []
     },
     "output_type": "display_data"
    },
    {
     "data": {
      "text/html": [],
      "text/plain": [
       "<IPython.core.display.HTML object>"
      ]
     },
     "metadata": {
      "tags": []
     },
     "output_type": "display_data"
    },
    {
     "data": {
      "text/html": [],
      "text/plain": [
       "<IPython.core.display.HTML object>"
      ]
     },
     "metadata": {
      "tags": []
     },
     "output_type": "display_data"
    },
    {
     "data": {
      "text/html": [],
      "text/plain": [
       "<IPython.core.display.HTML object>"
      ]
     },
     "metadata": {
      "tags": []
     },
     "output_type": "display_data"
    },
    {
     "data": {
      "text/html": [],
      "text/plain": [
       "<IPython.core.display.HTML object>"
      ]
     },
     "metadata": {
      "tags": []
     },
     "output_type": "display_data"
    },
    {
     "data": {
      "text/html": [],
      "text/plain": [
       "<IPython.core.display.HTML object>"
      ]
     },
     "metadata": {
      "tags": []
     },
     "output_type": "display_data"
    },
    {
     "data": {
      "text/html": [],
      "text/plain": [
       "<IPython.core.display.HTML object>"
      ]
     },
     "metadata": {
      "tags": []
     },
     "output_type": "display_data"
    },
    {
     "data": {
      "text/html": [],
      "text/plain": [
       "<IPython.core.display.HTML object>"
      ]
     },
     "metadata": {
      "tags": []
     },
     "output_type": "display_data"
    },
    {
     "data": {
      "text/html": [],
      "text/plain": [
       "<IPython.core.display.HTML object>"
      ]
     },
     "metadata": {
      "tags": []
     },
     "output_type": "display_data"
    },
    {
     "data": {
      "text/html": [],
      "text/plain": [
       "<IPython.core.display.HTML object>"
      ]
     },
     "metadata": {
      "tags": []
     },
     "output_type": "display_data"
    },
    {
     "data": {
      "text/html": [],
      "text/plain": [
       "<IPython.core.display.HTML object>"
      ]
     },
     "metadata": {
      "tags": []
     },
     "output_type": "display_data"
    },
    {
     "data": {
      "text/html": [],
      "text/plain": [
       "<IPython.core.display.HTML object>"
      ]
     },
     "metadata": {
      "tags": []
     },
     "output_type": "display_data"
    },
    {
     "data": {
      "text/html": [],
      "text/plain": [
       "<IPython.core.display.HTML object>"
      ]
     },
     "metadata": {
      "tags": []
     },
     "output_type": "display_data"
    },
    {
     "data": {
      "text/html": [],
      "text/plain": [
       "<IPython.core.display.HTML object>"
      ]
     },
     "metadata": {
      "tags": []
     },
     "output_type": "display_data"
    },
    {
     "data": {
      "text/html": [],
      "text/plain": [
       "<IPython.core.display.HTML object>"
      ]
     },
     "metadata": {
      "tags": []
     },
     "output_type": "display_data"
    },
    {
     "data": {
      "text/html": [],
      "text/plain": [
       "<IPython.core.display.HTML object>"
      ]
     },
     "metadata": {
      "tags": []
     },
     "output_type": "display_data"
    },
    {
     "data": {
      "text/html": [],
      "text/plain": [
       "<IPython.core.display.HTML object>"
      ]
     },
     "metadata": {
      "tags": []
     },
     "output_type": "display_data"
    },
    {
     "data": {
      "text/html": [],
      "text/plain": [
       "<IPython.core.display.HTML object>"
      ]
     },
     "metadata": {
      "tags": []
     },
     "output_type": "display_data"
    },
    {
     "data": {
      "text/html": [],
      "text/plain": [
       "<IPython.core.display.HTML object>"
      ]
     },
     "metadata": {
      "tags": []
     },
     "output_type": "display_data"
    },
    {
     "data": {
      "text/html": [],
      "text/plain": [
       "<IPython.core.display.HTML object>"
      ]
     },
     "metadata": {
      "tags": []
     },
     "output_type": "display_data"
    },
    {
     "data": {
      "text/html": [],
      "text/plain": [
       "<IPython.core.display.HTML object>"
      ]
     },
     "metadata": {
      "tags": []
     },
     "output_type": "display_data"
    },
    {
     "data": {
      "text/html": [],
      "text/plain": [
       "<IPython.core.display.HTML object>"
      ]
     },
     "metadata": {
      "tags": []
     },
     "output_type": "display_data"
    },
    {
     "data": {
      "text/html": [],
      "text/plain": [
       "<IPython.core.display.HTML object>"
      ]
     },
     "metadata": {
      "tags": []
     },
     "output_type": "display_data"
    },
    {
     "data": {
      "text/html": [],
      "text/plain": [
       "<IPython.core.display.HTML object>"
      ]
     },
     "metadata": {
      "tags": []
     },
     "output_type": "display_data"
    },
    {
     "data": {
      "text/html": [],
      "text/plain": [
       "<IPython.core.display.HTML object>"
      ]
     },
     "metadata": {
      "tags": []
     },
     "output_type": "display_data"
    },
    {
     "data": {
      "text/html": [],
      "text/plain": [
       "<IPython.core.display.HTML object>"
      ]
     },
     "metadata": {
      "tags": []
     },
     "output_type": "display_data"
    },
    {
     "data": {
      "text/html": [],
      "text/plain": [
       "<IPython.core.display.HTML object>"
      ]
     },
     "metadata": {
      "tags": []
     },
     "output_type": "display_data"
    },
    {
     "data": {
      "text/html": [],
      "text/plain": [
       "<IPython.core.display.HTML object>"
      ]
     },
     "metadata": {
      "tags": []
     },
     "output_type": "display_data"
    },
    {
     "data": {
      "text/html": [],
      "text/plain": [
       "<IPython.core.display.HTML object>"
      ]
     },
     "metadata": {
      "tags": []
     },
     "output_type": "display_data"
    },
    {
     "data": {
      "text/html": [],
      "text/plain": [
       "<IPython.core.display.HTML object>"
      ]
     },
     "metadata": {
      "tags": []
     },
     "output_type": "display_data"
    },
    {
     "data": {
      "text/html": [],
      "text/plain": [
       "<IPython.core.display.HTML object>"
      ]
     },
     "metadata": {
      "tags": []
     },
     "output_type": "display_data"
    },
    {
     "data": {
      "text/html": [],
      "text/plain": [
       "<IPython.core.display.HTML object>"
      ]
     },
     "metadata": {
      "tags": []
     },
     "output_type": "display_data"
    },
    {
     "data": {
      "text/html": [],
      "text/plain": [
       "<IPython.core.display.HTML object>"
      ]
     },
     "metadata": {
      "tags": []
     },
     "output_type": "display_data"
    },
    {
     "data": {
      "text/html": [],
      "text/plain": [
       "<IPython.core.display.HTML object>"
      ]
     },
     "metadata": {
      "tags": []
     },
     "output_type": "display_data"
    },
    {
     "data": {
      "text/html": [],
      "text/plain": [
       "<IPython.core.display.HTML object>"
      ]
     },
     "metadata": {
      "tags": []
     },
     "output_type": "display_data"
    },
    {
     "data": {
      "text/html": [],
      "text/plain": [
       "<IPython.core.display.HTML object>"
      ]
     },
     "metadata": {
      "tags": []
     },
     "output_type": "display_data"
    },
    {
     "data": {
      "text/html": [],
      "text/plain": [
       "<IPython.core.display.HTML object>"
      ]
     },
     "metadata": {
      "tags": []
     },
     "output_type": "display_data"
    },
    {
     "data": {
      "text/html": [],
      "text/plain": [
       "<IPython.core.display.HTML object>"
      ]
     },
     "metadata": {
      "tags": []
     },
     "output_type": "display_data"
    },
    {
     "data": {
      "text/html": [],
      "text/plain": [
       "<IPython.core.display.HTML object>"
      ]
     },
     "metadata": {
      "tags": []
     },
     "output_type": "display_data"
    },
    {
     "data": {
      "text/html": [],
      "text/plain": [
       "<IPython.core.display.HTML object>"
      ]
     },
     "metadata": {
      "tags": []
     },
     "output_type": "display_data"
    },
    {
     "data": {
      "text/html": [],
      "text/plain": [
       "<IPython.core.display.HTML object>"
      ]
     },
     "metadata": {
      "tags": []
     },
     "output_type": "display_data"
    },
    {
     "data": {
      "text/html": [],
      "text/plain": [
       "<IPython.core.display.HTML object>"
      ]
     },
     "metadata": {
      "tags": []
     },
     "output_type": "display_data"
    },
    {
     "data": {
      "text/html": [],
      "text/plain": [
       "<IPython.core.display.HTML object>"
      ]
     },
     "metadata": {
      "tags": []
     },
     "output_type": "display_data"
    },
    {
     "data": {
      "text/html": [],
      "text/plain": [
       "<IPython.core.display.HTML object>"
      ]
     },
     "metadata": {
      "tags": []
     },
     "output_type": "display_data"
    },
    {
     "data": {
      "text/html": [],
      "text/plain": [
       "<IPython.core.display.HTML object>"
      ]
     },
     "metadata": {
      "tags": []
     },
     "output_type": "display_data"
    },
    {
     "data": {
      "text/html": [],
      "text/plain": [
       "<IPython.core.display.HTML object>"
      ]
     },
     "metadata": {
      "tags": []
     },
     "output_type": "display_data"
    },
    {
     "data": {
      "text/html": [],
      "text/plain": [
       "<IPython.core.display.HTML object>"
      ]
     },
     "metadata": {
      "tags": []
     },
     "output_type": "display_data"
    },
    {
     "data": {
      "text/html": [],
      "text/plain": [
       "<IPython.core.display.HTML object>"
      ]
     },
     "metadata": {
      "tags": []
     },
     "output_type": "display_data"
    },
    {
     "data": {
      "text/html": [],
      "text/plain": [
       "<IPython.core.display.HTML object>"
      ]
     },
     "metadata": {
      "tags": []
     },
     "output_type": "display_data"
    },
    {
     "data": {
      "text/html": [],
      "text/plain": [
       "<IPython.core.display.HTML object>"
      ]
     },
     "metadata": {
      "tags": []
     },
     "output_type": "display_data"
    },
    {
     "data": {
      "text/html": [],
      "text/plain": [
       "<IPython.core.display.HTML object>"
      ]
     },
     "metadata": {
      "tags": []
     },
     "output_type": "display_data"
    },
    {
     "data": {
      "text/html": [],
      "text/plain": [
       "<IPython.core.display.HTML object>"
      ]
     },
     "metadata": {
      "tags": []
     },
     "output_type": "display_data"
    },
    {
     "data": {
      "text/html": [],
      "text/plain": [
       "<IPython.core.display.HTML object>"
      ]
     },
     "metadata": {
      "tags": []
     },
     "output_type": "display_data"
    },
    {
     "data": {
      "text/html": [],
      "text/plain": [
       "<IPython.core.display.HTML object>"
      ]
     },
     "metadata": {
      "tags": []
     },
     "output_type": "display_data"
    },
    {
     "data": {
      "text/html": [],
      "text/plain": [
       "<IPython.core.display.HTML object>"
      ]
     },
     "metadata": {
      "tags": []
     },
     "output_type": "display_data"
    },
    {
     "data": {
      "text/html": [],
      "text/plain": [
       "<IPython.core.display.HTML object>"
      ]
     },
     "metadata": {
      "tags": []
     },
     "output_type": "display_data"
    },
    {
     "data": {
      "text/html": [],
      "text/plain": [
       "<IPython.core.display.HTML object>"
      ]
     },
     "metadata": {
      "tags": []
     },
     "output_type": "display_data"
    },
    {
     "data": {
      "text/html": [],
      "text/plain": [
       "<IPython.core.display.HTML object>"
      ]
     },
     "metadata": {
      "tags": []
     },
     "output_type": "display_data"
    },
    {
     "data": {
      "text/html": [],
      "text/plain": [
       "<IPython.core.display.HTML object>"
      ]
     },
     "metadata": {
      "tags": []
     },
     "output_type": "display_data"
    },
    {
     "data": {
      "text/html": [],
      "text/plain": [
       "<IPython.core.display.HTML object>"
      ]
     },
     "metadata": {
      "tags": []
     },
     "output_type": "display_data"
    },
    {
     "data": {
      "text/html": [],
      "text/plain": [
       "<IPython.core.display.HTML object>"
      ]
     },
     "metadata": {
      "tags": []
     },
     "output_type": "display_data"
    },
    {
     "data": {
      "text/html": [],
      "text/plain": [
       "<IPython.core.display.HTML object>"
      ]
     },
     "metadata": {
      "tags": []
     },
     "output_type": "display_data"
    },
    {
     "data": {
      "text/html": [],
      "text/plain": [
       "<IPython.core.display.HTML object>"
      ]
     },
     "metadata": {
      "tags": []
     },
     "output_type": "display_data"
    },
    {
     "data": {
      "text/html": [],
      "text/plain": [
       "<IPython.core.display.HTML object>"
      ]
     },
     "metadata": {
      "tags": []
     },
     "output_type": "display_data"
    },
    {
     "data": {
      "text/html": [],
      "text/plain": [
       "<IPython.core.display.HTML object>"
      ]
     },
     "metadata": {
      "tags": []
     },
     "output_type": "display_data"
    },
    {
     "data": {
      "text/html": [],
      "text/plain": [
       "<IPython.core.display.HTML object>"
      ]
     },
     "metadata": {
      "tags": []
     },
     "output_type": "display_data"
    },
    {
     "data": {
      "text/html": [],
      "text/plain": [
       "<IPython.core.display.HTML object>"
      ]
     },
     "metadata": {
      "tags": []
     },
     "output_type": "display_data"
    },
    {
     "data": {
      "text/html": [],
      "text/plain": [
       "<IPython.core.display.HTML object>"
      ]
     },
     "metadata": {
      "tags": []
     },
     "output_type": "display_data"
    },
    {
     "data": {
      "text/html": [],
      "text/plain": [
       "<IPython.core.display.HTML object>"
      ]
     },
     "metadata": {
      "tags": []
     },
     "output_type": "display_data"
    },
    {
     "data": {
      "text/html": [],
      "text/plain": [
       "<IPython.core.display.HTML object>"
      ]
     },
     "metadata": {
      "tags": []
     },
     "output_type": "display_data"
    },
    {
     "data": {
      "text/html": [],
      "text/plain": [
       "<IPython.core.display.HTML object>"
      ]
     },
     "metadata": {
      "tags": []
     },
     "output_type": "display_data"
    },
    {
     "data": {
      "text/html": [],
      "text/plain": [
       "<IPython.core.display.HTML object>"
      ]
     },
     "metadata": {
      "tags": []
     },
     "output_type": "display_data"
    },
    {
     "data": {
      "text/html": [],
      "text/plain": [
       "<IPython.core.display.HTML object>"
      ]
     },
     "metadata": {
      "tags": []
     },
     "output_type": "display_data"
    },
    {
     "data": {
      "text/html": [],
      "text/plain": [
       "<IPython.core.display.HTML object>"
      ]
     },
     "metadata": {
      "tags": []
     },
     "output_type": "display_data"
    },
    {
     "data": {
      "text/html": [],
      "text/plain": [
       "<IPython.core.display.HTML object>"
      ]
     },
     "metadata": {
      "tags": []
     },
     "output_type": "display_data"
    },
    {
     "data": {
      "text/html": [],
      "text/plain": [
       "<IPython.core.display.HTML object>"
      ]
     },
     "metadata": {
      "tags": []
     },
     "output_type": "display_data"
    },
    {
     "data": {
      "text/html": [],
      "text/plain": [
       "<IPython.core.display.HTML object>"
      ]
     },
     "metadata": {
      "tags": []
     },
     "output_type": "display_data"
    },
    {
     "data": {
      "text/html": [],
      "text/plain": [
       "<IPython.core.display.HTML object>"
      ]
     },
     "metadata": {
      "tags": []
     },
     "output_type": "display_data"
    },
    {
     "data": {
      "text/html": [],
      "text/plain": [
       "<IPython.core.display.HTML object>"
      ]
     },
     "metadata": {
      "tags": []
     },
     "output_type": "display_data"
    },
    {
     "data": {
      "text/html": [],
      "text/plain": [
       "<IPython.core.display.HTML object>"
      ]
     },
     "metadata": {
      "tags": []
     },
     "output_type": "display_data"
    },
    {
     "data": {
      "text/html": [],
      "text/plain": [
       "<IPython.core.display.HTML object>"
      ]
     },
     "metadata": {
      "tags": []
     },
     "output_type": "display_data"
    },
    {
     "data": {
      "text/html": [],
      "text/plain": [
       "<IPython.core.display.HTML object>"
      ]
     },
     "metadata": {
      "tags": []
     },
     "output_type": "display_data"
    },
    {
     "data": {
      "text/html": [],
      "text/plain": [
       "<IPython.core.display.HTML object>"
      ]
     },
     "metadata": {
      "tags": []
     },
     "output_type": "display_data"
    },
    {
     "data": {
      "text/html": [],
      "text/plain": [
       "<IPython.core.display.HTML object>"
      ]
     },
     "metadata": {
      "tags": []
     },
     "output_type": "display_data"
    },
    {
     "data": {
      "text/html": [],
      "text/plain": [
       "<IPython.core.display.HTML object>"
      ]
     },
     "metadata": {
      "tags": []
     },
     "output_type": "display_data"
    },
    {
     "data": {
      "text/html": [],
      "text/plain": [
       "<IPython.core.display.HTML object>"
      ]
     },
     "metadata": {
      "tags": []
     },
     "output_type": "display_data"
    },
    {
     "data": {
      "text/html": [],
      "text/plain": [
       "<IPython.core.display.HTML object>"
      ]
     },
     "metadata": {
      "tags": []
     },
     "output_type": "display_data"
    },
    {
     "data": {
      "text/html": [],
      "text/plain": [
       "<IPython.core.display.HTML object>"
      ]
     },
     "metadata": {
      "tags": []
     },
     "output_type": "display_data"
    },
    {
     "data": {
      "text/html": [],
      "text/plain": [
       "<IPython.core.display.HTML object>"
      ]
     },
     "metadata": {
      "tags": []
     },
     "output_type": "display_data"
    },
    {
     "data": {
      "text/html": [],
      "text/plain": [
       "<IPython.core.display.HTML object>"
      ]
     },
     "metadata": {
      "tags": []
     },
     "output_type": "display_data"
    },
    {
     "data": {
      "text/html": [],
      "text/plain": [
       "<IPython.core.display.HTML object>"
      ]
     },
     "metadata": {
      "tags": []
     },
     "output_type": "display_data"
    },
    {
     "data": {
      "text/html": [],
      "text/plain": [
       "<IPython.core.display.HTML object>"
      ]
     },
     "metadata": {
      "tags": []
     },
     "output_type": "display_data"
    },
    {
     "data": {
      "text/html": [],
      "text/plain": [
       "<IPython.core.display.HTML object>"
      ]
     },
     "metadata": {
      "tags": []
     },
     "output_type": "display_data"
    },
    {
     "data": {
      "text/html": [],
      "text/plain": [
       "<IPython.core.display.HTML object>"
      ]
     },
     "metadata": {
      "tags": []
     },
     "output_type": "display_data"
    },
    {
     "data": {
      "text/html": [],
      "text/plain": [
       "<IPython.core.display.HTML object>"
      ]
     },
     "metadata": {
      "tags": []
     },
     "output_type": "display_data"
    },
    {
     "data": {
      "text/html": [],
      "text/plain": [
       "<IPython.core.display.HTML object>"
      ]
     },
     "metadata": {
      "tags": []
     },
     "output_type": "display_data"
    },
    {
     "data": {
      "text/html": [],
      "text/plain": [
       "<IPython.core.display.HTML object>"
      ]
     },
     "metadata": {
      "tags": []
     },
     "output_type": "display_data"
    },
    {
     "data": {
      "text/html": [],
      "text/plain": [
       "<IPython.core.display.HTML object>"
      ]
     },
     "metadata": {
      "tags": []
     },
     "output_type": "display_data"
    },
    {
     "data": {
      "text/html": [],
      "text/plain": [
       "<IPython.core.display.HTML object>"
      ]
     },
     "metadata": {
      "tags": []
     },
     "output_type": "display_data"
    },
    {
     "data": {
      "text/html": [],
      "text/plain": [
       "<IPython.core.display.HTML object>"
      ]
     },
     "metadata": {
      "tags": []
     },
     "output_type": "display_data"
    },
    {
     "data": {
      "text/html": [],
      "text/plain": [
       "<IPython.core.display.HTML object>"
      ]
     },
     "metadata": {
      "tags": []
     },
     "output_type": "display_data"
    },
    {
     "data": {
      "text/html": [],
      "text/plain": [
       "<IPython.core.display.HTML object>"
      ]
     },
     "metadata": {
      "tags": []
     },
     "output_type": "display_data"
    },
    {
     "data": {
      "text/html": [],
      "text/plain": [
       "<IPython.core.display.HTML object>"
      ]
     },
     "metadata": {
      "tags": []
     },
     "output_type": "display_data"
    },
    {
     "data": {
      "text/html": [],
      "text/plain": [
       "<IPython.core.display.HTML object>"
      ]
     },
     "metadata": {
      "tags": []
     },
     "output_type": "display_data"
    },
    {
     "data": {
      "text/html": [],
      "text/plain": [
       "<IPython.core.display.HTML object>"
      ]
     },
     "metadata": {
      "tags": []
     },
     "output_type": "display_data"
    },
    {
     "data": {
      "text/html": [],
      "text/plain": [
       "<IPython.core.display.HTML object>"
      ]
     },
     "metadata": {
      "tags": []
     },
     "output_type": "display_data"
    },
    {
     "data": {
      "text/html": [],
      "text/plain": [
       "<IPython.core.display.HTML object>"
      ]
     },
     "metadata": {
      "tags": []
     },
     "output_type": "display_data"
    },
    {
     "data": {
      "text/html": [],
      "text/plain": [
       "<IPython.core.display.HTML object>"
      ]
     },
     "metadata": {
      "tags": []
     },
     "output_type": "display_data"
    },
    {
     "data": {
      "text/html": [],
      "text/plain": [
       "<IPython.core.display.HTML object>"
      ]
     },
     "metadata": {
      "tags": []
     },
     "output_type": "display_data"
    },
    {
     "data": {
      "text/html": [],
      "text/plain": [
       "<IPython.core.display.HTML object>"
      ]
     },
     "metadata": {
      "tags": []
     },
     "output_type": "display_data"
    },
    {
     "data": {
      "text/html": [],
      "text/plain": [
       "<IPython.core.display.HTML object>"
      ]
     },
     "metadata": {
      "tags": []
     },
     "output_type": "display_data"
    },
    {
     "data": {
      "text/html": [],
      "text/plain": [
       "<IPython.core.display.HTML object>"
      ]
     },
     "metadata": {
      "tags": []
     },
     "output_type": "display_data"
    },
    {
     "data": {
      "text/html": [],
      "text/plain": [
       "<IPython.core.display.HTML object>"
      ]
     },
     "metadata": {
      "tags": []
     },
     "output_type": "display_data"
    },
    {
     "data": {
      "text/html": [],
      "text/plain": [
       "<IPython.core.display.HTML object>"
      ]
     },
     "metadata": {
      "tags": []
     },
     "output_type": "display_data"
    },
    {
     "data": {
      "text/html": [],
      "text/plain": [
       "<IPython.core.display.HTML object>"
      ]
     },
     "metadata": {
      "tags": []
     },
     "output_type": "display_data"
    },
    {
     "data": {
      "text/html": [],
      "text/plain": [
       "<IPython.core.display.HTML object>"
      ]
     },
     "metadata": {
      "tags": []
     },
     "output_type": "display_data"
    },
    {
     "data": {
      "text/html": [],
      "text/plain": [
       "<IPython.core.display.HTML object>"
      ]
     },
     "metadata": {
      "tags": []
     },
     "output_type": "display_data"
    },
    {
     "data": {
      "text/html": [],
      "text/plain": [
       "<IPython.core.display.HTML object>"
      ]
     },
     "metadata": {
      "tags": []
     },
     "output_type": "display_data"
    },
    {
     "data": {
      "text/html": [],
      "text/plain": [
       "<IPython.core.display.HTML object>"
      ]
     },
     "metadata": {
      "tags": []
     },
     "output_type": "display_data"
    },
    {
     "data": {
      "text/html": [],
      "text/plain": [
       "<IPython.core.display.HTML object>"
      ]
     },
     "metadata": {
      "tags": []
     },
     "output_type": "display_data"
    },
    {
     "data": {
      "text/html": [],
      "text/plain": [
       "<IPython.core.display.HTML object>"
      ]
     },
     "metadata": {
      "tags": []
     },
     "output_type": "display_data"
    },
    {
     "data": {
      "text/html": [],
      "text/plain": [
       "<IPython.core.display.HTML object>"
      ]
     },
     "metadata": {
      "tags": []
     },
     "output_type": "display_data"
    },
    {
     "data": {
      "text/html": [],
      "text/plain": [
       "<IPython.core.display.HTML object>"
      ]
     },
     "metadata": {
      "tags": []
     },
     "output_type": "display_data"
    },
    {
     "data": {
      "text/html": [],
      "text/plain": [
       "<IPython.core.display.HTML object>"
      ]
     },
     "metadata": {
      "tags": []
     },
     "output_type": "display_data"
    },
    {
     "data": {
      "text/html": [],
      "text/plain": [
       "<IPython.core.display.HTML object>"
      ]
     },
     "metadata": {
      "tags": []
     },
     "output_type": "display_data"
    },
    {
     "data": {
      "text/html": [],
      "text/plain": [
       "<IPython.core.display.HTML object>"
      ]
     },
     "metadata": {
      "tags": []
     },
     "output_type": "display_data"
    },
    {
     "data": {
      "text/html": [],
      "text/plain": [
       "<IPython.core.display.HTML object>"
      ]
     },
     "metadata": {
      "tags": []
     },
     "output_type": "display_data"
    },
    {
     "data": {
      "text/html": [],
      "text/plain": [
       "<IPython.core.display.HTML object>"
      ]
     },
     "metadata": {
      "tags": []
     },
     "output_type": "display_data"
    },
    {
     "data": {
      "text/html": [],
      "text/plain": [
       "<IPython.core.display.HTML object>"
      ]
     },
     "metadata": {
      "tags": []
     },
     "output_type": "display_data"
    },
    {
     "data": {
      "text/html": [],
      "text/plain": [
       "<IPython.core.display.HTML object>"
      ]
     },
     "metadata": {
      "tags": []
     },
     "output_type": "display_data"
    },
    {
     "data": {
      "text/html": [],
      "text/plain": [
       "<IPython.core.display.HTML object>"
      ]
     },
     "metadata": {
      "tags": []
     },
     "output_type": "display_data"
    },
    {
     "data": {
      "text/html": [],
      "text/plain": [
       "<IPython.core.display.HTML object>"
      ]
     },
     "metadata": {
      "tags": []
     },
     "output_type": "display_data"
    },
    {
     "data": {
      "text/html": [],
      "text/plain": [
       "<IPython.core.display.HTML object>"
      ]
     },
     "metadata": {
      "tags": []
     },
     "output_type": "display_data"
    },
    {
     "data": {
      "text/html": [],
      "text/plain": [
       "<IPython.core.display.HTML object>"
      ]
     },
     "metadata": {
      "tags": []
     },
     "output_type": "display_data"
    },
    {
     "data": {
      "text/html": [],
      "text/plain": [
       "<IPython.core.display.HTML object>"
      ]
     },
     "metadata": {
      "tags": []
     },
     "output_type": "display_data"
    },
    {
     "data": {
      "text/html": [],
      "text/plain": [
       "<IPython.core.display.HTML object>"
      ]
     },
     "metadata": {
      "tags": []
     },
     "output_type": "display_data"
    },
    {
     "data": {
      "text/html": [],
      "text/plain": [
       "<IPython.core.display.HTML object>"
      ]
     },
     "metadata": {
      "tags": []
     },
     "output_type": "display_data"
    },
    {
     "data": {
      "text/html": [],
      "text/plain": [
       "<IPython.core.display.HTML object>"
      ]
     },
     "metadata": {
      "tags": []
     },
     "output_type": "display_data"
    },
    {
     "data": {
      "text/html": [],
      "text/plain": [
       "<IPython.core.display.HTML object>"
      ]
     },
     "metadata": {
      "tags": []
     },
     "output_type": "display_data"
    },
    {
     "data": {
      "text/html": [],
      "text/plain": [
       "<IPython.core.display.HTML object>"
      ]
     },
     "metadata": {
      "tags": []
     },
     "output_type": "display_data"
    },
    {
     "data": {
      "text/html": [],
      "text/plain": [
       "<IPython.core.display.HTML object>"
      ]
     },
     "metadata": {
      "tags": []
     },
     "output_type": "display_data"
    },
    {
     "data": {
      "text/html": [],
      "text/plain": [
       "<IPython.core.display.HTML object>"
      ]
     },
     "metadata": {
      "tags": []
     },
     "output_type": "display_data"
    },
    {
     "data": {
      "text/html": [],
      "text/plain": [
       "<IPython.core.display.HTML object>"
      ]
     },
     "metadata": {
      "tags": []
     },
     "output_type": "display_data"
    },
    {
     "data": {
      "text/html": [],
      "text/plain": [
       "<IPython.core.display.HTML object>"
      ]
     },
     "metadata": {
      "tags": []
     },
     "output_type": "display_data"
    },
    {
     "data": {
      "text/html": [],
      "text/plain": [
       "<IPython.core.display.HTML object>"
      ]
     },
     "metadata": {
      "tags": []
     },
     "output_type": "display_data"
    },
    {
     "data": {
      "text/html": [],
      "text/plain": [
       "<IPython.core.display.HTML object>"
      ]
     },
     "metadata": {
      "tags": []
     },
     "output_type": "display_data"
    },
    {
     "data": {
      "text/html": [],
      "text/plain": [
       "<IPython.core.display.HTML object>"
      ]
     },
     "metadata": {
      "tags": []
     },
     "output_type": "display_data"
    },
    {
     "data": {
      "text/html": [],
      "text/plain": [
       "<IPython.core.display.HTML object>"
      ]
     },
     "metadata": {
      "tags": []
     },
     "output_type": "display_data"
    },
    {
     "data": {
      "text/html": [],
      "text/plain": [
       "<IPython.core.display.HTML object>"
      ]
     },
     "metadata": {
      "tags": []
     },
     "output_type": "display_data"
    },
    {
     "data": {
      "text/html": [],
      "text/plain": [
       "<IPython.core.display.HTML object>"
      ]
     },
     "metadata": {
      "tags": []
     },
     "output_type": "display_data"
    },
    {
     "data": {
      "text/html": [],
      "text/plain": [
       "<IPython.core.display.HTML object>"
      ]
     },
     "metadata": {
      "tags": []
     },
     "output_type": "display_data"
    },
    {
     "data": {
      "text/html": [],
      "text/plain": [
       "<IPython.core.display.HTML object>"
      ]
     },
     "metadata": {
      "tags": []
     },
     "output_type": "display_data"
    },
    {
     "data": {
      "text/html": [],
      "text/plain": [
       "<IPython.core.display.HTML object>"
      ]
     },
     "metadata": {
      "tags": []
     },
     "output_type": "display_data"
    },
    {
     "data": {
      "text/html": [],
      "text/plain": [
       "<IPython.core.display.HTML object>"
      ]
     },
     "metadata": {
      "tags": []
     },
     "output_type": "display_data"
    },
    {
     "data": {
      "text/html": [],
      "text/plain": [
       "<IPython.core.display.HTML object>"
      ]
     },
     "metadata": {
      "tags": []
     },
     "output_type": "display_data"
    },
    {
     "data": {
      "text/html": [],
      "text/plain": [
       "<IPython.core.display.HTML object>"
      ]
     },
     "metadata": {
      "tags": []
     },
     "output_type": "display_data"
    },
    {
     "data": {
      "text/html": [],
      "text/plain": [
       "<IPython.core.display.HTML object>"
      ]
     },
     "metadata": {
      "tags": []
     },
     "output_type": "display_data"
    },
    {
     "data": {
      "text/html": [],
      "text/plain": [
       "<IPython.core.display.HTML object>"
      ]
     },
     "metadata": {
      "tags": []
     },
     "output_type": "display_data"
    },
    {
     "data": {
      "text/html": [],
      "text/plain": [
       "<IPython.core.display.HTML object>"
      ]
     },
     "metadata": {
      "tags": []
     },
     "output_type": "display_data"
    },
    {
     "data": {
      "text/html": [],
      "text/plain": [
       "<IPython.core.display.HTML object>"
      ]
     },
     "metadata": {
      "tags": []
     },
     "output_type": "display_data"
    },
    {
     "data": {
      "text/html": [],
      "text/plain": [
       "<IPython.core.display.HTML object>"
      ]
     },
     "metadata": {
      "tags": []
     },
     "output_type": "display_data"
    },
    {
     "data": {
      "text/html": [],
      "text/plain": [
       "<IPython.core.display.HTML object>"
      ]
     },
     "metadata": {
      "tags": []
     },
     "output_type": "display_data"
    },
    {
     "data": {
      "text/html": [],
      "text/plain": [
       "<IPython.core.display.HTML object>"
      ]
     },
     "metadata": {
      "tags": []
     },
     "output_type": "display_data"
    },
    {
     "data": {
      "text/html": [],
      "text/plain": [
       "<IPython.core.display.HTML object>"
      ]
     },
     "metadata": {
      "tags": []
     },
     "output_type": "display_data"
    },
    {
     "data": {
      "text/html": [],
      "text/plain": [
       "<IPython.core.display.HTML object>"
      ]
     },
     "metadata": {
      "tags": []
     },
     "output_type": "display_data"
    },
    {
     "data": {
      "text/html": [],
      "text/plain": [
       "<IPython.core.display.HTML object>"
      ]
     },
     "metadata": {
      "tags": []
     },
     "output_type": "display_data"
    },
    {
     "data": {
      "text/html": [],
      "text/plain": [
       "<IPython.core.display.HTML object>"
      ]
     },
     "metadata": {
      "tags": []
     },
     "output_type": "display_data"
    },
    {
     "data": {
      "text/html": [],
      "text/plain": [
       "<IPython.core.display.HTML object>"
      ]
     },
     "metadata": {
      "tags": []
     },
     "output_type": "display_data"
    },
    {
     "data": {
      "text/html": [],
      "text/plain": [
       "<IPython.core.display.HTML object>"
      ]
     },
     "metadata": {
      "tags": []
     },
     "output_type": "display_data"
    },
    {
     "data": {
      "text/html": [],
      "text/plain": [
       "<IPython.core.display.HTML object>"
      ]
     },
     "metadata": {
      "tags": []
     },
     "output_type": "display_data"
    },
    {
     "data": {
      "text/html": [],
      "text/plain": [
       "<IPython.core.display.HTML object>"
      ]
     },
     "metadata": {
      "tags": []
     },
     "output_type": "display_data"
    },
    {
     "data": {
      "text/html": [],
      "text/plain": [
       "<IPython.core.display.HTML object>"
      ]
     },
     "metadata": {
      "tags": []
     },
     "output_type": "display_data"
    },
    {
     "data": {
      "text/html": [],
      "text/plain": [
       "<IPython.core.display.HTML object>"
      ]
     },
     "metadata": {
      "tags": []
     },
     "output_type": "display_data"
    },
    {
     "data": {
      "text/html": [],
      "text/plain": [
       "<IPython.core.display.HTML object>"
      ]
     },
     "metadata": {
      "tags": []
     },
     "output_type": "display_data"
    },
    {
     "data": {
      "text/html": [],
      "text/plain": [
       "<IPython.core.display.HTML object>"
      ]
     },
     "metadata": {
      "tags": []
     },
     "output_type": "display_data"
    },
    {
     "data": {
      "text/html": [],
      "text/plain": [
       "<IPython.core.display.HTML object>"
      ]
     },
     "metadata": {
      "tags": []
     },
     "output_type": "display_data"
    },
    {
     "data": {
      "text/html": [],
      "text/plain": [
       "<IPython.core.display.HTML object>"
      ]
     },
     "metadata": {
      "tags": []
     },
     "output_type": "display_data"
    },
    {
     "data": {
      "text/html": [],
      "text/plain": [
       "<IPython.core.display.HTML object>"
      ]
     },
     "metadata": {
      "tags": []
     },
     "output_type": "display_data"
    },
    {
     "data": {
      "text/html": [],
      "text/plain": [
       "<IPython.core.display.HTML object>"
      ]
     },
     "metadata": {
      "tags": []
     },
     "output_type": "display_data"
    },
    {
     "data": {
      "text/html": [],
      "text/plain": [
       "<IPython.core.display.HTML object>"
      ]
     },
     "metadata": {
      "tags": []
     },
     "output_type": "display_data"
    },
    {
     "data": {
      "text/html": [],
      "text/plain": [
       "<IPython.core.display.HTML object>"
      ]
     },
     "metadata": {
      "tags": []
     },
     "output_type": "display_data"
    },
    {
     "data": {
      "text/html": [],
      "text/plain": [
       "<IPython.core.display.HTML object>"
      ]
     },
     "metadata": {
      "tags": []
     },
     "output_type": "display_data"
    },
    {
     "data": {
      "text/html": [],
      "text/plain": [
       "<IPython.core.display.HTML object>"
      ]
     },
     "metadata": {
      "tags": []
     },
     "output_type": "display_data"
    },
    {
     "data": {
      "text/html": [],
      "text/plain": [
       "<IPython.core.display.HTML object>"
      ]
     },
     "metadata": {
      "tags": []
     },
     "output_type": "display_data"
    },
    {
     "data": {
      "text/html": [],
      "text/plain": [
       "<IPython.core.display.HTML object>"
      ]
     },
     "metadata": {
      "tags": []
     },
     "output_type": "display_data"
    },
    {
     "data": {
      "text/html": [],
      "text/plain": [
       "<IPython.core.display.HTML object>"
      ]
     },
     "metadata": {
      "tags": []
     },
     "output_type": "display_data"
    },
    {
     "data": {
      "text/html": [],
      "text/plain": [
       "<IPython.core.display.HTML object>"
      ]
     },
     "metadata": {
      "tags": []
     },
     "output_type": "display_data"
    },
    {
     "data": {
      "text/html": [],
      "text/plain": [
       "<IPython.core.display.HTML object>"
      ]
     },
     "metadata": {
      "tags": []
     },
     "output_type": "display_data"
    },
    {
     "data": {
      "text/html": [],
      "text/plain": [
       "<IPython.core.display.HTML object>"
      ]
     },
     "metadata": {
      "tags": []
     },
     "output_type": "display_data"
    },
    {
     "data": {
      "text/html": [],
      "text/plain": [
       "<IPython.core.display.HTML object>"
      ]
     },
     "metadata": {
      "tags": []
     },
     "output_type": "display_data"
    },
    {
     "data": {
      "text/html": [],
      "text/plain": [
       "<IPython.core.display.HTML object>"
      ]
     },
     "metadata": {
      "tags": []
     },
     "output_type": "display_data"
    },
    {
     "data": {
      "text/html": [],
      "text/plain": [
       "<IPython.core.display.HTML object>"
      ]
     },
     "metadata": {
      "tags": []
     },
     "output_type": "display_data"
    },
    {
     "data": {
      "text/html": [],
      "text/plain": [
       "<IPython.core.display.HTML object>"
      ]
     },
     "metadata": {
      "tags": []
     },
     "output_type": "display_data"
    },
    {
     "data": {
      "text/html": [],
      "text/plain": [
       "<IPython.core.display.HTML object>"
      ]
     },
     "metadata": {
      "tags": []
     },
     "output_type": "display_data"
    },
    {
     "data": {
      "text/html": [],
      "text/plain": [
       "<IPython.core.display.HTML object>"
      ]
     },
     "metadata": {
      "tags": []
     },
     "output_type": "display_data"
    },
    {
     "data": {
      "text/html": [],
      "text/plain": [
       "<IPython.core.display.HTML object>"
      ]
     },
     "metadata": {
      "tags": []
     },
     "output_type": "display_data"
    },
    {
     "data": {
      "text/html": [],
      "text/plain": [
       "<IPython.core.display.HTML object>"
      ]
     },
     "metadata": {
      "tags": []
     },
     "output_type": "display_data"
    },
    {
     "data": {
      "text/html": [],
      "text/plain": [
       "<IPython.core.display.HTML object>"
      ]
     },
     "metadata": {
      "tags": []
     },
     "output_type": "display_data"
    },
    {
     "data": {
      "text/html": [],
      "text/plain": [
       "<IPython.core.display.HTML object>"
      ]
     },
     "metadata": {
      "tags": []
     },
     "output_type": "display_data"
    },
    {
     "data": {
      "text/html": [],
      "text/plain": [
       "<IPython.core.display.HTML object>"
      ]
     },
     "metadata": {
      "tags": []
     },
     "output_type": "display_data"
    },
    {
     "data": {
      "text/html": [],
      "text/plain": [
       "<IPython.core.display.HTML object>"
      ]
     },
     "metadata": {
      "tags": []
     },
     "output_type": "display_data"
    },
    {
     "data": {
      "text/html": [],
      "text/plain": [
       "<IPython.core.display.HTML object>"
      ]
     },
     "metadata": {
      "tags": []
     },
     "output_type": "display_data"
    },
    {
     "data": {
      "text/html": [],
      "text/plain": [
       "<IPython.core.display.HTML object>"
      ]
     },
     "metadata": {
      "tags": []
     },
     "output_type": "display_data"
    },
    {
     "data": {
      "text/html": [],
      "text/plain": [
       "<IPython.core.display.HTML object>"
      ]
     },
     "metadata": {
      "tags": []
     },
     "output_type": "display_data"
    },
    {
     "data": {
      "text/html": [],
      "text/plain": [
       "<IPython.core.display.HTML object>"
      ]
     },
     "metadata": {
      "tags": []
     },
     "output_type": "display_data"
    },
    {
     "data": {
      "text/html": [],
      "text/plain": [
       "<IPython.core.display.HTML object>"
      ]
     },
     "metadata": {
      "tags": []
     },
     "output_type": "display_data"
    },
    {
     "data": {
      "text/html": [],
      "text/plain": [
       "<IPython.core.display.HTML object>"
      ]
     },
     "metadata": {
      "tags": []
     },
     "output_type": "display_data"
    },
    {
     "data": {
      "text/html": [],
      "text/plain": [
       "<IPython.core.display.HTML object>"
      ]
     },
     "metadata": {
      "tags": []
     },
     "output_type": "display_data"
    },
    {
     "data": {
      "text/html": [],
      "text/plain": [
       "<IPython.core.display.HTML object>"
      ]
     },
     "metadata": {
      "tags": []
     },
     "output_type": "display_data"
    },
    {
     "data": {
      "text/html": [],
      "text/plain": [
       "<IPython.core.display.HTML object>"
      ]
     },
     "metadata": {
      "tags": []
     },
     "output_type": "display_data"
    },
    {
     "data": {
      "text/html": [],
      "text/plain": [
       "<IPython.core.display.HTML object>"
      ]
     },
     "metadata": {
      "tags": []
     },
     "output_type": "display_data"
    },
    {
     "data": {
      "text/html": [],
      "text/plain": [
       "<IPython.core.display.HTML object>"
      ]
     },
     "metadata": {
      "tags": []
     },
     "output_type": "display_data"
    },
    {
     "data": {
      "text/html": [],
      "text/plain": [
       "<IPython.core.display.HTML object>"
      ]
     },
     "metadata": {
      "tags": []
     },
     "output_type": "display_data"
    },
    {
     "data": {
      "text/html": [],
      "text/plain": [
       "<IPython.core.display.HTML object>"
      ]
     },
     "metadata": {
      "tags": []
     },
     "output_type": "display_data"
    },
    {
     "data": {
      "text/html": [],
      "text/plain": [
       "<IPython.core.display.HTML object>"
      ]
     },
     "metadata": {
      "tags": []
     },
     "output_type": "display_data"
    },
    {
     "data": {
      "text/html": [],
      "text/plain": [
       "<IPython.core.display.HTML object>"
      ]
     },
     "metadata": {
      "tags": []
     },
     "output_type": "display_data"
    },
    {
     "data": {
      "text/html": [],
      "text/plain": [
       "<IPython.core.display.HTML object>"
      ]
     },
     "metadata": {
      "tags": []
     },
     "output_type": "display_data"
    },
    {
     "data": {
      "text/html": [],
      "text/plain": [
       "<IPython.core.display.HTML object>"
      ]
     },
     "metadata": {
      "tags": []
     },
     "output_type": "display_data"
    },
    {
     "data": {
      "text/html": [],
      "text/plain": [
       "<IPython.core.display.HTML object>"
      ]
     },
     "metadata": {
      "tags": []
     },
     "output_type": "display_data"
    },
    {
     "data": {
      "text/html": [],
      "text/plain": [
       "<IPython.core.display.HTML object>"
      ]
     },
     "metadata": {
      "tags": []
     },
     "output_type": "display_data"
    },
    {
     "data": {
      "text/html": [],
      "text/plain": [
       "<IPython.core.display.HTML object>"
      ]
     },
     "metadata": {
      "tags": []
     },
     "output_type": "display_data"
    },
    {
     "data": {
      "text/html": [],
      "text/plain": [
       "<IPython.core.display.HTML object>"
      ]
     },
     "metadata": {
      "tags": []
     },
     "output_type": "display_data"
    },
    {
     "data": {
      "text/html": [],
      "text/plain": [
       "<IPython.core.display.HTML object>"
      ]
     },
     "metadata": {
      "tags": []
     },
     "output_type": "display_data"
    },
    {
     "data": {
      "text/html": [],
      "text/plain": [
       "<IPython.core.display.HTML object>"
      ]
     },
     "metadata": {
      "tags": []
     },
     "output_type": "display_data"
    },
    {
     "data": {
      "text/html": [],
      "text/plain": [
       "<IPython.core.display.HTML object>"
      ]
     },
     "metadata": {
      "tags": []
     },
     "output_type": "display_data"
    },
    {
     "data": {
      "text/html": [],
      "text/plain": [
       "<IPython.core.display.HTML object>"
      ]
     },
     "metadata": {
      "tags": []
     },
     "output_type": "display_data"
    },
    {
     "data": {
      "text/html": [],
      "text/plain": [
       "<IPython.core.display.HTML object>"
      ]
     },
     "metadata": {
      "tags": []
     },
     "output_type": "display_data"
    },
    {
     "data": {
      "text/html": [],
      "text/plain": [
       "<IPython.core.display.HTML object>"
      ]
     },
     "metadata": {
      "tags": []
     },
     "output_type": "display_data"
    },
    {
     "data": {
      "text/html": [],
      "text/plain": [
       "<IPython.core.display.HTML object>"
      ]
     },
     "metadata": {
      "tags": []
     },
     "output_type": "display_data"
    },
    {
     "data": {
      "text/html": [],
      "text/plain": [
       "<IPython.core.display.HTML object>"
      ]
     },
     "metadata": {
      "tags": []
     },
     "output_type": "display_data"
    },
    {
     "data": {
      "text/html": [],
      "text/plain": [
       "<IPython.core.display.HTML object>"
      ]
     },
     "metadata": {
      "tags": []
     },
     "output_type": "display_data"
    },
    {
     "data": {
      "text/html": [],
      "text/plain": [
       "<IPython.core.display.HTML object>"
      ]
     },
     "metadata": {
      "tags": []
     },
     "output_type": "display_data"
    },
    {
     "data": {
      "text/html": [],
      "text/plain": [
       "<IPython.core.display.HTML object>"
      ]
     },
     "metadata": {
      "tags": []
     },
     "output_type": "display_data"
    },
    {
     "data": {
      "text/html": [],
      "text/plain": [
       "<IPython.core.display.HTML object>"
      ]
     },
     "metadata": {
      "tags": []
     },
     "output_type": "display_data"
    },
    {
     "data": {
      "text/html": [],
      "text/plain": [
       "<IPython.core.display.HTML object>"
      ]
     },
     "metadata": {
      "tags": []
     },
     "output_type": "display_data"
    },
    {
     "data": {
      "text/html": [],
      "text/plain": [
       "<IPython.core.display.HTML object>"
      ]
     },
     "metadata": {
      "tags": []
     },
     "output_type": "display_data"
    },
    {
     "data": {
      "text/html": [],
      "text/plain": [
       "<IPython.core.display.HTML object>"
      ]
     },
     "metadata": {
      "tags": []
     },
     "output_type": "display_data"
    },
    {
     "data": {
      "text/html": [],
      "text/plain": [
       "<IPython.core.display.HTML object>"
      ]
     },
     "metadata": {
      "tags": []
     },
     "output_type": "display_data"
    },
    {
     "data": {
      "text/html": [],
      "text/plain": [
       "<IPython.core.display.HTML object>"
      ]
     },
     "metadata": {
      "tags": []
     },
     "output_type": "display_data"
    },
    {
     "data": {
      "text/html": [],
      "text/plain": [
       "<IPython.core.display.HTML object>"
      ]
     },
     "metadata": {
      "tags": []
     },
     "output_type": "display_data"
    },
    {
     "data": {
      "text/html": [],
      "text/plain": [
       "<IPython.core.display.HTML object>"
      ]
     },
     "metadata": {
      "tags": []
     },
     "output_type": "display_data"
    },
    {
     "data": {
      "text/html": [],
      "text/plain": [
       "<IPython.core.display.HTML object>"
      ]
     },
     "metadata": {
      "tags": []
     },
     "output_type": "display_data"
    },
    {
     "data": {
      "text/html": [],
      "text/plain": [
       "<IPython.core.display.HTML object>"
      ]
     },
     "metadata": {
      "tags": []
     },
     "output_type": "display_data"
    },
    {
     "data": {
      "text/html": [],
      "text/plain": [
       "<IPython.core.display.HTML object>"
      ]
     },
     "metadata": {
      "tags": []
     },
     "output_type": "display_data"
    },
    {
     "data": {
      "text/html": [],
      "text/plain": [
       "<IPython.core.display.HTML object>"
      ]
     },
     "metadata": {
      "tags": []
     },
     "output_type": "display_data"
    },
    {
     "data": {
      "text/html": [],
      "text/plain": [
       "<IPython.core.display.HTML object>"
      ]
     },
     "metadata": {
      "tags": []
     },
     "output_type": "display_data"
    },
    {
     "data": {
      "text/html": [],
      "text/plain": [
       "<IPython.core.display.HTML object>"
      ]
     },
     "metadata": {
      "tags": []
     },
     "output_type": "display_data"
    },
    {
     "data": {
      "text/html": [],
      "text/plain": [
       "<IPython.core.display.HTML object>"
      ]
     },
     "metadata": {
      "tags": []
     },
     "output_type": "display_data"
    },
    {
     "data": {
      "text/html": [],
      "text/plain": [
       "<IPython.core.display.HTML object>"
      ]
     },
     "metadata": {
      "tags": []
     },
     "output_type": "display_data"
    },
    {
     "data": {
      "text/html": [],
      "text/plain": [
       "<IPython.core.display.HTML object>"
      ]
     },
     "metadata": {
      "tags": []
     },
     "output_type": "display_data"
    },
    {
     "data": {
      "text/html": [],
      "text/plain": [
       "<IPython.core.display.HTML object>"
      ]
     },
     "metadata": {
      "tags": []
     },
     "output_type": "display_data"
    },
    {
     "data": {
      "text/html": [],
      "text/plain": [
       "<IPython.core.display.HTML object>"
      ]
     },
     "metadata": {
      "tags": []
     },
     "output_type": "display_data"
    },
    {
     "data": {
      "text/html": [],
      "text/plain": [
       "<IPython.core.display.HTML object>"
      ]
     },
     "metadata": {
      "tags": []
     },
     "output_type": "display_data"
    },
    {
     "data": {
      "text/html": [],
      "text/plain": [
       "<IPython.core.display.HTML object>"
      ]
     },
     "metadata": {
      "tags": []
     },
     "output_type": "display_data"
    },
    {
     "data": {
      "text/html": [],
      "text/plain": [
       "<IPython.core.display.HTML object>"
      ]
     },
     "metadata": {
      "tags": []
     },
     "output_type": "display_data"
    },
    {
     "name": "stdout",
     "output_type": "stream",
     "text": [
      "Number of cases where bf_EVI2 shape is not equal to af_EVI= 0\n",
      "Total runtime of the program is 3305.3586478233337\n"
     ]
    }
   ],
   "source": [
    "#Measuring the time taken for execution\n",
    "# store starting time \n",
    "begin = time.time() \n",
    "#Parameters\n",
    "numMismatch = [] #holding the folder_Ids for mismateched images\n",
    "\n",
    "#Creating a dataframe for storing the ndvi values\n",
    "veg_df = pd.DataFrame(columns = [\"Image_ID\", \"Total_Cropland(Ha)\", 'Total_Pastureland(Ha)', \"Total_Forestland(Ha)\",\n",
    "                                 'Low_Damage_Cropland(Ha)','Moderate_Damage_Cropland(Ha)','High_Damage_Cropland(Ha)',\n",
    "                                 'Low_Damage_Pastureland(Ha)','Moderate_Damage_Pastureland(Ha)','High_Damage_Pastureland(Ha)',\n",
    "                                 'Low_Damage_Forestland(Ha)','Moderate_Damage_Forestland(Ha)','High_Damage_Forestland(Ha)'\n",
    "\n",
    "                                 ])\n",
    "\n",
    "#iterating through all the images in the folder\n",
    "for key in folder:\n",
    "  #loading image from tif file using rasterio\n",
    "  bf = rio.open(folder[key][0])\n",
    "  af = rio.open(folder[key][1])\n",
    "\n",
    "  # reading the RGB band from the image\n",
    "  red = bf.read(4) # B4\n",
    "  green = bf.read(3) # B3\n",
    "  blue = bf.read(2) # B2\n",
    "\n",
    "  rgb = np.dstack((red, green, blue))\n",
    "\n",
    "  # normalize and convert to range 0-255\n",
    "  rgb = ((rgb - rgb.min()) / (rgb.max() - rgb.min()) * 255).astype('uint8')\n",
    "\n",
    "  #getting the masks from the rgb image\n",
    "  pred = infer.predict(rgb)[0].numpy()\n",
    "\n",
    "  #creating the masks for the vegatation classes: Cropland, Pastureland and Forestland\n",
    "  crop_mask = pred==1\n",
    "  pasture_mask = pred==2\n",
    "  forest_mask = pred==5\n",
    "  \n",
    "  # Calculating EVI from the pair of images\n",
    "  bf_red = bf.read(4)\n",
    "  bf_nir = bf.read(8)\n",
    "  af_red = af.read(4)\n",
    "  af_nir = af.read(8)\n",
    "\n",
    "  bf_EVI2 = 2.5 * (( bf_nir.astype(float) - bf_red.astype(float)) / (bf_nir.astype(float) + 2.4* bf_red.astype(float) + 1)) \n",
    "  af_EVI2 = 2.5 * (( af_nir.astype(float) - af_red.astype(float)) / (af_nir.astype(float) + 2.4* af_red.astype(float) + 1))\n",
    "  \n",
    "  #standardizing the EVI index to a scale of -1 to 1\n",
    "  #scaling the array between -1 to 1\n",
    "  scaler = MinMaxScaler(feature_range=(-1,1))\n",
    "  bf_EVI2 = scaler.fit_transform(bf_EVI2)\n",
    "  af_EVI2 = scaler.fit_transform(af_EVI2)\n",
    "  \n",
    "  #checking for mismatch \n",
    "  if (bf_EVI2.shape!=af_EVI2.shape):\n",
    "      #print(\"Mismatch found!bf_nvdi shape = \",bf_ndvi.shape, \", af_nvdi shape = \",af_ndvi.shape)\n",
    "      numMismatch.append(key)\n",
    "      continue\n",
    "  else :\n",
    "    #calculating the NDVI difference\n",
    "    diff_EVI2 = bf_EVI2 - af_EVI2\n",
    "\n",
    "    #getting the NDVI difference in the various vegatation covers\n",
    "    cropland_mask = np.multiply(diff_EVI2,crop_mask)\n",
    "    pastureland_mask = np.multiply(diff_EVI2,pasture_mask)\n",
    "    forestland_mask = np.multiply(diff_EVI2,forest_mask)\n",
    "\n",
    "    #Getting the area affected for the different vegetation covers\n",
    "    \n",
    "    #Saving the data into a dataframe\n",
    "    veg_df = veg_df.append({\"Image_ID\": key, \n",
    "                            \"Total_Cropland(Ha)\": veg_calc(cropland_mask,'total'), \n",
    "                            'Total_Pastureland(Ha)':veg_calc(pastureland_mask,'total'),\n",
    "                            \"Total_Forestland(Ha)\":veg_calc(forestland_mask,'total'),\n",
    "                            'Low_Damage_Cropland(Ha)':veg_calc(cropland_mask,'low'),\n",
    "                            'Moderate_Damage_Cropland(Ha)':veg_calc(cropland_mask,'moderate'),\n",
    "                            'High_Damage_Cropland(Ha)':veg_calc(cropland_mask,'high'),\n",
    "                            'Low_Damage_Pastureland(Ha)':veg_calc(pastureland_mask,'low'),\n",
    "                            'Moderate_Damage_Pastureland(Ha)':veg_calc(pastureland_mask,'moderate'),\n",
    "                            'High_Damage_Pastureland(Ha)':veg_calc(pastureland_mask,'high'),\n",
    "                            'Low_Damage_Forestland(Ha)':veg_calc(forestland_mask,'low'),\n",
    "                            'Moderate_Damage_Forestland(Ha)':veg_calc(forestland_mask,'moderate'),\n",
    "                            'High_Damage_Forestland(Ha)':veg_calc(forestland_mask,'high')},\n",
    "                              ignore_index = True)\n",
    "\n",
    "# store end time \n",
    "end = time.time() \n",
    "print(\"Number of cases where bf_EVI2 shape is not equal to af_EVI=\", len(numMismatch))\n",
    "# total time taken \n",
    "print(f\"Total runtime of the program is {end - begin}\") "
   ]
  },
  {
   "cell_type": "code",
   "execution_count": null,
   "metadata": {
    "colab": {
     "base_uri": "https://localhost:8080/",
     "height": 224
    },
    "id": "_RRlb3k7kzSq",
    "outputId": "613b69b6-4bf9-49a3-db53-f0a58fcf52a1"
   },
   "outputs": [
    {
     "data": {
      "text/html": [
       "<div>\n",
       "<style scoped>\n",
       "    .dataframe tbody tr th:only-of-type {\n",
       "        vertical-align: middle;\n",
       "    }\n",
       "\n",
       "    .dataframe tbody tr th {\n",
       "        vertical-align: top;\n",
       "    }\n",
       "\n",
       "    .dataframe thead th {\n",
       "        text-align: right;\n",
       "    }\n",
       "</style>\n",
       "<table border=\"1\" class=\"dataframe\">\n",
       "  <thead>\n",
       "    <tr style=\"text-align: right;\">\n",
       "      <th></th>\n",
       "      <th>Image_ID</th>\n",
       "      <th>Total_Cropland(Ha)</th>\n",
       "      <th>Total_Pastureland(Ha)</th>\n",
       "      <th>Total_Forestland(Ha)</th>\n",
       "      <th>Low_Damage_Cropland(Ha)</th>\n",
       "      <th>Moderate_Damage_Cropland(Ha)</th>\n",
       "      <th>High_Damage_Cropland(Ha)</th>\n",
       "      <th>Low_Damage_Pastureland(Ha)</th>\n",
       "      <th>Moderate_Damage_Pastureland(Ha)</th>\n",
       "      <th>High_Damage_Pastureland(Ha)</th>\n",
       "      <th>Low_Damage_Forestland(Ha)</th>\n",
       "      <th>Moderate_Damage_Forestland(Ha)</th>\n",
       "      <th>High_Damage_Forestland(Ha)</th>\n",
       "    </tr>\n",
       "  </thead>\n",
       "  <tbody>\n",
       "    <tr>\n",
       "      <th>0</th>\n",
       "      <td>1</td>\n",
       "      <td>0.0</td>\n",
       "      <td>12.22</td>\n",
       "      <td>84.33</td>\n",
       "      <td>0.00</td>\n",
       "      <td>0.00</td>\n",
       "      <td>0.00</td>\n",
       "      <td>5.47</td>\n",
       "      <td>5.47</td>\n",
       "      <td>1.28</td>\n",
       "      <td>24.17</td>\n",
       "      <td>38.51</td>\n",
       "      <td>21.65</td>\n",
       "    </tr>\n",
       "    <tr>\n",
       "      <th>1</th>\n",
       "      <td>55</td>\n",
       "      <td>22.8</td>\n",
       "      <td>33.74</td>\n",
       "      <td>32.52</td>\n",
       "      <td>20.61</td>\n",
       "      <td>2.04</td>\n",
       "      <td>0.15</td>\n",
       "      <td>31.25</td>\n",
       "      <td>2.40</td>\n",
       "      <td>0.09</td>\n",
       "      <td>23.35</td>\n",
       "      <td>8.71</td>\n",
       "      <td>0.46</td>\n",
       "    </tr>\n",
       "    <tr>\n",
       "      <th>2</th>\n",
       "      <td>53</td>\n",
       "      <td>0.0</td>\n",
       "      <td>100.53</td>\n",
       "      <td>8.03</td>\n",
       "      <td>0.00</td>\n",
       "      <td>0.00</td>\n",
       "      <td>0.00</td>\n",
       "      <td>83.34</td>\n",
       "      <td>16.20</td>\n",
       "      <td>0.99</td>\n",
       "      <td>6.16</td>\n",
       "      <td>1.80</td>\n",
       "      <td>0.07</td>\n",
       "    </tr>\n",
       "    <tr>\n",
       "      <th>3</th>\n",
       "      <td>52</td>\n",
       "      <td>0.0</td>\n",
       "      <td>164.68</td>\n",
       "      <td>1.52</td>\n",
       "      <td>0.00</td>\n",
       "      <td>0.00</td>\n",
       "      <td>0.00</td>\n",
       "      <td>143.43</td>\n",
       "      <td>20.38</td>\n",
       "      <td>0.87</td>\n",
       "      <td>1.39</td>\n",
       "      <td>0.13</td>\n",
       "      <td>0.00</td>\n",
       "    </tr>\n",
       "    <tr>\n",
       "      <th>4</th>\n",
       "      <td>51</td>\n",
       "      <td>0.0</td>\n",
       "      <td>39.38</td>\n",
       "      <td>1.76</td>\n",
       "      <td>0.00</td>\n",
       "      <td>0.00</td>\n",
       "      <td>0.00</td>\n",
       "      <td>32.11</td>\n",
       "      <td>6.53</td>\n",
       "      <td>0.74</td>\n",
       "      <td>1.32</td>\n",
       "      <td>0.39</td>\n",
       "      <td>0.05</td>\n",
       "    </tr>\n",
       "  </tbody>\n",
       "</table>\n",
       "</div>"
      ],
      "text/plain": [
       "  Image_ID  ...  High_Damage_Forestland(Ha)\n",
       "0        1  ...                       21.65\n",
       "1       55  ...                        0.46\n",
       "2       53  ...                        0.07\n",
       "3       52  ...                        0.00\n",
       "4       51  ...                        0.05\n",
       "\n",
       "[5 rows x 13 columns]"
      ]
     },
     "execution_count": 34,
     "metadata": {
      "tags": []
     },
     "output_type": "execute_result"
    }
   ],
   "source": [
    "veg_df.head()"
   ]
  },
  {
   "cell_type": "markdown",
   "metadata": {
    "id": "CgwL-5-ykvkM"
   },
   "source": [
    "### Identifying the Counties the Images belong to"
   ]
  },
  {
   "cell_type": "code",
   "execution_count": 10,
   "metadata": {
    "colab": {
     "base_uri": "https://localhost:8080/",
     "height": 459
    },
    "id": "M8HsdmnslSiP",
    "outputId": "21a52412-ef44-42d2-e4ee-a1151a4d443f"
   },
   "outputs": [
    {
     "data": {
      "text/html": [
       "<div>\n",
       "<style scoped>\n",
       "    .dataframe tbody tr th:only-of-type {\n",
       "        vertical-align: middle;\n",
       "    }\n",
       "\n",
       "    .dataframe tbody tr th {\n",
       "        vertical-align: top;\n",
       "    }\n",
       "\n",
       "    .dataframe thead th {\n",
       "        text-align: right;\n",
       "    }\n",
       "</style>\n",
       "<table border=\"1\" class=\"dataframe\">\n",
       "  <thead>\n",
       "    <tr style=\"text-align: right;\">\n",
       "      <th></th>\n",
       "      <th>shapeName</th>\n",
       "      <th>shapeISO</th>\n",
       "      <th>shapeID</th>\n",
       "      <th>shapeGroup</th>\n",
       "      <th>shapeType</th>\n",
       "      <th>geometry</th>\n",
       "    </tr>\n",
       "  </thead>\n",
       "  <tbody>\n",
       "    <tr>\n",
       "      <th>0</th>\n",
       "      <td>Bomet</td>\n",
       "      <td>KE-02</td>\n",
       "      <td>KEN-ADM1-3_0_0-B1</td>\n",
       "      <td>KEN</td>\n",
       "      <td>ADM1</td>\n",
       "      <td>MULTIPOLYGON (((35.58631 -0.58674, 35.58790 -0.58973, 35.58429 -0.59065, 35.56312 -0.59694, 35.55525 -0.59921, 35.50532 -0.61366, 35.49750 -0.61616, 35.49372 -0.61757, 35.43574 -0.63423, 35.42450 -0.63765, 35.40491 -0.64326, 35.39850 -0.64564, 35.39893 -0.64888, 35.40174 -0.65504, 35.40430 -0.66255, 35.40894 -0.67354, 35.40992 -0.67665, 35.41273 -0.68434, 35.42310 -0.71144, 35.42450 -0.71577, 35.42670 -0.72114, 35.43030 -0.72383, 35.43635 -0.72877, 35.44031 -0.73176, 35.44410 -0.73494, 35.46650 -0.75264, 35.46991 -0.75514, 35.47352 -0.75825, 35.47974 -0.76307, 35.48853 -0.76674, 35.49213 -...</td>\n",
       "    </tr>\n",
       "    <tr>\n",
       "      <th>1</th>\n",
       "      <td>Kisii</td>\n",
       "      <td>KE-16</td>\n",
       "      <td>KEN-ADM1-3_0_0-B2</td>\n",
       "      <td>KEN</td>\n",
       "      <td>ADM1</td>\n",
       "      <td>MULTIPOLYGON (((35.00129 -0.89357, 34.98792 -0.89686, 34.98249 -0.89796, 34.97529 -0.90034, 34.95850 -0.90376, 34.95472 -0.90468, 34.94312 -0.90846, 34.92951 -0.91127, 34.91810 -0.91395, 34.89252 -0.92055, 34.88910 -0.92158, 34.85010 -0.93117, 34.84491 -0.93385, 34.83149 -0.93586, 34.79731 -0.94453, 34.78089 -0.94917, 34.77710 -0.94966, 34.76069 -0.95466, 34.75031 -0.95643, 34.69770 -0.96925, 34.67750 -0.97346, 34.67450 -0.97304, 34.67109 -0.97285, 34.66669 -0.97316, 34.66395 -0.97255, 34.66034 -0.97108, 34.65650 -0.96895, 34.65149 -0.96693, 34.64692 -0.96748, 34.64350 -0.96907, 34.63849 -...</td>\n",
       "    </tr>\n",
       "    <tr>\n",
       "      <th>2</th>\n",
       "      <td>Narok</td>\n",
       "      <td>KE-33</td>\n",
       "      <td>KEN-ADM1-3_0_0-B3</td>\n",
       "      <td>KEN</td>\n",
       "      <td>ADM1</td>\n",
       "      <td>MULTIPOLYGON (((36.34809 -1.17494, 36.33735 -1.18696, 36.29114 -1.23665, 36.28809 -1.23866, 36.28052 -1.24824, 36.26954 -1.26027, 36.25831 -1.27223, 36.24811 -1.28364, 36.23169 -1.30104, 36.22870 -1.30385, 36.21833 -1.31514, 36.19935 -1.33485, 36.19611 -1.33845, 36.18909 -1.34553, 36.16572 -1.37056, 36.16291 -1.37324, 36.15510 -1.38136, 36.14429 -1.39296, 36.14210 -1.39503, 36.13691 -1.40046, 36.13294 -1.40498, 36.12653 -1.41157, 36.12171 -1.41585, 36.11854 -1.42018, 36.07514 -1.46577, 36.07075 -1.46876, 36.06849 -1.47285, 36.05732 -1.48445, 36.05311 -1.48915, 36.04969 -1.49238, 36.05872 -...</td>\n",
       "    </tr>\n",
       "    <tr>\n",
       "      <th>3</th>\n",
       "      <td>Homa Bay</td>\n",
       "      <td>KE-08</td>\n",
       "      <td>KEN-ADM1-3_0_0-B4</td>\n",
       "      <td>KEN</td>\n",
       "      <td>ADM1</td>\n",
       "      <td>MULTIPOLYGON (((35.02112 -0.41048, 35.02131 -0.41427, 35.01410 -0.41829, 35.00471 -0.42610, 35.00171 -0.42879, 34.99909 -0.43050, 34.98951 -0.43428, 34.98653 -0.43625, 34.97834 -0.43862, 34.97309 -0.44100, 34.96753 -0.44319, 34.95875 -0.45113, 34.94953 -0.45882, 34.94349 -0.46260, 34.94261 -0.46367, 34.94092 -0.46572, 34.93710 -0.46755, 34.93635 -0.46791, 34.93435 -0.46860, 34.92994 -0.47011, 34.92792 -0.47219, 34.91834 -0.47701, 34.91230 -0.47982, 34.90754 -0.48232, 34.90210 -0.48403, 34.88489 -0.48830, 34.88111 -0.48909, 34.87592 -0.49202, 34.86310 -0.50416, 34.85871 -0.50551, 34.85590 -...</td>\n",
       "    </tr>\n",
       "    <tr>\n",
       "      <th>4</th>\n",
       "      <td>Migori</td>\n",
       "      <td>KE-27</td>\n",
       "      <td>KEN-ADM1-3_0_0-B5</td>\n",
       "      <td>KEN</td>\n",
       "      <td>ADM1</td>\n",
       "      <td>MULTIPOLYGON (((34.73151 -1.38936, 34.70255 -1.37307, 34.69872 -1.37089, 34.67765 -1.35889, 34.65625 -1.34688, 34.63429 -1.33439, 34.63116 -1.33262, 34.61698 -1.32478, 34.60169 -1.31508, 34.57645 -1.30183, 34.54749 -1.28554, 34.51490 -1.26745, 34.48911 -1.25266, 34.47528 -1.24451, 34.46843 -1.24081, 34.45767 -1.23491, 34.44595 -1.22806, 34.42549 -1.21656, 34.38630 -1.19417, 34.27509 -1.13145, 34.21062 -1.09520, 34.12052 -1.04458, 34.11591 -1.04158, 34.10794 -1.03708, 34.09316 -1.02875, 34.09070 -1.02736, 34.08033 -1.02186, 34.04609 -1.04585, 34.04090 -1.04616, 34.03754 -1.04518, 34.03412 -...</td>\n",
       "    </tr>\n",
       "  </tbody>\n",
       "</table>\n",
       "</div>"
      ],
      "text/plain": [
       "  shapeName  ...                                                                                                                                                                                                                                                                                                                                                                                                                                                                                                                                                                                                                 geometry\n",
       "0     Bomet  ...  MULTIPOLYGON (((35.58631 -0.58674, 35.58790 -0.58973, 35.58429 -0.59065, 35.56312 -0.59694, 35.55525 -0.59921, 35.50532 -0.61366, 35.49750 -0.61616, 35.49372 -0.61757, 35.43574 -0.63423, 35.42450 -0.63765, 35.40491 -0.64326, 35.39850 -0.64564, 35.39893 -0.64888, 35.40174 -0.65504, 35.40430 -0.66255, 35.40894 -0.67354, 35.40992 -0.67665, 35.41273 -0.68434, 35.42310 -0.71144, 35.42450 -0.71577, 35.42670 -0.72114, 35.43030 -0.72383, 35.43635 -0.72877, 35.44031 -0.73176, 35.44410 -0.73494, 35.46650 -0.75264, 35.46991 -0.75514, 35.47352 -0.75825, 35.47974 -0.76307, 35.48853 -0.76674, 35.49213 -...\n",
       "1     Kisii  ...  MULTIPOLYGON (((35.00129 -0.89357, 34.98792 -0.89686, 34.98249 -0.89796, 34.97529 -0.90034, 34.95850 -0.90376, 34.95472 -0.90468, 34.94312 -0.90846, 34.92951 -0.91127, 34.91810 -0.91395, 34.89252 -0.92055, 34.88910 -0.92158, 34.85010 -0.93117, 34.84491 -0.93385, 34.83149 -0.93586, 34.79731 -0.94453, 34.78089 -0.94917, 34.77710 -0.94966, 34.76069 -0.95466, 34.75031 -0.95643, 34.69770 -0.96925, 34.67750 -0.97346, 34.67450 -0.97304, 34.67109 -0.97285, 34.66669 -0.97316, 34.66395 -0.97255, 34.66034 -0.97108, 34.65650 -0.96895, 34.65149 -0.96693, 34.64692 -0.96748, 34.64350 -0.96907, 34.63849 -...\n",
       "2     Narok  ...  MULTIPOLYGON (((36.34809 -1.17494, 36.33735 -1.18696, 36.29114 -1.23665, 36.28809 -1.23866, 36.28052 -1.24824, 36.26954 -1.26027, 36.25831 -1.27223, 36.24811 -1.28364, 36.23169 -1.30104, 36.22870 -1.30385, 36.21833 -1.31514, 36.19935 -1.33485, 36.19611 -1.33845, 36.18909 -1.34553, 36.16572 -1.37056, 36.16291 -1.37324, 36.15510 -1.38136, 36.14429 -1.39296, 36.14210 -1.39503, 36.13691 -1.40046, 36.13294 -1.40498, 36.12653 -1.41157, 36.12171 -1.41585, 36.11854 -1.42018, 36.07514 -1.46577, 36.07075 -1.46876, 36.06849 -1.47285, 36.05732 -1.48445, 36.05311 -1.48915, 36.04969 -1.49238, 36.05872 -...\n",
       "3  Homa Bay  ...  MULTIPOLYGON (((35.02112 -0.41048, 35.02131 -0.41427, 35.01410 -0.41829, 35.00471 -0.42610, 35.00171 -0.42879, 34.99909 -0.43050, 34.98951 -0.43428, 34.98653 -0.43625, 34.97834 -0.43862, 34.97309 -0.44100, 34.96753 -0.44319, 34.95875 -0.45113, 34.94953 -0.45882, 34.94349 -0.46260, 34.94261 -0.46367, 34.94092 -0.46572, 34.93710 -0.46755, 34.93635 -0.46791, 34.93435 -0.46860, 34.92994 -0.47011, 34.92792 -0.47219, 34.91834 -0.47701, 34.91230 -0.47982, 34.90754 -0.48232, 34.90210 -0.48403, 34.88489 -0.48830, 34.88111 -0.48909, 34.87592 -0.49202, 34.86310 -0.50416, 34.85871 -0.50551, 34.85590 -...\n",
       "4    Migori  ...  MULTIPOLYGON (((34.73151 -1.38936, 34.70255 -1.37307, 34.69872 -1.37089, 34.67765 -1.35889, 34.65625 -1.34688, 34.63429 -1.33439, 34.63116 -1.33262, 34.61698 -1.32478, 34.60169 -1.31508, 34.57645 -1.30183, 34.54749 -1.28554, 34.51490 -1.26745, 34.48911 -1.25266, 34.47528 -1.24451, 34.46843 -1.24081, 34.45767 -1.23491, 34.44595 -1.22806, 34.42549 -1.21656, 34.38630 -1.19417, 34.27509 -1.13145, 34.21062 -1.09520, 34.12052 -1.04458, 34.11591 -1.04158, 34.10794 -1.03708, 34.09316 -1.02875, 34.09070 -1.02736, 34.08033 -1.02186, 34.04609 -1.04585, 34.04090 -1.04616, 34.03754 -1.04518, 34.03412 -...\n",
       "\n",
       "[5 rows x 6 columns]"
      ]
     },
     "execution_count": 10,
     "metadata": {
      "tags": []
     },
     "output_type": "execute_result"
    }
   ],
   "source": [
    "#loading the file with the Kenyan Adminstration boundaries\n",
    "file_path = '/content/drive/My Drive/Omdena Project/Data/geoboundary.geojson'\n",
    "#reading the json file using geopandas\n",
    "geoboundary = gpd.read_file(file_path)\n",
    "geoboundary.head()"
   ]
  },
  {
   "cell_type": "code",
   "execution_count": null,
   "metadata": {
    "colab": {
     "base_uri": "https://localhost:8080/"
    },
    "id": "dBUROCCgWcL7",
    "outputId": "dc5ed96a-e2a9-44ca-eb48-c2d08128e301"
   },
   "outputs": [
    {
     "data": {
      "text/plain": [
       "47"
      ]
     },
     "execution_count": 36,
     "metadata": {
      "tags": []
     },
     "output_type": "execute_result"
    }
   ],
   "source": [
    "#how many counties are in the dataset?\n",
    "geoboundary.shapeName.nunique()"
   ]
  },
  {
   "cell_type": "code",
   "execution_count": null,
   "metadata": {
    "colab": {
     "base_uri": "https://localhost:8080/"
    },
    "id": "eIJjnQJ3XKsB",
    "outputId": "7b378c40-bb98-4db4-d6ae-72805f616167"
   },
   "outputs": [
    {
     "data": {
      "text/plain": [
       "array(['Bomet', 'Kisii', 'Narok', 'Homa Bay', 'Migori', 'Nakuru',\n",
       "       'Kajiado', 'Kericho', 'Kisumu', 'Nyamira', 'Siaya', 'Busia',\n",
       "       'Vihiga', 'Machakos', 'Makueni', 'Nairobi', 'Baringo', 'Bungoma',\n",
       "       'Elegeyo-Marakwet', 'Embu', 'Garissa', 'Isiolo', 'Kakamega',\n",
       "       'Kiambu', 'Kilifi', 'Kirinyaga', 'Kitui', 'Kwale', 'Laikipia',\n",
       "       'Lamu', 'Mandera', 'Marsabit', 'Meru', 'Mombasa', 'Nandi',\n",
       "       'Nyandarua', 'Nyeri', 'Samburu', 'Taita Taveta', 'Tana River',\n",
       "       'Tharaka-Nithi', 'Trans Nzoia', 'Turkana', 'Uasin Gishu', 'Wajir',\n",
       "       'West Pokot', 'Murang`a'], dtype=object)"
      ]
     },
     "execution_count": 47,
     "metadata": {
      "tags": []
     },
     "output_type": "execute_result"
    }
   ],
   "source": [
    "geoboundary.shapeName.unique()"
   ]
  },
  {
   "cell_type": "code",
   "execution_count": 11,
   "metadata": {
    "id": "PjxTeb--aCn_"
   },
   "outputs": [],
   "source": [
    "#saving the county names into a list\n",
    "counties = geoboundary.shapeName.unique().tolist()\n",
    "\n",
    "# saving the ploygons into a list too\n",
    "polygons = geoboundary.geometry.tolist()\n",
    "\n",
    "#combining the two list into a dictinary\n",
    "county_poly = dict(zip(counties,polygons))"
   ]
  },
  {
   "cell_type": "code",
   "execution_count": 12,
   "metadata": {
    "colab": {
     "base_uri": "https://localhost:8080/"
    },
    "id": "7KXjixg6cJCs",
    "outputId": "fa3da91d-e191-4ede-d3b0-16c18267a8b2"
   },
   "outputs": [
    {
     "name": "stdout",
     "output_type": "stream",
     "text": [
      "Mandera\n"
     ]
    }
   ],
   "source": [
    "#testing it out to identify a point in Mandera, from the Locust Hub dataset\n",
    "P1 = Point(40.91667, 2.80000)\n",
    "for county,poly in county_poly.items():\n",
    "  #print(county)\n",
    "  if P1.within(poly):\n",
    "    print(county)"
   ]
  },
  {
   "cell_type": "markdown",
   "metadata": {
    "id": "v2Tt9Z1Tf2GE"
   },
   "source": [
    "*The logic seems to work perfectly, the next step is to classify the images accroding to their respective counties.*"
   ]
  },
  {
   "cell_type": "code",
   "execution_count": 13,
   "metadata": {
    "id": "YYNvBePhrQ5M"
   },
   "outputs": [],
   "source": [
    "image = rio.open(folder['1'][0])"
   ]
  },
  {
   "cell_type": "code",
   "execution_count": 14,
   "metadata": {
    "colab": {
     "base_uri": "https://localhost:8080/"
    },
    "id": "nRGGqlTQdCLM",
    "outputId": "25620576-3d17-4e90-a797-258e9d09c13b"
   },
   "outputs": [
    {
     "data": {
      "text/plain": [
       "BoundingBox(left=36.42012706947252, bottom=1.0200370051177166, right=36.440249331836796, top=1.040159267481994)"
      ]
     },
     "execution_count": 14,
     "metadata": {
      "tags": []
     },
     "output_type": "execute_result"
    }
   ],
   "source": [
    "# testing it out with the rasters\n",
    "image.bounds"
   ]
  },
  {
   "cell_type": "code",
   "execution_count": 38,
   "metadata": {
    "id": "2QsYPlgPgMcx"
   },
   "outputs": [],
   "source": [
    "#getting the centre coordinate\n",
    "X = image.bounds[0] + (image.bounds[2] - image.bounds[0])/2\n",
    "\n",
    "Y = image.bounds[1] + (image.bounds[3] - image.bounds[1])/2"
   ]
  },
  {
   "cell_type": "code",
   "execution_count": 39,
   "metadata": {
    "colab": {
     "base_uri": "https://localhost:8080/"
    },
    "id": "UfWsWhrfhSzI",
    "outputId": "0e1738e8-da45-4cdd-eb16-22510a22585b"
   },
   "outputs": [
    {
     "data": {
      "text/plain": [
       "(36.430188200654655, 1.0300981362998551)"
      ]
     },
     "execution_count": 39,
     "metadata": {
      "tags": []
     },
     "output_type": "execute_result"
    }
   ],
   "source": [
    "X,Y"
   ]
  },
  {
   "cell_type": "code",
   "execution_count": 17,
   "metadata": {
    "colab": {
     "base_uri": "https://localhost:8080/"
    },
    "id": "6mtryTFQhT5v",
    "outputId": "507cfa28-9e4d-4f4c-d2fc-6faeb0645a96"
   },
   "outputs": [
    {
     "name": "stdout",
     "output_type": "stream",
     "text": [
      "Turkana\n"
     ]
    }
   ],
   "source": [
    "P2 = Point(X,Y)\n",
    "for county,poly in county_poly.items():\n",
    "  #print(county)\n",
    "  if P2.within(poly):\n",
    "    print(county)"
   ]
  },
  {
   "cell_type": "markdown",
   "metadata": {
    "id": "sHllDOkLhltF"
   },
   "source": [
    "*The logic also performs well on the rasters, the next stage is to go ahead and classify the rest of the images.*"
   ]
  },
  {
   "cell_type": "code",
   "execution_count": 40,
   "metadata": {
    "id": "gnWbmgaNhgyP"
   },
   "outputs": [],
   "source": [
    "#Creating a dataframe for storing the ndvi values\n",
    "location_df = pd.DataFrame(columns = [\"Image_ID\",\"Latitude\",\"Longitude\",\"County\"])\n",
    "\n",
    "#iterating through all the images in the folder\n",
    "for key in folder:\n",
    "  #loading image from tif file using rasterio\n",
    "  bf = rio.open(folder[key][0])\n",
    "\n",
    "  #getting the centre coordinate\n",
    "  X = bf.bounds[0] + (bf.bounds[2] - bf.bounds[0])/2 # X Coordinate or Longitude\n",
    "  Y = bf.bounds[1] + (bf.bounds[3] - bf.bounds[1])/2 # Y Coordinate  or Latitude\n",
    "\n",
    "  #the coordinates for the centre of the Area of Interest\n",
    "  P = Point(X,Y)\n",
    "  for county,poly in county_poly.items():\n",
    "    #print(county)\n",
    "    if P.within(poly):\n",
    "      #Saving the data into the dataframe\n",
    "      location_df = location_df.append({'Image_ID':key,'Latitude':Y,'Longitude':X,'County':county},ignore_index = True)\n",
    "\n",
    "    else:\n",
    "      pass\n",
    "      #print('dnfj')\n",
    "  "
   ]
  },
  {
   "cell_type": "code",
   "execution_count": 41,
   "metadata": {
    "colab": {
     "base_uri": "https://localhost:8080/",
     "height": 204
    },
    "id": "wTqFMFg3IBYN",
    "outputId": "69eeb8f3-33aa-48e9-eb21-1dc518170264"
   },
   "outputs": [
    {
     "data": {
      "text/html": [
       "<div>\n",
       "<style scoped>\n",
       "    .dataframe tbody tr th:only-of-type {\n",
       "        vertical-align: middle;\n",
       "    }\n",
       "\n",
       "    .dataframe tbody tr th {\n",
       "        vertical-align: top;\n",
       "    }\n",
       "\n",
       "    .dataframe thead th {\n",
       "        text-align: right;\n",
       "    }\n",
       "</style>\n",
       "<table border=\"1\" class=\"dataframe\">\n",
       "  <thead>\n",
       "    <tr style=\"text-align: right;\">\n",
       "      <th></th>\n",
       "      <th>Image_ID</th>\n",
       "      <th>Latitude</th>\n",
       "      <th>Longitude</th>\n",
       "      <th>County</th>\n",
       "    </tr>\n",
       "  </thead>\n",
       "  <tbody>\n",
       "    <tr>\n",
       "      <th>0</th>\n",
       "      <td>1</td>\n",
       "      <td>1.030098</td>\n",
       "      <td>36.430188</td>\n",
       "      <td>Turkana</td>\n",
       "    </tr>\n",
       "    <tr>\n",
       "      <th>1</th>\n",
       "      <td>55</td>\n",
       "      <td>3.121466</td>\n",
       "      <td>35.619638</td>\n",
       "      <td>Turkana</td>\n",
       "    </tr>\n",
       "    <tr>\n",
       "      <th>2</th>\n",
       "      <td>53</td>\n",
       "      <td>2.204825</td>\n",
       "      <td>35.801637</td>\n",
       "      <td>Turkana</td>\n",
       "    </tr>\n",
       "    <tr>\n",
       "      <th>3</th>\n",
       "      <td>52</td>\n",
       "      <td>2.191171</td>\n",
       "      <td>35.795259</td>\n",
       "      <td>Turkana</td>\n",
       "    </tr>\n",
       "    <tr>\n",
       "      <th>4</th>\n",
       "      <td>51</td>\n",
       "      <td>3.011512</td>\n",
       "      <td>35.887696</td>\n",
       "      <td>Turkana</td>\n",
       "    </tr>\n",
       "  </tbody>\n",
       "</table>\n",
       "</div>"
      ],
      "text/plain": [
       "  Image_ID  Latitude  Longitude   County\n",
       "0        1  1.030098  36.430188  Turkana\n",
       "1       55  3.121466  35.619638  Turkana\n",
       "2       53  2.204825  35.801637  Turkana\n",
       "3       52  2.191171  35.795259  Turkana\n",
       "4       51  3.011512  35.887696  Turkana"
      ]
     },
     "execution_count": 41,
     "metadata": {
      "tags": []
     },
     "output_type": "execute_result"
    }
   ],
   "source": [
    "#image location dataframe\n",
    "location_df.head()"
   ]
  },
  {
   "cell_type": "code",
   "execution_count": null,
   "metadata": {
    "colab": {
     "base_uri": "https://localhost:8080/",
     "height": 224
    },
    "id": "KVwKeIFtHj6T",
    "outputId": "11f0c816-edf3-4911-fe32-73d9b6a605e5"
   },
   "outputs": [
    {
     "data": {
      "text/html": [
       "<div>\n",
       "<style scoped>\n",
       "    .dataframe tbody tr th:only-of-type {\n",
       "        vertical-align: middle;\n",
       "    }\n",
       "\n",
       "    .dataframe tbody tr th {\n",
       "        vertical-align: top;\n",
       "    }\n",
       "\n",
       "    .dataframe thead th {\n",
       "        text-align: right;\n",
       "    }\n",
       "</style>\n",
       "<table border=\"1\" class=\"dataframe\">\n",
       "  <thead>\n",
       "    <tr style=\"text-align: right;\">\n",
       "      <th></th>\n",
       "      <th>Image_ID</th>\n",
       "      <th>County</th>\n",
       "      <th>Total_Cropland(Ha)</th>\n",
       "      <th>Total_Pastureland(Ha)</th>\n",
       "      <th>Total_Forestland(Ha)</th>\n",
       "      <th>Low_Damage_Cropland(Ha)</th>\n",
       "      <th>Moderate_Damage_Cropland(Ha)</th>\n",
       "      <th>High_Damage_Cropland(Ha)</th>\n",
       "      <th>Low_Damage_Pastureland(Ha)</th>\n",
       "      <th>Moderate_Damage_Pastureland(Ha)</th>\n",
       "      <th>High_Damage_Pastureland(Ha)</th>\n",
       "      <th>Low_Damage_Forestland(Ha)</th>\n",
       "      <th>Moderate_Damage_Forestland(Ha)</th>\n",
       "      <th>High_Damage_Forestland(Ha)</th>\n",
       "    </tr>\n",
       "  </thead>\n",
       "  <tbody>\n",
       "    <tr>\n",
       "      <th>0</th>\n",
       "      <td>1</td>\n",
       "      <td>Turkana</td>\n",
       "      <td>0.0</td>\n",
       "      <td>12.22</td>\n",
       "      <td>84.33</td>\n",
       "      <td>0.00</td>\n",
       "      <td>0.00</td>\n",
       "      <td>0.00</td>\n",
       "      <td>5.47</td>\n",
       "      <td>5.47</td>\n",
       "      <td>1.28</td>\n",
       "      <td>24.17</td>\n",
       "      <td>38.51</td>\n",
       "      <td>21.65</td>\n",
       "    </tr>\n",
       "    <tr>\n",
       "      <th>1</th>\n",
       "      <td>55</td>\n",
       "      <td>Turkana</td>\n",
       "      <td>22.8</td>\n",
       "      <td>33.74</td>\n",
       "      <td>32.52</td>\n",
       "      <td>20.61</td>\n",
       "      <td>2.04</td>\n",
       "      <td>0.15</td>\n",
       "      <td>31.25</td>\n",
       "      <td>2.40</td>\n",
       "      <td>0.09</td>\n",
       "      <td>23.35</td>\n",
       "      <td>8.71</td>\n",
       "      <td>0.46</td>\n",
       "    </tr>\n",
       "    <tr>\n",
       "      <th>2</th>\n",
       "      <td>53</td>\n",
       "      <td>Turkana</td>\n",
       "      <td>0.0</td>\n",
       "      <td>100.53</td>\n",
       "      <td>8.03</td>\n",
       "      <td>0.00</td>\n",
       "      <td>0.00</td>\n",
       "      <td>0.00</td>\n",
       "      <td>83.34</td>\n",
       "      <td>16.20</td>\n",
       "      <td>0.99</td>\n",
       "      <td>6.16</td>\n",
       "      <td>1.80</td>\n",
       "      <td>0.07</td>\n",
       "    </tr>\n",
       "    <tr>\n",
       "      <th>3</th>\n",
       "      <td>52</td>\n",
       "      <td>Turkana</td>\n",
       "      <td>0.0</td>\n",
       "      <td>164.68</td>\n",
       "      <td>1.52</td>\n",
       "      <td>0.00</td>\n",
       "      <td>0.00</td>\n",
       "      <td>0.00</td>\n",
       "      <td>143.43</td>\n",
       "      <td>20.38</td>\n",
       "      <td>0.87</td>\n",
       "      <td>1.39</td>\n",
       "      <td>0.13</td>\n",
       "      <td>0.00</td>\n",
       "    </tr>\n",
       "    <tr>\n",
       "      <th>4</th>\n",
       "      <td>51</td>\n",
       "      <td>Turkana</td>\n",
       "      <td>0.0</td>\n",
       "      <td>39.38</td>\n",
       "      <td>1.76</td>\n",
       "      <td>0.00</td>\n",
       "      <td>0.00</td>\n",
       "      <td>0.00</td>\n",
       "      <td>32.11</td>\n",
       "      <td>6.53</td>\n",
       "      <td>0.74</td>\n",
       "      <td>1.32</td>\n",
       "      <td>0.39</td>\n",
       "      <td>0.05</td>\n",
       "    </tr>\n",
       "  </tbody>\n",
       "</table>\n",
       "</div>"
      ],
      "text/plain": [
       "  Image_ID   County  ...  Moderate_Damage_Forestland(Ha)  High_Damage_Forestland(Ha)\n",
       "0        1  Turkana  ...                           38.51                       21.65\n",
       "1       55  Turkana  ...                            8.71                        0.46\n",
       "2       53  Turkana  ...                            1.80                        0.07\n",
       "3       52  Turkana  ...                            0.13                        0.00\n",
       "4       51  Turkana  ...                            0.39                        0.05\n",
       "\n",
       "[5 rows x 14 columns]"
      ]
     },
     "execution_count": 41,
     "metadata": {
      "tags": []
     },
     "output_type": "execute_result"
    }
   ],
   "source": [
    "#merging the two data frames for NDVI difference and location\n",
    "veg_loc_df = pd.merge(location_df,veg_df,on = 'Image_ID')\n",
    "veg_loc_df.head()"
   ]
  },
  {
   "cell_type": "code",
   "execution_count": null,
   "metadata": {
    "id": "za90tZHVoVf2"
   },
   "outputs": [],
   "source": [
    "#saving the dataframe into csv file\n",
    "veg_loc_df.to_csv('/content/drive/My Drive/Omdena Project/Data/damage_assessment_EVI2.csv',index = False)"
   ]
  },
  {
   "cell_type": "markdown",
   "metadata": {
    "id": "Nu2RGo4EOiCd"
   },
   "source": [
    "### Exploratory Data Analysis (Damage Assessement_EVI.csv data)"
   ]
  },
  {
   "cell_type": "code",
   "execution_count": 56,
   "metadata": {
    "colab": {
     "base_uri": "https://localhost:8080/",
     "height": 224
    },
    "id": "mzRKe_8P9zPu",
    "outputId": "649bd768-1339-4c15-dfb9-b3e7bdc06ba7"
   },
   "outputs": [
    {
     "data": {
      "text/html": [
       "<div>\n",
       "<style scoped>\n",
       "    .dataframe tbody tr th:only-of-type {\n",
       "        vertical-align: middle;\n",
       "    }\n",
       "\n",
       "    .dataframe tbody tr th {\n",
       "        vertical-align: top;\n",
       "    }\n",
       "\n",
       "    .dataframe thead th {\n",
       "        text-align: right;\n",
       "    }\n",
       "</style>\n",
       "<table border=\"1\" class=\"dataframe\">\n",
       "  <thead>\n",
       "    <tr style=\"text-align: right;\">\n",
       "      <th></th>\n",
       "      <th>Image_ID</th>\n",
       "      <th>Latitude</th>\n",
       "      <th>Longitude</th>\n",
       "      <th>County</th>\n",
       "      <th>Total_Cropland(Ha)</th>\n",
       "      <th>Total_Pastureland(Ha)</th>\n",
       "      <th>Total_Forestland(Ha)</th>\n",
       "      <th>Low_Damage_Cropland(Ha)</th>\n",
       "      <th>Moderate_Damage_Cropland(Ha)</th>\n",
       "      <th>High_Damage_Cropland(Ha)</th>\n",
       "      <th>Low_Damage_Pastureland(Ha)</th>\n",
       "      <th>Moderate_Damage_Pastureland(Ha)</th>\n",
       "      <th>High_Damage_Pastureland(Ha)</th>\n",
       "      <th>Low_Damage_Forestland(Ha)</th>\n",
       "      <th>Moderate_Damage_Forestland(Ha)</th>\n",
       "      <th>High_Damage_Forestland(Ha)</th>\n",
       "    </tr>\n",
       "  </thead>\n",
       "  <tbody>\n",
       "    <tr>\n",
       "      <th>0</th>\n",
       "      <td>1</td>\n",
       "      <td>1.030098</td>\n",
       "      <td>36.430188</td>\n",
       "      <td>Turkana</td>\n",
       "      <td>0.0</td>\n",
       "      <td>12.22</td>\n",
       "      <td>84.33</td>\n",
       "      <td>0.00</td>\n",
       "      <td>0.00</td>\n",
       "      <td>0.00</td>\n",
       "      <td>5.47</td>\n",
       "      <td>5.47</td>\n",
       "      <td>1.28</td>\n",
       "      <td>24.17</td>\n",
       "      <td>38.51</td>\n",
       "      <td>21.65</td>\n",
       "    </tr>\n",
       "    <tr>\n",
       "      <th>1</th>\n",
       "      <td>55</td>\n",
       "      <td>3.121466</td>\n",
       "      <td>35.619638</td>\n",
       "      <td>Turkana</td>\n",
       "      <td>22.8</td>\n",
       "      <td>33.74</td>\n",
       "      <td>32.52</td>\n",
       "      <td>20.61</td>\n",
       "      <td>2.04</td>\n",
       "      <td>0.15</td>\n",
       "      <td>31.25</td>\n",
       "      <td>2.40</td>\n",
       "      <td>0.09</td>\n",
       "      <td>23.35</td>\n",
       "      <td>8.71</td>\n",
       "      <td>0.46</td>\n",
       "    </tr>\n",
       "    <tr>\n",
       "      <th>2</th>\n",
       "      <td>53</td>\n",
       "      <td>2.204825</td>\n",
       "      <td>35.801637</td>\n",
       "      <td>Turkana</td>\n",
       "      <td>0.0</td>\n",
       "      <td>100.53</td>\n",
       "      <td>8.03</td>\n",
       "      <td>0.00</td>\n",
       "      <td>0.00</td>\n",
       "      <td>0.00</td>\n",
       "      <td>83.34</td>\n",
       "      <td>16.20</td>\n",
       "      <td>0.99</td>\n",
       "      <td>6.16</td>\n",
       "      <td>1.80</td>\n",
       "      <td>0.07</td>\n",
       "    </tr>\n",
       "    <tr>\n",
       "      <th>3</th>\n",
       "      <td>52</td>\n",
       "      <td>2.191171</td>\n",
       "      <td>35.795259</td>\n",
       "      <td>Turkana</td>\n",
       "      <td>0.0</td>\n",
       "      <td>164.68</td>\n",
       "      <td>1.52</td>\n",
       "      <td>0.00</td>\n",
       "      <td>0.00</td>\n",
       "      <td>0.00</td>\n",
       "      <td>143.43</td>\n",
       "      <td>20.38</td>\n",
       "      <td>0.87</td>\n",
       "      <td>1.39</td>\n",
       "      <td>0.13</td>\n",
       "      <td>0.00</td>\n",
       "    </tr>\n",
       "    <tr>\n",
       "      <th>4</th>\n",
       "      <td>51</td>\n",
       "      <td>3.011512</td>\n",
       "      <td>35.887696</td>\n",
       "      <td>Turkana</td>\n",
       "      <td>0.0</td>\n",
       "      <td>39.38</td>\n",
       "      <td>1.76</td>\n",
       "      <td>0.00</td>\n",
       "      <td>0.00</td>\n",
       "      <td>0.00</td>\n",
       "      <td>32.11</td>\n",
       "      <td>6.53</td>\n",
       "      <td>0.74</td>\n",
       "      <td>1.32</td>\n",
       "      <td>0.39</td>\n",
       "      <td>0.05</td>\n",
       "    </tr>\n",
       "  </tbody>\n",
       "</table>\n",
       "</div>"
      ],
      "text/plain": [
       "   Image_ID  ...  High_Damage_Forestland(Ha)\n",
       "0         1  ...                       21.65\n",
       "1        55  ...                        0.46\n",
       "2        53  ...                        0.07\n",
       "3        52  ...                        0.00\n",
       "4        51  ...                        0.05\n",
       "\n",
       "[5 rows x 16 columns]"
      ]
     },
     "execution_count": 56,
     "metadata": {
      "tags": []
     },
     "output_type": "execute_result"
    }
   ],
   "source": [
    "#loading the csv file - The File can can be found on the Data Folder from Github Repository\n",
    "df = pd.read_csv('/content/drive/My Drive/Omdena Project/Data/damage_assessment_EVI2.csv')\n",
    "df.head()"
   ]
  },
  {
   "cell_type": "code",
   "execution_count": null,
   "metadata": {
    "colab": {
     "base_uri": "https://localhost:8080/"
    },
    "id": "OLXFR0_1Q-_j",
    "outputId": "aae4b7d2-9349-424c-8b57-53c9dd1b76e0"
   },
   "outputs": [
    {
     "data": {
      "text/plain": [
       "Index(['Total_Cropland(Ha)', 'Total_Pastureland(Ha)', 'Total_Forestland(Ha)',\n",
       "       'Low_Damage_Cropland(Ha)', 'Moderate_Damage_Cropland(Ha)',\n",
       "       'High_Damage_Cropland(Ha)', 'Low_Damage_Pastureland(Ha)',\n",
       "       'Moderate_Damage_Pastureland(Ha)', 'High_Damage_Pastureland(Ha)',\n",
       "       'Low_Damage_Forestland(Ha)', 'Moderate_Damage_Forestland(Ha)',\n",
       "       'High_Damage_Forestland(Ha)'],\n",
       "      dtype='object')"
      ]
     },
     "execution_count": 36,
     "metadata": {
      "tags": []
     },
     "output_type": "execute_result"
    }
   ],
   "source": [
    "df.columns[2:]"
   ]
  },
  {
   "cell_type": "code",
   "execution_count": 57,
   "metadata": {
    "colab": {
     "base_uri": "https://localhost:8080/",
     "height": 255
    },
    "id": "BQ_DSI7aOhBl",
    "outputId": "60926644-e0c5-4505-d08a-b0d729bd68b6"
   },
   "outputs": [
    {
     "data": {
      "text/html": [
       "<div>\n",
       "<style scoped>\n",
       "    .dataframe tbody tr th:only-of-type {\n",
       "        vertical-align: middle;\n",
       "    }\n",
       "\n",
       "    .dataframe tbody tr th {\n",
       "        vertical-align: top;\n",
       "    }\n",
       "\n",
       "    .dataframe thead th {\n",
       "        text-align: right;\n",
       "    }\n",
       "</style>\n",
       "<table border=\"1\" class=\"dataframe\">\n",
       "  <thead>\n",
       "    <tr style=\"text-align: right;\">\n",
       "      <th></th>\n",
       "      <th>Total_Cropland(Ha)</th>\n",
       "      <th>Total_Pastureland(Ha)</th>\n",
       "      <th>Total_Forestland(Ha)</th>\n",
       "      <th>Low_Damage_Cropland(Ha)</th>\n",
       "      <th>Moderate_Damage_Cropland(Ha)</th>\n",
       "      <th>High_Damage_Cropland(Ha)</th>\n",
       "      <th>Low_Damage_Pastureland(Ha)</th>\n",
       "      <th>Moderate_Damage_Pastureland(Ha)</th>\n",
       "      <th>High_Damage_Pastureland(Ha)</th>\n",
       "      <th>Low_Damage_Forestland(Ha)</th>\n",
       "      <th>Moderate_Damage_Forestland(Ha)</th>\n",
       "      <th>High_Damage_Forestland(Ha)</th>\n",
       "    </tr>\n",
       "    <tr>\n",
       "      <th>County</th>\n",
       "      <th></th>\n",
       "      <th></th>\n",
       "      <th></th>\n",
       "      <th></th>\n",
       "      <th></th>\n",
       "      <th></th>\n",
       "      <th></th>\n",
       "      <th></th>\n",
       "      <th></th>\n",
       "      <th></th>\n",
       "      <th></th>\n",
       "      <th></th>\n",
       "    </tr>\n",
       "  </thead>\n",
       "  <tbody>\n",
       "    <tr>\n",
       "      <th>Baringo</th>\n",
       "      <td>57.83</td>\n",
       "      <td>183.80</td>\n",
       "      <td>469.72</td>\n",
       "      <td>33.45</td>\n",
       "      <td>19.22</td>\n",
       "      <td>5.16</td>\n",
       "      <td>124.40</td>\n",
       "      <td>39.05</td>\n",
       "      <td>20.35</td>\n",
       "      <td>282.49</td>\n",
       "      <td>120.70</td>\n",
       "      <td>66.53</td>\n",
       "    </tr>\n",
       "    <tr>\n",
       "      <th>Garissa</th>\n",
       "      <td>6.69</td>\n",
       "      <td>183.13</td>\n",
       "      <td>19.49</td>\n",
       "      <td>4.99</td>\n",
       "      <td>1.51</td>\n",
       "      <td>0.19</td>\n",
       "      <td>106.80</td>\n",
       "      <td>62.74</td>\n",
       "      <td>13.59</td>\n",
       "      <td>13.32</td>\n",
       "      <td>5.47</td>\n",
       "      <td>0.70</td>\n",
       "    </tr>\n",
       "    <tr>\n",
       "      <th>Isiolo</th>\n",
       "      <td>12.82</td>\n",
       "      <td>4117.70</td>\n",
       "      <td>1770.58</td>\n",
       "      <td>8.66</td>\n",
       "      <td>3.63</td>\n",
       "      <td>0.53</td>\n",
       "      <td>2596.84</td>\n",
       "      <td>1265.08</td>\n",
       "      <td>255.78</td>\n",
       "      <td>973.05</td>\n",
       "      <td>588.56</td>\n",
       "      <td>208.97</td>\n",
       "    </tr>\n",
       "    <tr>\n",
       "      <th>Kericho</th>\n",
       "      <td>221.27</td>\n",
       "      <td>0.03</td>\n",
       "      <td>0.45</td>\n",
       "      <td>104.39</td>\n",
       "      <td>56.23</td>\n",
       "      <td>60.65</td>\n",
       "      <td>0.03</td>\n",
       "      <td>0.00</td>\n",
       "      <td>0.00</td>\n",
       "      <td>0.24</td>\n",
       "      <td>0.19</td>\n",
       "      <td>0.02</td>\n",
       "    </tr>\n",
       "    <tr>\n",
       "      <th>Kirinyaga</th>\n",
       "      <td>2.62</td>\n",
       "      <td>15.51</td>\n",
       "      <td>210.27</td>\n",
       "      <td>1.30</td>\n",
       "      <td>0.53</td>\n",
       "      <td>0.79</td>\n",
       "      <td>7.35</td>\n",
       "      <td>2.79</td>\n",
       "      <td>5.37</td>\n",
       "      <td>73.97</td>\n",
       "      <td>47.53</td>\n",
       "      <td>88.77</td>\n",
       "    </tr>\n",
       "  </tbody>\n",
       "</table>\n",
       "</div>"
      ],
      "text/plain": [
       "           Total_Cropland(Ha)  ...  High_Damage_Forestland(Ha)\n",
       "County                         ...                            \n",
       "Baringo                 57.83  ...                       66.53\n",
       "Garissa                  6.69  ...                        0.70\n",
       "Isiolo                  12.82  ...                      208.97\n",
       "Kericho                221.27  ...                        0.02\n",
       "Kirinyaga                2.62  ...                       88.77\n",
       "\n",
       "[5 rows x 12 columns]"
      ]
     },
     "execution_count": 57,
     "metadata": {
      "tags": []
     },
     "output_type": "execute_result"
    }
   ],
   "source": [
    "#grouping the data by county\n",
    "county_df = pd.DataFrame(df.groupby('County')[df.columns[3:]].sum())\n",
    "county_df.head()"
   ]
  },
  {
   "cell_type": "code",
   "execution_count": null,
   "metadata": {
    "colab": {
     "base_uri": "https://localhost:8080/",
     "height": 255
    },
    "id": "jGRMJ719Og6h",
    "outputId": "5673e1c2-036c-4585-d3db-d3ccbbdf19eb"
   },
   "outputs": [
    {
     "data": {
      "text/html": [
       "<div>\n",
       "<style scoped>\n",
       "    .dataframe tbody tr th:only-of-type {\n",
       "        vertical-align: middle;\n",
       "    }\n",
       "\n",
       "    .dataframe tbody tr th {\n",
       "        vertical-align: top;\n",
       "    }\n",
       "\n",
       "    .dataframe thead th {\n",
       "        text-align: right;\n",
       "    }\n",
       "</style>\n",
       "<table border=\"1\" class=\"dataframe\">\n",
       "  <thead>\n",
       "    <tr style=\"text-align: right;\">\n",
       "      <th></th>\n",
       "      <th>Total_Cropland(Ha)</th>\n",
       "      <th>Total_Pastureland(Ha)</th>\n",
       "      <th>Total_Forestland(Ha)</th>\n",
       "      <th>Low_Damage_Cropland(Ha)</th>\n",
       "      <th>Moderate_Damage_Cropland(Ha)</th>\n",
       "      <th>High_Damage_Cropland(Ha)</th>\n",
       "      <th>Low_Damage_Pastureland(Ha)</th>\n",
       "      <th>Moderate_Damage_Pastureland(Ha)</th>\n",
       "      <th>High_Damage_Pastureland(Ha)</th>\n",
       "      <th>Low_Damage_Forestland(Ha)</th>\n",
       "      <th>Moderate_Damage_Forestland(Ha)</th>\n",
       "      <th>High_Damage_Forestland(Ha)</th>\n",
       "      <th>Total_Damage(Ha)</th>\n",
       "    </tr>\n",
       "    <tr>\n",
       "      <th>County</th>\n",
       "      <th></th>\n",
       "      <th></th>\n",
       "      <th></th>\n",
       "      <th></th>\n",
       "      <th></th>\n",
       "      <th></th>\n",
       "      <th></th>\n",
       "      <th></th>\n",
       "      <th></th>\n",
       "      <th></th>\n",
       "      <th></th>\n",
       "      <th></th>\n",
       "      <th></th>\n",
       "    </tr>\n",
       "  </thead>\n",
       "  <tbody>\n",
       "    <tr>\n",
       "      <th>Baringo</th>\n",
       "      <td>57.83</td>\n",
       "      <td>183.80</td>\n",
       "      <td>469.72</td>\n",
       "      <td>33.45</td>\n",
       "      <td>19.22</td>\n",
       "      <td>5.16</td>\n",
       "      <td>124.40</td>\n",
       "      <td>39.05</td>\n",
       "      <td>20.35</td>\n",
       "      <td>282.49</td>\n",
       "      <td>120.70</td>\n",
       "      <td>66.53</td>\n",
       "      <td>716.51</td>\n",
       "    </tr>\n",
       "    <tr>\n",
       "      <th>Garissa</th>\n",
       "      <td>6.69</td>\n",
       "      <td>183.13</td>\n",
       "      <td>19.49</td>\n",
       "      <td>4.99</td>\n",
       "      <td>1.51</td>\n",
       "      <td>0.19</td>\n",
       "      <td>106.80</td>\n",
       "      <td>62.74</td>\n",
       "      <td>13.59</td>\n",
       "      <td>13.32</td>\n",
       "      <td>5.47</td>\n",
       "      <td>0.70</td>\n",
       "      <td>209.50</td>\n",
       "    </tr>\n",
       "    <tr>\n",
       "      <th>Isiolo</th>\n",
       "      <td>12.82</td>\n",
       "      <td>4218.10</td>\n",
       "      <td>1851.20</td>\n",
       "      <td>8.66</td>\n",
       "      <td>3.63</td>\n",
       "      <td>0.53</td>\n",
       "      <td>2674.82</td>\n",
       "      <td>1284.64</td>\n",
       "      <td>258.64</td>\n",
       "      <td>1040.16</td>\n",
       "      <td>599.28</td>\n",
       "      <td>211.76</td>\n",
       "      <td>6082.65</td>\n",
       "    </tr>\n",
       "    <tr>\n",
       "      <th>Kericho</th>\n",
       "      <td>221.27</td>\n",
       "      <td>0.03</td>\n",
       "      <td>0.45</td>\n",
       "      <td>104.39</td>\n",
       "      <td>56.23</td>\n",
       "      <td>60.65</td>\n",
       "      <td>0.03</td>\n",
       "      <td>0.00</td>\n",
       "      <td>0.00</td>\n",
       "      <td>0.24</td>\n",
       "      <td>0.19</td>\n",
       "      <td>0.02</td>\n",
       "      <td>282.40</td>\n",
       "    </tr>\n",
       "    <tr>\n",
       "      <th>Kirinyaga</th>\n",
       "      <td>2.62</td>\n",
       "      <td>15.51</td>\n",
       "      <td>210.27</td>\n",
       "      <td>1.30</td>\n",
       "      <td>0.53</td>\n",
       "      <td>0.79</td>\n",
       "      <td>7.35</td>\n",
       "      <td>2.79</td>\n",
       "      <td>5.37</td>\n",
       "      <td>73.97</td>\n",
       "      <td>47.53</td>\n",
       "      <td>88.77</td>\n",
       "      <td>229.19</td>\n",
       "    </tr>\n",
       "  </tbody>\n",
       "</table>\n",
       "</div>"
      ],
      "text/plain": [
       "           Total_Cropland(Ha)  ...  Total_Damage(Ha)\n",
       "County                         ...                  \n",
       "Baringo                 57.83  ...            716.51\n",
       "Garissa                  6.69  ...            209.50\n",
       "Isiolo                  12.82  ...           6082.65\n",
       "Kericho                221.27  ...            282.40\n",
       "Kirinyaga                2.62  ...            229.19\n",
       "\n",
       "[5 rows x 13 columns]"
      ]
     },
     "execution_count": 45,
     "metadata": {
      "tags": []
     },
     "output_type": "execute_result"
    }
   ],
   "source": [
    "#calculating the total vegetation damage per county\n",
    "county_df['Total_Damage(Ha)'] = county_df['Total_Cropland(Ha)'] + county_df['Total_Pastureland(Ha)'] + county_df['High_Damage_Cropland(Ha)'] + county_df['Total_Forestland(Ha)']\n",
    "county_df.head()"
   ]
  },
  {
   "cell_type": "code",
   "execution_count": null,
   "metadata": {
    "colab": {
     "base_uri": "https://localhost:8080/",
     "height": 255
    },
    "id": "-zyza0gLULnj",
    "outputId": "da001287-5c8d-4fae-9d78-07b220f3bd00"
   },
   "outputs": [
    {
     "data": {
      "text/html": [
       "<div>\n",
       "<style scoped>\n",
       "    .dataframe tbody tr th:only-of-type {\n",
       "        vertical-align: middle;\n",
       "    }\n",
       "\n",
       "    .dataframe tbody tr th {\n",
       "        vertical-align: top;\n",
       "    }\n",
       "\n",
       "    .dataframe thead th {\n",
       "        text-align: right;\n",
       "    }\n",
       "</style>\n",
       "<table border=\"1\" class=\"dataframe\">\n",
       "  <thead>\n",
       "    <tr style=\"text-align: right;\">\n",
       "      <th></th>\n",
       "      <th>Total_Cropland(Ha)</th>\n",
       "      <th>Total_Pastureland(Ha)</th>\n",
       "      <th>Total_Forestland(Ha)</th>\n",
       "      <th>Low_Damage_Cropland(Ha)</th>\n",
       "      <th>Moderate_Damage_Cropland(Ha)</th>\n",
       "      <th>High_Damage_Cropland(Ha)</th>\n",
       "      <th>Low_Damage_Pastureland(Ha)</th>\n",
       "      <th>Moderate_Damage_Pastureland(Ha)</th>\n",
       "      <th>High_Damage_Pastureland(Ha)</th>\n",
       "      <th>Low_Damage_Forestland(Ha)</th>\n",
       "      <th>Moderate_Damage_Forestland(Ha)</th>\n",
       "      <th>High_Damage_Forestland(Ha)</th>\n",
       "      <th>Total_Damage(Ha)</th>\n",
       "    </tr>\n",
       "    <tr>\n",
       "      <th>County</th>\n",
       "      <th></th>\n",
       "      <th></th>\n",
       "      <th></th>\n",
       "      <th></th>\n",
       "      <th></th>\n",
       "      <th></th>\n",
       "      <th></th>\n",
       "      <th></th>\n",
       "      <th></th>\n",
       "      <th></th>\n",
       "      <th></th>\n",
       "      <th></th>\n",
       "      <th></th>\n",
       "    </tr>\n",
       "  </thead>\n",
       "  <tbody>\n",
       "    <tr>\n",
       "      <th>Turkana</th>\n",
       "      <td>1879.98</td>\n",
       "      <td>23220.11</td>\n",
       "      <td>1429.77</td>\n",
       "      <td>1434.56</td>\n",
       "      <td>344.69</td>\n",
       "      <td>100.73</td>\n",
       "      <td>16337.33</td>\n",
       "      <td>5988.59</td>\n",
       "      <td>894.19</td>\n",
       "      <td>945.27</td>\n",
       "      <td>409.12</td>\n",
       "      <td>75.38</td>\n",
       "      <td>26630.59</td>\n",
       "    </tr>\n",
       "    <tr>\n",
       "      <th>Marsabit</th>\n",
       "      <td>91.58</td>\n",
       "      <td>9505.43</td>\n",
       "      <td>1100.77</td>\n",
       "      <td>65.34</td>\n",
       "      <td>22.36</td>\n",
       "      <td>3.88</td>\n",
       "      <td>6056.63</td>\n",
       "      <td>2505.88</td>\n",
       "      <td>942.92</td>\n",
       "      <td>682.14</td>\n",
       "      <td>289.01</td>\n",
       "      <td>129.62</td>\n",
       "      <td>10701.66</td>\n",
       "    </tr>\n",
       "    <tr>\n",
       "      <th>Samburu</th>\n",
       "      <td>60.24</td>\n",
       "      <td>5764.48</td>\n",
       "      <td>1959.88</td>\n",
       "      <td>42.05</td>\n",
       "      <td>16.47</td>\n",
       "      <td>1.72</td>\n",
       "      <td>3696.53</td>\n",
       "      <td>1758.07</td>\n",
       "      <td>309.88</td>\n",
       "      <td>962.90</td>\n",
       "      <td>763.89</td>\n",
       "      <td>233.09</td>\n",
       "      <td>7786.32</td>\n",
       "    </tr>\n",
       "    <tr>\n",
       "      <th>Isiolo</th>\n",
       "      <td>12.82</td>\n",
       "      <td>4218.10</td>\n",
       "      <td>1851.20</td>\n",
       "      <td>8.66</td>\n",
       "      <td>3.63</td>\n",
       "      <td>0.53</td>\n",
       "      <td>2674.82</td>\n",
       "      <td>1284.64</td>\n",
       "      <td>258.64</td>\n",
       "      <td>1040.16</td>\n",
       "      <td>599.28</td>\n",
       "      <td>211.76</td>\n",
       "      <td>6082.65</td>\n",
       "    </tr>\n",
       "    <tr>\n",
       "      <th>Laikipia</th>\n",
       "      <td>1824.40</td>\n",
       "      <td>1017.20</td>\n",
       "      <td>551.88</td>\n",
       "      <td>547.48</td>\n",
       "      <td>642.03</td>\n",
       "      <td>634.89</td>\n",
       "      <td>439.31</td>\n",
       "      <td>415.76</td>\n",
       "      <td>162.13</td>\n",
       "      <td>260.98</td>\n",
       "      <td>215.32</td>\n",
       "      <td>75.58</td>\n",
       "      <td>4028.37</td>\n",
       "    </tr>\n",
       "  </tbody>\n",
       "</table>\n",
       "</div>"
      ],
      "text/plain": [
       "          Total_Cropland(Ha)  ...  Total_Damage(Ha)\n",
       "County                        ...                  \n",
       "Turkana              1879.98  ...          26630.59\n",
       "Marsabit               91.58  ...          10701.66\n",
       "Samburu                60.24  ...           7786.32\n",
       "Isiolo                 12.82  ...           6082.65\n",
       "Laikipia             1824.40  ...           4028.37\n",
       "\n",
       "[5 rows x 13 columns]"
      ]
     },
     "execution_count": 46,
     "metadata": {
      "tags": []
     },
     "output_type": "execute_result"
    }
   ],
   "source": [
    "# sorting the dataframe by total damage\n",
    "county_df = county_df.sort_values('Total_Damage(Ha)', ascending = False)\n",
    "county_df.head()"
   ]
  },
  {
   "cell_type": "code",
   "execution_count": null,
   "metadata": {
    "colab": {
     "base_uri": "https://localhost:8080/"
    },
    "id": "pwIf04E8g1O5",
    "outputId": "1fec24ca-a061-4903-c33a-1debe76c1f01"
   },
   "outputs": [
    {
     "data": {
      "text/plain": [
       "Total_Cropland(Ha)                 float64\n",
       "Total_Pastureland(Ha)              float64\n",
       "Total_Forestland(Ha)               float64\n",
       "Low_Damage_Cropland(Ha)            float64\n",
       "Moderate_Damage_Cropland(Ha)       float64\n",
       "High_Damage_Cropland(Ha)           float64\n",
       "Low_Damage_Pastureland(Ha)         float64\n",
       "Moderate_Damage_Pastureland(Ha)    float64\n",
       "High_Damage_Pastureland(Ha)        float64\n",
       "Low_Damage_Forestland(Ha)          float64\n",
       "Moderate_Damage_Forestland(Ha)     float64\n",
       "High_Damage_Forestland(Ha)         float64\n",
       "Total_Damage(Ha)                   float64\n",
       "dtype: object"
      ]
     },
     "execution_count": 32,
     "metadata": {
      "tags": []
     },
     "output_type": "execute_result"
    }
   ],
   "source": [
    "county_df.dtypes"
   ]
  },
  {
   "cell_type": "markdown",
   "metadata": {
    "id": "U6OESOyBWvgR"
   },
   "source": [
    "**Distribution of vegetation loss in the counties categorized by vegatation class**"
   ]
  },
  {
   "cell_type": "code",
   "execution_count": null,
   "metadata": {
    "colab": {
     "base_uri": "https://localhost:8080/",
     "height": 470
    },
    "id": "iKRNTLQOeUBh",
    "outputId": "aff5f1cf-27df-4430-d33b-a63f4a6360fa"
   },
   "outputs": [
    {
     "data": {
      "image/png": "[encoded data removed]",
      "text/plain": [
       "<Figure size 864x432 with 1 Axes>"
      ]
     },
     "metadata": {
      "needs_background": "light",
      "tags": []
     },
     "output_type": "display_data"
    }
   ],
   "source": [
    "#color map for the vegetation classes\n",
    "labels = {0:'Cropland', 1:'Pastureland', 2:'Forestland'}\n",
    "colors = {0:'orange', 1:'springgreen',2:'forestgreen'}\n",
    "patches = [ mpatches.Patch(color=colors[i], label=f'{labels[i]}') for i in range(len(labels)) ]\n",
    "\n",
    "# sorting the dataframe by total damage\n",
    "county_df = county_df.sort_values('Total_Damage(Ha)', ascending = True)\n",
    "\n",
    "# creating a stacked bar plot visualization\n",
    "fig,ax = plt.subplots(figsize = (12,6))\n",
    "ax.barh(y= county_df.index,width =  county_df['Total_Cropland(Ha)'].values,height = 0.8, color = 'orange')\n",
    "ax.barh(y = county_df.index, width = county_df['Total_Pastureland(Ha)'],height = 0.8, left =county_df['Total_Cropland(Ha)'].values,color = 'springgreen')\n",
    "ax.barh(y = county_df.index, width = county_df['Total_Forestland(Ha)'].values,height = 0.8, left =county_df['Total_Pastureland(Ha)'].values,color = 'forestgreen')\n",
    "\n",
    "ax.set_xticks(np.arange(0,22000,2000))\n",
    "ax.set_yticks(np.arange(len(county_df.index)))\n",
    "\n",
    "#labelling the figure\n",
    "plt.title('Total Area(Hectares) where EVI reduction was observed categorized by vegetation class ')\n",
    "plt.xlabel(' Area in Hectares')\n",
    "plt.ylabel('County')\n",
    "#ax.xaxis.grid()\n",
    "\n",
    "#creating a legend\n",
    "plt.legend(handles=patches, bbox_to_anchor=(0.4, -0.15), loc=2, borderaxespad=0. )\n",
    "\n",
    "#plt.savefig('/content/drive/My Drive/Omdena Project/Visualizations_Damage_Assessment/Vegetation_class_dist.png', dpi=200, bbox_inches='tight', pad_inches=0.7)\n",
    "plt.show();"
   ]
  },
  {
   "cell_type": "markdown",
   "metadata": {
    "id": "9LHZJPL2pxl8"
   },
   "source": [
    "**Which Vegetation Class was affected the most?**"
   ]
  },
  {
   "cell_type": "code",
   "execution_count": null,
   "metadata": {
    "colab": {
     "base_uri": "https://localhost:8080/",
     "height": 266
    },
    "id": "eO3bAn07pw6P",
    "outputId": "fcb78991-7927-4b93-e2ae-ea29db8beb4f"
   },
   "outputs": [
    {
     "data": {
      "image/png": "[encoded data removed]",
      "text/plain": [
       "<Figure size 432x288 with 1 Axes>"
      ]
     },
     "metadata": {
      "tags": []
     },
     "output_type": "display_data"
    }
   ],
   "source": [
    "#labels\n",
    "labels = ['Cropland','Pastureland','Forestland']\n",
    "#the summation for all affected areas \n",
    "total_area = [county_df['Total_Cropland(Ha)'].sum(),county_df['Total_Pastureland(Ha)'].sum(),county_df['Total_Forestland(Ha)'].sum()]\n",
    "explode = (0, 0.1, 0)  # only \"explode\" the 2nd slice \n",
    "#plotting the piechart\n",
    "fig1, ax1 = plt.subplots()\n",
    "ax1.pie(total_area, explode=explode, labels=labels, autopct='%1.1f%%',\n",
    "        shadow=False,colors= ['orange','springgreen','forestgreen'], startangle=90)\n",
    "ax1.axis('equal')  # Equal aspect ratio ensures that pie is drawn as a circle.\n",
    "\n",
    "plt.title('Distribution of EVI Reduction Across Vegetation Classes')\n",
    "\n",
    "#plt.savefig('/content/drive/My Drive/Omdena Project/Visualizations_Damage_Assessment/pie_chart.png', dpi=200, bbox_inches='tight', pad_inches=0.7)\n",
    "plt.show();"
   ]
  },
  {
   "cell_type": "markdown",
   "metadata": {
    "id": "RIppJmZ9pjZ-"
   },
   "source": [
    "**Assessing the Degree of Damage for Cropland**"
   ]
  },
  {
   "cell_type": "code",
   "execution_count": null,
   "metadata": {
    "colab": {
     "base_uri": "https://localhost:8080/",
     "height": 470
    },
    "id": "hJVCBlOzTLPK",
    "outputId": "a104b71c-94ef-4f59-d550-4dd33fd9ab48"
   },
   "outputs": [
    {
     "data": {
      "image/png": "[encoded data removed]",
      "text/plain": [
       "<Figure size 864x432 with 1 Axes>"
      ]
     },
     "metadata": {
      "needs_background": "light",
      "tags": []
     },
     "output_type": "display_data"
    }
   ],
   "source": [
    "#color map for the degree of damage\n",
    "labels = {0:'Low Damage', 1:'Moderate Damage', 2:'High Damage'}\n",
    "colors = {0:'lightcoral', 1:'brown',2:'red'}\n",
    "patches = [ mpatches.Patch(color=colors[i], label=f'{labels[i]}') for i in range(len(labels)) ]\n",
    "\n",
    "# sorting the dataframe by total damage\n",
    "county_df = county_df.sort_values('Total_Cropland(Ha)', ascending = True)\n",
    "\n",
    "# creating a stacked bar plot visualization\n",
    "fig = plt.figure(figsize = (12,6))\n",
    "plt.barh(county_df.index, county_df['Low_Damage_Cropland(Ha)'],height = 0.8, color = 'lightcoral')\n",
    "plt.barh(county_df.index, county_df['Moderate_Damage_Cropland(Ha)'],height = 0.8, left =county_df['Low_Damage_Cropland(Ha)'],color = 'brown')\n",
    "plt.barh(county_df.index, county_df['High_Damage_Cropland(Ha)'],height = 0.8, left =county_df['Moderate_Damage_Cropland(Ha)'],color = 'red')\n",
    "\n",
    "#labelling the figure\n",
    "plt.title('Total Area(Hectares) where EVI reduction in Cropland was observed categorized by Degree of Damage ')\n",
    "plt.xlabel(' Area in Hectares')\n",
    "plt.ylabel('County')\n",
    "\n",
    "#creating a legend\n",
    "plt.legend(handles=patches, bbox_to_anchor=(0.4, -0.15), loc=2, borderaxespad=0. )\n",
    "\n",
    "#plt.savefig('/content/drive/My Drive/Omdena Project/Visualizations_Damage_Assessment/crop_damage.png', dpi=200, bbox_inches='tight', pad_inches=0.7)\n",
    "plt.show();"
   ]
  },
  {
   "cell_type": "code",
   "execution_count": null,
   "metadata": {
    "colab": {
     "base_uri": "https://localhost:8080/"
    },
    "id": "eXWnLPzpkn34",
    "outputId": "802d4bd6-4e2e-459d-d3e0-7fbb52da732b"
   },
   "outputs": [
    {
     "data": {
      "text/plain": [
       "[2526.2599999999998, 1302.0400000000002, 951.4899999999999]"
      ]
     },
     "execution_count": 64,
     "metadata": {
      "tags": []
     },
     "output_type": "execute_result"
    }
   ],
   "source": [
    " Total_Degree_Crop = [county_df['Low_Damage_Cropland(Ha)'].sum(), county_df['Moderate_Damage_Cropland(Ha)'].sum(), county_df['High_Damage_Cropland(Ha)'].sum()]\n",
    " Total_Degree_Crop"
   ]
  },
  {
   "cell_type": "code",
   "execution_count": null,
   "metadata": {
    "colab": {
     "base_uri": "https://localhost:8080/",
     "height": 345
    },
    "id": "MEC-enUJkn34",
    "outputId": "5fc09bc3-443a-4989-979d-e8dbe631b280"
   },
   "outputs": [
    {
     "data": {
      "image/png": "[encoded data removed]",
      "text/plain": [
       "<Figure size 432x288 with 1 Axes>"
      ]
     },
     "metadata": {
      "tags": []
     },
     "output_type": "display_data"
    }
   ],
   "source": [
    "#labels\n",
    "labels = ['Low Damage','Moderate Damage','High Damage']\n",
    "\n",
    "explode = (0.1, 0, 0)  # only \"explode\" the 2nd slice \n",
    "#plotting the piechart\n",
    "fig1, ax1 = plt.subplots()\n",
    "ax1.pie(Total_Degree_Crop, explode=explode, labels=labels, autopct='%1.1f%%',\n",
    "        shadow=False,labeldistance = None, colors= ['lightcoral','brown','red'], startangle=90)\n",
    "ax1.axis('equal')  # Equal aspect ratio ensures that pie is drawn as a circle.\n",
    "\n",
    "plt.title('Distribution of Degree of Damage on Cropland using EVI')\n",
    "\n",
    "plt.legend(handles=patches, bbox_to_anchor=(0.4, -0.15), loc=2, borderaxespad=0. )\n",
    "\n",
    "#plt.savefig('/content/drive/My Drive/Omdena Project/Visualizations_Damage_Assessment/degree_damage_pie_chart.png', dpi=200, bbox_inches='tight', pad_inches=0.7)\n",
    "plt.show();"
   ]
  },
  {
   "cell_type": "markdown",
   "metadata": {
    "id": "BjBRjSLCeFLj"
   },
   "source": [
    "**Assessing the Degree of Damage for Pastureland**"
   ]
  },
  {
   "cell_type": "code",
   "execution_count": null,
   "metadata": {
    "colab": {
     "base_uri": "https://localhost:8080/",
     "height": 470
    },
    "id": "uMynl-MDgHIr",
    "outputId": "9c38a917-5d11-4193-c0b6-45695729eb35"
   },
   "outputs": [
    {
     "data": {
      "image/png": "[encoded data removed]",
      "text/plain": [
       "<Figure size 864x432 with 1 Axes>"
      ]
     },
     "metadata": {
      "needs_background": "light",
      "tags": []
     },
     "output_type": "display_data"
    }
   ],
   "source": [
    "#color map for the degree of damage\n",
    "labels = {0:'Low Damage', 1:'Moderate Damage', 2:'High Damage'}\n",
    "colors = {0:'lightcoral', 1:'brown',2:'red'}\n",
    "patches = [ mpatches.Patch(color=colors[i], label=f'{labels[i]}') for i in range(len(labels)) ]\n",
    "\n",
    "# sorting the dataframe by total damage\n",
    "county_df = county_df.sort_values('Total_Pastureland(Ha)', ascending = True)\n",
    "\n",
    "# creating a stacked bar plot visualization\n",
    "fig = plt.figure(figsize = (12,6))\n",
    "plt.barh(county_df.index, county_df['Low_Damage_Pastureland(Ha)'],height = 0.8, color = 'lightcoral')\n",
    "plt.barh(county_df.index, county_df['Moderate_Damage_Pastureland(Ha)'],height = 0.8, left =county_df['Low_Damage_Pastureland(Ha)'],color = 'brown')\n",
    "plt.barh(county_df.index, county_df['High_Damage_Pastureland(Ha)'],height = 0.8, left =county_df['Moderate_Damage_Pastureland(Ha)'],color = 'red')\n",
    "\n",
    "#labelling the figure\n",
    "plt.title('Total Area(Hectares) where EVI reduction in Pastureland was observed categorized by Degree of Damage ')\n",
    "plt.xlabel(' Area in Hectares')\n",
    "plt.ylabel('County')\n",
    "\n",
    "#creating a legend\n",
    "plt.legend(handles=patches, bbox_to_anchor=(0.4, -0.15), loc=2, borderaxespad=0. )\n",
    "\n",
    "plt.savefig('/content/drive/My Drive/Omdena Project/Visualizations_Damage_Assessment/Pastureland_Damage.png', dpi=200, bbox_inches='tight', pad_inches=0.7)\n",
    "plt.show();"
   ]
  },
  {
   "cell_type": "code",
   "execution_count": null,
   "metadata": {
    "colab": {
     "base_uri": "https://localhost:8080/"
    },
    "id": "RLUuZu68hZmQ",
    "outputId": "8b47a42f-2b10-4e8e-cce4-fa1678da96f9"
   },
   "outputs": [
    {
     "data": {
      "text/plain": [
       "[30732.099999999995, 12876.710000000006, 2811.66]"
      ]
     },
     "execution_count": 67,
     "metadata": {
      "tags": []
     },
     "output_type": "execute_result"
    }
   ],
   "source": [
    " Total_Degree_Pasture = [county_df['Low_Damage_Pastureland(Ha)'].sum(), county_df['Moderate_Damage_Pastureland(Ha)'].sum(), county_df['High_Damage_Pastureland(Ha)'].sum()]\n",
    " Total_Degree_Pasture"
   ]
  },
  {
   "cell_type": "code",
   "execution_count": null,
   "metadata": {
    "colab": {
     "base_uri": "https://localhost:8080/",
     "height": 345
    },
    "id": "sGtldID-hZmX",
    "outputId": "9cebcc32-7a2b-46aa-fe1f-14f59268a31c"
   },
   "outputs": [
    {
     "data": {
      "image/png": "[encoded data removed]",
      "text/plain": [
       "<Figure size 432x288 with 1 Axes>"
      ]
     },
     "metadata": {
      "tags": []
     },
     "output_type": "display_data"
    }
   ],
   "source": [
    "#labels\n",
    "labels = ['Low Damage','Moderate Damage','High Damage']\n",
    "\n",
    "explode = (0.1, 0, 0)  # only \"explode\" the 2nd slice \n",
    "#plotting the piechart\n",
    "fig1, ax1 = plt.subplots()\n",
    "ax1.pie(Total_Degree_Pasture, explode=explode, labels=labels, autopct='%1.1f%%',\n",
    "        shadow=False,labeldistance = None,colors= ['lightcoral','brown','red'], startangle=90)\n",
    "ax1.axis('equal')  # Equal aspect ratio ensures that pie is drawn as a circle.\n",
    "\n",
    "plt.title('Distribution of Degree of Damage on Pastureland using EVI')\n",
    "\n",
    "plt.legend(handles=patches, bbox_to_anchor=(0.4, -0.15), loc=2, borderaxespad=0. )\n",
    "\n",
    "#plt.savefig('/content/drive/My Drive/Omdena Project/Visualizations_Damage_Assessment/degree_damage_pie_chart.png', dpi=200, bbox_inches='tight', pad_inches=0.7)\n",
    "plt.show();"
   ]
  },
  {
   "cell_type": "markdown",
   "metadata": {
    "id": "GI9d5qw1eTPW"
   },
   "source": [
    "**Assessing the Degree of Damage for Forestland**"
   ]
  },
  {
   "cell_type": "code",
   "execution_count": null,
   "metadata": {
    "colab": {
     "base_uri": "https://localhost:8080/",
     "height": 470
    },
    "id": "RsSfPj_ZgGpf",
    "outputId": "1b4783fb-3683-476c-d3c4-fbc9823bb173"
   },
   "outputs": [
    {
     "data": {
      "image/png": "[encoded data removed]",
      "text/plain": [
       "<Figure size 864x432 with 1 Axes>"
      ]
     },
     "metadata": {
      "needs_background": "light",
      "tags": []
     },
     "output_type": "display_data"
    }
   ],
   "source": [
    "\n",
    "# sorting the dataframe by total damage\n",
    "county_df = county_df.sort_values('Total_Forestland(Ha)', ascending = True)\n",
    "\n",
    "# creating a stacked bar plot visualization\n",
    "fig = plt.figure(figsize = (12,6))\n",
    "plt.barh(county_df.index, county_df['Low_Damage_Forestland(Ha)'],height = 0.8, color = 'lightcoral')\n",
    "plt.barh(county_df.index, county_df['Moderate_Damage_Forestland(Ha)'],height = 0.8, left =county_df['Low_Damage_Forestland(Ha)'],color = 'brown')\n",
    "plt.barh(county_df.index, county_df['High_Damage_Forestland(Ha)'],height = 0.8, left =county_df['Moderate_Damage_Forestland(Ha)'],color = 'red')\n",
    "\n",
    "#labelling the figure\n",
    "plt.title('Total Area(Hectares) where EVI reduction in Forestland was observed categorized by Degree of Damage ')\n",
    "plt.xlabel(' Area in Hectares')\n",
    "plt.ylabel('County')\n",
    "\n",
    "#creating a legend\n",
    "plt.legend(handles=patches, bbox_to_anchor=(0.4, -0.15), loc=2, borderaxespad=0. )\n",
    "\n",
    "plt.savefig('/content/drive/My Drive/Omdena Project/Visualizations_Damage_Assessment/Forestland_Damage.png', dpi=200, bbox_inches='tight', pad_inches=0.7)\n",
    "plt.show();"
   ]
  },
  {
   "cell_type": "code",
   "execution_count": null,
   "metadata": {
    "colab": {
     "base_uri": "https://localhost:8080/"
    },
    "id": "3H4XSyUngZr8",
    "outputId": "e4230faa-ce5a-44ab-a258-b35f0bd7d640"
   },
   "outputs": [
    {
     "data": {
      "text/plain": [
       "[4872.17, 2787.66, 961.2700000000002]"
      ]
     },
     "execution_count": 69,
     "metadata": {
      "tags": []
     },
     "output_type": "execute_result"
    }
   ],
   "source": [
    " Total_Degree_Forest = [county_df['Low_Damage_Forestland(Ha)'].sum(), county_df['Moderate_Damage_Forestland(Ha)'].sum(), county_df['High_Damage_Forestland(Ha)'].sum()]\n",
    " Total_Degree_Forest"
   ]
  },
  {
   "cell_type": "code",
   "execution_count": null,
   "metadata": {
    "colab": {
     "base_uri": "https://localhost:8080/",
     "height": 345
    },
    "id": "5aqioBspg6HD",
    "outputId": "3b37bbed-6df9-44eb-c330-f29ea1a48067"
   },
   "outputs": [
    {
     "data": {
      "image/png": "[encoded data removed]",
      "text/plain": [
       "<Figure size 432x288 with 1 Axes>"
      ]
     },
     "metadata": {
      "tags": []
     },
     "output_type": "display_data"
    }
   ],
   "source": [
    "#labels\n",
    "labels = ['Low Damage','Moderate Damage','High Damage']\n",
    "\n",
    "explode = (0.1, 0, 0)  # only \"explode\" the 2nd slice \n",
    "#plotting the piechart\n",
    "fig1, ax1 = plt.subplots()\n",
    "ax1.pie(Total_Degree_Forest, explode=explode, labels=labels, autopct='%1.1f%%',\n",
    "        shadow=False,labeldistance = None,colors= ['lightcoral','brown','red'], startangle=90)\n",
    "ax1.axis('equal')  # Equal aspect ratio ensures that pie is drawn as a circle.\n",
    "\n",
    "plt.title('Distribution of Degree of Damage on Forestland using EVI')\n",
    "#creating a legend\n",
    "\n",
    "plt.legend(handles=patches, bbox_to_anchor=(0.4, -0.15), loc=2, borderaxespad=0. )\n",
    "\n",
    "#plt.savefig('/content/drive/My Drive/Omdena Project/Visualizations_Damage_Assessment/degree_damage_pie_chart.png', dpi=200, bbox_inches='tight', pad_inches=0.7)\n",
    "plt.show();"
   ]
  },
  {
   "cell_type": "markdown",
   "metadata": {
    "id": "pKpmA8Dss-qS"
   },
   "source": [
    "**Assessing the Degree of Damage for all vegetation Classes**"
   ]
  },
  {
   "cell_type": "code",
   "execution_count": null,
   "metadata": {
    "colab": {
     "base_uri": "https://localhost:8080/"
    },
    "id": "fq-_3i8HrWGR",
    "outputId": "432e1450-493b-41d3-de3f-28f84dc4e5e6"
   },
   "outputs": [
    {
     "data": {
      "text/plain": [
       "[38130.52999999999, 16966.410000000003, 4724.42]"
      ]
     },
     "execution_count": 7,
     "metadata": {
      "tags": []
     },
     "output_type": "execute_result"
    }
   ],
   "source": [
    "#Getting the total damage per on vegetation\n",
    "Total_Low_Damage = county_df['Low_Damage_Cropland(Ha)'].sum() + county_df['Low_Damage_Pastureland(Ha)'].sum() + county_df['Low_Damage_Forestland(Ha)'].sum()\n",
    "Total_Moderate_Damage = county_df['Moderate_Damage_Cropland(Ha)'].sum() + county_df['Moderate_Damage_Pastureland(Ha)'].sum() + county_df['Moderate_Damage_Forestland(Ha)'].sum()\n",
    "Total_High_Damage = county_df['High_Damage_Cropland(Ha)'].sum() + county_df['High_Damage_Pastureland(Ha)'].sum() + county_df['High_Damage_Forestland(Ha)'].sum()\n",
    "Total_Degree = [Total_Low_Damage,Total_Moderate_Damage,Total_High_Damage]\n",
    "Total_Degree"
   ]
  },
  {
   "cell_type": "code",
   "execution_count": null,
   "metadata": {
    "colab": {
     "base_uri": "https://localhost:8080/"
    },
    "id": "vFPoCKBCtOPb",
    "outputId": "23c8b87d-5e6c-4db8-c9da-523f940b03d2"
   },
   "outputs": [
    {
     "data": {
      "text/plain": [
       "59821.35999999999"
      ]
     },
     "execution_count": 9,
     "metadata": {
      "tags": []
     },
     "output_type": "execute_result"
    }
   ],
   "source": [
    "sum(Total_Degree)"
   ]
  },
  {
   "cell_type": "code",
   "execution_count": null,
   "metadata": {
    "colab": {
     "base_uri": "https://localhost:8080/",
     "height": 345
    },
    "id": "Q94zm5nDtDyf",
    "outputId": "12b089b4-923f-40d9-cdf0-142a7ffebe71"
   },
   "outputs": [
    {
     "data": {
      "image/png": "[encoded data removed]",
      "text/plain": [
       "<Figure size 432x288 with 1 Axes>"
      ]
     },
     "metadata": {
      "tags": []
     },
     "output_type": "display_data"
    }
   ],
   "source": [
    "#labels\n",
    "labels = ['Low Damage','Moderate Damage','High Damage']\n",
    "\n",
    "explode = (0.1, 0, 0)  # only \"explode\" the 2nd slice \n",
    "#plotting the piechart\n",
    "fig1, ax1 = plt.subplots()\n",
    "ax1.pie(Total_Degree, explode=explode, labels=labels, autopct='%1.1f%%',\n",
    "        shadow=False,labeldistance = 1.05,colors= ['lightcoral','brown','red'], startangle=90)\n",
    "ax1.axis('equal')  # Equal aspect ratio ensures that pie is drawn as a circle.\n",
    "\n",
    "plt.title('Distribution of Degree of Damage using EVI across all Vegetation Classes')\n",
    "\n",
    "#creating a legend\n",
    "plt.legend(handles=patches, bbox_to_anchor=(0.4, -0.15), loc=2, borderaxespad=0. )\n",
    "\n",
    "#plt.savefig('/content/drive/My Drive/Omdena Project/Visualizations_Damage_Assessment/degree_damage_pie_chart.png', dpi=200, bbox_inches='tight', pad_inches=0.7)\n",
    "plt.show();"
   ]
  },
  {
   "cell_type": "markdown",
   "metadata": {
    "id": "IkK5fdLL1lnv"
   },
   "source": [
    "### **Assumptions/Caveat**\n",
    "1. The analysis did not consider the harvesting cycles and the effect it had on the EVI difference.\n",
    "2. The before and after images were taken with a maximum time differene of 15 days apart. Therefore, the assumption is that the time difference is too short for seasonal changes in vegetation to affect the vegetation indices.\n",
    "3. In some pixels, increase in vegetation indices were observed in the after images.\n"
   ]
  },
  {
   "cell_type": "markdown",
   "metadata": {
    "id": "xTPVuAKxzpmY"
   },
   "source": [
    "### **Results**\n",
    "1. The total area of land with a reduction of EVI observed after the Locust attacks was 59,281.36 Ha\n",
    "2. Pastureland had the highest reduction in EVI accounting for 77.6% of the total area of land affected.\n",
    "3. From the graphs, in all the vegetation types, most of the damage was of a lower degree; EVI difference of less than 0.2.- 63.7%. \n",
    "4. The most affected counties in terms of total area affected were:\n",
    "  1. Turkana - 26,630.59 Ha\n",
    "  2. Marsabit - 10,701.66 Ha\n",
    "  3. Samburu - 7,786.32 Ha"
   ]
  }
 ],
 "metadata": {
  "colab": {
   "authorship_tag": "ABX9TyMj18YGfaNIrMiabcryF+Vm",
   "include_colab_link": true,
   "name": "Damage_Assessment_based_on_Sentinel_2_EVI_Indices.ipynb",
   "provenance": []
  },
  "kernelspec": {
   "display_name": "Python 3",
   "language": "python",
   "name": "python3"
  },
  "language_info": {
   "codemirror_mode": {
    "name": "ipython",
    "version": 3
   },
   "file_extension": ".py",
   "mimetype": "text/x-python",
   "name": "python",
   "nbconvert_exporter": "python",
   "pygments_lexer": "ipython3",
   "version": "3.8.5"
  }
 },
 "nbformat": 4,
 "nbformat_minor": 1
}
