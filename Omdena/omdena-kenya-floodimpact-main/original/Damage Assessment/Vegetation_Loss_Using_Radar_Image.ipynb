{
  "nbformat": 4,
  "nbformat_minor": 0,
  "metadata": {
    "colab": {
      "name": "Vegetation Loss Using Radar Image.ipynb",
      "provenance": [],
      "collapsed_sections": [],
      "mount_file_id": "1nx2QvkGNQtJBJDmafU8IrzpXRE0JXmjf",
      "authorship_tag": "ABX9TyNWO4+nYGeX1BFZle8WsxQK",
      "include_colab_link": true
    },
    "kernelspec": {
      "name": "python3",
      "display_name": "Python 3"
    }
  },
  "cells": [
    {
      "cell_type": "markdown",
      "metadata": {
        "id": "view-in-github",
        "colab_type": "text"
      },
      "source": [
        "<a href=\"https://colab.research.google.com/github/Transega/Vegettion_loss_Using-Radar-Images/blob/main/Vegetation_Loss_Using_Radar_Image.ipynb\" target=\"_parent\"><img src=\"https://colab.research.google.com/assets/colab-badge.svg\" alt=\"Open In Colab\"/></a>"
      ]
    },
    {
      "cell_type": "code",
      "metadata": {
        "id": "U_u98tR9C4Jn",
        "colab": {
          "base_uri": "https://localhost:8080/"
        },
        "outputId": "28510f84-72f8-4075-fc5d-e55b2b345c72"
      },
      "source": [
        "# Installs geemap package\r\n",
        "import subprocess\r\n",
        " \r\n",
        "try:\r\n",
        "    import geemap\r\n",
        "except ImportError:\r\n",
        "    print('geemap package not installed. Installing ...')\r\n",
        "    subprocess.check_call([\"python\", '-m', 'pip', 'install', 'geemap'])\r\n",
        " \r\n",
        "# Checks whether this notebook is running on Google Colab\r\n",
        "try:\r\n",
        "    import google.colab\r\n",
        "    import geemap.eefolium as geemap\r\n",
        "except:\r\n",
        "    import geemap\r\n",
        " \r\n",
        "# Authenticates and initializes Earth Engine\r\n",
        "import ee\r\n",
        " \r\n",
        "try:\r\n",
        "    ee.Initialize()\r\n",
        "except Exception as e:\r\n",
        "    ee.Authenticate()\r\n",
        "    ee.Initialize()"
      ],
      "execution_count": null,
      "outputs": [
        {
          "output_type": "stream",
          "text": [
            "geemap package not installed. Installing ...\n",
            "To authorize access needed by Earth Engine, open the following URL in a web browser and follow the instructions. If the web browser does not start automatically, please manually browse the URL below.\n",
            "\n",
            "    https://accounts.google.com/o/oauth2/auth?client_id=517222506229-vsmmajv00ul0bs7p89v5m89qs8eb9359.apps.googleusercontent.com&scope=https%3A%2F%2Fwww.googleapis.com%2Fauth%2Fearthengine+https%3A%2F%2Fwww.googleapis.com%2Fauth%2Fdevstorage.full_control&redirect_uri=urn%3Aietf%3Awg%3Aoauth%3A2.0%3Aoob&response_type=code&code_challenge=IKxDikZWRIm6iSLqO5xkwSWpAwE1IbXgpOpmkI5QKEI&code_challenge_method=S256\n",
            "\n",
            "The authorization workflow will generate a code, which you should paste in the box below. \n",
            "Enter verification code: 4/1AY0e-g4td6BqVYE6PnJIw7jliq-WzvXwMl_ARy1o2LUWJva0jWXsU0SHOvQ\n",
            "\n",
            "Successfully saved authorization token.\n"
          ],
          "name": "stdout"
        }
      ]
    },
    {
      "cell_type": "markdown",
      "metadata": {
        "id": "yzXmr6qBIaDn"
      },
      "source": [
        "Import Libraries "
      ]
    },
    {
      "cell_type": "code",
      "metadata": {
        "id": "dJbS8L0XDLFd"
      },
      "source": [
        "import ee\r\n",
        "import geemap\r\n",
        "import geemap.eefolium\r\n",
        "# from geemap import cartoee\r\n",
        "\r\n"
      ],
      "execution_count": null,
      "outputs": []
    },
    {
      "cell_type": "code",
      "metadata": {
        "id": "FevD90vbDP2s"
      },
      "source": [
        "import matplotlib.pyplot as plt\r\n",
        "import numpy as np\r\n",
        "from scipy.stats import norm, gamma, f, chi2\r\n",
        "import IPython.display as disp\r\n",
        "%matplotlib inline"
      ],
      "execution_count": null,
      "outputs": []
    },
    {
      "cell_type": "markdown",
      "metadata": {
        "id": "qfwcYU8FIhF-"
      },
      "source": [
        "#Define Area of interest"
      ]
    },
    {
      "cell_type": "code",
      "metadata": {
        "id": "28B1KWcCDuDj"
      },
      "source": [
        "\r\n",
        "Counties_affected = ee.FeatureCollection('users/collinsasegaca/Affected_counties')\r\n",
        "roi = Counties_affected"
      ],
      "execution_count": null,
      "outputs": []
    },
    {
      "cell_type": "code",
      "metadata": {
        "id": "REURcdNuvB15"
      },
      "source": [
        "# Function to convert shapefile into gee object\r\n",
        "def conv(in_shp):\r\n",
        "  ee_object = geemap.shp_to_ee(in_shp)\r\n",
        "  return ee_object"
      ],
      "execution_count": null,
      "outputs": []
    },
    {
      "cell_type": "code",
      "metadata": {
        "id": "uQP7s2sjEPZ8"
      },
      "source": [
        " #Load Sentinel-1 C-band SAR Ground Range collection (log scale, VV, descending)\r\n",
        "#def CollectionVV(VV):\r\n",
        "collectionVV = ee.ImageCollection('COPERNICUS/S1_GRD') \\\r\n",
        " .filter(ee.Filter.eq('instrumentMode', 'IW')) \\\r\n",
        " .filter(ee.Filter.listContains('transmitterReceiverPolarisation', 'VV')) \\\r\n",
        " .filter(ee.Filter.eq('orbitProperties_pass', 'DESCENDING')) \\\r\n",
        " .filterMetadata('resolution_meters','equals' , 10) \\\r\n",
        " .filterBounds(roi) \\\r\n",
        " .select('VV')\r\n",
        " "
      ],
      "execution_count": null,
      "outputs": []
    },
    {
      "cell_type": "code",
      "metadata": {
        "id": "ruhaDJGdGC7r"
      },
      "source": [
        "#// Load Sentinel-1 C-band SAR Ground Range collection (log scale, VH, descending)\r\n",
        "#def CollectionVH(VH):\r\n",
        "collectionVH = ee.ImageCollection('COPERNICUS/S1_GRD') \\\r\n",
        "  .filter(ee.Filter.eq('instrumentMode', 'IW')) \\\r\n",
        "  .filter(ee.Filter.listContains('transmitterReceiverPolarisation', 'VH')) \\\r\n",
        "  .filter(ee.Filter.eq('orbitProperties_pass', 'DESCENDING')) \\\r\n",
        "  .filterMetadata('resolution_meters','equals' , 10) \\\r\n",
        "  .filterBounds(roi) \\\r\n",
        "  .select('VH')\r\n"
      ],
      "execution_count": null,
      "outputs": []
    },
    {
      "cell_type": "code",
      "metadata": {
        "id": "WuC3fTh3Hdm-"
      },
      "source": [
        "#Filter by date\r\n",
        "first2019VV = collectionVV.filterDate('2019-12-01', '2019-12-25').mosaic().clip(roi);\r\n",
        "second2020VV = collectionVV.filterDate('2020-01-01', '2020-01-31').mosaic().clip(roi);\r\n",
        "third2020VV = collectionVV.filterDate('2020-03-01', '2020-03-20').mosaic().clip(roi);\r\n",
        "first2019VH = collectionVH.filterDate('2019-12-01', '2019-12-25').mosaic().clip(roi);\r\n",
        "second2020VH = collectionVH.filterDate('2020-01-01', '2020-01-31').mosaic().clip(roi);\r\n",
        "third2020VH = collectionVH.filterDate('2020-03-01', '2020-03-20').mosaic().clip(roi);"
      ],
      "execution_count": null,
      "outputs": []
    },
    {
      "cell_type": "code",
      "metadata": {
        "id": "wYsL6Ca1mxhY"
      },
      "source": [
        "\r\n",
        "# Display map\r\n",
        "Map1 = geemap.Map()\r\n",
        "Map1.centerObject(roi, 10);\r\n",
        "Map1.addLayer(first2019VV, {'min':-15,max:0}, 'Before Attack 2019 VV', 0);\r\n",
        "Map1.addLayer(second2020VV, {'min':-15,max:0}, 'After attack 2020 VV', 0); #(rgb, {'min': [-20, -20, 0], 'max': [0, 0, 2]}, 'FFA')\r\n",
        "Map1.addLayer(third2020VV, {'min':-15,max:0}, 'After Attack_in_March 2020 VV', 0);\r\n",
        "Map1.addLayer(first2019VH, {'min':-27,max:0}, 'Before attack 2019 VH', 0);\r\n",
        "Map1.addLayer(second2020VH, {'min':-27,max:0}, 'After Attack 2020 VH', 0);\r\n",
        "Map1.addLayer(third2020VH, {'min':-27,max:0}, 'After attack in March 2020 VH', 0);\r\n",
        "Map1.addLayer(first2019VH.addBands(second2020VH).addBands(third2020VH), {'min': -27, max: -8}, '2019/2020/2020_march RGB', 1)\r\n",
        "Map1.addLayerControl()\r\n",
        "\r\n"
      ],
      "execution_count": null,
      "outputs": []
    },
    {
      "cell_type": "markdown",
      "metadata": {
        "id": "ERCUwjVkvaWh"
      },
      "source": [
        "I have a challenge in obtaining full image that covers entire Turkana County Therefore I chose to exclude it in the Area of Interest"
      ]
    },
    {
      "cell_type": "code",
      "metadata": {
        "colab": {
          "base_uri": "https://localhost:8080/",
          "height": 583
        },
        "id": "WgEVb1A6oXHp",
        "outputId": "a367ea21-9ffd-4ba5-843f-81efd197a0dd"
      },
      "source": [
        "Map1"
      ],
      "execution_count": null,
      "outputs": [
        {
          "output_type": "execute_result",
          "data": {
            "text/html": [
              "<div style=\"width:100%;\"><div style=\"position:relative;width:100%;height:0;padding-bottom:60%;\"><span style=\"color:#565656\">Make this Notebook Trusted to load map: File -> Trust Notebook</span><iframe src=\"about:blank\" style=\"position:absolute;width:100%;height:100%;left:0;top:0;border:none !important;\" data-html=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 onload=\"this.contentDocument.open();this.contentDocument.write(atob(this.getAttribute('data-html')));this.contentDocument.close();\" allowfullscreen webkitallowfullscreen mozallowfullscreen></iframe></div></div>"
            ],
            "text/plain": [
              "<geemap.eefolium.Map at 0x7f4b43bd06a0>"
            ]
          },
          "metadata": {
            "tags": []
          },
          "execution_count": 12
        }
      ]
    },
    {
      "cell_type": "markdown",
      "metadata": {
        "id": "JMJHS7-2JVzM"
      },
      "source": [
        "Save visualization by building a web map\r\n"
      ]
    },
    {
      "cell_type": "code",
      "metadata": {
        "id": "HzCRAAwSK_Y5"
      },
      "source": [
        "Map1.save('S1_vis.html',close_file=True)"
      ],
      "execution_count": null,
      "outputs": []
    },
    {
      "cell_type": "markdown",
      "metadata": {
        "id": "KukyQuhILNvq"
      },
      "source": [
        "New Area of Interest\r\n",
        "link https://code.earthengine.google.com/?asset=users/collinsasegaca/affected_ex_turkana"
      ]
    },
    {
      "cell_type": "code",
      "metadata": {
        "id": "e_XMvG5tq_pI"
      },
      "source": [
        "#Turkana = './drive/MyDrive/omdena/affected_counties/brokendown/Turkana.shp'\r\n",
        "AOI_EXLD_TURKANA = ee.FeatureCollection('users/collinsasegaca/affected_ex_turkana') # this shapefile excludes Turkana county \r\n",
        "# Function to convert shapefile into gee object\r\n",
        "# def conv(in_shp):\r\n",
        "#   ee_object = geemap.shp_to_ee(in_shp)\r\n",
        "#   return ee_object"
      ],
      "execution_count": null,
      "outputs": []
    },
    {
      "cell_type": "markdown",
      "metadata": {
        "id": "-MBlUB_3F3UZ"
      },
      "source": [
        "# **Define New area of interest**"
      ]
    },
    {
      "cell_type": "code",
      "metadata": {
        "id": "UgCSXi6VrHeD"
      },
      "source": [
        "#turkana = conv(Turkana)\r\n",
        "New_roi = AOI_EXLD_TURKANA"
      ],
      "execution_count": null,
      "outputs": []
    },
    {
      "cell_type": "markdown",
      "metadata": {
        "id": "D-Fv0xPjGBuy"
      },
      "source": [
        "Filtering by date and clipping to the Area of Interest"
      ]
    },
    {
      "cell_type": "code",
      "metadata": {
        "id": "P1qS-pNLrORX"
      },
      "source": [
        "first2019VV = collectionVV.filterDate('2019-12-01', '2019-12-25').mosaic().clip(New_roi);\r\n",
        "second2020VV = collectionVV.filterDate('2020-01-01', '2020-01-31').mosaic().clip(New_roi);\r\n",
        "third2020VV = collectionVV.filterDate('2020-03-01', '2020-03-20').mosaic().clip(New_roi);\r\n",
        "first2019VH = collectionVH.filterDate('2019-12-01', '2019-12-25').mosaic().clip(New_roi);\r\n",
        "second2020VH = collectionVH.filterDate('2020-01-01', '2020-01-31').mosaic().clip(New_roi);\r\n",
        "third2020VH = collectionVH.filterDate('2020-03-01', '2020-03-20').mosaic().clip(New_roi);"
      ],
      "execution_count": null,
      "outputs": []
    },
    {
      "cell_type": "markdown",
      "metadata": {
        "id": "X1ilE80AGT4P"
      },
      "source": [
        "Visualize the images"
      ]
    },
    {
      "cell_type": "code",
      "metadata": {
        "id": "OnjxX18srpmf"
      },
      "source": [
        "Map1 = geemap.Map()\r\n",
        "Map1.centerObject(roi, 10);\r\n",
        "Map1.addLayer(first2019VV, {'min':-15,max:0}, 'Before Attack 2019 VV', 0);\r\n",
        "Map1.addLayer(second2020VV, {'min':-15,max:0}, 'After attack 2020 VV', 0); #(rgb, {'min': [-20, -20, 0], 'max': [0, 0, 2]}, 'FFA')\r\n",
        "Map1.addLayer(third2020VV, {'min':-15,max:0}, 'After Attack_in_March 2020 VV', 0);\r\n",
        "Map1.addLayer(first2019VH, {'min':-27,max:0}, 'Before attack 2019 VH', 0);\r\n",
        "Map1.addLayer(second2020VH, {'min':-27,max:0}, 'After Attack 2020 VH', 0);\r\n",
        "Map1.addLayer(third2020VH, {'min':-27,max:0}, 'After attack in March 2020 VH', 0);\r\n",
        "Map1.addLayer(first2019VH.addBands(second2020VH).addBands(third2020VH), {'min': -27, max: -8}, '2019/2020/2020_march RGB', 0) #RGB image using the VH polarization of different dates\r\n",
        "Map1.addLayerControl()"
      ],
      "execution_count": null,
      "outputs": []
    },
    {
      "cell_type": "code",
      "metadata": {
        "colab": {
          "base_uri": "https://localhost:8080/",
          "height": 583
        },
        "id": "UJj6IsgOrtE1",
        "outputId": "4dbe961f-1402-4740-b04f-0697381cdcb2"
      },
      "source": [
        "Map1"
      ],
      "execution_count": null,
      "outputs": [
        {
          "output_type": "execute_result",
          "data": {
            "text/html": [
              "<div style=\"width:100%;\"><div style=\"position:relative;width:100%;height:0;padding-bottom:60%;\"><span style=\"color:#565656\">Make this Notebook Trusted to load map: File -> Trust Notebook</span><iframe src=\"about:blank\" style=\"position:absolute;width:100%;height:100%;left:0;top:0;border:none !important;\" data-html=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 onload=\"this.contentDocument.open();this.contentDocument.write(atob(this.getAttribute('data-html')));this.contentDocument.close();\" allowfullscreen webkitallowfullscreen mozallowfullscreen></iframe></div></div>"
            ],
            "text/plain": [
              "<geemap.eefolium.Map at 0x7f4b42fab828>"
            ]
          },
          "metadata": {
            "tags": []
          },
          "execution_count": 33
        }
      ]
    },
    {
      "cell_type": "markdown",
      "metadata": {
        "id": "1rbQlJNRG0Zp"
      },
      "source": [
        "# **Apply speckle a filter **\r\n",
        "A speckle filter is a granular interfearance that inherently exists in radar images and causes derogation on quality of the active radar. \r\n",
        "The speckle are as a result of the rough terain that produces multiple backscatter to the Synthetic apparture radar instrument thereby affecting the overal reflectivity causing bright and dark spots in the image.\r\n",
        "Thus this step is aimed at removing the speckle noise, since radar images have already been pre-processed by copernicus in terms of Geometric and atmospheric correcions "
      ]
    },
    {
      "cell_type": "code",
      "metadata": {
        "id": "wGpVZXMZtZOh"
      },
      "source": [
        "SMOOTHING_RADIUS = 50;\r\n",
        "first2019VV_filtered = first2019VV.focal_mean(SMOOTHING_RADIUS, 'circle', 'meters');\r\n",
        "first2019VH_filtered = first2019VH.focal_mean(SMOOTHING_RADIUS, 'circle', 'meters');\r\n",
        "second2020VV_filtered = second2020VV.focal_mean(SMOOTHING_RADIUS, 'circle', 'meters');\r\n",
        "second2020VH_filtered = second2020VH.focal_mean(SMOOTHING_RADIUS, 'circle', 'meters');\r\n",
        "third2020VV_filtered = third2020VV.focal_mean(SMOOTHING_RADIUS, 'circle', 'meters');\r\n",
        "third2020VH_filtered = third2020VH.focal_mean(SMOOTHING_RADIUS, 'circle', 'meters');"
      ],
      "execution_count": null,
      "outputs": []
    },
    {
      "cell_type": "markdown",
      "metadata": {
        "id": "T-nAOfRqMG7b"
      },
      "source": [
        "# **Perform image differencing for the before and after images**\r\n",
        "\r\n",
        "Since the images here are on a log scale we do subtraction because thats the rule while dealing with logs (we subtract when we intend to divide while using Log)"
      ]
    },
    {
      "cell_type": "code",
      "metadata": {
        "id": "3IH2zx7Mtfof"
      },
      "source": [
        "ratio1920VH= first2019VH_filtered.subtract(second2020VH_filtered);\r\n",
        "ratio1920VV= first2019VV_filtered.subtract(second2020VV_filtered);\r\n",
        "ratio2020_marchVH= second2020VH_filtered.subtract(third2020VH_filtered);\r\n",
        "ratio2020_marchVV= second2020VV_filtered.subtract(third2020VV_filtered);"
      ],
      "execution_count": null,
      "outputs": []
    },
    {
      "cell_type": "markdown",
      "metadata": {
        "id": "c3Gi5Lz0NUtW"
      },
      "source": [
        "# **Create a histogram **\r\n",
        "\r\n",
        "This is to help us visualize the distribution of the backscatter values"
      ]
    },
    {
      "cell_type": "code",
      "metadata": {
        "colab": {
          "base_uri": "https://localhost:8080/",
          "height": 265
        },
        "id": "Jpu-XNvotkNB",
        "outputId": "989728f2-786f-488b-d396-6e551cd226f9"
      },
      "source": [
        "# 2019 Dec/2020 Jan histogrm VV channel\r\n",
        "hist = ratio1920VV.select('VV').reduceRegion(\r\n",
        "    ee.Reducer.fixedHistogram(0, 0.5, 500),roi, scale=300 ).get('VV').getInfo()\r\n",
        "\r\n",
        "a_1920 = np.array(hist)\r\n",
        "x = a_1920[:, 0]                 # array of bucket edge positions\r\n",
        "y = a_1920[:, 1]/np.sum(a_1920[:, 1]) # normalized array of bucket contents\r\n",
        "plt.grid()\r\n",
        "plt.plot(x, y, '.')\r\n",
        "plt.show()"
      ],
      "execution_count": null,
      "outputs": [
        {
          "output_type": "display_data",
          "data": {
            "image/png": "[encoded data removed]",
            "text/plain": [
              "<Figure size 432x288 with 1 Axes>"
            ]
          },
          "metadata": {
            "tags": [],
            "needs_background": "light"
          }
        }
      ]
    },
    {
      "cell_type": "code",
      "metadata": {
        "colab": {
          "base_uri": "https://localhost:8080/",
          "height": 265
        },
        "id": "wi9ls9k_t0DN",
        "outputId": "cd3901a7-a13c-4cc4-e16a-0f2db9b5e713"
      },
      "source": [
        "# # 2019 Dec/2020 Jan histogrm VH channel\r\n",
        "hist_VH = ratio1920VH.select('VH').reduceRegion(\r\n",
        "    ee.Reducer.fixedHistogram(0, 0.5, 500),roi, scale=300 ).get('VH').getInfo()\r\n",
        "\r\n",
        "a_VH = np.array(hist_VH)\r\n",
        "x = a_VH[:, 0]                 # array of bucket edge positions\r\n",
        "y = a_VH[:, 1]/np.sum(a_VH[:, 1]) # normalized array of bucket contents\r\n",
        "plt.grid()\r\n",
        "plt.plot(x, y, '.')\r\n",
        "plt.show()"
      ],
      "execution_count": null,
      "outputs": [
        {
          "output_type": "display_data",
          "data": {
            "image/png": "[encoded data removed]",
            "text/plain": [
              "<Figure size 432x288 with 1 Axes>"
            ]
          },
          "metadata": {
            "tags": [],
            "needs_background": "light"
          }
        }
      ]
    },
    {
      "cell_type": "code",
      "metadata": {
        "colab": {
          "base_uri": "https://localhost:8080/",
          "height": 265
        },
        "id": "cuix7uciOOlj",
        "outputId": "ddb1b18a-cd29-4555-a237-e31e0f2b8037"
      },
      "source": [
        "# Histogram for the image ratio Jan 2020 to march 2020\r\n",
        "hist_VV_2020 = ratio2020_marchVV.select('VV').reduceRegion(\r\n",
        "    ee.Reducer.fixedHistogram(0, 0.5, 500),roi, scale=300 ).get('VV').getInfo()\r\n",
        "\r\n",
        "a_VH = np.array(hist_VV_2020)\r\n",
        "x = a_VH[:, 0]                 # array of bucket edge positions\r\n",
        "y = a_VH[:, 1]/np.sum(a_VH[:, 1]) # normalized array of bucket contents\r\n",
        "plt.grid()\r\n",
        "plt.plot(x, y, '.')\r\n",
        "plt.show()"
      ],
      "execution_count": null,
      "outputs": [
        {
          "output_type": "display_data",
          "data": {
            "image/png": "[encoded data removed]",
            "text/plain": [
              "<Figure size 432x288 with 1 Axes>"
            ]
          },
          "metadata": {
            "tags": [],
            "needs_background": "light"
          }
        }
      ]
    },
    {
      "cell_type": "markdown",
      "metadata": {
        "id": "5cFRAPCgO6Kx"
      },
      "source": [
        "Calculte the Mean, Standard deviation, and Variance to help us in application of Threshold"
      ]
    },
    {
      "cell_type": "code",
      "metadata": {
        "id": "-YlzbbQat6V1"
      },
      "source": [
        "#Calculate the mean and standard deviation for each ratio image\r\n",
        "mean_1920 = ratio1920VH.select('VH').reduceRegion(\r\n",
        "    ee.Reducer.mean(), roi, scale= 300).get('VH').getInfo()\r\n",
        "variance_1920 = ratio1920VH.select('VH').reduceRegion(\r\n",
        "    ee.Reducer.variance(), roi, scale=300).get('VH').getInfo()\r\n",
        "std_1920 = ratio1920VH.select('VH').reduceRegion(\r\n",
        "    ee.Reducer.stdDev(), roi, scale=300).get('VH').getInfo()\r\n",
        "#Mean for the ratio2020_march\r\n",
        "mean_2020_march = ratio2020_marchVH.select('VH').reduceRegion(\r\n",
        "    ee.Reducer.mean(), roi, scale= 300).get('VH').getInfo()\r\n",
        "variance_2020_march = ratio2020_marchVH.select('VH').reduceRegion(\r\n",
        "    ee.Reducer.variance(), roi, scale=300).get('VH').getInfo()\r\n",
        "\r\n",
        "std_2020_march = ratio2020_marchVH.select('VH').reduceRegion(\r\n",
        "    ee.Reducer.stdDev(), roi, scale=300).get('VH').getInfo()"
      ],
      "execution_count": null,
      "outputs": []
    },
    {
      "cell_type": "code",
      "metadata": {
        "colab": {
          "base_uri": "https://localhost:8080/"
        },
        "id": "ygyqwF9pPzDP",
        "outputId": "cd9d7e0d-d0bf-4d83-aec3-25111c4f223c"
      },
      "source": [
        "print('mean_1920 = ', mean_1920, ' variance_1920= ', variance_1920, 'StdDev_ 1920 =',std_1920 )\r\n",
        "print('mean_2020_march=',  mean_2020_march, 'variance_2020_march =', variance_2020_march, 'StdDev 2020_march= ', std_2020_march)"
      ],
      "execution_count": null,
      "outputs": [
        {
          "output_type": "stream",
          "text": [
            "mean_1920 =  0.6599464806840196  variance_1920=  3.434454167386009 StdDev_ 1920 = 1.8532280397689889\n",
            "mean_2020_march= 0.2262372349898941 variance_2020_march = 2.895423125421788 StdDev 2020_march=  1.7015942893127574\n"
          ],
          "name": "stdout"
        }
      ]
    },
    {
      "cell_type": "code",
      "metadata": {
        "colab": {
          "base_uri": "https://localhost:8080/"
        },
        "id": "kvmRt2t36kTP",
        "outputId": "06e5f49f-0c1d-4802-86a9-afe3e666c9c1"
      },
      "source": [
        "thresh1920 = std_1920*1.5 + mean_1920\r\n",
        "thresh2020_march = std_2020_march*1.5 + mean_2020_march\r\n",
        "\r\n",
        "print(thresh1920)\r\n",
        "print(thresh2020_march)"
      ],
      "execution_count": null,
      "outputs": [
        {
          "output_type": "stream",
          "text": [
            "3.439788540337503\n",
            "2.7786286689590303\n"
          ],
          "name": "stdout"
        }
      ]
    },
    {
      "cell_type": "markdown",
      "metadata": {
        "id": "xMrErH8u9A-k"
      },
      "source": [
        "**Apply threshold**\r\n",
        "The threshold is calculated by multiplying the Standard deviation by 1.5 and adding the Mean"
      ]
    },
    {
      "cell_type": "code",
      "metadata": {
        "id": "OxGV1yC_uIkL"
      },
      "source": [
        "RATIO_UPPER_THRESHOLD1920 = thresh1920;\r\n",
        "RATIO_UPPER_THRESHOLD2020_march = thresh2020_march;\r\n",
        "ratio1920VH_thresholded = ratio1920VH.gt(RATIO_UPPER_THRESHOLD1920);\r\n",
        "ratio2020_marchVH_thresholded = ratio2020_marchVH.gt(RATIO_UPPER_THRESHOLD2020_march);"
      ],
      "execution_count": null,
      "outputs": []
    },
    {
      "cell_type": "code",
      "metadata": {
        "id": "QO7TdD9eeq0I"
      },
      "source": [
        "legend_dict = {\r\n",
        "    'Vegetation Loss Dec 2019/2020 Jan': 'FF0000',\r\n",
        "    'Vegetation Loss Jan 2020/2020 march': '140b13'\r\n",
        "}"
      ],
      "execution_count": null,
      "outputs": []
    },
    {
      "cell_type": "code",
      "metadata": {
        "id": "ajuBpniEA9Z6"
      },
      "source": [
        "#//Display Masks\r\n",
        "Map= geemap.Map()\r\n",
        "Map.addLayer(ratio1920VH_thresholded.updateMask(ratio1920VH_thresholded),{'palette':\"FF0000\"},'Vegetation Loss Dec 2019/2020 Jan',1);\r\n",
        "Map.addLayer(ratio2020_marchVH_thresholded.updateMask(ratio2020_marchVH_thresholded),{'palette':\"140b13\"},'Vegetation Loss Jan 2020/2020 march',1);"
      ],
      "execution_count": null,
      "outputs": []
    },
    {
      "cell_type": "code",
      "metadata": {
        "colab": {
          "base_uri": "https://localhost:8080/",
          "height": 583
        },
        "id": "HAYS_p3kBK1n",
        "outputId": "99604968-75da-42cd-d4e3-ed4bb95f95c8"
      },
      "source": [
        "Map.add_legend(legend_dict=legend_dict, title='Vegetation Loss DL affected Counties KE')\r\n",
        "Map.centerObject(roi, 6)\r\n",
        "Map.addLayerControl()\r\n",
        "Map"
      ],
      "execution_count": null,
      "outputs": [
        {
          "output_type": "execute_result",
          "data": {
            "text/html": [
              "<div style=\"width:100%;\"><div style=\"position:relative;width:100%;height:0;padding-bottom:60%;\"><span style=\"color:#565656\">Make this Notebook Trusted to load map: File -> Trust Notebook</span><iframe src=\"about:blank\" style=\"position:absolute;width:100%;height:100%;left:0;top:0;border:none !important;\" data-html=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 onload=\"this.contentDocument.open();this.contentDocument.write(atob(this.getAttribute('data-html')));this.contentDocument.close();\" allowfullscreen webkitallowfullscreen mozallowfullscreen></iframe></div></div>"
            ],
            "text/plain": [
              "<geemap.eefolium.Map at 0x7f4b3dbcb2e8>"
            ]
          },
          "metadata": {
            "tags": []
          },
          "execution_count": 46
        }
      ]
    },
    {
      "cell_type": "code",
      "metadata": {
        "id": "-p98hXSqm43k"
      },
      "source": [
        "Map.save('VegetationLoss.html',close_file=True)"
      ],
      "execution_count": null,
      "outputs": []
    },
    {
      "cell_type": "markdown",
      "metadata": {
        "id": "_sxLRZbkw8sR"
      },
      "source": [
        "Export the Masks of Vegetation Loss"
      ]
    },
    {
      "cell_type": "code",
      "metadata": {
        "id": "EBRgmibFp3Jg"
      },
      "source": [
        "# convert ratio 1920 to vector\r\n",
        "vectratio_1920 = ratio1920VH_thresholded.reduceToVectors(**{\r\n",
        " 'geometry': roi,\r\n",
        " 'crs': ratio1920VH_thresholded.projection(),\r\n",
        " 'scale': 300,\r\n",
        " 'geometryType': 'polygon',\r\n",
        " 'eightConnected': False,\r\n",
        " 'labelProperty': 'null'\r\n",
        " })\r\n"
      ],
      "execution_count": null,
      "outputs": []
    },
    {
      "cell_type": "code",
      "metadata": {
        "id": "TqkoxxRHxIGN"
      },
      "source": [
        "# convert ratio 2020_march to vector\r\n",
        "vectratio_2020_march = ratio2020_marchVH_thresholded.reduceToVectors(**{\r\n",
        " 'geometry': roi,\r\n",
        " 'crs': ratio2020_marchVH_thresholded.projection(),\r\n",
        " 'scale': 300,\r\n",
        " 'geometryType': 'polygon',\r\n",
        " 'eightConnected': False,\r\n",
        " 'labelProperty': 'null'\r\n",
        " })"
      ],
      "execution_count": null,
      "outputs": []
    },
    {
      "cell_type": "code",
      "metadata": {
        "id": "rkHGNSt7ltwb"
      },
      "source": [
        "M = geemap.Map()\r\n",
        "M.addLayer(vectratio_1920,{}, 'Veg los 2019Dec to Jan 2020')\r\n",
        "M.addLayer(vectratio_2020_march,{}, 'Veg Loss 2020 Jan to March' )\r\n",
        "M.addLayerControl()\r\n",
        "M.centerObject(roi, 5)"
      ],
      "execution_count": null,
      "outputs": []
    },
    {
      "cell_type": "code",
      "metadata": {
        "colab": {
          "base_uri": "https://localhost:8080/",
          "height": 583
        },
        "id": "K5qNQ320tMr2",
        "outputId": "30f8e3ad-c6bb-4b01-94ba-c42b36141e55"
      },
      "source": [
        "M"
      ],
      "execution_count": null,
      "outputs": [
        {
          "output_type": "execute_result",
          "data": {
            "text/html": [
              "<div style=\"width:100%;\"><div style=\"position:relative;width:100%;height:0;padding-bottom:60%;\"><span style=\"color:#565656\">Make this Notebook Trusted to load map: File -> Trust Notebook</span><iframe src=\"about:blank\" style=\"position:absolute;width:100%;height:100%;left:0;top:0;border:none !important;\" data-html=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 onload=\"this.contentDocument.open();this.contentDocument.write(atob(this.getAttribute('data-html')));this.contentDocument.close();\" allowfullscreen webkitallowfullscreen mozallowfullscreen></iframe></div></div>"
            ],
            "text/plain": [
              "<geemap.eefolium.Map at 0x7f4b3e1d05f8>"
            ]
          },
          "metadata": {
            "tags": []
          },
          "execution_count": 96
        }
      ]
    },
    {
      "cell_type": "code",
      "metadata": {
        "colab": {
          "base_uri": "https://localhost:8080/"
        },
        "id": "mBTceeoFlLu6",
        "outputId": "4d934663-bef6-4f0c-e29d-1be878c45249"
      },
      "source": [
        "#geemap.ee_export_vector(ee_object, filename, selectors)\r\n",
        "#def ee_export_vector_to_drive(ee_object, description, folder, file_format='shp', selectors=None)\r\n",
        "\r\n",
        "geemap.ee_export_vector_to_drive(vectratio_1920, description='Veg_Loss_Dec_2019_Jan_2020', folder='omdena', file_format='shp', selectors=None)\r\n",
        "#geemap.ee_export_image_to_drive(, description='Veg_Loss_Dec_2019_Jan_2020', folder='omdena', scale=10)"
      ],
      "execution_count": null,
      "outputs": [
        {
          "output_type": "stream",
          "text": [
            "Exporting Veg_Loss_Dec_2019_Jan_2020...\n"
          ],
          "name": "stdout"
        }
      ]
    },
    {
      "cell_type": "code",
      "metadata": {
        "colab": {
          "base_uri": "https://localhost:8080/"
        },
        "id": "0lJdzpSto_Xf",
        "outputId": "5913bfeb-72ef-4abc-cd1b-f33f3d349898"
      },
      "source": [
        "#geemap.ee_export_image_to_drive(, description='Veg_Loss_Jan_2020_to_March_2020', folder='omdena', scale=10)"
      ],
      "execution_count": null,
      "outputs": [
        {
          "output_type": "stream",
          "text": [
            "Exporting Veg_Loss_Jan_2020_to_March_2020 ...\n"
          ],
          "name": "stdout"
        }
      ]
    },
    {
      "cell_type": "code",
      "metadata": {
        "colab": {
          "base_uri": "https://localhost:8080/"
        },
        "id": "N6tq76oV0v-h",
        "outputId": "b36f35c7-c2ac-45ef-8328-1f883f754805"
      },
      "source": [
        "geemap.ee_export_vector_to_drive(vectratio_2020_march, description='Veg_Loss_Jan_2020_to_March_2020', folder='omdena', file_format='shp', selectors=None)"
      ],
      "execution_count": null,
      "outputs": [
        {
          "output_type": "stream",
          "text": [
            "Exporting Veg_Loss_Jan_2020_to_March_2020...\n"
          ],
          "name": "stdout"
        }
      ]
    },
    {
      "cell_type": "markdown",
      "metadata": {
        "id": "Yn6-En-eSM2i"
      },
      "source": [
        "Calculate area loss for Dec 2019 to Jan 2020 and from Jan 2020 to March 2020"
      ]
    },
    {
      "cell_type": "code",
      "metadata": {
        "id": "VaZnFyJMBw_R"
      },
      "source": [
        "#Compare differences in vegetation loss between 2019 December/2020 Jan and 2020 Jan/2020 March\r\n",
        "\r\n",
        "area_loss1920 = ratio1920VH_thresholded.reduceRegion(\r\n",
        "    ee.Reducer.sum(), roi, scale= 300,).getInfo()\r\n",
        "\r\n",
        "area_loss2020_March2020 = ratio2020_marchVH_thresholded.reduceRegion(\r\n",
        "    ee.Reducer.sum(), roi, scale= 300).getInfo()"
      ],
      "execution_count": null,
      "outputs": []
    },
    {
      "cell_type": "code",
      "metadata": {
        "colab": {
          "base_uri": "https://localhost:8080/"
        },
        "id": "4h733VdGDGxr",
        "outputId": "e6afc3e4-f78b-4513-f239-6c5fc2c6dc4c"
      },
      "source": [
        "AOI = 'Counties affected'\r\n",
        "print('pixel value ', area_loss1920)\r\n",
        "vegloss_hactares = area_loss1920['VH']*9 # since the resolution is 300 then 300*300 =90000 convert to hactares means 90000/10000 =9\r\n",
        "print('Vegetation loss for', AOI, 'December 2019 to Jan 2020 = ', vegloss_hactares, 'Hactares')\r\n",
        "veglossKm2 = vegloss_hactares*0.01\r\n",
        "print('Vegetation loss for', AOI, ' December 2019 to Jan 2020 = ', veglossKm2, 'Squared Kilometers')"
      ],
      "execution_count": null,
      "outputs": [
        {
          "output_type": "stream",
          "text": [
            "pixel value  {'VH': 255920.9647058823}\n",
            "Vegetation loss for Counties affected December 2019 to Jan 2020 =  2303288.6823529406 Hactares\n",
            "Vegetation loss for Counties affected  December 2019 to Jan 2020 =  23032.886823529407 Squared Kilometers\n"
          ],
          "name": "stdout"
        }
      ]
    },
    {
      "cell_type": "markdown",
      "metadata": {
        "id": "2vdM414590Xu"
      },
      "source": [
        "Vegetation loss from Jan 2020 to March 2020 \r\n",
        "\r\n",
        "for the counties affected excepted Turkana"
      ]
    },
    {
      "cell_type": "code",
      "metadata": {
        "colab": {
          "base_uri": "https://localhost:8080/"
        },
        "id": "Sh2DIidZ9fVT",
        "outputId": "ead63b68-067c-451c-c6ab-b13056e2af80"
      },
      "source": [
        "print('pixel value ',area_loss2020_March2020)\r\n",
        "vegloss_hactares = area_loss2020_March2020['VH']*9 # since the resolution is 300 then 300*300 =90000 convert to hactares means 90000/10000 =9\r\n",
        "print('Vegetation loss for', AOI, 'Jan 2020 to March 2020 = ', vegloss_hactares, 'Hactares')\r\n",
        "veglossKm2 = vegloss_hactares*0.01\r\n",
        "print('Vegetation loss for', AOI, 'Jan 2020 to March 2020 = ', veglossKm2, 'Squared Kilometers')"
      ],
      "execution_count": null,
      "outputs": [
        {
          "output_type": "stream",
          "text": [
            "pixel value  {'VH': 264224.3568627451}\n",
            "Vegetation loss for Counties affected Jan 2020 to March 2020 =  2378019.211764706 Hactares\n",
            "Vegetation loss for Counties affected Jan 2020 to March 2020 =  23780.19211764706 Squared Kilometers\n"
          ],
          "name": "stdout"
        }
      ]
    },
    {
      "cell_type": "markdown",
      "metadata": {
        "id": "5arEhLahSd2U"
      },
      "source": [
        "### **We can also compute area  loss according to various counties**"
      ]
    },
    {
      "cell_type": "code",
      "metadata": {
        "id": "qeWIYr52Sr_7"
      },
      "source": [
        "# bring in the counties shapefiles \r\n",
        "Elgeiyo_Baringo = './drive/MyDrive/omdena/affected_counties/brokendown/Elgeyo_baringo.shp' # Elgeiyo Marakwet & Baringo \r\n",
        "Laikipia_samburu = './drive/MyDrive/omdena/affected_counties/brokendown/Laikipia_samburu.shp' #  Laikipia_samburu\r\n",
        "Kitui = './drive/MyDrive/omdena/affected_counties/brokendown/Kitui.shp' # Kitui\r\n",
        "Mandera = './drive/MyDrive/omdena/affected_counties/brokendown/Mandera.shp' # Mandera\r\n",
        "Machakos_embu = './drive/MyDrive/omdena/affected_counties/brokendown/Machakos_embu.shp' # Machakos_embu\r\n",
        "Marsabit = './drive/MyDrive/omdena/affected_counties/brokendown/Marsabit.shp' # Marsabit\r\n",
        "Meru_isolo ='./drive/MyDrive/omdena/affected_counties/brokendown/Meru_isolo.shp' # Meru and Isiolo\r\n",
        "Tana = './drive/MyDrive/omdena/affected_counties/brokendown/Tana.shp' #Tana\r\n",
        "Turkana = './drive/MyDrive/omdena/affected_counties/brokendown/Turkana.shp' \r\n",
        "Wajir = './drive/MyDrive/omdena/affected_counties/brokendown/Wajir.shp' #Wajir \r\n",
        "Garissa = './drive/MyDrive/omdena/affected_counties/brokendown/Garissa.shp' # Garisa"
      ],
      "execution_count": null,
      "outputs": []
    },
    {
      "cell_type": "markdown",
      "metadata": {
        "id": "O49IBfaMw0hG"
      },
      "source": [
        "Build function to compute Vegetation Loss"
      ]
    },
    {
      "cell_type": "code",
      "metadata": {
        "id": "J3XOFEOvUoP5"
      },
      "source": [
        "def arealoss1920():\r\n",
        "  area_loss1920 = ratio1920VH_thresholded.reduceRegion(\r\n",
        "    ee.Reducer.sum(), roi, scale= 300,).getInfo()\r\n",
        "  print('pixel value ', area_loss1920)\r\n",
        "  vegloss_hactares = area_loss1920['VH']*9 # since the resolution is 300 then 300*300 =90000 convert to hactares means 90000/10000 =9\r\n",
        "  print('Vegetation loss for', AOI, 'December 2019 to Jan 2020 = ', vegloss_hactares, 'Hactares')\r\n",
        "  veglossKm2 = vegloss_hactares*0.01\r\n",
        "  print('Vegetation loss for', AOI, ' December 2019 to Jan 2020 = ', veglossKm2, 'Squared Kilometers')\r\n",
        "  return area_loss1920\r\n",
        "\r\n",
        "def arealoss2020_march():\r\n",
        "  area_loss2020_March2020 = ratio2020_marchVH_thresholded.reduceRegion(\r\n",
        "    ee.Reducer.sum(), roi, scale= 300).getInfo()\r\n",
        "  print('pixel value ',area_loss2020_March2020)\r\n",
        "  vegloss_hactares = area_loss2020_March2020['VH']*9 # since the resolution is 300 then 300*300 =90000 convert to hactares means 90000/10000 =9\r\n",
        "  print('Vegetation loss for', AOI, 'Jan 2020 to March 2020 = ', vegloss_hactares, 'Hactares')\r\n",
        "  veglossKm2 = vegloss_hactares*0.01\r\n",
        "  print('Vegetation loss for', AOI, 'Jan 2020 to March 2020 = ', veglossKm2, 'Squared Kilometers')\r\n",
        "  return area_loss2020_March2020"
      ],
      "execution_count": null,
      "outputs": []
    },
    {
      "cell_type": "markdown",
      "metadata": {
        "id": "HZHQI03IwaU_"
      },
      "source": [
        "# **Get statistics per county for Vegetation Los**s"
      ]
    },
    {
      "cell_type": "markdown",
      "metadata": {
        "id": "y8QG2S4lwtsF"
      },
      "source": [
        "Marsabit"
      ]
    },
    {
      "cell_type": "code",
      "metadata": {
        "colab": {
          "base_uri": "https://localhost:8080/"
        },
        "id": "6HqV8T9JUyCx",
        "outputId": "f9b98ece-4378-4f41-8f8f-37e4f8a9d906"
      },
      "source": [
        "#get the results for Marsabit county\r\n",
        "roi = conv(Marsabit)\r\n",
        "AOI = 'Marsabit'\r\n",
        "Marsabit_arealoss_1920 = arealoss1920()\r\n",
        "Marsabit_arealoss_2020_march = arealoss2020_march()"
      ],
      "execution_count": null,
      "outputs": [
        {
          "output_type": "stream",
          "text": [
            "pixel value  {'VH': 80795.75294117648}\n",
            "Vegetation loss for Marsabit December 2019 to Jan 2020 =  727161.7764705884 Hactares\n",
            "Vegetation loss for Marsabit  December 2019 to Jan 2020 =  7271.617764705884 Squared Kilometers\n",
            "pixel value  {'VH': 26898.33333333332}\n",
            "Vegetation loss for Marsabit Jan 2020 to March 2020 =  242084.99999999988 Hactares\n",
            "Vegetation loss for Marsabit Jan 2020 to March 2020 =  2420.849999999999 Squared Kilometers\n"
          ],
          "name": "stdout"
        }
      ]
    },
    {
      "cell_type": "markdown",
      "metadata": {
        "id": "JKyeE3iHcTpG"
      },
      "source": [
        "Elgeiyo Marakwet and Baringo"
      ]
    },
    {
      "cell_type": "code",
      "metadata": {
        "colab": {
          "base_uri": "https://localhost:8080/"
        },
        "id": "RFgGERQSVsJB",
        "outputId": "a5a9cf0f-6ec5-46f1-9a61-eb1462796508"
      },
      "source": [
        "roi = conv(Elgeiyo_Baringo)\r\n",
        "AOI = 'Elgeiyo Marakwet & Baringo'\r\n",
        "# Call the function to calculate the vegetation loss\r\n",
        "Elgeiyo_Baringo_arealoss_1920 = arealoss1920() \r\n",
        "Elgeiyo_Baringo_arealoss_2020_march = arealoss2020_march()"
      ],
      "execution_count": null,
      "outputs": [
        {
          "output_type": "stream",
          "text": [
            "pixel value  {'VH': 302.99607843137255}\n",
            "Vegetation loss for Elgeiyo Marakwet & Baringo December 2019 to Jan 2020 =  2726.964705882353 Hactares\n",
            "Vegetation loss for Elgeiyo Marakwet & Baringo  December 2019 to Jan 2020 =  27.26964705882353 Squared Kilometers\n",
            "pixel value  {'VH': 917.9882352941175}\n",
            "Vegetation loss for Elgeiyo Marakwet & Baringo Jan 2020 to March 2020 =  8261.894117647058 Hactares\n",
            "Vegetation loss for Elgeiyo Marakwet & Baringo Jan 2020 to March 2020 =  82.61894117647059 Squared Kilometers\n"
          ],
          "name": "stdout"
        }
      ]
    },
    {
      "cell_type": "markdown",
      "metadata": {
        "id": "oXsACgLmde6Y"
      },
      "source": [
        "Laikipia & Samburu \r\n",
        "Note: the lower counties seem to have experienced Massive destruction in the period in between Jan to March 2020"
      ]
    },
    {
      "cell_type": "code",
      "metadata": {
        "colab": {
          "base_uri": "https://localhost:8080/"
        },
        "id": "sSL3iY4Edbn3",
        "outputId": "dcf354b7-2c24-4451-ea4a-91939eb8a142"
      },
      "source": [
        "roi = conv(Laikipia_samburu)\r\n",
        "AOI = 'Laikipia & samburu'\r\n",
        "# Call the function to calculate the vegetation loss\r\n",
        "Laikipia_samburu_arealoss_1920 = arealoss1920() \r\n",
        "Laikipia_samburu_arealoss_2020_march = arealoss2020_march()\r\n"
      ],
      "execution_count": null,
      "outputs": [
        {
          "output_type": "stream",
          "text": [
            "pixel value  {'VH': 4821.878431372547}\n",
            "Vegetation loss for Laikipia & samburu December 2019 to Jan 2020 =  43396.90588235293 Hactares\n",
            "Vegetation loss for Laikipia & samburu  December 2019 to Jan 2020 =  433.9690588235293 Squared Kilometers\n",
            "pixel value  {'VH': 7777.631372549019}\n",
            "Vegetation loss for Laikipia & samburu Jan 2020 to March 2020 =  69998.68235294118 Hactares\n",
            "Vegetation loss for Laikipia & samburu Jan 2020 to March 2020 =  699.9868235294118 Squared Kilometers\n"
          ],
          "name": "stdout"
        }
      ]
    },
    {
      "cell_type": "markdown",
      "metadata": {
        "id": "RA7nZqijefjh"
      },
      "source": [
        "Kitui"
      ]
    },
    {
      "cell_type": "code",
      "metadata": {
        "colab": {
          "base_uri": "https://localhost:8080/"
        },
        "id": "bGyn79IBei85",
        "outputId": "988475b5-91d9-4ac5-da00-1194f3cec33b"
      },
      "source": [
        "\r\n",
        "roi = conv(Kitui)\r\n",
        "AOI = 'Kitui'\r\n",
        "# Call the function to calculate the vegetation loss\r\n",
        "Kitui_arealoss_1920 = arealoss1920() \r\n",
        "Kitui_arealoss_2020_march = arealoss2020_march()"
      ],
      "execution_count": null,
      "outputs": [
        {
          "output_type": "stream",
          "text": [
            "pixel value  {'VH': 2313.7882352941174}\n",
            "Vegetation loss for Kitui December 2019 to Jan 2020 =  20824.094117647055 Hactares\n",
            "Vegetation loss for Kitui  December 2019 to Jan 2020 =  208.24094117647056 Squared Kilometers\n",
            "pixel value  {'VH': 3660.709803921569}\n",
            "Vegetation loss for Kitui Jan 2020 to March 2020 =  32946.38823529412 Hactares\n",
            "Vegetation loss for Kitui Jan 2020 to March 2020 =  329.4638823529412 Squared Kilometers\n"
          ],
          "name": "stdout"
        }
      ]
    },
    {
      "cell_type": "markdown",
      "metadata": {
        "id": "nhnjrp_MfKMp"
      },
      "source": [
        "Mandera"
      ]
    },
    {
      "cell_type": "code",
      "metadata": {
        "colab": {
          "base_uri": "https://localhost:8080/"
        },
        "id": "s7sjpvdhfLc7",
        "outputId": "d817c93b-3a92-48f2-9ff4-bbfeb1cb9810"
      },
      "source": [
        "roi = conv(Mandera)\r\n",
        "AOI = 'Mandera'\r\n",
        "# Call the function to calculate the vegetation loss\r\n",
        "Mandera_arealoss_1920 = arealoss1920() \r\n",
        "Mandera_arealoss_2020_march = arealoss2020_march()"
      ],
      "execution_count": null,
      "outputs": [
        {
          "output_type": "stream",
          "text": [
            "pixel value  {'VH': 3698.035294117647}\n",
            "Vegetation loss for Mandera December 2019 to Jan 2020 =  33282.31764705882 Hactares\n",
            "Vegetation loss for Mandera  December 2019 to Jan 2020 =  332.82317647058824 Squared Kilometers\n",
            "pixel value  {'VH': 1313.1607843137247}\n",
            "Vegetation loss for Mandera Jan 2020 to March 2020 =  11818.447058823522 Hactares\n",
            "Vegetation loss for Mandera Jan 2020 to March 2020 =  118.18447058823521 Squared Kilometers\n"
          ],
          "name": "stdout"
        }
      ]
    },
    {
      "cell_type": "markdown",
      "metadata": {
        "id": "Vf-brMBYftT7"
      },
      "source": [
        "Machakos & Embu"
      ]
    },
    {
      "cell_type": "code",
      "metadata": {
        "colab": {
          "base_uri": "https://localhost:8080/"
        },
        "id": "ZtqEJzMQfsRA",
        "outputId": "a0868759-e948-4812-f8b2-fa5f60fac7ff"
      },
      "source": [
        "roi = conv(Machakos_embu)\r\n",
        "AOI = 'Machakos & embu'\r\n",
        "# Call the function to calculate the vegetation loss\r\n",
        "Machakos_embu_arealoss_1920 = arealoss1920() \r\n",
        "Machakos_embu_arealoss_2020_march = arealoss2020_march()"
      ],
      "execution_count": null,
      "outputs": [
        {
          "output_type": "stream",
          "text": [
            "pixel value  {'VH': 1836.219607843137}\n",
            "Vegetation loss for Machakos & embu December 2019 to Jan 2020 =  16525.976470588233 Hactares\n",
            "Vegetation loss for Machakos & embu  December 2019 to Jan 2020 =  165.25976470588233 Squared Kilometers\n",
            "pixel value  {'VH': 186.43137254901958}\n",
            "Vegetation loss for Machakos & embu Jan 2020 to March 2020 =  1677.8823529411764 Hactares\n",
            "Vegetation loss for Machakos & embu Jan 2020 to March 2020 =  16.778823529411763 Squared Kilometers\n"
          ],
          "name": "stdout"
        }
      ]
    },
    {
      "cell_type": "markdown",
      "metadata": {
        "id": "DGUfwPLwgPE7"
      },
      "source": [
        "Meru & Isolo"
      ]
    },
    {
      "cell_type": "code",
      "metadata": {
        "colab": {
          "base_uri": "https://localhost:8080/"
        },
        "id": "bUri3GmjgSr4",
        "outputId": "f08bfaaa-d20a-4d68-9a89-7f8d6e845abf"
      },
      "source": [
        "roi = conv(Meru_isolo)\r\n",
        "AOI = 'Meru and isolo'\r\n",
        "# Call the function to calculate the vegetation loss\r\n",
        "Meru_isolo_arealoss_1920 = arealoss1920() \r\n",
        "Meru_isolo_arealoss_2020_march = arealoss2020_march()"
      ],
      "execution_count": null,
      "outputs": [
        {
          "output_type": "stream",
          "text": [
            "pixel value  {'VH': 57454.541176470586}\n",
            "Vegetation loss for Meru and isolo December 2019 to Jan 2020 =  517090.87058823527 Hactares\n",
            "Vegetation loss for Meru and isolo  December 2019 to Jan 2020 =  5170.9087058823525 Squared Kilometers\n",
            "pixel value  {'VH': 28889.874509803918}\n",
            "Vegetation loss for Meru and isolo Jan 2020 to March 2020 =  260008.87058823527 Hactares\n",
            "Vegetation loss for Meru and isolo Jan 2020 to March 2020 =  2600.0887058823528 Squared Kilometers\n"
          ],
          "name": "stdout"
        }
      ]
    },
    {
      "cell_type": "markdown",
      "metadata": {
        "id": "GiscYm5agmZK"
      },
      "source": [
        "Tana"
      ]
    },
    {
      "cell_type": "code",
      "metadata": {
        "colab": {
          "base_uri": "https://localhost:8080/"
        },
        "id": "iPSMn1V5gohr",
        "outputId": "e81934c8-59b6-4552-e52b-85e692df97b4"
      },
      "source": [
        "roi = conv(Tana)\r\n",
        "AOI = 'Tana'\r\n",
        "# Call the function to calculate the vegetation loss\r\n",
        "Tana_arealoss_1920 = arealoss1920() \r\n",
        "Tana_arealoss_2020_march = arealoss2020_march()\r\n"
      ],
      "execution_count": null,
      "outputs": [
        {
          "output_type": "stream",
          "text": [
            "pixel value  {'VH': 5638.066666666667}\n",
            "Vegetation loss for Tana December 2019 to Jan 2020 =  50742.6 Hactares\n",
            "Vegetation loss for Tana  December 2019 to Jan 2020 =  507.426 Squared Kilometers\n",
            "pixel value  {'VH': 89166.49019607838}\n",
            "Vegetation loss for Tana Jan 2020 to March 2020 =  802498.4117647053 Hactares\n",
            "Vegetation loss for Tana Jan 2020 to March 2020 =  8024.984117647054 Squared Kilometers\n"
          ],
          "name": "stdout"
        }
      ]
    },
    {
      "cell_type": "markdown",
      "metadata": {
        "id": "9xFzEGGRhMLr"
      },
      "source": [
        "Wajir"
      ]
    },
    {
      "cell_type": "code",
      "metadata": {
        "colab": {
          "base_uri": "https://localhost:8080/"
        },
        "id": "SIgzGyzkhOKa",
        "outputId": "3af54880-b258-4263-e650-01f9d17fc767"
      },
      "source": [
        "\r\n",
        "roi = conv(Wajir)\r\n",
        "AOI = 'Wajir'\r\n",
        "# Call the function to calculate the vegetation loss\r\n",
        "Wajir_arealoss_1920 = arealoss1920() \r\n",
        "Wajir_arealoss_2020_march = arealoss2020_march()"
      ],
      "execution_count": null,
      "outputs": [
        {
          "output_type": "stream",
          "text": [
            "pixel value  {'VH': 93956.89803921578}\n",
            "Vegetation loss for Wajir December 2019 to Jan 2020 =  845612.0823529421 Hactares\n",
            "Vegetation loss for Wajir  December 2019 to Jan 2020 =  8456.120823529422 Squared Kilometers\n",
            "pixel value  {'VH': 61183.13333333333}\n",
            "Vegetation loss for Wajir Jan 2020 to March 2020 =  550648.2 Hactares\n",
            "Vegetation loss for Wajir Jan 2020 to March 2020 =  5506.482 Squared Kilometers\n"
          ],
          "name": "stdout"
        }
      ]
    },
    {
      "cell_type": "markdown",
      "metadata": {
        "id": "hADm-RQOj1pY"
      },
      "source": [
        "Garissa"
      ]
    },
    {
      "cell_type": "code",
      "metadata": {
        "colab": {
          "base_uri": "https://localhost:8080/"
        },
        "id": "APahzLa0jv4j",
        "outputId": "3e1f53fb-c59e-4f54-9a9b-f7e32f838b49"
      },
      "source": [
        "\r\n",
        "roi = conv(Garissa)\r\n",
        "AOI = 'Garissa'\r\n",
        "# Call the function to calculate the vegetation loss\r\n",
        "Garissa_arealoss_1920 = arealoss1920() \r\n",
        "Garissa_arealoss_2020_march = arealoss2020_march()"
      ],
      "execution_count": null,
      "outputs": [
        {
          "output_type": "stream",
          "text": [
            "pixel value  {'VH': 4517.172549019608}\n",
            "Vegetation loss for Garissa December 2019 to Jan 2020 =  40654.55294117647 Hactares\n",
            "Vegetation loss for Garissa  December 2019 to Jan 2020 =  406.54552941176473 Squared Kilometers\n",
            "pixel value  {'VH': 44161.85490196081}\n",
            "Vegetation loss for Garissa Jan 2020 to March 2020 =  397456.6941176473 Hactares\n",
            "Vegetation loss for Garissa Jan 2020 to March 2020 =  3974.566941176473 Squared Kilometers\n"
          ],
          "name": "stdout"
        }
      ]
    }
  ]
}