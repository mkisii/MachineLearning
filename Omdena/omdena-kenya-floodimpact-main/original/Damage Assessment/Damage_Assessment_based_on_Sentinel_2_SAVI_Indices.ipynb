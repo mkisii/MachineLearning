{
  "nbformat": 4,
  "nbformat_minor": 0,
  "metadata": {
    "colab": {
      "name": "Damage_Assessment_based_on_Sentinel_2_SAVI_Indices.ipynb",
      "provenance": [],
      "authorship_tag": "ABX9TyOwO9SX3MmGmd9qlLTK7AaP",
      "include_colab_link": true
    },
    "kernelspec": {
      "name": "python3",
      "display_name": "Python 3"
    }
  },
  "cells": [
    {
      "cell_type": "markdown",
      "metadata": {
        "id": "view-in-github",
        "colab_type": "text"
      },
      "source": [
        "<a href=\"https://colab.research.google.com/github/OmdenaAI/KenyaRedCross/blob/main/Damage%20Assessment/Damage_Assessment_based_on_Sentinel_2_SAVI_Indices.ipynb\" target=\"_parent\"><img src=\"https://colab.research.google.com/assets/colab-badge.svg\" alt=\"Open In Colab\"/></a>"
      ]
    },
    {
      "cell_type": "markdown",
      "metadata": {
        "id": "EiDm3ZRgZidz"
      },
      "source": [
        "# Damage Assessment using SAVI."
      ]
    },
    {
      "cell_type": "markdown",
      "metadata": {
        "id": "PZCn3qY1nONB"
      },
      "source": [
        "**What is Soil Adjusted Vegetation Index (SAVI) ?**\r\n",
        "\r\n",
        "SAVI was designed to minimize soil brightness influences. It gas a soil adjustment factor L.\r\n",
        "\r\n",
        "Formula of SAVI vegetation index:\r\n",
        "\r\n",
        "SAVI = ((NIR – Red) / (NIR + Red + L)) x (1 + L)\r\n",
        "\r\n",
        "Key fact: L is a variable. Its values range within -1 to 1, depending on the amount of green vegetation present in the area. To run the remote sensing analysis of areas with high green vegetation, L is set to zero (in which case SAVI index data will be equal to NDVI); whereas low green vegetation regions require L=1.\r\n",
        "\r\n",
        "When to use: for analysis of young crops; for arid regions with sparse vegetation (less than 15% of total area) and exposed soil surfaces.\r\n",
        "\r\n",
        "Resource: https://eos.com/blog/6-spectral-indexes-on-top-of-ndvi-to-make-your-vegetation-analysis-complete/"
      ]
    },
    {
      "cell_type": "markdown",
      "metadata": {
        "id": "4i88dWhiaMxp"
      },
      "source": [
        "This notebook entails using the u-net model built to performing inference on the before images to create masks for different vegetation covers. In this case cropland, pastureland and forestland. The steps used are as follows:\r\n",
        "1. Loading the u-net model:lcn_unet_resnet50.pkl\r\n",
        "2. Loading the before images in .tif and creating an RGB image from it as a numpy array.\r\n",
        "3. Using the model to predict the vegetation classes from the image.\r\n",
        "4. creating masks for cropland, pastureland and forestland.\r\n",
        "5. Calculating the SAVI diff and affected pixels for respective classses categorized by degree of damage.\r\n",
        "6. Saving the data into .csv file for further/future analysis.\r\n",
        "7. Performing further Exploratory Data Analysis(EDA) on the data.\r\n",
        "\r\n"
      ]
    },
    {
      "cell_type": "markdown",
      "metadata": {
        "id": "Ma_9uOCEbiBw"
      },
      "source": [
        "### **Loading Necessary Dependencies**"
      ]
    },
    {
      "cell_type": "code",
      "metadata": {
        "id": "7IJ1emUtYxxu"
      },
      "source": [
        "#suppressing output of the cell\r\n",
        "%%capture  \r\n",
        "#installing necessary dependencies\r\n",
        "!pip -q install geopandas\r\n",
        "!pip -q install geojson\r\n",
        "!pip -q install rasterio\r\n",
        "!pip install fastai --upgrade"
      ],
      "execution_count": 2,
      "outputs": []
    },
    {
      "cell_type": "code",
      "metadata": {
        "id": "z-M9-eN1a0gS"
      },
      "source": [
        "# importing libraries\r\n",
        "import os\r\n",
        "import json\r\n",
        "import requests\r\n",
        "import glob\r\n",
        "from pathlib import Path\r\n",
        "\r\n",
        "import geojson\r\n",
        "import rasterio as rio\r\n",
        "from rasterio.plot import show\r\n",
        "import geopandas as gpd\r\n",
        "from shapely.geometry import Point, Polygon\r\n",
        "from rasterio.plot import show_hist\r\n",
        "\r\n",
        "\r\n",
        "from matplotlib import pyplot\r\n",
        "import matplotlib.pyplot as plt\r\n",
        "import matplotlib.patches as mpatches\r\n",
        "import numpy as np\r\n",
        "import pandas as pd\r\n",
        "import time\r\n",
        "\r\n",
        "from fastai.vision.all import *\r\n",
        "\r\n",
        "from  IPython.core.interactiveshell import InteractiveShell\r\n",
        "InteractiveShell.ast_node_interactivity = \"all\"\r\n",
        "%matplotlib inline"
      ],
      "execution_count": 3,
      "outputs": []
    },
    {
      "cell_type": "markdown",
      "metadata": {
        "id": "OIgALLZAbTGg"
      },
      "source": [
        "**Mounting Google Drive**"
      ]
    },
    {
      "cell_type": "code",
      "metadata": {
        "colab": {
          "base_uri": "https://localhost:8080/"
        },
        "id": "H0WkLFj3bSdV",
        "outputId": "44855922-885c-4c2c-c934-a0d456958c51"
      },
      "source": [
        "from google.colab import drive\r\n",
        "drive.mount('/content/drive',force_remount=True)"
      ],
      "execution_count": 4,
      "outputs": [
        {
          "output_type": "stream",
          "text": [
            "Mounted at /content/drive\n"
          ],
          "name": "stdout"
        }
      ]
    },
    {
      "cell_type": "markdown",
      "metadata": {
        "id": "NXtnjHaDbsXA"
      },
      "source": [
        "### **Loading the Sentinel-2 Images from Google Drive**"
      ]
    },
    {
      "cell_type": "code",
      "metadata": {
        "id": "egmGzWG8bSbA",
        "colab": {
          "base_uri": "https://localhost:8080/"
        },
        "outputId": "be972623-3235-42db-a256-a5973444aac9"
      },
      "source": [
        "#Directory for storage of sentinel 2 images\r\n",
        "%cd '/content/drive/My Drive/Official Folder of Kenya Red Cross Desert Locust Project/Data/Sentinel_Data/dl_aoi/Kenya_AOI_224/Kenya_AOI_224_GeoTiff'"
      ],
      "execution_count": 5,
      "outputs": [
        {
          "output_type": "stream",
          "text": [
            "/content/drive/.shortcut-targets-by-id/12QHGizgz_g-tBWlzTcLz5dz_YOtWUXz8/Official Folder of Kenya Red Cross Desert Locust Project/Data/Sentinel_Data/dl_aoi/Kenya_AOI_224/Kenya_AOI_224_GeoTiff\n"
          ],
          "name": "stdout"
        }
      ]
    },
    {
      "cell_type": "code",
      "metadata": {
        "colab": {
          "base_uri": "https://localhost:8080/"
        },
        "id": "drgDtrn2bSVC",
        "outputId": "be027bbd-d3f3-442e-8dfb-7ad5f2d973d5"
      },
      "source": [
        "#path to before sentinel images\r\n",
        "#paths for the .tif images\r\n",
        "data_path = 'Kenya_AOI_before_224_clean'\r\n",
        "bf_data = Path(data_path)\r\n",
        "\r\n",
        "#the tif images are stored in the paths list\r\n",
        "bf_data = glob.glob(os.path.join(bf_data,'*.tif'))\r\n",
        "bf_data[:5]"
      ],
      "execution_count": 6,
      "outputs": [
        {
          "output_type": "execute_result",
          "data": {
            "text/plain": [
              "['Kenya_AOI_before_224_clean/kenya_aoi_before (1).tif',\n",
              " 'Kenya_AOI_before_224_clean/kenya_aoi_before (55).tif',\n",
              " 'Kenya_AOI_before_224_clean/kenya_aoi_before (53).tif',\n",
              " 'Kenya_AOI_before_224_clean/kenya_aoi_before (52).tif',\n",
              " 'Kenya_AOI_before_224_clean/kenya_aoi_before (51).tif']"
            ]
          },
          "metadata": {
            "tags": []
          },
          "execution_count": 6
        }
      ]
    },
    {
      "cell_type": "code",
      "metadata": {
        "colab": {
          "base_uri": "https://localhost:8080/"
        },
        "id": "3ov_IuQObSS6",
        "outputId": "d5ae4dfe-3445-48e4-bdc4-00670eae0001"
      },
      "source": [
        "#path to after sentiel images\r\n",
        "#paths for the .tif images\r\n",
        "data_path = 'Kenya_AOI_after_224_clean'\r\n",
        "af_data = Path(data_path)\r\n",
        "\r\n",
        "#the tif images are stored in the paths list\r\n",
        "af_data = glob.glob(os.path.join(af_data,'*.tif'))\r\n",
        "af_data[:5]"
      ],
      "execution_count": 7,
      "outputs": [
        {
          "output_type": "execute_result",
          "data": {
            "text/plain": [
              "['Kenya_AOI_after_224_clean/kenya_aoi_after (9).tif',\n",
              " 'Kenya_AOI_after_224_clean/kenya_aoi_after (1).tif',\n",
              " 'Kenya_AOI_after_224_clean/kenya_aoi_after (2).tif',\n",
              " 'Kenya_AOI_after_224_clean/kenya_aoi_after (3).tif',\n",
              " 'Kenya_AOI_after_224_clean/kenya_aoi_after (4).tif']"
            ]
          },
          "metadata": {
            "tags": []
          },
          "execution_count": 7
        }
      ]
    },
    {
      "cell_type": "code",
      "metadata": {
        "colab": {
          "base_uri": "https://localhost:8080/"
        },
        "id": "SUDhtnOSbSN9",
        "outputId": "dc27482b-1dda-4385-fa18-79400a1d377e"
      },
      "source": [
        "print(\"Length of bf data=\", len(bf_data))\r\n",
        "print(\"Length of af data=\", len(af_data))"
      ],
      "execution_count": null,
      "outputs": [
        {
          "output_type": "stream",
          "text": [
            "Length of bf data= 348\n",
            "Length of af data= 348\n"
          ],
          "name": "stdout"
        }
      ]
    },
    {
      "cell_type": "code",
      "metadata": {
        "colab": {
          "base_uri": "https://localhost:8080/"
        },
        "id": "XUO6OztvbSLM",
        "outputId": "33a61c22-e319-4539-a621-206deec103c0"
      },
      "source": [
        "#How to extract the image ID\r\n",
        "int(bf_data[0].split('(')[1].split(')')[0])"
      ],
      "execution_count": null,
      "outputs": [
        {
          "output_type": "execute_result",
          "data": {
            "text/plain": [
              "1"
            ]
          },
          "metadata": {
            "tags": []
          },
          "execution_count": 9
        }
      ]
    },
    {
      "cell_type": "code",
      "metadata": {
        "colab": {
          "base_uri": "https://localhost:8080/"
        },
        "id": "NA9zg5gobSIw",
        "outputId": "8d512bd3-9a7d-4045-b1db-ccc64c974b7e"
      },
      "source": [
        "#using for loop and storing the items/images into a dictionary\r\n",
        "folder = {}\r\n",
        "bf_list = bf_data.copy()\r\n",
        "af_list = af_data.copy()\r\n",
        "#iterating through the images\r\n",
        "for i in range(len(bf_data)):\r\n",
        "  files = []  #holds the before and after images\r\n",
        "  for  j in range(len(af_data)):\r\n",
        "    #checking for equality, splitting by the first parantheses in the string\r\n",
        "    if str(bf_data[i].split('(')[1]) == str(af_data[j].split('(')[1]):\r\n",
        "      #extracting the image_Id from the image name\r\n",
        "      key = bf_data[i].split('(')[1].split(')')[0]\r\n",
        "      files = [bf_data[i],af_data[j]]\r\n",
        "      folder[key] = files\r\n",
        "      bf_list.remove(bf_data[i]) #removing the matcged image \r\n",
        "      af_list.remove(af_data[j])\r\n",
        "\r\n",
        "print('The number of correctly matched images: ',len(folder.keys()))\r\n",
        "print(\"The number of mismatched images are: \",len(bf_list))"
      ],
      "execution_count": 8,
      "outputs": [
        {
          "output_type": "stream",
          "text": [
            "The number of correctly matched images:  348\n",
            "The number of mismatched images are:  0\n"
          ],
          "name": "stdout"
        }
      ]
    },
    {
      "cell_type": "markdown",
      "metadata": {
        "id": "3E0Vl7DTdmVI"
      },
      "source": [
        "### **Pixel-Wise Vegetation Classification & Damage Assessment Using SAVI**\r\n",
        "Using the resnet model built to classify each pixel in the sentinel-2 images to its respective landcover type. See the notebooks on using the U-net model for classification for more details.\r\n"
      ]
    },
    {
      "cell_type": "code",
      "metadata": {
        "id": "3aZzaqfebSGM"
      },
      "source": [
        "def get_y_fn(x) :\r\n",
        "  return path_lbl/f'{re.findall(r\"(.*2018)[0-9]+_RGB\", x.stem)[0]}_LC_10m.png'"
      ],
      "execution_count": null,
      "outputs": []
    },
    {
      "cell_type": "code",
      "metadata": {
        "id": "n7_rKYrTbSDL"
      },
      "source": [
        "def segm_acc(input, target) :\r\n",
        "  target = target.squeeze(1)\r\n",
        "  return (input.argmax(dim=1)==torch.tensor(target)).float().mean()"
      ],
      "execution_count": null,
      "outputs": []
    },
    {
      "cell_type": "code",
      "metadata": {
        "id": "AmPFfnN2bR_R"
      },
      "source": [
        "#loading the model from the drive\r\n",
        "infer = load_learner('/content/drive/My Drive/Omdena Project/Model/lcn_unet_resnet50.pkl')"
      ],
      "execution_count": null,
      "outputs": []
    },
    {
      "cell_type": "code",
      "metadata": {
        "id": "N25UxbvTbR6L"
      },
      "source": [
        "def get_rgb(path) :\r\n",
        "  red = rio.open(path).read(4) # B4\r\n",
        "  green = rio.open(path).read(3) # B3\r\n",
        "  blue = rio.open(path).read(2) # B2\r\n",
        "\r\n",
        "  rgb = np.dstack((red, green, blue))\r\n",
        "\r\n",
        "  # normalize and convert to range 0-255\r\n",
        "  rgb = ((rgb - rgb.min()) / (rgb.max() - rgb.min()) * 255).astype('uint8')\r\n",
        "  return rgb"
      ],
      "execution_count": null,
      "outputs": []
    },
    {
      "cell_type": "code",
      "metadata": {
        "colab": {
          "base_uri": "https://localhost:8080/",
          "height": 286
        },
        "id": "04LwP5T5eW4x",
        "outputId": "8d12a6f0-32d4-490f-9196-47f577fead3c"
      },
      "source": [
        "im = get_rgb(folder['1'][0])\r\n",
        "plt.imshow(im)"
      ],
      "execution_count": null,
      "outputs": [
        {
          "output_type": "execute_result",
          "data": {
            "text/plain": [
              "<matplotlib.image.AxesImage at 0x7fbf0c6b59b0>"
            ]
          },
          "metadata": {
            "tags": []
          },
          "execution_count": 13
        },
        {
          "output_type": "display_data",
          "data": {
            "image/png": "[encoded data removed]",
            "text/plain": [
              "<Figure size 432x288 with 1 Axes>"
            ]
          },
          "metadata": {
            "tags": [],
            "needs_background": "light"
          }
        }
      ]
    },
    {
      "cell_type": "markdown",
      "metadata": {
        "id": "WNaIQtQ8OOiG"
      },
      "source": [
        "**Damage Assessment using SAVI difference**\r\n",
        "\r\n",
        "The idea is to use the SAVI difference to categorize the pixels by the degree of damage. The following approach has been used:\r\n",
        "- low damage - SAVI 0.01 to 0.2\r\n",
        "- Moderate damage - SAVI > 0.2 to < 0.5\r\n",
        "- High damage - SAVI > 0.5"
      ]
    },
    {
      "cell_type": "code",
      "metadata": {
        "id": "tVoSoklMoVXb"
      },
      "source": [
        "def veg_calc(mask,degree):\r\n",
        "  #getting the total area of damage\r\n",
        "  if degree == 'total':\r\n",
        "    total = 0\r\n",
        "    for i in range(mask.shape[0]):\r\n",
        "      for j in range(mask.shape[0]):\r\n",
        "          if mask[i][j] >= 0.01:\r\n",
        "              total += 1\r\n",
        "\r\n",
        "    return total * 0.01\r\n",
        "\r\n",
        "  # calculating the areas with low damage\r\n",
        "  elif degree == 'low':\r\n",
        "    low = 0\r\n",
        "    for i in range(mask.shape[0]):\r\n",
        "        for j in range(mask.shape[0]):\r\n",
        "            if mask[i][j] >= 0.01 and mask[i][j] <0.2 :\r\n",
        "                low += 1\r\n",
        "\r\n",
        "    return low *0.01\r\n",
        "  \r\n",
        "  #calculating the total area in Hectares(Ha) with moderate damage\r\n",
        "  elif degree == 'moderate':\r\n",
        "    moderate = 0\r\n",
        "    for i in range(mask.shape[0]):\r\n",
        "        for j in range(mask.shape[0]):\r\n",
        "          #NDVI difference between 0.2 to 0.5\r\n",
        "          if mask[i][j] >= 0.2 and mask[i][j] <0.5 :\r\n",
        "                moderate += 1\r\n",
        "\r\n",
        "    return moderate * 0.01\r\n",
        "\r\n",
        "  #calculating the total area with high damage\r\n",
        "  elif degree == 'high':\r\n",
        "    high = 0\r\n",
        "    for i in range(mask.shape[0]):\r\n",
        "      for j in range(mask.shape[0]):\r\n",
        "          if mask[i][j] >= 0.5:\r\n",
        "              high += 1\r\n",
        "\r\n",
        "    return high * 0.01\r\n"
      ],
      "execution_count": null,
      "outputs": []
    },
    {
      "cell_type": "markdown",
      "metadata": {
        "id": "GorNUX7ePW4G"
      },
      "source": [
        "*Caution:This section takes very long to execute: about 60 minutes. Better ways to optimize the code can be explored.*"
      ]
    },
    {
      "cell_type": "code",
      "metadata": {
        "colab": {
          "base_uri": "https://localhost:8080/",
          "height": 51
        },
        "id": "bfCkh2OHeN3S",
        "outputId": "913d2bd6-c004-4ae1-a9c6-d881d4ae7891"
      },
      "source": [
        "#Measuring the time taken for execution\r\n",
        "# store starting time \r\n",
        "begin = time.time() \r\n",
        "#Parameters\r\n",
        "numMismatch = [] #holding the folder_Ids for mismateched images\r\n",
        "\r\n",
        "#Creating a dataframe for storing the ndvi values\r\n",
        "veg_df = pd.DataFrame(columns = [\"Image_ID\", \"Total_Cropland(Ha)\", 'Total_Pastureland(Ha)', \"Total_Forestland(Ha)\",\r\n",
        "                                 'Low_Damage_Cropland(Ha)','Moderate_Damage_Cropland(Ha)','High_Damage_Cropland(Ha)',\r\n",
        "                                 'Low_Damage_Pastureland(Ha)','Moderate_Damage_Pastureland(Ha)','High_Damage_Pastureland(Ha)',\r\n",
        "                                 'Low_Damage_Forestland(Ha)','Moderate_Damage_Forestland(Ha)','High_Damage_Forestland(Ha)'\r\n",
        "\r\n",
        "                                 ])\r\n",
        "\r\n",
        "#iterating through all the images in the folder\r\n",
        "for key in folder:\r\n",
        "  #loading image from tif file using rasterio\r\n",
        "  bf = rio.open(folder[key][0])\r\n",
        "  af = rio.open(folder[key][1])\r\n",
        "\r\n",
        "  # reading the RGB band from the image\r\n",
        "  red = bf.read(4) # B4\r\n",
        "  green = bf.read(3) # B3\r\n",
        "  blue = bf.read(2) # B2\r\n",
        "\r\n",
        "  rgb = np.dstack((red, green, blue))\r\n",
        "\r\n",
        "  # normalize and convert to range 0-255\r\n",
        "  rgb = ((rgb - rgb.min()) / (rgb.max() - rgb.min()) * 255).astype('uint8')\r\n",
        "\r\n",
        "  #getting the masks from the rgb image\r\n",
        "  pred = infer.predict(rgb)[0].numpy()\r\n",
        "\r\n",
        "  #creating the masks for the vegatation classes: Cropland, Pastureland and Forestland\r\n",
        "  crop_mask = pred==1\r\n",
        "  pasture_mask = pred==2\r\n",
        "  forest_mask = pred==5\r\n",
        "  \r\n",
        "  # Calculating SAVI from the pair of images\r\n",
        "  L = 1 #defining parameters\r\n",
        "  bf_red = bf.read(4)\r\n",
        "  bf_nir = bf.read(8)\r\n",
        "  af_red = af.read(4)\r\n",
        "  af_nir = af.read(8)\r\n",
        "\r\n",
        "  bf_savi = ((bf_nir.astype(float)-bf_red.astype(float))/(bf_nir.astype(float) + bf_red.astype(float) + L)) * (1 + L)\r\n",
        "  af_savi = ((af_nir.astype(float)-af_red.astype(float))/(af_nir.astype(float) + af_red.astype(float) + L)) * (1 + L)\r\n",
        "\r\n",
        "  #checking for mismatch \r\n",
        "  if (bf_savi.shape!=af_savi.shape):\r\n",
        "      #print(\"Mismatch found!bf_nvdi shape = \",bf_ndvi.shape, \", af_nvdi shape = \",af_ndvi.shape)\r\n",
        "      numMismatch.append(key)\r\n",
        "      continue\r\n",
        "  else :\r\n",
        "    #calculating the SAVI difference\r\n",
        "    diff_savi = bf_savi - af_savi\r\n",
        "\r\n",
        "    #getting the SAVI difference in the various vegatation covers\r\n",
        "    cropland_mask = np.multiply(diff_savi,crop_mask)\r\n",
        "    pastureland_mask = np.multiply(diff_savi,pasture_mask)\r\n",
        "    forestland_mask = np.multiply(diff_savi,forest_mask)\r\n",
        "\r\n",
        "    #Getting the area affected for the different vegetation covers\r\n",
        "    \r\n",
        "    #Saving the data into a dataframe\r\n",
        "    veg_df = veg_df.append({\"Image_ID\": key, \r\n",
        "                            \"Total_Cropland(Ha)\": veg_calc(cropland_mask,'total'), \r\n",
        "                            'Total_Pastureland(Ha)':veg_calc(pastureland_mask,'total'),\r\n",
        "                            \"Total_Forestland(Ha)\":veg_calc(forestland_mask,'total'),\r\n",
        "                            'Low_Damage_Cropland(Ha)':veg_calc(cropland_mask,'low'),\r\n",
        "                            'Moderate_Damage_Cropland(Ha)':veg_calc(cropland_mask,'moderate'),\r\n",
        "                            'High_Damage_Cropland(Ha)':veg_calc(cropland_mask,'high'),\r\n",
        "                            'Low_Damage_Pastureland(Ha)':veg_calc(pastureland_mask,'low'),\r\n",
        "                            'Moderate_Damage_Pastureland(Ha)':veg_calc(pastureland_mask,'moderate'),\r\n",
        "                            'High_Damage_Pastureland(Ha)':veg_calc(pastureland_mask,'high'),\r\n",
        "                            'Low_Damage_Forestland(Ha)':veg_calc(forestland_mask,'low'),\r\n",
        "                            'Moderate_Damage_Forestland(Ha)':veg_calc(forestland_mask,'moderate'),\r\n",
        "                            'High_Damage_Forestland(Ha)':veg_calc(forestland_mask,'high')},\r\n",
        "                              ignore_index = True)\r\n",
        "\r\n",
        "# store end time \r\n",
        "end = time.time() \r\n",
        "print(\"Number of cases where bf_savi shape is not equal to af_savi=\", len(numMismatch))\r\n",
        "# total time taken \r\n",
        "print(f\"Total runtime of the program is {end - begin}\") "
      ],
      "execution_count": null,
      "outputs": [
        {
          "output_type": "display_data",
          "data": {
            "text/html": [
              ""
            ],
            "text/plain": [
              "<IPython.core.display.HTML object>"
            ]
          },
          "metadata": {
            "tags": []
          }
        },
        {
          "output_type": "display_data",
          "data": {
            "text/html": [
              ""
            ],
            "text/plain": [
              "<IPython.core.display.HTML object>"
            ]
          },
          "metadata": {
            "tags": []
          }
        },
        {
          "output_type": "display_data",
          "data": {
            "text/html": [
              ""
            ],
            "text/plain": [
              "<IPython.core.display.HTML object>"
            ]
          },
          "metadata": {
            "tags": []
          }
        },
        {
          "output_type": "display_data",
          "data": {
            "text/html": [
              ""
            ],
            "text/plain": [
              "<IPython.core.display.HTML object>"
            ]
          },
          "metadata": {
            "tags": []
          }
        },
        {
          "output_type": "display_data",
          "data": {
            "text/html": [
              ""
            ],
            "text/plain": [
              "<IPython.core.display.HTML object>"
            ]
          },
          "metadata": {
            "tags": []
          }
        },
        {
          "output_type": "display_data",
          "data": {
            "text/html": [
              ""
            ],
            "text/plain": [
              "<IPython.core.display.HTML object>"
            ]
          },
          "metadata": {
            "tags": []
          }
        },
        {
          "output_type": "display_data",
          "data": {
            "text/html": [
              ""
            ],
            "text/plain": [
              "<IPython.core.display.HTML object>"
            ]
          },
          "metadata": {
            "tags": []
          }
        },
        {
          "output_type": "display_data",
          "data": {
            "text/html": [
              ""
            ],
            "text/plain": [
              "<IPython.core.display.HTML object>"
            ]
          },
          "metadata": {
            "tags": []
          }
        },
        {
          "output_type": "display_data",
          "data": {
            "text/html": [
              ""
            ],
            "text/plain": [
              "<IPython.core.display.HTML object>"
            ]
          },
          "metadata": {
            "tags": []
          }
        },
        {
          "output_type": "display_data",
          "data": {
            "text/html": [
              ""
            ],
            "text/plain": [
              "<IPython.core.display.HTML object>"
            ]
          },
          "metadata": {
            "tags": []
          }
        },
        {
          "output_type": "display_data",
          "data": {
            "text/html": [
              ""
            ],
            "text/plain": [
              "<IPython.core.display.HTML object>"
            ]
          },
          "metadata": {
            "tags": []
          }
        },
        {
          "output_type": "display_data",
          "data": {
            "text/html": [
              ""
            ],
            "text/plain": [
              "<IPython.core.display.HTML object>"
            ]
          },
          "metadata": {
            "tags": []
          }
        },
        {
          "output_type": "display_data",
          "data": {
            "text/html": [
              ""
            ],
            "text/plain": [
              "<IPython.core.display.HTML object>"
            ]
          },
          "metadata": {
            "tags": []
          }
        },
        {
          "output_type": "display_data",
          "data": {
            "text/html": [
              ""
            ],
            "text/plain": [
              "<IPython.core.display.HTML object>"
            ]
          },
          "metadata": {
            "tags": []
          }
        },
        {
          "output_type": "display_data",
          "data": {
            "text/html": [
              ""
            ],
            "text/plain": [
              "<IPython.core.display.HTML object>"
            ]
          },
          "metadata": {
            "tags": []
          }
        },
        {
          "output_type": "display_data",
          "data": {
            "text/html": [
              ""
            ],
            "text/plain": [
              "<IPython.core.display.HTML object>"
            ]
          },
          "metadata": {
            "tags": []
          }
        },
        {
          "output_type": "display_data",
          "data": {
            "text/html": [
              ""
            ],
            "text/plain": [
              "<IPython.core.display.HTML object>"
            ]
          },
          "metadata": {
            "tags": []
          }
        },
        {
          "output_type": "display_data",
          "data": {
            "text/html": [
              ""
            ],
            "text/plain": [
              "<IPython.core.display.HTML object>"
            ]
          },
          "metadata": {
            "tags": []
          }
        },
        {
          "output_type": "display_data",
          "data": {
            "text/html": [
              ""
            ],
            "text/plain": [
              "<IPython.core.display.HTML object>"
            ]
          },
          "metadata": {
            "tags": []
          }
        },
        {
          "output_type": "display_data",
          "data": {
            "text/html": [
              ""
            ],
            "text/plain": [
              "<IPython.core.display.HTML object>"
            ]
          },
          "metadata": {
            "tags": []
          }
        },
        {
          "output_type": "display_data",
          "data": {
            "text/html": [
              ""
            ],
            "text/plain": [
              "<IPython.core.display.HTML object>"
            ]
          },
          "metadata": {
            "tags": []
          }
        },
        {
          "output_type": "display_data",
          "data": {
            "text/html": [
              ""
            ],
            "text/plain": [
              "<IPython.core.display.HTML object>"
            ]
          },
          "metadata": {
            "tags": []
          }
        },
        {
          "output_type": "display_data",
          "data": {
            "text/html": [
              ""
            ],
            "text/plain": [
              "<IPython.core.display.HTML object>"
            ]
          },
          "metadata": {
            "tags": []
          }
        },
        {
          "output_type": "display_data",
          "data": {
            "text/html": [
              ""
            ],
            "text/plain": [
              "<IPython.core.display.HTML object>"
            ]
          },
          "metadata": {
            "tags": []
          }
        },
        {
          "output_type": "display_data",
          "data": {
            "text/html": [
              ""
            ],
            "text/plain": [
              "<IPython.core.display.HTML object>"
            ]
          },
          "metadata": {
            "tags": []
          }
        },
        {
          "output_type": "display_data",
          "data": {
            "text/html": [
              ""
            ],
            "text/plain": [
              "<IPython.core.display.HTML object>"
            ]
          },
          "metadata": {
            "tags": []
          }
        },
        {
          "output_type": "display_data",
          "data": {
            "text/html": [
              ""
            ],
            "text/plain": [
              "<IPython.core.display.HTML object>"
            ]
          },
          "metadata": {
            "tags": []
          }
        },
        {
          "output_type": "display_data",
          "data": {
            "text/html": [
              ""
            ],
            "text/plain": [
              "<IPython.core.display.HTML object>"
            ]
          },
          "metadata": {
            "tags": []
          }
        },
        {
          "output_type": "display_data",
          "data": {
            "text/html": [
              ""
            ],
            "text/plain": [
              "<IPython.core.display.HTML object>"
            ]
          },
          "metadata": {
            "tags": []
          }
        },
        {
          "output_type": "display_data",
          "data": {
            "text/html": [
              ""
            ],
            "text/plain": [
              "<IPython.core.display.HTML object>"
            ]
          },
          "metadata": {
            "tags": []
          }
        },
        {
          "output_type": "display_data",
          "data": {
            "text/html": [
              ""
            ],
            "text/plain": [
              "<IPython.core.display.HTML object>"
            ]
          },
          "metadata": {
            "tags": []
          }
        },
        {
          "output_type": "display_data",
          "data": {
            "text/html": [
              ""
            ],
            "text/plain": [
              "<IPython.core.display.HTML object>"
            ]
          },
          "metadata": {
            "tags": []
          }
        },
        {
          "output_type": "display_data",
          "data": {
            "text/html": [
              ""
            ],
            "text/plain": [
              "<IPython.core.display.HTML object>"
            ]
          },
          "metadata": {
            "tags": []
          }
        },
        {
          "output_type": "display_data",
          "data": {
            "text/html": [
              ""
            ],
            "text/plain": [
              "<IPython.core.display.HTML object>"
            ]
          },
          "metadata": {
            "tags": []
          }
        },
        {
          "output_type": "display_data",
          "data": {
            "text/html": [
              ""
            ],
            "text/plain": [
              "<IPython.core.display.HTML object>"
            ]
          },
          "metadata": {
            "tags": []
          }
        },
        {
          "output_type": "display_data",
          "data": {
            "text/html": [
              ""
            ],
            "text/plain": [
              "<IPython.core.display.HTML object>"
            ]
          },
          "metadata": {
            "tags": []
          }
        },
        {
          "output_type": "display_data",
          "data": {
            "text/html": [
              ""
            ],
            "text/plain": [
              "<IPython.core.display.HTML object>"
            ]
          },
          "metadata": {
            "tags": []
          }
        },
        {
          "output_type": "display_data",
          "data": {
            "text/html": [
              ""
            ],
            "text/plain": [
              "<IPython.core.display.HTML object>"
            ]
          },
          "metadata": {
            "tags": []
          }
        },
        {
          "output_type": "display_data",
          "data": {
            "text/html": [
              ""
            ],
            "text/plain": [
              "<IPython.core.display.HTML object>"
            ]
          },
          "metadata": {
            "tags": []
          }
        },
        {
          "output_type": "display_data",
          "data": {
            "text/html": [
              ""
            ],
            "text/plain": [
              "<IPython.core.display.HTML object>"
            ]
          },
          "metadata": {
            "tags": []
          }
        },
        {
          "output_type": "display_data",
          "data": {
            "text/html": [
              ""
            ],
            "text/plain": [
              "<IPython.core.display.HTML object>"
            ]
          },
          "metadata": {
            "tags": []
          }
        },
        {
          "output_type": "display_data",
          "data": {
            "text/html": [
              ""
            ],
            "text/plain": [
              "<IPython.core.display.HTML object>"
            ]
          },
          "metadata": {
            "tags": []
          }
        },
        {
          "output_type": "display_data",
          "data": {
            "text/html": [
              ""
            ],
            "text/plain": [
              "<IPython.core.display.HTML object>"
            ]
          },
          "metadata": {
            "tags": []
          }
        },
        {
          "output_type": "display_data",
          "data": {
            "text/html": [
              ""
            ],
            "text/plain": [
              "<IPython.core.display.HTML object>"
            ]
          },
          "metadata": {
            "tags": []
          }
        },
        {
          "output_type": "display_data",
          "data": {
            "text/html": [
              ""
            ],
            "text/plain": [
              "<IPython.core.display.HTML object>"
            ]
          },
          "metadata": {
            "tags": []
          }
        },
        {
          "output_type": "display_data",
          "data": {
            "text/html": [
              ""
            ],
            "text/plain": [
              "<IPython.core.display.HTML object>"
            ]
          },
          "metadata": {
            "tags": []
          }
        },
        {
          "output_type": "display_data",
          "data": {
            "text/html": [
              ""
            ],
            "text/plain": [
              "<IPython.core.display.HTML object>"
            ]
          },
          "metadata": {
            "tags": []
          }
        },
        {
          "output_type": "display_data",
          "data": {
            "text/html": [
              ""
            ],
            "text/plain": [
              "<IPython.core.display.HTML object>"
            ]
          },
          "metadata": {
            "tags": []
          }
        },
        {
          "output_type": "display_data",
          "data": {
            "text/html": [
              ""
            ],
            "text/plain": [
              "<IPython.core.display.HTML object>"
            ]
          },
          "metadata": {
            "tags": []
          }
        },
        {
          "output_type": "display_data",
          "data": {
            "text/html": [
              ""
            ],
            "text/plain": [
              "<IPython.core.display.HTML object>"
            ]
          },
          "metadata": {
            "tags": []
          }
        },
        {
          "output_type": "display_data",
          "data": {
            "text/html": [
              ""
            ],
            "text/plain": [
              "<IPython.core.display.HTML object>"
            ]
          },
          "metadata": {
            "tags": []
          }
        },
        {
          "output_type": "display_data",
          "data": {
            "text/html": [
              ""
            ],
            "text/plain": [
              "<IPython.core.display.HTML object>"
            ]
          },
          "metadata": {
            "tags": []
          }
        },
        {
          "output_type": "display_data",
          "data": {
            "text/html": [
              ""
            ],
            "text/plain": [
              "<IPython.core.display.HTML object>"
            ]
          },
          "metadata": {
            "tags": []
          }
        },
        {
          "output_type": "display_data",
          "data": {
            "text/html": [
              ""
            ],
            "text/plain": [
              "<IPython.core.display.HTML object>"
            ]
          },
          "metadata": {
            "tags": []
          }
        },
        {
          "output_type": "display_data",
          "data": {
            "text/html": [
              ""
            ],
            "text/plain": [
              "<IPython.core.display.HTML object>"
            ]
          },
          "metadata": {
            "tags": []
          }
        },
        {
          "output_type": "display_data",
          "data": {
            "text/html": [
              ""
            ],
            "text/plain": [
              "<IPython.core.display.HTML object>"
            ]
          },
          "metadata": {
            "tags": []
          }
        },
        {
          "output_type": "display_data",
          "data": {
            "text/html": [
              ""
            ],
            "text/plain": [
              "<IPython.core.display.HTML object>"
            ]
          },
          "metadata": {
            "tags": []
          }
        },
        {
          "output_type": "display_data",
          "data": {
            "text/html": [
              ""
            ],
            "text/plain": [
              "<IPython.core.display.HTML object>"
            ]
          },
          "metadata": {
            "tags": []
          }
        },
        {
          "output_type": "display_data",
          "data": {
            "text/html": [
              ""
            ],
            "text/plain": [
              "<IPython.core.display.HTML object>"
            ]
          },
          "metadata": {
            "tags": []
          }
        },
        {
          "output_type": "display_data",
          "data": {
            "text/html": [
              ""
            ],
            "text/plain": [
              "<IPython.core.display.HTML object>"
            ]
          },
          "metadata": {
            "tags": []
          }
        },
        {
          "output_type": "display_data",
          "data": {
            "text/html": [
              ""
            ],
            "text/plain": [
              "<IPython.core.display.HTML object>"
            ]
          },
          "metadata": {
            "tags": []
          }
        },
        {
          "output_type": "display_data",
          "data": {
            "text/html": [
              ""
            ],
            "text/plain": [
              "<IPython.core.display.HTML object>"
            ]
          },
          "metadata": {
            "tags": []
          }
        },
        {
          "output_type": "display_data",
          "data": {
            "text/html": [
              ""
            ],
            "text/plain": [
              "<IPython.core.display.HTML object>"
            ]
          },
          "metadata": {
            "tags": []
          }
        },
        {
          "output_type": "display_data",
          "data": {
            "text/html": [
              ""
            ],
            "text/plain": [
              "<IPython.core.display.HTML object>"
            ]
          },
          "metadata": {
            "tags": []
          }
        },
        {
          "output_type": "display_data",
          "data": {
            "text/html": [
              ""
            ],
            "text/plain": [
              "<IPython.core.display.HTML object>"
            ]
          },
          "metadata": {
            "tags": []
          }
        },
        {
          "output_type": "display_data",
          "data": {
            "text/html": [
              ""
            ],
            "text/plain": [
              "<IPython.core.display.HTML object>"
            ]
          },
          "metadata": {
            "tags": []
          }
        },
        {
          "output_type": "display_data",
          "data": {
            "text/html": [
              ""
            ],
            "text/plain": [
              "<IPython.core.display.HTML object>"
            ]
          },
          "metadata": {
            "tags": []
          }
        },
        {
          "output_type": "display_data",
          "data": {
            "text/html": [
              ""
            ],
            "text/plain": [
              "<IPython.core.display.HTML object>"
            ]
          },
          "metadata": {
            "tags": []
          }
        },
        {
          "output_type": "display_data",
          "data": {
            "text/html": [
              ""
            ],
            "text/plain": [
              "<IPython.core.display.HTML object>"
            ]
          },
          "metadata": {
            "tags": []
          }
        },
        {
          "output_type": "display_data",
          "data": {
            "text/html": [
              ""
            ],
            "text/plain": [
              "<IPython.core.display.HTML object>"
            ]
          },
          "metadata": {
            "tags": []
          }
        },
        {
          "output_type": "display_data",
          "data": {
            "text/html": [
              ""
            ],
            "text/plain": [
              "<IPython.core.display.HTML object>"
            ]
          },
          "metadata": {
            "tags": []
          }
        },
        {
          "output_type": "display_data",
          "data": {
            "text/html": [
              ""
            ],
            "text/plain": [
              "<IPython.core.display.HTML object>"
            ]
          },
          "metadata": {
            "tags": []
          }
        },
        {
          "output_type": "display_data",
          "data": {
            "text/html": [
              ""
            ],
            "text/plain": [
              "<IPython.core.display.HTML object>"
            ]
          },
          "metadata": {
            "tags": []
          }
        },
        {
          "output_type": "display_data",
          "data": {
            "text/html": [
              ""
            ],
            "text/plain": [
              "<IPython.core.display.HTML object>"
            ]
          },
          "metadata": {
            "tags": []
          }
        },
        {
          "output_type": "display_data",
          "data": {
            "text/html": [
              ""
            ],
            "text/plain": [
              "<IPython.core.display.HTML object>"
            ]
          },
          "metadata": {
            "tags": []
          }
        },
        {
          "output_type": "display_data",
          "data": {
            "text/html": [
              ""
            ],
            "text/plain": [
              "<IPython.core.display.HTML object>"
            ]
          },
          "metadata": {
            "tags": []
          }
        },
        {
          "output_type": "display_data",
          "data": {
            "text/html": [
              ""
            ],
            "text/plain": [
              "<IPython.core.display.HTML object>"
            ]
          },
          "metadata": {
            "tags": []
          }
        },
        {
          "output_type": "display_data",
          "data": {
            "text/html": [
              ""
            ],
            "text/plain": [
              "<IPython.core.display.HTML object>"
            ]
          },
          "metadata": {
            "tags": []
          }
        },
        {
          "output_type": "display_data",
          "data": {
            "text/html": [
              ""
            ],
            "text/plain": [
              "<IPython.core.display.HTML object>"
            ]
          },
          "metadata": {
            "tags": []
          }
        },
        {
          "output_type": "display_data",
          "data": {
            "text/html": [
              ""
            ],
            "text/plain": [
              "<IPython.core.display.HTML object>"
            ]
          },
          "metadata": {
            "tags": []
          }
        },
        {
          "output_type": "display_data",
          "data": {
            "text/html": [
              ""
            ],
            "text/plain": [
              "<IPython.core.display.HTML object>"
            ]
          },
          "metadata": {
            "tags": []
          }
        },
        {
          "output_type": "display_data",
          "data": {
            "text/html": [
              ""
            ],
            "text/plain": [
              "<IPython.core.display.HTML object>"
            ]
          },
          "metadata": {
            "tags": []
          }
        },
        {
          "output_type": "display_data",
          "data": {
            "text/html": [
              ""
            ],
            "text/plain": [
              "<IPython.core.display.HTML object>"
            ]
          },
          "metadata": {
            "tags": []
          }
        },
        {
          "output_type": "display_data",
          "data": {
            "text/html": [
              ""
            ],
            "text/plain": [
              "<IPython.core.display.HTML object>"
            ]
          },
          "metadata": {
            "tags": []
          }
        },
        {
          "output_type": "display_data",
          "data": {
            "text/html": [
              ""
            ],
            "text/plain": [
              "<IPython.core.display.HTML object>"
            ]
          },
          "metadata": {
            "tags": []
          }
        },
        {
          "output_type": "display_data",
          "data": {
            "text/html": [
              ""
            ],
            "text/plain": [
              "<IPython.core.display.HTML object>"
            ]
          },
          "metadata": {
            "tags": []
          }
        },
        {
          "output_type": "display_data",
          "data": {
            "text/html": [
              ""
            ],
            "text/plain": [
              "<IPython.core.display.HTML object>"
            ]
          },
          "metadata": {
            "tags": []
          }
        },
        {
          "output_type": "display_data",
          "data": {
            "text/html": [
              ""
            ],
            "text/plain": [
              "<IPython.core.display.HTML object>"
            ]
          },
          "metadata": {
            "tags": []
          }
        },
        {
          "output_type": "display_data",
          "data": {
            "text/html": [
              ""
            ],
            "text/plain": [
              "<IPython.core.display.HTML object>"
            ]
          },
          "metadata": {
            "tags": []
          }
        },
        {
          "output_type": "display_data",
          "data": {
            "text/html": [
              ""
            ],
            "text/plain": [
              "<IPython.core.display.HTML object>"
            ]
          },
          "metadata": {
            "tags": []
          }
        },
        {
          "output_type": "display_data",
          "data": {
            "text/html": [
              ""
            ],
            "text/plain": [
              "<IPython.core.display.HTML object>"
            ]
          },
          "metadata": {
            "tags": []
          }
        },
        {
          "output_type": "display_data",
          "data": {
            "text/html": [
              ""
            ],
            "text/plain": [
              "<IPython.core.display.HTML object>"
            ]
          },
          "metadata": {
            "tags": []
          }
        },
        {
          "output_type": "display_data",
          "data": {
            "text/html": [
              ""
            ],
            "text/plain": [
              "<IPython.core.display.HTML object>"
            ]
          },
          "metadata": {
            "tags": []
          }
        },
        {
          "output_type": "display_data",
          "data": {
            "text/html": [
              ""
            ],
            "text/plain": [
              "<IPython.core.display.HTML object>"
            ]
          },
          "metadata": {
            "tags": []
          }
        },
        {
          "output_type": "display_data",
          "data": {
            "text/html": [
              ""
            ],
            "text/plain": [
              "<IPython.core.display.HTML object>"
            ]
          },
          "metadata": {
            "tags": []
          }
        },
        {
          "output_type": "display_data",
          "data": {
            "text/html": [
              ""
            ],
            "text/plain": [
              "<IPython.core.display.HTML object>"
            ]
          },
          "metadata": {
            "tags": []
          }
        },
        {
          "output_type": "display_data",
          "data": {
            "text/html": [
              ""
            ],
            "text/plain": [
              "<IPython.core.display.HTML object>"
            ]
          },
          "metadata": {
            "tags": []
          }
        },
        {
          "output_type": "display_data",
          "data": {
            "text/html": [
              ""
            ],
            "text/plain": [
              "<IPython.core.display.HTML object>"
            ]
          },
          "metadata": {
            "tags": []
          }
        },
        {
          "output_type": "display_data",
          "data": {
            "text/html": [
              ""
            ],
            "text/plain": [
              "<IPython.core.display.HTML object>"
            ]
          },
          "metadata": {
            "tags": []
          }
        },
        {
          "output_type": "display_data",
          "data": {
            "text/html": [
              ""
            ],
            "text/plain": [
              "<IPython.core.display.HTML object>"
            ]
          },
          "metadata": {
            "tags": []
          }
        },
        {
          "output_type": "display_data",
          "data": {
            "text/html": [
              ""
            ],
            "text/plain": [
              "<IPython.core.display.HTML object>"
            ]
          },
          "metadata": {
            "tags": []
          }
        },
        {
          "output_type": "display_data",
          "data": {
            "text/html": [
              ""
            ],
            "text/plain": [
              "<IPython.core.display.HTML object>"
            ]
          },
          "metadata": {
            "tags": []
          }
        },
        {
          "output_type": "display_data",
          "data": {
            "text/html": [
              ""
            ],
            "text/plain": [
              "<IPython.core.display.HTML object>"
            ]
          },
          "metadata": {
            "tags": []
          }
        },
        {
          "output_type": "display_data",
          "data": {
            "text/html": [
              ""
            ],
            "text/plain": [
              "<IPython.core.display.HTML object>"
            ]
          },
          "metadata": {
            "tags": []
          }
        },
        {
          "output_type": "display_data",
          "data": {
            "text/html": [
              ""
            ],
            "text/plain": [
              "<IPython.core.display.HTML object>"
            ]
          },
          "metadata": {
            "tags": []
          }
        },
        {
          "output_type": "display_data",
          "data": {
            "text/html": [
              ""
            ],
            "text/plain": [
              "<IPython.core.display.HTML object>"
            ]
          },
          "metadata": {
            "tags": []
          }
        },
        {
          "output_type": "display_data",
          "data": {
            "text/html": [
              ""
            ],
            "text/plain": [
              "<IPython.core.display.HTML object>"
            ]
          },
          "metadata": {
            "tags": []
          }
        },
        {
          "output_type": "display_data",
          "data": {
            "text/html": [
              ""
            ],
            "text/plain": [
              "<IPython.core.display.HTML object>"
            ]
          },
          "metadata": {
            "tags": []
          }
        },
        {
          "output_type": "display_data",
          "data": {
            "text/html": [
              ""
            ],
            "text/plain": [
              "<IPython.core.display.HTML object>"
            ]
          },
          "metadata": {
            "tags": []
          }
        },
        {
          "output_type": "display_data",
          "data": {
            "text/html": [
              ""
            ],
            "text/plain": [
              "<IPython.core.display.HTML object>"
            ]
          },
          "metadata": {
            "tags": []
          }
        },
        {
          "output_type": "display_data",
          "data": {
            "text/html": [
              ""
            ],
            "text/plain": [
              "<IPython.core.display.HTML object>"
            ]
          },
          "metadata": {
            "tags": []
          }
        },
        {
          "output_type": "display_data",
          "data": {
            "text/html": [
              ""
            ],
            "text/plain": [
              "<IPython.core.display.HTML object>"
            ]
          },
          "metadata": {
            "tags": []
          }
        },
        {
          "output_type": "display_data",
          "data": {
            "text/html": [
              ""
            ],
            "text/plain": [
              "<IPython.core.display.HTML object>"
            ]
          },
          "metadata": {
            "tags": []
          }
        },
        {
          "output_type": "display_data",
          "data": {
            "text/html": [
              ""
            ],
            "text/plain": [
              "<IPython.core.display.HTML object>"
            ]
          },
          "metadata": {
            "tags": []
          }
        },
        {
          "output_type": "display_data",
          "data": {
            "text/html": [
              ""
            ],
            "text/plain": [
              "<IPython.core.display.HTML object>"
            ]
          },
          "metadata": {
            "tags": []
          }
        },
        {
          "output_type": "display_data",
          "data": {
            "text/html": [
              ""
            ],
            "text/plain": [
              "<IPython.core.display.HTML object>"
            ]
          },
          "metadata": {
            "tags": []
          }
        },
        {
          "output_type": "display_data",
          "data": {
            "text/html": [
              ""
            ],
            "text/plain": [
              "<IPython.core.display.HTML object>"
            ]
          },
          "metadata": {
            "tags": []
          }
        },
        {
          "output_type": "display_data",
          "data": {
            "text/html": [
              ""
            ],
            "text/plain": [
              "<IPython.core.display.HTML object>"
            ]
          },
          "metadata": {
            "tags": []
          }
        },
        {
          "output_type": "display_data",
          "data": {
            "text/html": [
              ""
            ],
            "text/plain": [
              "<IPython.core.display.HTML object>"
            ]
          },
          "metadata": {
            "tags": []
          }
        },
        {
          "output_type": "display_data",
          "data": {
            "text/html": [
              ""
            ],
            "text/plain": [
              "<IPython.core.display.HTML object>"
            ]
          },
          "metadata": {
            "tags": []
          }
        },
        {
          "output_type": "display_data",
          "data": {
            "text/html": [
              ""
            ],
            "text/plain": [
              "<IPython.core.display.HTML object>"
            ]
          },
          "metadata": {
            "tags": []
          }
        },
        {
          "output_type": "display_data",
          "data": {
            "text/html": [
              ""
            ],
            "text/plain": [
              "<IPython.core.display.HTML object>"
            ]
          },
          "metadata": {
            "tags": []
          }
        },
        {
          "output_type": "display_data",
          "data": {
            "text/html": [
              ""
            ],
            "text/plain": [
              "<IPython.core.display.HTML object>"
            ]
          },
          "metadata": {
            "tags": []
          }
        },
        {
          "output_type": "display_data",
          "data": {
            "text/html": [
              ""
            ],
            "text/plain": [
              "<IPython.core.display.HTML object>"
            ]
          },
          "metadata": {
            "tags": []
          }
        },
        {
          "output_type": "display_data",
          "data": {
            "text/html": [
              ""
            ],
            "text/plain": [
              "<IPython.core.display.HTML object>"
            ]
          },
          "metadata": {
            "tags": []
          }
        },
        {
          "output_type": "display_data",
          "data": {
            "text/html": [
              ""
            ],
            "text/plain": [
              "<IPython.core.display.HTML object>"
            ]
          },
          "metadata": {
            "tags": []
          }
        },
        {
          "output_type": "display_data",
          "data": {
            "text/html": [
              ""
            ],
            "text/plain": [
              "<IPython.core.display.HTML object>"
            ]
          },
          "metadata": {
            "tags": []
          }
        },
        {
          "output_type": "display_data",
          "data": {
            "text/html": [
              ""
            ],
            "text/plain": [
              "<IPython.core.display.HTML object>"
            ]
          },
          "metadata": {
            "tags": []
          }
        },
        {
          "output_type": "display_data",
          "data": {
            "text/html": [
              ""
            ],
            "text/plain": [
              "<IPython.core.display.HTML object>"
            ]
          },
          "metadata": {
            "tags": []
          }
        },
        {
          "output_type": "display_data",
          "data": {
            "text/html": [
              ""
            ],
            "text/plain": [
              "<IPython.core.display.HTML object>"
            ]
          },
          "metadata": {
            "tags": []
          }
        },
        {
          "output_type": "display_data",
          "data": {
            "text/html": [
              ""
            ],
            "text/plain": [
              "<IPython.core.display.HTML object>"
            ]
          },
          "metadata": {
            "tags": []
          }
        },
        {
          "output_type": "display_data",
          "data": {
            "text/html": [
              ""
            ],
            "text/plain": [
              "<IPython.core.display.HTML object>"
            ]
          },
          "metadata": {
            "tags": []
          }
        },
        {
          "output_type": "display_data",
          "data": {
            "text/html": [
              ""
            ],
            "text/plain": [
              "<IPython.core.display.HTML object>"
            ]
          },
          "metadata": {
            "tags": []
          }
        },
        {
          "output_type": "display_data",
          "data": {
            "text/html": [
              ""
            ],
            "text/plain": [
              "<IPython.core.display.HTML object>"
            ]
          },
          "metadata": {
            "tags": []
          }
        },
        {
          "output_type": "display_data",
          "data": {
            "text/html": [
              ""
            ],
            "text/plain": [
              "<IPython.core.display.HTML object>"
            ]
          },
          "metadata": {
            "tags": []
          }
        },
        {
          "output_type": "display_data",
          "data": {
            "text/html": [
              ""
            ],
            "text/plain": [
              "<IPython.core.display.HTML object>"
            ]
          },
          "metadata": {
            "tags": []
          }
        },
        {
          "output_type": "display_data",
          "data": {
            "text/html": [
              ""
            ],
            "text/plain": [
              "<IPython.core.display.HTML object>"
            ]
          },
          "metadata": {
            "tags": []
          }
        },
        {
          "output_type": "display_data",
          "data": {
            "text/html": [
              ""
            ],
            "text/plain": [
              "<IPython.core.display.HTML object>"
            ]
          },
          "metadata": {
            "tags": []
          }
        },
        {
          "output_type": "display_data",
          "data": {
            "text/html": [
              ""
            ],
            "text/plain": [
              "<IPython.core.display.HTML object>"
            ]
          },
          "metadata": {
            "tags": []
          }
        },
        {
          "output_type": "display_data",
          "data": {
            "text/html": [
              ""
            ],
            "text/plain": [
              "<IPython.core.display.HTML object>"
            ]
          },
          "metadata": {
            "tags": []
          }
        },
        {
          "output_type": "display_data",
          "data": {
            "text/html": [
              ""
            ],
            "text/plain": [
              "<IPython.core.display.HTML object>"
            ]
          },
          "metadata": {
            "tags": []
          }
        },
        {
          "output_type": "display_data",
          "data": {
            "text/html": [
              ""
            ],
            "text/plain": [
              "<IPython.core.display.HTML object>"
            ]
          },
          "metadata": {
            "tags": []
          }
        },
        {
          "output_type": "display_data",
          "data": {
            "text/html": [
              ""
            ],
            "text/plain": [
              "<IPython.core.display.HTML object>"
            ]
          },
          "metadata": {
            "tags": []
          }
        },
        {
          "output_type": "display_data",
          "data": {
            "text/html": [
              ""
            ],
            "text/plain": [
              "<IPython.core.display.HTML object>"
            ]
          },
          "metadata": {
            "tags": []
          }
        },
        {
          "output_type": "display_data",
          "data": {
            "text/html": [
              ""
            ],
            "text/plain": [
              "<IPython.core.display.HTML object>"
            ]
          },
          "metadata": {
            "tags": []
          }
        },
        {
          "output_type": "display_data",
          "data": {
            "text/html": [
              ""
            ],
            "text/plain": [
              "<IPython.core.display.HTML object>"
            ]
          },
          "metadata": {
            "tags": []
          }
        },
        {
          "output_type": "display_data",
          "data": {
            "text/html": [
              ""
            ],
            "text/plain": [
              "<IPython.core.display.HTML object>"
            ]
          },
          "metadata": {
            "tags": []
          }
        },
        {
          "output_type": "display_data",
          "data": {
            "text/html": [
              ""
            ],
            "text/plain": [
              "<IPython.core.display.HTML object>"
            ]
          },
          "metadata": {
            "tags": []
          }
        },
        {
          "output_type": "display_data",
          "data": {
            "text/html": [
              ""
            ],
            "text/plain": [
              "<IPython.core.display.HTML object>"
            ]
          },
          "metadata": {
            "tags": []
          }
        },
        {
          "output_type": "display_data",
          "data": {
            "text/html": [
              ""
            ],
            "text/plain": [
              "<IPython.core.display.HTML object>"
            ]
          },
          "metadata": {
            "tags": []
          }
        },
        {
          "output_type": "display_data",
          "data": {
            "text/html": [
              ""
            ],
            "text/plain": [
              "<IPython.core.display.HTML object>"
            ]
          },
          "metadata": {
            "tags": []
          }
        },
        {
          "output_type": "display_data",
          "data": {
            "text/html": [
              ""
            ],
            "text/plain": [
              "<IPython.core.display.HTML object>"
            ]
          },
          "metadata": {
            "tags": []
          }
        },
        {
          "output_type": "display_data",
          "data": {
            "text/html": [
              ""
            ],
            "text/plain": [
              "<IPython.core.display.HTML object>"
            ]
          },
          "metadata": {
            "tags": []
          }
        },
        {
          "output_type": "display_data",
          "data": {
            "text/html": [
              ""
            ],
            "text/plain": [
              "<IPython.core.display.HTML object>"
            ]
          },
          "metadata": {
            "tags": []
          }
        },
        {
          "output_type": "display_data",
          "data": {
            "text/html": [
              ""
            ],
            "text/plain": [
              "<IPython.core.display.HTML object>"
            ]
          },
          "metadata": {
            "tags": []
          }
        },
        {
          "output_type": "display_data",
          "data": {
            "text/html": [
              ""
            ],
            "text/plain": [
              "<IPython.core.display.HTML object>"
            ]
          },
          "metadata": {
            "tags": []
          }
        },
        {
          "output_type": "display_data",
          "data": {
            "text/html": [
              ""
            ],
            "text/plain": [
              "<IPython.core.display.HTML object>"
            ]
          },
          "metadata": {
            "tags": []
          }
        },
        {
          "output_type": "display_data",
          "data": {
            "text/html": [
              ""
            ],
            "text/plain": [
              "<IPython.core.display.HTML object>"
            ]
          },
          "metadata": {
            "tags": []
          }
        },
        {
          "output_type": "display_data",
          "data": {
            "text/html": [
              ""
            ],
            "text/plain": [
              "<IPython.core.display.HTML object>"
            ]
          },
          "metadata": {
            "tags": []
          }
        },
        {
          "output_type": "display_data",
          "data": {
            "text/html": [
              ""
            ],
            "text/plain": [
              "<IPython.core.display.HTML object>"
            ]
          },
          "metadata": {
            "tags": []
          }
        },
        {
          "output_type": "display_data",
          "data": {
            "text/html": [
              ""
            ],
            "text/plain": [
              "<IPython.core.display.HTML object>"
            ]
          },
          "metadata": {
            "tags": []
          }
        },
        {
          "output_type": "display_data",
          "data": {
            "text/html": [
              ""
            ],
            "text/plain": [
              "<IPython.core.display.HTML object>"
            ]
          },
          "metadata": {
            "tags": []
          }
        },
        {
          "output_type": "display_data",
          "data": {
            "text/html": [
              ""
            ],
            "text/plain": [
              "<IPython.core.display.HTML object>"
            ]
          },
          "metadata": {
            "tags": []
          }
        },
        {
          "output_type": "display_data",
          "data": {
            "text/html": [
              ""
            ],
            "text/plain": [
              "<IPython.core.display.HTML object>"
            ]
          },
          "metadata": {
            "tags": []
          }
        },
        {
          "output_type": "display_data",
          "data": {
            "text/html": [
              ""
            ],
            "text/plain": [
              "<IPython.core.display.HTML object>"
            ]
          },
          "metadata": {
            "tags": []
          }
        },
        {
          "output_type": "display_data",
          "data": {
            "text/html": [
              ""
            ],
            "text/plain": [
              "<IPython.core.display.HTML object>"
            ]
          },
          "metadata": {
            "tags": []
          }
        },
        {
          "output_type": "display_data",
          "data": {
            "text/html": [
              ""
            ],
            "text/plain": [
              "<IPython.core.display.HTML object>"
            ]
          },
          "metadata": {
            "tags": []
          }
        },
        {
          "output_type": "display_data",
          "data": {
            "text/html": [
              ""
            ],
            "text/plain": [
              "<IPython.core.display.HTML object>"
            ]
          },
          "metadata": {
            "tags": []
          }
        },
        {
          "output_type": "display_data",
          "data": {
            "text/html": [
              ""
            ],
            "text/plain": [
              "<IPython.core.display.HTML object>"
            ]
          },
          "metadata": {
            "tags": []
          }
        },
        {
          "output_type": "display_data",
          "data": {
            "text/html": [
              ""
            ],
            "text/plain": [
              "<IPython.core.display.HTML object>"
            ]
          },
          "metadata": {
            "tags": []
          }
        },
        {
          "output_type": "display_data",
          "data": {
            "text/html": [
              ""
            ],
            "text/plain": [
              "<IPython.core.display.HTML object>"
            ]
          },
          "metadata": {
            "tags": []
          }
        },
        {
          "output_type": "display_data",
          "data": {
            "text/html": [
              ""
            ],
            "text/plain": [
              "<IPython.core.display.HTML object>"
            ]
          },
          "metadata": {
            "tags": []
          }
        },
        {
          "output_type": "display_data",
          "data": {
            "text/html": [
              ""
            ],
            "text/plain": [
              "<IPython.core.display.HTML object>"
            ]
          },
          "metadata": {
            "tags": []
          }
        },
        {
          "output_type": "display_data",
          "data": {
            "text/html": [
              ""
            ],
            "text/plain": [
              "<IPython.core.display.HTML object>"
            ]
          },
          "metadata": {
            "tags": []
          }
        },
        {
          "output_type": "display_data",
          "data": {
            "text/html": [
              ""
            ],
            "text/plain": [
              "<IPython.core.display.HTML object>"
            ]
          },
          "metadata": {
            "tags": []
          }
        },
        {
          "output_type": "display_data",
          "data": {
            "text/html": [
              ""
            ],
            "text/plain": [
              "<IPython.core.display.HTML object>"
            ]
          },
          "metadata": {
            "tags": []
          }
        },
        {
          "output_type": "display_data",
          "data": {
            "text/html": [
              ""
            ],
            "text/plain": [
              "<IPython.core.display.HTML object>"
            ]
          },
          "metadata": {
            "tags": []
          }
        },
        {
          "output_type": "display_data",
          "data": {
            "text/html": [
              ""
            ],
            "text/plain": [
              "<IPython.core.display.HTML object>"
            ]
          },
          "metadata": {
            "tags": []
          }
        },
        {
          "output_type": "display_data",
          "data": {
            "text/html": [
              ""
            ],
            "text/plain": [
              "<IPython.core.display.HTML object>"
            ]
          },
          "metadata": {
            "tags": []
          }
        },
        {
          "output_type": "display_data",
          "data": {
            "text/html": [
              ""
            ],
            "text/plain": [
              "<IPython.core.display.HTML object>"
            ]
          },
          "metadata": {
            "tags": []
          }
        },
        {
          "output_type": "display_data",
          "data": {
            "text/html": [
              ""
            ],
            "text/plain": [
              "<IPython.core.display.HTML object>"
            ]
          },
          "metadata": {
            "tags": []
          }
        },
        {
          "output_type": "display_data",
          "data": {
            "text/html": [
              ""
            ],
            "text/plain": [
              "<IPython.core.display.HTML object>"
            ]
          },
          "metadata": {
            "tags": []
          }
        },
        {
          "output_type": "display_data",
          "data": {
            "text/html": [
              ""
            ],
            "text/plain": [
              "<IPython.core.display.HTML object>"
            ]
          },
          "metadata": {
            "tags": []
          }
        },
        {
          "output_type": "display_data",
          "data": {
            "text/html": [
              ""
            ],
            "text/plain": [
              "<IPython.core.display.HTML object>"
            ]
          },
          "metadata": {
            "tags": []
          }
        },
        {
          "output_type": "display_data",
          "data": {
            "text/html": [
              ""
            ],
            "text/plain": [
              "<IPython.core.display.HTML object>"
            ]
          },
          "metadata": {
            "tags": []
          }
        },
        {
          "output_type": "display_data",
          "data": {
            "text/html": [
              ""
            ],
            "text/plain": [
              "<IPython.core.display.HTML object>"
            ]
          },
          "metadata": {
            "tags": []
          }
        },
        {
          "output_type": "display_data",
          "data": {
            "text/html": [
              ""
            ],
            "text/plain": [
              "<IPython.core.display.HTML object>"
            ]
          },
          "metadata": {
            "tags": []
          }
        },
        {
          "output_type": "display_data",
          "data": {
            "text/html": [
              ""
            ],
            "text/plain": [
              "<IPython.core.display.HTML object>"
            ]
          },
          "metadata": {
            "tags": []
          }
        },
        {
          "output_type": "display_data",
          "data": {
            "text/html": [
              ""
            ],
            "text/plain": [
              "<IPython.core.display.HTML object>"
            ]
          },
          "metadata": {
            "tags": []
          }
        },
        {
          "output_type": "display_data",
          "data": {
            "text/html": [
              ""
            ],
            "text/plain": [
              "<IPython.core.display.HTML object>"
            ]
          },
          "metadata": {
            "tags": []
          }
        },
        {
          "output_type": "display_data",
          "data": {
            "text/html": [
              ""
            ],
            "text/plain": [
              "<IPython.core.display.HTML object>"
            ]
          },
          "metadata": {
            "tags": []
          }
        },
        {
          "output_type": "display_data",
          "data": {
            "text/html": [
              ""
            ],
            "text/plain": [
              "<IPython.core.display.HTML object>"
            ]
          },
          "metadata": {
            "tags": []
          }
        },
        {
          "output_type": "display_data",
          "data": {
            "text/html": [
              ""
            ],
            "text/plain": [
              "<IPython.core.display.HTML object>"
            ]
          },
          "metadata": {
            "tags": []
          }
        },
        {
          "output_type": "display_data",
          "data": {
            "text/html": [
              ""
            ],
            "text/plain": [
              "<IPython.core.display.HTML object>"
            ]
          },
          "metadata": {
            "tags": []
          }
        },
        {
          "output_type": "display_data",
          "data": {
            "text/html": [
              ""
            ],
            "text/plain": [
              "<IPython.core.display.HTML object>"
            ]
          },
          "metadata": {
            "tags": []
          }
        },
        {
          "output_type": "display_data",
          "data": {
            "text/html": [
              ""
            ],
            "text/plain": [
              "<IPython.core.display.HTML object>"
            ]
          },
          "metadata": {
            "tags": []
          }
        },
        {
          "output_type": "display_data",
          "data": {
            "text/html": [
              ""
            ],
            "text/plain": [
              "<IPython.core.display.HTML object>"
            ]
          },
          "metadata": {
            "tags": []
          }
        },
        {
          "output_type": "display_data",
          "data": {
            "text/html": [
              ""
            ],
            "text/plain": [
              "<IPython.core.display.HTML object>"
            ]
          },
          "metadata": {
            "tags": []
          }
        },
        {
          "output_type": "display_data",
          "data": {
            "text/html": [
              ""
            ],
            "text/plain": [
              "<IPython.core.display.HTML object>"
            ]
          },
          "metadata": {
            "tags": []
          }
        },
        {
          "output_type": "display_data",
          "data": {
            "text/html": [
              ""
            ],
            "text/plain": [
              "<IPython.core.display.HTML object>"
            ]
          },
          "metadata": {
            "tags": []
          }
        },
        {
          "output_type": "display_data",
          "data": {
            "text/html": [
              ""
            ],
            "text/plain": [
              "<IPython.core.display.HTML object>"
            ]
          },
          "metadata": {
            "tags": []
          }
        },
        {
          "output_type": "display_data",
          "data": {
            "text/html": [
              ""
            ],
            "text/plain": [
              "<IPython.core.display.HTML object>"
            ]
          },
          "metadata": {
            "tags": []
          }
        },
        {
          "output_type": "display_data",
          "data": {
            "text/html": [
              ""
            ],
            "text/plain": [
              "<IPython.core.display.HTML object>"
            ]
          },
          "metadata": {
            "tags": []
          }
        },
        {
          "output_type": "display_data",
          "data": {
            "text/html": [
              ""
            ],
            "text/plain": [
              "<IPython.core.display.HTML object>"
            ]
          },
          "metadata": {
            "tags": []
          }
        },
        {
          "output_type": "display_data",
          "data": {
            "text/html": [
              ""
            ],
            "text/plain": [
              "<IPython.core.display.HTML object>"
            ]
          },
          "metadata": {
            "tags": []
          }
        },
        {
          "output_type": "display_data",
          "data": {
            "text/html": [
              ""
            ],
            "text/plain": [
              "<IPython.core.display.HTML object>"
            ]
          },
          "metadata": {
            "tags": []
          }
        },
        {
          "output_type": "display_data",
          "data": {
            "text/html": [
              ""
            ],
            "text/plain": [
              "<IPython.core.display.HTML object>"
            ]
          },
          "metadata": {
            "tags": []
          }
        },
        {
          "output_type": "display_data",
          "data": {
            "text/html": [
              ""
            ],
            "text/plain": [
              "<IPython.core.display.HTML object>"
            ]
          },
          "metadata": {
            "tags": []
          }
        },
        {
          "output_type": "display_data",
          "data": {
            "text/html": [
              ""
            ],
            "text/plain": [
              "<IPython.core.display.HTML object>"
            ]
          },
          "metadata": {
            "tags": []
          }
        },
        {
          "output_type": "display_data",
          "data": {
            "text/html": [
              ""
            ],
            "text/plain": [
              "<IPython.core.display.HTML object>"
            ]
          },
          "metadata": {
            "tags": []
          }
        },
        {
          "output_type": "display_data",
          "data": {
            "text/html": [
              ""
            ],
            "text/plain": [
              "<IPython.core.display.HTML object>"
            ]
          },
          "metadata": {
            "tags": []
          }
        },
        {
          "output_type": "display_data",
          "data": {
            "text/html": [
              ""
            ],
            "text/plain": [
              "<IPython.core.display.HTML object>"
            ]
          },
          "metadata": {
            "tags": []
          }
        },
        {
          "output_type": "display_data",
          "data": {
            "text/html": [
              ""
            ],
            "text/plain": [
              "<IPython.core.display.HTML object>"
            ]
          },
          "metadata": {
            "tags": []
          }
        },
        {
          "output_type": "display_data",
          "data": {
            "text/html": [
              ""
            ],
            "text/plain": [
              "<IPython.core.display.HTML object>"
            ]
          },
          "metadata": {
            "tags": []
          }
        },
        {
          "output_type": "display_data",
          "data": {
            "text/html": [
              ""
            ],
            "text/plain": [
              "<IPython.core.display.HTML object>"
            ]
          },
          "metadata": {
            "tags": []
          }
        },
        {
          "output_type": "display_data",
          "data": {
            "text/html": [
              ""
            ],
            "text/plain": [
              "<IPython.core.display.HTML object>"
            ]
          },
          "metadata": {
            "tags": []
          }
        },
        {
          "output_type": "display_data",
          "data": {
            "text/html": [
              ""
            ],
            "text/plain": [
              "<IPython.core.display.HTML object>"
            ]
          },
          "metadata": {
            "tags": []
          }
        },
        {
          "output_type": "display_data",
          "data": {
            "text/html": [
              ""
            ],
            "text/plain": [
              "<IPython.core.display.HTML object>"
            ]
          },
          "metadata": {
            "tags": []
          }
        },
        {
          "output_type": "display_data",
          "data": {
            "text/html": [
              ""
            ],
            "text/plain": [
              "<IPython.core.display.HTML object>"
            ]
          },
          "metadata": {
            "tags": []
          }
        },
        {
          "output_type": "display_data",
          "data": {
            "text/html": [
              ""
            ],
            "text/plain": [
              "<IPython.core.display.HTML object>"
            ]
          },
          "metadata": {
            "tags": []
          }
        },
        {
          "output_type": "display_data",
          "data": {
            "text/html": [
              ""
            ],
            "text/plain": [
              "<IPython.core.display.HTML object>"
            ]
          },
          "metadata": {
            "tags": []
          }
        },
        {
          "output_type": "display_data",
          "data": {
            "text/html": [
              ""
            ],
            "text/plain": [
              "<IPython.core.display.HTML object>"
            ]
          },
          "metadata": {
            "tags": []
          }
        },
        {
          "output_type": "display_data",
          "data": {
            "text/html": [
              ""
            ],
            "text/plain": [
              "<IPython.core.display.HTML object>"
            ]
          },
          "metadata": {
            "tags": []
          }
        },
        {
          "output_type": "display_data",
          "data": {
            "text/html": [
              ""
            ],
            "text/plain": [
              "<IPython.core.display.HTML object>"
            ]
          },
          "metadata": {
            "tags": []
          }
        },
        {
          "output_type": "display_data",
          "data": {
            "text/html": [
              ""
            ],
            "text/plain": [
              "<IPython.core.display.HTML object>"
            ]
          },
          "metadata": {
            "tags": []
          }
        },
        {
          "output_type": "display_data",
          "data": {
            "text/html": [
              ""
            ],
            "text/plain": [
              "<IPython.core.display.HTML object>"
            ]
          },
          "metadata": {
            "tags": []
          }
        },
        {
          "output_type": "display_data",
          "data": {
            "text/html": [
              ""
            ],
            "text/plain": [
              "<IPython.core.display.HTML object>"
            ]
          },
          "metadata": {
            "tags": []
          }
        },
        {
          "output_type": "display_data",
          "data": {
            "text/html": [
              ""
            ],
            "text/plain": [
              "<IPython.core.display.HTML object>"
            ]
          },
          "metadata": {
            "tags": []
          }
        },
        {
          "output_type": "display_data",
          "data": {
            "text/html": [
              ""
            ],
            "text/plain": [
              "<IPython.core.display.HTML object>"
            ]
          },
          "metadata": {
            "tags": []
          }
        },
        {
          "output_type": "display_data",
          "data": {
            "text/html": [
              ""
            ],
            "text/plain": [
              "<IPython.core.display.HTML object>"
            ]
          },
          "metadata": {
            "tags": []
          }
        },
        {
          "output_type": "display_data",
          "data": {
            "text/html": [
              ""
            ],
            "text/plain": [
              "<IPython.core.display.HTML object>"
            ]
          },
          "metadata": {
            "tags": []
          }
        },
        {
          "output_type": "display_data",
          "data": {
            "text/html": [
              ""
            ],
            "text/plain": [
              "<IPython.core.display.HTML object>"
            ]
          },
          "metadata": {
            "tags": []
          }
        },
        {
          "output_type": "display_data",
          "data": {
            "text/html": [
              ""
            ],
            "text/plain": [
              "<IPython.core.display.HTML object>"
            ]
          },
          "metadata": {
            "tags": []
          }
        },
        {
          "output_type": "display_data",
          "data": {
            "text/html": [
              ""
            ],
            "text/plain": [
              "<IPython.core.display.HTML object>"
            ]
          },
          "metadata": {
            "tags": []
          }
        },
        {
          "output_type": "display_data",
          "data": {
            "text/html": [
              ""
            ],
            "text/plain": [
              "<IPython.core.display.HTML object>"
            ]
          },
          "metadata": {
            "tags": []
          }
        },
        {
          "output_type": "display_data",
          "data": {
            "text/html": [
              ""
            ],
            "text/plain": [
              "<IPython.core.display.HTML object>"
            ]
          },
          "metadata": {
            "tags": []
          }
        },
        {
          "output_type": "display_data",
          "data": {
            "text/html": [
              ""
            ],
            "text/plain": [
              "<IPython.core.display.HTML object>"
            ]
          },
          "metadata": {
            "tags": []
          }
        },
        {
          "output_type": "display_data",
          "data": {
            "text/html": [
              ""
            ],
            "text/plain": [
              "<IPython.core.display.HTML object>"
            ]
          },
          "metadata": {
            "tags": []
          }
        },
        {
          "output_type": "display_data",
          "data": {
            "text/html": [
              ""
            ],
            "text/plain": [
              "<IPython.core.display.HTML object>"
            ]
          },
          "metadata": {
            "tags": []
          }
        },
        {
          "output_type": "display_data",
          "data": {
            "text/html": [
              ""
            ],
            "text/plain": [
              "<IPython.core.display.HTML object>"
            ]
          },
          "metadata": {
            "tags": []
          }
        },
        {
          "output_type": "display_data",
          "data": {
            "text/html": [
              ""
            ],
            "text/plain": [
              "<IPython.core.display.HTML object>"
            ]
          },
          "metadata": {
            "tags": []
          }
        },
        {
          "output_type": "display_data",
          "data": {
            "text/html": [
              ""
            ],
            "text/plain": [
              "<IPython.core.display.HTML object>"
            ]
          },
          "metadata": {
            "tags": []
          }
        },
        {
          "output_type": "display_data",
          "data": {
            "text/html": [
              ""
            ],
            "text/plain": [
              "<IPython.core.display.HTML object>"
            ]
          },
          "metadata": {
            "tags": []
          }
        },
        {
          "output_type": "display_data",
          "data": {
            "text/html": [
              ""
            ],
            "text/plain": [
              "<IPython.core.display.HTML object>"
            ]
          },
          "metadata": {
            "tags": []
          }
        },
        {
          "output_type": "display_data",
          "data": {
            "text/html": [
              ""
            ],
            "text/plain": [
              "<IPython.core.display.HTML object>"
            ]
          },
          "metadata": {
            "tags": []
          }
        },
        {
          "output_type": "display_data",
          "data": {
            "text/html": [
              ""
            ],
            "text/plain": [
              "<IPython.core.display.HTML object>"
            ]
          },
          "metadata": {
            "tags": []
          }
        },
        {
          "output_type": "display_data",
          "data": {
            "text/html": [
              ""
            ],
            "text/plain": [
              "<IPython.core.display.HTML object>"
            ]
          },
          "metadata": {
            "tags": []
          }
        },
        {
          "output_type": "display_data",
          "data": {
            "text/html": [
              ""
            ],
            "text/plain": [
              "<IPython.core.display.HTML object>"
            ]
          },
          "metadata": {
            "tags": []
          }
        },
        {
          "output_type": "display_data",
          "data": {
            "text/html": [
              ""
            ],
            "text/plain": [
              "<IPython.core.display.HTML object>"
            ]
          },
          "metadata": {
            "tags": []
          }
        },
        {
          "output_type": "display_data",
          "data": {
            "text/html": [
              ""
            ],
            "text/plain": [
              "<IPython.core.display.HTML object>"
            ]
          },
          "metadata": {
            "tags": []
          }
        },
        {
          "output_type": "display_data",
          "data": {
            "text/html": [
              ""
            ],
            "text/plain": [
              "<IPython.core.display.HTML object>"
            ]
          },
          "metadata": {
            "tags": []
          }
        },
        {
          "output_type": "display_data",
          "data": {
            "text/html": [
              ""
            ],
            "text/plain": [
              "<IPython.core.display.HTML object>"
            ]
          },
          "metadata": {
            "tags": []
          }
        },
        {
          "output_type": "display_data",
          "data": {
            "text/html": [
              ""
            ],
            "text/plain": [
              "<IPython.core.display.HTML object>"
            ]
          },
          "metadata": {
            "tags": []
          }
        },
        {
          "output_type": "display_data",
          "data": {
            "text/html": [
              ""
            ],
            "text/plain": [
              "<IPython.core.display.HTML object>"
            ]
          },
          "metadata": {
            "tags": []
          }
        },
        {
          "output_type": "display_data",
          "data": {
            "text/html": [
              ""
            ],
            "text/plain": [
              "<IPython.core.display.HTML object>"
            ]
          },
          "metadata": {
            "tags": []
          }
        },
        {
          "output_type": "display_data",
          "data": {
            "text/html": [
              ""
            ],
            "text/plain": [
              "<IPython.core.display.HTML object>"
            ]
          },
          "metadata": {
            "tags": []
          }
        },
        {
          "output_type": "display_data",
          "data": {
            "text/html": [
              ""
            ],
            "text/plain": [
              "<IPython.core.display.HTML object>"
            ]
          },
          "metadata": {
            "tags": []
          }
        },
        {
          "output_type": "display_data",
          "data": {
            "text/html": [
              ""
            ],
            "text/plain": [
              "<IPython.core.display.HTML object>"
            ]
          },
          "metadata": {
            "tags": []
          }
        },
        {
          "output_type": "display_data",
          "data": {
            "text/html": [
              ""
            ],
            "text/plain": [
              "<IPython.core.display.HTML object>"
            ]
          },
          "metadata": {
            "tags": []
          }
        },
        {
          "output_type": "display_data",
          "data": {
            "text/html": [
              ""
            ],
            "text/plain": [
              "<IPython.core.display.HTML object>"
            ]
          },
          "metadata": {
            "tags": []
          }
        },
        {
          "output_type": "display_data",
          "data": {
            "text/html": [
              ""
            ],
            "text/plain": [
              "<IPython.core.display.HTML object>"
            ]
          },
          "metadata": {
            "tags": []
          }
        },
        {
          "output_type": "display_data",
          "data": {
            "text/html": [
              ""
            ],
            "text/plain": [
              "<IPython.core.display.HTML object>"
            ]
          },
          "metadata": {
            "tags": []
          }
        },
        {
          "output_type": "display_data",
          "data": {
            "text/html": [
              ""
            ],
            "text/plain": [
              "<IPython.core.display.HTML object>"
            ]
          },
          "metadata": {
            "tags": []
          }
        },
        {
          "output_type": "display_data",
          "data": {
            "text/html": [
              ""
            ],
            "text/plain": [
              "<IPython.core.display.HTML object>"
            ]
          },
          "metadata": {
            "tags": []
          }
        },
        {
          "output_type": "display_data",
          "data": {
            "text/html": [
              ""
            ],
            "text/plain": [
              "<IPython.core.display.HTML object>"
            ]
          },
          "metadata": {
            "tags": []
          }
        },
        {
          "output_type": "display_data",
          "data": {
            "text/html": [
              ""
            ],
            "text/plain": [
              "<IPython.core.display.HTML object>"
            ]
          },
          "metadata": {
            "tags": []
          }
        },
        {
          "output_type": "display_data",
          "data": {
            "text/html": [
              ""
            ],
            "text/plain": [
              "<IPython.core.display.HTML object>"
            ]
          },
          "metadata": {
            "tags": []
          }
        },
        {
          "output_type": "display_data",
          "data": {
            "text/html": [
              ""
            ],
            "text/plain": [
              "<IPython.core.display.HTML object>"
            ]
          },
          "metadata": {
            "tags": []
          }
        },
        {
          "output_type": "display_data",
          "data": {
            "text/html": [
              ""
            ],
            "text/plain": [
              "<IPython.core.display.HTML object>"
            ]
          },
          "metadata": {
            "tags": []
          }
        },
        {
          "output_type": "display_data",
          "data": {
            "text/html": [
              ""
            ],
            "text/plain": [
              "<IPython.core.display.HTML object>"
            ]
          },
          "metadata": {
            "tags": []
          }
        },
        {
          "output_type": "display_data",
          "data": {
            "text/html": [
              ""
            ],
            "text/plain": [
              "<IPython.core.display.HTML object>"
            ]
          },
          "metadata": {
            "tags": []
          }
        },
        {
          "output_type": "display_data",
          "data": {
            "text/html": [
              ""
            ],
            "text/plain": [
              "<IPython.core.display.HTML object>"
            ]
          },
          "metadata": {
            "tags": []
          }
        },
        {
          "output_type": "display_data",
          "data": {
            "text/html": [
              ""
            ],
            "text/plain": [
              "<IPython.core.display.HTML object>"
            ]
          },
          "metadata": {
            "tags": []
          }
        },
        {
          "output_type": "display_data",
          "data": {
            "text/html": [
              ""
            ],
            "text/plain": [
              "<IPython.core.display.HTML object>"
            ]
          },
          "metadata": {
            "tags": []
          }
        },
        {
          "output_type": "display_data",
          "data": {
            "text/html": [
              ""
            ],
            "text/plain": [
              "<IPython.core.display.HTML object>"
            ]
          },
          "metadata": {
            "tags": []
          }
        },
        {
          "output_type": "display_data",
          "data": {
            "text/html": [
              ""
            ],
            "text/plain": [
              "<IPython.core.display.HTML object>"
            ]
          },
          "metadata": {
            "tags": []
          }
        },
        {
          "output_type": "display_data",
          "data": {
            "text/html": [
              ""
            ],
            "text/plain": [
              "<IPython.core.display.HTML object>"
            ]
          },
          "metadata": {
            "tags": []
          }
        },
        {
          "output_type": "display_data",
          "data": {
            "text/html": [
              ""
            ],
            "text/plain": [
              "<IPython.core.display.HTML object>"
            ]
          },
          "metadata": {
            "tags": []
          }
        },
        {
          "output_type": "display_data",
          "data": {
            "text/html": [
              ""
            ],
            "text/plain": [
              "<IPython.core.display.HTML object>"
            ]
          },
          "metadata": {
            "tags": []
          }
        },
        {
          "output_type": "display_data",
          "data": {
            "text/html": [
              ""
            ],
            "text/plain": [
              "<IPython.core.display.HTML object>"
            ]
          },
          "metadata": {
            "tags": []
          }
        },
        {
          "output_type": "display_data",
          "data": {
            "text/html": [
              ""
            ],
            "text/plain": [
              "<IPython.core.display.HTML object>"
            ]
          },
          "metadata": {
            "tags": []
          }
        },
        {
          "output_type": "display_data",
          "data": {
            "text/html": [
              ""
            ],
            "text/plain": [
              "<IPython.core.display.HTML object>"
            ]
          },
          "metadata": {
            "tags": []
          }
        },
        {
          "output_type": "display_data",
          "data": {
            "text/html": [
              ""
            ],
            "text/plain": [
              "<IPython.core.display.HTML object>"
            ]
          },
          "metadata": {
            "tags": []
          }
        },
        {
          "output_type": "display_data",
          "data": {
            "text/html": [
              ""
            ],
            "text/plain": [
              "<IPython.core.display.HTML object>"
            ]
          },
          "metadata": {
            "tags": []
          }
        },
        {
          "output_type": "display_data",
          "data": {
            "text/html": [
              ""
            ],
            "text/plain": [
              "<IPython.core.display.HTML object>"
            ]
          },
          "metadata": {
            "tags": []
          }
        },
        {
          "output_type": "display_data",
          "data": {
            "text/html": [
              ""
            ],
            "text/plain": [
              "<IPython.core.display.HTML object>"
            ]
          },
          "metadata": {
            "tags": []
          }
        },
        {
          "output_type": "display_data",
          "data": {
            "text/html": [
              ""
            ],
            "text/plain": [
              "<IPython.core.display.HTML object>"
            ]
          },
          "metadata": {
            "tags": []
          }
        },
        {
          "output_type": "display_data",
          "data": {
            "text/html": [
              ""
            ],
            "text/plain": [
              "<IPython.core.display.HTML object>"
            ]
          },
          "metadata": {
            "tags": []
          }
        },
        {
          "output_type": "display_data",
          "data": {
            "text/html": [
              ""
            ],
            "text/plain": [
              "<IPython.core.display.HTML object>"
            ]
          },
          "metadata": {
            "tags": []
          }
        },
        {
          "output_type": "display_data",
          "data": {
            "text/html": [
              ""
            ],
            "text/plain": [
              "<IPython.core.display.HTML object>"
            ]
          },
          "metadata": {
            "tags": []
          }
        },
        {
          "output_type": "display_data",
          "data": {
            "text/html": [
              ""
            ],
            "text/plain": [
              "<IPython.core.display.HTML object>"
            ]
          },
          "metadata": {
            "tags": []
          }
        },
        {
          "output_type": "display_data",
          "data": {
            "text/html": [
              ""
            ],
            "text/plain": [
              "<IPython.core.display.HTML object>"
            ]
          },
          "metadata": {
            "tags": []
          }
        },
        {
          "output_type": "display_data",
          "data": {
            "text/html": [
              ""
            ],
            "text/plain": [
              "<IPython.core.display.HTML object>"
            ]
          },
          "metadata": {
            "tags": []
          }
        },
        {
          "output_type": "display_data",
          "data": {
            "text/html": [
              ""
            ],
            "text/plain": [
              "<IPython.core.display.HTML object>"
            ]
          },
          "metadata": {
            "tags": []
          }
        },
        {
          "output_type": "display_data",
          "data": {
            "text/html": [
              ""
            ],
            "text/plain": [
              "<IPython.core.display.HTML object>"
            ]
          },
          "metadata": {
            "tags": []
          }
        },
        {
          "output_type": "display_data",
          "data": {
            "text/html": [
              ""
            ],
            "text/plain": [
              "<IPython.core.display.HTML object>"
            ]
          },
          "metadata": {
            "tags": []
          }
        },
        {
          "output_type": "display_data",
          "data": {
            "text/html": [
              ""
            ],
            "text/plain": [
              "<IPython.core.display.HTML object>"
            ]
          },
          "metadata": {
            "tags": []
          }
        },
        {
          "output_type": "display_data",
          "data": {
            "text/html": [
              ""
            ],
            "text/plain": [
              "<IPython.core.display.HTML object>"
            ]
          },
          "metadata": {
            "tags": []
          }
        },
        {
          "output_type": "display_data",
          "data": {
            "text/html": [
              ""
            ],
            "text/plain": [
              "<IPython.core.display.HTML object>"
            ]
          },
          "metadata": {
            "tags": []
          }
        },
        {
          "output_type": "display_data",
          "data": {
            "text/html": [
              ""
            ],
            "text/plain": [
              "<IPython.core.display.HTML object>"
            ]
          },
          "metadata": {
            "tags": []
          }
        },
        {
          "output_type": "display_data",
          "data": {
            "text/html": [
              ""
            ],
            "text/plain": [
              "<IPython.core.display.HTML object>"
            ]
          },
          "metadata": {
            "tags": []
          }
        },
        {
          "output_type": "display_data",
          "data": {
            "text/html": [
              ""
            ],
            "text/plain": [
              "<IPython.core.display.HTML object>"
            ]
          },
          "metadata": {
            "tags": []
          }
        },
        {
          "output_type": "display_data",
          "data": {
            "text/html": [
              ""
            ],
            "text/plain": [
              "<IPython.core.display.HTML object>"
            ]
          },
          "metadata": {
            "tags": []
          }
        },
        {
          "output_type": "display_data",
          "data": {
            "text/html": [
              ""
            ],
            "text/plain": [
              "<IPython.core.display.HTML object>"
            ]
          },
          "metadata": {
            "tags": []
          }
        },
        {
          "output_type": "display_data",
          "data": {
            "text/html": [
              ""
            ],
            "text/plain": [
              "<IPython.core.display.HTML object>"
            ]
          },
          "metadata": {
            "tags": []
          }
        },
        {
          "output_type": "display_data",
          "data": {
            "text/html": [
              ""
            ],
            "text/plain": [
              "<IPython.core.display.HTML object>"
            ]
          },
          "metadata": {
            "tags": []
          }
        },
        {
          "output_type": "display_data",
          "data": {
            "text/html": [
              ""
            ],
            "text/plain": [
              "<IPython.core.display.HTML object>"
            ]
          },
          "metadata": {
            "tags": []
          }
        },
        {
          "output_type": "display_data",
          "data": {
            "text/html": [
              ""
            ],
            "text/plain": [
              "<IPython.core.display.HTML object>"
            ]
          },
          "metadata": {
            "tags": []
          }
        },
        {
          "output_type": "display_data",
          "data": {
            "text/html": [
              ""
            ],
            "text/plain": [
              "<IPython.core.display.HTML object>"
            ]
          },
          "metadata": {
            "tags": []
          }
        },
        {
          "output_type": "display_data",
          "data": {
            "text/html": [
              ""
            ],
            "text/plain": [
              "<IPython.core.display.HTML object>"
            ]
          },
          "metadata": {
            "tags": []
          }
        },
        {
          "output_type": "display_data",
          "data": {
            "text/html": [
              ""
            ],
            "text/plain": [
              "<IPython.core.display.HTML object>"
            ]
          },
          "metadata": {
            "tags": []
          }
        },
        {
          "output_type": "display_data",
          "data": {
            "text/html": [
              ""
            ],
            "text/plain": [
              "<IPython.core.display.HTML object>"
            ]
          },
          "metadata": {
            "tags": []
          }
        },
        {
          "output_type": "display_data",
          "data": {
            "text/html": [
              ""
            ],
            "text/plain": [
              "<IPython.core.display.HTML object>"
            ]
          },
          "metadata": {
            "tags": []
          }
        },
        {
          "output_type": "display_data",
          "data": {
            "text/html": [
              ""
            ],
            "text/plain": [
              "<IPython.core.display.HTML object>"
            ]
          },
          "metadata": {
            "tags": []
          }
        },
        {
          "output_type": "display_data",
          "data": {
            "text/html": [
              ""
            ],
            "text/plain": [
              "<IPython.core.display.HTML object>"
            ]
          },
          "metadata": {
            "tags": []
          }
        },
        {
          "output_type": "display_data",
          "data": {
            "text/html": [
              ""
            ],
            "text/plain": [
              "<IPython.core.display.HTML object>"
            ]
          },
          "metadata": {
            "tags": []
          }
        },
        {
          "output_type": "display_data",
          "data": {
            "text/html": [
              ""
            ],
            "text/plain": [
              "<IPython.core.display.HTML object>"
            ]
          },
          "metadata": {
            "tags": []
          }
        },
        {
          "output_type": "display_data",
          "data": {
            "text/html": [
              ""
            ],
            "text/plain": [
              "<IPython.core.display.HTML object>"
            ]
          },
          "metadata": {
            "tags": []
          }
        },
        {
          "output_type": "display_data",
          "data": {
            "text/html": [
              ""
            ],
            "text/plain": [
              "<IPython.core.display.HTML object>"
            ]
          },
          "metadata": {
            "tags": []
          }
        },
        {
          "output_type": "display_data",
          "data": {
            "text/html": [
              ""
            ],
            "text/plain": [
              "<IPython.core.display.HTML object>"
            ]
          },
          "metadata": {
            "tags": []
          }
        },
        {
          "output_type": "display_data",
          "data": {
            "text/html": [
              ""
            ],
            "text/plain": [
              "<IPython.core.display.HTML object>"
            ]
          },
          "metadata": {
            "tags": []
          }
        },
        {
          "output_type": "display_data",
          "data": {
            "text/html": [
              ""
            ],
            "text/plain": [
              "<IPython.core.display.HTML object>"
            ]
          },
          "metadata": {
            "tags": []
          }
        },
        {
          "output_type": "display_data",
          "data": {
            "text/html": [
              ""
            ],
            "text/plain": [
              "<IPython.core.display.HTML object>"
            ]
          },
          "metadata": {
            "tags": []
          }
        },
        {
          "output_type": "display_data",
          "data": {
            "text/html": [
              ""
            ],
            "text/plain": [
              "<IPython.core.display.HTML object>"
            ]
          },
          "metadata": {
            "tags": []
          }
        },
        {
          "output_type": "display_data",
          "data": {
            "text/html": [
              ""
            ],
            "text/plain": [
              "<IPython.core.display.HTML object>"
            ]
          },
          "metadata": {
            "tags": []
          }
        },
        {
          "output_type": "display_data",
          "data": {
            "text/html": [
              ""
            ],
            "text/plain": [
              "<IPython.core.display.HTML object>"
            ]
          },
          "metadata": {
            "tags": []
          }
        },
        {
          "output_type": "display_data",
          "data": {
            "text/html": [
              ""
            ],
            "text/plain": [
              "<IPython.core.display.HTML object>"
            ]
          },
          "metadata": {
            "tags": []
          }
        },
        {
          "output_type": "display_data",
          "data": {
            "text/html": [
              ""
            ],
            "text/plain": [
              "<IPython.core.display.HTML object>"
            ]
          },
          "metadata": {
            "tags": []
          }
        },
        {
          "output_type": "display_data",
          "data": {
            "text/html": [
              ""
            ],
            "text/plain": [
              "<IPython.core.display.HTML object>"
            ]
          },
          "metadata": {
            "tags": []
          }
        },
        {
          "output_type": "display_data",
          "data": {
            "text/html": [
              ""
            ],
            "text/plain": [
              "<IPython.core.display.HTML object>"
            ]
          },
          "metadata": {
            "tags": []
          }
        },
        {
          "output_type": "display_data",
          "data": {
            "text/html": [
              ""
            ],
            "text/plain": [
              "<IPython.core.display.HTML object>"
            ]
          },
          "metadata": {
            "tags": []
          }
        },
        {
          "output_type": "display_data",
          "data": {
            "text/html": [
              ""
            ],
            "text/plain": [
              "<IPython.core.display.HTML object>"
            ]
          },
          "metadata": {
            "tags": []
          }
        },
        {
          "output_type": "display_data",
          "data": {
            "text/html": [
              ""
            ],
            "text/plain": [
              "<IPython.core.display.HTML object>"
            ]
          },
          "metadata": {
            "tags": []
          }
        },
        {
          "output_type": "display_data",
          "data": {
            "text/html": [
              ""
            ],
            "text/plain": [
              "<IPython.core.display.HTML object>"
            ]
          },
          "metadata": {
            "tags": []
          }
        },
        {
          "output_type": "display_data",
          "data": {
            "text/html": [
              ""
            ],
            "text/plain": [
              "<IPython.core.display.HTML object>"
            ]
          },
          "metadata": {
            "tags": []
          }
        },
        {
          "output_type": "display_data",
          "data": {
            "text/html": [
              ""
            ],
            "text/plain": [
              "<IPython.core.display.HTML object>"
            ]
          },
          "metadata": {
            "tags": []
          }
        },
        {
          "output_type": "display_data",
          "data": {
            "text/html": [
              ""
            ],
            "text/plain": [
              "<IPython.core.display.HTML object>"
            ]
          },
          "metadata": {
            "tags": []
          }
        },
        {
          "output_type": "display_data",
          "data": {
            "text/html": [
              ""
            ],
            "text/plain": [
              "<IPython.core.display.HTML object>"
            ]
          },
          "metadata": {
            "tags": []
          }
        },
        {
          "output_type": "display_data",
          "data": {
            "text/html": [
              ""
            ],
            "text/plain": [
              "<IPython.core.display.HTML object>"
            ]
          },
          "metadata": {
            "tags": []
          }
        },
        {
          "output_type": "display_data",
          "data": {
            "text/html": [
              ""
            ],
            "text/plain": [
              "<IPython.core.display.HTML object>"
            ]
          },
          "metadata": {
            "tags": []
          }
        },
        {
          "output_type": "display_data",
          "data": {
            "text/html": [
              ""
            ],
            "text/plain": [
              "<IPython.core.display.HTML object>"
            ]
          },
          "metadata": {
            "tags": []
          }
        },
        {
          "output_type": "display_data",
          "data": {
            "text/html": [
              ""
            ],
            "text/plain": [
              "<IPython.core.display.HTML object>"
            ]
          },
          "metadata": {
            "tags": []
          }
        },
        {
          "output_type": "display_data",
          "data": {
            "text/html": [
              ""
            ],
            "text/plain": [
              "<IPython.core.display.HTML object>"
            ]
          },
          "metadata": {
            "tags": []
          }
        },
        {
          "output_type": "display_data",
          "data": {
            "text/html": [
              ""
            ],
            "text/plain": [
              "<IPython.core.display.HTML object>"
            ]
          },
          "metadata": {
            "tags": []
          }
        },
        {
          "output_type": "display_data",
          "data": {
            "text/html": [
              ""
            ],
            "text/plain": [
              "<IPython.core.display.HTML object>"
            ]
          },
          "metadata": {
            "tags": []
          }
        },
        {
          "output_type": "display_data",
          "data": {
            "text/html": [
              ""
            ],
            "text/plain": [
              "<IPython.core.display.HTML object>"
            ]
          },
          "metadata": {
            "tags": []
          }
        },
        {
          "output_type": "display_data",
          "data": {
            "text/html": [
              ""
            ],
            "text/plain": [
              "<IPython.core.display.HTML object>"
            ]
          },
          "metadata": {
            "tags": []
          }
        },
        {
          "output_type": "display_data",
          "data": {
            "text/html": [
              ""
            ],
            "text/plain": [
              "<IPython.core.display.HTML object>"
            ]
          },
          "metadata": {
            "tags": []
          }
        },
        {
          "output_type": "stream",
          "text": [
            "Number of cases where bf_savi shape is not equal to af_savi= 0\n",
            "Total runtime of the program is 3403.8798542022705\n"
          ],
          "name": "stdout"
        }
      ]
    },
    {
      "cell_type": "code",
      "metadata": {
        "colab": {
          "base_uri": "https://localhost:8080/",
          "height": 224
        },
        "id": "_RRlb3k7kzSq",
        "outputId": "5f872cb9-b676-4586-819c-2fa2149b0c97"
      },
      "source": [
        "veg_df.head()"
      ],
      "execution_count": null,
      "outputs": [
        {
          "output_type": "execute_result",
          "data": {
            "text/html": [
              "<div>\n",
              "<style scoped>\n",
              "    .dataframe tbody tr th:only-of-type {\n",
              "        vertical-align: middle;\n",
              "    }\n",
              "\n",
              "    .dataframe tbody tr th {\n",
              "        vertical-align: top;\n",
              "    }\n",
              "\n",
              "    .dataframe thead th {\n",
              "        text-align: right;\n",
              "    }\n",
              "</style>\n",
              "<table border=\"1\" class=\"dataframe\">\n",
              "  <thead>\n",
              "    <tr style=\"text-align: right;\">\n",
              "      <th></th>\n",
              "      <th>Image_ID</th>\n",
              "      <th>Total_Cropland(Ha)</th>\n",
              "      <th>Total_Pastureland(Ha)</th>\n",
              "      <th>Total_Forestland(Ha)</th>\n",
              "      <th>Low_Damage_Cropland(Ha)</th>\n",
              "      <th>Moderate_Damage_Cropland(Ha)</th>\n",
              "      <th>High_Damage_Cropland(Ha)</th>\n",
              "      <th>Low_Damage_Pastureland(Ha)</th>\n",
              "      <th>Moderate_Damage_Pastureland(Ha)</th>\n",
              "      <th>High_Damage_Pastureland(Ha)</th>\n",
              "      <th>Low_Damage_Forestland(Ha)</th>\n",
              "      <th>Moderate_Damage_Forestland(Ha)</th>\n",
              "      <th>High_Damage_Forestland(Ha)</th>\n",
              "    </tr>\n",
              "  </thead>\n",
              "  <tbody>\n",
              "    <tr>\n",
              "      <th>0</th>\n",
              "      <td>1</td>\n",
              "      <td>0.00</td>\n",
              "      <td>16.73</td>\n",
              "      <td>105.55</td>\n",
              "      <td>0.00</td>\n",
              "      <td>0.00</td>\n",
              "      <td>0.00</td>\n",
              "      <td>4.19</td>\n",
              "      <td>12.39</td>\n",
              "      <td>0.15</td>\n",
              "      <td>17.34</td>\n",
              "      <td>81.49</td>\n",
              "      <td>6.72</td>\n",
              "    </tr>\n",
              "    <tr>\n",
              "      <th>1</th>\n",
              "      <td>55</td>\n",
              "      <td>28.76</td>\n",
              "      <td>50.57</td>\n",
              "      <td>42.76</td>\n",
              "      <td>27.67</td>\n",
              "      <td>1.02</td>\n",
              "      <td>0.07</td>\n",
              "      <td>48.72</td>\n",
              "      <td>1.83</td>\n",
              "      <td>0.02</td>\n",
              "      <td>31.60</td>\n",
              "      <td>11.15</td>\n",
              "      <td>0.01</td>\n",
              "    </tr>\n",
              "    <tr>\n",
              "      <th>2</th>\n",
              "      <td>53</td>\n",
              "      <td>0.00</td>\n",
              "      <td>234.27</td>\n",
              "      <td>12.04</td>\n",
              "      <td>0.00</td>\n",
              "      <td>0.00</td>\n",
              "      <td>0.00</td>\n",
              "      <td>232.69</td>\n",
              "      <td>1.58</td>\n",
              "      <td>0.00</td>\n",
              "      <td>11.98</td>\n",
              "      <td>0.06</td>\n",
              "      <td>0.00</td>\n",
              "    </tr>\n",
              "    <tr>\n",
              "      <th>3</th>\n",
              "      <td>52</td>\n",
              "      <td>0.00</td>\n",
              "      <td>358.34</td>\n",
              "      <td>3.06</td>\n",
              "      <td>0.00</td>\n",
              "      <td>0.00</td>\n",
              "      <td>0.00</td>\n",
              "      <td>356.49</td>\n",
              "      <td>1.85</td>\n",
              "      <td>0.00</td>\n",
              "      <td>3.06</td>\n",
              "      <td>0.00</td>\n",
              "      <td>0.00</td>\n",
              "    </tr>\n",
              "    <tr>\n",
              "      <th>4</th>\n",
              "      <td>51</td>\n",
              "      <td>0.00</td>\n",
              "      <td>64.76</td>\n",
              "      <td>3.25</td>\n",
              "      <td>0.00</td>\n",
              "      <td>0.00</td>\n",
              "      <td>0.00</td>\n",
              "      <td>59.43</td>\n",
              "      <td>5.33</td>\n",
              "      <td>0.00</td>\n",
              "      <td>3.00</td>\n",
              "      <td>0.25</td>\n",
              "      <td>0.00</td>\n",
              "    </tr>\n",
              "  </tbody>\n",
              "</table>\n",
              "</div>"
            ],
            "text/plain": [
              "  Image_ID  ...  High_Damage_Forestland(Ha)\n",
              "0        1  ...                        6.72\n",
              "1       55  ...                        0.01\n",
              "2       53  ...                        0.00\n",
              "3       52  ...                        0.00\n",
              "4       51  ...                        0.00\n",
              "\n",
              "[5 rows x 13 columns]"
            ]
          },
          "metadata": {
            "tags": []
          },
          "execution_count": 16
        }
      ]
    },
    {
      "cell_type": "markdown",
      "metadata": {
        "id": "CgwL-5-ykvkM"
      },
      "source": [
        "### Identifying the Counties the Images Were Taken From."
      ]
    },
    {
      "cell_type": "code",
      "metadata": {
        "id": "M8HsdmnslSiP",
        "colab": {
          "base_uri": "https://localhost:8080/",
          "height": 459
        },
        "outputId": "734232f5-be49-4597-8745-ca9a31624fea"
      },
      "source": [
        "#loading the file with the Kenyan Adminstration boundaries\r\n",
        "file_path = '/content/drive/My Drive/Omdena Project/Data/geoboundary.geojson'\r\n",
        "#reading the json file using geopandas\r\n",
        "geoboundary = gpd.read_file(file_path)\r\n",
        "geoboundary.head()"
      ],
      "execution_count": 9,
      "outputs": [
        {
          "output_type": "execute_result",
          "data": {
            "text/html": [
              "<div>\n",
              "<style scoped>\n",
              "    .dataframe tbody tr th:only-of-type {\n",
              "        vertical-align: middle;\n",
              "    }\n",
              "\n",
              "    .dataframe tbody tr th {\n",
              "        vertical-align: top;\n",
              "    }\n",
              "\n",
              "    .dataframe thead th {\n",
              "        text-align: right;\n",
              "    }\n",
              "</style>\n",
              "<table border=\"1\" class=\"dataframe\">\n",
              "  <thead>\n",
              "    <tr style=\"text-align: right;\">\n",
              "      <th></th>\n",
              "      <th>shapeName</th>\n",
              "      <th>shapeISO</th>\n",
              "      <th>shapeID</th>\n",
              "      <th>shapeGroup</th>\n",
              "      <th>shapeType</th>\n",
              "      <th>geometry</th>\n",
              "    </tr>\n",
              "  </thead>\n",
              "  <tbody>\n",
              "    <tr>\n",
              "      <th>0</th>\n",
              "      <td>Bomet</td>\n",
              "      <td>KE-02</td>\n",
              "      <td>KEN-ADM1-3_0_0-B1</td>\n",
              "      <td>KEN</td>\n",
              "      <td>ADM1</td>\n",
              "      <td>MULTIPOLYGON (((35.58631 -0.58674, 35.58790 -0.58973, 35.58429 -0.59065, 35.56312 -0.59694, 35.55525 -0.59921, 35.50532 -0.61366, 35.49750 -0.61616, 35.49372 -0.61757, 35.43574 -0.63423, 35.42450 -0.63765, 35.40491 -0.64326, 35.39850 -0.64564, 35.39893 -0.64888, 35.40174 -0.65504, 35.40430 -0.66255, 35.40894 -0.67354, 35.40992 -0.67665, 35.41273 -0.68434, 35.42310 -0.71144, 35.42450 -0.71577, 35.42670 -0.72114, 35.43030 -0.72383, 35.43635 -0.72877, 35.44031 -0.73176, 35.44410 -0.73494, 35.46650 -0.75264, 35.46991 -0.75514, 35.47352 -0.75825, 35.47974 -0.76307, 35.48853 -0.76674, 35.49213 -...</td>\n",
              "    </tr>\n",
              "    <tr>\n",
              "      <th>1</th>\n",
              "      <td>Kisii</td>\n",
              "      <td>KE-16</td>\n",
              "      <td>KEN-ADM1-3_0_0-B2</td>\n",
              "      <td>KEN</td>\n",
              "      <td>ADM1</td>\n",
              "      <td>MULTIPOLYGON (((35.00129 -0.89357, 34.98792 -0.89686, 34.98249 -0.89796, 34.97529 -0.90034, 34.95850 -0.90376, 34.95472 -0.90468, 34.94312 -0.90846, 34.92951 -0.91127, 34.91810 -0.91395, 34.89252 -0.92055, 34.88910 -0.92158, 34.85010 -0.93117, 34.84491 -0.93385, 34.83149 -0.93586, 34.79731 -0.94453, 34.78089 -0.94917, 34.77710 -0.94966, 34.76069 -0.95466, 34.75031 -0.95643, 34.69770 -0.96925, 34.67750 -0.97346, 34.67450 -0.97304, 34.67109 -0.97285, 34.66669 -0.97316, 34.66395 -0.97255, 34.66034 -0.97108, 34.65650 -0.96895, 34.65149 -0.96693, 34.64692 -0.96748, 34.64350 -0.96907, 34.63849 -...</td>\n",
              "    </tr>\n",
              "    <tr>\n",
              "      <th>2</th>\n",
              "      <td>Narok</td>\n",
              "      <td>KE-33</td>\n",
              "      <td>KEN-ADM1-3_0_0-B3</td>\n",
              "      <td>KEN</td>\n",
              "      <td>ADM1</td>\n",
              "      <td>MULTIPOLYGON (((36.34809 -1.17494, 36.33735 -1.18696, 36.29114 -1.23665, 36.28809 -1.23866, 36.28052 -1.24824, 36.26954 -1.26027, 36.25831 -1.27223, 36.24811 -1.28364, 36.23169 -1.30104, 36.22870 -1.30385, 36.21833 -1.31514, 36.19935 -1.33485, 36.19611 -1.33845, 36.18909 -1.34553, 36.16572 -1.37056, 36.16291 -1.37324, 36.15510 -1.38136, 36.14429 -1.39296, 36.14210 -1.39503, 36.13691 -1.40046, 36.13294 -1.40498, 36.12653 -1.41157, 36.12171 -1.41585, 36.11854 -1.42018, 36.07514 -1.46577, 36.07075 -1.46876, 36.06849 -1.47285, 36.05732 -1.48445, 36.05311 -1.48915, 36.04969 -1.49238, 36.05872 -...</td>\n",
              "    </tr>\n",
              "    <tr>\n",
              "      <th>3</th>\n",
              "      <td>Homa Bay</td>\n",
              "      <td>KE-08</td>\n",
              "      <td>KEN-ADM1-3_0_0-B4</td>\n",
              "      <td>KEN</td>\n",
              "      <td>ADM1</td>\n",
              "      <td>MULTIPOLYGON (((35.02112 -0.41048, 35.02131 -0.41427, 35.01410 -0.41829, 35.00471 -0.42610, 35.00171 -0.42879, 34.99909 -0.43050, 34.98951 -0.43428, 34.98653 -0.43625, 34.97834 -0.43862, 34.97309 -0.44100, 34.96753 -0.44319, 34.95875 -0.45113, 34.94953 -0.45882, 34.94349 -0.46260, 34.94261 -0.46367, 34.94092 -0.46572, 34.93710 -0.46755, 34.93635 -0.46791, 34.93435 -0.46860, 34.92994 -0.47011, 34.92792 -0.47219, 34.91834 -0.47701, 34.91230 -0.47982, 34.90754 -0.48232, 34.90210 -0.48403, 34.88489 -0.48830, 34.88111 -0.48909, 34.87592 -0.49202, 34.86310 -0.50416, 34.85871 -0.50551, 34.85590 -...</td>\n",
              "    </tr>\n",
              "    <tr>\n",
              "      <th>4</th>\n",
              "      <td>Migori</td>\n",
              "      <td>KE-27</td>\n",
              "      <td>KEN-ADM1-3_0_0-B5</td>\n",
              "      <td>KEN</td>\n",
              "      <td>ADM1</td>\n",
              "      <td>MULTIPOLYGON (((34.73151 -1.38936, 34.70255 -1.37307, 34.69872 -1.37089, 34.67765 -1.35889, 34.65625 -1.34688, 34.63429 -1.33439, 34.63116 -1.33262, 34.61698 -1.32478, 34.60169 -1.31508, 34.57645 -1.30183, 34.54749 -1.28554, 34.51490 -1.26745, 34.48911 -1.25266, 34.47528 -1.24451, 34.46843 -1.24081, 34.45767 -1.23491, 34.44595 -1.22806, 34.42549 -1.21656, 34.38630 -1.19417, 34.27509 -1.13145, 34.21062 -1.09520, 34.12052 -1.04458, 34.11591 -1.04158, 34.10794 -1.03708, 34.09316 -1.02875, 34.09070 -1.02736, 34.08033 -1.02186, 34.04609 -1.04585, 34.04090 -1.04616, 34.03754 -1.04518, 34.03412 -...</td>\n",
              "    </tr>\n",
              "  </tbody>\n",
              "</table>\n",
              "</div>"
            ],
            "text/plain": [
              "  shapeName  ...                                                                                                                                                                                                                                                                                                                                                                                                                                                                                                                                                                                                                 geometry\n",
              "0     Bomet  ...  MULTIPOLYGON (((35.58631 -0.58674, 35.58790 -0.58973, 35.58429 -0.59065, 35.56312 -0.59694, 35.55525 -0.59921, 35.50532 -0.61366, 35.49750 -0.61616, 35.49372 -0.61757, 35.43574 -0.63423, 35.42450 -0.63765, 35.40491 -0.64326, 35.39850 -0.64564, 35.39893 -0.64888, 35.40174 -0.65504, 35.40430 -0.66255, 35.40894 -0.67354, 35.40992 -0.67665, 35.41273 -0.68434, 35.42310 -0.71144, 35.42450 -0.71577, 35.42670 -0.72114, 35.43030 -0.72383, 35.43635 -0.72877, 35.44031 -0.73176, 35.44410 -0.73494, 35.46650 -0.75264, 35.46991 -0.75514, 35.47352 -0.75825, 35.47974 -0.76307, 35.48853 -0.76674, 35.49213 -...\n",
              "1     Kisii  ...  MULTIPOLYGON (((35.00129 -0.89357, 34.98792 -0.89686, 34.98249 -0.89796, 34.97529 -0.90034, 34.95850 -0.90376, 34.95472 -0.90468, 34.94312 -0.90846, 34.92951 -0.91127, 34.91810 -0.91395, 34.89252 -0.92055, 34.88910 -0.92158, 34.85010 -0.93117, 34.84491 -0.93385, 34.83149 -0.93586, 34.79731 -0.94453, 34.78089 -0.94917, 34.77710 -0.94966, 34.76069 -0.95466, 34.75031 -0.95643, 34.69770 -0.96925, 34.67750 -0.97346, 34.67450 -0.97304, 34.67109 -0.97285, 34.66669 -0.97316, 34.66395 -0.97255, 34.66034 -0.97108, 34.65650 -0.96895, 34.65149 -0.96693, 34.64692 -0.96748, 34.64350 -0.96907, 34.63849 -...\n",
              "2     Narok  ...  MULTIPOLYGON (((36.34809 -1.17494, 36.33735 -1.18696, 36.29114 -1.23665, 36.28809 -1.23866, 36.28052 -1.24824, 36.26954 -1.26027, 36.25831 -1.27223, 36.24811 -1.28364, 36.23169 -1.30104, 36.22870 -1.30385, 36.21833 -1.31514, 36.19935 -1.33485, 36.19611 -1.33845, 36.18909 -1.34553, 36.16572 -1.37056, 36.16291 -1.37324, 36.15510 -1.38136, 36.14429 -1.39296, 36.14210 -1.39503, 36.13691 -1.40046, 36.13294 -1.40498, 36.12653 -1.41157, 36.12171 -1.41585, 36.11854 -1.42018, 36.07514 -1.46577, 36.07075 -1.46876, 36.06849 -1.47285, 36.05732 -1.48445, 36.05311 -1.48915, 36.04969 -1.49238, 36.05872 -...\n",
              "3  Homa Bay  ...  MULTIPOLYGON (((35.02112 -0.41048, 35.02131 -0.41427, 35.01410 -0.41829, 35.00471 -0.42610, 35.00171 -0.42879, 34.99909 -0.43050, 34.98951 -0.43428, 34.98653 -0.43625, 34.97834 -0.43862, 34.97309 -0.44100, 34.96753 -0.44319, 34.95875 -0.45113, 34.94953 -0.45882, 34.94349 -0.46260, 34.94261 -0.46367, 34.94092 -0.46572, 34.93710 -0.46755, 34.93635 -0.46791, 34.93435 -0.46860, 34.92994 -0.47011, 34.92792 -0.47219, 34.91834 -0.47701, 34.91230 -0.47982, 34.90754 -0.48232, 34.90210 -0.48403, 34.88489 -0.48830, 34.88111 -0.48909, 34.87592 -0.49202, 34.86310 -0.50416, 34.85871 -0.50551, 34.85590 -...\n",
              "4    Migori  ...  MULTIPOLYGON (((34.73151 -1.38936, 34.70255 -1.37307, 34.69872 -1.37089, 34.67765 -1.35889, 34.65625 -1.34688, 34.63429 -1.33439, 34.63116 -1.33262, 34.61698 -1.32478, 34.60169 -1.31508, 34.57645 -1.30183, 34.54749 -1.28554, 34.51490 -1.26745, 34.48911 -1.25266, 34.47528 -1.24451, 34.46843 -1.24081, 34.45767 -1.23491, 34.44595 -1.22806, 34.42549 -1.21656, 34.38630 -1.19417, 34.27509 -1.13145, 34.21062 -1.09520, 34.12052 -1.04458, 34.11591 -1.04158, 34.10794 -1.03708, 34.09316 -1.02875, 34.09070 -1.02736, 34.08033 -1.02186, 34.04609 -1.04585, 34.04090 -1.04616, 34.03754 -1.04518, 34.03412 -...\n",
              "\n",
              "[5 rows x 6 columns]"
            ]
          },
          "metadata": {
            "tags": []
          },
          "execution_count": 9
        }
      ]
    },
    {
      "cell_type": "code",
      "metadata": {
        "colab": {
          "base_uri": "https://localhost:8080/"
        },
        "id": "dBUROCCgWcL7",
        "outputId": "02bc7997-036f-4f1b-8504-4ff058deffcb"
      },
      "source": [
        "#how many counties are in the dataset?\r\n",
        "geoboundary.shapeName.nunique()"
      ],
      "execution_count": null,
      "outputs": [
        {
          "output_type": "execute_result",
          "data": {
            "text/plain": [
              "47"
            ]
          },
          "metadata": {
            "tags": []
          },
          "execution_count": 18
        }
      ]
    },
    {
      "cell_type": "code",
      "metadata": {
        "colab": {
          "base_uri": "https://localhost:8080/"
        },
        "id": "eIJjnQJ3XKsB",
        "outputId": "798c757e-bfdd-477a-fa01-274e980abaa1"
      },
      "source": [
        "geoboundary.shapeName.unique()"
      ],
      "execution_count": null,
      "outputs": [
        {
          "output_type": "execute_result",
          "data": {
            "text/plain": [
              "array(['Bomet', 'Kisii', 'Narok', 'Homa Bay', 'Migori', 'Nakuru',\n",
              "       'Kajiado', 'Kericho', 'Kisumu', 'Nyamira', 'Siaya', 'Busia',\n",
              "       'Vihiga', 'Machakos', 'Makueni', 'Nairobi', 'Baringo', 'Bungoma',\n",
              "       'Elegeyo-Marakwet', 'Embu', 'Garissa', 'Isiolo', 'Kakamega',\n",
              "       'Kiambu', 'Kilifi', 'Kirinyaga', 'Kitui', 'Kwale', 'Laikipia',\n",
              "       'Lamu', 'Mandera', 'Marsabit', 'Meru', 'Mombasa', 'Nandi',\n",
              "       'Nyandarua', 'Nyeri', 'Samburu', 'Taita Taveta', 'Tana River',\n",
              "       'Tharaka-Nithi', 'Trans Nzoia', 'Turkana', 'Uasin Gishu', 'Wajir',\n",
              "       'West Pokot', 'Murang`a'], dtype=object)"
            ]
          },
          "metadata": {
            "tags": []
          },
          "execution_count": 19
        }
      ]
    },
    {
      "cell_type": "code",
      "metadata": {
        "id": "PjxTeb--aCn_"
      },
      "source": [
        "#saving the county names into a list\r\n",
        "counties = geoboundary.shapeName.unique().tolist()\r\n",
        "\r\n",
        "# saving the ploygons into a list too\r\n",
        "polygons = geoboundary.geometry.tolist()\r\n",
        "\r\n",
        "#combining the two list into a dictinary\r\n",
        "county_poly = dict(zip(counties,polygons))"
      ],
      "execution_count": 10,
      "outputs": []
    },
    {
      "cell_type": "code",
      "metadata": {
        "colab": {
          "base_uri": "https://localhost:8080/"
        },
        "id": "7KXjixg6cJCs",
        "outputId": "624fdf25-e595-4e06-d6aa-483437e3ebb4"
      },
      "source": [
        "#testing it out to identify a point in Mandera, from the Locust Hub dataset\r\n",
        "P1 = Point(40.91667, 2.80000)\r\n",
        "for county,poly in county_poly.items():\r\n",
        "  #print(county)\r\n",
        "  if P1.within(poly):\r\n",
        "    print(county)"
      ],
      "execution_count": null,
      "outputs": [
        {
          "output_type": "stream",
          "text": [
            "Mandera\n"
          ],
          "name": "stdout"
        }
      ]
    },
    {
      "cell_type": "markdown",
      "metadata": {
        "id": "v2Tt9Z1Tf2GE"
      },
      "source": [
        "*The logic seems to work perfectly, the next step is to classify the images accroding to their respective counties.*"
      ]
    },
    {
      "cell_type": "code",
      "metadata": {
        "id": "Rs6s0WaJ68bj"
      },
      "source": [
        "#getting the raster bounds\r\n",
        "image = rio.open(folder['1'][0])"
      ],
      "execution_count": 25,
      "outputs": []
    },
    {
      "cell_type": "code",
      "metadata": {
        "colab": {
          "base_uri": "https://localhost:8080/"
        },
        "id": "nRGGqlTQdCLM",
        "outputId": "04cff4e4-3998-4a75-c475-460cd1bb0d9d"
      },
      "source": [
        "# testing it out with the rasters\r\n",
        "image.bounds"
      ],
      "execution_count": 26,
      "outputs": [
        {
          "output_type": "execute_result",
          "data": {
            "text/plain": [
              "BoundingBox(left=36.42012706947252, bottom=1.0200370051177166, right=36.440249331836796, top=1.040159267481994)"
            ]
          },
          "metadata": {
            "tags": []
          },
          "execution_count": 26
        }
      ]
    },
    {
      "cell_type": "code",
      "metadata": {
        "id": "2QsYPlgPgMcx"
      },
      "source": [
        "#getting the centre coordinate\r\n",
        "X = image.bounds[0] + (image.bounds[2] - image.bounds[0])/2\r\n",
        "\r\n",
        "Y = image.bounds[1] + (image.bounds[3] - image.bounds[1])/2"
      ],
      "execution_count": 27,
      "outputs": []
    },
    {
      "cell_type": "code",
      "metadata": {
        "colab": {
          "base_uri": "https://localhost:8080/"
        },
        "id": "UfWsWhrfhSzI",
        "outputId": "d96a24b9-017c-48f5-c427-4babdfdfd2e6"
      },
      "source": [
        "X,Y"
      ],
      "execution_count": 28,
      "outputs": [
        {
          "output_type": "execute_result",
          "data": {
            "text/plain": [
              "(36.430188200654655, 1.0300981362998551)"
            ]
          },
          "metadata": {
            "tags": []
          },
          "execution_count": 28
        }
      ]
    },
    {
      "cell_type": "code",
      "metadata": {
        "colab": {
          "base_uri": "https://localhost:8080/"
        },
        "id": "6mtryTFQhT5v",
        "outputId": "e53f435f-4e93-4729-dc71-90683d64358a"
      },
      "source": [
        "P2 = Point(X,Y)\r\n",
        "for county,poly in county_poly.items():\r\n",
        "  #print(county)\r\n",
        "  if P2.within(poly):\r\n",
        "    print(county)"
      ],
      "execution_count": 29,
      "outputs": [
        {
          "output_type": "stream",
          "text": [
            "Turkana\n"
          ],
          "name": "stdout"
        }
      ]
    },
    {
      "cell_type": "markdown",
      "metadata": {
        "id": "sHllDOkLhltF"
      },
      "source": [
        "*The logic also performs well on the rasters, the next stage is to go ahead and classify the rest of the images.*"
      ]
    },
    {
      "cell_type": "code",
      "metadata": {
        "id": "gnWbmgaNhgyP"
      },
      "source": [
        "#Creating a dataframe for storing the ndvi values\r\n",
        "location_df = pd.DataFrame(columns = [\"Image_ID\",\"Latitude\",\"Longitude\",\"County\"])\r\n",
        "\r\n",
        "#iterating through all the images in the folder\r\n",
        "for key in folder:\r\n",
        "  #loading image from tif file using rasterio\r\n",
        "  bf = rio.open(folder[key][0])\r\n",
        "\r\n",
        "  #getting the centre coordinate\r\n",
        "  X = bf.bounds[0] + (bf.bounds[2] - bf.bounds[0])/2 # X Coordinate or Longitude\r\n",
        "  Y = bf.bounds[1] + (bf.bounds[3] - bf.bounds[1])/2 # Y Coordinate  or Latitude\r\n",
        "\r\n",
        "  #the coordinates for the centre of the Area of Interest\r\n",
        "  P = Point(X,Y)\r\n",
        "  for county,poly in county_poly.items():\r\n",
        "    #print(county)\r\n",
        "    if P.within(poly):\r\n",
        "      #Saving the data into the dataframe\r\n",
        "      location_df = location_df.append({'Image_ID':key,'Latitude':Y,'Longitude':X,'County':county},ignore_index = True)\r\n",
        "\r\n",
        "    else:\r\n",
        "      pass\r\n",
        "      #print('dnfj')\r\n",
        "  "
      ],
      "execution_count": 32,
      "outputs": []
    },
    {
      "cell_type": "code",
      "metadata": {
        "colab": {
          "base_uri": "https://localhost:8080/",
          "height": 204
        },
        "id": "wTqFMFg3IBYN",
        "outputId": "4670e90e-e88e-4c6b-df7a-4bb2e684632a"
      },
      "source": [
        "#image location dataframe\r\n",
        "location_df.head()"
      ],
      "execution_count": 33,
      "outputs": [
        {
          "output_type": "execute_result",
          "data": {
            "text/html": [
              "<div>\n",
              "<style scoped>\n",
              "    .dataframe tbody tr th:only-of-type {\n",
              "        vertical-align: middle;\n",
              "    }\n",
              "\n",
              "    .dataframe tbody tr th {\n",
              "        vertical-align: top;\n",
              "    }\n",
              "\n",
              "    .dataframe thead th {\n",
              "        text-align: right;\n",
              "    }\n",
              "</style>\n",
              "<table border=\"1\" class=\"dataframe\">\n",
              "  <thead>\n",
              "    <tr style=\"text-align: right;\">\n",
              "      <th></th>\n",
              "      <th>Image_ID</th>\n",
              "      <th>Latitude</th>\n",
              "      <th>Longitude</th>\n",
              "      <th>County</th>\n",
              "    </tr>\n",
              "  </thead>\n",
              "  <tbody>\n",
              "    <tr>\n",
              "      <th>0</th>\n",
              "      <td>1</td>\n",
              "      <td>1.030098</td>\n",
              "      <td>36.430188</td>\n",
              "      <td>Turkana</td>\n",
              "    </tr>\n",
              "    <tr>\n",
              "      <th>1</th>\n",
              "      <td>55</td>\n",
              "      <td>3.121466</td>\n",
              "      <td>35.619638</td>\n",
              "      <td>Turkana</td>\n",
              "    </tr>\n",
              "    <tr>\n",
              "      <th>2</th>\n",
              "      <td>53</td>\n",
              "      <td>2.204825</td>\n",
              "      <td>35.801637</td>\n",
              "      <td>Turkana</td>\n",
              "    </tr>\n",
              "    <tr>\n",
              "      <th>3</th>\n",
              "      <td>52</td>\n",
              "      <td>2.191171</td>\n",
              "      <td>35.795259</td>\n",
              "      <td>Turkana</td>\n",
              "    </tr>\n",
              "    <tr>\n",
              "      <th>4</th>\n",
              "      <td>51</td>\n",
              "      <td>3.011512</td>\n",
              "      <td>35.887696</td>\n",
              "      <td>Turkana</td>\n",
              "    </tr>\n",
              "  </tbody>\n",
              "</table>\n",
              "</div>"
            ],
            "text/plain": [
              "  Image_ID  Latitude  Longitude   County\n",
              "0        1  1.030098  36.430188  Turkana\n",
              "1       55  3.121466  35.619638  Turkana\n",
              "2       53  2.204825  35.801637  Turkana\n",
              "3       52  2.191171  35.795259  Turkana\n",
              "4       51  3.011512  35.887696  Turkana"
            ]
          },
          "metadata": {
            "tags": []
          },
          "execution_count": 33
        }
      ]
    },
    {
      "cell_type": "code",
      "metadata": {
        "colab": {
          "base_uri": "https://localhost:8080/",
          "height": 224
        },
        "id": "KVwKeIFtHj6T",
        "outputId": "4e272911-93d1-48a7-f1d7-d77e67a8e1da"
      },
      "source": [
        "#merging the two data frames for NDVI difference and location\r\n",
        "veg_loc_df = pd.merge(location_df,veg_df,on = 'Image_ID')\r\n",
        "veg_loc_df.head()"
      ],
      "execution_count": null,
      "outputs": [
        {
          "output_type": "execute_result",
          "data": {
            "text/html": [
              "<div>\n",
              "<style scoped>\n",
              "    .dataframe tbody tr th:only-of-type {\n",
              "        vertical-align: middle;\n",
              "    }\n",
              "\n",
              "    .dataframe tbody tr th {\n",
              "        vertical-align: top;\n",
              "    }\n",
              "\n",
              "    .dataframe thead th {\n",
              "        text-align: right;\n",
              "    }\n",
              "</style>\n",
              "<table border=\"1\" class=\"dataframe\">\n",
              "  <thead>\n",
              "    <tr style=\"text-align: right;\">\n",
              "      <th></th>\n",
              "      <th>Image_ID</th>\n",
              "      <th>County</th>\n",
              "      <th>Total_Cropland(Ha)</th>\n",
              "      <th>Total_Pastureland(Ha)</th>\n",
              "      <th>Total_Forestland(Ha)</th>\n",
              "      <th>Low_Damage_Cropland(Ha)</th>\n",
              "      <th>Moderate_Damage_Cropland(Ha)</th>\n",
              "      <th>High_Damage_Cropland(Ha)</th>\n",
              "      <th>Low_Damage_Pastureland(Ha)</th>\n",
              "      <th>Moderate_Damage_Pastureland(Ha)</th>\n",
              "      <th>High_Damage_Pastureland(Ha)</th>\n",
              "      <th>Low_Damage_Forestland(Ha)</th>\n",
              "      <th>Moderate_Damage_Forestland(Ha)</th>\n",
              "      <th>High_Damage_Forestland(Ha)</th>\n",
              "    </tr>\n",
              "  </thead>\n",
              "  <tbody>\n",
              "    <tr>\n",
              "      <th>0</th>\n",
              "      <td>1</td>\n",
              "      <td>Turkana</td>\n",
              "      <td>0.00</td>\n",
              "      <td>16.73</td>\n",
              "      <td>105.55</td>\n",
              "      <td>0.00</td>\n",
              "      <td>0.00</td>\n",
              "      <td>0.00</td>\n",
              "      <td>4.19</td>\n",
              "      <td>12.39</td>\n",
              "      <td>0.15</td>\n",
              "      <td>17.34</td>\n",
              "      <td>81.49</td>\n",
              "      <td>6.72</td>\n",
              "    </tr>\n",
              "    <tr>\n",
              "      <th>1</th>\n",
              "      <td>55</td>\n",
              "      <td>Turkana</td>\n",
              "      <td>28.76</td>\n",
              "      <td>50.57</td>\n",
              "      <td>42.76</td>\n",
              "      <td>27.67</td>\n",
              "      <td>1.02</td>\n",
              "      <td>0.07</td>\n",
              "      <td>48.72</td>\n",
              "      <td>1.83</td>\n",
              "      <td>0.02</td>\n",
              "      <td>31.60</td>\n",
              "      <td>11.15</td>\n",
              "      <td>0.01</td>\n",
              "    </tr>\n",
              "    <tr>\n",
              "      <th>2</th>\n",
              "      <td>53</td>\n",
              "      <td>Turkana</td>\n",
              "      <td>0.00</td>\n",
              "      <td>234.27</td>\n",
              "      <td>12.04</td>\n",
              "      <td>0.00</td>\n",
              "      <td>0.00</td>\n",
              "      <td>0.00</td>\n",
              "      <td>232.69</td>\n",
              "      <td>1.58</td>\n",
              "      <td>0.00</td>\n",
              "      <td>11.98</td>\n",
              "      <td>0.06</td>\n",
              "      <td>0.00</td>\n",
              "    </tr>\n",
              "    <tr>\n",
              "      <th>3</th>\n",
              "      <td>52</td>\n",
              "      <td>Turkana</td>\n",
              "      <td>0.00</td>\n",
              "      <td>358.34</td>\n",
              "      <td>3.06</td>\n",
              "      <td>0.00</td>\n",
              "      <td>0.00</td>\n",
              "      <td>0.00</td>\n",
              "      <td>356.49</td>\n",
              "      <td>1.85</td>\n",
              "      <td>0.00</td>\n",
              "      <td>3.06</td>\n",
              "      <td>0.00</td>\n",
              "      <td>0.00</td>\n",
              "    </tr>\n",
              "    <tr>\n",
              "      <th>4</th>\n",
              "      <td>51</td>\n",
              "      <td>Turkana</td>\n",
              "      <td>0.00</td>\n",
              "      <td>64.76</td>\n",
              "      <td>3.25</td>\n",
              "      <td>0.00</td>\n",
              "      <td>0.00</td>\n",
              "      <td>0.00</td>\n",
              "      <td>59.43</td>\n",
              "      <td>5.33</td>\n",
              "      <td>0.00</td>\n",
              "      <td>3.00</td>\n",
              "      <td>0.25</td>\n",
              "      <td>0.00</td>\n",
              "    </tr>\n",
              "  </tbody>\n",
              "</table>\n",
              "</div>"
            ],
            "text/plain": [
              "  Image_ID   County  ...  Moderate_Damage_Forestland(Ha)  High_Damage_Forestland(Ha)\n",
              "0        1  Turkana  ...                           81.49                        6.72\n",
              "1       55  Turkana  ...                           11.15                        0.01\n",
              "2       53  Turkana  ...                            0.06                        0.00\n",
              "3       52  Turkana  ...                            0.00                        0.00\n",
              "4       51  Turkana  ...                            0.25                        0.00\n",
              "\n",
              "[5 rows x 14 columns]"
            ]
          },
          "metadata": {
            "tags": []
          },
          "execution_count": 26
        }
      ]
    },
    {
      "cell_type": "code",
      "metadata": {
        "id": "za90tZHVoVf2"
      },
      "source": [
        "#saving the dataframe into csv file\r\n",
        "veg_loc_df.to_csv('/content/drive/My Drive/Omdena Project/Data/damage_assessment_SAVI.csv',index = False)"
      ],
      "execution_count": null,
      "outputs": []
    },
    {
      "cell_type": "markdown",
      "metadata": {
        "id": "Nu2RGo4EOiCd"
      },
      "source": [
        "### Exploratory Data Analysis (Damage Assessement_SAVI.csv data)"
      ]
    },
    {
      "cell_type": "code",
      "metadata": {
        "id": "Slm7p_Qj9aGS",
        "outputId": "b74c769c-8a9f-413c-8690-260291a04556",
        "colab": {
          "base_uri": "https://localhost:8080/",
          "height": 224
        }
      },
      "source": [
        "#loading the csv file - The File can can be found on the Data Folder from Github Repository\r\n",
        "df = pd.read_csv('/content/drive/My Drive/Omdena Project/Data/damage_assessment_SAVI.csv')\r\n",
        "df.head()"
      ],
      "execution_count": 52,
      "outputs": [
        {
          "output_type": "execute_result",
          "data": {
            "text/html": [
              "<div>\n",
              "<style scoped>\n",
              "    .dataframe tbody tr th:only-of-type {\n",
              "        vertical-align: middle;\n",
              "    }\n",
              "\n",
              "    .dataframe tbody tr th {\n",
              "        vertical-align: top;\n",
              "    }\n",
              "\n",
              "    .dataframe thead th {\n",
              "        text-align: right;\n",
              "    }\n",
              "</style>\n",
              "<table border=\"1\" class=\"dataframe\">\n",
              "  <thead>\n",
              "    <tr style=\"text-align: right;\">\n",
              "      <th></th>\n",
              "      <th>Image_ID</th>\n",
              "      <th>Latitude</th>\n",
              "      <th>Longitude</th>\n",
              "      <th>County</th>\n",
              "      <th>Total_Cropland(Ha)</th>\n",
              "      <th>Total_Pastureland(Ha)</th>\n",
              "      <th>Total_Forestland(Ha)</th>\n",
              "      <th>Low_Damage_Cropland(Ha)</th>\n",
              "      <th>Moderate_Damage_Cropland(Ha)</th>\n",
              "      <th>High_Damage_Cropland(Ha)</th>\n",
              "      <th>Low_Damage_Pastureland(Ha)</th>\n",
              "      <th>Moderate_Damage_Pastureland(Ha)</th>\n",
              "      <th>High_Damage_Pastureland(Ha)</th>\n",
              "      <th>Low_Damage_Forestland(Ha)</th>\n",
              "      <th>Moderate_Damage_Forestland(Ha)</th>\n",
              "      <th>High_Damage_Forestland(Ha)</th>\n",
              "    </tr>\n",
              "  </thead>\n",
              "  <tbody>\n",
              "    <tr>\n",
              "      <th>0</th>\n",
              "      <td>1</td>\n",
              "      <td>1.030098</td>\n",
              "      <td>36.430188</td>\n",
              "      <td>Turkana</td>\n",
              "      <td>0.00</td>\n",
              "      <td>16.73</td>\n",
              "      <td>105.55</td>\n",
              "      <td>0.00</td>\n",
              "      <td>0.00</td>\n",
              "      <td>0.00</td>\n",
              "      <td>4.19</td>\n",
              "      <td>12.39</td>\n",
              "      <td>0.15</td>\n",
              "      <td>17.34</td>\n",
              "      <td>81.49</td>\n",
              "      <td>6.72</td>\n",
              "    </tr>\n",
              "    <tr>\n",
              "      <th>1</th>\n",
              "      <td>55</td>\n",
              "      <td>3.121466</td>\n",
              "      <td>35.619638</td>\n",
              "      <td>Turkana</td>\n",
              "      <td>28.76</td>\n",
              "      <td>50.57</td>\n",
              "      <td>42.76</td>\n",
              "      <td>27.67</td>\n",
              "      <td>1.02</td>\n",
              "      <td>0.07</td>\n",
              "      <td>48.72</td>\n",
              "      <td>1.83</td>\n",
              "      <td>0.02</td>\n",
              "      <td>31.60</td>\n",
              "      <td>11.15</td>\n",
              "      <td>0.01</td>\n",
              "    </tr>\n",
              "    <tr>\n",
              "      <th>2</th>\n",
              "      <td>53</td>\n",
              "      <td>2.204825</td>\n",
              "      <td>35.801637</td>\n",
              "      <td>Turkana</td>\n",
              "      <td>0.00</td>\n",
              "      <td>234.27</td>\n",
              "      <td>12.04</td>\n",
              "      <td>0.00</td>\n",
              "      <td>0.00</td>\n",
              "      <td>0.00</td>\n",
              "      <td>232.69</td>\n",
              "      <td>1.58</td>\n",
              "      <td>0.00</td>\n",
              "      <td>11.98</td>\n",
              "      <td>0.06</td>\n",
              "      <td>0.00</td>\n",
              "    </tr>\n",
              "    <tr>\n",
              "      <th>3</th>\n",
              "      <td>52</td>\n",
              "      <td>2.191171</td>\n",
              "      <td>35.795259</td>\n",
              "      <td>Turkana</td>\n",
              "      <td>0.00</td>\n",
              "      <td>358.34</td>\n",
              "      <td>3.06</td>\n",
              "      <td>0.00</td>\n",
              "      <td>0.00</td>\n",
              "      <td>0.00</td>\n",
              "      <td>356.49</td>\n",
              "      <td>1.85</td>\n",
              "      <td>0.00</td>\n",
              "      <td>3.06</td>\n",
              "      <td>0.00</td>\n",
              "      <td>0.00</td>\n",
              "    </tr>\n",
              "    <tr>\n",
              "      <th>4</th>\n",
              "      <td>51</td>\n",
              "      <td>3.011512</td>\n",
              "      <td>35.887696</td>\n",
              "      <td>Turkana</td>\n",
              "      <td>0.00</td>\n",
              "      <td>64.76</td>\n",
              "      <td>3.25</td>\n",
              "      <td>0.00</td>\n",
              "      <td>0.00</td>\n",
              "      <td>0.00</td>\n",
              "      <td>59.43</td>\n",
              "      <td>5.33</td>\n",
              "      <td>0.00</td>\n",
              "      <td>3.00</td>\n",
              "      <td>0.25</td>\n",
              "      <td>0.00</td>\n",
              "    </tr>\n",
              "  </tbody>\n",
              "</table>\n",
              "</div>"
            ],
            "text/plain": [
              "   Image_ID  ...  High_Damage_Forestland(Ha)\n",
              "0         1  ...                        6.72\n",
              "1        55  ...                        0.01\n",
              "2        53  ...                        0.00\n",
              "3        52  ...                        0.00\n",
              "4        51  ...                        0.00\n",
              "\n",
              "[5 rows x 16 columns]"
            ]
          },
          "metadata": {
            "tags": []
          },
          "execution_count": 52
        }
      ]
    },
    {
      "cell_type": "code",
      "metadata": {
        "colab": {
          "base_uri": "https://localhost:8080/"
        },
        "id": "OLXFR0_1Q-_j",
        "outputId": "7b9fc0f6-a56a-4650-8906-c4ecaf3d6bec"
      },
      "source": [
        "df.columns[2:]"
      ],
      "execution_count": null,
      "outputs": [
        {
          "output_type": "execute_result",
          "data": {
            "text/plain": [
              "Index(['Total_Cropland(Ha)', 'Total_Pastureland(Ha)', 'Total_Forestland(Ha)',\n",
              "       'Low_Damage_Cropland(Ha)', 'Moderate_Damage_Cropland(Ha)',\n",
              "       'High_Damage_Cropland(Ha)', 'Low_Damage_Pastureland(Ha)',\n",
              "       'Moderate_Damage_Pastureland(Ha)', 'High_Damage_Pastureland(Ha)',\n",
              "       'Low_Damage_Forestland(Ha)', 'Moderate_Damage_Forestland(Ha)',\n",
              "       'High_Damage_Forestland(Ha)'],\n",
              "      dtype='object')"
            ]
          },
          "metadata": {
            "tags": []
          },
          "execution_count": 34
        }
      ]
    },
    {
      "cell_type": "code",
      "metadata": {
        "colab": {
          "base_uri": "https://localhost:8080/",
          "height": 255
        },
        "id": "BQ_DSI7aOhBl",
        "outputId": "dd8c38f6-fa86-4d0a-835f-32333687b1cb"
      },
      "source": [
        "#grouping the data by county\r\n",
        "county_df = pd.DataFrame(df.groupby('County')[df.columns[3:]].sum())\r\n",
        "county_df.head()"
      ],
      "execution_count": 53,
      "outputs": [
        {
          "output_type": "execute_result",
          "data": {
            "text/html": [
              "<div>\n",
              "<style scoped>\n",
              "    .dataframe tbody tr th:only-of-type {\n",
              "        vertical-align: middle;\n",
              "    }\n",
              "\n",
              "    .dataframe tbody tr th {\n",
              "        vertical-align: top;\n",
              "    }\n",
              "\n",
              "    .dataframe thead th {\n",
              "        text-align: right;\n",
              "    }\n",
              "</style>\n",
              "<table border=\"1\" class=\"dataframe\">\n",
              "  <thead>\n",
              "    <tr style=\"text-align: right;\">\n",
              "      <th></th>\n",
              "      <th>Total_Cropland(Ha)</th>\n",
              "      <th>Total_Pastureland(Ha)</th>\n",
              "      <th>Total_Forestland(Ha)</th>\n",
              "      <th>Low_Damage_Cropland(Ha)</th>\n",
              "      <th>Moderate_Damage_Cropland(Ha)</th>\n",
              "      <th>High_Damage_Cropland(Ha)</th>\n",
              "      <th>Low_Damage_Pastureland(Ha)</th>\n",
              "      <th>Moderate_Damage_Pastureland(Ha)</th>\n",
              "      <th>High_Damage_Pastureland(Ha)</th>\n",
              "      <th>Low_Damage_Forestland(Ha)</th>\n",
              "      <th>Moderate_Damage_Forestland(Ha)</th>\n",
              "      <th>High_Damage_Forestland(Ha)</th>\n",
              "    </tr>\n",
              "    <tr>\n",
              "      <th>County</th>\n",
              "      <th></th>\n",
              "      <th></th>\n",
              "      <th></th>\n",
              "      <th></th>\n",
              "      <th></th>\n",
              "      <th></th>\n",
              "      <th></th>\n",
              "      <th></th>\n",
              "      <th></th>\n",
              "      <th></th>\n",
              "      <th></th>\n",
              "      <th></th>\n",
              "    </tr>\n",
              "  </thead>\n",
              "  <tbody>\n",
              "    <tr>\n",
              "      <th>Baringo</th>\n",
              "      <td>79.15</td>\n",
              "      <td>217.99</td>\n",
              "      <td>543.34</td>\n",
              "      <td>68.28</td>\n",
              "      <td>9.93</td>\n",
              "      <td>0.94</td>\n",
              "      <td>188.44</td>\n",
              "      <td>25.31</td>\n",
              "      <td>4.24</td>\n",
              "      <td>450.63</td>\n",
              "      <td>73.68</td>\n",
              "      <td>19.03</td>\n",
              "    </tr>\n",
              "    <tr>\n",
              "      <th>Garissa</th>\n",
              "      <td>5.59</td>\n",
              "      <td>20.87</td>\n",
              "      <td>1.82</td>\n",
              "      <td>3.55</td>\n",
              "      <td>1.56</td>\n",
              "      <td>0.48</td>\n",
              "      <td>20.37</td>\n",
              "      <td>0.47</td>\n",
              "      <td>0.03</td>\n",
              "      <td>1.79</td>\n",
              "      <td>0.03</td>\n",
              "      <td>0.00</td>\n",
              "    </tr>\n",
              "    <tr>\n",
              "      <th>Isiolo</th>\n",
              "      <td>12.10</td>\n",
              "      <td>4171.40</td>\n",
              "      <td>1627.14</td>\n",
              "      <td>10.34</td>\n",
              "      <td>1.74</td>\n",
              "      <td>0.02</td>\n",
              "      <td>3669.34</td>\n",
              "      <td>498.33</td>\n",
              "      <td>3.73</td>\n",
              "      <td>1299.51</td>\n",
              "      <td>323.02</td>\n",
              "      <td>4.61</td>\n",
              "    </tr>\n",
              "    <tr>\n",
              "      <th>Kericho</th>\n",
              "      <td>144.33</td>\n",
              "      <td>0.01</td>\n",
              "      <td>0.28</td>\n",
              "      <td>87.07</td>\n",
              "      <td>50.64</td>\n",
              "      <td>6.62</td>\n",
              "      <td>0.01</td>\n",
              "      <td>0.00</td>\n",
              "      <td>0.00</td>\n",
              "      <td>0.26</td>\n",
              "      <td>0.02</td>\n",
              "      <td>0.00</td>\n",
              "    </tr>\n",
              "    <tr>\n",
              "      <th>Kirinyaga</th>\n",
              "      <td>3.73</td>\n",
              "      <td>23.27</td>\n",
              "      <td>278.95</td>\n",
              "      <td>2.80</td>\n",
              "      <td>0.25</td>\n",
              "      <td>0.68</td>\n",
              "      <td>16.63</td>\n",
              "      <td>1.84</td>\n",
              "      <td>4.80</td>\n",
              "      <td>149.53</td>\n",
              "      <td>60.58</td>\n",
              "      <td>68.84</td>\n",
              "    </tr>\n",
              "  </tbody>\n",
              "</table>\n",
              "</div>"
            ],
            "text/plain": [
              "           Total_Cropland(Ha)  ...  High_Damage_Forestland(Ha)\n",
              "County                         ...                            \n",
              "Baringo                 79.15  ...                       19.03\n",
              "Garissa                  5.59  ...                        0.00\n",
              "Isiolo                  12.10  ...                        4.61\n",
              "Kericho                144.33  ...                        0.00\n",
              "Kirinyaga                3.73  ...                       68.84\n",
              "\n",
              "[5 rows x 12 columns]"
            ]
          },
          "metadata": {
            "tags": []
          },
          "execution_count": 53
        }
      ]
    },
    {
      "cell_type": "code",
      "metadata": {
        "colab": {
          "base_uri": "https://localhost:8080/",
          "height": 255
        },
        "id": "jGRMJ719Og6h",
        "outputId": "5c184213-74a3-49ad-a036-14ced62dcbc7"
      },
      "source": [
        "#calculating the total vegetation damage per county\r\n",
        "county_df['Total_Damage(Ha)'] = county_df['Total_Cropland(Ha)'] + county_df['Total_Pastureland(Ha)'] + county_df['High_Damage_Cropland(Ha)'] + county_df['Total_Forestland(Ha)']\r\n",
        "county_df.head()"
      ],
      "execution_count": null,
      "outputs": [
        {
          "output_type": "execute_result",
          "data": {
            "text/html": [
              "<div>\n",
              "<style scoped>\n",
              "    .dataframe tbody tr th:only-of-type {\n",
              "        vertical-align: middle;\n",
              "    }\n",
              "\n",
              "    .dataframe tbody tr th {\n",
              "        vertical-align: top;\n",
              "    }\n",
              "\n",
              "    .dataframe thead th {\n",
              "        text-align: right;\n",
              "    }\n",
              "</style>\n",
              "<table border=\"1\" class=\"dataframe\">\n",
              "  <thead>\n",
              "    <tr style=\"text-align: right;\">\n",
              "      <th></th>\n",
              "      <th>Total_Cropland(Ha)</th>\n",
              "      <th>Total_Pastureland(Ha)</th>\n",
              "      <th>Total_Forestland(Ha)</th>\n",
              "      <th>Low_Damage_Cropland(Ha)</th>\n",
              "      <th>Moderate_Damage_Cropland(Ha)</th>\n",
              "      <th>High_Damage_Cropland(Ha)</th>\n",
              "      <th>Low_Damage_Pastureland(Ha)</th>\n",
              "      <th>Moderate_Damage_Pastureland(Ha)</th>\n",
              "      <th>High_Damage_Pastureland(Ha)</th>\n",
              "      <th>Low_Damage_Forestland(Ha)</th>\n",
              "      <th>Moderate_Damage_Forestland(Ha)</th>\n",
              "      <th>High_Damage_Forestland(Ha)</th>\n",
              "      <th>Total_Damage(Ha)</th>\n",
              "    </tr>\n",
              "    <tr>\n",
              "      <th>County</th>\n",
              "      <th></th>\n",
              "      <th></th>\n",
              "      <th></th>\n",
              "      <th></th>\n",
              "      <th></th>\n",
              "      <th></th>\n",
              "      <th></th>\n",
              "      <th></th>\n",
              "      <th></th>\n",
              "      <th></th>\n",
              "      <th></th>\n",
              "      <th></th>\n",
              "      <th></th>\n",
              "    </tr>\n",
              "  </thead>\n",
              "  <tbody>\n",
              "    <tr>\n",
              "      <th>Baringo</th>\n",
              "      <td>79.15</td>\n",
              "      <td>217.99</td>\n",
              "      <td>543.34</td>\n",
              "      <td>68.28</td>\n",
              "      <td>9.93</td>\n",
              "      <td>0.94</td>\n",
              "      <td>188.44</td>\n",
              "      <td>25.31</td>\n",
              "      <td>4.24</td>\n",
              "      <td>450.63</td>\n",
              "      <td>73.68</td>\n",
              "      <td>19.03</td>\n",
              "      <td>841.42</td>\n",
              "    </tr>\n",
              "    <tr>\n",
              "      <th>Garissa</th>\n",
              "      <td>5.59</td>\n",
              "      <td>20.87</td>\n",
              "      <td>1.82</td>\n",
              "      <td>3.55</td>\n",
              "      <td>1.56</td>\n",
              "      <td>0.48</td>\n",
              "      <td>20.37</td>\n",
              "      <td>0.47</td>\n",
              "      <td>0.03</td>\n",
              "      <td>1.79</td>\n",
              "      <td>0.03</td>\n",
              "      <td>0.00</td>\n",
              "      <td>28.76</td>\n",
              "    </tr>\n",
              "    <tr>\n",
              "      <th>Isiolo</th>\n",
              "      <td>12.10</td>\n",
              "      <td>4239.57</td>\n",
              "      <td>1662.76</td>\n",
              "      <td>10.34</td>\n",
              "      <td>1.74</td>\n",
              "      <td>0.02</td>\n",
              "      <td>3736.11</td>\n",
              "      <td>499.73</td>\n",
              "      <td>3.73</td>\n",
              "      <td>1332.43</td>\n",
              "      <td>325.72</td>\n",
              "      <td>4.61</td>\n",
              "      <td>5914.45</td>\n",
              "    </tr>\n",
              "    <tr>\n",
              "      <th>Kericho</th>\n",
              "      <td>144.33</td>\n",
              "      <td>0.01</td>\n",
              "      <td>0.28</td>\n",
              "      <td>87.07</td>\n",
              "      <td>50.64</td>\n",
              "      <td>6.62</td>\n",
              "      <td>0.01</td>\n",
              "      <td>0.00</td>\n",
              "      <td>0.00</td>\n",
              "      <td>0.26</td>\n",
              "      <td>0.02</td>\n",
              "      <td>0.00</td>\n",
              "      <td>151.24</td>\n",
              "    </tr>\n",
              "    <tr>\n",
              "      <th>Kirinyaga</th>\n",
              "      <td>3.73</td>\n",
              "      <td>23.27</td>\n",
              "      <td>278.95</td>\n",
              "      <td>2.80</td>\n",
              "      <td>0.25</td>\n",
              "      <td>0.68</td>\n",
              "      <td>16.63</td>\n",
              "      <td>1.84</td>\n",
              "      <td>4.80</td>\n",
              "      <td>149.53</td>\n",
              "      <td>60.58</td>\n",
              "      <td>68.84</td>\n",
              "      <td>306.63</td>\n",
              "    </tr>\n",
              "  </tbody>\n",
              "</table>\n",
              "</div>"
            ],
            "text/plain": [
              "           Total_Cropland(Ha)  ...  Total_Damage(Ha)\n",
              "County                         ...                  \n",
              "Baringo                 79.15  ...            841.42\n",
              "Garissa                  5.59  ...             28.76\n",
              "Isiolo                  12.10  ...           5914.45\n",
              "Kericho                144.33  ...            151.24\n",
              "Kirinyaga                3.73  ...            306.63\n",
              "\n",
              "[5 rows x 13 columns]"
            ]
          },
          "metadata": {
            "tags": []
          },
          "execution_count": 30
        }
      ]
    },
    {
      "cell_type": "code",
      "metadata": {
        "colab": {
          "base_uri": "https://localhost:8080/",
          "height": 255
        },
        "id": "-zyza0gLULnj",
        "outputId": "483a92bb-a39a-41ac-ec8a-d9253c311cd7"
      },
      "source": [
        "# sorting the dataframe by total damage\r\n",
        "county_df = county_df.sort_values('Total_Damage(Ha)', ascending = False)\r\n",
        "county_df.head()"
      ],
      "execution_count": null,
      "outputs": [
        {
          "output_type": "execute_result",
          "data": {
            "text/html": [
              "<div>\n",
              "<style scoped>\n",
              "    .dataframe tbody tr th:only-of-type {\n",
              "        vertical-align: middle;\n",
              "    }\n",
              "\n",
              "    .dataframe tbody tr th {\n",
              "        vertical-align: top;\n",
              "    }\n",
              "\n",
              "    .dataframe thead th {\n",
              "        text-align: right;\n",
              "    }\n",
              "</style>\n",
              "<table border=\"1\" class=\"dataframe\">\n",
              "  <thead>\n",
              "    <tr style=\"text-align: right;\">\n",
              "      <th></th>\n",
              "      <th>Total_Cropland(Ha)</th>\n",
              "      <th>Total_Pastureland(Ha)</th>\n",
              "      <th>Total_Forestland(Ha)</th>\n",
              "      <th>Low_Damage_Cropland(Ha)</th>\n",
              "      <th>Moderate_Damage_Cropland(Ha)</th>\n",
              "      <th>High_Damage_Cropland(Ha)</th>\n",
              "      <th>Low_Damage_Pastureland(Ha)</th>\n",
              "      <th>Moderate_Damage_Pastureland(Ha)</th>\n",
              "      <th>High_Damage_Pastureland(Ha)</th>\n",
              "      <th>Low_Damage_Forestland(Ha)</th>\n",
              "      <th>Moderate_Damage_Forestland(Ha)</th>\n",
              "      <th>High_Damage_Forestland(Ha)</th>\n",
              "      <th>Total_Damage(Ha)</th>\n",
              "    </tr>\n",
              "    <tr>\n",
              "      <th>County</th>\n",
              "      <th></th>\n",
              "      <th></th>\n",
              "      <th></th>\n",
              "      <th></th>\n",
              "      <th></th>\n",
              "      <th></th>\n",
              "      <th></th>\n",
              "      <th></th>\n",
              "      <th></th>\n",
              "      <th></th>\n",
              "      <th></th>\n",
              "      <th></th>\n",
              "      <th></th>\n",
              "    </tr>\n",
              "  </thead>\n",
              "  <tbody>\n",
              "    <tr>\n",
              "      <th>Turkana</th>\n",
              "      <td>1335.81</td>\n",
              "      <td>19885.68</td>\n",
              "      <td>1309.84</td>\n",
              "      <td>1227.87</td>\n",
              "      <td>76.40</td>\n",
              "      <td>31.54</td>\n",
              "      <td>18582.54</td>\n",
              "      <td>1293.19</td>\n",
              "      <td>9.95</td>\n",
              "      <td>999.16</td>\n",
              "      <td>299.61</td>\n",
              "      <td>11.07</td>\n",
              "      <td>22562.87</td>\n",
              "    </tr>\n",
              "    <tr>\n",
              "      <th>Marsabit</th>\n",
              "      <td>132.08</td>\n",
              "      <td>12535.41</td>\n",
              "      <td>1662.58</td>\n",
              "      <td>119.81</td>\n",
              "      <td>11.92</td>\n",
              "      <td>0.35</td>\n",
              "      <td>9838.76</td>\n",
              "      <td>2555.62</td>\n",
              "      <td>141.03</td>\n",
              "      <td>1207.72</td>\n",
              "      <td>403.15</td>\n",
              "      <td>51.71</td>\n",
              "      <td>14330.42</td>\n",
              "    </tr>\n",
              "    <tr>\n",
              "      <th>Samburu</th>\n",
              "      <td>73.15</td>\n",
              "      <td>6748.18</td>\n",
              "      <td>2287.07</td>\n",
              "      <td>70.99</td>\n",
              "      <td>1.84</td>\n",
              "      <td>0.32</td>\n",
              "      <td>6248.54</td>\n",
              "      <td>485.19</td>\n",
              "      <td>14.45</td>\n",
              "      <td>1563.23</td>\n",
              "      <td>709.31</td>\n",
              "      <td>14.53</td>\n",
              "      <td>9108.72</td>\n",
              "    </tr>\n",
              "    <tr>\n",
              "      <th>Isiolo</th>\n",
              "      <td>12.10</td>\n",
              "      <td>4239.57</td>\n",
              "      <td>1662.76</td>\n",
              "      <td>10.34</td>\n",
              "      <td>1.74</td>\n",
              "      <td>0.02</td>\n",
              "      <td>3736.11</td>\n",
              "      <td>499.73</td>\n",
              "      <td>3.73</td>\n",
              "      <td>1332.43</td>\n",
              "      <td>325.72</td>\n",
              "      <td>4.61</td>\n",
              "      <td>5914.45</td>\n",
              "    </tr>\n",
              "    <tr>\n",
              "      <th>Laikipia</th>\n",
              "      <td>2426.12</td>\n",
              "      <td>1226.73</td>\n",
              "      <td>634.91</td>\n",
              "      <td>790.34</td>\n",
              "      <td>1210.79</td>\n",
              "      <td>424.99</td>\n",
              "      <td>469.33</td>\n",
              "      <td>719.17</td>\n",
              "      <td>38.23</td>\n",
              "      <td>172.65</td>\n",
              "      <td>416.04</td>\n",
              "      <td>46.22</td>\n",
              "      <td>4712.75</td>\n",
              "    </tr>\n",
              "  </tbody>\n",
              "</table>\n",
              "</div>"
            ],
            "text/plain": [
              "          Total_Cropland(Ha)  ...  Total_Damage(Ha)\n",
              "County                        ...                  \n",
              "Turkana              1335.81  ...          22562.87\n",
              "Marsabit              132.08  ...          14330.42\n",
              "Samburu                73.15  ...           9108.72\n",
              "Isiolo                 12.10  ...           5914.45\n",
              "Laikipia             2426.12  ...           4712.75\n",
              "\n",
              "[5 rows x 13 columns]"
            ]
          },
          "metadata": {
            "tags": []
          },
          "execution_count": 31
        }
      ]
    },
    {
      "cell_type": "code",
      "metadata": {
        "colab": {
          "base_uri": "https://localhost:8080/"
        },
        "id": "pwIf04E8g1O5",
        "outputId": "1fec24ca-a061-4903-c33a-1debe76c1f01"
      },
      "source": [
        "county_df.dtypes"
      ],
      "execution_count": null,
      "outputs": [
        {
          "output_type": "execute_result",
          "data": {
            "text/plain": [
              "Total_Cropland(Ha)                 float64\n",
              "Total_Pastureland(Ha)              float64\n",
              "Total_Forestland(Ha)               float64\n",
              "Low_Damage_Cropland(Ha)            float64\n",
              "Moderate_Damage_Cropland(Ha)       float64\n",
              "High_Damage_Cropland(Ha)           float64\n",
              "Low_Damage_Pastureland(Ha)         float64\n",
              "Moderate_Damage_Pastureland(Ha)    float64\n",
              "High_Damage_Pastureland(Ha)        float64\n",
              "Low_Damage_Forestland(Ha)          float64\n",
              "Moderate_Damage_Forestland(Ha)     float64\n",
              "High_Damage_Forestland(Ha)         float64\n",
              "Total_Damage(Ha)                   float64\n",
              "dtype: object"
            ]
          },
          "metadata": {
            "tags": []
          },
          "execution_count": 32
        }
      ]
    },
    {
      "cell_type": "markdown",
      "metadata": {
        "id": "U6OESOyBWvgR"
      },
      "source": [
        "**Distribution of vegetation loss in the counties categorized by vegatation class**"
      ]
    },
    {
      "cell_type": "code",
      "metadata": {
        "colab": {
          "base_uri": "https://localhost:8080/",
          "height": 470
        },
        "id": "iKRNTLQOeUBh",
        "outputId": "d741f018-6f14-49a4-adcc-c203f03fe5a5"
      },
      "source": [
        "#color map for the vegetation classes\r\n",
        "labels = {0:'Cropland', 1:'Pastureland', 2:'Forestland'}\r\n",
        "colors = {0:'orange', 1:'springgreen',2:'forestgreen'}\r\n",
        "patches = [ mpatches.Patch(color=colors[i], label=f'{labels[i]}') for i in range(len(labels)) ]\r\n",
        "\r\n",
        "# sorting the dataframe by total damage\r\n",
        "county_df = county_df.sort_values('Total_Damage(Ha)', ascending = True)\r\n",
        "\r\n",
        "# creating a stacked bar plot visualization\r\n",
        "fig,ax = plt.subplots(figsize = (12,6))\r\n",
        "ax.barh(y= county_df.index,width =  county_df['Total_Cropland(Ha)'].values,height = 0.8, color = 'orange')\r\n",
        "ax.barh(y = county_df.index, width = county_df['Total_Pastureland(Ha)'],height = 0.8, left =county_df['Total_Cropland(Ha)'].values,color = 'springgreen')\r\n",
        "ax.barh(y = county_df.index, width = county_df['Total_Forestland(Ha)'].values,height = 0.8, left =county_df['Total_Pastureland(Ha)'].values,color = 'forestgreen')\r\n",
        "\r\n",
        "ax.set_xticks(np.arange(0,22000,2000))\r\n",
        "ax.set_yticks(np.arange(len(county_df.index)))\r\n",
        "\r\n",
        "#labelling the figure\r\n",
        "plt.title('Total Area(Hectares) where NDVI reduction was observed categorized by vegetation class ')\r\n",
        "plt.xlabel(' Area in Hectares')\r\n",
        "plt.ylabel('County')\r\n",
        "#ax.xaxis.grid()\r\n",
        "\r\n",
        "#creating a legend\r\n",
        "plt.legend(handles=patches, bbox_to_anchor=(0.4, -0.15), loc=2, borderaxespad=0. )\r\n",
        "\r\n",
        "#plt.savefig('/content/drive/My Drive/Omdena Project/Visualizations_Damage_Assessment/Vegetation_class_dist.png', dpi=200, bbox_inches='tight', pad_inches=0.7)\r\n",
        "plt.show();"
      ],
      "execution_count": null,
      "outputs": [
        {
          "output_type": "display_data",
          "data": {
            "image/png": "[encoded data removed]",
            "text/plain": [
              "<Figure size 864x432 with 1 Axes>"
            ]
          },
          "metadata": {
            "tags": [],
            "needs_background": "light"
          }
        }
      ]
    },
    {
      "cell_type": "markdown",
      "metadata": {
        "id": "9LHZJPL2pxl8"
      },
      "source": [
        "**Which Vegetation Class was affected the most?**"
      ]
    },
    {
      "cell_type": "code",
      "metadata": {
        "colab": {
          "base_uri": "https://localhost:8080/"
        },
        "id": "EXgnxJQr4e3n",
        "outputId": "9f60f239-abb6-434a-861e-ab344cac6465"
      },
      "source": [
        "county_df['Total_Cropland(Ha)'].sum(),county_df['Total_Pastureland(Ha)'].sum(),county_df['Total_Forestland(Ha)'].sum()"
      ],
      "execution_count": null,
      "outputs": [
        {
          "output_type": "execute_result",
          "data": {
            "text/plain": [
              "(4899.76, 45546.01999999999, 9148.839999999998)"
            ]
          },
          "metadata": {
            "tags": []
          },
          "execution_count": 40
        }
      ]
    },
    {
      "cell_type": "code",
      "metadata": {
        "colab": {
          "base_uri": "https://localhost:8080/"
        },
        "id": "xKMKOy-S4hh9",
        "outputId": "2e82ae17-3293-4ccf-9a42-98641e41aded"
      },
      "source": [
        "county_df['Total_Cropland(Ha)'].sum()+ county_df['Total_Pastureland(Ha)'].sum()+county_df['Total_Forestland(Ha)'].sum()"
      ],
      "execution_count": null,
      "outputs": [
        {
          "output_type": "execute_result",
          "data": {
            "text/plain": [
              "59594.61999999999"
            ]
          },
          "metadata": {
            "tags": []
          },
          "execution_count": 41
        }
      ]
    },
    {
      "cell_type": "code",
      "metadata": {
        "colab": {
          "base_uri": "https://localhost:8080/",
          "height": 266
        },
        "id": "eO3bAn07pw6P",
        "outputId": "b36143b9-8c59-4900-ef50-5746a88ad181"
      },
      "source": [
        "#labels\r\n",
        "labels = ['Cropland','Pastureland','Forestland']\r\n",
        "#the summation for all affected areas \r\n",
        "total_area = [county_df['Total_Cropland(Ha)'].sum(),county_df['Total_Pastureland(Ha)'].sum(),county_df['Total_Forestland(Ha)'].sum()]\r\n",
        "explode = (0, 0.1, 0)  # only \"explode\" the 2nd slice \r\n",
        "#plotting the piechart\r\n",
        "fig1, ax1 = plt.subplots()\r\n",
        "ax1.pie(total_area, explode=explode, labels=labels, autopct='%1.1f%%',\r\n",
        "        shadow=False,colors= ['orange','springgreen','forestgreen'], startangle=90)\r\n",
        "ax1.axis('equal')  # Equal aspect ratio ensures that pie is drawn as a circle.\r\n",
        "\r\n",
        "plt.title('Distribution of SAVI Reduction Across Vegetation Classes')\r\n",
        "\r\n",
        "#plt.savefig('/content/drive/My Drive/Omdena Project/Visualizations_Damage_Assessment/pie_chart.png', dpi=200, bbox_inches='tight', pad_inches=0.7)\r\n",
        "plt.show();"
      ],
      "execution_count": null,
      "outputs": [
        {
          "output_type": "display_data",
          "data": {
            "image/png": "[encoded data removed]",
            "text/plain": [
              "<Figure size 432x288 with 1 Axes>"
            ]
          },
          "metadata": {
            "tags": []
          }
        }
      ]
    },
    {
      "cell_type": "markdown",
      "metadata": {
        "id": "RIppJmZ9pjZ-"
      },
      "source": [
        "**Assessing the Degree of Damage for Cropland**"
      ]
    },
    {
      "cell_type": "code",
      "metadata": {
        "colab": {
          "base_uri": "https://localhost:8080/",
          "height": 470
        },
        "id": "hJVCBlOzTLPK",
        "outputId": "f32d14b1-0eee-49ef-85f3-6f52d189f14d"
      },
      "source": [
        "#color map for the degree of damage\r\n",
        "labels = {0:'Low Damage', 1:'Moderate Damage', 2:'High Damage'}\r\n",
        "colors = {0:'lightcoral', 1:'brown',2:'red'}\r\n",
        "patches = [ mpatches.Patch(color=colors[i], label=f'{labels[i]}') for i in range(len(labels)) ]\r\n",
        "\r\n",
        "# sorting the dataframe by total damage\r\n",
        "county_df = county_df.sort_values('Total_Cropland(Ha)', ascending = True)\r\n",
        "\r\n",
        "# creating a stacked bar plot visualization\r\n",
        "fig = plt.figure(figsize = (12,6))\r\n",
        "plt.barh(county_df.index, county_df['Low_Damage_Cropland(Ha)'],height = 0.8, color = 'lightcoral')\r\n",
        "plt.barh(county_df.index, county_df['Moderate_Damage_Cropland(Ha)'],height = 0.8, left =county_df['Low_Damage_Cropland(Ha)'],color = 'brown')\r\n",
        "plt.barh(county_df.index, county_df['High_Damage_Cropland(Ha)'],height = 0.8, left =county_df['Moderate_Damage_Cropland(Ha)'],color = 'red')\r\n",
        "\r\n",
        "#labelling the figure\r\n",
        "plt.title('Total Area(Hectares) where SAVI reduction in Cropland was observed categorized by Degree of Damage ')\r\n",
        "plt.xlabel(' Area in Hectares')\r\n",
        "plt.ylabel('County')\r\n",
        "\r\n",
        "#creating a legend\r\n",
        "plt.legend(handles=patches, bbox_to_anchor=(0.4, -0.15), loc=2, borderaxespad=0. )\r\n",
        "\r\n",
        "#plt.savefig('/content/drive/My Drive/Omdena Project/Visualizations_Damage_Assessment/crop_damage.png', dpi=200, bbox_inches='tight', pad_inches=0.7)\r\n",
        "plt.show();"
      ],
      "execution_count": null,
      "outputs": [
        {
          "output_type": "display_data",
          "data": {
            "image/png": "[encoded data removed]",
            "text/plain": [
              "<Figure size 864x432 with 1 Axes>"
            ]
          },
          "metadata": {
            "tags": [],
            "needs_background": "light"
          }
        }
      ]
    },
    {
      "cell_type": "code",
      "metadata": {
        "colab": {
          "base_uri": "https://localhost:8080/"
        },
        "id": "eXWnLPzpkn34",
        "outputId": "e4e40288-d573-4a5e-f31a-29f0f254fba9"
      },
      "source": [
        " Total_Degree_Crop = [county_df['Low_Damage_Cropland(Ha)'].sum(), county_df['Moderate_Damage_Cropland(Ha)'].sum(), county_df['High_Damage_Cropland(Ha)'].sum()]\r\n",
        " Total_Degree_Crop"
      ],
      "execution_count": null,
      "outputs": [
        {
          "output_type": "execute_result",
          "data": {
            "text/plain": [
              "[2843.34, 1530.3500000000001, 526.07]"
            ]
          },
          "metadata": {
            "tags": []
          },
          "execution_count": 68
        }
      ]
    },
    {
      "cell_type": "code",
      "metadata": {
        "colab": {
          "base_uri": "https://localhost:8080/",
          "height": 345
        },
        "id": "MEC-enUJkn34",
        "outputId": "666114b0-9339-4305-8dca-71bde9d94753"
      },
      "source": [
        "#labels\r\n",
        "labels = ['Low Damage','Moderate Damage','High Damage']\r\n",
        "\r\n",
        "explode = (0.1, 0, 0)  # only \"explode\" the 2nd slice \r\n",
        "#plotting the piechart\r\n",
        "fig1, ax1 = plt.subplots()\r\n",
        "ax1.pie(Total_Degree_Crop, explode=explode, labels=labels, autopct='%1.1f%%',\r\n",
        "        shadow=False,colors= ['lightcoral','brown','red'], startangle=90)\r\n",
        "ax1.axis('equal')  # Equal aspect ratio ensures that pie is drawn as a circle.\r\n",
        "\r\n",
        "plt.title('Distribution of Degree of Damage on Cropland using SAVI')\r\n",
        "\r\n",
        "plt.legend(handles=patches, bbox_to_anchor=(0.4, -0.15), loc=2, borderaxespad=0. )\r\n",
        "\r\n",
        "#plt.savefig('/content/drive/My Drive/Omdena Project/Visualizations_Damage_Assessment/degree_damage_pie_chart.png', dpi=200, bbox_inches='tight', pad_inches=0.7)\r\n",
        "plt.show();"
      ],
      "execution_count": null,
      "outputs": [
        {
          "output_type": "display_data",
          "data": {
            "image/png": "[encoded data removed]",
            "text/plain": [
              "<Figure size 432x288 with 1 Axes>"
            ]
          },
          "metadata": {
            "tags": []
          }
        }
      ]
    },
    {
      "cell_type": "markdown",
      "metadata": {
        "id": "UoD7dCQysw2T"
      },
      "source": [
        "**Assessing the Degree of Damage for Pastureland**"
      ]
    },
    {
      "cell_type": "code",
      "metadata": {
        "colab": {
          "base_uri": "https://localhost:8080/",
          "height": 470
        },
        "id": "uMynl-MDgHIr",
        "outputId": "53f1ebfa-b3cb-4c2f-c1e4-a6679ef6ce52"
      },
      "source": [
        "#color map for the degree of damage\r\n",
        "labels = {0:'Low Damage', 1:'Moderate Damage', 2:'High Damage'}\r\n",
        "colors = {0:'lightcoral', 1:'brown',2:'red'}\r\n",
        "patches = [ mpatches.Patch(color=colors[i], label=f'{labels[i]}') for i in range(len(labels)) ]\r\n",
        "\r\n",
        "# sorting the dataframe by total damage\r\n",
        "county_df = county_df.sort_values('Total_Pastureland(Ha)', ascending = True)\r\n",
        "\r\n",
        "# creating a stacked bar plot visualization\r\n",
        "fig = plt.figure(figsize = (12,6))\r\n",
        "plt.barh(county_df.index, county_df['Low_Damage_Pastureland(Ha)'],height = 0.8, color = 'lightcoral')\r\n",
        "plt.barh(county_df.index, county_df['Moderate_Damage_Pastureland(Ha)'],height = 0.8, left =county_df['Low_Damage_Pastureland(Ha)'],color = 'brown')\r\n",
        "plt.barh(county_df.index, county_df['High_Damage_Pastureland(Ha)'],height = 0.8, left =county_df['Moderate_Damage_Pastureland(Ha)'],color = 'red')\r\n",
        "\r\n",
        "#labelling the figure\r\n",
        "plt.title('Total Area(Hectares) where NDVI reduction in Pastureland was observed categorized by Degree of Damage ')\r\n",
        "plt.xlabel(' Area in Hectares')\r\n",
        "plt.ylabel('County')\r\n",
        "\r\n",
        "#creating a legend\r\n",
        "plt.legend(handles=patches, bbox_to_anchor=(0.4, -0.15), loc=2, borderaxespad=0. )\r\n",
        "\r\n",
        "#plt.savefig('/content/drive/My Drive/Omdena Project/Visualizations_Damage_Assessment/Pastureland_Damage.png', dpi=200, bbox_inches='tight', pad_inches=0.7)\r\n",
        "plt.show();"
      ],
      "execution_count": null,
      "outputs": [
        {
          "output_type": "display_data",
          "data": {
            "image/png": "[encoded data removed]",
            "text/plain": [
              "<Figure size 864x432 with 1 Axes>"
            ]
          },
          "metadata": {
            "tags": [],
            "needs_background": "light"
          }
        }
      ]
    },
    {
      "cell_type": "code",
      "metadata": {
        "colab": {
          "base_uri": "https://localhost:8080/"
        },
        "id": "RLUuZu68hZmQ",
        "outputId": "47fedf9f-a465-4ad5-c078-82f1a540b96c"
      },
      "source": [
        " Total_Degree_Pasture = [county_df['Low_Damage_Pastureland(Ha)'].sum(), county_df['Moderate_Damage_Pastureland(Ha)'].sum(), county_df['High_Damage_Pastureland(Ha)'].sum()]\r\n",
        " Total_Degree_Pasture"
      ],
      "execution_count": null,
      "outputs": [
        {
          "output_type": "execute_result",
          "data": {
            "text/plain": [
              "[39675.01000000002, 5651.98, 219.03]"
            ]
          },
          "metadata": {
            "tags": []
          },
          "execution_count": 65
        }
      ]
    },
    {
      "cell_type": "code",
      "metadata": {
        "colab": {
          "base_uri": "https://localhost:8080/",
          "height": 345
        },
        "id": "sGtldID-hZmX",
        "outputId": "f0b2df5b-6123-4d73-a423-99d1b5627c0a"
      },
      "source": [
        "#labels\r\n",
        "labels = ['Low Damage','Moderate Damage','High Damage']\r\n",
        "\r\n",
        "explode = (0.1, 0, 0)  # only \"explode\" the 2nd slice \r\n",
        "#plotting the piechart\r\n",
        "fig1, ax1 = plt.subplots()\r\n",
        "ax1.pie(Total_Degree_Pasture, explode=explode, labels=labels, autopct='%1.1f%%',\r\n",
        "        shadow=False,labeldistance = None,colors= ['lightcoral','brown','red'], startangle=90)\r\n",
        "ax1.axis('equal')  # Equal aspect ratio ensures that pie is drawn as a circle.\r\n",
        "\r\n",
        "plt.title('Distribution of Degree of Damage on Pastureland using SAVI')\r\n",
        "\r\n",
        "plt.legend(handles=patches, bbox_to_anchor=(0.4, -0.15), loc=2, borderaxespad=0. )\r\n",
        "\r\n",
        "#plt.savefig('/content/drive/My Drive/Omdena Project/Visualizations_Damage_Assessment/degree_damage_pie_chart.png', dpi=200, bbox_inches='tight', pad_inches=0.7)\r\n",
        "plt.show();"
      ],
      "execution_count": null,
      "outputs": [
        {
          "output_type": "display_data",
          "data": {
            "image/png": "[encoded data removed]",
            "text/plain": [
              "<Figure size 432x288 with 1 Axes>"
            ]
          },
          "metadata": {
            "tags": []
          }
        }
      ]
    },
    {
      "cell_type": "markdown",
      "metadata": {
        "id": "WioyL49Js4nH"
      },
      "source": [
        "**Assessing the Degree of Damage for Forestland**"
      ]
    },
    {
      "cell_type": "code",
      "metadata": {
        "colab": {
          "base_uri": "https://localhost:8080/",
          "height": 470
        },
        "id": "RsSfPj_ZgGpf",
        "outputId": "755eda8a-480a-4086-bd87-4a8ef9474d9f"
      },
      "source": [
        "\r\n",
        "# sorting the dataframe by total damage\r\n",
        "county_df = county_df.sort_values('Total_Forestland(Ha)', ascending = True)\r\n",
        "\r\n",
        "# creating a stacked bar plot visualization\r\n",
        "fig = plt.figure(figsize = (12,6))\r\n",
        "plt.barh(county_df.index, county_df['Low_Damage_Forestland(Ha)'],height = 0.8, color = 'lightcoral')\r\n",
        "plt.barh(county_df.index, county_df['Moderate_Damage_Forestland(Ha)'],height = 0.8, left =county_df['Low_Damage_Forestland(Ha)'],color = 'brown')\r\n",
        "plt.barh(county_df.index, county_df['High_Damage_Forestland(Ha)'],height = 0.8, left =county_df['Moderate_Damage_Forestland(Ha)'],color = 'red')\r\n",
        "\r\n",
        "#labelling the figure\r\n",
        "plt.title('Total Area(Hectares) where NDVI reduction in Forestland was observed categorized by Degree of Damage ')\r\n",
        "plt.xlabel(' Area in Hectares')\r\n",
        "plt.ylabel('County')\r\n",
        "\r\n",
        "#creating a legend\r\n",
        "plt.legend(handles=patches, bbox_to_anchor=(0.4, -0.15), loc=2, borderaxespad=0. )\r\n",
        "\r\n",
        "plt.savefig('/content/drive/My Drive/Omdena Project/Visualizations_Damage_Assessment/Forestland_Damage.png', dpi=200, bbox_inches='tight', pad_inches=0.7)\r\n",
        "plt.show();"
      ],
      "execution_count": null,
      "outputs": [
        {
          "output_type": "display_data",
          "data": {
            "image/png": "[encoded data removed]",
            "text/plain": [
              "<Figure size 864x432 with 1 Axes>"
            ]
          },
          "metadata": {
            "tags": [],
            "needs_background": "light"
          }
        }
      ]
    },
    {
      "cell_type": "code",
      "metadata": {
        "colab": {
          "base_uri": "https://localhost:8080/"
        },
        "id": "3H4XSyUngZr8",
        "outputId": "af44b59f-d04a-437e-d6c9-f7a5eb1bdd00"
      },
      "source": [
        " Total_Degree_Forest = [county_df['Low_Damage_Forestland(Ha)'].sum(), county_df['Moderate_Damage_Forestland(Ha)'].sum(), county_df['High_Damage_Forestland(Ha)'].sum()]\r\n",
        " Total_Degree_Forest"
      ],
      "execution_count": null,
      "outputs": [
        {
          "output_type": "execute_result",
          "data": {
            "text/plain": [
              "[6471.859999999999, 2459.74, 217.24]"
            ]
          },
          "metadata": {
            "tags": []
          },
          "execution_count": 62
        }
      ]
    },
    {
      "cell_type": "code",
      "metadata": {
        "colab": {
          "base_uri": "https://localhost:8080/",
          "height": 345
        },
        "id": "5aqioBspg6HD",
        "outputId": "af724b39-875b-413b-bc89-cc21bc790f08"
      },
      "source": [
        "#labels\r\n",
        "labels = ['Low Damage','Moderate Damage','High Damage']\r\n",
        "\r\n",
        "explode = (0.1, 0, 0)  # only \"explode\" the 2nd slice \r\n",
        "#plotting the piechart\r\n",
        "fig1, ax1 = plt.subplots()\r\n",
        "ax1.pie(Total_Degree_Forest, explode=explode, labels=labels, autopct='%1.1f%%',\r\n",
        "        shadow=False,labeldistance = None,colors= ['lightcoral','brown','red'], startangle=90)\r\n",
        "ax1.axis('equal')  # Equal aspect ratio ensures that pie is drawn as a circle.\r\n",
        "\r\n",
        "plt.title('Distribution of Degree of Damage on Forestland using SAVI')\r\n",
        "#creating a legend\r\n",
        "\r\n",
        "plt.legend(handles=patches, bbox_to_anchor=(0.4, -0.15), loc=2, borderaxespad=0. )\r\n",
        "\r\n",
        "#plt.savefig('/content/drive/My Drive/Omdena Project/Visualizations_Damage_Assessment/degree_damage_pie_chart.png', dpi=200, bbox_inches='tight', pad_inches=0.7)\r\n",
        "plt.show();"
      ],
      "execution_count": null,
      "outputs": [
        {
          "output_type": "display_data",
          "data": {
            "image/png": "[encoded data removed]",
            "text/plain": [
              "<Figure size 432x288 with 1 Axes>"
            ]
          },
          "metadata": {
            "tags": []
          }
        }
      ]
    },
    {
      "cell_type": "markdown",
      "metadata": {
        "id": "pKpmA8Dss-qS"
      },
      "source": [
        "**Assessing the Degree of Damage for all vegetation Classes**"
      ]
    },
    {
      "cell_type": "code",
      "metadata": {
        "colab": {
          "base_uri": "https://localhost:8080/"
        },
        "id": "fq-_3i8HrWGR",
        "outputId": "fdf15a1a-7a66-4e83-8112-b59a5e153efe"
      },
      "source": [
        "#Getting the total damage per on vegetation\r\n",
        "Total_Low_Damage = county_df['Low_Damage_Cropland(Ha)'].sum() + county_df['Low_Damage_Pastureland(Ha)'].sum() + county_df['Low_Damage_Forestland(Ha)'].sum()\r\n",
        "Total_Moderate_Damage = county_df['Moderate_Damage_Cropland(Ha)'].sum() + county_df['Moderate_Damage_Pastureland(Ha)'].sum() + county_df['Moderate_Damage_Forestland(Ha)'].sum()\r\n",
        "Total_High_Damage = county_df['High_Damage_Cropland(Ha)'].sum() + county_df['High_Damage_Pastureland(Ha)'].sum() + county_df['High_Damage_Forestland(Ha)'].sum()\r\n",
        "Total_Degree = [Total_Low_Damage,Total_Moderate_Damage,Total_High_Damage]\r\n",
        "Total_Degree"
      ],
      "execution_count": null,
      "outputs": [
        {
          "output_type": "execute_result",
          "data": {
            "text/plain": [
              "[48990.21000000002, 9642.07, 962.34]"
            ]
          },
          "metadata": {
            "tags": []
          },
          "execution_count": 46
        }
      ]
    },
    {
      "cell_type": "code",
      "metadata": {
        "colab": {
          "base_uri": "https://localhost:8080/",
          "height": 345
        },
        "id": "Q94zm5nDtDyf",
        "outputId": "1a86a359-13b9-425a-ee4f-e7ef8c4befb2"
      },
      "source": [
        "#labels\r\n",
        "labels = ['Low Damage','Moderate Damage','High Damage']\r\n",
        "\r\n",
        "explode = (0.1, 0, 0)  # only \"explode\" the 2nd slice \r\n",
        "#plotting the piechart\r\n",
        "fig1, ax1 = plt.subplots()\r\n",
        "ax1.pie(Total_Degree, explode=explode, labels=labels, autopct='%1.1f%%',\r\n",
        "        shadow=False,labeldistance = 1.05,colors= ['lightcoral','brown','red'], startangle=90)\r\n",
        "ax1.axis('equal')  # Equal aspect ratio ensures that pie is drawn as a circle.\r\n",
        "\r\n",
        "plt.title('Distribution of Degree of Damage using SAVI across all Vegetation Classes')\r\n",
        "\r\n",
        "#creating a legend\r\n",
        "plt.legend(handles=patches, bbox_to_anchor=(0.4, -0.15), loc=2, borderaxespad=0. )\r\n",
        "\r\n",
        "#plt.savefig('/content/drive/My Drive/Omdena Project/Visualizations_Damage_Assessment/degree_damage_pie_chart.png', dpi=200, bbox_inches='tight', pad_inches=0.7)\r\n",
        "plt.show();"
      ],
      "execution_count": null,
      "outputs": [
        {
          "output_type": "display_data",
          "data": {
            "image/png": "[encoded data removed]",
            "text/plain": [
              "<Figure size 432x288 with 1 Axes>"
            ]
          },
          "metadata": {
            "tags": []
          }
        }
      ]
    },
    {
      "cell_type": "markdown",
      "metadata": {
        "id": "IkK5fdLL1lnv"
      },
      "source": [
        "### **Assumptions/Caveat**\r\n",
        "1. The analysis did not consider the harvesting cycles and the effect it had on the SAVI difference.\r\n",
        "2. The before and after images were taken with a maximum time differene of 15 days apart. Therefore, the assumption is that the time difference is too short for seasonal changes in vegetation to affect the vegetation indices.\r\n",
        "3. In some pixels, increase in vegetation indices were observed in the after images.\r\n"
      ]
    },
    {
      "cell_type": "markdown",
      "metadata": {
        "id": "xTPVuAKxzpmY"
      },
      "source": [
        "### **Results**\r\n",
        "1. The total area of land with a reduction of SAVI observed after the Locust attacks was 59,594.619 Ha\r\n",
        "2. Pastureland had the highest reduction in NDVI accounting for 76.4% of the total area of land affected.\r\n",
        "3. From the graphs, in all the vegetation types, most of the damage was of a lower degree; An SAVI difference of less than 0.2.- 82.2%\r\n",
        "4. The most affected counties in terms of total area affected were:\r\n",
        "  1. Turkana - 22,562.87 Ha\r\n",
        "  2. Marsabit - 14,330.42 Ha\r\n",
        "  3. Samburu - 9,108.72 Ha"
      ]
    }
  ]
}