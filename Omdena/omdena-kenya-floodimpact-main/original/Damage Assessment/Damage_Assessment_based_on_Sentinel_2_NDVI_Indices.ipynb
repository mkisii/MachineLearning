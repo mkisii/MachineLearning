{
  "nbformat": 4,
  "nbformat_minor": 0,
  "metadata": {
    "colab": {
      "name": "Damage_Assessment_based_on_Sentinel_2_NDVI_Indices.ipynb",
      "provenance": [],
      "collapsed_sections": [],
      "authorship_tag": "ABX9TyNrUljqsbNpIfIhU3vvcuHr",
      "include_colab_link": true
    },
    "kernelspec": {
      "name": "python3",
      "display_name": "Python 3"
    }
  },
  "cells": [
    {
      "cell_type": "markdown",
      "metadata": {
        "id": "view-in-github",
        "colab_type": "text"
      },
      "source": [
        "<a href=\"https://colab.research.google.com/github/OmdenaAI/KenyaRedCross/blob/main/Damage%20Assessment/Damage_Assessment_based_on_Sentinel_2_NDVI_Indices.ipynb\" target=\"_parent\"><img src=\"https://colab.research.google.com/assets/colab-badge.svg\" alt=\"Open In Colab\"/></a>"
      ]
    },
    {
      "cell_type": "markdown",
      "metadata": {
        "id": "EiDm3ZRgZidz"
      },
      "source": [
        "# Damage Assessment using NDVI."
      ]
    },
    {
      "cell_type": "markdown",
      "metadata": {
        "id": "Wu4RMRwtl_iZ"
      },
      "source": [
        "**What is NDVI?**\r\n",
        "\r\n",
        "**Normalized Difference Vegetation Index(NDVI)**\r\n",
        "\r\n",
        "A widely used index to measure vegetation. The values range from +1.0 to -1.0. The NDVI values give a rough estimate of the type, amount and condition of vegetation at a place.\r\n",
        "\r\n",
        "NDVI is calculated with the following expression: NDVI = (NIR-Red) / (NIR+Red), where NIR is near-infrared light and Red is visible red light.\r\n",
        "\r\n",
        "As you may know, the results of the NDVI calculation range from -1 to 1. Negative values correspond to areas with water surfaces, manmade structures, rocks, clouds, snow; bare soil usually falls within 0.1- 0.2 range; and plants will always have positive values between 0.2 and 1. Healthy, dense vegetation canopy should be above 0.5, and sparse vegetation will most likely fall within 0.2 to 0.5. However, it’s only a rule of thumb and you should always take into account the season, type of plant and regional peculiarities to know exactly what NDVI values mean.\r\n",
        "\r\n",
        "The problem with NDVI as a tool to measure vegetation density is that it saturates at high amounts of green biomass. Simply put, you may end up having the same NDVI readings for low and very high vegetation density. Consider using EVI (Enhanced Vegetation Index), which is an adjusted version of NDVI that is especially accurate in areas with a dense canopy.Another alternative is NDRE (Normalized Difference Red Edge), an index that is good for permanent thick crops or other dense crops."
      ]
    },
    {
      "cell_type": "markdown",
      "metadata": {
        "id": "4i88dWhiaMxp"
      },
      "source": [
        "This notebook entails using the u-net model built to performing inference on the before images to create masks for different vegetation covers. In this case cropland, pastureland and forestland. The steps used are as follows:\r\n",
        "1. Loading the u-net model:lcn_unet_resnet50.pkl\r\n",
        "2. Loading the before images in .tif and creating an RGB image from it as a numpy array.\r\n",
        "3. Using the model to predict the vegetation classes from the image.\r\n",
        "4. creating masks for cropland, pastureland and forestland.\r\n",
        "5. Calculating the NDVI diff and affected pixels for respective classses categorized by degree of damage.\r\n",
        "6. Saving the data into .csv file for further/future analysis.\r\n",
        "7. Performing further Exploratory Data Analysis(EDA) on the data.\r\n",
        "\r\n"
      ]
    },
    {
      "cell_type": "markdown",
      "metadata": {
        "id": "Ma_9uOCEbiBw"
      },
      "source": [
        "### **Loading Necessary Dependencies**"
      ]
    },
    {
      "cell_type": "code",
      "metadata": {
        "id": "7IJ1emUtYxxu"
      },
      "source": [
        "#suppressing output of the cell\r\n",
        "%%capture  \r\n",
        "#installing necessary dependencies\r\n",
        "!pip -q install geopandas\r\n",
        "!pip -q install geojson\r\n",
        "!pip -q install rasterio\r\n",
        "!pip install fastai --upgrade"
      ],
      "execution_count": null,
      "outputs": []
    },
    {
      "cell_type": "code",
      "metadata": {
        "id": "z-M9-eN1a0gS"
      },
      "source": [
        "# importing libraries\r\n",
        "import os\r\n",
        "import json\r\n",
        "import requests\r\n",
        "import glob\r\n",
        "from pathlib import Path\r\n",
        "\r\n",
        "import geojson\r\n",
        "import rasterio as rio\r\n",
        "from rasterio.plot import show\r\n",
        "import geopandas as gpd\r\n",
        "from shapely.geometry import Point, Polygon\r\n",
        "from rasterio.plot import show_hist\r\n",
        "\r\n",
        "\r\n",
        "from matplotlib import pyplot\r\n",
        "import matplotlib.pyplot as plt\r\n",
        "import matplotlib.patches as mpatches\r\n",
        "import plotly.express as px\r\n",
        "import numpy as np\r\n",
        "import pandas as pd\r\n",
        "import time\r\n",
        "\r\n",
        "from fastai.vision.all import *\r\n",
        "\r\n",
        "from  IPython.core.interactiveshell import InteractiveShell\r\n",
        "InteractiveShell.ast_node_interactivity = \"all\"\r\n",
        "%matplotlib inline"
      ],
      "execution_count": null,
      "outputs": []
    },
    {
      "cell_type": "markdown",
      "metadata": {
        "id": "OIgALLZAbTGg"
      },
      "source": [
        "**Mounting Google Drive**"
      ]
    },
    {
      "cell_type": "code",
      "metadata": {
        "colab": {
          "base_uri": "https://localhost:8080/"
        },
        "id": "H0WkLFj3bSdV",
        "outputId": "a1e639b0-698d-47c0-9a5d-bb64c60b45ec"
      },
      "source": [
        "from google.colab import drive\r\n",
        "drive.mount('/content/drive',force_remount = True)"
      ],
      "execution_count": null,
      "outputs": [
        {
          "output_type": "stream",
          "text": [
            "Mounted at /content/drive\n"
          ],
          "name": "stdout"
        }
      ]
    },
    {
      "cell_type": "markdown",
      "metadata": {
        "id": "NXtnjHaDbsXA"
      },
      "source": [
        "### **Loading the Sentinel-2 Images from Google Drive**"
      ]
    },
    {
      "cell_type": "code",
      "metadata": {
        "colab": {
          "base_uri": "https://localhost:8080/"
        },
        "id": "egmGzWG8bSbA",
        "outputId": "30b2e8b2-7c61-43c9-802b-8615422ba731"
      },
      "source": [
        "#Directory for storage of sentinel 2 images on Google Drive\r\n",
        "%cd '/content/drive/My Drive/Official Folder of Kenya Red Cross Desert Locust Project/Data/Sentinel_Data/dl_aoi/Kenya_AOI_224/Kenya_AOI_224_GeoTiff'"
      ],
      "execution_count": null,
      "outputs": [
        {
          "output_type": "stream",
          "text": [
            "/content/drive/.shortcut-targets-by-id/12QHGizgz_g-tBWlzTcLz5dz_YOtWUXz8/Official Folder of Kenya Red Cross Desert Locust Project/Data/Sentinel_Data/dl_aoi/Kenya_AOI_224/Kenya_AOI_224_GeoTiff\n"
          ],
          "name": "stdout"
        }
      ]
    },
    {
      "cell_type": "code",
      "metadata": {
        "id": "drgDtrn2bSVC",
        "colab": {
          "base_uri": "https://localhost:8080/"
        },
        "outputId": "56d949ac-e250-4972-a296-343d42cf2b84"
      },
      "source": [
        "#path to before sentinel images\r\n",
        "#paths for the .tif images\r\n",
        "data_path = 'Kenya_AOI_before_224_clean'\r\n",
        "bf_data = Path(data_path)\r\n",
        "\r\n",
        "#the tif images are stored in the paths list\r\n",
        "bf_data = glob.glob(os.path.join(bf_data,'*.tif'))\r\n",
        "bf_data[:5]"
      ],
      "execution_count": 26,
      "outputs": [
        {
          "output_type": "execute_result",
          "data": {
            "text/plain": [
              "['Kenya_AOI_before_224_clean/kenya_aoi_before (1).tif',\n",
              " 'Kenya_AOI_before_224_clean/kenya_aoi_before (55).tif',\n",
              " 'Kenya_AOI_before_224_clean/kenya_aoi_before (53).tif',\n",
              " 'Kenya_AOI_before_224_clean/kenya_aoi_before (52).tif',\n",
              " 'Kenya_AOI_before_224_clean/kenya_aoi_before (51).tif']"
            ]
          },
          "metadata": {
            "tags": []
          },
          "execution_count": 26
        }
      ]
    },
    {
      "cell_type": "code",
      "metadata": {
        "id": "3ov_IuQObSS6",
        "colab": {
          "base_uri": "https://localhost:8080/"
        },
        "outputId": "52d3d674-a487-40b7-95eb-b39a0b89a95a"
      },
      "source": [
        "#path to after sentiel images\r\n",
        "#paths for the .tif images\r\n",
        "data_path = 'Kenya_AOI_after_224_clean'\r\n",
        "af_data = Path(data_path)\r\n",
        "\r\n",
        "#the tif images are stored in the paths list\r\n",
        "af_data = glob.glob(os.path.join(af_data,'*.tif'))\r\n",
        "af_data[:5]"
      ],
      "execution_count": null,
      "outputs": [
        {
          "output_type": "execute_result",
          "data": {
            "text/plain": [
              "['Kenya_AOI_after_224_clean/kenya_aoi_after (9).tif',\n",
              " 'Kenya_AOI_after_224_clean/kenya_aoi_after (1).tif',\n",
              " 'Kenya_AOI_after_224_clean/kenya_aoi_after (2).tif',\n",
              " 'Kenya_AOI_after_224_clean/kenya_aoi_after (3).tif',\n",
              " 'Kenya_AOI_after_224_clean/kenya_aoi_after (4).tif']"
            ]
          },
          "metadata": {
            "tags": []
          },
          "execution_count": 11
        }
      ]
    },
    {
      "cell_type": "code",
      "metadata": {
        "id": "SUDhtnOSbSN9",
        "colab": {
          "base_uri": "https://localhost:8080/"
        },
        "outputId": "3d7db949-e4c5-4c94-e2fb-c024d6411071"
      },
      "source": [
        "print(\"Length of bf data=\", len(bf_data))\r\n",
        "print(\"Length of af data=\", len(af_data))"
      ],
      "execution_count": null,
      "outputs": [
        {
          "output_type": "stream",
          "text": [
            "Length of bf data= 348\n",
            "Length of af data= 348\n"
          ],
          "name": "stdout"
        }
      ]
    },
    {
      "cell_type": "code",
      "metadata": {
        "id": "XUO6OztvbSLM",
        "colab": {
          "base_uri": "https://localhost:8080/"
        },
        "outputId": "e3b829ae-f13f-4cfa-bf15-58b1f4651dee"
      },
      "source": [
        "#How to extract the image ID\r\n",
        "int(bf_data[0].split('(')[1].split(')')[0])"
      ],
      "execution_count": null,
      "outputs": [
        {
          "output_type": "execute_result",
          "data": {
            "text/plain": [
              "1"
            ]
          },
          "metadata": {
            "tags": []
          },
          "execution_count": 9
        }
      ]
    },
    {
      "cell_type": "code",
      "metadata": {
        "id": "NA9zg5gobSIw",
        "colab": {
          "base_uri": "https://localhost:8080/"
        },
        "outputId": "b8df2277-d7f8-41f4-eb5d-6cc92d66edb0"
      },
      "source": [
        "#using for loop and storing the items/images into a dictionary\r\n",
        "folder = {}\r\n",
        "bf_list = bf_data.copy()\r\n",
        "af_list = af_data.copy()\r\n",
        "#iterating through the images\r\n",
        "for i in range(len(bf_data)):\r\n",
        "  files = []  #holds the before and after images\r\n",
        "  for  j in range(len(af_data)):\r\n",
        "    #checking for equality, splitting by the first parantheses in the string\r\n",
        "    if str(bf_data[i].split('(')[1]) == str(af_data[j].split('(')[1]):\r\n",
        "      #extracting the image_Id from the image name\r\n",
        "      key = bf_data[i].split('(')[1].split(')')[0]\r\n",
        "      files = [bf_data[i],af_data[j]]\r\n",
        "      folder[key] = files\r\n",
        "      bf_list.remove(bf_data[i]) #removing the matcged image \r\n",
        "      af_list.remove(af_data[j])\r\n",
        "\r\n",
        "print('The number of correctly matched images: ',len(folder.keys()))\r\n",
        "print(\"The number of mismatched images are: \",len(bf_list))"
      ],
      "execution_count": null,
      "outputs": [
        {
          "output_type": "stream",
          "text": [
            "The number of correctly matched images:  348\n",
            "The number of mismatched images are:  0\n"
          ],
          "name": "stdout"
        }
      ]
    },
    {
      "cell_type": "markdown",
      "metadata": {
        "id": "3E0Vl7DTdmVI"
      },
      "source": [
        "### **Pixel-Wise Vegetation Classification & Damage Assessment Using NDVI**\r\n",
        "Using the resnet model built to classify each pixel in the sentinel-2 images to its respective landcover type. See the notebooks on using the U-net model for classification for more details.\r\n"
      ]
    },
    {
      "cell_type": "code",
      "metadata": {
        "id": "3aZzaqfebSGM"
      },
      "source": [
        "def get_y_fn(x) :\r\n",
        "  return path_lbl/f'{re.findall(r\"(.*2018)[0-9]+_RGB\", x.stem)[0]}_LC_10m.png'"
      ],
      "execution_count": null,
      "outputs": []
    },
    {
      "cell_type": "code",
      "metadata": {
        "id": "n7_rKYrTbSDL"
      },
      "source": [
        "def segm_acc(input, target) :\r\n",
        "  target = target.squeeze(1)\r\n",
        "  return (input.argmax(dim=1)==torch.tensor(target)).float().mean()"
      ],
      "execution_count": null,
      "outputs": []
    },
    {
      "cell_type": "code",
      "metadata": {
        "id": "AmPFfnN2bR_R"
      },
      "source": [
        "#loading the model from the drive\r\n",
        "infer = load_learner('/content/drive/My Drive/Omdena Project/Model/lcn_unet_resnet50.pkl')"
      ],
      "execution_count": null,
      "outputs": []
    },
    {
      "cell_type": "code",
      "metadata": {
        "id": "N25UxbvTbR6L"
      },
      "source": [
        "def get_rgb(path) :\r\n",
        "  red = rio.open(path).read(4) # B4\r\n",
        "  green = rio.open(path).read(3) # B3\r\n",
        "  blue = rio.open(path).read(2) # B2\r\n",
        "\r\n",
        "  rgb = np.dstack((red, green, blue))\r\n",
        "\r\n",
        "  # normalize and convert to range 0-255\r\n",
        "  rgb = ((rgb - rgb.min()) / (rgb.max() - rgb.min()) * 255).astype('uint8')\r\n",
        "  return rgb"
      ],
      "execution_count": null,
      "outputs": []
    },
    {
      "cell_type": "code",
      "metadata": {
        "id": "04LwP5T5eW4x"
      },
      "source": [
        "im = get_rgb(folder['1'][0])\r\n",
        "plt.imshow(im)"
      ],
      "execution_count": null,
      "outputs": []
    },
    {
      "cell_type": "markdown",
      "metadata": {
        "id": "WNaIQtQ8OOiG"
      },
      "source": [
        "**Damage Assessment using NDVI_difference**\r\n",
        "\r\n",
        "The idea is to use the NDVI difference to categorize the pixels by the degree of damage. The following approach has been used:\r\n",
        "- low damage - NDVI 0.01 to 0.2\r\n",
        "- Moderate damage - NDVI > 0.2 to < 0.5\r\n",
        "- High damage - NDVI > 0.5"
      ]
    },
    {
      "cell_type": "code",
      "metadata": {
        "id": "tVoSoklMoVXb"
      },
      "source": [
        "def veg_calc(mask,degree):\r\n",
        "  #getting the total area of damage\r\n",
        "  if degree == 'total':\r\n",
        "    total = 0\r\n",
        "    for i in range(mask.shape[0]):\r\n",
        "      for j in range(mask.shape[0]):\r\n",
        "          if mask[i][j] >= 0.01:\r\n",
        "              total += 1\r\n",
        "\r\n",
        "    return total * 0.01\r\n",
        "\r\n",
        "  # calculating the areas with low damage\r\n",
        "  elif degree == 'low':\r\n",
        "    low = 0\r\n",
        "    for i in range(mask.shape[0]):\r\n",
        "        for j in range(mask.shape[0]):\r\n",
        "            if mask[i][j] >= 0.01 and mask[i][j] <0.2 :\r\n",
        "                low += 1\r\n",
        "\r\n",
        "    return low *0.01\r\n",
        "  \r\n",
        "  #calculating the total area in Hectares(Ha) with moderate damage\r\n",
        "  elif degree == 'moderate':\r\n",
        "    moderate = 0\r\n",
        "    for i in range(mask.shape[0]):\r\n",
        "        for j in range(mask.shape[0]):\r\n",
        "          #NDVI difference between 0.2 to 0.5\r\n",
        "          if mask[i][j] >= 0.2 and mask[i][j] <0.5 :\r\n",
        "                moderate += 1\r\n",
        "\r\n",
        "    return moderate * 0.01\r\n",
        "\r\n",
        "  #calculating the total area with high damage\r\n",
        "  elif degree == 'high':\r\n",
        "    high = 0\r\n",
        "    for i in range(mask.shape[0]):\r\n",
        "      for j in range(mask.shape[0]):\r\n",
        "          if mask[i][j] >= 0.5:\r\n",
        "              high += 1\r\n",
        "\r\n",
        "    return high * 0.01\r\n"
      ],
      "execution_count": null,
      "outputs": []
    },
    {
      "cell_type": "markdown",
      "metadata": {
        "id": "GorNUX7ePW4G"
      },
      "source": [
        "*Caution:This section takes very long to execute: about 60 minutes. Better ways to optimize the code can be explored.*"
      ]
    },
    {
      "cell_type": "code",
      "metadata": {
        "id": "bfCkh2OHeN3S"
      },
      "source": [
        "#Measuring the time taken for execution\r\n",
        "# store starting time \r\n",
        "begin = time.time() \r\n",
        "#Parameters\r\n",
        "numMismatch = [] #holding the folder_Ids for mismateched images\r\n",
        "\r\n",
        "#Creating a dataframe for storing the ndvi values\r\n",
        "veg_df = pd.DataFrame(columns = [\"Image_ID\", \"Total_Cropland(Ha)\", 'Total_Pastureland(Ha)', \"Total_Forestland(Ha)\",\r\n",
        "                                 'Low_Damage_Cropland(Ha)','Moderate_Damage_Cropland(Ha)','High_Damage_Cropland(Ha)',\r\n",
        "                                 'Low_Damage_Pastureland(Ha)','Moderate_Damage_Pastureland(Ha)','High_Damage_Pastureland(Ha)',\r\n",
        "                                 'Low_Damage_Forestland(Ha)','Moderate_Damage_Forestland(Ha)','High_Damage_Forestland(Ha)'\r\n",
        "\r\n",
        "                                 ])\r\n",
        "\r\n",
        "#iterating through all the images in the folder\r\n",
        "for key in folder:\r\n",
        "  #loading image from tif file using rasterio\r\n",
        "  bf = rio.open(folder[key][0])\r\n",
        "  af = rio.open(folder[key][1])\r\n",
        "\r\n",
        "  # reading the RGB band from the image\r\n",
        "  red = bf.read(4) # B4\r\n",
        "  green = bf.read(3) # B3\r\n",
        "  blue = bf.read(2) # B2\r\n",
        "\r\n",
        "  rgb = np.dstack((red, green, blue))\r\n",
        "\r\n",
        "  # normalize and convert to range 0-255\r\n",
        "  rgb = ((rgb - rgb.min()) / (rgb.max() - rgb.min()) * 255).astype('uint8')\r\n",
        "\r\n",
        "  #getting the masks from the rgb image\r\n",
        "  pred = infer.predict(rgb)[0].numpy()\r\n",
        "\r\n",
        "  #creating the masks for the vegatation classes: Cropland, Pastureland and Forestland\r\n",
        "  crop_mask = pred==1\r\n",
        "  pasture_mask = pred==2\r\n",
        "  forest_mask = pred==5\r\n",
        "  \r\n",
        "  # reading the NDVI band from the image\r\n",
        "  bf_ndvi = bf.read(17)\r\n",
        "  af_ndvi = af.read(17)\r\n",
        "\r\n",
        "  #checking for mismatch \r\n",
        "  if (bf_ndvi.shape!=af_ndvi.shape):\r\n",
        "      #print(\"Mismatch found!bf_nvdi shape = \",bf_ndvi.shape, \", af_nvdi shape = \",af_ndvi.shape)\r\n",
        "      numMismatch.append(key)\r\n",
        "      continue\r\n",
        "  else :\r\n",
        "    #calculating the NDVI difference\r\n",
        "    diff_ndvi = bf_ndvi - af_ndvi\r\n",
        "\r\n",
        "    #getting the NDVI difference in the various vegatation covers\r\n",
        "    cropland_mask = np.multiply(diff_ndvi,crop_mask)\r\n",
        "    pastureland_mask = np.multiply(diff_ndvi,pasture_mask)\r\n",
        "    forestland_mask = np.multiply(diff_ndvi,forest_mask)\r\n",
        "\r\n",
        "    #Getting the area affected for the different vegetation covers\r\n",
        "    \r\n",
        "    #Saving the data into a dataframe\r\n",
        "    veg_df = veg_df.append({\"Image_ID\": key, \r\n",
        "                            \"Total_Cropland(Ha)\": veg_calc(cropland_mask,'total'), \r\n",
        "                            'Total_Pastureland(Ha)':veg_calc(pastureland_mask,'total'),\r\n",
        "                            \"Total_Forestland(Ha)\":veg_calc(forestland_mask,'total'),\r\n",
        "                            'Low_Damage_Cropland(Ha)':veg_calc(cropland_mask,'low'),\r\n",
        "                            'Moderate_Damage_Cropland(Ha)':veg_calc(cropland_mask,'moderate'),\r\n",
        "                            'High_Damage_Cropland(Ha)':veg_calc(cropland_mask,'high'),\r\n",
        "                            'Low_Damage_Pastureland(Ha)':veg_calc(pastureland_mask,'low'),\r\n",
        "                            'Moderate_Damage_Pastureland(Ha)':veg_calc(pastureland_mask,'moderate'),\r\n",
        "                            'High_Damage_Pastureland(Ha)':veg_calc(pastureland_mask,'high'),\r\n",
        "                            'Low_Damage_Forestland(Ha)':veg_calc(forestland_mask,'low'),\r\n",
        "                            'Moderate_Damage_Forestland(Ha)':veg_calc(forestland_mask,'moderate'),\r\n",
        "                            'High_Damage_Forestland(Ha)':veg_calc(forestland_mask,'high')},\r\n",
        "                              ignore_index = True)\r\n",
        "\r\n",
        "# store end time \r\n",
        "end = time.time() \r\n",
        "print(\"Number of cases where bf_ndvi shape is not equal to af_nvdi=\", len(numMismatch))\r\n",
        "# total time taken \r\n",
        "print(f\"Total runtime of the program is {end - begin}\") "
      ],
      "execution_count": null,
      "outputs": []
    },
    {
      "cell_type": "code",
      "metadata": {
        "id": "_RRlb3k7kzSq"
      },
      "source": [
        "veg_df.head()"
      ],
      "execution_count": null,
      "outputs": []
    },
    {
      "cell_type": "markdown",
      "metadata": {
        "id": "CgwL-5-ykvkM"
      },
      "source": [
        "### Identifying the Counties the Images were taken from."
      ]
    },
    {
      "cell_type": "code",
      "metadata": {
        "id": "M8HsdmnslSiP",
        "colab": {
          "base_uri": "https://localhost:8080/",
          "height": 459
        },
        "outputId": "5a8dc7e9-f1aa-4d0d-d33d-d2c0faeb597f"
      },
      "source": [
        "#loading the file with the Kenyan Adminstration boundaries\r\n",
        "file_path = '/content/drive/My Drive/Omdena Project/Data/geoboundary.geojson'\r\n",
        "#reading the json file using geopandas\r\n",
        "geoboundary = gpd.read_file(file_path)\r\n",
        "geoboundary.head()"
      ],
      "execution_count": null,
      "outputs": [
        {
          "output_type": "execute_result",
          "data": {
            "text/html": [
              "<div>\n",
              "<style scoped>\n",
              "    .dataframe tbody tr th:only-of-type {\n",
              "        vertical-align: middle;\n",
              "    }\n",
              "\n",
              "    .dataframe tbody tr th {\n",
              "        vertical-align: top;\n",
              "    }\n",
              "\n",
              "    .dataframe thead th {\n",
              "        text-align: right;\n",
              "    }\n",
              "</style>\n",
              "<table border=\"1\" class=\"dataframe\">\n",
              "  <thead>\n",
              "    <tr style=\"text-align: right;\">\n",
              "      <th></th>\n",
              "      <th>shapeName</th>\n",
              "      <th>shapeISO</th>\n",
              "      <th>shapeID</th>\n",
              "      <th>shapeGroup</th>\n",
              "      <th>shapeType</th>\n",
              "      <th>geometry</th>\n",
              "    </tr>\n",
              "  </thead>\n",
              "  <tbody>\n",
              "    <tr>\n",
              "      <th>0</th>\n",
              "      <td>Bomet</td>\n",
              "      <td>KE-02</td>\n",
              "      <td>KEN-ADM1-3_0_0-B1</td>\n",
              "      <td>KEN</td>\n",
              "      <td>ADM1</td>\n",
              "      <td>MULTIPOLYGON (((35.58631 -0.58674, 35.58790 -0.58973, 35.58429 -0.59065, 35.56312 -0.59694, 35.55525 -0.59921, 35.50532 -0.61366, 35.49750 -0.61616, 35.49372 -0.61757, 35.43574 -0.63423, 35.42450 -0.63765, 35.40491 -0.64326, 35.39850 -0.64564, 35.39893 -0.64888, 35.40174 -0.65504, 35.40430 -0.66255, 35.40894 -0.67354, 35.40992 -0.67665, 35.41273 -0.68434, 35.42310 -0.71144, 35.42450 -0.71577, 35.42670 -0.72114, 35.43030 -0.72383, 35.43635 -0.72877, 35.44031 -0.73176, 35.44410 -0.73494, 35.46650 -0.75264, 35.46991 -0.75514, 35.47352 -0.75825, 35.47974 -0.76307, 35.48853 -0.76674, 35.49213 -...</td>\n",
              "    </tr>\n",
              "    <tr>\n",
              "      <th>1</th>\n",
              "      <td>Kisii</td>\n",
              "      <td>KE-16</td>\n",
              "      <td>KEN-ADM1-3_0_0-B2</td>\n",
              "      <td>KEN</td>\n",
              "      <td>ADM1</td>\n",
              "      <td>MULTIPOLYGON (((35.00129 -0.89357, 34.98792 -0.89686, 34.98249 -0.89796, 34.97529 -0.90034, 34.95850 -0.90376, 34.95472 -0.90468, 34.94312 -0.90846, 34.92951 -0.91127, 34.91810 -0.91395, 34.89252 -0.92055, 34.88910 -0.92158, 34.85010 -0.93117, 34.84491 -0.93385, 34.83149 -0.93586, 34.79731 -0.94453, 34.78089 -0.94917, 34.77710 -0.94966, 34.76069 -0.95466, 34.75031 -0.95643, 34.69770 -0.96925, 34.67750 -0.97346, 34.67450 -0.97304, 34.67109 -0.97285, 34.66669 -0.97316, 34.66395 -0.97255, 34.66034 -0.97108, 34.65650 -0.96895, 34.65149 -0.96693, 34.64692 -0.96748, 34.64350 -0.96907, 34.63849 -...</td>\n",
              "    </tr>\n",
              "    <tr>\n",
              "      <th>2</th>\n",
              "      <td>Narok</td>\n",
              "      <td>KE-33</td>\n",
              "      <td>KEN-ADM1-3_0_0-B3</td>\n",
              "      <td>KEN</td>\n",
              "      <td>ADM1</td>\n",
              "      <td>MULTIPOLYGON (((36.34809 -1.17494, 36.33735 -1.18696, 36.29114 -1.23665, 36.28809 -1.23866, 36.28052 -1.24824, 36.26954 -1.26027, 36.25831 -1.27223, 36.24811 -1.28364, 36.23169 -1.30104, 36.22870 -1.30385, 36.21833 -1.31514, 36.19935 -1.33485, 36.19611 -1.33845, 36.18909 -1.34553, 36.16572 -1.37056, 36.16291 -1.37324, 36.15510 -1.38136, 36.14429 -1.39296, 36.14210 -1.39503, 36.13691 -1.40046, 36.13294 -1.40498, 36.12653 -1.41157, 36.12171 -1.41585, 36.11854 -1.42018, 36.07514 -1.46577, 36.07075 -1.46876, 36.06849 -1.47285, 36.05732 -1.48445, 36.05311 -1.48915, 36.04969 -1.49238, 36.05872 -...</td>\n",
              "    </tr>\n",
              "    <tr>\n",
              "      <th>3</th>\n",
              "      <td>Homa Bay</td>\n",
              "      <td>KE-08</td>\n",
              "      <td>KEN-ADM1-3_0_0-B4</td>\n",
              "      <td>KEN</td>\n",
              "      <td>ADM1</td>\n",
              "      <td>MULTIPOLYGON (((35.02112 -0.41048, 35.02131 -0.41427, 35.01410 -0.41829, 35.00471 -0.42610, 35.00171 -0.42879, 34.99909 -0.43050, 34.98951 -0.43428, 34.98653 -0.43625, 34.97834 -0.43862, 34.97309 -0.44100, 34.96753 -0.44319, 34.95875 -0.45113, 34.94953 -0.45882, 34.94349 -0.46260, 34.94261 -0.46367, 34.94092 -0.46572, 34.93710 -0.46755, 34.93635 -0.46791, 34.93435 -0.46860, 34.92994 -0.47011, 34.92792 -0.47219, 34.91834 -0.47701, 34.91230 -0.47982, 34.90754 -0.48232, 34.90210 -0.48403, 34.88489 -0.48830, 34.88111 -0.48909, 34.87592 -0.49202, 34.86310 -0.50416, 34.85871 -0.50551, 34.85590 -...</td>\n",
              "    </tr>\n",
              "    <tr>\n",
              "      <th>4</th>\n",
              "      <td>Migori</td>\n",
              "      <td>KE-27</td>\n",
              "      <td>KEN-ADM1-3_0_0-B5</td>\n",
              "      <td>KEN</td>\n",
              "      <td>ADM1</td>\n",
              "      <td>MULTIPOLYGON (((34.73151 -1.38936, 34.70255 -1.37307, 34.69872 -1.37089, 34.67765 -1.35889, 34.65625 -1.34688, 34.63429 -1.33439, 34.63116 -1.33262, 34.61698 -1.32478, 34.60169 -1.31508, 34.57645 -1.30183, 34.54749 -1.28554, 34.51490 -1.26745, 34.48911 -1.25266, 34.47528 -1.24451, 34.46843 -1.24081, 34.45767 -1.23491, 34.44595 -1.22806, 34.42549 -1.21656, 34.38630 -1.19417, 34.27509 -1.13145, 34.21062 -1.09520, 34.12052 -1.04458, 34.11591 -1.04158, 34.10794 -1.03708, 34.09316 -1.02875, 34.09070 -1.02736, 34.08033 -1.02186, 34.04609 -1.04585, 34.04090 -1.04616, 34.03754 -1.04518, 34.03412 -...</td>\n",
              "    </tr>\n",
              "  </tbody>\n",
              "</table>\n",
              "</div>"
            ],
            "text/plain": [
              "  shapeName  ...                                                                                                                                                                                                                                                                                                                                                                                                                                                                                                                                                                                                                 geometry\n",
              "0     Bomet  ...  MULTIPOLYGON (((35.58631 -0.58674, 35.58790 -0.58973, 35.58429 -0.59065, 35.56312 -0.59694, 35.55525 -0.59921, 35.50532 -0.61366, 35.49750 -0.61616, 35.49372 -0.61757, 35.43574 -0.63423, 35.42450 -0.63765, 35.40491 -0.64326, 35.39850 -0.64564, 35.39893 -0.64888, 35.40174 -0.65504, 35.40430 -0.66255, 35.40894 -0.67354, 35.40992 -0.67665, 35.41273 -0.68434, 35.42310 -0.71144, 35.42450 -0.71577, 35.42670 -0.72114, 35.43030 -0.72383, 35.43635 -0.72877, 35.44031 -0.73176, 35.44410 -0.73494, 35.46650 -0.75264, 35.46991 -0.75514, 35.47352 -0.75825, 35.47974 -0.76307, 35.48853 -0.76674, 35.49213 -...\n",
              "1     Kisii  ...  MULTIPOLYGON (((35.00129 -0.89357, 34.98792 -0.89686, 34.98249 -0.89796, 34.97529 -0.90034, 34.95850 -0.90376, 34.95472 -0.90468, 34.94312 -0.90846, 34.92951 -0.91127, 34.91810 -0.91395, 34.89252 -0.92055, 34.88910 -0.92158, 34.85010 -0.93117, 34.84491 -0.93385, 34.83149 -0.93586, 34.79731 -0.94453, 34.78089 -0.94917, 34.77710 -0.94966, 34.76069 -0.95466, 34.75031 -0.95643, 34.69770 -0.96925, 34.67750 -0.97346, 34.67450 -0.97304, 34.67109 -0.97285, 34.66669 -0.97316, 34.66395 -0.97255, 34.66034 -0.97108, 34.65650 -0.96895, 34.65149 -0.96693, 34.64692 -0.96748, 34.64350 -0.96907, 34.63849 -...\n",
              "2     Narok  ...  MULTIPOLYGON (((36.34809 -1.17494, 36.33735 -1.18696, 36.29114 -1.23665, 36.28809 -1.23866, 36.28052 -1.24824, 36.26954 -1.26027, 36.25831 -1.27223, 36.24811 -1.28364, 36.23169 -1.30104, 36.22870 -1.30385, 36.21833 -1.31514, 36.19935 -1.33485, 36.19611 -1.33845, 36.18909 -1.34553, 36.16572 -1.37056, 36.16291 -1.37324, 36.15510 -1.38136, 36.14429 -1.39296, 36.14210 -1.39503, 36.13691 -1.40046, 36.13294 -1.40498, 36.12653 -1.41157, 36.12171 -1.41585, 36.11854 -1.42018, 36.07514 -1.46577, 36.07075 -1.46876, 36.06849 -1.47285, 36.05732 -1.48445, 36.05311 -1.48915, 36.04969 -1.49238, 36.05872 -...\n",
              "3  Homa Bay  ...  MULTIPOLYGON (((35.02112 -0.41048, 35.02131 -0.41427, 35.01410 -0.41829, 35.00471 -0.42610, 35.00171 -0.42879, 34.99909 -0.43050, 34.98951 -0.43428, 34.98653 -0.43625, 34.97834 -0.43862, 34.97309 -0.44100, 34.96753 -0.44319, 34.95875 -0.45113, 34.94953 -0.45882, 34.94349 -0.46260, 34.94261 -0.46367, 34.94092 -0.46572, 34.93710 -0.46755, 34.93635 -0.46791, 34.93435 -0.46860, 34.92994 -0.47011, 34.92792 -0.47219, 34.91834 -0.47701, 34.91230 -0.47982, 34.90754 -0.48232, 34.90210 -0.48403, 34.88489 -0.48830, 34.88111 -0.48909, 34.87592 -0.49202, 34.86310 -0.50416, 34.85871 -0.50551, 34.85590 -...\n",
              "4    Migori  ...  MULTIPOLYGON (((34.73151 -1.38936, 34.70255 -1.37307, 34.69872 -1.37089, 34.67765 -1.35889, 34.65625 -1.34688, 34.63429 -1.33439, 34.63116 -1.33262, 34.61698 -1.32478, 34.60169 -1.31508, 34.57645 -1.30183, 34.54749 -1.28554, 34.51490 -1.26745, 34.48911 -1.25266, 34.47528 -1.24451, 34.46843 -1.24081, 34.45767 -1.23491, 34.44595 -1.22806, 34.42549 -1.21656, 34.38630 -1.19417, 34.27509 -1.13145, 34.21062 -1.09520, 34.12052 -1.04458, 34.11591 -1.04158, 34.10794 -1.03708, 34.09316 -1.02875, 34.09070 -1.02736, 34.08033 -1.02186, 34.04609 -1.04585, 34.04090 -1.04616, 34.03754 -1.04518, 34.03412 -...\n",
              "\n",
              "[5 rows x 6 columns]"
            ]
          },
          "metadata": {
            "tags": []
          },
          "execution_count": 15
        }
      ]
    },
    {
      "cell_type": "code",
      "metadata": {
        "id": "dBUROCCgWcL7",
        "colab": {
          "base_uri": "https://localhost:8080/"
        },
        "outputId": "3e3ead42-3b6d-4926-9963-ebd49b21b4d1"
      },
      "source": [
        "#how many counties are in the dataset?\r\n",
        "geoboundary.shapeName.nunique()"
      ],
      "execution_count": null,
      "outputs": [
        {
          "output_type": "execute_result",
          "data": {
            "text/plain": [
              "47"
            ]
          },
          "metadata": {
            "tags": []
          },
          "execution_count": 12
        }
      ]
    },
    {
      "cell_type": "code",
      "metadata": {
        "id": "eIJjnQJ3XKsB",
        "colab": {
          "base_uri": "https://localhost:8080/"
        },
        "outputId": "fa7f9fa4-f587-4f64-a448-7ef94ad3e4df"
      },
      "source": [
        "geoboundary.shapeName.unique()"
      ],
      "execution_count": null,
      "outputs": [
        {
          "output_type": "execute_result",
          "data": {
            "text/plain": [
              "array(['Bomet', 'Kisii', 'Narok', 'Homa Bay', 'Migori', 'Nakuru',\n",
              "       'Kajiado', 'Kericho', 'Kisumu', 'Nyamira', 'Siaya', 'Busia',\n",
              "       'Vihiga', 'Machakos', 'Makueni', 'Nairobi', 'Baringo', 'Bungoma',\n",
              "       'Elegeyo-Marakwet', 'Embu', 'Garissa', 'Isiolo', 'Kakamega',\n",
              "       'Kiambu', 'Kilifi', 'Kirinyaga', 'Kitui', 'Kwale', 'Laikipia',\n",
              "       'Lamu', 'Mandera', 'Marsabit', 'Meru', 'Mombasa', 'Nandi',\n",
              "       'Nyandarua', 'Nyeri', 'Samburu', 'Taita Taveta', 'Tana River',\n",
              "       'Tharaka-Nithi', 'Trans Nzoia', 'Turkana', 'Uasin Gishu', 'Wajir',\n",
              "       'West Pokot', 'Murang`a'], dtype=object)"
            ]
          },
          "metadata": {
            "tags": []
          },
          "execution_count": 13
        }
      ]
    },
    {
      "cell_type": "code",
      "metadata": {
        "id": "PjxTeb--aCn_"
      },
      "source": [
        "#saving the county names into a list\r\n",
        "counties = geoboundary.shapeName.unique().tolist()\r\n",
        "\r\n",
        "# saving the ploygons into a list too\r\n",
        "polygons = geoboundary.geometry.tolist()\r\n",
        "\r\n",
        "#combining the two list into a dictinary\r\n",
        "county_poly = dict(zip(counties,polygons))"
      ],
      "execution_count": null,
      "outputs": []
    },
    {
      "cell_type": "code",
      "metadata": {
        "id": "7KXjixg6cJCs",
        "colab": {
          "base_uri": "https://localhost:8080/"
        },
        "outputId": "ea8b83f0-3e66-4fea-c2ed-a3c23b268837"
      },
      "source": [
        "#testing it out to identify a point in Mandera, from the Locust Hub dataset\r\n",
        "P1 = Point(40.91667, 2.80000)\r\n",
        "for county,poly in county_poly.items():\r\n",
        "  #print(county)\r\n",
        "  if P1.within(poly):\r\n",
        "    print(county)"
      ],
      "execution_count": null,
      "outputs": [
        {
          "output_type": "stream",
          "text": [
            "Mandera\n"
          ],
          "name": "stdout"
        }
      ]
    },
    {
      "cell_type": "markdown",
      "metadata": {
        "id": "v2Tt9Z1Tf2GE"
      },
      "source": [
        "*The logic seems to work perfectly, the next step is to classify the images accroding to their respective counties.*"
      ]
    },
    {
      "cell_type": "code",
      "metadata": {
        "id": "BrgcmGG5yAmN"
      },
      "source": [
        "image = rio.open(folder['1'][0])"
      ],
      "execution_count": 28,
      "outputs": []
    },
    {
      "cell_type": "code",
      "metadata": {
        "id": "nRGGqlTQdCLM",
        "colab": {
          "base_uri": "https://localhost:8080/"
        },
        "outputId": "4dd78dc5-6400-4afa-aeae-a71fa134ba28"
      },
      "source": [
        "# testing it out with the rasters\r\n",
        "image.bounds"
      ],
      "execution_count": 29,
      "outputs": [
        {
          "output_type": "execute_result",
          "data": {
            "text/plain": [
              "BoundingBox(left=36.42012706947252, bottom=1.0200370051177166, right=36.440249331836796, top=1.040159267481994)"
            ]
          },
          "metadata": {
            "tags": []
          },
          "execution_count": 29
        }
      ]
    },
    {
      "cell_type": "code",
      "metadata": {
        "id": "2QsYPlgPgMcx"
      },
      "source": [
        "#getting the centre coordinate\r\n",
        "X = image.bounds[0] + (image.bounds[2] - image.bounds[0])/2\r\n",
        "\r\n",
        "Y = image.bounds[1] + (image.bounds[3] - image.bounds[1])/2"
      ],
      "execution_count": 30,
      "outputs": []
    },
    {
      "cell_type": "code",
      "metadata": {
        "id": "UfWsWhrfhSzI",
        "colab": {
          "base_uri": "https://localhost:8080/"
        },
        "outputId": "904ecb34-e613-4432-cfd0-02d64f144358"
      },
      "source": [
        "X,Y"
      ],
      "execution_count": 31,
      "outputs": [
        {
          "output_type": "execute_result",
          "data": {
            "text/plain": [
              "(36.430188200654655, 1.0300981362998551)"
            ]
          },
          "metadata": {
            "tags": []
          },
          "execution_count": 31
        }
      ]
    },
    {
      "cell_type": "code",
      "metadata": {
        "id": "6mtryTFQhT5v",
        "colab": {
          "base_uri": "https://localhost:8080/"
        },
        "outputId": "8b82572d-4b42-484f-bd29-9b231776e811"
      },
      "source": [
        "P2 = Point(X,Y)\r\n",
        "for county,poly in county_poly.items():\r\n",
        "  #print(county)\r\n",
        "  if P2.within(poly):\r\n",
        "    print(county)"
      ],
      "execution_count": 32,
      "outputs": [
        {
          "output_type": "stream",
          "text": [
            "Turkana\n"
          ],
          "name": "stdout"
        }
      ]
    },
    {
      "cell_type": "markdown",
      "metadata": {
        "id": "sHllDOkLhltF"
      },
      "source": [
        "*The logic also performs well on the rasters, the next stage is to go ahead and classify the rest of the images.*"
      ]
    },
    {
      "cell_type": "code",
      "metadata": {
        "id": "gnWbmgaNhgyP"
      },
      "source": [
        "#Creating a dataframe for storing the ndvi values\r\n",
        "location_df = pd.DataFrame(columns = [\"Image_ID\",\"Latitude\",\"Longitude\",\"County\"])\r\n",
        "\r\n",
        "#iterating through all the images in the folder\r\n",
        "for key in folder:\r\n",
        "  #loading image from tif file using rasterio\r\n",
        "  bf = rio.open(folder[key][0])\r\n",
        "\r\n",
        "  #getting the centre coordinate\r\n",
        "  X = bf.bounds[0] + (bf.bounds[2] - bf.bounds[0])/2 # X Coordinate or Longitude\r\n",
        "  Y = bf.bounds[1] + (bf.bounds[3] - bf.bounds[1])/2 # Y Coordinate  or Latitude\r\n",
        "\r\n",
        "  #the coordinates for the centre of the Area of Interest\r\n",
        "  P = Point(X,Y)\r\n",
        "  for county,poly in county_poly.items():\r\n",
        "    #print(county)\r\n",
        "    if P.within(poly):\r\n",
        "      #Saving the data into the dataframe\r\n",
        "      location_df = location_df.append({'Image_ID':key,'Latitude':Y,'Longitude':X,'County':county},ignore_index = True)\r\n",
        "\r\n",
        "    else:\r\n",
        "      pass\r\n",
        "      #print('dnfj')\r\n",
        "  "
      ],
      "execution_count": 33,
      "outputs": []
    },
    {
      "cell_type": "code",
      "metadata": {
        "id": "wTqFMFg3IBYN",
        "colab": {
          "base_uri": "https://localhost:8080/",
          "height": 204
        },
        "outputId": "72ef47bf-9ce6-43c5-d759-d1ea90bce977"
      },
      "source": [
        "#image location dataframe\r\n",
        "location_df.head()"
      ],
      "execution_count": 34,
      "outputs": [
        {
          "output_type": "execute_result",
          "data": {
            "text/html": [
              "<div>\n",
              "<style scoped>\n",
              "    .dataframe tbody tr th:only-of-type {\n",
              "        vertical-align: middle;\n",
              "    }\n",
              "\n",
              "    .dataframe tbody tr th {\n",
              "        vertical-align: top;\n",
              "    }\n",
              "\n",
              "    .dataframe thead th {\n",
              "        text-align: right;\n",
              "    }\n",
              "</style>\n",
              "<table border=\"1\" class=\"dataframe\">\n",
              "  <thead>\n",
              "    <tr style=\"text-align: right;\">\n",
              "      <th></th>\n",
              "      <th>Image_ID</th>\n",
              "      <th>Latitude</th>\n",
              "      <th>Longitude</th>\n",
              "      <th>County</th>\n",
              "    </tr>\n",
              "  </thead>\n",
              "  <tbody>\n",
              "    <tr>\n",
              "      <th>0</th>\n",
              "      <td>1</td>\n",
              "      <td>1.030098</td>\n",
              "      <td>36.430188</td>\n",
              "      <td>Turkana</td>\n",
              "    </tr>\n",
              "    <tr>\n",
              "      <th>1</th>\n",
              "      <td>55</td>\n",
              "      <td>3.121466</td>\n",
              "      <td>35.619638</td>\n",
              "      <td>Turkana</td>\n",
              "    </tr>\n",
              "    <tr>\n",
              "      <th>2</th>\n",
              "      <td>53</td>\n",
              "      <td>2.204825</td>\n",
              "      <td>35.801637</td>\n",
              "      <td>Turkana</td>\n",
              "    </tr>\n",
              "    <tr>\n",
              "      <th>3</th>\n",
              "      <td>52</td>\n",
              "      <td>2.191171</td>\n",
              "      <td>35.795259</td>\n",
              "      <td>Turkana</td>\n",
              "    </tr>\n",
              "    <tr>\n",
              "      <th>4</th>\n",
              "      <td>51</td>\n",
              "      <td>3.011512</td>\n",
              "      <td>35.887696</td>\n",
              "      <td>Turkana</td>\n",
              "    </tr>\n",
              "  </tbody>\n",
              "</table>\n",
              "</div>"
            ],
            "text/plain": [
              "  Image_ID  Latitude  Longitude   County\n",
              "0        1  1.030098  36.430188  Turkana\n",
              "1       55  3.121466  35.619638  Turkana\n",
              "2       53  2.204825  35.801637  Turkana\n",
              "3       52  2.191171  35.795259  Turkana\n",
              "4       51  3.011512  35.887696  Turkana"
            ]
          },
          "metadata": {
            "tags": []
          },
          "execution_count": 34
        }
      ]
    },
    {
      "cell_type": "code",
      "metadata": {
        "id": "KVwKeIFtHj6T"
      },
      "source": [
        "#merging the two data frames for NDVI difference and location\r\n",
        "veg_loc_df = pd.merge(location_df,veg_df,on = 'Image_ID')\r\n",
        "veg_loc_df.head()"
      ],
      "execution_count": null,
      "outputs": []
    },
    {
      "cell_type": "code",
      "metadata": {
        "id": "za90tZHVoVf2"
      },
      "source": [
        "#saving the dataframe into csv file\r\n",
        "veg_loc_df.to_csv('/content/drive/My Drive/Omdena Project/Data/damage_assessment_NDVI.csv',index = False)"
      ],
      "execution_count": null,
      "outputs": []
    },
    {
      "cell_type": "markdown",
      "metadata": {
        "id": "Nu2RGo4EOiCd"
      },
      "source": [
        "### Exploratory Data Analysis (Damage Assessement .csv data)"
      ]
    },
    {
      "cell_type": "code",
      "metadata": {
        "colab": {
          "base_uri": "https://localhost:8080/",
          "height": 224
        },
        "id": "y96ljNZFoVOZ",
        "outputId": "3f3943e9-26ce-4020-d5d3-08ea9825c975"
      },
      "source": [
        "#loading the csv file - The File can can be found on the Data Folder from Github Repository\r\n",
        "df = pd.read_csv('/content/drive/My Drive/Omdena Project/Data/damage_assessment_NDVI.csv')\r\n",
        "df.head()"
      ],
      "execution_count": 44,
      "outputs": [
        {
          "output_type": "execute_result",
          "data": {
            "text/html": [
              "<div>\n",
              "<style scoped>\n",
              "    .dataframe tbody tr th:only-of-type {\n",
              "        vertical-align: middle;\n",
              "    }\n",
              "\n",
              "    .dataframe tbody tr th {\n",
              "        vertical-align: top;\n",
              "    }\n",
              "\n",
              "    .dataframe thead th {\n",
              "        text-align: right;\n",
              "    }\n",
              "</style>\n",
              "<table border=\"1\" class=\"dataframe\">\n",
              "  <thead>\n",
              "    <tr style=\"text-align: right;\">\n",
              "      <th></th>\n",
              "      <th>Image_ID</th>\n",
              "      <th>Latitude</th>\n",
              "      <th>Longitude</th>\n",
              "      <th>County</th>\n",
              "      <th>Total_Cropland(Ha)</th>\n",
              "      <th>Total_Pastureland(Ha)</th>\n",
              "      <th>Total_Forestland(Ha)</th>\n",
              "      <th>Low_Damage_Cropland(Ha)</th>\n",
              "      <th>Moderate_Damage_Cropland(Ha)</th>\n",
              "      <th>High_Damage_Cropland(Ha)</th>\n",
              "      <th>Low_Damage_Pastureland(Ha)</th>\n",
              "      <th>Moderate_Damage_Pastureland(Ha)</th>\n",
              "      <th>High_Damage_Pastureland(Ha)</th>\n",
              "      <th>Low_Damage_Forestland(Ha)</th>\n",
              "      <th>Moderate_Damage_Forestland(Ha)</th>\n",
              "      <th>High_Damage_Forestland(Ha)</th>\n",
              "    </tr>\n",
              "  </thead>\n",
              "  <tbody>\n",
              "    <tr>\n",
              "      <th>0</th>\n",
              "      <td>1</td>\n",
              "      <td>1.030098</td>\n",
              "      <td>36.430188</td>\n",
              "      <td>Turkana</td>\n",
              "      <td>0.00</td>\n",
              "      <td>16.64</td>\n",
              "      <td>105.32</td>\n",
              "      <td>0.00</td>\n",
              "      <td>0.00</td>\n",
              "      <td>0.0</td>\n",
              "      <td>14.81</td>\n",
              "      <td>1.83</td>\n",
              "      <td>0.0</td>\n",
              "      <td>76.81</td>\n",
              "      <td>28.48</td>\n",
              "      <td>0.03</td>\n",
              "    </tr>\n",
              "    <tr>\n",
              "      <th>1</th>\n",
              "      <td>55</td>\n",
              "      <td>3.121466</td>\n",
              "      <td>35.619638</td>\n",
              "      <td>Turkana</td>\n",
              "      <td>24.31</td>\n",
              "      <td>42.21</td>\n",
              "      <td>41.75</td>\n",
              "      <td>24.17</td>\n",
              "      <td>0.14</td>\n",
              "      <td>0.0</td>\n",
              "      <td>42.11</td>\n",
              "      <td>0.10</td>\n",
              "      <td>0.0</td>\n",
              "      <td>41.54</td>\n",
              "      <td>0.21</td>\n",
              "      <td>0.00</td>\n",
              "    </tr>\n",
              "    <tr>\n",
              "      <th>2</th>\n",
              "      <td>53</td>\n",
              "      <td>2.204825</td>\n",
              "      <td>35.801637</td>\n",
              "      <td>Turkana</td>\n",
              "      <td>0.00</td>\n",
              "      <td>190.08</td>\n",
              "      <td>10.83</td>\n",
              "      <td>0.00</td>\n",
              "      <td>0.00</td>\n",
              "      <td>0.0</td>\n",
              "      <td>190.07</td>\n",
              "      <td>0.01</td>\n",
              "      <td>0.0</td>\n",
              "      <td>10.83</td>\n",
              "      <td>0.00</td>\n",
              "      <td>0.00</td>\n",
              "    </tr>\n",
              "    <tr>\n",
              "      <th>3</th>\n",
              "      <td>52</td>\n",
              "      <td>2.191171</td>\n",
              "      <td>35.795259</td>\n",
              "      <td>Turkana</td>\n",
              "      <td>0.00</td>\n",
              "      <td>309.60</td>\n",
              "      <td>2.68</td>\n",
              "      <td>0.00</td>\n",
              "      <td>0.00</td>\n",
              "      <td>0.0</td>\n",
              "      <td>309.60</td>\n",
              "      <td>0.00</td>\n",
              "      <td>0.0</td>\n",
              "      <td>2.68</td>\n",
              "      <td>0.00</td>\n",
              "      <td>0.00</td>\n",
              "    </tr>\n",
              "    <tr>\n",
              "      <th>4</th>\n",
              "      <td>51</td>\n",
              "      <td>3.011512</td>\n",
              "      <td>35.887696</td>\n",
              "      <td>Turkana</td>\n",
              "      <td>0.00</td>\n",
              "      <td>57.78</td>\n",
              "      <td>3.06</td>\n",
              "      <td>0.00</td>\n",
              "      <td>0.00</td>\n",
              "      <td>0.0</td>\n",
              "      <td>57.67</td>\n",
              "      <td>0.11</td>\n",
              "      <td>0.0</td>\n",
              "      <td>3.06</td>\n",
              "      <td>0.00</td>\n",
              "      <td>0.00</td>\n",
              "    </tr>\n",
              "  </tbody>\n",
              "</table>\n",
              "</div>"
            ],
            "text/plain": [
              "   Image_ID  ...  High_Damage_Forestland(Ha)\n",
              "0         1  ...                        0.03\n",
              "1        55  ...                        0.00\n",
              "2        53  ...                        0.00\n",
              "3        52  ...                        0.00\n",
              "4        51  ...                        0.00\n",
              "\n",
              "[5 rows x 16 columns]"
            ]
          },
          "metadata": {
            "tags": []
          },
          "execution_count": 44
        }
      ]
    },
    {
      "cell_type": "code",
      "metadata": {
        "colab": {
          "base_uri": "https://localhost:8080/"
        },
        "id": "OLXFR0_1Q-_j",
        "outputId": "a7548c0a-971c-4dac-e07c-859d7129133b"
      },
      "source": [
        "df.columns[2:]"
      ],
      "execution_count": null,
      "outputs": [
        {
          "output_type": "execute_result",
          "data": {
            "text/plain": [
              "Index(['Total_Cropland(Ha)', 'Total_Pastureland(Ha)', 'Total_Forestland(Ha)',\n",
              "       'Low_Damage_Cropland(Ha)', 'Moderate_Damage_Cropland(Ha)',\n",
              "       'High_Damage_Cropland(Ha)', 'Low_Damage_Pastureland(Ha)',\n",
              "       'Moderate_Damage_Pastureland(Ha)', 'High_Damage_Pastureland(Ha)',\n",
              "       'Low_Damage_Forestland(Ha)', 'Moderate_Damage_Forestland(Ha)',\n",
              "       'High_Damage_Forestland(Ha)'],\n",
              "      dtype='object')"
            ]
          },
          "metadata": {
            "tags": []
          },
          "execution_count": 10
        }
      ]
    },
    {
      "cell_type": "code",
      "metadata": {
        "colab": {
          "base_uri": "https://localhost:8080/",
          "height": 255
        },
        "id": "BQ_DSI7aOhBl",
        "outputId": "26c4d166-0487-4a3a-af2a-ca159d87b8b6"
      },
      "source": [
        "#grouping the data by county\r\n",
        "county_df = pd.DataFrame(df.groupby('County')[df.columns[3:]].sum())\r\n",
        "county_df.head()"
      ],
      "execution_count": 45,
      "outputs": [
        {
          "output_type": "execute_result",
          "data": {
            "text/html": [
              "<div>\n",
              "<style scoped>\n",
              "    .dataframe tbody tr th:only-of-type {\n",
              "        vertical-align: middle;\n",
              "    }\n",
              "\n",
              "    .dataframe tbody tr th {\n",
              "        vertical-align: top;\n",
              "    }\n",
              "\n",
              "    .dataframe thead th {\n",
              "        text-align: right;\n",
              "    }\n",
              "</style>\n",
              "<table border=\"1\" class=\"dataframe\">\n",
              "  <thead>\n",
              "    <tr style=\"text-align: right;\">\n",
              "      <th></th>\n",
              "      <th>Total_Cropland(Ha)</th>\n",
              "      <th>Total_Pastureland(Ha)</th>\n",
              "      <th>Total_Forestland(Ha)</th>\n",
              "      <th>Low_Damage_Cropland(Ha)</th>\n",
              "      <th>Moderate_Damage_Cropland(Ha)</th>\n",
              "      <th>High_Damage_Cropland(Ha)</th>\n",
              "      <th>Low_Damage_Pastureland(Ha)</th>\n",
              "      <th>Moderate_Damage_Pastureland(Ha)</th>\n",
              "      <th>High_Damage_Pastureland(Ha)</th>\n",
              "      <th>Low_Damage_Forestland(Ha)</th>\n",
              "      <th>Moderate_Damage_Forestland(Ha)</th>\n",
              "      <th>High_Damage_Forestland(Ha)</th>\n",
              "    </tr>\n",
              "    <tr>\n",
              "      <th>County</th>\n",
              "      <th></th>\n",
              "      <th></th>\n",
              "      <th></th>\n",
              "      <th></th>\n",
              "      <th></th>\n",
              "      <th></th>\n",
              "      <th></th>\n",
              "      <th></th>\n",
              "      <th></th>\n",
              "      <th></th>\n",
              "      <th></th>\n",
              "      <th></th>\n",
              "    </tr>\n",
              "  </thead>\n",
              "  <tbody>\n",
              "    <tr>\n",
              "      <th>Baringo</th>\n",
              "      <td>74.33</td>\n",
              "      <td>188.42</td>\n",
              "      <td>483.95</td>\n",
              "      <td>72.56</td>\n",
              "      <td>1.77</td>\n",
              "      <td>0.00</td>\n",
              "      <td>179.26</td>\n",
              "      <td>9.16</td>\n",
              "      <td>0.00</td>\n",
              "      <td>445.21</td>\n",
              "      <td>38.74</td>\n",
              "      <td>0.00</td>\n",
              "    </tr>\n",
              "    <tr>\n",
              "      <th>Garissa</th>\n",
              "      <td>5.14</td>\n",
              "      <td>11.66</td>\n",
              "      <td>1.11</td>\n",
              "      <td>4.00</td>\n",
              "      <td>1.14</td>\n",
              "      <td>0.00</td>\n",
              "      <td>11.59</td>\n",
              "      <td>0.07</td>\n",
              "      <td>0.00</td>\n",
              "      <td>1.11</td>\n",
              "      <td>0.00</td>\n",
              "      <td>0.00</td>\n",
              "    </tr>\n",
              "    <tr>\n",
              "      <th>Isiolo</th>\n",
              "      <td>11.47</td>\n",
              "      <td>3949.88</td>\n",
              "      <td>1523.83</td>\n",
              "      <td>11.44</td>\n",
              "      <td>0.03</td>\n",
              "      <td>0.00</td>\n",
              "      <td>3932.47</td>\n",
              "      <td>17.41</td>\n",
              "      <td>0.00</td>\n",
              "      <td>1508.39</td>\n",
              "      <td>15.40</td>\n",
              "      <td>0.04</td>\n",
              "    </tr>\n",
              "    <tr>\n",
              "      <th>Kericho</th>\n",
              "      <td>132.90</td>\n",
              "      <td>0.00</td>\n",
              "      <td>0.28</td>\n",
              "      <td>100.99</td>\n",
              "      <td>31.91</td>\n",
              "      <td>0.00</td>\n",
              "      <td>0.00</td>\n",
              "      <td>0.00</td>\n",
              "      <td>0.00</td>\n",
              "      <td>0.28</td>\n",
              "      <td>0.00</td>\n",
              "      <td>0.00</td>\n",
              "    </tr>\n",
              "    <tr>\n",
              "      <th>Kirinyaga</th>\n",
              "      <td>3.54</td>\n",
              "      <td>21.81</td>\n",
              "      <td>267.09</td>\n",
              "      <td>2.86</td>\n",
              "      <td>0.51</td>\n",
              "      <td>0.17</td>\n",
              "      <td>16.60</td>\n",
              "      <td>3.74</td>\n",
              "      <td>1.47</td>\n",
              "      <td>180.88</td>\n",
              "      <td>60.26</td>\n",
              "      <td>25.95</td>\n",
              "    </tr>\n",
              "  </tbody>\n",
              "</table>\n",
              "</div>"
            ],
            "text/plain": [
              "           Total_Cropland(Ha)  ...  High_Damage_Forestland(Ha)\n",
              "County                         ...                            \n",
              "Baringo                 74.33  ...                        0.00\n",
              "Garissa                  5.14  ...                        0.00\n",
              "Isiolo                  11.47  ...                        0.04\n",
              "Kericho                132.90  ...                        0.00\n",
              "Kirinyaga                3.54  ...                       25.95\n",
              "\n",
              "[5 rows x 12 columns]"
            ]
          },
          "metadata": {
            "tags": []
          },
          "execution_count": 45
        }
      ]
    },
    {
      "cell_type": "code",
      "metadata": {
        "colab": {
          "base_uri": "https://localhost:8080/",
          "height": 255
        },
        "id": "jGRMJ719Og6h",
        "outputId": "444a6656-3fd6-472b-8e86-288502b57817"
      },
      "source": [
        "#calculating the total vegetation damage per county\r\n",
        "county_df['Total_Damage(Ha)'] = county_df['Total_Cropland(Ha)'] + county_df['Total_Pastureland(Ha)'] + county_df['High_Damage_Cropland(Ha)'] + county_df['Total_Forestland(Ha)']\r\n",
        "county_df.head()"
      ],
      "execution_count": null,
      "outputs": [
        {
          "output_type": "execute_result",
          "data": {
            "text/html": [
              "<div>\n",
              "<style scoped>\n",
              "    .dataframe tbody tr th:only-of-type {\n",
              "        vertical-align: middle;\n",
              "    }\n",
              "\n",
              "    .dataframe tbody tr th {\n",
              "        vertical-align: top;\n",
              "    }\n",
              "\n",
              "    .dataframe thead th {\n",
              "        text-align: right;\n",
              "    }\n",
              "</style>\n",
              "<table border=\"1\" class=\"dataframe\">\n",
              "  <thead>\n",
              "    <tr style=\"text-align: right;\">\n",
              "      <th></th>\n",
              "      <th>Total_Cropland(Ha)</th>\n",
              "      <th>Total_Pastureland(Ha)</th>\n",
              "      <th>Total_Forestland(Ha)</th>\n",
              "      <th>Low_Damage_Cropland(Ha)</th>\n",
              "      <th>Moderate_Damage_Cropland(Ha)</th>\n",
              "      <th>High_Damage_Cropland(Ha)</th>\n",
              "      <th>Low_Damage_Pastureland(Ha)</th>\n",
              "      <th>Moderate_Damage_Pastureland(Ha)</th>\n",
              "      <th>High_Damage_Pastureland(Ha)</th>\n",
              "      <th>Low_Damage_Forestland(Ha)</th>\n",
              "      <th>Moderate_Damage_Forestland(Ha)</th>\n",
              "      <th>High_Damage_Forestland(Ha)</th>\n",
              "      <th>Total_Damage(Ha)</th>\n",
              "    </tr>\n",
              "    <tr>\n",
              "      <th>County</th>\n",
              "      <th></th>\n",
              "      <th></th>\n",
              "      <th></th>\n",
              "      <th></th>\n",
              "      <th></th>\n",
              "      <th></th>\n",
              "      <th></th>\n",
              "      <th></th>\n",
              "      <th></th>\n",
              "      <th></th>\n",
              "      <th></th>\n",
              "      <th></th>\n",
              "      <th></th>\n",
              "    </tr>\n",
              "  </thead>\n",
              "  <tbody>\n",
              "    <tr>\n",
              "      <th>Baringo</th>\n",
              "      <td>74.33</td>\n",
              "      <td>188.42</td>\n",
              "      <td>483.95</td>\n",
              "      <td>72.56</td>\n",
              "      <td>1.77</td>\n",
              "      <td>0.00</td>\n",
              "      <td>179.26</td>\n",
              "      <td>9.16</td>\n",
              "      <td>0.00</td>\n",
              "      <td>445.21</td>\n",
              "      <td>38.74</td>\n",
              "      <td>0.00</td>\n",
              "      <td>746.70</td>\n",
              "    </tr>\n",
              "    <tr>\n",
              "      <th>Garissa</th>\n",
              "      <td>5.14</td>\n",
              "      <td>11.66</td>\n",
              "      <td>1.11</td>\n",
              "      <td>4.00</td>\n",
              "      <td>1.14</td>\n",
              "      <td>0.00</td>\n",
              "      <td>11.59</td>\n",
              "      <td>0.07</td>\n",
              "      <td>0.00</td>\n",
              "      <td>1.11</td>\n",
              "      <td>0.00</td>\n",
              "      <td>0.00</td>\n",
              "      <td>17.91</td>\n",
              "    </tr>\n",
              "    <tr>\n",
              "      <th>Isiolo</th>\n",
              "      <td>11.47</td>\n",
              "      <td>4005.30</td>\n",
              "      <td>1552.62</td>\n",
              "      <td>11.44</td>\n",
              "      <td>0.03</td>\n",
              "      <td>0.00</td>\n",
              "      <td>3987.89</td>\n",
              "      <td>17.41</td>\n",
              "      <td>0.00</td>\n",
              "      <td>1537.08</td>\n",
              "      <td>15.50</td>\n",
              "      <td>0.04</td>\n",
              "      <td>5569.39</td>\n",
              "    </tr>\n",
              "    <tr>\n",
              "      <th>Kericho</th>\n",
              "      <td>132.90</td>\n",
              "      <td>0.00</td>\n",
              "      <td>0.28</td>\n",
              "      <td>100.99</td>\n",
              "      <td>31.91</td>\n",
              "      <td>0.00</td>\n",
              "      <td>0.00</td>\n",
              "      <td>0.00</td>\n",
              "      <td>0.00</td>\n",
              "      <td>0.28</td>\n",
              "      <td>0.00</td>\n",
              "      <td>0.00</td>\n",
              "      <td>133.18</td>\n",
              "    </tr>\n",
              "    <tr>\n",
              "      <th>Kirinyaga</th>\n",
              "      <td>3.54</td>\n",
              "      <td>21.81</td>\n",
              "      <td>267.09</td>\n",
              "      <td>2.86</td>\n",
              "      <td>0.51</td>\n",
              "      <td>0.17</td>\n",
              "      <td>16.60</td>\n",
              "      <td>3.74</td>\n",
              "      <td>1.47</td>\n",
              "      <td>180.88</td>\n",
              "      <td>60.26</td>\n",
              "      <td>25.95</td>\n",
              "      <td>292.61</td>\n",
              "    </tr>\n",
              "  </tbody>\n",
              "</table>\n",
              "</div>"
            ],
            "text/plain": [
              "           Total_Cropland(Ha)  ...  Total_Damage(Ha)\n",
              "County                         ...                  \n",
              "Baringo                 74.33  ...            746.70\n",
              "Garissa                  5.14  ...             17.91\n",
              "Isiolo                  11.47  ...           5569.39\n",
              "Kericho                132.90  ...            133.18\n",
              "Kirinyaga                3.54  ...            292.61\n",
              "\n",
              "[5 rows x 13 columns]"
            ]
          },
          "metadata": {
            "tags": []
          },
          "execution_count": 12
        }
      ]
    },
    {
      "cell_type": "code",
      "metadata": {
        "colab": {
          "base_uri": "https://localhost:8080/",
          "height": 255
        },
        "id": "-zyza0gLULnj",
        "outputId": "a183e4de-9eb6-4e00-a4f3-6e4d6ba8a2d4"
      },
      "source": [
        "# sorting the dataframe by total damage\r\n",
        "county_df = county_df.sort_values('Total_Damage(Ha)', ascending = False)\r\n",
        "county_df.head()"
      ],
      "execution_count": null,
      "outputs": [
        {
          "output_type": "execute_result",
          "data": {
            "text/html": [
              "<div>\n",
              "<style scoped>\n",
              "    .dataframe tbody tr th:only-of-type {\n",
              "        vertical-align: middle;\n",
              "    }\n",
              "\n",
              "    .dataframe tbody tr th {\n",
              "        vertical-align: top;\n",
              "    }\n",
              "\n",
              "    .dataframe thead th {\n",
              "        text-align: right;\n",
              "    }\n",
              "</style>\n",
              "<table border=\"1\" class=\"dataframe\">\n",
              "  <thead>\n",
              "    <tr style=\"text-align: right;\">\n",
              "      <th></th>\n",
              "      <th>Total_Cropland(Ha)</th>\n",
              "      <th>Total_Pastureland(Ha)</th>\n",
              "      <th>Total_Forestland(Ha)</th>\n",
              "      <th>Low_Damage_Cropland(Ha)</th>\n",
              "      <th>Moderate_Damage_Cropland(Ha)</th>\n",
              "      <th>High_Damage_Cropland(Ha)</th>\n",
              "      <th>Low_Damage_Pastureland(Ha)</th>\n",
              "      <th>Moderate_Damage_Pastureland(Ha)</th>\n",
              "      <th>High_Damage_Pastureland(Ha)</th>\n",
              "      <th>Low_Damage_Forestland(Ha)</th>\n",
              "      <th>Moderate_Damage_Forestland(Ha)</th>\n",
              "      <th>High_Damage_Forestland(Ha)</th>\n",
              "      <th>Total_Damage(Ha)</th>\n",
              "    </tr>\n",
              "    <tr>\n",
              "      <th>County</th>\n",
              "      <th></th>\n",
              "      <th></th>\n",
              "      <th></th>\n",
              "      <th></th>\n",
              "      <th></th>\n",
              "      <th></th>\n",
              "      <th></th>\n",
              "      <th></th>\n",
              "      <th></th>\n",
              "      <th></th>\n",
              "      <th></th>\n",
              "      <th></th>\n",
              "      <th></th>\n",
              "    </tr>\n",
              "  </thead>\n",
              "  <tbody>\n",
              "    <tr>\n",
              "      <th>Turkana</th>\n",
              "      <td>1060.39</td>\n",
              "      <td>17006.93</td>\n",
              "      <td>1225.71</td>\n",
              "      <td>1013.13</td>\n",
              "      <td>47.19</td>\n",
              "      <td>0.07</td>\n",
              "      <td>16951.92</td>\n",
              "      <td>54.95</td>\n",
              "      <td>0.06</td>\n",
              "      <td>1178.10</td>\n",
              "      <td>47.56</td>\n",
              "      <td>0.05</td>\n",
              "      <td>19293.10</td>\n",
              "    </tr>\n",
              "    <tr>\n",
              "      <th>Marsabit</th>\n",
              "      <td>115.39</td>\n",
              "      <td>11261.17</td>\n",
              "      <td>1526.41</td>\n",
              "      <td>114.48</td>\n",
              "      <td>0.91</td>\n",
              "      <td>0.00</td>\n",
              "      <td>10844.58</td>\n",
              "      <td>415.32</td>\n",
              "      <td>1.27</td>\n",
              "      <td>1402.31</td>\n",
              "      <td>123.65</td>\n",
              "      <td>0.45</td>\n",
              "      <td>12902.97</td>\n",
              "    </tr>\n",
              "    <tr>\n",
              "      <th>Samburu</th>\n",
              "      <td>67.31</td>\n",
              "      <td>6356.51</td>\n",
              "      <td>2206.25</td>\n",
              "      <td>66.85</td>\n",
              "      <td>0.46</td>\n",
              "      <td>0.00</td>\n",
              "      <td>6323.57</td>\n",
              "      <td>32.90</td>\n",
              "      <td>0.04</td>\n",
              "      <td>2162.20</td>\n",
              "      <td>44.01</td>\n",
              "      <td>0.04</td>\n",
              "      <td>8630.07</td>\n",
              "    </tr>\n",
              "    <tr>\n",
              "      <th>Isiolo</th>\n",
              "      <td>11.47</td>\n",
              "      <td>4005.30</td>\n",
              "      <td>1552.62</td>\n",
              "      <td>11.44</td>\n",
              "      <td>0.03</td>\n",
              "      <td>0.00</td>\n",
              "      <td>3987.89</td>\n",
              "      <td>17.41</td>\n",
              "      <td>0.00</td>\n",
              "      <td>1537.08</td>\n",
              "      <td>15.50</td>\n",
              "      <td>0.04</td>\n",
              "      <td>5569.39</td>\n",
              "    </tr>\n",
              "    <tr>\n",
              "      <th>Laikipia</th>\n",
              "      <td>2387.70</td>\n",
              "      <td>1206.33</td>\n",
              "      <td>627.60</td>\n",
              "      <td>1654.59</td>\n",
              "      <td>723.87</td>\n",
              "      <td>9.24</td>\n",
              "      <td>1044.47</td>\n",
              "      <td>160.78</td>\n",
              "      <td>1.08</td>\n",
              "      <td>479.58</td>\n",
              "      <td>145.62</td>\n",
              "      <td>2.40</td>\n",
              "      <td>4230.87</td>\n",
              "    </tr>\n",
              "  </tbody>\n",
              "</table>\n",
              "</div>"
            ],
            "text/plain": [
              "          Total_Cropland(Ha)  ...  Total_Damage(Ha)\n",
              "County                        ...                  \n",
              "Turkana              1060.39  ...          19293.10\n",
              "Marsabit              115.39  ...          12902.97\n",
              "Samburu                67.31  ...           8630.07\n",
              "Isiolo                 11.47  ...           5569.39\n",
              "Laikipia             2387.70  ...           4230.87\n",
              "\n",
              "[5 rows x 13 columns]"
            ]
          },
          "metadata": {
            "tags": []
          },
          "execution_count": 33
        }
      ]
    },
    {
      "cell_type": "code",
      "metadata": {
        "colab": {
          "base_uri": "https://localhost:8080/"
        },
        "id": "pwIf04E8g1O5",
        "outputId": "cb8251e7-1bbb-47b8-8d87-24a0ab47f956"
      },
      "source": [
        "county_df.dtypes"
      ],
      "execution_count": null,
      "outputs": [
        {
          "output_type": "execute_result",
          "data": {
            "text/plain": [
              "Total_Cropland(Ha)                 float64\n",
              "Total_Pastureland(Ha)              float64\n",
              "Total_Forestland(Ha)               float64\n",
              "Low_Damage_Cropland(Ha)            float64\n",
              "Moderate_Damage_Cropland(Ha)       float64\n",
              "High_Damage_Cropland(Ha)           float64\n",
              "Low_Damage_Pastureland(Ha)         float64\n",
              "Moderate_Damage_Pastureland(Ha)    float64\n",
              "High_Damage_Pastureland(Ha)        float64\n",
              "Low_Damage_Forestland(Ha)          float64\n",
              "Moderate_Damage_Forestland(Ha)     float64\n",
              "High_Damage_Forestland(Ha)         float64\n",
              "Total_Damage(Ha)                   float64\n",
              "dtype: object"
            ]
          },
          "metadata": {
            "tags": []
          },
          "execution_count": 34
        }
      ]
    },
    {
      "cell_type": "markdown",
      "metadata": {
        "id": "U6OESOyBWvgR"
      },
      "source": [
        "**Distribution of vegetation loss in the counties categorized by vegatation class**"
      ]
    },
    {
      "cell_type": "code",
      "metadata": {
        "colab": {
          "base_uri": "https://localhost:8080/",
          "height": 470
        },
        "id": "iKRNTLQOeUBh",
        "outputId": "93db8ca6-f0e3-4d2d-a4af-39bdfe120c5c"
      },
      "source": [
        "#color map for the vegetation classes\r\n",
        "labels = {0:'Cropland', 1:'Pastureland', 2:'Forestland'}\r\n",
        "colors = {0:'orange', 1:'springgreen',2:'forestgreen'}\r\n",
        "patches = [ mpatches.Patch(color=colors[i], label=f'{labels[i]}') for i in range(len(labels)) ]\r\n",
        "\r\n",
        "# sorting the dataframe by total damage\r\n",
        "county_df = county_df.sort_values('Total_Damage(Ha)', ascending = True)\r\n",
        "\r\n",
        "# creating a stacked bar plot visualization\r\n",
        "fig,ax = plt.subplots(figsize = (12,6))\r\n",
        "ax.barh(y= county_df.index,width =  county_df['Total_Cropland(Ha)'].values,height = 0.8, color = 'orange')\r\n",
        "ax.barh(y = county_df.index, width = county_df['Total_Pastureland(Ha)'],height = 0.8, left =county_df['Total_Cropland(Ha)'].values,color = 'springgreen')\r\n",
        "ax.barh(y = county_df.index, width = county_df['Total_Forestland(Ha)'].values,height = 0.8, left =county_df['Total_Pastureland(Ha)'].values,color = 'forestgreen')\r\n",
        "\r\n",
        "ax.set_xticks(np.arange(0,22000,2000))\r\n",
        "ax.set_yticks(np.arange(len(county_df.index)))\r\n",
        "\r\n",
        "#labelling the figure\r\n",
        "plt.title('Total Area(Hectares) where NDVI reduction was observed categorized by vegetation class ')\r\n",
        "plt.xlabel(' Area in Hectares')\r\n",
        "plt.ylabel('County')\r\n",
        "#ax.xaxis.grid()\r\n",
        "\r\n",
        "#creating a legend\r\n",
        "plt.legend(handles=patches, bbox_to_anchor=(0.4, -0.15), loc=2, borderaxespad=0. )\r\n",
        "\r\n",
        "#plt.savefig('/content/drive/My Drive/Omdena Project/Visualizations_Damage_Assessment/Vegetation_class_dist.png', dpi=200, bbox_inches='tight', pad_inches=0.7)\r\n",
        "plt.show();"
      ],
      "execution_count": null,
      "outputs": [
        {
          "output_type": "display_data",
          "data": {
            "image/png": "[encoded data removed]",
            "text/plain": [
              "<Figure size 864x432 with 1 Axes>"
            ]
          },
          "metadata": {
            "tags": [],
            "needs_background": "light"
          }
        }
      ]
    },
    {
      "cell_type": "markdown",
      "metadata": {
        "id": "9LHZJPL2pxl8"
      },
      "source": [
        "**Which Vegetation Class was affected the most?**"
      ]
    },
    {
      "cell_type": "code",
      "metadata": {
        "colab": {
          "base_uri": "https://localhost:8080/"
        },
        "id": "EXgnxJQr4e3n",
        "outputId": "bda4dc35-a394-4999-aef2-1fe7fe65c04e"
      },
      "source": [
        "county_df['Total_Cropland(Ha)'].sum(),county_df['Total_Pastureland(Ha)'].sum(),county_df['Total_Forestland(Ha)'].sum()"
      ],
      "execution_count": null,
      "outputs": [
        {
          "output_type": "execute_result",
          "data": {
            "text/plain": [
              "(4492.57, 40636.88000000001, 8597.21)"
            ]
          },
          "metadata": {
            "tags": []
          },
          "execution_count": 40
        }
      ]
    },
    {
      "cell_type": "code",
      "metadata": {
        "colab": {
          "base_uri": "https://localhost:8080/"
        },
        "id": "xKMKOy-S4hh9",
        "outputId": "c52e18e8-56b0-4ef3-db93-57e50a27dec4"
      },
      "source": [
        "county_df['Total_Cropland(Ha)'].sum()+ county_df['Total_Pastureland(Ha)'].sum()+county_df['Total_Forestland(Ha)'].sum()"
      ],
      "execution_count": null,
      "outputs": [
        {
          "output_type": "execute_result",
          "data": {
            "text/plain": [
              "53726.66000000001"
            ]
          },
          "metadata": {
            "tags": []
          },
          "execution_count": 41
        }
      ]
    },
    {
      "cell_type": "code",
      "metadata": {
        "colab": {
          "base_uri": "https://localhost:8080/",
          "height": 266
        },
        "id": "eO3bAn07pw6P",
        "outputId": "d6567647-e856-490e-d01e-b860504e06eb"
      },
      "source": [
        "#labels\r\n",
        "labels = ['Cropland','Pastureland','Forestland']\r\n",
        "#the summation for all affected areas \r\n",
        "total_area = [county_df['Total_Cropland(Ha)'].sum(),county_df['Total_Pastureland(Ha)'].sum(),county_df['Total_Forestland(Ha)'].sum()]\r\n",
        "explode = (0, 0.1, 0)  # only \"explode\" the 2nd slice \r\n",
        "#plotting the piechart\r\n",
        "fig1, ax1 = plt.subplots()\r\n",
        "ax1.pie(total_area, explode=explode, labels=labels, autopct='%1.1f%%',\r\n",
        "        shadow=False,colors= ['orange','springgreen','forestgreen'], startangle=90)\r\n",
        "ax1.axis('equal')  # Equal aspect ratio ensures that pie is drawn as a circle.\r\n",
        "\r\n",
        "plt.title('Distribution of NDVI Reduction Across Vegetation Classes')\r\n",
        "#plt.savefig('/content/drive/My Drive/Omdena Project/Visualizations_Damage_Assessment/pie_chart.png', dpi=200, bbox_inches='tight', pad_inches=0.7)\r\n",
        "plt.show();"
      ],
      "execution_count": null,
      "outputs": [
        {
          "output_type": "display_data",
          "data": {
            "image/png": "[encoded data removed]",
            "text/plain": [
              "<Figure size 432x288 with 1 Axes>"
            ]
          },
          "metadata": {
            "tags": []
          }
        }
      ]
    },
    {
      "cell_type": "markdown",
      "metadata": {
        "id": "RIppJmZ9pjZ-"
      },
      "source": [
        "**Assessing the Degree of Damage for Cropland**"
      ]
    },
    {
      "cell_type": "code",
      "metadata": {
        "colab": {
          "base_uri": "https://localhost:8080/",
          "height": 470
        },
        "id": "hJVCBlOzTLPK",
        "outputId": "692d5822-aec0-4ce8-acd6-ad4e3d6832ed"
      },
      "source": [
        "#color map for the degree of damage\r\n",
        "labels = {0:'Low Damage', 1:'Moderate Damage', 2:'High Damage'}\r\n",
        "colors = {0:'lightcoral', 1:'brown',2:'red'}\r\n",
        "patches = [ mpatches.Patch(color=colors[i], label=f'{labels[i]}') for i in range(len(labels)) ]\r\n",
        "\r\n",
        "# sorting the dataframe by total damage\r\n",
        "county_df = county_df.sort_values('Low_Damage_Cropland(Ha)', ascending = True)\r\n",
        "\r\n",
        "# creating a stacked bar plot visualization\r\n",
        "fig = plt.figure(figsize = (12,6))\r\n",
        "plt.barh(county_df.index, county_df['Low_Damage_Cropland(Ha)'],height = 0.8, color = 'lightcoral')\r\n",
        "plt.barh(county_df.index, county_df['Moderate_Damage_Cropland(Ha)'],height = 0.8, left =county_df['Low_Damage_Cropland(Ha)'],color = 'brown')\r\n",
        "plt.barh(county_df.index, county_df['High_Damage_Cropland(Ha)'],height = 0.8, left =county_df['Moderate_Damage_Cropland(Ha)'],color = 'red')\r\n",
        "\r\n",
        "#labelling the figure\r\n",
        "plt.title('Total Area(Hectares) where NDVI reduction in Cropland was observed categorized by Degree of Damage ')\r\n",
        "plt.xlabel(' Area in Hectares')\r\n",
        "plt.ylabel('County')\r\n",
        "\r\n",
        "#creating a legend\r\n",
        "plt.legend(handles=patches, bbox_to_anchor=(0.4, -0.15), loc=2, borderaxespad=0. )\r\n",
        "\r\n",
        "#plt.savefig('/content/drive/My Drive/Omdena Project/Visualizations_Damage_Assessment/crop_damage.png', dpi=200, bbox_inches='tight', pad_inches=0.7)\r\n",
        "plt.show();"
      ],
      "execution_count": null,
      "outputs": [
        {
          "output_type": "display_data",
          "data": {
            "image/png": "[encoded data removed]",
            "text/plain": [
              "<Figure size 864x432 with 1 Axes>"
            ]
          },
          "metadata": {
            "tags": [],
            "needs_background": "light"
          }
        }
      ]
    },
    {
      "cell_type": "code",
      "metadata": {
        "colab": {
          "base_uri": "https://localhost:8080/"
        },
        "id": "eXWnLPzpkn34",
        "outputId": "49fab975-5c9d-46a7-c10b-780e2c2497cb"
      },
      "source": [
        " Total_Degree_Crop = [county_df['Low_Damage_Cropland(Ha)'].sum(), county_df['Moderate_Damage_Cropland(Ha)'].sum(), county_df['High_Damage_Cropland(Ha)'].sum()]\r\n",
        " Total_Degree_Crop"
      ],
      "execution_count": null,
      "outputs": [
        {
          "output_type": "execute_result",
          "data": {
            "text/plain": [
              "[3580.0599999999995, 902.51, 10.0]"
            ]
          },
          "metadata": {
            "tags": []
          },
          "execution_count": 73
        }
      ]
    },
    {
      "cell_type": "code",
      "metadata": {
        "colab": {
          "base_uri": "https://localhost:8080/",
          "height": 345
        },
        "id": "MEC-enUJkn34",
        "outputId": "ef35f076-0a8c-4c5e-b125-a960f0a2e4b7"
      },
      "source": [
        "#labels\r\n",
        "labels = ['Low Damage','Moderate Damage','High Damage']\r\n",
        "\r\n",
        "explode = (0.1, 0, 0)  # only \"explode\" the 2nd slice \r\n",
        "#plotting the piechart\r\n",
        "fig1, ax1 = plt.subplots()\r\n",
        "ax1.pie(Total_Degree_Crop, explode=explode, labels=labels, autopct='%1.1f%%',\r\n",
        "        shadow=False,labeldistance = None, colors= ['lightcoral','brown','red'], startangle=90)\r\n",
        "ax1.axis('equal')  # Equal aspect ratio ensures that pie is drawn as a circle.\r\n",
        "\r\n",
        "plt.title('Distribution of Degree of Damage on Cropland using NDVI')\r\n",
        "\r\n",
        "plt.legend(handles=patches, bbox_to_anchor=(0.4, -0.15), loc=2, borderaxespad=0. )\r\n",
        "\r\n",
        "#plt.savefig('/content/drive/My Drive/Omdena Project/Visualizations_Damage_Assessment/degree_damage_pie_chart.png', dpi=200, bbox_inches='tight', pad_inches=0.7)\r\n",
        "plt.show();"
      ],
      "execution_count": null,
      "outputs": [
        {
          "output_type": "display_data",
          "data": {
            "image/png": "[encoded data removed]",
            "text/plain": [
              "<Figure size 432x288 with 1 Axes>"
            ]
          },
          "metadata": {
            "tags": []
          }
        }
      ]
    },
    {
      "cell_type": "markdown",
      "metadata": {
        "id": "2KONfOwoezbs"
      },
      "source": [
        "**Assessing the Degree of Damage for Pastureland**"
      ]
    },
    {
      "cell_type": "code",
      "metadata": {
        "colab": {
          "base_uri": "https://localhost:8080/",
          "height": 470
        },
        "id": "uMynl-MDgHIr",
        "outputId": "92042898-f26c-461c-a234-b84babcf21a3"
      },
      "source": [
        "#color map for the degree of damage\r\n",
        "labels = {0:'Low Damage', 1:'Moderate Damage', 2:'High Damage'}\r\n",
        "colors = {0:'lightcoral', 1:'brown',2:'red'}\r\n",
        "patches = [ mpatches.Patch(color=colors[i], label=f'{labels[i]}') for i in range(len(labels)) ]\r\n",
        "\r\n",
        "# sorting the dataframe by total damage\r\n",
        "county_df = county_df.sort_values('Low_Damage_Pastureland(Ha)', ascending = True)\r\n",
        "\r\n",
        "# creating a stacked bar plot visualization\r\n",
        "fig = plt.figure(figsize = (12,6))\r\n",
        "plt.barh(county_df.index, county_df['Low_Damage_Pastureland(Ha)'],height = 0.8, color = 'lightcoral')\r\n",
        "plt.barh(county_df.index, county_df['Moderate_Damage_Pastureland(Ha)'],height = 0.8, left =county_df['Low_Damage_Pastureland(Ha)'],color = 'brown')\r\n",
        "plt.barh(county_df.index, county_df['High_Damage_Pastureland(Ha)'],height = 0.8, left =county_df['Moderate_Damage_Pastureland(Ha)'],color = 'red')\r\n",
        "\r\n",
        "#labelling the figure\r\n",
        "plt.title('Total Area(Hectares) where NDVI reduction in Pastureland was observed categorized by Degree of Damage ')\r\n",
        "plt.xlabel(' Area in Hectares')\r\n",
        "plt.ylabel('County')\r\n",
        "\r\n",
        "#creating a legend\r\n",
        "plt.legend(handles=patches, bbox_to_anchor=(0.4, -0.15), loc=2, borderaxespad=0. )\r\n",
        "\r\n",
        "plt.savefig('/content/drive/My Drive/Omdena Project/Visualizations_Damage_Assessment/Pastureland_Damage.png', dpi=200, bbox_inches='tight', pad_inches=0.7)\r\n",
        "plt.show();"
      ],
      "execution_count": null,
      "outputs": [
        {
          "output_type": "display_data",
          "data": {
            "image/png": "[encoded data removed]",
            "text/plain": [
              "<Figure size 864x432 with 1 Axes>"
            ]
          },
          "metadata": {
            "tags": [],
            "needs_background": "light"
          }
        }
      ]
    },
    {
      "cell_type": "code",
      "metadata": {
        "colab": {
          "base_uri": "https://localhost:8080/"
        },
        "id": "RLUuZu68hZmQ",
        "outputId": "a2252bdd-fd8c-4270-f32a-7db6fa6a37b7"
      },
      "source": [
        " Total_Degree_Pasture = [county_df['Low_Damage_Pastureland(Ha)'].sum(), county_df['Moderate_Damage_Pastureland(Ha)'].sum(), county_df['High_Damage_Pastureland(Ha)'].sum()]\r\n",
        " Total_Degree_Pasture"
      ],
      "execution_count": null,
      "outputs": [
        {
          "output_type": "execute_result",
          "data": {
            "text/plain": [
              "[39933.27, 699.6700000000001, 3.94]"
            ]
          },
          "metadata": {
            "tags": []
          },
          "execution_count": 75
        }
      ]
    },
    {
      "cell_type": "code",
      "metadata": {
        "colab": {
          "base_uri": "https://localhost:8080/",
          "height": 345
        },
        "id": "sGtldID-hZmX",
        "outputId": "72bdda43-aeb9-4f24-c275-7a24ad68bae9"
      },
      "source": [
        "#labels\r\n",
        "labels = ['Low Damage','Moderate Damage','High Damage']\r\n",
        "\r\n",
        "explode = (0.1, 0, 0)  # only \"explode\" the 2nd slice \r\n",
        "#plotting the piechart\r\n",
        "fig1, ax1 = plt.subplots()\r\n",
        "ax1.pie(Total_Degree_Pasture, explode=explode, labels=labels, autopct='%1.1f%%',\r\n",
        "        shadow=False,labeldistance = None,colors= ['lightcoral','brown','red'], startangle=90)\r\n",
        "ax1.axis('equal')  # Equal aspect ratio ensures that pie is drawn as a circle.\r\n",
        "\r\n",
        "plt.title('Distribution of Degree of Damage on Pastureland using NDVI')\r\n",
        "\r\n",
        "plt.legend(handles=patches, bbox_to_anchor=(0.4, -0.15), loc=2, borderaxespad=0. )\r\n",
        "\r\n",
        "#plt.savefig('/content/drive/My Drive/Omdena Project/Visualizations_Damage_Assessment/degree_damage_pie_chart.png', dpi=200, bbox_inches='tight', pad_inches=0.7)\r\n",
        "plt.show();"
      ],
      "execution_count": null,
      "outputs": [
        {
          "output_type": "display_data",
          "data": {
            "image/png": "[encoded data removed]",
            "text/plain": [
              "<Figure size 432x288 with 1 Axes>"
            ]
          },
          "metadata": {
            "tags": []
          }
        }
      ]
    },
    {
      "cell_type": "markdown",
      "metadata": {
        "id": "DRCOmz2IetPF"
      },
      "source": [
        "**Assessing the Degree of Damage for Forestland**"
      ]
    },
    {
      "cell_type": "code",
      "metadata": {
        "colab": {
          "base_uri": "https://localhost:8080/",
          "height": 470
        },
        "id": "RsSfPj_ZgGpf",
        "outputId": "eb5aadd2-bc28-4240-a6e9-2b614832c875"
      },
      "source": [
        "\r\n",
        "# sorting the dataframe by total damage\r\n",
        "county_df = county_df.sort_values('Low_Damage_Forestland(Ha)', ascending = True)\r\n",
        "\r\n",
        "# creating a stacked bar plot visualization\r\n",
        "fig = plt.figure(figsize = (12,6))\r\n",
        "plt.barh(county_df.index, county_df['Low_Damage_Forestland(Ha)'],height = 0.8, color = 'lightcoral')\r\n",
        "plt.barh(county_df.index, county_df['Moderate_Damage_Forestland(Ha)'],height = 0.8, left =county_df['Low_Damage_Forestland(Ha)'],color = 'brown')\r\n",
        "plt.barh(county_df.index, county_df['High_Damage_Forestland(Ha)'],height = 0.8, left =county_df['Moderate_Damage_Forestland(Ha)'],color = 'red')\r\n",
        "\r\n",
        "#labelling the figure\r\n",
        "plt.title('Total Area(Hectares) where NDVI reduction in Forestland was observed categorized by Degree of Damage ')\r\n",
        "plt.xlabel(' Area in Hectares')\r\n",
        "plt.ylabel('County')\r\n",
        "\r\n",
        "#creating a legend\r\n",
        "plt.legend(handles=patches, bbox_to_anchor=(0.4, -0.15), loc=2, borderaxespad=0. )\r\n",
        "\r\n",
        "plt.savefig('/content/drive/My Drive/Omdena Project/Visualizations_Damage_Assessment/Forestland_Damage.png', dpi=200, bbox_inches='tight', pad_inches=0.7)\r\n",
        "plt.show();"
      ],
      "execution_count": null,
      "outputs": [
        {
          "output_type": "display_data",
          "data": {
            "image/png": "[encoded data removed]",
            "text/plain": [
              "<Figure size 864x432 with 1 Axes>"
            ]
          },
          "metadata": {
            "tags": [],
            "needs_background": "light"
          }
        }
      ]
    },
    {
      "cell_type": "code",
      "metadata": {
        "colab": {
          "base_uri": "https://localhost:8080/"
        },
        "id": "3H4XSyUngZr8",
        "outputId": "3f97d65e-2405-4063-e271-960564ba7ff2"
      },
      "source": [
        " Total_Degree_Forest = [county_df['Low_Damage_Forestland(Ha)'].sum(), county_df['Moderate_Damage_Forestland(Ha)'].sum(), county_df['High_Damage_Forestland(Ha)'].sum()]\r\n",
        " Total_Degree_Forest"
      ],
      "execution_count": null,
      "outputs": [
        {
          "output_type": "execute_result",
          "data": {
            "text/plain": [
              "[8089.55, 478.71999999999997, 28.939999999999998]"
            ]
          },
          "metadata": {
            "tags": []
          },
          "execution_count": 79
        }
      ]
    },
    {
      "cell_type": "code",
      "metadata": {
        "colab": {
          "base_uri": "https://localhost:8080/",
          "height": 345
        },
        "id": "5aqioBspg6HD",
        "outputId": "cb637dfc-9d43-4447-9565-5d5df7aa8c8d"
      },
      "source": [
        "#labels\r\n",
        "labels = ['Low Damage','Moderate Damage','High Damage']\r\n",
        "\r\n",
        "explode = (0.1, 0, 0)  # only \"explode\" the 2nd slice \r\n",
        "#plotting the piechart\r\n",
        "fig1, ax1 = plt.subplots()\r\n",
        "ax1.pie(Total_Degree_Forest, explode=explode, labels=labels, autopct='%1.1f%%',\r\n",
        "        shadow=False,labeldistance = None,colors= ['lightcoral','brown','red'], startangle=90)\r\n",
        "ax1.axis('equal')  # Equal aspect ratio ensures that pie is drawn as a circle.\r\n",
        "\r\n",
        "plt.title('Distribution of Degree of Damage on Forestland using NDVI')\r\n",
        "#creating a legend\r\n",
        "\r\n",
        "plt.legend(handles=patches, bbox_to_anchor=(0.4, -0.15), loc=2, borderaxespad=0. )\r\n",
        "\r\n",
        "#plt.savefig('/content/drive/My Drive/Omdena Project/Visualizations_Damage_Assessment/degree_damage_pie_chart.png', dpi=200, bbox_inches='tight', pad_inches=0.7)\r\n",
        "plt.show();"
      ],
      "execution_count": null,
      "outputs": [
        {
          "output_type": "display_data",
          "data": {
            "image/png": "[encoded data removed]",
            "text/plain": [
              "<Figure size 432x288 with 1 Axes>"
            ]
          },
          "metadata": {
            "tags": []
          }
        }
      ]
    },
    {
      "cell_type": "markdown",
      "metadata": {
        "id": "pKpmA8Dss-qS"
      },
      "source": [
        "**Assessing the Degree of Damage for all vegetation Classes**"
      ]
    },
    {
      "cell_type": "code",
      "metadata": {
        "colab": {
          "base_uri": "https://localhost:8080/"
        },
        "id": "fq-_3i8HrWGR",
        "outputId": "3397b52a-485a-4598-96c1-fe3663aef197"
      },
      "source": [
        "#Getting the total damage per on vegetation\r\n",
        "Total_Low_Damage = county_df['Low_Damage_Cropland(Ha)'].sum() + county_df['Low_Damage_Pastureland(Ha)'].sum() + county_df['Low_Damage_Forestland(Ha)'].sum()\r\n",
        "Total_Moderate_Damage = county_df['Moderate_Damage_Cropland(Ha)'].sum() + county_df['Moderate_Damage_Pastureland(Ha)'].sum() + county_df['Moderate_Damage_Forestland(Ha)'].sum()\r\n",
        "Total_High_Damage = county_df['High_Damage_Cropland(Ha)'].sum() + county_df['High_Damage_Pastureland(Ha)'].sum() + county_df['High_Damage_Forestland(Ha)'].sum()\r\n",
        "Total_Degree = [Total_Low_Damage,Total_Moderate_Damage,Total_High_Damage]\r\n",
        "Total_Degree"
      ],
      "execution_count": null,
      "outputs": [
        {
          "output_type": "execute_result",
          "data": {
            "text/plain": [
              "[51602.880000000005, 2080.8999999999996, 42.879999999999995]"
            ]
          },
          "metadata": {
            "tags": []
          },
          "execution_count": 13
        }
      ]
    },
    {
      "cell_type": "code",
      "metadata": {
        "colab": {
          "base_uri": "https://localhost:8080/",
          "height": 345
        },
        "id": "Q94zm5nDtDyf",
        "outputId": "30f82e13-96ff-433f-bce7-6c3d503ca392"
      },
      "source": [
        "#labels\r\n",
        "labels = ['Low Damage','Moderate Damage','High Damage']\r\n",
        "\r\n",
        "explode = (0, 0.1, 0)  # only \"explode\" the 2nd slice \r\n",
        "\r\n",
        "#plotting the piechart\r\n",
        "fig1, ax1 = plt.subplots()\r\n",
        "ax1.pie(Total_Degree, explode=explode, labels=labels, autopct='%1.1f%%',pctdistance = 0.5,counterclock = True,\r\n",
        "        shadow=False,colors= ['lightcoral','brown','red'],labeldistance = 1.05,rotatelabels = False, startangle=90)\r\n",
        "ax1.axis('equal')  # Equal aspect ratio ensures that pie is drawn as a circle.\r\n",
        "\r\n",
        "plt.title('Distribution of Degree of Damage Using NDVI Across all vegetation Classes')\r\n",
        "\r\n",
        "#creating a legend\r\n",
        "plt.legend(handles=patches, bbox_to_anchor=(0.4, -0.15), loc=2, borderaxespad=0. )\r\n",
        "\r\n",
        "#plt.savefig('/content/drive/My Drive/Omdena Project/Visualizations_Damage_Assessment/degree_damage_pie_chart.png', dpi=200, bbox_inches='tight', pad_inches=0.7)\r\n",
        "plt.show();"
      ],
      "execution_count": null,
      "outputs": [
        {
          "output_type": "display_data",
          "data": {
            "image/png": "[encoded data removed]",
            "text/plain": [
              "<Figure size 432x288 with 1 Axes>"
            ]
          },
          "metadata": {
            "tags": []
          }
        }
      ]
    },
    {
      "cell_type": "markdown",
      "metadata": {
        "id": "sW0gQWS4767W"
      },
      "source": [
        "**Visualizing the data using Plotly for better Interaction with the data.**"
      ]
    },
    {
      "cell_type": "code",
      "metadata": {
        "colab": {
          "base_uri": "https://localhost:8080/",
          "height": 142
        },
        "id": "Qt7i95oz0gEq",
        "outputId": "19887db2-208a-4f8d-9f9f-061466a96566"
      },
      "source": [
        "df = list(zip(labels,Total_Degree))\r\n",
        "df = pd.DataFrame(df,columns = ['Degree','Hectares(Ha)'])\r\n",
        "df"
      ],
      "execution_count": null,
      "outputs": [
        {
          "output_type": "execute_result",
          "data": {
            "text/html": [
              "<div>\n",
              "<style scoped>\n",
              "    .dataframe tbody tr th:only-of-type {\n",
              "        vertical-align: middle;\n",
              "    }\n",
              "\n",
              "    .dataframe tbody tr th {\n",
              "        vertical-align: top;\n",
              "    }\n",
              "\n",
              "    .dataframe thead th {\n",
              "        text-align: right;\n",
              "    }\n",
              "</style>\n",
              "<table border=\"1\" class=\"dataframe\">\n",
              "  <thead>\n",
              "    <tr style=\"text-align: right;\">\n",
              "      <th></th>\n",
              "      <th>Degree</th>\n",
              "      <th>Hectares(Ha)</th>\n",
              "    </tr>\n",
              "  </thead>\n",
              "  <tbody>\n",
              "    <tr>\n",
              "      <th>0</th>\n",
              "      <td>Low Damage</td>\n",
              "      <td>51602.88</td>\n",
              "    </tr>\n",
              "    <tr>\n",
              "      <th>1</th>\n",
              "      <td>Moderate Damage</td>\n",
              "      <td>2080.90</td>\n",
              "    </tr>\n",
              "    <tr>\n",
              "      <th>2</th>\n",
              "      <td>High Damage</td>\n",
              "      <td>42.88</td>\n",
              "    </tr>\n",
              "  </tbody>\n",
              "</table>\n",
              "</div>"
            ],
            "text/plain": [
              "            Degree  Hectares(Ha)\n",
              "0       Low Damage      51602.88\n",
              "1  Moderate Damage       2080.90\n",
              "2      High Damage         42.88"
            ]
          },
          "metadata": {
            "tags": []
          },
          "execution_count": 18
        }
      ]
    },
    {
      "cell_type": "code",
      "metadata": {
        "colab": {
          "base_uri": "https://localhost:8080/",
          "height": 542
        },
        "id": "c8kIEotb41Db",
        "outputId": "004c233d-7af3-4d45-b9ce-b9d3a68ce17a"
      },
      "source": [
        "fig = px.pie(df,names='Degree',values = 'Hectares(Ha)',color = 'Degree',title = 'Distribution of Degree of Damage Using SAVI Index',color_discrete_sequence=px.colors.sequential.RdBu)\r\n",
        "fig.show();"
      ],
      "execution_count": null,
      "outputs": [
        {
          "output_type": "display_data",
          "data": {
            "text/html": [
              "<html>\n",
              "<head><meta charset=\"utf-8\" /></head>\n",
              "<body>\n",
              "    <div>\n",
              "            <script src=\"https://cdnjs.cloudflare.com/ajax/libs/mathjax/2.7.5/MathJax.js?config=TeX-AMS-MML_SVG\"></script><script type=\"text/javascript\">if (window.MathJax) {MathJax.Hub.Config({SVG: {font: \"STIX-Web\"}});}</script>\n",
              "                <script type=\"text/javascript\">window.PlotlyConfig = {MathJaxConfig: 'local'};</script>\n",
              "        <script src=\"https://cdn.plot.ly/plotly-latest.min.js\"></script>    \n",
              "            <div id=\"0fb5ed7a-695e-418b-8777-72b4c913a7c2\" class=\"plotly-graph-div\" style=\"height:525px; width:100%;\"></div>\n",
              "            <script type=\"text/javascript\">\n",
              "                \n",
              "                    window.PLOTLYENV=window.PLOTLYENV || {};\n",
              "                    \n",
              "                if (document.getElementById(\"0fb5ed7a-695e-418b-8777-72b4c913a7c2\")) {\n",
              "                    Plotly.newPlot(\n",
              "                        '0fb5ed7a-695e-418b-8777-72b4c913a7c2',\n",
              "                        [{\"customdata\": [[\"Low Damage\"], [\"Moderate Damage\"], [\"High Damage\"]], \"domain\": {\"x\": [0.0, 1.0], \"y\": [0.0, 1.0]}, \"hoverlabel\": {\"namelength\": 0}, \"hovertemplate\": \"Degree=%{label}<br>Hectares(Ha)=%{value}\", \"labels\": [\"Low Damage\", \"Moderate Damage\", \"High Damage\"], \"legendgroup\": \"\", \"marker\": {\"colors\": [\"rgb(103,0,31)\", \"rgb(178,24,43)\", \"rgb(214,96,77)\"]}, \"name\": \"\", \"showlegend\": true, \"type\": \"pie\", \"values\": [51602.880000000005, 2080.8999999999996, 42.879999999999995]}],\n",
              "                        {\"legend\": {\"tracegroupgap\": 0}, \"piecolorway\": [\"rgb(103,0,31)\", \"rgb(178,24,43)\", \"rgb(214,96,77)\", \"rgb(244,165,130)\", \"rgb(253,219,199)\", \"rgb(247,247,247)\", \"rgb(209,229,240)\", \"rgb(146,197,222)\", \"rgb(67,147,195)\", \"rgb(33,102,172)\", \"rgb(5,48,97)\"], \"template\": {\"data\": {\"bar\": [{\"error_x\": {\"color\": \"#2a3f5f\"}, \"error_y\": {\"color\": \"#2a3f5f\"}, \"marker\": {\"line\": {\"color\": \"#E5ECF6\", \"width\": 0.5}}, \"type\": \"bar\"}], \"barpolar\": [{\"marker\": {\"line\": {\"color\": \"#E5ECF6\", \"width\": 0.5}}, \"type\": \"barpolar\"}], \"carpet\": [{\"aaxis\": {\"endlinecolor\": \"#2a3f5f\", \"gridcolor\": \"white\", \"linecolor\": \"white\", \"minorgridcolor\": \"white\", \"startlinecolor\": \"#2a3f5f\"}, \"baxis\": {\"endlinecolor\": \"#2a3f5f\", \"gridcolor\": \"white\", \"linecolor\": \"white\", \"minorgridcolor\": \"white\", \"startlinecolor\": \"#2a3f5f\"}, \"type\": \"carpet\"}], \"choropleth\": [{\"colorbar\": {\"outlinewidth\": 0, \"ticks\": \"\"}, \"type\": \"choropleth\"}], \"contour\": [{\"colorbar\": {\"outlinewidth\": 0, \"ticks\": \"\"}, \"colorscale\": [[0.0, \"#0d0887\"], [0.1111111111111111, \"#46039f\"], [0.2222222222222222, \"#7201a8\"], [0.3333333333333333, \"#9c179e\"], [0.4444444444444444, \"#bd3786\"], [0.5555555555555556, \"#d8576b\"], [0.6666666666666666, \"#ed7953\"], [0.7777777777777778, \"#fb9f3a\"], [0.8888888888888888, \"#fdca26\"], [1.0, \"#f0f921\"]], \"type\": \"contour\"}], \"contourcarpet\": [{\"colorbar\": {\"outlinewidth\": 0, \"ticks\": \"\"}, \"type\": \"contourcarpet\"}], \"heatmap\": [{\"colorbar\": {\"outlinewidth\": 0, \"ticks\": \"\"}, \"colorscale\": [[0.0, \"#0d0887\"], [0.1111111111111111, \"#46039f\"], [0.2222222222222222, \"#7201a8\"], [0.3333333333333333, \"#9c179e\"], [0.4444444444444444, \"#bd3786\"], [0.5555555555555556, \"#d8576b\"], [0.6666666666666666, \"#ed7953\"], [0.7777777777777778, \"#fb9f3a\"], [0.8888888888888888, \"#fdca26\"], [1.0, \"#f0f921\"]], \"type\": \"heatmap\"}], \"heatmapgl\": [{\"colorbar\": {\"outlinewidth\": 0, \"ticks\": \"\"}, \"colorscale\": [[0.0, \"#0d0887\"], [0.1111111111111111, \"#46039f\"], [0.2222222222222222, \"#7201a8\"], [0.3333333333333333, \"#9c179e\"], [0.4444444444444444, \"#bd3786\"], [0.5555555555555556, \"#d8576b\"], [0.6666666666666666, \"#ed7953\"], [0.7777777777777778, \"#fb9f3a\"], [0.8888888888888888, \"#fdca26\"], [1.0, \"#f0f921\"]], \"type\": \"heatmapgl\"}], \"histogram\": [{\"marker\": {\"colorbar\": {\"outlinewidth\": 0, \"ticks\": \"\"}}, \"type\": \"histogram\"}], \"histogram2d\": [{\"colorbar\": {\"outlinewidth\": 0, \"ticks\": \"\"}, \"colorscale\": [[0.0, \"#0d0887\"], [0.1111111111111111, \"#46039f\"], [0.2222222222222222, \"#7201a8\"], [0.3333333333333333, \"#9c179e\"], [0.4444444444444444, \"#bd3786\"], [0.5555555555555556, \"#d8576b\"], [0.6666666666666666, \"#ed7953\"], [0.7777777777777778, \"#fb9f3a\"], [0.8888888888888888, \"#fdca26\"], [1.0, \"#f0f921\"]], \"type\": \"histogram2d\"}], \"histogram2dcontour\": [{\"colorbar\": {\"outlinewidth\": 0, \"ticks\": \"\"}, \"colorscale\": [[0.0, \"#0d0887\"], [0.1111111111111111, \"#46039f\"], [0.2222222222222222, \"#7201a8\"], [0.3333333333333333, \"#9c179e\"], [0.4444444444444444, \"#bd3786\"], [0.5555555555555556, \"#d8576b\"], [0.6666666666666666, \"#ed7953\"], [0.7777777777777778, \"#fb9f3a\"], [0.8888888888888888, \"#fdca26\"], [1.0, \"#f0f921\"]], \"type\": \"histogram2dcontour\"}], \"mesh3d\": [{\"colorbar\": {\"outlinewidth\": 0, \"ticks\": \"\"}, \"type\": \"mesh3d\"}], \"parcoords\": [{\"line\": {\"colorbar\": {\"outlinewidth\": 0, \"ticks\": \"\"}}, \"type\": \"parcoords\"}], \"pie\": [{\"automargin\": true, \"type\": \"pie\"}], \"scatter\": [{\"marker\": {\"colorbar\": {\"outlinewidth\": 0, \"ticks\": \"\"}}, \"type\": \"scatter\"}], \"scatter3d\": [{\"line\": {\"colorbar\": {\"outlinewidth\": 0, \"ticks\": \"\"}}, \"marker\": {\"colorbar\": {\"outlinewidth\": 0, \"ticks\": \"\"}}, \"type\": \"scatter3d\"}], \"scattercarpet\": [{\"marker\": {\"colorbar\": {\"outlinewidth\": 0, \"ticks\": \"\"}}, \"type\": \"scattercarpet\"}], \"scattergeo\": [{\"marker\": {\"colorbar\": {\"outlinewidth\": 0, \"ticks\": \"\"}}, \"type\": \"scattergeo\"}], \"scattergl\": [{\"marker\": {\"colorbar\": {\"outlinewidth\": 0, \"ticks\": \"\"}}, \"type\": \"scattergl\"}], \"scattermapbox\": [{\"marker\": {\"colorbar\": {\"outlinewidth\": 0, \"ticks\": \"\"}}, \"type\": \"scattermapbox\"}], \"scatterpolar\": [{\"marker\": {\"colorbar\": {\"outlinewidth\": 0, \"ticks\": \"\"}}, \"type\": \"scatterpolar\"}], \"scatterpolargl\": [{\"marker\": {\"colorbar\": {\"outlinewidth\": 0, \"ticks\": \"\"}}, \"type\": \"scatterpolargl\"}], \"scatterternary\": [{\"marker\": {\"colorbar\": {\"outlinewidth\": 0, \"ticks\": \"\"}}, \"type\": \"scatterternary\"}], \"surface\": [{\"colorbar\": {\"outlinewidth\": 0, \"ticks\": \"\"}, \"colorscale\": [[0.0, \"#0d0887\"], [0.1111111111111111, \"#46039f\"], [0.2222222222222222, \"#7201a8\"], [0.3333333333333333, \"#9c179e\"], [0.4444444444444444, \"#bd3786\"], [0.5555555555555556, \"#d8576b\"], [0.6666666666666666, \"#ed7953\"], [0.7777777777777778, \"#fb9f3a\"], [0.8888888888888888, \"#fdca26\"], [1.0, \"#f0f921\"]], \"type\": \"surface\"}], \"table\": [{\"cells\": {\"fill\": {\"color\": \"#EBF0F8\"}, \"line\": {\"color\": \"white\"}}, \"header\": {\"fill\": {\"color\": \"#C8D4E3\"}, \"line\": {\"color\": \"white\"}}, \"type\": \"table\"}]}, \"layout\": {\"annotationdefaults\": {\"arrowcolor\": \"#2a3f5f\", \"arrowhead\": 0, \"arrowwidth\": 1}, \"coloraxis\": {\"colorbar\": {\"outlinewidth\": 0, \"ticks\": \"\"}}, \"colorscale\": {\"diverging\": [[0, \"#8e0152\"], [0.1, \"#c51b7d\"], [0.2, \"#de77ae\"], [0.3, \"#f1b6da\"], [0.4, \"#fde0ef\"], [0.5, \"#f7f7f7\"], [0.6, \"#e6f5d0\"], [0.7, \"#b8e186\"], [0.8, \"#7fbc41\"], [0.9, \"#4d9221\"], [1, \"#276419\"]], \"sequential\": [[0.0, \"#0d0887\"], [0.1111111111111111, \"#46039f\"], [0.2222222222222222, \"#7201a8\"], [0.3333333333333333, \"#9c179e\"], [0.4444444444444444, \"#bd3786\"], [0.5555555555555556, \"#d8576b\"], [0.6666666666666666, \"#ed7953\"], [0.7777777777777778, \"#fb9f3a\"], [0.8888888888888888, \"#fdca26\"], [1.0, \"#f0f921\"]], \"sequentialminus\": [[0.0, \"#0d0887\"], [0.1111111111111111, \"#46039f\"], [0.2222222222222222, \"#7201a8\"], [0.3333333333333333, \"#9c179e\"], [0.4444444444444444, \"#bd3786\"], [0.5555555555555556, \"#d8576b\"], [0.6666666666666666, \"#ed7953\"], [0.7777777777777778, \"#fb9f3a\"], [0.8888888888888888, \"#fdca26\"], [1.0, \"#f0f921\"]]}, \"colorway\": [\"#636efa\", \"#EF553B\", \"#00cc96\", \"#ab63fa\", \"#FFA15A\", \"#19d3f3\", \"#FF6692\", \"#B6E880\", \"#FF97FF\", \"#FECB52\"], \"font\": {\"color\": \"#2a3f5f\"}, \"geo\": {\"bgcolor\": \"white\", \"lakecolor\": \"white\", \"landcolor\": \"#E5ECF6\", \"showlakes\": true, \"showland\": true, \"subunitcolor\": \"white\"}, \"hoverlabel\": {\"align\": \"left\"}, \"hovermode\": \"closest\", \"mapbox\": {\"style\": \"light\"}, \"paper_bgcolor\": \"white\", \"plot_bgcolor\": \"#E5ECF6\", \"polar\": {\"angularaxis\": {\"gridcolor\": \"white\", \"linecolor\": \"white\", \"ticks\": \"\"}, \"bgcolor\": \"#E5ECF6\", \"radialaxis\": {\"gridcolor\": \"white\", \"linecolor\": \"white\", \"ticks\": \"\"}}, \"scene\": {\"xaxis\": {\"backgroundcolor\": \"#E5ECF6\", \"gridcolor\": \"white\", \"gridwidth\": 2, \"linecolor\": \"white\", \"showbackground\": true, \"ticks\": \"\", \"zerolinecolor\": \"white\"}, \"yaxis\": {\"backgroundcolor\": \"#E5ECF6\", \"gridcolor\": \"white\", \"gridwidth\": 2, \"linecolor\": \"white\", \"showbackground\": true, \"ticks\": \"\", \"zerolinecolor\": \"white\"}, \"zaxis\": {\"backgroundcolor\": \"#E5ECF6\", \"gridcolor\": \"white\", \"gridwidth\": 2, \"linecolor\": \"white\", \"showbackground\": true, \"ticks\": \"\", \"zerolinecolor\": \"white\"}}, \"shapedefaults\": {\"line\": {\"color\": \"#2a3f5f\"}}, \"ternary\": {\"aaxis\": {\"gridcolor\": \"white\", \"linecolor\": \"white\", \"ticks\": \"\"}, \"baxis\": {\"gridcolor\": \"white\", \"linecolor\": \"white\", \"ticks\": \"\"}, \"bgcolor\": \"#E5ECF6\", \"caxis\": {\"gridcolor\": \"white\", \"linecolor\": \"white\", \"ticks\": \"\"}}, \"title\": {\"x\": 0.05}, \"xaxis\": {\"automargin\": true, \"gridcolor\": \"white\", \"linecolor\": \"white\", \"ticks\": \"\", \"title\": {\"standoff\": 15}, \"zerolinecolor\": \"white\", \"zerolinewidth\": 2}, \"yaxis\": {\"automargin\": true, \"gridcolor\": \"white\", \"linecolor\": \"white\", \"ticks\": \"\", \"title\": {\"standoff\": 15}, \"zerolinecolor\": \"white\", \"zerolinewidth\": 2}}}, \"title\": {\"text\": \"Distribution of Degree of Damage Using SAVI Index\"}},\n",
              "                        {\"responsive\": true}\n",
              "                    ).then(function(){\n",
              "                            \n",
              "var gd = document.getElementById('0fb5ed7a-695e-418b-8777-72b4c913a7c2');\n",
              "var x = new MutationObserver(function (mutations, observer) {{\n",
              "        var display = window.getComputedStyle(gd).display;\n",
              "        if (!display || display === 'none') {{\n",
              "            console.log([gd, 'removed!']);\n",
              "            Plotly.purge(gd);\n",
              "            observer.disconnect();\n",
              "        }}\n",
              "}});\n",
              "\n",
              "// Listen for the removal of the full notebook cells\n",
              "var notebookContainer = gd.closest('#notebook-container');\n",
              "if (notebookContainer) {{\n",
              "    x.observe(notebookContainer, {childList: true});\n",
              "}}\n",
              "\n",
              "// Listen for the clearing of the current output cell\n",
              "var outputEl = gd.closest('.output');\n",
              "if (outputEl) {{\n",
              "    x.observe(outputEl, {childList: true});\n",
              "}}\n",
              "\n",
              "                        })\n",
              "                };\n",
              "                \n",
              "            </script>\n",
              "        </div>\n",
              "</body>\n",
              "</html>"
            ]
          },
          "metadata": {
            "tags": []
          }
        }
      ]
    },
    {
      "cell_type": "code",
      "metadata": {
        "id": "KdlUwhbR7ZNG"
      },
      "source": [
        "color_discrete_map = {'Low Damage': 'lightcoral',\r\n",
        "                                   'Moderate Damage': 'brown',\r\n",
        "                                   'High Damage': 'red'}"
      ],
      "execution_count": null,
      "outputs": []
    },
    {
      "cell_type": "markdown",
      "metadata": {
        "id": "IkK5fdLL1lnv"
      },
      "source": [
        "### **Assumptions/Caveat**\r\n",
        "1. The analysis did not consider the harvesting cycles and the effect it had on the NDVI difference.\r\n",
        "2. The before and after images were taken with a maximum time differene of 15 days apart. Therefore, the assumption is that the time difference is too short for seasonal changes in vegetation to affect the vegetation indices.\r\n",
        "3. In some pixels, increase in vegetation indices were observed in the after images.\r\n"
      ]
    },
    {
      "cell_type": "markdown",
      "metadata": {
        "id": "xTPVuAKxzpmY"
      },
      "source": [
        "### **Results**\r\n",
        "1. The total area of land with a reduction of NDVI observed after the Locust attacks was 53,726.66 Ha\r\n",
        "2. Pastureland had the highest reduction in NDVI accounting for 75.6% of the total area of land affected.\r\n",
        "3. From the graphs, in all the vegetation types, most of the damage was of a lower degree(An NDVI difference of less than 0.2.) with 96%.\r\n",
        "4. The most affected counties in terms of total area affected were:\r\n",
        "  1. Turkana - 19,293 Ha\r\n",
        "  2. Marsabit - 12,902.97 Ha\r\n",
        "  3. Samburu - 8,630.07 Ha"
      ]
    }
  ]
}