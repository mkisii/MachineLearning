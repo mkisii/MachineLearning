{
  "nbformat": 4,
  "nbformat_minor": 0,
  "metadata": {
    "accelerator": "GPU",
    "colab": {
      "name": "NDVI_for_all_points_with_LULC_map.ipynb",
      "provenance": [],
      "collapsed_sections": [],
      "toc_visible": true
    },
    "kernelspec": {
      "display_name": "Python 3",
      "name": "python3"
    }
  },
  "cells": [
    {
      "cell_type": "markdown",
      "metadata": {
        "id": "H2bc13eOPx6m"
      },
      "source": [
        "# Import Libraries and setup"
      ]
    },
    {
      "cell_type": "code",
      "metadata": {
        "colab": {
          "base_uri": "https://localhost:8080/"
        },
        "id": "xCu1S5vffW7X",
        "outputId": "5001d657-4b5d-41f7-b77e-2fe0ed75a5d6"
      },
      "source": [
        "from google.colab import drive\n",
        "drive.mount('/content/drive')"
      ],
      "execution_count": null,
      "outputs": [
        {
          "output_type": "stream",
          "text": [
            "Drive already mounted at /content/drive; to attempt to forcibly remount, call drive.mount(\"/content/drive\", force_remount=True).\n"
          ],
          "name": "stdout"
        }
      ]
    },
    {
      "cell_type": "code",
      "metadata": {
        "id": "HF2RpMuCiAh9"
      },
      "source": [
        "#suppressing output of the cell\n",
        "%%capture  \n",
        "#installing necessary dependencies\n",
        "!pip -q install geopandas\n",
        "!pip -q install geojson\n",
        "!pip -q install --upgrade folium\n",
        "!pip -q install geemap\n",
        "!pip -q install rasterio\n",
        "!pip -q install geopandas geojson geemap rasterio earthpy\n",
        "!pip -q install rioxarray\n",
        "!pip -q install matplotlib numpy"
      ],
      "execution_count": null,
      "outputs": []
    },
    {
      "cell_type": "code",
      "metadata": {
        "id": "P5ilWvZDiDBG"
      },
      "source": [
        "# importing libraries\n",
        "\n",
        "import rasterio as rio\n",
        "from matplotlib import pyplot as plt\n",
        "import matplotlib.gridspec as gridspec\n",
        "\n",
        "import os\n",
        "import json\n",
        "import requests\n",
        "import glob\n",
        "from pathlib import Path\n",
        "\n",
        "import geojson\n",
        "#import rioxarray as rxr\n",
        "from rasterio.plot import show\n",
        "import geopandas as gpd\n",
        "import ee\n",
        "import geemap\n",
        "import geemap.eefolium as emap\n",
        "import folium\n",
        "import earthpy.spatial as es\n",
        "import earthpy.plot as ep\n",
        "\n",
        "from rasterio.plot import show_hist\n",
        "\n",
        "import matplotlib.image as mpimg\n",
        "%matplotlib inline\n",
        "from matplotlib import pyplot\n",
        "import numpy as np\n",
        "import pandas as pd\n",
        "from scipy import stats\n",
        "from functools import reduce\n",
        "import gc \n",
        "from IPython.display import display\n",
        "\n",
        "from  IPython.core.interactiveshell import InteractiveShell\n",
        "InteractiveShell.ast_node_interactivity = \"all\"\n",
        "\n",
        "from rasterio.plot import show\n",
        "from sklearn import cluster\n",
        "import matplotlib.colors as mc\n",
        "import cv2\n",
        "from PIL import Image\n",
        "import matplotlib.gridspec as grid\n",
        "import tensorflow as tf"
      ],
      "execution_count": null,
      "outputs": []
    },
    {
      "cell_type": "markdown",
      "metadata": {
        "id": "ay_qssyTOgNz"
      },
      "source": [
        "# Save before_ndvi, latitude and longitude of all 'before' TIF images"
      ]
    },
    {
      "cell_type": "code",
      "metadata": {
        "id": "a3n92BJ1GqhP"
      },
      "source": [
        "def ProcessAllImages(cluster_folder): #cluster_folder is actually link to all images TIF folder\r\n",
        "\r\n",
        "  # list of names all images in the given path\r\n",
        "  ids = next(os.walk(cluster_folder))[2] \r\n",
        "  print(\"No. of images in folder = \", len(ids))\r\n",
        "\r\n",
        "  cluster_data = Path(cluster_folder)\r\n",
        "  #the png images are stored in the paths list\r\n",
        "  cluster_data = glob.glob(os.path.join(cluster_data,'*.tif'))\r\n",
        "\r\n",
        "  df = pd.DataFrame(columns=['img', 'before_ndvi', 'lat', 'long'])\r\n",
        "\r\n",
        "  #loop through all files in the cluster\r\n",
        "  for i in range(len(cluster_data)):\r\n",
        "\r\n",
        "    bf_tif = cluster_data[i]\r\n",
        "\r\n",
        "    #loop through all files\r\n",
        "    if os.path.isfile(bf_tif):\r\n",
        "      raster = rio.open(bf_tif)\r\n",
        "      bottom = raster.bounds[1]\r\n",
        "      right = raster.bounds[2]\r\n",
        "      df = df.append({'img':cluster_data[i], 'before_ndvi':raster.read(17), 'lat':right,'long':bottom},ignore_index = True)\r\n",
        "      \r\n",
        "    #end of if (that the tif images exist)\r\n",
        "    else:\r\n",
        "      print(bf_tif+\" not found!\")\r\n",
        "\r\n",
        "  #end of loop through all images\r\n",
        "  #print(df)\r\n",
        "  return df"
      ],
      "execution_count": null,
      "outputs": []
    },
    {
      "cell_type": "code",
      "metadata": {
        "colab": {
          "base_uri": "https://localhost:8080/"
        },
        "id": "oVda9pLrIP-y",
        "outputId": "b23349d0-54de-49cb-9628-02d0efa07df8"
      },
      "source": [
        "df = ProcessAllImages('drive/My Drive/kenya_aoi_old/kenya_before/') #Location where all TIF images are stored\r\n",
        "df.to_csv('drive/My Drive/LULC_spectral_indices/lat_long_list_all.csv', sep=',', index=False) #CSV where I will save the latitude and longitude"
      ],
      "execution_count": null,
      "outputs": [
        {
          "output_type": "stream",
          "text": [
            "No. of images in folder =  259\n"
          ],
          "name": "stdout"
        }
      ]
    },
    {
      "cell_type": "markdown",
      "metadata": {
        "id": "4yc8YNBROmtT"
      },
      "source": [
        "# Load Kenya LULC 2019 map"
      ]
    },
    {
      "cell_type": "code",
      "metadata": {
        "colab": {
          "base_uri": "https://localhost:8080/"
        },
        "id": "J5ZSf5-cOeH2",
        "outputId": "8e690346-aeb7-4a9a-8660-21aa859752db"
      },
      "source": [
        "img = rio.open('drive/My Drive/LULC_spectral_indices/LandCoverClasses.tif')\r\n",
        "img.bounds"
      ],
      "execution_count": null,
      "outputs": [
        {
          "output_type": "execute_result",
          "data": {
            "text/plain": [
              "BoundingBox(left=33.992063492063444, bottom=-3.072420634920558, right=41.90575396825389, top=5.431547619047668)"
            ]
          },
          "metadata": {
            "tags": []
          },
          "execution_count": 29
        }
      ]
    },
    {
      "cell_type": "code",
      "metadata": {
        "colab": {
          "base_uri": "https://localhost:8080/"
        },
        "id": "A9ZgKzvgOssc",
        "outputId": "9aef0e13-e43f-45e1-b744-9d505fc27a45"
      },
      "source": [
        "print(img.meta)"
      ],
      "execution_count": null,
      "outputs": [
        {
          "output_type": "stream",
          "text": [
            "{'driver': 'GTiff', 'dtype': 'uint8', 'nodata': None, 'width': 7977, 'height': 8572, 'count': 1, 'crs': CRS.from_epsg(4326), 'transform': Affine(0.0009920634920634888, 0.0, 33.992063492063444,\n",
            "       0.0, -0.0009920634920634888, 5.431547619047668)}\n"
          ],
          "name": "stdout"
        }
      ]
    },
    {
      "cell_type": "markdown",
      "metadata": {
        "id": "dFxVVYNlOxeM"
      },
      "source": [
        "# Color coding of pixels with landcover type"
      ]
    },
    {
      "cell_type": "code",
      "metadata": {
        "colab": {
          "base_uri": "https://localhost:8080/",
          "height": 204
        },
        "id": "2UK7-POUWUTx",
        "outputId": "f32fbf46-e77f-45f1-ce77-77a4a7482d0b"
      },
      "source": [
        "df.head(5)"
      ],
      "execution_count": null,
      "outputs": [
        {
          "output_type": "execute_result",
          "data": {
            "text/html": [
              "<div>\n",
              "<style scoped>\n",
              "    .dataframe tbody tr th:only-of-type {\n",
              "        vertical-align: middle;\n",
              "    }\n",
              "\n",
              "    .dataframe tbody tr th {\n",
              "        vertical-align: top;\n",
              "    }\n",
              "\n",
              "    .dataframe thead th {\n",
              "        text-align: right;\n",
              "    }\n",
              "</style>\n",
              "<table border=\"1\" class=\"dataframe\">\n",
              "  <thead>\n",
              "    <tr style=\"text-align: right;\">\n",
              "      <th></th>\n",
              "      <th>img</th>\n",
              "      <th>before_ndvi</th>\n",
              "      <th>lat</th>\n",
              "      <th>long</th>\n",
              "    </tr>\n",
              "  </thead>\n",
              "  <tbody>\n",
              "    <tr>\n",
              "      <th>0</th>\n",
              "      <td>drive/My Drive/kenya_aoi_old/kenya_before/keny...</td>\n",
              "      <td>[[0.32280254, 0.2820258, 0.373996, 0.27328113,...</td>\n",
              "      <td>35.823197</td>\n",
              "      <td>2.131523</td>\n",
              "    </tr>\n",
              "    <tr>\n",
              "      <th>1</th>\n",
              "      <td>drive/My Drive/kenya_aoi_old/kenya_before/keny...</td>\n",
              "      <td>[[0.120995335, 0.124523506, 0.11989796, 0.1189...</td>\n",
              "      <td>36.357694</td>\n",
              "      <td>1.148227</td>\n",
              "    </tr>\n",
              "    <tr>\n",
              "      <th>2</th>\n",
              "      <td>drive/My Drive/kenya_aoi_old/kenya_before/keny...</td>\n",
              "      <td>[[0.19189219, 0.16877024, 0.15916057, 0.217007...</td>\n",
              "      <td>35.782683</td>\n",
              "      <td>2.182277</td>\n",
              "    </tr>\n",
              "    <tr>\n",
              "      <th>3</th>\n",
              "      <td>drive/My Drive/kenya_aoi_old/kenya_before/keny...</td>\n",
              "      <td>[[0.13162743, 0.11579785, 0.09753733, 0.112359...</td>\n",
              "      <td>35.810530</td>\n",
              "      <td>2.138440</td>\n",
              "    </tr>\n",
              "    <tr>\n",
              "      <th>4</th>\n",
              "      <td>drive/My Drive/kenya_aoi_old/kenya_before/keny...</td>\n",
              "      <td>[[0.2285907, 0.18232045, 0.21859267, 0.202995,...</td>\n",
              "      <td>35.774059</td>\n",
              "      <td>2.188386</td>\n",
              "    </tr>\n",
              "  </tbody>\n",
              "</table>\n",
              "</div>"
            ],
            "text/plain": [
              "                                                 img  ...      long\n",
              "0  drive/My Drive/kenya_aoi_old/kenya_before/keny...  ...  2.131523\n",
              "1  drive/My Drive/kenya_aoi_old/kenya_before/keny...  ...  1.148227\n",
              "2  drive/My Drive/kenya_aoi_old/kenya_before/keny...  ...  2.182277\n",
              "3  drive/My Drive/kenya_aoi_old/kenya_before/keny...  ...  2.138440\n",
              "4  drive/My Drive/kenya_aoi_old/kenya_before/keny...  ...  2.188386\n",
              "\n",
              "[5 rows x 4 columns]"
            ]
          },
          "metadata": {
            "tags": []
          },
          "execution_count": 31
        }
      ]
    },
    {
      "cell_type": "code",
      "metadata": {
        "collapsed": true,
        "id": "YHrE9zlIOwKH"
      },
      "source": [
        "#@title\n",
        "import csv\n",
        "#points = []\n",
        "colorCoding = { '0':'unknown',\n",
        "                '20':'shrubland',\n",
        "                '30':'herbaceous_vegetation',\n",
        "                '40':'cropland',\n",
        "                '50':'built-up',\n",
        "                '60':'bare_sparse_vegetation',\n",
        "                '70':'snow_ice',\n",
        "                '80':'permanent_inland_water',\n",
        "                '90':'herbaceous_wetland',\n",
        "                '100':'moss_lichen',\n",
        "                '111':'ENF_closed',\n",
        "                '112':'EBF_closed',\n",
        "                '113':'DNF_closed',\n",
        "                '114':'DBF_closed',\n",
        "                '115':'mixed _closed',\n",
        "                '116':'unknown_closed',\n",
        "                '121':'ENF_open',\n",
        "                '122':'EBF_open',\n",
        "                '123':'DNF_open',\n",
        "                '124':'DBF_open',\n",
        "                '125':'mixed _open',\n",
        "                '126':'unknown_open',\n",
        "                '200':'sea'}\n",
        "#with open(\"drive/My Drive/LULC_spectral_indices/lat_long_list_all.csv\") as inf:\n",
        "    #reader = csv.reader(inf)\n",
        "    #isHeading = False\n",
        "    #for row in reader:\n",
        "        #if isHeading:\n",
        "           # print(row)\n",
        "           # x = float(row[1]) #lat\n",
        "           # y = float(row[2]) #long\n",
        "           # print(x, y)\n",
        "           # points.append((x,y))  \n",
        "       # isHeading = True "
      ],
      "execution_count": null,
      "outputs": []
    },
    {
      "cell_type": "markdown",
      "metadata": {
        "id": "R28pAvSUO9PU"
      },
      "source": [
        "# Get pixel value & land cover type "
      ]
    },
    {
      "cell_type": "code",
      "metadata": {
        "colab": {
          "base_uri": "https://localhost:8080/"
        },
        "collapsed": true,
        "id": "OHQZbjDkPCIe",
        "outputId": "125827cc-9c52-4bf2-faae-9cd7b9318515"
      },
      "source": [
        "from osgeo import gdal\r\n",
        "import sys\r\n",
        "\r\n",
        "csv_loc = 'drive/My Drive/LULC_spectral_indices/lat_long_list_all.csv'\r\n",
        "lulc_map_loc = 'drive/My Drive/LULC_spectral_indices/LandCoverClasses.tif'\r\n",
        "\r\n",
        "# open the raster file\r\n",
        "ds = gdal.Open(lulc_map_loc)\r\n",
        "\r\n",
        "if ds is None:\r\n",
        "    print('Could not open the raster file')\r\n",
        "    sys.exit(1)\r\n",
        "else:\r\n",
        "    print('The raster file was opened satisfactorily')\r\n",
        "\r\n",
        "# get georeference info\r\n",
        "transform = ds.GetGeoTransform() \r\n",
        "xOrigin = transform[0]\r\n",
        "yOrigin = transform[3] \r\n",
        "pixelWidth = transform[1]\r\n",
        "pixelHeight = transform[5] \r\n",
        "\r\n",
        "band = ds.GetRasterBand(1) # 1-based index\r\n",
        "\r\n",
        "data = band.ReadAsArray()\r\n",
        "df_2 = pd.DataFrame(columns=['img', 'before_ndvi', 'lat', 'long', 'pixel_value', 'Landcover'])\r\n",
        "\r\n",
        "# loop through the coordinates\r\n",
        "\r\n",
        "for index, row in df.iterrows():\r\n",
        "    x = row['lat']\r\n",
        "    y = row['long']\r\n",
        "        \r\n",
        "    xOffset = int((x - xOrigin) / pixelWidth)\r\n",
        "    yOffset = int((y - yOrigin) / pixelHeight)\r\n",
        "\r\n",
        "  # get individual pixel values\r\n",
        "    value = data[yOffset][xOffset]\r\n",
        "    Landcover = colorCoding[str(value)]\r\n",
        "\r\n",
        "    df_2 = df_2.append({'img':row['img'], 'before_ndvi': row['before_ndvi'], 'lat':row['lat'],'long':row['long'], 'pixel_value':value, 'Landcover':Landcover },ignore_index = True)\r\n",
        "   \r\n",
        "df_2.to_csv('drive/My Drive/LULC_spectral_indices/lat_long_list_all_landcover.csv', sep=',', index=False)\r\n",
        "\r\n",
        "\r\n",
        "# loop through the coordinates\r\n",
        "#with open(csv_loc, 'w', newline='') as outf:\r\n",
        "#    writer = csv.writer(outf)\r\n",
        "#    row_new = ['lat', 'long', 'pixel_value', 'label'] \r\n",
        " #   writer.writerow(row_new)\r\n",
        "#    for point in points:\r\n",
        "#        x = point[0]\r\n",
        "#        y = point[1]\r\n",
        "#\r\n",
        "#        xOffset = int((x - xOrigin) / pixelWidth)\r\n",
        "#        yOffset = int((y - yOrigin) / pixelHeight)\r\n",
        "        #print(xOffset)\r\n",
        "        #print(yOffset)\r\n",
        "        # get individual pixel values\r\n",
        " #       value = data[yOffset][xOffset]\r\n",
        "#        label = colorCoding[str(value)]\r\n",
        "        #print(value, label)\r\n",
        "        #row_new = [x, y, value, label]\r\n",
        "        #writer.writerow(row_new)\r\n",
        "\r\n",
        "#        df_2 = df_2.append({'img':cluster_data[i], 'lat':right,'long':bottom, 'pixel_value':value, 'label':label },ignore_index = True)\r\n",
        "#\r\n",
        "#df_2.to_csv('drive/My Drive/LULC_spectral_indices/lat_long_list_all_landcover.csv', sep=',', index=False)"
      ],
      "execution_count": null,
      "outputs": [
        {
          "output_type": "stream",
          "text": [
            "The raster file was opened satisfactorily\n"
          ],
          "name": "stdout"
        }
      ]
    },
    {
      "cell_type": "code",
      "metadata": {
        "colab": {
          "base_uri": "https://localhost:8080/",
          "height": 204
        },
        "id": "8g_1kkFcaLCG",
        "outputId": "17d12bd6-ed5c-4cd7-edf5-e0a1fb303e34"
      },
      "source": [
        "df_2.head(5)"
      ],
      "execution_count": null,
      "outputs": [
        {
          "output_type": "execute_result",
          "data": {
            "text/html": [
              "<div>\n",
              "<style scoped>\n",
              "    .dataframe tbody tr th:only-of-type {\n",
              "        vertical-align: middle;\n",
              "    }\n",
              "\n",
              "    .dataframe tbody tr th {\n",
              "        vertical-align: top;\n",
              "    }\n",
              "\n",
              "    .dataframe thead th {\n",
              "        text-align: right;\n",
              "    }\n",
              "</style>\n",
              "<table border=\"1\" class=\"dataframe\">\n",
              "  <thead>\n",
              "    <tr style=\"text-align: right;\">\n",
              "      <th></th>\n",
              "      <th>img</th>\n",
              "      <th>before_ndvi</th>\n",
              "      <th>lat</th>\n",
              "      <th>long</th>\n",
              "      <th>pixel_value</th>\n",
              "      <th>Landcover</th>\n",
              "    </tr>\n",
              "  </thead>\n",
              "  <tbody>\n",
              "    <tr>\n",
              "      <th>0</th>\n",
              "      <td>drive/My Drive/kenya_aoi_old/kenya_before/keny...</td>\n",
              "      <td>[[0.32280254, 0.2820258, 0.373996, 0.27328113,...</td>\n",
              "      <td>35.823197</td>\n",
              "      <td>2.131523</td>\n",
              "      <td>20</td>\n",
              "      <td>shrubland</td>\n",
              "    </tr>\n",
              "    <tr>\n",
              "      <th>1</th>\n",
              "      <td>drive/My Drive/kenya_aoi_old/kenya_before/keny...</td>\n",
              "      <td>[[0.120995335, 0.124523506, 0.11989796, 0.1189...</td>\n",
              "      <td>36.357694</td>\n",
              "      <td>1.148227</td>\n",
              "      <td>20</td>\n",
              "      <td>shrubland</td>\n",
              "    </tr>\n",
              "    <tr>\n",
              "      <th>2</th>\n",
              "      <td>drive/My Drive/kenya_aoi_old/kenya_before/keny...</td>\n",
              "      <td>[[0.19189219, 0.16877024, 0.15916057, 0.217007...</td>\n",
              "      <td>35.782683</td>\n",
              "      <td>2.182277</td>\n",
              "      <td>30</td>\n",
              "      <td>herbaceous_vegetation</td>\n",
              "    </tr>\n",
              "    <tr>\n",
              "      <th>3</th>\n",
              "      <td>drive/My Drive/kenya_aoi_old/kenya_before/keny...</td>\n",
              "      <td>[[0.13162743, 0.11579785, 0.09753733, 0.112359...</td>\n",
              "      <td>35.810530</td>\n",
              "      <td>2.138440</td>\n",
              "      <td>30</td>\n",
              "      <td>herbaceous_vegetation</td>\n",
              "    </tr>\n",
              "    <tr>\n",
              "      <th>4</th>\n",
              "      <td>drive/My Drive/kenya_aoi_old/kenya_before/keny...</td>\n",
              "      <td>[[0.2285907, 0.18232045, 0.21859267, 0.202995,...</td>\n",
              "      <td>35.774059</td>\n",
              "      <td>2.188386</td>\n",
              "      <td>30</td>\n",
              "      <td>herbaceous_vegetation</td>\n",
              "    </tr>\n",
              "  </tbody>\n",
              "</table>\n",
              "</div>"
            ],
            "text/plain": [
              "                                                 img  ...              Landcover\n",
              "0  drive/My Drive/kenya_aoi_old/kenya_before/keny...  ...              shrubland\n",
              "1  drive/My Drive/kenya_aoi_old/kenya_before/keny...  ...              shrubland\n",
              "2  drive/My Drive/kenya_aoi_old/kenya_before/keny...  ...  herbaceous_vegetation\n",
              "3  drive/My Drive/kenya_aoi_old/kenya_before/keny...  ...  herbaceous_vegetation\n",
              "4  drive/My Drive/kenya_aoi_old/kenya_before/keny...  ...  herbaceous_vegetation\n",
              "\n",
              "[5 rows x 6 columns]"
            ]
          },
          "metadata": {
            "tags": []
          },
          "execution_count": 101
        }
      ]
    },
    {
      "cell_type": "markdown",
      "metadata": {
        "id": "_mh1LDvyR8DR"
      },
      "source": [
        "# Start NDVI comparison"
      ]
    },
    {
      "cell_type": "code",
      "metadata": {
        "id": "PmD-LOpuR7dS"
      },
      "source": [
        "df_3 = pd.DataFrame(columns=['img', 'before_ndvi', 'after_ndvi', 'ndvi_diff_max', 'lat', 'long', 'pixel_value', 'Landcover'])\r\n",
        "\r\n",
        "for index, row in df_2.iterrows():\r\n",
        "\r\n",
        "  #before_path = row['img']\r\n",
        "  #index1 = before_path.find(\"/kenya_aoi_before\")\r\n",
        "  #before_fname = before_path[index1:]\r\n",
        "  #after_fname = 'drive/My Drive/dl_aoi/kenya_after' + before_fname \r\n",
        "  #after_ndvi = 0\r\n",
        "\r\n",
        "  after_fname = row['img'].replace(\"before\", \"after\")\r\n",
        "\r\n",
        "  #print(before_path)\r\n",
        "  #print(before_fname)\r\n",
        "  #print(after_fname)\r\n",
        "  #break\r\n",
        "\r\n",
        "  if os.path.isfile(after_fname):\r\n",
        "    #print('after file got ok')\r\n",
        "    raster = rio.open(after_fname)\r\n",
        "    after_ndvi = raster.read(17)\r\n",
        "\r\n",
        "    ndvi_diff_max = 0 #default value\r\n",
        "    before_ndvi =  row['before_ndvi']\r\n",
        "    if (before_ndvi.shape==after_ndvi.shape):\r\n",
        "      diff_ndvi = before_ndvi - after_ndvi\r\n",
        "      ndvi_diff_max = diff_ndvi.max()\r\n",
        "\r\n",
        "      #if (ndvi_diff_max<0) : #alert this means after attack, ndvi increased!\r\n",
        "        #print('alert!')\r\n",
        "\r\n",
        "  df_3 = df_3.append({'img':row['img'], \r\n",
        "                          'before_ndvi': before_ndvi, \r\n",
        "                          'after_ndvi':after_ndvi,\r\n",
        "                          'ndvi_diff_max':ndvi_diff_max,\r\n",
        "                          'lat':row['lat'],\r\n",
        "                          'long':row['long'], \r\n",
        "                          'pixel_value':row['pixel_value'], \r\n",
        "                          'Landcover':row['Landcover'] },ignore_index = True)"
      ],
      "execution_count": null,
      "outputs": []
    },
    {
      "cell_type": "code",
      "metadata": {
        "colab": {
          "base_uri": "https://localhost:8080/",
          "height": 289
        },
        "id": "GVMrNM1Xc7hO",
        "outputId": "8eb14b35-484d-40d4-d1d5-ef8a1892c7b5"
      },
      "source": [
        "df_3.head(5)"
      ],
      "execution_count": null,
      "outputs": [
        {
          "output_type": "execute_result",
          "data": {
            "text/html": [
              "<div>\n",
              "<style scoped>\n",
              "    .dataframe tbody tr th:only-of-type {\n",
              "        vertical-align: middle;\n",
              "    }\n",
              "\n",
              "    .dataframe tbody tr th {\n",
              "        vertical-align: top;\n",
              "    }\n",
              "\n",
              "    .dataframe thead th {\n",
              "        text-align: right;\n",
              "    }\n",
              "</style>\n",
              "<table border=\"1\" class=\"dataframe\">\n",
              "  <thead>\n",
              "    <tr style=\"text-align: right;\">\n",
              "      <th></th>\n",
              "      <th>img</th>\n",
              "      <th>before_ndvi</th>\n",
              "      <th>after_ndvi</th>\n",
              "      <th>ndvi_diff_max</th>\n",
              "      <th>lat</th>\n",
              "      <th>long</th>\n",
              "      <th>pixel_value</th>\n",
              "      <th>Landcover</th>\n",
              "    </tr>\n",
              "  </thead>\n",
              "  <tbody>\n",
              "    <tr>\n",
              "      <th>0</th>\n",
              "      <td>drive/My Drive/kenya_aoi_old/kenya_before/keny...</td>\n",
              "      <td>[[0.32280254, 0.2820258, 0.373996, 0.27328113,...</td>\n",
              "      <td>[[0.3321687, 0.28250906, 0.39190376, 0.2411101...</td>\n",
              "      <td>0.141396</td>\n",
              "      <td>35.823197</td>\n",
              "      <td>2.131523</td>\n",
              "      <td>20</td>\n",
              "      <td>shrubland</td>\n",
              "    </tr>\n",
              "    <tr>\n",
              "      <th>1</th>\n",
              "      <td>drive/My Drive/kenya_aoi_old/kenya_before/keny...</td>\n",
              "      <td>[[0.120995335, 0.124523506, 0.11989796, 0.1189...</td>\n",
              "      <td>[[0.28255245, 0.29899856, 0.30512378, 0.305499...</td>\n",
              "      <td>0.077310</td>\n",
              "      <td>36.357694</td>\n",
              "      <td>1.148227</td>\n",
              "      <td>20</td>\n",
              "      <td>shrubland</td>\n",
              "    </tr>\n",
              "    <tr>\n",
              "      <th>2</th>\n",
              "      <td>drive/My Drive/kenya_aoi_old/kenya_before/keny...</td>\n",
              "      <td>[[0.19189219, 0.16877024, 0.15916057, 0.217007...</td>\n",
              "      <td>[[0.26253268, 0.23429663, 0.20468432, 0.298985...</td>\n",
              "      <td>0.087258</td>\n",
              "      <td>35.782683</td>\n",
              "      <td>2.182277</td>\n",
              "      <td>30</td>\n",
              "      <td>herbaceous_vegetation</td>\n",
              "    </tr>\n",
              "    <tr>\n",
              "      <th>3</th>\n",
              "      <td>drive/My Drive/kenya_aoi_old/kenya_before/keny...</td>\n",
              "      <td>[[0.13162743, 0.11579785, 0.09753733, 0.112359...</td>\n",
              "      <td>[[0.16557162, 0.13339034, 0.11398854, 0.146148...</td>\n",
              "      <td>0.140394</td>\n",
              "      <td>35.810530</td>\n",
              "      <td>2.138440</td>\n",
              "      <td>30</td>\n",
              "      <td>herbaceous_vegetation</td>\n",
              "    </tr>\n",
              "    <tr>\n",
              "      <th>4</th>\n",
              "      <td>drive/My Drive/kenya_aoi_old/kenya_before/keny...</td>\n",
              "      <td>[[0.2285907, 0.18232045, 0.21859267, 0.202995,...</td>\n",
              "      <td>[[0.23490241, 0.20208901, 0.2088015, 0.2328180...</td>\n",
              "      <td>0.094080</td>\n",
              "      <td>35.774059</td>\n",
              "      <td>2.188386</td>\n",
              "      <td>30</td>\n",
              "      <td>herbaceous_vegetation</td>\n",
              "    </tr>\n",
              "  </tbody>\n",
              "</table>\n",
              "</div>"
            ],
            "text/plain": [
              "                                                 img  ...              Landcover\n",
              "0  drive/My Drive/kenya_aoi_old/kenya_before/keny...  ...              shrubland\n",
              "1  drive/My Drive/kenya_aoi_old/kenya_before/keny...  ...              shrubland\n",
              "2  drive/My Drive/kenya_aoi_old/kenya_before/keny...  ...  herbaceous_vegetation\n",
              "3  drive/My Drive/kenya_aoi_old/kenya_before/keny...  ...  herbaceous_vegetation\n",
              "4  drive/My Drive/kenya_aoi_old/kenya_before/keny...  ...  herbaceous_vegetation\n",
              "\n",
              "[5 rows x 8 columns]"
            ]
          },
          "metadata": {
            "tags": []
          },
          "execution_count": 103
        }
      ]
    },
    {
      "cell_type": "code",
      "metadata": {
        "id": "SEeMCx0zfq3P"
      },
      "source": [
        "df_3.to_csv('drive/My Drive/LULC_spectral_indices/lat_long_list_all_landcover_ndvi_diff.csv', sep=',', index=False)"
      ],
      "execution_count": null,
      "outputs": []
    },
    {
      "cell_type": "markdown",
      "metadata": {
        "id": "XqGuY78egeDH"
      },
      "source": [
        "# Grouping by vegetation type "
      ]
    },
    {
      "cell_type": "code",
      "metadata": {
        "colab": {
          "base_uri": "https://localhost:8080/",
          "height": 235
        },
        "id": "7_nYQuZ0pT1A",
        "outputId": "b2b7e3dc-d933-48ee-f230-c05c910cc8e8"
      },
      "source": [
        "from matplotlib.pyplot import pie, axis, show\r\n",
        "by_label = df_3.groupby('Landcover').count()\r\n",
        "by_label.head(5)"
      ],
      "execution_count": null,
      "outputs": [
        {
          "output_type": "execute_result",
          "data": {
            "text/html": [
              "<div>\n",
              "<style scoped>\n",
              "    .dataframe tbody tr th:only-of-type {\n",
              "        vertical-align: middle;\n",
              "    }\n",
              "\n",
              "    .dataframe tbody tr th {\n",
              "        vertical-align: top;\n",
              "    }\n",
              "\n",
              "    .dataframe thead th {\n",
              "        text-align: right;\n",
              "    }\n",
              "</style>\n",
              "<table border=\"1\" class=\"dataframe\">\n",
              "  <thead>\n",
              "    <tr style=\"text-align: right;\">\n",
              "      <th></th>\n",
              "      <th>img</th>\n",
              "      <th>before_ndvi</th>\n",
              "      <th>after_ndvi</th>\n",
              "      <th>ndvi_diff_max</th>\n",
              "      <th>lat</th>\n",
              "      <th>long</th>\n",
              "      <th>pixel_value</th>\n",
              "    </tr>\n",
              "    <tr>\n",
              "      <th>Landcover</th>\n",
              "      <th></th>\n",
              "      <th></th>\n",
              "      <th></th>\n",
              "      <th></th>\n",
              "      <th></th>\n",
              "      <th></th>\n",
              "      <th></th>\n",
              "    </tr>\n",
              "  </thead>\n",
              "  <tbody>\n",
              "    <tr>\n",
              "      <th>bare_sparse_vegetation</th>\n",
              "      <td>59</td>\n",
              "      <td>59</td>\n",
              "      <td>59</td>\n",
              "      <td>59</td>\n",
              "      <td>59</td>\n",
              "      <td>59</td>\n",
              "      <td>59</td>\n",
              "    </tr>\n",
              "    <tr>\n",
              "      <th>built-up</th>\n",
              "      <td>3</td>\n",
              "      <td>3</td>\n",
              "      <td>3</td>\n",
              "      <td>3</td>\n",
              "      <td>3</td>\n",
              "      <td>3</td>\n",
              "      <td>3</td>\n",
              "    </tr>\n",
              "    <tr>\n",
              "      <th>cropland</th>\n",
              "      <td>9</td>\n",
              "      <td>9</td>\n",
              "      <td>9</td>\n",
              "      <td>9</td>\n",
              "      <td>9</td>\n",
              "      <td>9</td>\n",
              "      <td>9</td>\n",
              "    </tr>\n",
              "    <tr>\n",
              "      <th>herbaceous_vegetation</th>\n",
              "      <td>64</td>\n",
              "      <td>64</td>\n",
              "      <td>64</td>\n",
              "      <td>64</td>\n",
              "      <td>64</td>\n",
              "      <td>64</td>\n",
              "      <td>64</td>\n",
              "    </tr>\n",
              "    <tr>\n",
              "      <th>shrubland</th>\n",
              "      <td>111</td>\n",
              "      <td>111</td>\n",
              "      <td>111</td>\n",
              "      <td>111</td>\n",
              "      <td>111</td>\n",
              "      <td>111</td>\n",
              "      <td>111</td>\n",
              "    </tr>\n",
              "  </tbody>\n",
              "</table>\n",
              "</div>"
            ],
            "text/plain": [
              "                        img  before_ndvi  after_ndvi  ...  lat  long  pixel_value\n",
              "Landcover                                             ...                        \n",
              "bare_sparse_vegetation   59           59          59  ...   59    59           59\n",
              "built-up                  3            3           3  ...    3     3            3\n",
              "cropland                  9            9           9  ...    9     9            9\n",
              "herbaceous_vegetation    64           64          64  ...   64    64           64\n",
              "shrubland               111          111         111  ...  111   111          111\n",
              "\n",
              "[5 rows x 7 columns]"
            ]
          },
          "metadata": {
            "tags": []
          },
          "execution_count": 112
        }
      ]
    },
    {
      "cell_type": "code",
      "metadata": {
        "colab": {
          "base_uri": "https://localhost:8080/",
          "height": 683
        },
        "id": "jCeKloFUqI6b",
        "outputId": "599032bb-d922-4d8e-e71e-3cdf677217aa"
      },
      "source": [
        "ax=by_label.groupby(['Landcover']).sum().plot(kind='pie', y='img', labels=None, figsize=(12,12), autopct='%1.0f%%')\r\n",
        "ax.yaxis.set_visible(False)"
      ],
      "execution_count": null,
      "outputs": [
        {
          "output_type": "display_data",
          "data": {
            "image/png": "[encoded data removed]",
            "text/plain": [
              "<Figure size 864x864 with 1 Axes>"
            ]
          },
          "metadata": {
            "tags": []
          }
        }
      ]
    },
    {
      "cell_type": "markdown",
      "metadata": {
        "id": "YEwjLBd3pe2-"
      },
      "source": [
        "# Avg NDVI per vegetation"
      ]
    },
    {
      "cell_type": "code",
      "metadata": {
        "colab": {
          "base_uri": "https://localhost:8080/"
        },
        "id": "wW_l6xTqghah",
        "outputId": "39b568d7-ef07-4828-959c-0eb9cdc7bbb9"
      },
      "source": [
        "avg_ndvi = df_3.groupby('Landcover')['ndvi_diff_max'].mean()\r\n",
        "avg_ndvi"
      ],
      "execution_count": null,
      "outputs": [
        {
          "output_type": "execute_result",
          "data": {
            "text/plain": [
              "Landcover\n",
              "bare_sparse_vegetation    0.172555\n",
              "built-up                  0.323503\n",
              "cropland                  0.401404\n",
              "herbaceous_vegetation     0.164143\n",
              "shrubland                 0.209450\n",
              "unknown_closed            0.604238\n",
              "unknown_open              0.371403\n",
              "Name: ndvi_diff_max, dtype: float64"
            ]
          },
          "metadata": {
            "tags": []
          },
          "execution_count": 105
        }
      ]
    },
    {
      "cell_type": "code",
      "metadata": {
        "colab": {
          "base_uri": "https://localhost:8080/",
          "height": 296
        },
        "id": "F819mo74mrQl",
        "outputId": "c23f9fa7-b171-477d-e2a1-c68a709408c7"
      },
      "source": [
        "ax= avg_ndvi.plot(kind=\"barh\", fontsize=10)\r\n",
        "ax.set_xlabel(\"Max NDVI difference\")\r\n",
        "#ax.set_ylabel(\"Vegetation category\")"
      ],
      "execution_count": null,
      "outputs": [
        {
          "output_type": "execute_result",
          "data": {
            "text/plain": [
              "Text(0.5, 0, 'Max NDVI difference')"
            ]
          },
          "metadata": {
            "tags": []
          },
          "execution_count": 106
        },
        {
          "output_type": "display_data",
          "data": {
            "image/png": "[encoded data removed]",
            "text/plain": [
              "<Figure size 432x288 with 1 Axes>"
            ]
          },
          "metadata": {
            "tags": [],
            "needs_background": "light"
          }
        }
      ]
    }
  ]
}