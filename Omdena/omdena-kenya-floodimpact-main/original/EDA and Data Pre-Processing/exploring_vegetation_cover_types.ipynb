{
 "cells": [
  {
   "cell_type": "code",
   "execution_count": 5,
   "metadata": {},
   "outputs": [],
   "source": [
    "import numpy as np \n",
    "import pandas as pd \n",
    "import geopandas as gpd"
   ]
  },
  {
   "cell_type": "code",
   "execution_count": 10,
   "metadata": {},
   "outputs": [],
   "source": [
    "df = pd.read_csv('C:/Users/rasha/Downloads/KRCS desert locusts survey - vegtype.csv')\n",
    "region_aoi = gpd.read_file(\"D:/hub_data_kenya_latest_attacks.geojson\")"
   ]
  },
  {
   "cell_type": "code",
   "execution_count": 11,
   "metadata": {},
   "outputs": [
    {
     "data": {
      "text/html": [
       "<div>\n",
       "<style scoped>\n",
       "    .dataframe tbody tr th:only-of-type {\n",
       "        vertical-align: middle;\n",
       "    }\n",
       "\n",
       "    .dataframe tbody tr th {\n",
       "        vertical-align: top;\n",
       "    }\n",
       "\n",
       "    .dataframe thead th {\n",
       "        text-align: right;\n",
       "    }\n",
       "</style>\n",
       "<table border=\"1\" class=\"dataframe\">\n",
       "  <thead>\n",
       "    <tr style=\"text-align: right;\">\n",
       "      <th></th>\n",
       "      <th>county</th>\n",
       "      <th>subcounty</th>\n",
       "      <th>date</th>\n",
       "      <th>vegcov</th>\n",
       "      <th>croptype</th>\n",
       "      <th>cropstag</th>\n",
       "      <th>veghealth</th>\n",
       "      <th>vegdens</th>\n",
       "      <th>soiltype</th>\n",
       "      <th>soilmois</th>\n",
       "      <th>lat</th>\n",
       "      <th>lot</th>\n",
       "    </tr>\n",
       "  </thead>\n",
       "  <tbody>\n",
       "    <tr>\n",
       "      <th>0</th>\n",
       "      <td>Wajir</td>\n",
       "      <td>Wajir South</td>\n",
       "      <td>28-05-20</td>\n",
       "      <td>shrubland</td>\n",
       "      <td>NaN</td>\n",
       "      <td>NaN</td>\n",
       "      <td>Drying</td>\n",
       "      <td>medium</td>\n",
       "      <td>Sandy soil</td>\n",
       "      <td>Dry</td>\n",
       "      <td>0.952113</td>\n",
       "      <td>40.300432</td>\n",
       "    </tr>\n",
       "    <tr>\n",
       "      <th>1</th>\n",
       "      <td>Wajir</td>\n",
       "      <td>Wajir South</td>\n",
       "      <td>28-05-20</td>\n",
       "      <td>shrubland</td>\n",
       "      <td>NaN</td>\n",
       "      <td>NaN</td>\n",
       "      <td>Drying</td>\n",
       "      <td>medium</td>\n",
       "      <td>Sandy soil</td>\n",
       "      <td>Dry</td>\n",
       "      <td>0.917690</td>\n",
       "      <td>40.312617</td>\n",
       "    </tr>\n",
       "    <tr>\n",
       "      <th>2</th>\n",
       "      <td>Samburu</td>\n",
       "      <td>Samburu East</td>\n",
       "      <td>25-05-20</td>\n",
       "      <td>shrubland</td>\n",
       "      <td>NaN</td>\n",
       "      <td>NaN</td>\n",
       "      <td>Drying</td>\n",
       "      <td>medium</td>\n",
       "      <td>Loamy soil</td>\n",
       "      <td>Dry</td>\n",
       "      <td>1.116153</td>\n",
       "      <td>37.545842</td>\n",
       "    </tr>\n",
       "    <tr>\n",
       "      <th>3</th>\n",
       "      <td>Samburu</td>\n",
       "      <td>Samburu East</td>\n",
       "      <td>23-05-20</td>\n",
       "      <td>shrubland</td>\n",
       "      <td>NaN</td>\n",
       "      <td>NaN</td>\n",
       "      <td>Green</td>\n",
       "      <td>medium</td>\n",
       "      <td>Loamy soil</td>\n",
       "      <td>Dry</td>\n",
       "      <td>0.886393</td>\n",
       "      <td>37.066035</td>\n",
       "    </tr>\n",
       "    <tr>\n",
       "      <th>4</th>\n",
       "      <td>Samburu</td>\n",
       "      <td>Samburu East</td>\n",
       "      <td>26-05-20</td>\n",
       "      <td>shrubland</td>\n",
       "      <td>NaN</td>\n",
       "      <td>NaN</td>\n",
       "      <td>Greening</td>\n",
       "      <td>medium</td>\n",
       "      <td>Sandy soil</td>\n",
       "      <td>Dry</td>\n",
       "      <td>0.991620</td>\n",
       "      <td>37.572697</td>\n",
       "    </tr>\n",
       "  </tbody>\n",
       "</table>\n",
       "</div>"
      ],
      "text/plain": [
       "    county     subcounty      date     vegcov croptype cropstag veghealth  \\\n",
       "0    Wajir   Wajir South  28-05-20  shrubland      NaN      NaN    Drying   \n",
       "1    Wajir   Wajir South  28-05-20  shrubland      NaN      NaN    Drying   \n",
       "2  Samburu  Samburu East  25-05-20  shrubland      NaN      NaN    Drying   \n",
       "3  Samburu  Samburu East  23-05-20  shrubland      NaN      NaN     Green   \n",
       "4  Samburu  Samburu East  26-05-20  shrubland      NaN      NaN  Greening   \n",
       "\n",
       "  vegdens    soiltype soilmois       lat        lot  \n",
       "0  medium  Sandy soil      Dry  0.952113  40.300432  \n",
       "1  medium  Sandy soil      Dry  0.917690  40.312617  \n",
       "2  medium  Loamy soil      Dry  1.116153  37.545842  \n",
       "3  medium  Loamy soil      Dry  0.886393  37.066035  \n",
       "4  medium  Sandy soil      Dry  0.991620  37.572697  "
      ]
     },
     "execution_count": 11,
     "metadata": {},
     "output_type": "execute_result"
    }
   ],
   "source": [
    "df.head()"
   ]
  },
  {
   "cell_type": "code",
   "execution_count": 12,
   "metadata": {},
   "outputs": [
    {
     "name": "stdout",
     "output_type": "stream",
     "text": [
      "['medium' 'dense' 'Low']\n"
     ]
    }
   ],
   "source": [
    "soil_type = df.soiltype.unique()\n",
    "veg_dens = df.vegdens.unique()\n",
    "veg_health = df.veghealth.unique()\n",
    "\n",
    "print(veg_dens)"
   ]
  },
  {
   "cell_type": "code",
   "execution_count": 13,
   "metadata": {},
   "outputs": [
    {
     "data": {
      "image/png": "[encoded data removed]",
      "text/plain": [
       "<Figure size 1440x720 with 1 Axes>"
      ]
     },
     "metadata": {
      "needs_background": "light"
     },
     "output_type": "display_data"
    }
   ],
   "source": [
    "# Visualize our data\n",
    "import matplotlib.pyplot as plt\n",
    "fig = plt.figure(figsize=(20,10))\n",
    "ax = fig.add_axes([0,0,1,1])\n",
    "county = df.county\n",
    "\n",
    "veg_health = df.veghealth\n",
    "ax.bar(county,veg_health)\n",
    "plt.show()"
   ]
  },
  {
   "cell_type": "code",
   "execution_count": 14,
   "metadata": {},
   "outputs": [
    {
     "name": "stderr",
     "output_type": "stream",
     "text": [
      "C:\\Users\\rasha\\.conda\\envs\\omdena_malaria\\lib\\site-packages\\pyproj\\crs\\crs.py:53: FutureWarning: '+init=<authority>:<code>' syntax is deprecated. '<authority>:<code>' is the preferred initialization method. When making the change, be mindful of axis order changes: https://pyproj4.github.io/pyproj/stable/gotchas.html#axis-order-changes-in-proj-6\n",
      "  return _prepare_from_string(\" \".join(pjargs))\n"
     ]
    }
   ],
   "source": [
    "# Conver csv to geojson\n",
    "from shapely.geometry import Point\n",
    "import geopandas as gpd\n",
    "# creating a geometry column \n",
    "geometry = [Point(xy) for xy in zip(df['lot'], df['lat'])]\n",
    "# Coordinate reference system : WGS84\n",
    "crs = {'init': 'epsg:4326'}\n",
    "\n",
    "# Creating a Geographic data frame \n",
    "gdf = gpd.GeoDataFrame(df, crs=crs, geometry=geometry)"
   ]
  },
  {
   "cell_type": "code",
   "execution_count": 15,
   "metadata": {},
   "outputs": [
    {
     "data": {
      "text/html": [
       "<div>\n",
       "<style scoped>\n",
       "    .dataframe tbody tr th:only-of-type {\n",
       "        vertical-align: middle;\n",
       "    }\n",
       "\n",
       "    .dataframe tbody tr th {\n",
       "        vertical-align: top;\n",
       "    }\n",
       "\n",
       "    .dataframe thead th {\n",
       "        text-align: right;\n",
       "    }\n",
       "</style>\n",
       "<table border=\"1\" class=\"dataframe\">\n",
       "  <thead>\n",
       "    <tr style=\"text-align: right;\">\n",
       "      <th></th>\n",
       "      <th>county</th>\n",
       "      <th>subcounty</th>\n",
       "      <th>date</th>\n",
       "      <th>vegcov</th>\n",
       "      <th>croptype</th>\n",
       "      <th>cropstag</th>\n",
       "      <th>veghealth</th>\n",
       "      <th>vegdens</th>\n",
       "      <th>soiltype</th>\n",
       "      <th>soilmois</th>\n",
       "      <th>lat</th>\n",
       "      <th>lot</th>\n",
       "      <th>geometry</th>\n",
       "    </tr>\n",
       "  </thead>\n",
       "  <tbody>\n",
       "    <tr>\n",
       "      <th>0</th>\n",
       "      <td>Wajir</td>\n",
       "      <td>Wajir South</td>\n",
       "      <td>28-05-20</td>\n",
       "      <td>shrubland</td>\n",
       "      <td>NaN</td>\n",
       "      <td>NaN</td>\n",
       "      <td>Drying</td>\n",
       "      <td>medium</td>\n",
       "      <td>Sandy soil</td>\n",
       "      <td>Dry</td>\n",
       "      <td>0.952113</td>\n",
       "      <td>40.300432</td>\n",
       "      <td>POINT (40.30043 0.95211)</td>\n",
       "    </tr>\n",
       "    <tr>\n",
       "      <th>1</th>\n",
       "      <td>Wajir</td>\n",
       "      <td>Wajir South</td>\n",
       "      <td>28-05-20</td>\n",
       "      <td>shrubland</td>\n",
       "      <td>NaN</td>\n",
       "      <td>NaN</td>\n",
       "      <td>Drying</td>\n",
       "      <td>medium</td>\n",
       "      <td>Sandy soil</td>\n",
       "      <td>Dry</td>\n",
       "      <td>0.917690</td>\n",
       "      <td>40.312617</td>\n",
       "      <td>POINT (40.31262 0.91769)</td>\n",
       "    </tr>\n",
       "    <tr>\n",
       "      <th>2</th>\n",
       "      <td>Samburu</td>\n",
       "      <td>Samburu East</td>\n",
       "      <td>25-05-20</td>\n",
       "      <td>shrubland</td>\n",
       "      <td>NaN</td>\n",
       "      <td>NaN</td>\n",
       "      <td>Drying</td>\n",
       "      <td>medium</td>\n",
       "      <td>Loamy soil</td>\n",
       "      <td>Dry</td>\n",
       "      <td>1.116153</td>\n",
       "      <td>37.545842</td>\n",
       "      <td>POINT (37.54584 1.11615)</td>\n",
       "    </tr>\n",
       "    <tr>\n",
       "      <th>3</th>\n",
       "      <td>Samburu</td>\n",
       "      <td>Samburu East</td>\n",
       "      <td>23-05-20</td>\n",
       "      <td>shrubland</td>\n",
       "      <td>NaN</td>\n",
       "      <td>NaN</td>\n",
       "      <td>Green</td>\n",
       "      <td>medium</td>\n",
       "      <td>Loamy soil</td>\n",
       "      <td>Dry</td>\n",
       "      <td>0.886393</td>\n",
       "      <td>37.066035</td>\n",
       "      <td>POINT (37.06603 0.88639)</td>\n",
       "    </tr>\n",
       "    <tr>\n",
       "      <th>4</th>\n",
       "      <td>Samburu</td>\n",
       "      <td>Samburu East</td>\n",
       "      <td>26-05-20</td>\n",
       "      <td>shrubland</td>\n",
       "      <td>NaN</td>\n",
       "      <td>NaN</td>\n",
       "      <td>Greening</td>\n",
       "      <td>medium</td>\n",
       "      <td>Sandy soil</td>\n",
       "      <td>Dry</td>\n",
       "      <td>0.991620</td>\n",
       "      <td>37.572697</td>\n",
       "      <td>POINT (37.57270 0.99162)</td>\n",
       "    </tr>\n",
       "  </tbody>\n",
       "</table>\n",
       "</div>"
      ],
      "text/plain": [
       "    county     subcounty      date     vegcov croptype cropstag veghealth  \\\n",
       "0    Wajir   Wajir South  28-05-20  shrubland      NaN      NaN    Drying   \n",
       "1    Wajir   Wajir South  28-05-20  shrubland      NaN      NaN    Drying   \n",
       "2  Samburu  Samburu East  25-05-20  shrubland      NaN      NaN    Drying   \n",
       "3  Samburu  Samburu East  23-05-20  shrubland      NaN      NaN     Green   \n",
       "4  Samburu  Samburu East  26-05-20  shrubland      NaN      NaN  Greening   \n",
       "\n",
       "  vegdens    soiltype soilmois       lat        lot                  geometry  \n",
       "0  medium  Sandy soil      Dry  0.952113  40.300432  POINT (40.30043 0.95211)  \n",
       "1  medium  Sandy soil      Dry  0.917690  40.312617  POINT (40.31262 0.91769)  \n",
       "2  medium  Loamy soil      Dry  1.116153  37.545842  POINT (37.54584 1.11615)  \n",
       "3  medium  Loamy soil      Dry  0.886393  37.066035  POINT (37.06603 0.88639)  \n",
       "4  medium  Sandy soil      Dry  0.991620  37.572697  POINT (37.57270 0.99162)  "
      ]
     },
     "execution_count": 15,
     "metadata": {},
     "output_type": "execute_result"
    }
   ],
   "source": [
    "gdf.head()"
   ]
  },
  {
   "cell_type": "code",
   "execution_count": 16,
   "metadata": {},
   "outputs": [
    {
     "data": {
      "text/plain": [
       "<AxesSubplot:>"
      ]
     },
     "execution_count": 16,
     "metadata": {},
     "output_type": "execute_result"
    },
    {
     "data": {
      "image/png": "[encoded data removed]",
      "text/plain": [
       "<Figure size 432x288 with 1 Axes>"
      ]
     },
     "metadata": {
      "needs_background": "light"
     },
     "output_type": "display_data"
    }
   ],
   "source": [
    "gdf.plot()"
   ]
  },
  {
   "cell_type": "code",
   "execution_count": 12,
   "metadata": {},
   "outputs": [],
   "source": [
    "#aoi_labeled = gpd.sjoin(region_aoi, gdf, op=\"within\")"
   ]
  },
  {
   "cell_type": "code",
   "execution_count": 25,
   "metadata": {},
   "outputs": [],
   "source": [
    "gdf.to_file(\"D:/kenya_aoi_labeled.geojson\", driver='GeoJSON')"
   ]
  },
  {
   "cell_type": "code",
   "execution_count": null,
   "metadata": {},
   "outputs": [],
   "source": [
    "gdf.to_file(\"D:/kenya_aoi_labeled.geojson\", driver='GeoJSON')"
   ]
  }
 ],
 "metadata": {
  "kernelspec": {
   "display_name": "omdena_malaria",
   "language": "python",
   "name": "omdena_malaria"
  },
  "language_info": {
   "codemirror_mode": {
    "name": "ipython",
    "version": 3
   },
   "file_extension": ".py",
   "mimetype": "text/x-python",
   "name": "python",
   "nbconvert_exporter": "python",
   "pygments_lexer": "ipython3",
   "version": "3.8.5"
  }
 },
 "nbformat": 4,
 "nbformat_minor": 4
}
