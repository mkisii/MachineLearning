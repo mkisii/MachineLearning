{
 "cells": [
  {
   "cell_type": "markdown",
   "metadata": {},
   "source": [
    "We are exploring areas in Africa, attacked by desert locust swarms based on this cv [documnet](https://github.com/OmdenaAI/KenyaRedCross/blob/main/Data/locust_hub_data/Swarms.csv)\n",
    "\n",
    "- Convert the csv file to geoJson\n",
    "- Get the areas within Kenya only\n",
    "- Save the file\n"
   ]
  },
  {
   "cell_type": "code",
   "execution_count": 60,
   "metadata": {},
   "outputs": [],
   "source": [
    "import pandas as pd"
   ]
  },
  {
   "cell_type": "code",
   "execution_count": 61,
   "metadata": {},
   "outputs": [
    {
     "data": {
      "text/html": [
       "<div>\n",
       "<style scoped>\n",
       "    .dataframe tbody tr th:only-of-type {\n",
       "        vertical-align: middle;\n",
       "    }\n",
       "\n",
       "    .dataframe tbody tr th {\n",
       "        vertical-align: top;\n",
       "    }\n",
       "\n",
       "    .dataframe thead th {\n",
       "        text-align: right;\n",
       "    }\n",
       "</style>\n",
       "<table border=\"1\" class=\"dataframe\">\n",
       "  <thead>\n",
       "    <tr style=\"text-align: right;\">\n",
       "      <th></th>\n",
       "      <th>Unnamed: 0</th>\n",
       "      <th>X</th>\n",
       "      <th>Y</th>\n",
       "      <th>OBJECTID</th>\n",
       "      <th>STARTDATE</th>\n",
       "      <th>TmSTARTDAT</th>\n",
       "      <th>FINISHDATE</th>\n",
       "      <th>TmFINISHDA</th>\n",
       "      <th>EXACTDATE</th>\n",
       "      <th>PARTMONTH</th>\n",
       "      <th>...</th>\n",
       "      <th>CTLQTYU</th>\n",
       "      <th>CTLARTREA</th>\n",
       "      <th>CTLARTREAU</th>\n",
       "      <th>CTLAPPHAND</th>\n",
       "      <th>CTLAPPVEHI</th>\n",
       "      <th>CTLAPPAIR</th>\n",
       "      <th>CTLAPPMECH</th>\n",
       "      <th>CTLAPPUNK</th>\n",
       "      <th>CTLESTKILL</th>\n",
       "      <th>CAT</th>\n",
       "    </tr>\n",
       "  </thead>\n",
       "  <tbody>\n",
       "    <tr>\n",
       "      <th>0</th>\n",
       "      <td>0</td>\n",
       "      <td>-15.131944</td>\n",
       "      <td>17.870278</td>\n",
       "      <td>1</td>\n",
       "      <td>1985-11-30</td>\n",
       "      <td>12:00</td>\n",
       "      <td>1985-11-30</td>\n",
       "      <td>12:00</td>\n",
       "      <td>No</td>\n",
       "      <td>Late</td>\n",
       "      <td>...</td>\n",
       "      <td></td>\n",
       "      <td>0.0</td>\n",
       "      <td></td>\n",
       "      <td>0</td>\n",
       "      <td>0</td>\n",
       "      <td>0</td>\n",
       "      <td>0</td>\n",
       "      <td>0</td>\n",
       "      <td>0</td>\n",
       "      <td>Swarm</td>\n",
       "    </tr>\n",
       "    <tr>\n",
       "      <th>1</th>\n",
       "      <td>1</td>\n",
       "      <td>-15.400278</td>\n",
       "      <td>18.030833</td>\n",
       "      <td>2</td>\n",
       "      <td>1985-11-26</td>\n",
       "      <td>12:00</td>\n",
       "      <td>1985-11-26</td>\n",
       "      <td>12:00</td>\n",
       "      <td>No</td>\n",
       "      <td>Late</td>\n",
       "      <td>...</td>\n",
       "      <td></td>\n",
       "      <td>0.0</td>\n",
       "      <td></td>\n",
       "      <td>0</td>\n",
       "      <td>0</td>\n",
       "      <td>0</td>\n",
       "      <td>0</td>\n",
       "      <td>0</td>\n",
       "      <td>0</td>\n",
       "      <td>Swarm</td>\n",
       "    </tr>\n",
       "    <tr>\n",
       "      <th>2</th>\n",
       "      <td>2</td>\n",
       "      <td>-14.668889</td>\n",
       "      <td>17.988889</td>\n",
       "      <td>3</td>\n",
       "      <td>1985-11-27</td>\n",
       "      <td>12:00</td>\n",
       "      <td>1985-11-27</td>\n",
       "      <td>12:00</td>\n",
       "      <td>No</td>\n",
       "      <td>Late</td>\n",
       "      <td>...</td>\n",
       "      <td></td>\n",
       "      <td>0.0</td>\n",
       "      <td></td>\n",
       "      <td>0</td>\n",
       "      <td>0</td>\n",
       "      <td>0</td>\n",
       "      <td>0</td>\n",
       "      <td>0</td>\n",
       "      <td>0</td>\n",
       "      <td>Swarm</td>\n",
       "    </tr>\n",
       "    <tr>\n",
       "      <th>3</th>\n",
       "      <td>3</td>\n",
       "      <td>-14.633333</td>\n",
       "      <td>17.835833</td>\n",
       "      <td>4</td>\n",
       "      <td>1985-11-30</td>\n",
       "      <td>12:00</td>\n",
       "      <td>1985-11-30</td>\n",
       "      <td>12:00</td>\n",
       "      <td>No</td>\n",
       "      <td>Late</td>\n",
       "      <td>...</td>\n",
       "      <td></td>\n",
       "      <td>0.0</td>\n",
       "      <td></td>\n",
       "      <td>0</td>\n",
       "      <td>0</td>\n",
       "      <td>0</td>\n",
       "      <td>0</td>\n",
       "      <td>0</td>\n",
       "      <td>0</td>\n",
       "      <td>Swarm</td>\n",
       "    </tr>\n",
       "    <tr>\n",
       "      <th>4</th>\n",
       "      <td>4</td>\n",
       "      <td>-13.353889</td>\n",
       "      <td>18.026389</td>\n",
       "      <td>5</td>\n",
       "      <td>1985-10-15</td>\n",
       "      <td>12:00</td>\n",
       "      <td>1985-10-15</td>\n",
       "      <td>12:00</td>\n",
       "      <td>Yes</td>\n",
       "      <td></td>\n",
       "      <td>...</td>\n",
       "      <td></td>\n",
       "      <td>0.0</td>\n",
       "      <td></td>\n",
       "      <td>0</td>\n",
       "      <td>0</td>\n",
       "      <td>0</td>\n",
       "      <td>0</td>\n",
       "      <td>0</td>\n",
       "      <td>0</td>\n",
       "      <td>Swarm</td>\n",
       "    </tr>\n",
       "  </tbody>\n",
       "</table>\n",
       "<p>5 rows × 153 columns</p>\n",
       "</div>"
      ],
      "text/plain": [
       "   Unnamed: 0          X          Y  OBJECTID   STARTDATE TmSTARTDAT  \\\n",
       "0           0 -15.131944  17.870278         1  1985-11-30      12:00   \n",
       "1           1 -15.400278  18.030833         2  1985-11-26      12:00   \n",
       "2           2 -14.668889  17.988889         3  1985-11-27      12:00   \n",
       "3           3 -14.633333  17.835833         4  1985-11-30      12:00   \n",
       "4           4 -13.353889  18.026389         5  1985-10-15      12:00   \n",
       "\n",
       "   FINISHDATE TmFINISHDA EXACTDATE PARTMONTH  ... CTLQTYU  CTLARTREA  \\\n",
       "0  1985-11-30      12:00        No      Late  ...                0.0   \n",
       "1  1985-11-26      12:00        No      Late  ...                0.0   \n",
       "2  1985-11-27      12:00        No      Late  ...                0.0   \n",
       "3  1985-11-30      12:00        No      Late  ...                0.0   \n",
       "4  1985-10-15      12:00       Yes            ...                0.0   \n",
       "\n",
       "  CTLARTREAU CTLAPPHAND  CTLAPPVEHI CTLAPPAIR CTLAPPMECH  CTLAPPUNK  \\\n",
       "0                     0           0         0          0          0   \n",
       "1                     0           0         0          0          0   \n",
       "2                     0           0         0          0          0   \n",
       "3                     0           0         0          0          0   \n",
       "4                     0           0         0          0          0   \n",
       "\n",
       "   CTLESTKILL    CAT  \n",
       "0           0  Swarm  \n",
       "1           0  Swarm  \n",
       "2           0  Swarm  \n",
       "3           0  Swarm  \n",
       "4           0  Swarm  \n",
       "\n",
       "[5 rows x 153 columns]"
      ]
     },
     "execution_count": 61,
     "metadata": {},
     "output_type": "execute_result"
    }
   ],
   "source": [
    "data = pd.read_csv('C:/Users/rasha/Documents/Jupyter/Swarms.csv')\n",
    "data.head()"
   ]
  },
  {
   "cell_type": "code",
   "execution_count": 62,
   "metadata": {},
   "outputs": [
    {
     "data": {
      "text/plain": [
       "\"# Let's make sure the date columns are in date format\\ndata = data.to_csv('C:/Users/rasha/Documents/Jupyter/Swarms.csv', date_format='%Y-%m-%d')\\ndata = pd.read_csv('C:/Users/rasha/Documents/Jupyter/Swarms.csv')\\ndata.head()\\ndata['STARTDATE'] = pd.to_datetime(data['STARTDATE'], format='%Y-%m-%d')\\ndata['FINISHDATE'] = pd.to_datetime(data['FINISHDATE'], format='%Y-%m-%d')\""
      ]
     },
     "execution_count": 62,
     "metadata": {},
     "output_type": "execute_result"
    }
   ],
   "source": [
    "'''# Let's make sure the date columns are in date format\n",
    "data = data.to_csv('C:/Users/rasha/Documents/Jupyter/Swarms.csv', date_format='%Y-%m-%d')\n",
    "data = pd.read_csv('C:/Users/rasha/Documents/Jupyter/Swarms.csv')\n",
    "data.head()\n",
    "data['STARTDATE'] = pd.to_datetime(data['STARTDATE'], format='%Y-%m-%d')\n",
    "data['FINISHDATE'] = pd.to_datetime(data['FINISHDATE'], format='%Y-%m-%d')'''"
   ]
  },
  {
   "cell_type": "code",
   "execution_count": 63,
   "metadata": {},
   "outputs": [],
   "source": [
    "# Select relevent date\n",
    "start_date = '2019/11/30'\n",
    "end_date = '2020/11/30'\n",
    "mask = (data['STARTDATE'] > start_date) & (data['FINISHDATE'] <= end_date)"
   ]
  },
  {
   "cell_type": "code",
   "execution_count": 64,
   "metadata": {},
   "outputs": [],
   "source": [
    "data_latest_attacks = data.loc[mask]"
   ]
  },
  {
   "cell_type": "code",
   "execution_count": 65,
   "metadata": {},
   "outputs": [
    {
     "data": {
      "text/plain": [
       "24615    2020-01-24\n",
       "24616    2020-01-25\n",
       "24617    2020-01-25\n",
       "24618    2020-01-25\n",
       "24619    2020-01-25\n",
       "            ...    \n",
       "31587    2020-11-04\n",
       "31588    2020-11-04\n",
       "31589    2020-11-04\n",
       "31590    2020-11-05\n",
       "31591    2020-11-05\n",
       "Name: STARTDATE, Length: 6977, dtype: object"
      ]
     },
     "execution_count": 65,
     "metadata": {},
     "output_type": "execute_result"
    }
   ],
   "source": [
    "data_latest_attacks['STARTDATE']"
   ]
  },
  {
   "cell_type": "code",
   "execution_count": 66,
   "metadata": {},
   "outputs": [
    {
     "name": "stdout",
     "output_type": "stream",
     "text": [
      "We have 6977 attacks from 2019/11/30 to 2020/11/30 world wide\n"
     ]
    }
   ],
   "source": [
    "print(f\"We have {len(data_latest_attacks)} attacks from {start_date} to {end_date} world wide\")"
   ]
  },
  {
   "cell_type": "code",
   "execution_count": 67,
   "metadata": {},
   "outputs": [
    {
     "name": "stderr",
     "output_type": "stream",
     "text": [
      "C:\\Users\\rasha\\.conda\\envs\\omdena_malaria\\lib\\site-packages\\pyproj\\crs\\crs.py:53: FutureWarning: '+init=<authority>:<code>' syntax is deprecated. '<authority>:<code>' is the preferred initialization method. When making the change, be mindful of axis order changes: https://pyproj4.github.io/pyproj/stable/gotchas.html#axis-order-changes-in-proj-6\n",
      "  return _prepare_from_string(\" \".join(pjargs))\n"
     ]
    }
   ],
   "source": [
    "# Conver csv to geojson\n",
    "from shapely.geometry import Point\n",
    "import geopandas as gpd\n",
    "# creating a geometry column \n",
    "geometry = [Point(xy) for xy in zip(data_latest_attacks['X'], data_latest_attacks['Y'])]\n",
    "# Coordinate reference system : WGS84\n",
    "crs = {'init': 'epsg:4326'}\n",
    "\n",
    "# Creating a Geographic data frame \n",
    "gdf = gpd.GeoDataFrame(data_latest_attacks, crs=crs, geometry=geometry)"
   ]
  },
  {
   "cell_type": "code",
   "execution_count": 68,
   "metadata": {},
   "outputs": [],
   "source": [
    "gdf = gdf.to_crs(\"EPSG:4326\")"
   ]
  },
  {
   "cell_type": "code",
   "execution_count": 69,
   "metadata": {},
   "outputs": [
    {
     "data": {
      "text/plain": [
       "<AxesSubplot:>"
      ]
     },
     "execution_count": 69,
     "metadata": {},
     "output_type": "execute_result"
    },
    {
     "data": {
      "image/png": "[encoded data removed]",
      "text/plain": [
       "<Figure size 432x288 with 1 Axes>"
      ]
     },
     "metadata": {
      "needs_background": "light"
     },
     "output_type": "display_data"
    }
   ],
   "source": [
    "# Plot all points\n",
    "gdf.plot(marker='o', color='b', markersize=0.5)"
   ]
  },
  {
   "cell_type": "markdown",
   "metadata": {},
   "source": [
    "As we can see above these point cover the whole world. We'll try to get the ones within Kenya for example using a geojson for Kenya counties and perform a spatial join."
   ]
  },
  {
   "cell_type": "code",
   "execution_count": 70,
   "metadata": {},
   "outputs": [],
   "source": [
    "kenya_counties = gpd.read_file('C:/Users/rasha/Documents/Jupyter/kenyan-counties.geojson')\n",
    "# make sure that both have the same projection system\n",
    "kenya_counties = kenya_counties.to_crs(\"EPSG:4326\")"
   ]
  },
  {
   "cell_type": "code",
   "execution_count": 71,
   "metadata": {},
   "outputs": [],
   "source": [
    "hub_data_kenya = gpd.sjoin(gdf, kenya_counties, op=\"within\")"
   ]
  },
  {
   "cell_type": "code",
   "execution_count": 72,
   "metadata": {},
   "outputs": [
    {
     "data": {
      "text/plain": [
       "<AxesSubplot:>"
      ]
     },
     "execution_count": 72,
     "metadata": {},
     "output_type": "execute_result"
    },
    {
     "data": {
      "image/png": "[encoded data removed]",
      "text/plain": [
       "<Figure size 432x288 with 1 Axes>"
      ]
     },
     "metadata": {
      "needs_background": "light"
     },
     "output_type": "display_data"
    }
   ],
   "source": [
    "# Plot all points\n",
    "hub_data_kenya.plot(marker='o', color='b', markersize=0.5)"
   ]
  },
  {
   "cell_type": "code",
   "execution_count": 73,
   "metadata": {},
   "outputs": [
    {
     "data": {
      "text/html": [
       "<div>\n",
       "<style scoped>\n",
       "    .dataframe tbody tr th:only-of-type {\n",
       "        vertical-align: middle;\n",
       "    }\n",
       "\n",
       "    .dataframe tbody tr th {\n",
       "        vertical-align: top;\n",
       "    }\n",
       "\n",
       "    .dataframe thead th {\n",
       "        text-align: right;\n",
       "    }\n",
       "</style>\n",
       "<table border=\"1\" class=\"dataframe\">\n",
       "  <thead>\n",
       "    <tr style=\"text-align: right;\">\n",
       "      <th></th>\n",
       "      <th>Unnamed: 0</th>\n",
       "      <th>X</th>\n",
       "      <th>Y</th>\n",
       "      <th>OBJECTID_left</th>\n",
       "      <th>STARTDATE</th>\n",
       "      <th>TmSTARTDAT</th>\n",
       "      <th>FINISHDATE</th>\n",
       "      <th>TmFINISHDA</th>\n",
       "      <th>EXACTDATE</th>\n",
       "      <th>PARTMONTH</th>\n",
       "      <th>...</th>\n",
       "      <th>geometry</th>\n",
       "      <th>index_right</th>\n",
       "      <th>OBJECTID_right</th>\n",
       "      <th>AREA</th>\n",
       "      <th>PERIMETER</th>\n",
       "      <th>COUNTY3_</th>\n",
       "      <th>COUNTY3_ID</th>\n",
       "      <th>COUNTY</th>\n",
       "      <th>Shape_Leng</th>\n",
       "      <th>Shape_Area</th>\n",
       "    </tr>\n",
       "  </thead>\n",
       "  <tbody>\n",
       "    <tr>\n",
       "      <th>24675</th>\n",
       "      <td>24675</td>\n",
       "      <td>37.350000</td>\n",
       "      <td>1.033333</td>\n",
       "      <td>24676</td>\n",
       "      <td>2020-01-27</td>\n",
       "      <td>08:57</td>\n",
       "      <td>2020-01-27</td>\n",
       "      <td>08:57</td>\n",
       "      <td>No</td>\n",
       "      <td>Late</td>\n",
       "      <td>...</td>\n",
       "      <td>POINT (37.35000 1.03333)</td>\n",
       "      <td>5</td>\n",
       "      <td>6</td>\n",
       "      <td>1.713</td>\n",
       "      <td>8.311</td>\n",
       "      <td>7</td>\n",
       "      <td>6</td>\n",
       "      <td>Samburu</td>\n",
       "      <td>8.311013</td>\n",
       "      <td>1.713014</td>\n",
       "    </tr>\n",
       "    <tr>\n",
       "      <th>24676</th>\n",
       "      <td>24676</td>\n",
       "      <td>37.600000</td>\n",
       "      <td>0.683333</td>\n",
       "      <td>24677</td>\n",
       "      <td>2020-01-27</td>\n",
       "      <td>09:45</td>\n",
       "      <td>2020-01-27</td>\n",
       "      <td>09:45</td>\n",
       "      <td>No</td>\n",
       "      <td>Late</td>\n",
       "      <td>...</td>\n",
       "      <td>POINT (37.60000 0.68333)</td>\n",
       "      <td>5</td>\n",
       "      <td>6</td>\n",
       "      <td>1.713</td>\n",
       "      <td>8.311</td>\n",
       "      <td>7</td>\n",
       "      <td>6</td>\n",
       "      <td>Samburu</td>\n",
       "      <td>8.311013</td>\n",
       "      <td>1.713014</td>\n",
       "    </tr>\n",
       "    <tr>\n",
       "      <th>24677</th>\n",
       "      <td>24677</td>\n",
       "      <td>37.433333</td>\n",
       "      <td>1.350000</td>\n",
       "      <td>24678</td>\n",
       "      <td>2020-01-27</td>\n",
       "      <td>11:06</td>\n",
       "      <td>2020-01-27</td>\n",
       "      <td>11:06</td>\n",
       "      <td>No</td>\n",
       "      <td>Late</td>\n",
       "      <td>...</td>\n",
       "      <td>POINT (37.43333 1.35000)</td>\n",
       "      <td>5</td>\n",
       "      <td>6</td>\n",
       "      <td>1.713</td>\n",
       "      <td>8.311</td>\n",
       "      <td>7</td>\n",
       "      <td>6</td>\n",
       "      <td>Samburu</td>\n",
       "      <td>8.311013</td>\n",
       "      <td>1.713014</td>\n",
       "    </tr>\n",
       "    <tr>\n",
       "      <th>24678</th>\n",
       "      <td>24678</td>\n",
       "      <td>37.300000</td>\n",
       "      <td>0.866667</td>\n",
       "      <td>24679</td>\n",
       "      <td>2020-01-27</td>\n",
       "      <td>11:11</td>\n",
       "      <td>2020-01-27</td>\n",
       "      <td>11:11</td>\n",
       "      <td>No</td>\n",
       "      <td>Late</td>\n",
       "      <td>...</td>\n",
       "      <td>POINT (37.30000 0.86667)</td>\n",
       "      <td>5</td>\n",
       "      <td>6</td>\n",
       "      <td>1.713</td>\n",
       "      <td>8.311</td>\n",
       "      <td>7</td>\n",
       "      <td>6</td>\n",
       "      <td>Samburu</td>\n",
       "      <td>8.311013</td>\n",
       "      <td>1.713014</td>\n",
       "    </tr>\n",
       "    <tr>\n",
       "      <th>24682</th>\n",
       "      <td>24682</td>\n",
       "      <td>37.666667</td>\n",
       "      <td>0.800000</td>\n",
       "      <td>24683</td>\n",
       "      <td>2020-01-27</td>\n",
       "      <td>11:59</td>\n",
       "      <td>2020-01-27</td>\n",
       "      <td>11:59</td>\n",
       "      <td>No</td>\n",
       "      <td>Late</td>\n",
       "      <td>...</td>\n",
       "      <td>POINT (37.66667 0.80000)</td>\n",
       "      <td>5</td>\n",
       "      <td>6</td>\n",
       "      <td>1.713</td>\n",
       "      <td>8.311</td>\n",
       "      <td>7</td>\n",
       "      <td>6</td>\n",
       "      <td>Samburu</td>\n",
       "      <td>8.311013</td>\n",
       "      <td>1.713014</td>\n",
       "    </tr>\n",
       "  </tbody>\n",
       "</table>\n",
       "<p>5 rows × 163 columns</p>\n",
       "</div>"
      ],
      "text/plain": [
       "       Unnamed: 0          X         Y  OBJECTID_left   STARTDATE TmSTARTDAT  \\\n",
       "24675       24675  37.350000  1.033333          24676  2020-01-27      08:57   \n",
       "24676       24676  37.600000  0.683333          24677  2020-01-27      09:45   \n",
       "24677       24677  37.433333  1.350000          24678  2020-01-27      11:06   \n",
       "24678       24678  37.300000  0.866667          24679  2020-01-27      11:11   \n",
       "24682       24682  37.666667  0.800000          24683  2020-01-27      11:59   \n",
       "\n",
       "       FINISHDATE TmFINISHDA EXACTDATE PARTMONTH  ...  \\\n",
       "24675  2020-01-27      08:57        No      Late  ...   \n",
       "24676  2020-01-27      09:45        No      Late  ...   \n",
       "24677  2020-01-27      11:06        No      Late  ...   \n",
       "24678  2020-01-27      11:11        No      Late  ...   \n",
       "24682  2020-01-27      11:59        No      Late  ...   \n",
       "\n",
       "                       geometry  index_right OBJECTID_right   AREA  PERIMETER  \\\n",
       "24675  POINT (37.35000 1.03333)            5              6  1.713      8.311   \n",
       "24676  POINT (37.60000 0.68333)            5              6  1.713      8.311   \n",
       "24677  POINT (37.43333 1.35000)            5              6  1.713      8.311   \n",
       "24678  POINT (37.30000 0.86667)            5              6  1.713      8.311   \n",
       "24682  POINT (37.66667 0.80000)            5              6  1.713      8.311   \n",
       "\n",
       "      COUNTY3_ COUNTY3_ID   COUNTY  Shape_Leng  Shape_Area  \n",
       "24675        7          6  Samburu    8.311013    1.713014  \n",
       "24676        7          6  Samburu    8.311013    1.713014  \n",
       "24677        7          6  Samburu    8.311013    1.713014  \n",
       "24678        7          6  Samburu    8.311013    1.713014  \n",
       "24682        7          6  Samburu    8.311013    1.713014  \n",
       "\n",
       "[5 rows x 163 columns]"
      ]
     },
     "execution_count": 73,
     "metadata": {},
     "output_type": "execute_result"
    }
   ],
   "source": [
    "hub_data_kenya.head()"
   ]
  },
  {
   "cell_type": "code",
   "execution_count": 74,
   "metadata": {},
   "outputs": [
    {
     "name": "stdout",
     "output_type": "stream",
     "text": [
      "We have 2168 attacks from 2019/11/30 to 2020/11/30 world wide\n"
     ]
    }
   ],
   "source": [
    "print(f\"We have {len(hub_data_kenya)} attacks from {start_date} to {end_date} world wide\")"
   ]
  },
  {
   "cell_type": "markdown",
   "metadata": {},
   "source": [
    "Awesome now we got our data! Let's save it as a geojson"
   ]
  },
  {
   "cell_type": "code",
   "execution_count": 77,
   "metadata": {},
   "outputs": [],
   "source": [
    "hub_data_kenya.to_file(\"D:/hub_data_kenya_latest_attacks.geojson\", driver='GeoJSON')"
   ]
  },
  {
   "cell_type": "markdown",
   "metadata": {},
   "source": [
    "Now we can use the file to get images from GEE!"
   ]
  },
  {
   "cell_type": "code",
   "execution_count": 78,
   "metadata": {},
   "outputs": [],
   "source": [
    "test = gpd.read_file(\"D:/hub_data_kenya_latest_attacks.geojson\")"
   ]
  },
  {
   "cell_type": "code",
   "execution_count": 79,
   "metadata": {},
   "outputs": [
    {
     "data": {
      "text/html": [
       "<div>\n",
       "<style scoped>\n",
       "    .dataframe tbody tr th:only-of-type {\n",
       "        vertical-align: middle;\n",
       "    }\n",
       "\n",
       "    .dataframe tbody tr th {\n",
       "        vertical-align: top;\n",
       "    }\n",
       "\n",
       "    .dataframe thead th {\n",
       "        text-align: right;\n",
       "    }\n",
       "</style>\n",
       "<table border=\"1\" class=\"dataframe\">\n",
       "  <thead>\n",
       "    <tr style=\"text-align: right;\">\n",
       "      <th></th>\n",
       "      <th>Unnamed: 0</th>\n",
       "      <th>X</th>\n",
       "      <th>Y</th>\n",
       "      <th>OBJECTID_left</th>\n",
       "      <th>STARTDATE</th>\n",
       "      <th>TmSTARTDAT</th>\n",
       "      <th>FINISHDATE</th>\n",
       "      <th>TmFINISHDA</th>\n",
       "      <th>EXACTDATE</th>\n",
       "      <th>PARTMONTH</th>\n",
       "      <th>...</th>\n",
       "      <th>index_right</th>\n",
       "      <th>OBJECTID_right</th>\n",
       "      <th>AREA</th>\n",
       "      <th>PERIMETER</th>\n",
       "      <th>COUNTY3_</th>\n",
       "      <th>COUNTY3_ID</th>\n",
       "      <th>COUNTY</th>\n",
       "      <th>Shape_Leng</th>\n",
       "      <th>Shape_Area</th>\n",
       "      <th>geometry</th>\n",
       "    </tr>\n",
       "  </thead>\n",
       "  <tbody>\n",
       "    <tr>\n",
       "      <th>0</th>\n",
       "      <td>24675</td>\n",
       "      <td>37.350000</td>\n",
       "      <td>1.033333</td>\n",
       "      <td>24676</td>\n",
       "      <td>2020-01-27</td>\n",
       "      <td>08:57:00</td>\n",
       "      <td>2020-01-27</td>\n",
       "      <td>08:57:00</td>\n",
       "      <td>No</td>\n",
       "      <td>Late</td>\n",
       "      <td>...</td>\n",
       "      <td>5</td>\n",
       "      <td>6</td>\n",
       "      <td>1.713</td>\n",
       "      <td>8.311</td>\n",
       "      <td>7</td>\n",
       "      <td>6</td>\n",
       "      <td>Samburu</td>\n",
       "      <td>8.311013</td>\n",
       "      <td>1.713014</td>\n",
       "      <td>POINT (37.35000 1.03333)</td>\n",
       "    </tr>\n",
       "    <tr>\n",
       "      <th>1</th>\n",
       "      <td>24676</td>\n",
       "      <td>37.600000</td>\n",
       "      <td>0.683333</td>\n",
       "      <td>24677</td>\n",
       "      <td>2020-01-27</td>\n",
       "      <td>09:45:00</td>\n",
       "      <td>2020-01-27</td>\n",
       "      <td>09:45:00</td>\n",
       "      <td>No</td>\n",
       "      <td>Late</td>\n",
       "      <td>...</td>\n",
       "      <td>5</td>\n",
       "      <td>6</td>\n",
       "      <td>1.713</td>\n",
       "      <td>8.311</td>\n",
       "      <td>7</td>\n",
       "      <td>6</td>\n",
       "      <td>Samburu</td>\n",
       "      <td>8.311013</td>\n",
       "      <td>1.713014</td>\n",
       "      <td>POINT (37.60000 0.68333)</td>\n",
       "    </tr>\n",
       "    <tr>\n",
       "      <th>2</th>\n",
       "      <td>24677</td>\n",
       "      <td>37.433333</td>\n",
       "      <td>1.350000</td>\n",
       "      <td>24678</td>\n",
       "      <td>2020-01-27</td>\n",
       "      <td>11:06:00</td>\n",
       "      <td>2020-01-27</td>\n",
       "      <td>11:06:00</td>\n",
       "      <td>No</td>\n",
       "      <td>Late</td>\n",
       "      <td>...</td>\n",
       "      <td>5</td>\n",
       "      <td>6</td>\n",
       "      <td>1.713</td>\n",
       "      <td>8.311</td>\n",
       "      <td>7</td>\n",
       "      <td>6</td>\n",
       "      <td>Samburu</td>\n",
       "      <td>8.311013</td>\n",
       "      <td>1.713014</td>\n",
       "      <td>POINT (37.43333 1.35000)</td>\n",
       "    </tr>\n",
       "    <tr>\n",
       "      <th>3</th>\n",
       "      <td>24678</td>\n",
       "      <td>37.300000</td>\n",
       "      <td>0.866667</td>\n",
       "      <td>24679</td>\n",
       "      <td>2020-01-27</td>\n",
       "      <td>11:11:00</td>\n",
       "      <td>2020-01-27</td>\n",
       "      <td>11:11:00</td>\n",
       "      <td>No</td>\n",
       "      <td>Late</td>\n",
       "      <td>...</td>\n",
       "      <td>5</td>\n",
       "      <td>6</td>\n",
       "      <td>1.713</td>\n",
       "      <td>8.311</td>\n",
       "      <td>7</td>\n",
       "      <td>6</td>\n",
       "      <td>Samburu</td>\n",
       "      <td>8.311013</td>\n",
       "      <td>1.713014</td>\n",
       "      <td>POINT (37.30000 0.86667)</td>\n",
       "    </tr>\n",
       "    <tr>\n",
       "      <th>4</th>\n",
       "      <td>24682</td>\n",
       "      <td>37.666667</td>\n",
       "      <td>0.800000</td>\n",
       "      <td>24683</td>\n",
       "      <td>2020-01-27</td>\n",
       "      <td>11:59:00</td>\n",
       "      <td>2020-01-27</td>\n",
       "      <td>11:59:00</td>\n",
       "      <td>No</td>\n",
       "      <td>Late</td>\n",
       "      <td>...</td>\n",
       "      <td>5</td>\n",
       "      <td>6</td>\n",
       "      <td>1.713</td>\n",
       "      <td>8.311</td>\n",
       "      <td>7</td>\n",
       "      <td>6</td>\n",
       "      <td>Samburu</td>\n",
       "      <td>8.311013</td>\n",
       "      <td>1.713014</td>\n",
       "      <td>POINT (37.66667 0.80000)</td>\n",
       "    </tr>\n",
       "  </tbody>\n",
       "</table>\n",
       "<p>5 rows × 163 columns</p>\n",
       "</div>"
      ],
      "text/plain": [
       "   Unnamed: 0          X         Y  OBJECTID_left   STARTDATE TmSTARTDAT  \\\n",
       "0       24675  37.350000  1.033333          24676  2020-01-27   08:57:00   \n",
       "1       24676  37.600000  0.683333          24677  2020-01-27   09:45:00   \n",
       "2       24677  37.433333  1.350000          24678  2020-01-27   11:06:00   \n",
       "3       24678  37.300000  0.866667          24679  2020-01-27   11:11:00   \n",
       "4       24682  37.666667  0.800000          24683  2020-01-27   11:59:00   \n",
       "\n",
       "   FINISHDATE TmFINISHDA EXACTDATE PARTMONTH  ... index_right  OBJECTID_right  \\\n",
       "0  2020-01-27   08:57:00        No      Late  ...           5               6   \n",
       "1  2020-01-27   09:45:00        No      Late  ...           5               6   \n",
       "2  2020-01-27   11:06:00        No      Late  ...           5               6   \n",
       "3  2020-01-27   11:11:00        No      Late  ...           5               6   \n",
       "4  2020-01-27   11:59:00        No      Late  ...           5               6   \n",
       "\n",
       "    AREA PERIMETER  COUNTY3_ COUNTY3_ID   COUNTY  Shape_Leng  Shape_Area  \\\n",
       "0  1.713     8.311         7          6  Samburu    8.311013    1.713014   \n",
       "1  1.713     8.311         7          6  Samburu    8.311013    1.713014   \n",
       "2  1.713     8.311         7          6  Samburu    8.311013    1.713014   \n",
       "3  1.713     8.311         7          6  Samburu    8.311013    1.713014   \n",
       "4  1.713     8.311         7          6  Samburu    8.311013    1.713014   \n",
       "\n",
       "                   geometry  \n",
       "0  POINT (37.35000 1.03333)  \n",
       "1  POINT (37.60000 0.68333)  \n",
       "2  POINT (37.43333 1.35000)  \n",
       "3  POINT (37.30000 0.86667)  \n",
       "4  POINT (37.66667 0.80000)  \n",
       "\n",
       "[5 rows x 163 columns]"
      ]
     },
     "execution_count": 79,
     "metadata": {},
     "output_type": "execute_result"
    }
   ],
   "source": [
    "test.head()\n"
   ]
  },
  {
   "cell_type": "code",
   "execution_count": null,
   "metadata": {},
   "outputs": [],
   "source": []
  }
 ],
 "metadata": {
  "kernelspec": {
   "display_name": "omdena_malaria",
   "language": "python",
   "name": "omdena_malaria"
  },
  "language_info": {
   "codemirror_mode": {
    "name": "ipython",
    "version": 3
   },
   "file_extension": ".py",
   "mimetype": "text/x-python",
   "name": "python",
   "nbconvert_exporter": "python",
   "pygments_lexer": "ipython3",
   "version": "3.8.5"
  }
 },
 "nbformat": 4,
 "nbformat_minor": 4
}
