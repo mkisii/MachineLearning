{
 "cells": [
  {
   "cell_type": "code",
   "execution_count": null,
   "metadata": {},
   "outputs": [],
   "source": [
    "import geopandas as gpd\n",
    "import numpy as np\n",
    "import folium\n",
    "import rasterio\n",
    "from functools import reduce\n",
    "from rasterio.plot import show\n",
    "from rasterio.plot import show_hist\n",
    "import matplotlib.pyplot as plt\n",
    "%matplotlib inline\n",
    "import shutil\n",
    "import rasterio\n",
    "# to calculate ndvi locally \n",
    "#import earthpy.spatial as es\n",
    "import os"
   ]
  },
  {
   "cell_type": "markdown",
   "metadata": {},
   "source": [
    "## Comparing bounding boxes and arrange the before/after images\n",
    "We used this code to compare if two geotiffs belong to the same region by compatring their bounding box coordinates.\n",
    "Later each was moved to a new seperate directories and renamed given the same name so we can later perform temporal analysis on them."
   ]
  },
  {
   "cell_type": "code",
   "execution_count": null,
   "metadata": {},
   "outputs": [],
   "source": [
    "# Set the paths to our data dir\n",
    "data_before_dir = 'D:/dl_data/data224/Kenya_AOI_before_224'\n",
    "data_after_dir = 'D:/dl_data/data224/Kenya_AOI_after_224'\n",
    "\n",
    "new_before = 'D:/dl_data/data224/Kenya_AOI_before_224_arr'\n",
    "new_after = 'D:/dl_data/data224/Kenya_AOI_after_224_arr'"
   ]
  },
  {
   "cell_type": "code",
   "execution_count": null,
   "metadata": {},
   "outputs": [],
   "source": [
    "# How many images we got\n",
    "img_before = []\n",
    "img_after = []\n",
    "img_dict = {}\n",
    "for filename in os.listdir(data_before_dir):\n",
    "    img_before.append(filename)\n",
    "\n",
    "for filename in os.listdir(data_after_dir):\n",
    "    img_after.append(filename)\n",
    "    \n",
    "print(f\"We have {len(img_before)} before tha ttack || We have {len(img_after)} after the attack\")\n",
    "\n",
    "#we need to find which are belonging to the same region\n",
    "# by checch=king the bonds\n",
    "for filename_before in img_before:\n",
    "    for filename_after in img_after:\n",
    "        # Check if the mgrs from geojson is belongs to one of the images\n",
    "        ratser_before = rasterio.open(data_before_dir +'/' + filename_before)\n",
    "        ratser_after = rasterio.open(data_after_dir + '/'+ filename_after)\n",
    "    \n",
    "        if ratser_before.bounds == ratser_after.bounds:\n",
    "            # pair the two\n",
    "            img_dict[filename_before] = filename_after\n",
    "            ratser_before.close()\n",
    "            ratser_after.close()\n",
    "           \n",
    "\n",
    "    #Move the corresponding files to the new dir and give them the same name\n",
    "for index, key in enumerate(img_dict):\n",
    "    file_before = key\n",
    "    file_after = img_dict[key]\n",
    "    os.rename(data_before_dir + '/' + file_before, new_dir_before + '/' + file_before)\n",
    "    os.rename(data_after_dir + '/' + file_after, new_dir_after + '/' + file_before)"
   ]
  },
  {
   "cell_type": "markdown",
   "metadata": {},
   "source": [
    "## Crop Geotiffs"
   ]
  },
  {
   "cell_type": "code",
   "execution_count": null,
   "metadata": {},
   "outputs": [],
   "source": [
    "data_before_dir = 'D:/dl_data/Kenya_AOI_before_224'\n",
    "\n",
    "resized_before_dir = 'D:/dl_data/kenya_before_224_resized'"
   ]
  },
  {
   "cell_type": "code",
   "execution_count": null,
   "metadata": {},
   "outputs": [],
   "source": [
    "import rasterio\n",
    "from rasterio.windows import Window\n",
    "# Get the number of imges within each folder\n",
    "before_imgs = []\n",
    "geotif_size = 224\n",
    "for filename in os.listdir(data_before_dir):\n",
    "    before_imgs.append(filename)\n",
    "\n",
    "#Resize the images in our directories\n",
    "for filename in before_imgs:\n",
    "    with rasterio.open(data_before_dir + '/' + filename) as src:\n",
    "        window = Window(0, 0,geotif_size, geotif_size)\n",
    "\n",
    "        kwargs = src.meta.copy()\n",
    "        kwargs.update({\n",
    "            'height': window.height,\n",
    "            'width': window.width,\n",
    "            'transform': rasterio.windows.transform(window, src.transform)})\n",
    "\n",
    "        with rasterio.open(resized_before_dir + '/' + filename, 'w', **kwargs) as dst:\n",
    "            dst.write(src.read(window=window))\n",
    "    "
   ]
  },
  {
   "cell_type": "code",
   "execution_count": null,
   "metadata": {},
   "outputs": [],
   "source": []
  }
 ],
 "metadata": {
  "kernelspec": {
   "display_name": "omdena_malaria",
   "language": "python",
   "name": "omdena_malaria"
  },
  "language_info": {
   "codemirror_mode": {
    "name": "ipython",
    "version": 3
   },
   "file_extension": ".py",
   "mimetype": "text/x-python",
   "name": "python",
   "nbconvert_exporter": "python",
   "pygments_lexer": "ipython3",
   "version": "3.8.5"
  }
 },
 "nbformat": 4,
 "nbformat_minor": 4
}
