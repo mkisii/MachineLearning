{
  "nbformat": 4,
  "nbformat_minor": 0,
  "metadata": {
    "colab": {
      "name": "Image_collection and Supervised_classification.ipynb",
      "provenance": [],
      "collapsed_sections": [],
      "toc_visible": true,
      "mount_file_id": "1nwDGQzHEpFdB--8Qhds0iqdHdgyXfH-k",
      "authorship_tag": "ABX9TyOn9ms4JIDN3xBneL3qHNvw",
      "include_colab_link": true
    },
    "kernelspec": {
      "display_name": "Python 3",
      "name": "python3"
    }
  },
  "cells": [
    {
      "cell_type": "markdown",
      "metadata": {
        "id": "view-in-github",
        "colab_type": "text"
      },
      "source": [
        "<a href=\"https://colab.research.google.com/github/Transega/Smile-randomforest-supervised-classification/blob/main/Image_collection_and_Supervised_classification.ipynb\" target=\"_parent\"><img src=\"https://colab.research.google.com/assets/colab-badge.svg\" alt=\"Open In Colab\"/></a>"
      ]
    },
    {
      "cell_type": "code",
      "metadata": {
        "id": "0UY698Ybr6fg",
        "colab": {
          "base_uri": "https://localhost:8080/"
        },
        "outputId": "2f0c6aca-5c11-43c1-f023-110be6d68c66"
      },
      "source": [
        "# Installs geemap package\r\n",
        "import subprocess\r\n",
        " \r\n",
        "try:\r\n",
        "    import geemap\r\n",
        "except ImportError:\r\n",
        "    print('geemap package not installed. Installing ...')\r\n",
        "    subprocess.check_call([\"python\", '-m', 'pip', 'install', 'geemap'])\r\n",
        " \r\n",
        "# Checks whether this notebook is running on Google Colab\r\n",
        "try:\r\n",
        "    import google.colab\r\n",
        "    import geemap.eefolium as geemap\r\n",
        "except:\r\n",
        "    import geemap\r\n",
        " \r\n",
        "# Authenticates and initializes Earth Engine\r\n",
        "import ee\r\n",
        " \r\n",
        "try:\r\n",
        "    ee.Initialize()\r\n",
        "except Exception as e:\r\n",
        "    ee.Authenticate()\r\n",
        "    ee.Initialize()"
      ],
      "execution_count": 5,
      "outputs": [
        {
          "output_type": "stream",
          "text": [
            "To authorize access needed by Earth Engine, open the following URL in a web browser and follow the instructions. If the web browser does not start automatically, please manually browse the URL below.\n",
            "\n",
            "    https://accounts.google.com/o/oauth2/auth?client_id=517222506229-vsmmajv00ul0bs7p89v5m89qs8eb9359.apps.googleusercontent.com&scope=https%3A%2F%2Fwww.googleapis.com%2Fauth%2Fearthengine+https%3A%2F%2Fwww.googleapis.com%2Fauth%2Fdevstorage.full_control&redirect_uri=urn%3Aietf%3Awg%3Aoauth%3A2.0%3Aoob&response_type=code&code_challenge=wrdG_Gk10JswPm1QY5p7eIqE8mlaOXh7LuKtYyrWlJk&code_challenge_method=S256\n",
            "\n",
            "The authorization workflow will generate a code, which you should paste in the box below. \n",
            "Enter verification code: 4/1AY0e-g4gAbakKtQrVcbcGCBNM93CCiIohw4iFzAjmBxqimaZefmJ5oEJSp8\n",
            "\n",
            "Successfully saved authorization token.\n"
          ],
          "name": "stdout"
        }
      ]
    },
    {
      "cell_type": "code",
      "metadata": {
        "id": "_G5f9KW5I3Wd"
      },
      "source": [
        "# !pip install geopandas \r\n",
        "# !pip -q install rasterio"
      ],
      "execution_count": null,
      "outputs": []
    },
    {
      "cell_type": "markdown",
      "metadata": {
        "id": "_qadfWvU5Afa"
      },
      "source": [
        "# 1 Import Libraries"
      ]
    },
    {
      "cell_type": "code",
      "metadata": {
        "id": "rJ6jsQbZsDJB"
      },
      "source": [
        "import ee\r\n",
        "import geemap\r\n",
        "import geemap.eefolium\r\n",
        "#import rasterio\r\n",
        "#from rasterio import plot\r\n",
        "#%matplotlib inline"
      ],
      "execution_count": 6,
      "outputs": []
    },
    {
      "cell_type": "markdown",
      "metadata": {
        "id": "Pb5XuKJ15IZP"
      },
      "source": [
        "# 2 Define Area of interest\r\n",
        "\r\n",
        "Here replace the counties affected with your google earth engine asset or use a shapefile and convert it to GEE asset using the function in section *3* you may also subset the various counties. "
      ]
    },
    {
      "cell_type": "markdown",
      "metadata": {
        "id": "hfERds_GR7Xr"
      },
      "source": [
        ""
      ]
    },
    {
      "cell_type": "code",
      "metadata": {
        "id": "SPDC--9FsT81"
      },
      "source": [
        "# Counties Affected Area of interest\n",
        "Counties_affected =  ee.FeatureCollection('users/collinsasegaca/Affected_counties') #https://drive.google.com/file/d/1VAZ879vzOUv9Hbo2PWFwCczYIGWityfS/view?usp=sharing\n",
        " \n",
        "# Subset the counties since the entire region takes too much time to compute  #link to the shapefiles https://drive.google.com/drive/folders/1eFN6ZZKN3f-KHJMx4AaDP2Ko3psUOb6W?usp=sharing\n",
        "Elgeiyo_Baringo = './drive/MyDrive/omdena/affected_counties/brokendown/Elgeyo_baringo.shp' # Elgeiyo Marakwet & Baringo \n",
        "Laikipia_samburu = './drive/MyDrive/omdena/affected_counties/brokendown/Laikipia_samburu.shp' #  Laikipia_samburu\n",
        "Kitui = './drive/MyDrive/omdena/affected_counties/brokendown/Kitui.shp' # Kitui\n",
        "Mandera = './drive/MyDrive/omdena/affected_counties/brokendown/Mandera.shp' # Mandera\n",
        "Machakos_embu = './drive/MyDrive/omdena/affected_counties/brokendown/Machakos_embu.shp' # Machakos_embu\n",
        "Marsabit = './drive/MyDrive/omdena/affected_counties/brokendown/Marsabit.shp' # Marsabit\n",
        "Meru_isolo ='./drive/MyDrive/omdena/affected_counties/brokendown/Meru_isolo.shp' # Meru and Isiolo\n",
        "Tana = './drive/MyDrive/omdena/affected_counties/brokendown/Tana.shp' #Tana\n",
        "Turkana = './drive/MyDrive/omdena/affected_counties/brokendown/Turkana.shp' \n",
        "Wajir = './drive/MyDrive/omdena/affected_counties/brokendown/Wajir.shp' #Wajir \n",
        "Garissa = './drive/MyDrive/omdena/affected_counties/brokendown/Garissa.shp' # Garisa\n",
        "\n",
        " \n",
        "# "
      ],
      "execution_count": 7,
      "outputs": []
    },
    {
      "cell_type": "markdown",
      "metadata": {
        "id": "yb03GQZc5heD"
      },
      "source": [
        "3 Convert shapefiles to google earth engine objects "
      ]
    },
    {
      "cell_type": "code",
      "metadata": {
        "id": "zK86rSgV4k9s"
      },
      "source": [
        "def conv(in_shp):\n",
        "  ee_object = geemap.shp_to_ee(in_shp)\n",
        "  return ee_object"
      ],
      "execution_count": 8,
      "outputs": []
    },
    {
      "cell_type": "markdown",
      "metadata": {
        "id": "96oi6p1e5o6S"
      },
      "source": [
        "4 Define the dates"
      ]
    },
    {
      "cell_type": "code",
      "metadata": {
        "id": "UyOwsl5k-lrN"
      },
      "source": [
        "# date before attack\n",
        "fdate = '2019-08-1' #('2017-01-1' ,'2017-12-31')\n",
        "ldate = '2019-12-25'\n",
        " \n",
        "#date after attack\n",
        "after_fdate = '2020-1-1'\n",
        "after_ldate = '2020-5-31'"
      ],
      "execution_count": 9,
      "outputs": []
    },
    {
      "cell_type": "markdown",
      "metadata": {
        "id": "TtTcUqJr5xX7"
      },
      "source": [
        "# 5 Image collection"
      ]
    },
    {
      "cell_type": "code",
      "metadata": {
        "id": "qDsT_RCo-yGn"
      },
      "source": [
        "def sentinel_2_before(image):\n",
        "  collection = ee.ImageCollection(\"COPERNICUS/S2\") \\\n",
        "    .filter(ee.Filter.lt(\"CLOUDY_PIXEL_PERCENTAGE\", 10)) \\\n",
        "    .filterBounds(geometry) \\\n",
        " \n",
        "  before_collection = collection.filterDate(fdate,ldate)# before attack\n",
        "  \n",
        "  medianpixels_before = before_collection.median()\n",
        "  medianpixelsclipped_before = medianpixels_before.clip(geometry).divide(10000)\n",
        "  \n",
        " \n",
        "  vis_params = {\n",
        "    'min': 0,\n",
        "    'max': 1,\n",
        "    'bands': ['B12', 'B11', 'B4'], 'gamma': 1.5\n",
        "  }\n",
        "  return medianpixelsclipped_before\n",
        " \n",
        "# get after images \n",
        "def sentinel_2_After(image):\n",
        "  collection = ee.ImageCollection(\"COPERNICUS/S2\") \\\n",
        "    .filter(ee.Filter.lt(\"CLOUDY_PIXEL_PERCENTAGE\", 10)) \\\n",
        "    .filterBounds(geometry) \\\n",
        " \n",
        "  after_collection = collection.filterDate(after_fdate,after_ldate)# after attack\n",
        " \n",
        "  medianpixels_after = after_collection.median()\n",
        "  medianpixelsclipped_after = medianpixels_after.clip(geometry).divide(10000) \n",
        " \n",
        " \n",
        "  vis_params = {\n",
        "    'min': 0,\n",
        "    'max': 1,\n",
        "    'bands': ['B12', 'B11', 'B4'], 'gamma': 1.5\n",
        "  }\n",
        "  return medianpixelsclipped_after"
      ],
      "execution_count": 10,
      "outputs": []
    },
    {
      "cell_type": "code",
      "metadata": {
        "id": "flrTV30JGQwW"
      },
      "source": [
        "# Get before image for all counties affected \n",
        "geometry = Counties_affected \n",
        "All_counties_before = sentinel_2_before(geometry)"
      ],
      "execution_count": null,
      "outputs": []
    },
    {
      "cell_type": "code",
      "metadata": {
        "id": "71MRG_qRLcsF"
      },
      "source": [
        "# Get after Images for all affected counties \r\n",
        "All_Counties_after = sentinel_2_After(geometry)\r\n",
        "# Visualization parameters\r\n",
        "vis_params = {\r\n",
        "    'min': 0,\r\n",
        "    'max': 1,\r\n",
        "    'bands': ['B12', 'B11', 'B4'], 'gamma': 1.5\r\n",
        "  }"
      ],
      "execution_count": null,
      "outputs": []
    },
    {
      "cell_type": "markdown",
      "metadata": {
        "id": "PmQXDdeI6Uwk"
      },
      "source": [
        "6 Visualize the Image"
      ]
    },
    {
      "cell_type": "code",
      "metadata": {
        "id": "UKS7flPgG_eX"
      },
      "source": [
        "Map_p = geemap.Map()\r\n",
        "Map_p.addLayer(All_counties_before, vis_params, 'Affected Counties Sentinel 2 Before attack image')\r\n",
        "Map_p.addLayer(All_Counties_after, vis_params, 'Affected  Counties Sentinel 2 After attack image')\r\n",
        "Map_p.centerObject(Counties_affected, 8)\r\n",
        "Map_p.addLayerControl()\r\n",
        "Map_p"
      ],
      "execution_count": null,
      "outputs": []
    },
    {
      "cell_type": "markdown",
      "metadata": {
        "id": "362feXYS8eTy"
      },
      "source": [
        "7 Build a webmap visualization \r\n"
      ]
    },
    {
      "cell_type": "code",
      "metadata": {
        "id": "m9SrNPI98m2Y"
      },
      "source": [
        "Map_p.save('counties_affected_before&after.html',close_file=True)"
      ],
      "execution_count": null,
      "outputs": []
    },
    {
      "cell_type": "markdown",
      "metadata": {
        "id": "PQzQom6f9afw"
      },
      "source": [
        "Getting images for respective counties \r\n",
        "here you only read to read a shapefile from your drive and use the function to convert to gee object "
      ]
    },
    {
      "cell_type": "code",
      "metadata": {
        "id": "d3uLhpBgA5_9"
      },
      "source": [
        "AOI = conv(Garissa) # converts Garrisa county shapefile to gee object\n",
        " \n",
        "Garisa_image = All_counties_before.clip(AOI.geometry()) # obtains  cliped image for the county\n",
        " \n"
      ],
      "execution_count": null,
      "outputs": []
    },
    {
      "cell_type": "code",
      "metadata": {
        "id": "QwOI9c2o76lb"
      },
      "source": [
        "# visualize Garrisa image\n",
        "Map_p = geemap.Map()\n",
        "Map_p.addLayer(Garisa_image, vis_params, 'Garissa Sentinel 2 Before image')\n",
        "Map_p.centerObject(AOI, 8)\n",
        "Map_p.addLayerControl()\n",
        "Map_p"
      ],
      "execution_count": null,
      "outputs": []
    },
    {
      "cell_type": "markdown",
      "metadata": {
        "id": "0ONvAhVh-SbC"
      },
      "source": [
        "Generate training points from sentinel 2 2016 LULC image for kenya \r\n",
        "\r\n",
        "link= http://geoportal.rcmrd.org/layers/servir%3Akenya_sentinel2_lulc2016"
      ]
    },
    {
      "cell_type": "code",
      "metadata": {
        "id": "v5jtLBsbNHUx"
      },
      "source": [
        "# Make the training dataset.\r\n",
        "def training(points):\r\n",
        "  S2LULC_2016 = ee.Image('users/collinsasegaca/Kenya_Sentinel2_LULC2016').select('b1').clip(ROI.geometry())\r\n",
        "  points = S2LULC_2016.sample(**{\r\n",
        "      'region': ROI.geometry(),\r\n",
        "      'scale': 10,\r\n",
        "      'numPixels': 4000,\r\n",
        "      'seed': 0,\r\n",
        "      'geometries': True  # Set this to False to ignore geometries\r\n",
        "  })\r\n",
        "  return points"
      ],
      "execution_count": null,
      "outputs": []
    },
    {
      "cell_type": "code",
      "metadata": {
        "id": "1W7nRyaANon7"
      },
      "source": [
        "ROI = AOI"
      ],
      "execution_count": null,
      "outputs": []
    },
    {
      "cell_type": "code",
      "metadata": {
        "id": "k9S--d26OWLX"
      },
      "source": [
        "points_garissa = training(ROI) #generation of Random points for training our model for classification "
      ],
      "execution_count": null,
      "outputs": []
    },
    {
      "cell_type": "code",
      "metadata": {
        "id": "VTodwUgxOsfU"
      },
      "source": [
        "#Visualization of the training points\r\n",
        "Map3 = geemap.Map()\r\n",
        "Map3.centerObject(ROI,8)\r\n",
        "Map3.addLayer(points_garissa.draw(\"blue\"), {}, 'training', False);\r\n",
        "Map3"
      ],
      "execution_count": null,
      "outputs": []
    },
    {
      "cell_type": "markdown",
      "metadata": {
        "id": "ySPYDIyS-__b"
      },
      "source": [
        "8 Train the model and classify the images"
      ]
    },
    {
      "cell_type": "code",
      "metadata": {
        "id": "rtV1UkZPP-Ws"
      },
      "source": [
        "# Training and classifiy\n",
        "def Train_classify(trainin_data): \n",
        "  bands = ['B2', 'B3', 'B4', 'B8']\n",
        " \n",
        " \n",
        "# This property of the table stores the land cover labels.\n",
        "  label = 'b1'\n",
        " \n",
        "# Overlay the points on the imagery to get training for the before imge\n",
        "  training = image.select(bands).sampleRegions(**{\n",
        "    'collection': points,\n",
        "    'properties': [label],\n",
        "    'scale': 10\n",
        "  })\n",
        " \n",
        "# Train a CART classifier with default parameters.\n",
        "  trained = ee.Classifier.smileCart().train(training, label, bands)\n",
        "  # Classify the image with the same bands used for training.\n",
        "  result = image.select(bands).classify(trained)\n",
        "  return result"
      ],
      "execution_count": null,
      "outputs": []
    },
    {
      "cell_type": "code",
      "metadata": {
        "id": "goq6qh1OR6T0"
      },
      "source": [
        "image = Garisa_image\r\n",
        "points = points_garissa"
      ],
      "execution_count": null,
      "outputs": []
    },
    {
      "cell_type": "code",
      "metadata": {
        "id": "CarD7MjFR_38"
      },
      "source": [
        "Garrisa_Classified_before = Train_classify(image) #Classify the before attack  Image "
      ],
      "execution_count": null,
      "outputs": []
    },
    {
      "cell_type": "code",
      "metadata": {
        "id": "YO5fJgP8nBlS"
      },
      "source": [
        "#Export result\r\n",
        "geemap.ee_export_image_to_drive(Garrisa_Classified_before, description='Garissa_before', folder='omdena', scale=10)"
      ],
      "execution_count": null,
      "outputs": []
    },
    {
      "cell_type": "code",
      "metadata": {
        "id": "8TzPgjHwqzG_"
      },
      "source": [
        "#after\r\n",
        "AOI = conv(Garissa) # define AOI for the county\r\n",
        "Garissa_image_after = All_Counties_after.clip(AOI.geometry()) # Get the image for the location \r\n",
        "# Generation of trianing Points\r\n",
        "\r\n",
        "#ROI = AOI # define the Region to create points from the Sentinel 2 image \r\n",
        "points_Garissa = training(ROI) #this generates points from the function\r\n",
        "\r\n",
        "# Training and classifiy\r\n",
        "\r\n",
        "image = Garissa_image_after # defines the image for the Location\r\n",
        "points = points_garissa # defines the points to be used \r\n",
        "Garissa_Classified_After = Train_classify(image)"
      ],
      "execution_count": null,
      "outputs": []
    },
    {
      "cell_type": "markdown",
      "metadata": {
        "id": "-o2rBE6I4xSS"
      },
      "source": [
        "## 9 Accuracy assement \r\n",
        "## Overall Accuracy essentially tells us out of all of the reference sites what proportion were mapped correctly. The overall accuracy is usually expressed as a percent, with 100% accuracy being a perfect classification where all reference site were classified correctly\r\n",
        "\r\n",
        "There are various methods to check accuracy including:\r\n",
        "\r\n",
        "***Kappa***\r\n",
        "The Kappa Coefficient is generated from a statistical test to evaluate the accuracy of a classification. Kappa essentially evaluates how well the classification performed as compared to just randomly assigning values, i.e. did the classification do better than random. The Kappa Coefficient can range from -1 t0 1. A value of 0 indicated that the classification is no better than a random classification. A negative number indicates the classification is significantly worse than random. A value close to 1 indicates that the classification is significantly better than random.\r\n",
        "\r\n",
        "***confusionMatrix()***\r\n",
        "\r\n",
        "# confusionMatrix() computes a 2D confusion matrix for a classifier based on its training data (ie: resubstitution error). Axis 0 of the matrix correspond to the input classes (i.e., reference data), and axis 1 to the output classes (i.e., classification data). The rows and columns start at class 0 and increase sequentially up to the maximum class value\r\n",
        "\r\n",
        "\r\n",
        "\r\n"
      ]
    },
    {
      "cell_type": "code",
      "metadata": {
        "id": "9TgqTkVx42HJ"
      },
      "source": [
        "#Split Training and testing\r\n",
        "def train_test(train_Test):\r\n",
        "  bands = ['B2', 'B3', 'B4', 'B8']\r\n",
        "\r\n",
        "\r\n",
        "  # This property of the table stores the land cover labels.\r\n",
        "  label = 'b1'\r\n",
        "\r\n",
        "  # Overlay the points on the imagery to get training for the before imge\r\n",
        "  sample = image.select(bands).sampleRegions(**{\r\n",
        "    'collection': points,\r\n",
        "    'properties': [label],\r\n",
        "    'scale': 10\r\n",
        "  })\r\n",
        "\r\n",
        "  # Adds a column of deterministic pseudorandom numbers. \r\n",
        "  sample = sample.randomColumn()\r\n",
        "\r\n",
        "  split = 0.7\r\n",
        "\r\n",
        "  training_dta = sample.filter(ee.Filter.lt('random', split))\r\n",
        "  validation_dta = sample.filter(ee.Filter.gte('random', split))\r\n",
        "  #inspect the data\r\n",
        "  training_dta.first().getInfo()\r\n",
        "  validation_dta.first().getInfo()\r\n",
        "  # Train Classifier\r\n",
        "  classifier = ee.Classifier.smileRandomForest(10).train(training_dta, label, bands)\r\n",
        "  # Classify the image with the same bands used for training.\r\n",
        "  result_1 = image.select(bands).classify(classifier)\r\n",
        "  train_accuracy = classifier.confusionMatrix()\r\n",
        "  train_accuracy.getInfo()\r\n",
        "  train_accuracy.accuracy().getInfo()\r\n",
        "  print('confusionMatrix:',train_accuracy.accuracy().getInfo())\r\n",
        "  print('Kappa:',train_accuracy.kappa().getInfo())\r\n",
        "  validated = validation_dta.classify(classifier) # use the validation dataset\r\n",
        "  #test accuracy\r\n",
        "  test_accuracy = validated.errorMatrix('b1', 'classification') # errorMatrix computes a 2D error matrix for a collection by comparing two columns of a collection: one containing the actual values, and one containing predicted values.\r\n",
        "  test_accuracy.accuracy().getInfo()\r\n",
        "  return test_accuracy"
      ],
      "execution_count": null,
      "outputs": []
    },
    {
      "cell_type": "code",
      "metadata": {
        "id": "hmRzL3R546ey"
      },
      "source": [
        "image = Garisa_image\r\n",
        "points = points_garissa\r\n",
        "\r\n"
      ],
      "execution_count": null,
      "outputs": []
    },
    {
      "cell_type": "code",
      "metadata": {
        "colab": {
          "base_uri": "https://localhost:8080/"
        },
        "id": "zKf8NXIFAOUo",
        "outputId": "dcf9a41b-7b2a-4eb4-abe2-b074769bc7a5"
      },
      "source": [
        "accuracy_Garisaa = train_test(image)"
      ],
      "execution_count": null,
      "outputs": [
        {
          "output_type": "stream",
          "text": [
            "confusionMatrix: 0.9308336366945759\n",
            "Kappa: 0.8783109627849728\n"
          ],
          "name": "stdout"
        }
      ]
    },
    {
      "cell_type": "markdown",
      "metadata": {
        "id": "A5tWp-XzWkvO"
      },
      "source": [
        "Elgeiyo Markwet and Baringo county"
      ]
    },
    {
      "cell_type": "code",
      "metadata": {
        "id": "5Bdrn8SMWiHb"
      },
      "source": [
        "\r\n",
        "AOI = conv(Elgeiyo_Baringo) # define AOI for the county\r\n",
        "Elgyo_Baringo_image = All_counties_before.clip(AOI.geometry()) # Get the image for the location \r\n",
        "# Generation of trianing Points\r\n",
        "\r\n",
        "ROI = AOI # define the Region to create points from the Sentinel 2 image \r\n",
        "points_Elgeiyo_baringo = training(ROI) #this generates points from the function\r\n",
        "\r\n",
        "# Training and classifiy\r\n",
        "\r\n",
        "image = Elgyo_Baringo_image # defines the image for the Location\r\n",
        "points = points_Elgeiyo_baringo # defines the points to be used \r\n",
        "Elgyo_Baringo_Classified_before = Train_classify(image)\r\n",
        "\r\n",
        "#after\r\n",
        "AOI = conv(Elgeiyo_Baringo) # define AOI for the county\r\n",
        "Elgyo_Baringo_image_after = All_Counties_after.clip(AOI.geometry()) # Get the image for the location \r\n",
        "# Generation of trianing Points\r\n",
        "\r\n",
        "#ROI = AOI # define the Region to create points from the Sentinel 2 image \r\n",
        "points_Elgeiyo_baringo = training(ROI) #this generates points from the function\r\n",
        "\r\n",
        "# Training and classifiy\r\n",
        "\r\n",
        "image = Elgyo_Baringo_image_after # defines the image for the Location\r\n",
        "points = points_Elgeiyo_baringo # defines the points to be used \r\n",
        "Elgyo_Baringo_Classified_After = Train_classify(image)\r\n",
        "\r\n",
        "\r\n",
        "\r\n"
      ],
      "execution_count": null,
      "outputs": []
    },
    {
      "cell_type": "markdown",
      "metadata": {
        "id": "Eg1ChUgssuWk"
      },
      "source": [
        "Accuracy asessment "
      ]
    },
    {
      "cell_type": "code",
      "metadata": {
        "id": "p7CA5IdYzxdK"
      },
      "source": [
        "image = Elgyo_Baringo_image\r\n",
        "points = points_Elgeiyo_baringo"
      ],
      "execution_count": null,
      "outputs": []
    },
    {
      "cell_type": "code",
      "metadata": {
        "colab": {
          "base_uri": "https://localhost:8080/"
        },
        "id": "dPR6fvKZx322",
        "outputId": "d9a6c3dd-d519-402a-a2a0-50f243c1bcff"
      },
      "source": [
        "accuracy_Elgyo_Baringo = train_test(image)\r\n"
      ],
      "execution_count": null,
      "outputs": [
        {
          "output_type": "stream",
          "text": [
            "confusionMatrix: 0.929523141654979\n",
            "Kappa: 0.9045890628240341\n"
          ],
          "name": "stdout"
        }
      ]
    },
    {
      "cell_type": "code",
      "metadata": {
        "id": "onI4mwDuh75g"
      },
      "source": [
        "#Export Before and After Images for \r\n",
        "# geemap.ee_export_image_to_drive(Elgyo_Baringo_Classified_After, description='Elgeiyo_Baringo_After', folder='omdena', scale=10)\r\n",
        "# geemap.ee_export_image_to_drive(Elgyo_Baringo_Classified_before, descripti='Elgeiyo_Baringo_before', folder='omdena', scale=10)"
      ],
      "execution_count": null,
      "outputs": []
    },
    {
      "cell_type": "markdown",
      "metadata": {
        "id": "QiofUwJuh87S"
      },
      "source": [
        "Kitui"
      ]
    },
    {
      "cell_type": "code",
      "metadata": {
        "id": "umCoERUIh3xF"
      },
      "source": [
        "AOI = conv(Kitui) # define AOI for the county\r\n",
        "Kitui_image_before = All_counties_before.clip(AOI.geometry()) # Get the image for the location \r\n",
        "# Generation of trianing Points\r\n",
        "\r\n",
        "ROI = AOI # define the Region to create points from the Sentinel 2 image \r\n",
        "points_Kitui = training(ROI) #this generates points from the function\r\n",
        "\r\n",
        "\r\n",
        "# Training and classifiy\r\n",
        "\r\n",
        "image = Kitui_image_before # defines the image for the Location\r\n",
        "points = points_Kitui # defines the points to be used \r\n",
        "Kitui_Classified_before = Train_classify(image)\r\n",
        "\r\n"
      ],
      "execution_count": null,
      "outputs": []
    },
    {
      "cell_type": "code",
      "metadata": {
        "id": "oak0tGAmmGrH"
      },
      "source": [
        "#after \r\n",
        "#AOI = conv(E) # define AOI for the county\r\n",
        "Kitui_after = All_Counties_after.clip(AOI.geometry()) # Get the image for the location \r\n",
        "# Generation of trianing Points\r\n",
        "\r\n",
        "#ROI = AOI # define the Region to create points from the Sentinel 2 image \r\n",
        "points_Kitui = training(ROI) #this generates points from the function\r\n",
        "\r\n",
        "# Training and classifiy\r\n",
        "\r\n",
        "image = Kitui_after # defines the image for the Location\r\n",
        "points = points_Kitui # defines the points to be used \r\n",
        "Kitui_Classified_After = Train_classify(image) "
      ],
      "execution_count": null,
      "outputs": []
    },
    {
      "cell_type": "markdown",
      "metadata": {
        "id": "bb12mbELEpyN"
      },
      "source": [
        "Accuracy assesment "
      ]
    },
    {
      "cell_type": "code",
      "metadata": {
        "colab": {
          "base_uri": "https://localhost:8080/"
        },
        "id": "cYTXwzyypoLH",
        "outputId": "71785916-9164-49f3-fe06-0e951e75fe9f"
      },
      "source": [
        "#Before image\r\n",
        "image = Kitui_image_before\r\n",
        "accuracy_Kitui = train_test(image)"
      ],
      "execution_count": null,
      "outputs": [
        {
          "output_type": "stream",
          "text": [
            "confusionMatrix: 0.9384864427357346\n",
            "Kappa: 0.9110189167009396\n"
          ],
          "name": "stdout"
        }
      ]
    },
    {
      "cell_type": "code",
      "metadata": {
        "colab": {
          "base_uri": "https://localhost:8080/"
        },
        "id": "UCPWsylAGYi2",
        "outputId": "8ae13c98-4176-46fd-b234-2ec6435e4ebb"
      },
      "source": [
        "# After image\r\n",
        "image = Kitui_after\r\n",
        "accuracy_Kitui = train_test(image)"
      ],
      "execution_count": null,
      "outputs": [
        {
          "output_type": "stream",
          "text": [
            "confusionMatrix: 0.9323550465282748\n",
            "Kappa: 0.8987139429301385\n"
          ],
          "name": "stdout"
        }
      ]
    },
    {
      "cell_type": "code",
      "metadata": {
        "id": "OS6QfnobthiQ"
      },
      "source": [
        "# Export Images \r\n",
        "# geemap.ee_export_image_to_drive(Kitui_Classified_After, description='Kitui_Classified_After', folder='omdena', scale=10)\r\n",
        "# geemap.ee_export_image_to_drive(Kitui_Classified_before, description='Kitui_Classified_before', folder='omdena', scale=10)"
      ],
      "execution_count": null,
      "outputs": []
    },
    {
      "cell_type": "markdown",
      "metadata": {
        "id": "4iSvvShbuHbH"
      },
      "source": [
        "Laikipia and Samburu"
      ]
    },
    {
      "cell_type": "code",
      "metadata": {
        "id": "c3w4bI8ZuKY-"
      },
      "source": [
        "AOI = conv(Laikipia_samburu) # define AOI for the county\r\n",
        "Laikipia_Samburu_before_image = All_counties_before.clip(AOI.geometry()) # Get the image for the location \r\n",
        "# Generation of trianing Points\r\n",
        "\r\n",
        "ROI = AOI # define the Region to create points from the Sentinel 2 image \r\n",
        "points_Laikipia_Samburu = training(ROI) #this generates points from the function\r\n",
        "\r\n",
        "# Training and classifiy\r\n",
        "\r\n",
        "image = Laikipia_Samburu_before_image # defines the image for the Location\r\n",
        "points = points_Laikipia_Samburu # defines the points to be used \r\n",
        "Laikipia_Samburu_Classified_before = Train_classify(image)\r\n",
        "\r\n",
        "#after\r\n",
        "#AOI = conv(Elgeiyo_Baringo) # define AOI for the county\r\n",
        "Laikipia_Samburu_after_image = All_Counties_after.clip(AOI.geometry()) # Get the image for the location \r\n",
        "# Generation of trianing Points\r\n",
        "\r\n",
        "#ROI = AOI # define the Region to create points from the Sentinel 2 image \r\n",
        "#points_Elgeiyo_baringo = training(ROI) #this generates points from the function\r\n",
        "\r\n",
        "# Training and classifiy\r\n",
        "\r\n",
        "image = Laikipia_Samburu_after_image # defines the image for the Location\r\n",
        "points = points_Laikipia_Samburu # defines the points to be used \r\n",
        "Laikipia_Samburu_Classified_after = Train_classify(image)\r\n",
        "\r\n"
      ],
      "execution_count": null,
      "outputs": []
    },
    {
      "cell_type": "markdown",
      "metadata": {
        "id": "cXNa37CRHNfI"
      },
      "source": [
        "Accuracy"
      ]
    },
    {
      "cell_type": "code",
      "metadata": {
        "colab": {
          "base_uri": "https://localhost:8080/"
        },
        "id": "wT4VgJL8HMfA",
        "outputId": "72aea11b-6bf1-4caf-f049-fd695448dfa9"
      },
      "source": [
        "#Before image\r\n",
        "image = Laikipia_Samburu_before_image\r\n",
        "accuracy_Kitui = train_test(image)"
      ],
      "execution_count": null,
      "outputs": [
        {
          "output_type": "stream",
          "text": [
            "confusionMatrix: 0.9192132068844397\n",
            "Kappa: 0.8832877280738277\n"
          ],
          "name": "stdout"
        }
      ]
    },
    {
      "cell_type": "code",
      "metadata": {
        "colab": {
          "base_uri": "https://localhost:8080/"
        },
        "id": "buyCbMH7HtUV",
        "outputId": "387b0c1b-0b16-4039-d0ca-15a350bf46a2"
      },
      "source": [
        "#Atfer image\r\n",
        "image = Laikipia_Samburu_after_image\r\n",
        "accuracy_Laikipia_samburu = train_test(image)"
      ],
      "execution_count": null,
      "outputs": [
        {
          "output_type": "stream",
          "text": [
            "confusionMatrix: 0.9261768901569187\n",
            "Kappa: 0.8941371711074079\n"
          ],
          "name": "stdout"
        }
      ]
    },
    {
      "cell_type": "code",
      "metadata": {
        "id": "wc-gcAxdH2aA"
      },
      "source": [
        "#export the images\r\n",
        "geemap.ee_export_image_to_drive(Laikipia_Samburu_Classified_after, description='Laikipia_samburu_Classified_After', folder='omdena', scale=10)\r\n",
        "geemap.ee_export_image_to_drive(Laikipia_Samburu_Classified_before, description='Laikipia_samburu_Classified_before', folder='omdena', scale=10)"
      ],
      "execution_count": null,
      "outputs": []
    },
    {
      "cell_type": "code",
      "metadata": {
        "id": "W_dwwr2YJSua"
      },
      "source": [
        ""
      ],
      "execution_count": null,
      "outputs": []
    },
    {
      "cell_type": "markdown",
      "metadata": {
        "id": "m8k2mHLOJVdP"
      },
      "source": [
        "Machakos Embu"
      ]
    },
    {
      "cell_type": "code",
      "metadata": {
        "id": "eYHw11xqJE-E"
      },
      "source": [
        "AOI = conv(Machakos_embu) # define AOI for the county\r\n",
        "Machakos_embu_before_image = All_counties_before.clip(AOI.geometry()) # Get the image for the location \r\n",
        "# Generation of trianing Points\r\n",
        "\r\n",
        "ROI = AOI # define the Region to create points from the Sentinel 2 image \r\n",
        "points_Machakos_embu = training(ROI) #this generates points from the function\r\n",
        "\r\n",
        "# Training and classifiy\r\n",
        "\r\n",
        "image = Machakos_embu_before_image # defines the image for the Location\r\n",
        "points = points_Machakos_embu # defines the points to be used \r\n",
        "Machakos_embu_Classified_before = Train_classify(image)\r\n",
        "\r\n",
        "#after\r\n",
        "#AOI = conv(Elgeiyo_Baringo) # define AOI for the county\r\n",
        "Machakos_embu_after_image = All_Counties_after.clip(AOI.geometry()) # Get the image for the location \r\n",
        "# Generation of trianing Points\r\n",
        "\r\n",
        "#ROI = AOI # define the Region to create points from the Sentinel 2 image \r\n",
        "#points_Elgeiyo_baringo = training(ROI) #this generates points from the function\r\n",
        "\r\n",
        "# Training and classifiy\r\n",
        "\r\n",
        "image = Machakos_embu_after_image # defines the image for the Location\r\n",
        "points = points_Machakos_embu # defines the points to be used \r\n",
        "Machakos_embu_Classified_after = Train_classify(image)"
      ],
      "execution_count": null,
      "outputs": []
    },
    {
      "cell_type": "markdown",
      "metadata": {
        "id": "pluZCZ17IgL6"
      },
      "source": [
        "Accuracy Assesment"
      ]
    },
    {
      "cell_type": "code",
      "metadata": {
        "colab": {
          "base_uri": "https://localhost:8080/"
        },
        "id": "UKDJxQSkIeeP",
        "outputId": "d5ec6988-e213-4b6a-fd76-28fc4daccc65"
      },
      "source": [
        "#Before image\r\n",
        "image = Machakos_embu_before_image\r\n",
        "accuracy_Machakos_embu = train_test(image)"
      ],
      "execution_count": null,
      "outputs": [
        {
          "output_type": "stream",
          "text": [
            "confusionMatrix: 0.9508284339925174\n",
            "Kappa: 0.8754053459338013\n"
          ],
          "name": "stdout"
        }
      ]
    },
    {
      "cell_type": "code",
      "metadata": {
        "colab": {
          "base_uri": "https://localhost:8080/"
        },
        "id": "_Oib5h0-VEFB",
        "outputId": "2c0bec92-891e-4528-ff6a-ed3782e9918a"
      },
      "source": [
        "# After image \r\n",
        "image = Machakos_embu_after_image\r\n",
        "accuracy_Machakos_embu = train_test(image)"
      ],
      "execution_count": null,
      "outputs": [
        {
          "output_type": "stream",
          "text": [
            "confusionMatrix: 0.9678558813140233\n",
            "Kappa: 0.8932184751796715\n"
          ],
          "name": "stdout"
        }
      ]
    },
    {
      "cell_type": "code",
      "metadata": {
        "id": "zWbAAYx6LqL9"
      },
      "source": [
        "geemap.ee_export_image_to_drive(Machakos_embu_Classified_after, description='Machakos_Embu_Classified_After', folder='omdena', scale=10)\r\n",
        "geemap.ee_export_image_to_drive(Machakos_embu_Classified_before, description='Machakos_Embu_Classified_before', folder='omdena', scale=10)"
      ],
      "execution_count": null,
      "outputs": []
    },
    {
      "cell_type": "code",
      "metadata": {
        "id": "WnshqM0IN6rc"
      },
      "source": [
        ""
      ],
      "execution_count": null,
      "outputs": []
    },
    {
      "cell_type": "markdown",
      "metadata": {
        "id": "obXS9gpzN_2J"
      },
      "source": [
        "Mandera "
      ]
    },
    {
      "cell_type": "code",
      "metadata": {
        "id": "0dnfIuJbNYrD"
      },
      "source": [
        "AOI = conv(Mandera) # define AOI for the county\r\n",
        "Mandera_before_image = All_counties_before.clip(AOI.geometry()) # Get the image for the location \r\n",
        "# Generation of trianing Points\r\n",
        "\r\n",
        "ROI = AOI # define the Region to create points from the Sentinel 2 image \r\n",
        "points_Mandera = training(ROI) #this generates points from the function\r\n",
        "\r\n",
        "# Training and classifiy\r\n",
        "\r\n",
        "image = Mandera_before_image # defines the image for the Location\r\n",
        "points = points_Mandera # defines the points to be used \r\n",
        "Mandera_Classified_before = Train_classify(image)\r\n",
        "\r\n",
        "#after\r\n",
        "#AOI = conv(Elgeiyo_Baringo) # define AOI for the county\r\n",
        "Mandera_after_image = All_Counties_after.clip(AOI.geometry()) # Get the image for the location \r\n",
        "# Generation of trianing Points\r\n",
        "\r\n",
        "#ROI = AOI # define the Region to create points from the Sentinel 2 image \r\n",
        "#points_Elgeiyo_baringo = training(ROI) #this generates points from the function\r\n",
        "\r\n",
        "# Training and classifiy\r\n",
        "\r\n",
        "image = Mandera_after_image # defines the image for the Location\r\n",
        "points = points_Mandera # defines the points to be used \r\n",
        "Mandera_Classified_after = Train_classify(image)"
      ],
      "execution_count": null,
      "outputs": []
    },
    {
      "cell_type": "markdown",
      "metadata": {
        "id": "On2dNos0I-iA"
      },
      "source": [
        "Accuracy"
      ]
    },
    {
      "cell_type": "code",
      "metadata": {
        "colab": {
          "base_uri": "https://localhost:8080/"
        },
        "id": "rBWQLftaJCZX",
        "outputId": "3908c138-45f5-4d5a-8daf-f16d974890bf"
      },
      "source": [
        "# Before Image\r\n",
        "image = Mandera_before_image\r\n",
        "accuracy_Kitui = train_test(image)\r\n"
      ],
      "execution_count": null,
      "outputs": [
        {
          "output_type": "stream",
          "text": [
            "confusionMatrix: 0.9443466009158155\n",
            "Kappa: 0.8847016215368679\n"
          ],
          "name": "stdout"
        }
      ]
    },
    {
      "cell_type": "code",
      "metadata": {
        "colab": {
          "base_uri": "https://localhost:8080/"
        },
        "id": "mFDm8TBtJO0k",
        "outputId": "dd200d5e-c013-4d5e-bf8f-c03bd4419850"
      },
      "source": [
        "# After Image\r\n",
        "image = Mandera_after_image\r\n",
        "accuracy_Mandera = train_test(image)"
      ],
      "execution_count": null,
      "outputs": [
        {
          "output_type": "stream",
          "text": [
            "confusionMatrix: 0.9379014989293362\n",
            "Kappa: 0.8721960275358334\n"
          ],
          "name": "stdout"
        }
      ]
    },
    {
      "cell_type": "code",
      "metadata": {
        "id": "t4uHsW33RLEC"
      },
      "source": [
        "#Export Images \r\n",
        "geemap.ee_export_image_to_drive(Mandera_Classified_after, description='Mandera_Classified_After', folder='omdena', scale=10)\r\n",
        "geemap.ee_export_image_to_drive(Mandera_Classified_before, description='Mandera_Classified_before', folder='omdena', scale=10)"
      ],
      "execution_count": null,
      "outputs": []
    },
    {
      "cell_type": "markdown",
      "metadata": {
        "id": "GRWt2YI0RL4d"
      },
      "source": [
        "Marsabi"
      ]
    },
    {
      "cell_type": "code",
      "metadata": {
        "id": "6GZITO8nYLPW"
      },
      "source": [
        "AOI = conv(Marsabit) # define AOI for the county\r\n",
        "Marsabit_before_image = All_counties_before.clip(AOI.geometry()) # Get the image for the location \r\n",
        "# Generation of trianing Points\r\n",
        "\r\n",
        "ROI = AOI # define the Region to create points from the Sentinel 2 image \r\n",
        "points_Marsabit = training(ROI) #this generates points from the function\r\n",
        "\r\n",
        "# Training and classifiy\r\n",
        "\r\n",
        "image = Marsabit_before_image # defines the image for the Location\r\n",
        "points = points_Marsabit # defines the points to be used \r\n",
        "Marsabit_Classified_before = Train_classify(image)\r\n",
        "\r\n",
        "#after\r\n",
        "#AOI = conv(Elgeiyo_Baringo) # define AOI for the county\r\n",
        "Marsabit_after_image = All_Counties_after.clip(AOI.geometry()) # Get the image for the location \r\n",
        "# Generation of trianing Points\r\n",
        "\r\n",
        "#ROI = AOI # define the Region to create points from the Sentinel 2 image \r\n",
        "#points_Elgeiyo_baringo = training(ROI) #this generates points from the function\r\n",
        "\r\n",
        "# Training and classifiy\r\n",
        "\r\n",
        "image = Marsabit_after_image # defines the image for the Location\r\n",
        "points = points_Marsabit # defines the points to be used \r\n",
        "Marsabit_Classified_after = Train_classify(image)"
      ],
      "execution_count": null,
      "outputs": []
    },
    {
      "cell_type": "markdown",
      "metadata": {
        "id": "M99KzOalKI_K"
      },
      "source": [
        "Accuracy"
      ]
    },
    {
      "cell_type": "code",
      "metadata": {
        "colab": {
          "base_uri": "https://localhost:8080/"
        },
        "id": "hpJXhL0PKK-E",
        "outputId": "ed0cc3c2-da15-46a7-9b66-e152073a4c55"
      },
      "source": [
        "# Before Image\r\n",
        "image = Marsabit_before_image\r\n",
        "accuracy_Marsabit = train_test(image)"
      ],
      "execution_count": null,
      "outputs": [
        {
          "output_type": "stream",
          "text": [
            "confusionMatrix: 0.9268640742062076\n",
            "Kappa: 0.8896429140731381\n"
          ],
          "name": "stdout"
        }
      ]
    },
    {
      "cell_type": "code",
      "metadata": {
        "colab": {
          "base_uri": "https://localhost:8080/"
        },
        "id": "1qe7sx2ZKUbc",
        "outputId": "798ddfac-8160-4c7c-aa12-e9c98aaf0753"
      },
      "source": [
        "# After Image\r\n",
        "image = Marsabit_after_image\r\n",
        "accuracy_Marsabit = train_test(image)"
      ],
      "execution_count": null,
      "outputs": [
        {
          "output_type": "stream",
          "text": [
            "confusionMatrix: 0.9265990912268438\n",
            "Kappa: 0.8884205361482289\n"
          ],
          "name": "stdout"
        }
      ]
    },
    {
      "cell_type": "code",
      "metadata": {
        "id": "nlJV09gRYptS"
      },
      "source": [
        "#Export Images \r\n",
        "geemap.ee_export_image_to_drive(Marsabit_Classified_after, description='Marsabit_Classified_After', folder='omdena', scale=10)\r\n",
        "geemap.ee_export_image_to_drive(Marsabit_Classified_before, description='Marsabit_Classified_before', folder='omdena', scale=10)"
      ],
      "execution_count": null,
      "outputs": []
    },
    {
      "cell_type": "code",
      "metadata": {
        "id": "6QAqhZ6obaBD"
      },
      "source": [
        ""
      ],
      "execution_count": null,
      "outputs": []
    },
    {
      "cell_type": "markdown",
      "metadata": {
        "id": "OYXPoB2Hbb4U"
      },
      "source": [
        "Meru Isiolo"
      ]
    },
    {
      "cell_type": "code",
      "metadata": {
        "id": "lvjeh62UbeU_"
      },
      "source": [
        "AOI = conv(Meru_isolo) # define AOI for the county\r\n",
        "Meru_isolo_before_image = All_counties_before.clip(AOI.geometry()) # Get the image for the location \r\n",
        "# Generation of trianing Points\r\n",
        "\r\n",
        "ROI = AOI # define the Region to create points from the Sentinel 2 image \r\n",
        "points_Meru_isolo = training(ROI) #this generates points from the function\r\n",
        "\r\n",
        "# Training and classifiy\r\n",
        "\r\n",
        "image = Meru_isolo_before_image # defines the image for the Location\r\n",
        "points = points_Meru_isolo # defines the points to be used \r\n",
        "Meru_isolo_Classified_before = Train_classify(image)\r\n",
        "\r\n",
        "#after\r\n",
        "#AOI = conv(Elgeiyo_Baringo) # define AOI for the county\r\n",
        "Meru_isolo_after_image = All_Counties_after.clip(AOI.geometry()) # Get the image for the location \r\n",
        "# Generation of trianing Points\r\n",
        "\r\n",
        "#ROI = AOI # define the Region to create points from the Sentinel 2 image \r\n",
        "#points_Elgeiyo_baringo = training(ROI) #this generates points from the function\r\n",
        "\r\n",
        "# Training and classifiy\r\n",
        "\r\n",
        "image = Meru_isolo_after_image # defines the image for the Location\r\n",
        "points = points_Meru_isolo # defines the points to be used \r\n",
        "Meru_isolo_Classified_after = Train_classify(image)"
      ],
      "execution_count": null,
      "outputs": []
    },
    {
      "cell_type": "markdown",
      "metadata": {
        "id": "Bbd8JJ8EKoWp"
      },
      "source": [
        "Accuracy"
      ]
    },
    {
      "cell_type": "code",
      "metadata": {
        "colab": {
          "base_uri": "https://localhost:8080/"
        },
        "id": "N8rg_yGBKqUI",
        "outputId": "a68a3b2b-caba-4687-d2d2-0a014ef4e115"
      },
      "source": [
        "# Before Image\r\n",
        "image = Meru_isolo_before_image\r\n",
        "accuracy_Meru_isiolo = train_test(image)"
      ],
      "execution_count": null,
      "outputs": [
        {
          "output_type": "stream",
          "text": [
            "confusionMatrix: 0.9357015985790409\n",
            "Kappa: 0.9036429094332422\n"
          ],
          "name": "stdout"
        }
      ]
    },
    {
      "cell_type": "code",
      "metadata": {
        "colab": {
          "base_uri": "https://localhost:8080/"
        },
        "id": "867bIuiYK6oB",
        "outputId": "e0d6bc81-9488-4fbc-e598-8623106e34ec"
      },
      "source": [
        "# After Image\r\n",
        "image = Meru_isolo_after_image\r\n",
        "accuracy_Meru_isiolo = train_test(image)"
      ],
      "execution_count": null,
      "outputs": [
        {
          "output_type": "stream",
          "text": [
            "confusionMatrix: 0.9244617013766325\n",
            "Kappa: 0.886686459930789\n"
          ],
          "name": "stdout"
        }
      ]
    },
    {
      "cell_type": "code",
      "metadata": {
        "id": "eNfODWp_ekBS"
      },
      "source": [
        "geemap.ee_export_image_to_drive(Meru_isolo_Classified_after, description='Meru_isiolo_Classified_After', folder='omdena', scale=10)\r\n",
        "geemap.ee_export_image_to_drive(Meru_isolo_Classified_before, description='Meru_isiolo_Classified_before', folder='omdena', scale=10)"
      ],
      "execution_count": null,
      "outputs": []
    },
    {
      "cell_type": "markdown",
      "metadata": {
        "id": "m5flru-wsWT7"
      },
      "source": [
        "Tana"
      ]
    },
    {
      "cell_type": "code",
      "metadata": {
        "id": "QRrdev6ae7gv"
      },
      "source": [
        "AOI = conv(Tana) # define AOI for the county\r\n",
        "Tana_before_image = All_counties_before.clip(AOI.geometry()) # Get the image for the location \r\n",
        "# Generation of trianing Points\r\n",
        "\r\n",
        "ROI = AOI # define the Region to create points from the Sentinel 2 image \r\n",
        "points_Tana = training(ROI) #this generates points from the function\r\n",
        "\r\n",
        "# Training and classifiy\r\n",
        "\r\n",
        "image = Tana_before_image # defines the image for the Location\r\n",
        "points = points_Tana # defines the points to be used \r\n",
        "Tana_Classified_before = Train_classify(image)\r\n",
        "\r\n",
        "#after\r\n",
        "#AOI = conv(Elgeiyo_Baringo) # define AOI for the county\r\n",
        "Tana_after_image = All_Counties_after.clip(AOI.geometry()) # Get the image for the location \r\n",
        "# Generation of trianing Points\r\n",
        "\r\n",
        "#ROI = AOI # define the Region to create points from the Sentinel 2 image \r\n",
        "#points_Elgeiyo_baringo = training(ROI) #this generates points from the function\r\n",
        "\r\n",
        "# Training and classifiy\r\n",
        "\r\n",
        "image = Tana_after_image # defines the image for the Location\r\n",
        "points = points_Tana # defines the points to be used \r\n",
        "Tana_Classified_after = Train_classify(image)"
      ],
      "execution_count": null,
      "outputs": []
    },
    {
      "cell_type": "markdown",
      "metadata": {
        "id": "nr-Ckat4bd_r"
      },
      "source": [
        "accuracy tana"
      ]
    },
    {
      "cell_type": "code",
      "metadata": {
        "colab": {
          "base_uri": "https://localhost:8080/"
        },
        "id": "MGOVCOBrbcYj",
        "outputId": "783041ea-10de-4cd1-f752-082b3957fefc"
      },
      "source": [
        "# Before Image\r\n",
        "image = Tana_before_image\r\n",
        "accuracy_Tana = train_test(image)"
      ],
      "execution_count": null,
      "outputs": [
        {
          "output_type": "stream",
          "text": [
            "confusionMatrix: 0.9299264421215641\n",
            "Kappa: 0.8636908316112087\n"
          ],
          "name": "stdout"
        }
      ]
    },
    {
      "cell_type": "code",
      "metadata": {
        "colab": {
          "base_uri": "https://localhost:8080/"
        },
        "id": "EcmJPXLwbm6O",
        "outputId": "31a2bc8a-5ac0-4d16-e46c-330aa19eb266"
      },
      "source": [
        "# After Image\r\n",
        "image = Tana_after_image\r\n",
        "accuracy_Tana = train_test(image)"
      ],
      "execution_count": null,
      "outputs": [
        {
          "output_type": "stream",
          "text": [
            "confusionMatrix: 0.9202949438202247\n",
            "Kappa: 0.8496766691399057\n"
          ],
          "name": "stdout"
        }
      ]
    },
    {
      "cell_type": "code",
      "metadata": {
        "id": "IrWy_r73f-h7"
      },
      "source": [
        "AOI = conv(Turkana) # define AOI for the county\r\n",
        "Turkana_before_image = All_counties_before.clip(AOI.geometry()) # Get the image for the location \r\n",
        "# Generation of trianing Points\r\n",
        "\r\n",
        "ROI = AOI # define the Region to create points from the Sentinel 2 image \r\n",
        "points_Turkana = training(ROI) #this generates points from the function\r\n",
        "\r\n",
        "# Training and classifiy\r\n",
        "\r\n",
        "image = Turkana_before_image # defines the image for the Location\r\n",
        "points = points_Turkana # defines the points to be used \r\n",
        "Turkana_Classified_before = Train_classify(image)\r\n",
        "\r\n",
        "#after\r\n",
        "#AOI = conv(Elgeiyo_Baringo) # define AOI for the county\r\n",
        "Turkana_after_image = All_Counties_after.clip(AOI.geometry()) # Get the image for the location \r\n",
        "# Generation of trianing Points\r\n",
        "\r\n",
        "#ROI = AOI # define the Region to create points from the Sentinel 2 image \r\n",
        "#points_Elgeiyo_baringo = training(ROI) #this generates points from the function\r\n",
        "\r\n",
        "# Training and classifiy\r\n",
        "\r\n",
        "image = Turkana_after_image # defines the image for the Location\r\n",
        "points = points_Turkana # defines the points to be used \r\n",
        "Turkana_Classified_after = Train_classify(image)"
      ],
      "execution_count": null,
      "outputs": []
    },
    {
      "cell_type": "markdown",
      "metadata": {
        "id": "P2HdguQoLOch"
      },
      "source": [
        "Accuracy"
      ]
    },
    {
      "cell_type": "code",
      "metadata": {
        "id": "cPa9LN6GLNPQ",
        "colab": {
          "base_uri": "https://localhost:8080/"
        },
        "outputId": "b5a4e08c-e2b9-49b7-abcf-39391176ec5d"
      },
      "source": [
        "# Before Image\r\n",
        "image = Turkana_before_image\r\n",
        "accuracy_Turkana = train_test(image)"
      ],
      "execution_count": null,
      "outputs": [
        {
          "output_type": "stream",
          "text": [
            "confusionMatrix: 0.9244060475161987\n",
            "Kappa: 0.8856783402606717\n"
          ],
          "name": "stdout"
        }
      ]
    },
    {
      "cell_type": "code",
      "metadata": {
        "id": "DXU4nzIkLklD",
        "colab": {
          "base_uri": "https://localhost:8080/"
        },
        "outputId": "a5381a4f-69c0-4bb8-e59e-ebbfac3b024d"
      },
      "source": [
        "# After Image\r\n",
        "image = Turkana_after_image\r\n",
        "accuracy_Turkana = train_test(image)"
      ],
      "execution_count": null,
      "outputs": [
        {
          "output_type": "stream",
          "text": [
            "confusionMatrix: 0.9207207207207208\n",
            "Kappa: 0.8763590129216478\n"
          ],
          "name": "stdout"
        }
      ]
    },
    {
      "cell_type": "code",
      "metadata": {
        "id": "hlXymW2-sRqq"
      },
      "source": [
        "# Export Images \r\n",
        "geemap.ee_export_image_to_drive(Tana_Classified_after, description='Tana_Classified_after', folder='omdena', scale=10)\r\n",
        "geemap.ee_export_image_to_drive(Tana_Classified_before, description='Tana_Classified_before', folder='omdena', scale=10)\r\n",
        "geemap.ee_export_image_to_drive(Turkana_Classified_after, description='Turkana_Classified_After', folder='omdena', scale=10)\r\n",
        "geemap.ee_export_image_to_drive(Turkana_Classified_before, description='Turkana_Classified_before', folder='omdena', scale=10)"
      ],
      "execution_count": null,
      "outputs": []
    },
    {
      "cell_type": "markdown",
      "metadata": {
        "id": "7chesjgAxsRg"
      },
      "source": [
        "Wajir"
      ]
    },
    {
      "cell_type": "code",
      "metadata": {
        "id": "jHsgSwlhw2Rs"
      },
      "source": [
        "AOI = conv(Wajir) # define AOI for the county\r\n",
        "Wajir_before_image = All_counties_before.clip(AOI.geometry()) # Get the image for the location \r\n",
        "# Generation of trianing Points\r\n",
        "\r\n",
        "ROI = AOI # define the Region to create points from the Sentinel 2 image \r\n",
        "points_Wajir = training(ROI) #this generates points from the function\r\n",
        "\r\n",
        "# Training and classifiy\r\n",
        "\r\n",
        "image = Wajir_before_image # defines the image for the Location\r\n",
        "points = points_Wajir # defines the points to be used \r\n",
        "Wajir_Classified_before = Train_classify(image)\r\n",
        "\r\n",
        "#after\r\n",
        "#AOI = conv(Elgeiyo_Baringo) # define AOI for the county\r\n",
        "Wajir_after_image = All_Counties_after.clip(AOI.geometry()) # Get the image for the location \r\n",
        "# Generation of trianing Points\r\n",
        "\r\n",
        "#ROI = AOI # define the Region to create points from the Sentinel 2 image \r\n",
        "#points_Elgeiyo_baringo = training(ROI) #this generates points from the function\r\n",
        "\r\n",
        "# Training and classifiy\r\n",
        "\r\n",
        "image = Wajir_after_image # defines the image for the Location\r\n",
        "points = points_Wajir # defines the points to be used \r\n",
        "Wajir_Classified_after = Train_classify(image)"
      ],
      "execution_count": null,
      "outputs": []
    },
    {
      "cell_type": "markdown",
      "metadata": {
        "id": "8dPS_1LIxyZU"
      },
      "source": [
        "accuracy Wajir"
      ]
    },
    {
      "cell_type": "code",
      "metadata": {
        "id": "XQaNx2npx08R",
        "colab": {
          "base_uri": "https://localhost:8080/"
        },
        "outputId": "392ea944-9e93-42e1-e105-a6199ab8dd06"
      },
      "source": [
        "# Before image\r\n",
        "image = Wajir_before_image\r\n",
        "accuracy_Wajir = train_test(image)"
      ],
      "execution_count": null,
      "outputs": [
        {
          "output_type": "stream",
          "text": [
            "confusionMatrix: 0.9354838709677419\n",
            "Kappa: 0.8790351499273157\n"
          ],
          "name": "stdout"
        }
      ]
    },
    {
      "cell_type": "code",
      "metadata": {
        "colab": {
          "base_uri": "https://localhost:8080/"
        },
        "id": "h_AdEuZFyAvO",
        "outputId": "ab62b68b-4497-4288-8c59-ce68efe12596"
      },
      "source": [
        "#After Image\r\n",
        "image = Wajir_after_image\r\n",
        "accuracy_Wajir = train_test(image)"
      ],
      "execution_count": null,
      "outputs": [
        {
          "output_type": "stream",
          "text": [
            "confusionMatrix: 0.9367448471926084\n",
            "Kappa: 0.8810176820667577\n"
          ],
          "name": "stdout"
        }
      ]
    },
    {
      "cell_type": "markdown",
      "metadata": {
        "id": "7j2kUMblAMLM"
      },
      "source": [
        "Tharaka Nithi"
      ]
    },
    {
      "cell_type": "code",
      "metadata": {
        "id": "SR_rD6MrKjFD"
      },
      "source": [
        "tharaka = './drive/MyDrive/omdena/tharaka_shapefile/tharaka_nithi.shp'"
      ],
      "execution_count": null,
      "outputs": []
    },
    {
      "cell_type": "code",
      "metadata": {
        "id": "w6-EuTvzAQCg"
      },
      "source": [
        "\r\n",
        "AOI = conv(tharaka) # define AOI for the county\r\n",
        "tharaka_before_image = All_counties_before.clip(AOI.geometry()) # Get the image for the location \r\n",
        "# Generation of trianing Points\r\n",
        "\r\n",
        "ROI = AOI # define the Region to create points from the Sentinel 2 image \r\n",
        "points_tharaka = training(ROI) #this generates points from the function\r\n",
        "\r\n",
        "# Training and classifiy\r\n",
        "\r\n",
        "image = tharaka_before_image # defines the image for the Location\r\n",
        "points = points_tharaka # defines the points to be used \r\n",
        "tharaka_Classified_before = Train_classify(image)\r\n",
        "\r\n",
        "#after\r\n",
        "#AOI = conv(Elgeiyo_Baringo) # define AOI for the county\r\n",
        "tharaka_after_image = All_Counties_after.clip(AOI.geometry()) # Get the image for the location \r\n",
        "# Generation of trianing Points\r\n",
        "\r\n",
        "#ROI = AOI # define the Region to create points from the Sentinel 2 image \r\n",
        "#points_Elgeiyo_baringo = training(ROI) #this generates points from the function\r\n",
        "\r\n",
        "# Training and classifiy\r\n",
        "\r\n",
        "image = tharaka_after_image # defines the image for the Location\r\n",
        "points = points_tharaka # defines the points to be used \r\n",
        "tharaka_Classified_after = Train_classify(image)"
      ],
      "execution_count": null,
      "outputs": []
    },
    {
      "cell_type": "markdown",
      "metadata": {
        "id": "klFos8pfBErJ"
      },
      "source": [
        "accuracy Tharaka"
      ]
    },
    {
      "cell_type": "code",
      "metadata": {
        "colab": {
          "base_uri": "https://localhost:8080/"
        },
        "id": "94WxoJ4pBDwO",
        "outputId": "7aed7c1b-dcba-4028-989d-add5f7786b04"
      },
      "source": [
        "# Before image\r\n",
        "image = tharaka_before_image\r\n",
        "accuracy_Tharaka = train_test(image)"
      ],
      "execution_count": null,
      "outputs": [
        {
          "output_type": "stream",
          "text": [
            "confusionMatrix: 0.9628040057224606\n",
            "Kappa: 0.9143096849823584\n"
          ],
          "name": "stdout"
        }
      ]
    },
    {
      "cell_type": "code",
      "metadata": {
        "colab": {
          "base_uri": "https://localhost:8080/"
        },
        "id": "3fS7KHDpBTwl",
        "outputId": "bdd7bd6b-86b6-4118-f851-a1cf7c74b34e"
      },
      "source": [
        "#After Image\r\n",
        "image = tharaka_after_image\r\n",
        "accuracy_Tharaka = train_test(image)"
      ],
      "execution_count": null,
      "outputs": [
        {
          "output_type": "stream",
          "text": [
            "confusionMatrix: 0.9630028735632183\n",
            "Kappa: 0.9153641294578885\n"
          ],
          "name": "stdout"
        }
      ]
    },
    {
      "cell_type": "code",
      "metadata": {
        "id": "jJRhdbuU_tGZ"
      },
      "source": [
        "Map4 = geemap.Map()\r\n",
        "legend_dict = {\r\n",
        "    '1 Trees cover areas': '1c5f2c',\r\n",
        "    '2 Shrubs cover areas': 'ccb879',\r\n",
        "    '3 Grassland': 'dfdfc2',\r\n",
        "    '4 Cropland': 'ab6c28',\r\n",
        "    '5 Vegetation aquatic or regularly flooded': '6c9fb8',\r\n",
        "    '6 Lichen Mosses / Sparse vegetation ': 'a3cc51',\r\n",
        "    '7 Bare areas':'ab0000',\r\n",
        "    '8 Built up areas': 'ab0000',\r\n",
        "    '9 Snow and/or Ice': 'd1def8',\r\n",
        "    '10 Open water': '466b9f'\r\n",
        "}\r\n",
        "viz_par = {'min': 1, 'max': 10,'palette': ['1c5f2c','ccb879','dfdfc2','ab6c28','6c9fb8','a3cc51','b3ac9f','ab0000','d1def8','466b9f' ]}\r\n",
        "Map4.centerObject(AOI, 8)\r\n",
        "Map4.addLayer(Garrisa_Classified_before, viz_par, 'Garissa Before')\r\n",
        "Map4.addLayer(Garissa_Classified_After, viz_par, 'Garissa After attack Classified')\r\n",
        "Map4.addLayer(Elgyo_Baringo_Classified_After, viz_par, 'Elgeiyo and Baringo After')\r\n",
        "Map4.addLayer(Elgyo_Baringo_Classified_before, viz_par, 'Elgeiyo and Baringo Before')\r\n",
        "Map4.addLayer(Kitui_Classified_After, viz_par, 'Kitui After')\r\n",
        "Map4.addLayer(Kitui_Classified_before, viz_par, 'Kitui Before')\r\n",
        "Map4.addLayer(Laikipia_Samburu_Classified_after, viz_par, 'Laikipia_samburu Classified After')\r\n",
        "Map4.addLayer(Laikipia_Samburu_Classified_before, viz_par, 'Laikipia Samburu Classified Before')\r\n",
        "Map4.addLayer(Machakos_embu_Classified_after, viz_par, 'Machakos Embu Classified After')\r\n",
        "Map4.addLayer(Machakos_embu_Classified_before, viz_par, 'Machakos Embu Classified Before')\r\n",
        "Map4.addLayer(Mandera_Classified_after, viz_par, 'Mandera Classified After')\r\n",
        "Map4.addLayer(Mandera_Classified_before, viz_par, 'Mandera Classified  Before')\r\n",
        "Map4.addLayer(Marsabit_Classified_after, viz_par, 'Marsabit Classified After')\r\n",
        "Map4.addLayer(Marsabit_Classified_before, viz_par, 'Marsabit Classified  Before')\r\n",
        "Map4.addLayer(Meru_isolo_Classified_after, viz_par, ' Meru_isiolo_Classified_After')\r\n",
        "Map4.addLayer(Meru_isolo_Classified_before, viz_par, 'Meru_isiolo_Classified_Before')\r\n",
        "Map4.addLayer(Tana_Classified_after, viz_par, ' Tana_Classified_After')\r\n",
        "Map4.addLayer(Tana_Classified_before, viz_par, 'Tana_Classified_Before')\r\n",
        "Map4.addLayer(Turkana_Classified_after, viz_par, ' Turkana_Classified_After')\r\n",
        "Map4.addLayer(Turkana_Classified_before, viz_par, 'Turkana_Classified_Before')\r\n",
        "Map4.addLayer(Wajir_Classified_after, viz_par, ' Wajir_Classified_After')\r\n",
        "Map4.addLayer(Wajir_Classified_before, viz_par, 'Wajir_Classified_Before')\r\n",
        "Map4.addLayer(tharaka_Classified_before,viz_par, 'Tharaka_Nithi_Classified_before')\r\n",
        "Map4.add_layer(tharaka_Classified_after, viz_par, 'Tharaka_nithi_classified_after')\r\n",
        "Map4.add_legend(legend_dict=legend_dict, title=\"LULC Affected Counties\")\r\n",
        "Map4.addLayerControl()"
      ],
      "execution_count": null,
      "outputs": []
    },
    {
      "cell_type": "code",
      "metadata": {
        "id": "hNLWm88hBioJ",
        "colab": {
          "base_uri": "https://localhost:8080/",
          "height": 583
        },
        "outputId": "272b9b3f-2abe-41b3-d021-b213d87fa0d3"
      },
      "source": [
        "Map4"
      ],
      "execution_count": null,
      "outputs": [
        {
          "output_type": "execute_result",
          "data": {
            "text/html": [
              "<div style=\"width:100%;\"><div style=\"position:relative;width:100%;height:0;padding-bottom:60%;\"><span style=\"color:#565656\">Make this Notebook Trusted to load map: File -> Trust Notebook</span><iframe src=\"about:blank\" style=\"position:absolute;width:100%;height:100%;left:0;top:0;border:none !important;\" data-html=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 onload=\"this.contentDocument.open();this.contentDocument.write(atob(this.getAttribute('data-html')));this.contentDocument.close();\" allowfullscreen webkitallowfullscreen mozallowfullscreen></iframe></div></div>"
            ],
            "text/plain": [
              "<geemap.eefolium.Map at 0x7fc172192b00>"
            ]
          },
          "metadata": {
            "tags": []
          },
          "execution_count": 172
        }
      ]
    },
    {
      "cell_type": "code",
      "metadata": {
        "id": "CB7A-8SzR5Jm"
      },
      "source": [
        "#Export tharaka\r\n",
        "geemap.ee_export_image_to_drive(tharaka_Classified_after, description='Tharaka_Classified_after', folder='omdena', scale=10)\r\n",
        "geemap.ee_export_image_to_drive(tharaka_Classified_before, description='Tharaka_Classified_before', folder='omdena', scale=10)"
      ],
      "execution_count": null,
      "outputs": []
    },
    {
      "cell_type": "code",
      "metadata": {
        "id": "t691f33fSWfY"
      },
      "source": [
        "#export Wajir\r\n",
        "geemap.ee_export_image_to_drive(Wajir_after_image, description='Wajir_Classified_after', folder='omdena', scale=10)\r\n",
        "geemap.ee_export_image_to_drive(Wajir_Classified_before, description='Wajir_Classified_before', folder='omdena', scale=10)\r\n"
      ],
      "execution_count": null,
      "outputs": []
    },
    {
      "cell_type": "code",
      "metadata": {
        "id": "pkLl-BsUI3fw"
      },
      "source": [
        "Map4.save('LULC_DL_affected_counties_.html',close_file=True)"
      ],
      "execution_count": null,
      "outputs": []
    }
  ]
}