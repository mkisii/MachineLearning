{
  "nbformat": 4,
  "nbformat_minor": 0,
  "metadata": {
    "colab": {
      "name": "task2_4_channels_U-Net_LCN.ipynb",
      "provenance": [],
      "collapsed_sections": []
    },
    "kernelspec": {
      "display_name": "Python 3",
      "name": "python3"
    }
  },
  "cells": [
    {
      "cell_type": "markdown",
      "metadata": {
        "id": "o2K3OUxB0dTQ"
      },
      "source": [
        "# Training U-Net model with LandCoverNet dataset\r\n",
        "\r\n",
        "- We'll attempt to include the 4th band (NDVI) included in the LandCoverNet datast\r\n",
        "- The`segmentation_models_pytorch` library was used to load and specify the output for our Unet model.\r\n",
        "- Replaced the first layer to accept 4 channels as input.\r\n",
        "I included all the refrences that guide me through this task below.\r\n"
      ]
    },
    {
      "cell_type": "markdown",
      "metadata": {
        "id": "yLFjEQGFFIXZ"
      },
      "source": [
        "# Installing Libraries and Downloading the data"
      ]
    },
    {
      "cell_type": "code",
      "metadata": {
        "id": "oqTAAg25GSSP"
      },
      "source": [
        "%%capture\n",
        "!pip install fastai --upgrade\n",
        "!pip install rasterio\n",
        "!pip install segmentation-models-pytorch"
      ],
      "execution_count": null,
      "outputs": []
    },
    {
      "cell_type": "code",
      "metadata": {
        "colab": {
          "base_uri": "https://localhost:8080/"
        },
        "id": "26nUGZGTiugg",
        "outputId": "f20b45cc-7a98-4120-e546-0afa865af294"
      },
      "source": [
        "# Update the albumentations library\r\n",
        "!pip install -U git+https://github.com/albu/albumentations --no-cache-dir"
      ],
      "execution_count": null,
      "outputs": [
        {
          "output_type": "stream",
          "text": [
            "Collecting git+https://github.com/albu/albumentations\n",
            "  Cloning https://github.com/albu/albumentations to /tmp/pip-req-build-ow91x7ii\n",
            "  Running command git clone -q https://github.com/albu/albumentations /tmp/pip-req-build-ow91x7ii\n",
            "Requirement already satisfied, skipping upgrade: numpy>=1.11.1 in /usr/local/lib/python3.6/dist-packages (from albumentations==0.5.2) (1.19.4)\n",
            "Requirement already satisfied, skipping upgrade: scipy in /usr/local/lib/python3.6/dist-packages (from albumentations==0.5.2) (1.4.1)\n",
            "Requirement already satisfied, skipping upgrade: scikit-image>=0.16.1 in /usr/local/lib/python3.6/dist-packages (from albumentations==0.5.2) (0.16.2)\n",
            "Requirement already satisfied, skipping upgrade: imgaug>=0.4.0 in /usr/local/lib/python3.6/dist-packages (from albumentations==0.5.2) (0.4.0)\n",
            "Requirement already satisfied, skipping upgrade: PyYAML in /usr/local/lib/python3.6/dist-packages (from albumentations==0.5.2) (3.13)\n",
            "Requirement already satisfied, skipping upgrade: opencv-python>=4.1.1 in /usr/local/lib/python3.6/dist-packages (from albumentations==0.5.2) (4.1.2.30)\n",
            "Requirement already satisfied, skipping upgrade: PyWavelets>=0.4.0 in /usr/local/lib/python3.6/dist-packages (from scikit-image>=0.16.1->albumentations==0.5.2) (1.1.1)\n",
            "Requirement already satisfied, skipping upgrade: pillow>=4.3.0 in /usr/local/lib/python3.6/dist-packages (from scikit-image>=0.16.1->albumentations==0.5.2) (7.0.0)\n",
            "Requirement already satisfied, skipping upgrade: networkx>=2.0 in /usr/local/lib/python3.6/dist-packages (from scikit-image>=0.16.1->albumentations==0.5.2) (2.5)\n",
            "Requirement already satisfied, skipping upgrade: imageio>=2.3.0 in /usr/local/lib/python3.6/dist-packages (from scikit-image>=0.16.1->albumentations==0.5.2) (2.4.1)\n",
            "Requirement already satisfied, skipping upgrade: matplotlib!=3.0.0,>=2.0.0 in /usr/local/lib/python3.6/dist-packages (from scikit-image>=0.16.1->albumentations==0.5.2) (3.2.2)\n",
            "Requirement already satisfied, skipping upgrade: six in /usr/local/lib/python3.6/dist-packages (from imgaug>=0.4.0->albumentations==0.5.2) (1.15.0)\n",
            "Requirement already satisfied, skipping upgrade: Shapely in /usr/local/lib/python3.6/dist-packages (from imgaug>=0.4.0->albumentations==0.5.2) (1.7.1)\n",
            "Requirement already satisfied, skipping upgrade: decorator>=4.3.0 in /usr/local/lib/python3.6/dist-packages (from networkx>=2.0->scikit-image>=0.16.1->albumentations==0.5.2) (4.4.2)\n",
            "Requirement already satisfied, skipping upgrade: kiwisolver>=1.0.1 in /usr/local/lib/python3.6/dist-packages (from matplotlib!=3.0.0,>=2.0.0->scikit-image>=0.16.1->albumentations==0.5.2) (1.3.1)\n",
            "Requirement already satisfied, skipping upgrade: pyparsing!=2.0.4,!=2.1.2,!=2.1.6,>=2.0.1 in /usr/local/lib/python3.6/dist-packages (from matplotlib!=3.0.0,>=2.0.0->scikit-image>=0.16.1->albumentations==0.5.2) (2.4.7)\n",
            "Requirement already satisfied, skipping upgrade: python-dateutil>=2.1 in /usr/local/lib/python3.6/dist-packages (from matplotlib!=3.0.0,>=2.0.0->scikit-image>=0.16.1->albumentations==0.5.2) (2.8.1)\n",
            "Requirement already satisfied, skipping upgrade: cycler>=0.10 in /usr/local/lib/python3.6/dist-packages (from matplotlib!=3.0.0,>=2.0.0->scikit-image>=0.16.1->albumentations==0.5.2) (0.10.0)\n",
            "Building wheels for collected packages: albumentations\n",
            "  Building wheel for albumentations (setup.py) ... \u001b[?25l\u001b[?25hdone\n",
            "  Created wheel for albumentations: filename=albumentations-0.5.2-cp36-none-any.whl size=79946 sha256=274c100dc013cd8d9b1eb397de9546306a7a76a34adc78a4ddbae950a3348f94\n",
            "  Stored in directory: /tmp/pip-ephem-wheel-cache-uryufuof/wheels/45/8b/e4/2837bbcf517d00732b8e394f8646f22b8723ac00993230188b\n",
            "Successfully built albumentations\n",
            "Installing collected packages: albumentations\n",
            "  Found existing installation: albumentations 0.5.2\n",
            "    Uninstalling albumentations-0.5.2:\n",
            "      Successfully uninstalled albumentations-0.5.2\n",
            "Successfully installed albumentations-0.5.2\n"
          ],
          "name": "stdout"
        }
      ]
    },
    {
      "cell_type": "code",
      "metadata": {
        "colab": {
          "base_uri": "https://localhost:8080/"
        },
        "id": "XZNPUk26xNHU",
        "outputId": "dc6f6ed3-cc83-4b57-a041-e3b24d96dde3"
      },
      "source": [
        "from google.colab import drive\n",
        "drive.mount('/content/drive')"
      ],
      "execution_count": null,
      "outputs": [
        {
          "output_type": "stream",
          "text": [
            "Mounted at /content/drive\n"
          ],
          "name": "stdout"
        }
      ]
    },
    {
      "cell_type": "code",
      "metadata": {
        "id": "DuzS6jhw99wc"
      },
      "source": [
        "%%capture\r\n",
        "!unzip \"/content/drive/MyDrive/landcovernet_final_tif_NDVI.zip\""
      ],
      "execution_count": null,
      "outputs": []
    },
    {
      "cell_type": "code",
      "metadata": {
        "id": "2TcJRvt27Sby"
      },
      "source": [
        "import torch\n",
        "from torch import nn\n",
        "import torch.nn.functional as F\n",
        "from numpy import *\n",
        "import numpy as np\n",
        "import segmentation_models_pytorch as smp\n",
        "import cv2\n",
        "import matplotlib.pyplot as plt\n",
        "from torch.utils.data import Dataset as BaseDataset\n",
        "import albumentations as A"
      ],
      "execution_count": null,
      "outputs": []
    },
    {
      "cell_type": "markdown",
      "metadata": {
        "id": "v_6NiEvjFzAr"
      },
      "source": [
        "# Create Custom dataset\r\n",
        "- The structure of the data is as follows:\r\n",
        "Where each img sub folder contains the four bands and we have one target for each 4 img_sub folders, that were taken on different dates.\r\n",
        "- root_dir:\r\n",
        "  - inputs\r\n",
        "    - 28QDE_00_20180103\r\n",
        "      - 28QDE_00_20180103_B02_10m\r\n",
        "      - 28QDE_00_20180103_B03_10m\r\n",
        "      - 28QDE_00_20180103_B04_10m\r\n",
        "\r\n",
        "      - 28QDE_00_20180103_NDVI_10m28QDE_00_20180***\r\n",
        "\r\n",
        "    .\r\n",
        "\r\n",
        "    .\r\n",
        "\r\n",
        "    .\r\n",
        "  - targets\r\n",
        "    - 28QDE_00_2018_LC_10m\r\n",
        "    - 28QDE_01_2018_LC_10m\r\n",
        "\r\n",
        "    .\r\n",
        "\r\n",
        "    .\r\n",
        "\r\n",
        "    .\r\n"
      ]
    },
    {
      "cell_type": "code",
      "metadata": {
        "id": "3Ccw2T6_T3_s"
      },
      "source": [
        "# Hekper function to cisualize the images\r\n",
        "def visualize(**images):\r\n",
        "    \"\"\"PLot images in one row.\"\"\"\r\n",
        "    n = len(images)\r\n",
        "    plt.figure(figsize=(16, 5))\r\n",
        "    for i, (name, image) in enumerate(images.items()):\r\n",
        "      # Convert images to numpy and make it in shape for display\r\n",
        "        \r\n",
        "        \r\n",
        "        plt.subplot(1, n, i + 1)\r\n",
        "        plt.xticks([])\r\n",
        "        plt.yticks([])\r\n",
        "        plt.title(' '.join(name.split('_')).title())\r\n",
        "        plt.imshow(image)\r\n",
        "    plt.show()"
      ],
      "execution_count": null,
      "outputs": []
    },
    {
      "cell_type": "code",
      "metadata": {
        "id": "jeLie3Gd8nlG"
      },
      "source": [
        "# Create custom dataset that accepts 4 channels images\n",
        "from torch.utils.data import Dataset, DataLoader, sampler\n",
        "from pathlib import Path\n",
        "from PIL import Image\n",
        "import matplotlib.pyplot as plt\n",
        "import os\n",
        "import numpy as np\n",
        "import rasterio as rio\n",
        "from torchvision import transforms, datasets, models\n",
        "# We have two dir: inputs(folder for each image) and tatgets\n",
        " \n",
        "class LandCoverNetDataset(BaseDataset):\n",
        "  \n",
        "  CLASSES = ['otherland', 'cropland', 'pastureland', 'bare soil', 'openwater', 'forestland']\n",
        " \n",
        "  def __init__(self, inputs_dir, targets_dir, \n",
        "               classes = None,  \n",
        "               crossEntropy_target = False,\n",
        "               preprocessing = False,\n",
        "               augmentation=None,\n",
        "               pytorch=True):\n",
        "    \n",
        "    super().__init__()\n",
        "    self.samples = []\n",
        "    self.pytorch = pytorch\n",
        "    self.augmentation = augmentation\n",
        "    self.preprocessing = preprocessing\n",
        "    self.crossEntropy_target = crossEntropy_target\n",
        " \n",
        "    # Convert str names to class values on masks\n",
        "    self.class_value = [self.CLASSES.index(cls.lower()) for cls in classes]\n",
        " \n",
        "    # Create dictionary for images and targets\n",
        "    for sub_dir in os.listdir(inputs_dir):\n",
        "      files = {}\n",
        "      files = {\n",
        "         'img_bands' : os.path.join(inputs_dir, sub_dir),\n",
        "          'target' : os.path.join(targets_dir, sub_dir[:13] + \"_LC_10m.png\")\n",
        "        }\n",
        "      self.samples.append(files)\n",
        " \n",
        " \n",
        " \n",
        "                                       \n",
        "  def __len__(self):\n",
        "    return len(self.samples)\n",
        "  \n",
        "  def normalize(self, band):\n",
        "    \n",
        "    #'''Notmalize a numpy array to have values between 0 and 1'''  \n",
        "    band_min, band_max = band.min(), band.max()\n",
        "    np.seterr(divide='ignore', invalid='ignore')\n",
        "    normalized_band = ((band - band_min)/(band_max - band_min))\n",
        "    #Remove any nan value and subtitute by zero\n",
        "    where_are_NaNs = isnan(normalized_band)\n",
        "    normalized_band[where_are_NaNs] = 0\n",
        "    return normalized_band\n",
        " \n",
        " \n",
        "  def open_as_array(self, idx, include_ndvi = False):\n",
        "    '''\n",
        "      Merge the 4 bands into one image and normalize the bands\n",
        "    '''\n",
        "    # List indivisual bands in each image folder\n",
        "    # Stack them togather\n",
        "    list_bands = []\n",
        "    for img_file in os.listdir(self.samples[idx]['img_bands']):\n",
        "      # Get the ndvi band\n",
        "      if 'NDVI' in img_file:\n",
        "        ndvi_band = os.path.join(self.samples[idx]['img_bands'], img_file)\n",
        "      else:\n",
        "        # Get the rgb bands\n",
        "        band = rio.open(os.path.join(self.samples[idx]['img_bands'], img_file)).read(1)\n",
        "        list_bands.append(band)\n",
        "        # Stack the bands \n",
        "        raw_rgb = np.stack(list_bands, axis=2).astype('float32')\n",
        "        \n",
        "    \n",
        "   \n",
        " \n",
        "    if include_ndvi:\n",
        "      # Include the NDVI band in the input images\n",
        "      ndvi = np.expand_dims(rio.open(ndvi_band).read(1).astype('float32'), 2)\n",
        "      raw_rgb = np.concatenate([raw_rgb, ndvi], axis=2)\n",
        " \n",
        "    if self.augmentation:\n",
        "      # Crop the image or perform other augmentations\n",
        "      transformed = self.augmentation(image = raw_rgb)\n",
        "      raw_rgb  = transformed[\"image\"]\n",
        " \n",
        "    if self.preprocessing:\n",
        "      # transpose to tensor shape\n",
        "      raw_rgb = raw_rgb.transpose((2,0,1)).astype('float32')\n",
        "      # Convert to Tensor\n",
        "      raw_rgb = torch.tensor(raw_rgb, dtype=torch.float)\n",
        "       # Normalize the input bands\n",
        "      for i in range(raw_rgb.shape[0]):\n",
        "        raw_rgb[i, :, :] = self.normalize(raw_rgb[i, :, :])\n",
        "\n",
        "    \n",
        "    return raw_rgb\n",
        " \n",
        "  def open_mask(self, idx):\n",
        "    # Extract certain classes from mask\n",
        " \n",
        "    mask = cv2.imread(self.samples[idx]['target'], 0).astype('int64')\n",
        "    masks = [(mask == v) for v in self.class_value]\n",
        "    mask = np.stack(masks, axis=-1).astype('int64')\n",
        " \n",
        "    if self.augmentation:\n",
        "      transformed = self.augmentation(image = mask)\n",
        "      mask  = transformed[\"image\"]\n",
        "      \n",
        "    if self.preprocessing:\n",
        "      # Check if it is one hot\n",
        "      if self.crossEntropy_target:\n",
        "        mask = torch.argmax(torch.from_numpy(mask), dim=2)\n",
        "        # Normalize the mask bands\n",
        "        mask = self.normalize(mask)\n",
        "        mask = torch.tensor(mask, dtype=torch.long)\n",
        "\n",
        "      # process the one_hot target fpr diceloss\n",
        "      else:\n",
        "        # transpose to tensor shape\n",
        "        mask = mask.transpose((2, 0, 1)).astype('float32') # mask shape [classes_channels, H, W]      \n",
        "        # Normalize the mask bands\n",
        "        for i in range(mask.shape[0]):\n",
        "          mask[i, :, :] = self.normalize(mask[i, :, :])\n",
        "        \n",
        "        # Convert to Tensor\n",
        "        mask = torch.from_numpy(mask)\n",
        "\n",
        "    return mask\n",
        "  \n",
        "  def __getitem__(self, idx):\n",
        "    x = self.open_as_array(idx, include_ndvi=True)\n",
        "    y = self.open_mask(idx)\n",
        "    \n",
        "    \n",
        "    return x, y\n",
        "    \n",
        " \n",
        "  def __repr__(self):\n",
        "    s = 'Dataset class with {} files'.format(self.__len__())\n",
        "    return s"
      ],
      "execution_count": null,
      "outputs": []
    },
    {
      "cell_type": "code",
      "metadata": {
        "id": "l8xtlPwN1O12",
        "colab": {
          "base_uri": "https://localhost:8080/",
          "height": 356
        },
        "outputId": "dec64140-176d-4bf7-aaa4-070d245a6f1c"
      },
      "source": [
        "# Read the dataset\n",
        "base_path = \"/content/landcovernet_yes_baby\"\n",
        "CLASSES = ['otherland', 'Cropland', 'Pastureland', 'Bare soil', 'Openwater', 'Forestland']\n",
        " \n",
        "data = LandCoverNetDataset(os.path.join(base_path, 'inputs'), \n",
        "                           os.path.join(base_path, 'targets'),\n",
        "                           classes = CLASSES\n",
        "                           )\n",
        " \n",
        "x, y = data[2]\n",
        "#y = y[:, :, 0]\n",
        "print(y.shape)\n",
        "visualize(image = x[:, :, 0],\n",
        "          mask = y[:, :, 0],)\n",
        "len(data)"
      ],
      "execution_count": null,
      "outputs": [
        {
          "output_type": "stream",
          "text": [
            "(256, 256, 6)\n"
          ],
          "name": "stdout"
        },
        {
          "output_type": "display_data",
          "data": {
            "image/png": "[encoded data removed]",
            "text/plain": [
              "<Figure size 1152x360 with 2 Axes>"
            ]
          },
          "metadata": {
            "tags": []
          }
        },
        {
          "output_type": "execute_result",
          "data": {
            "text/plain": [
              "2512"
            ]
          },
          "metadata": {
            "tags": []
          },
          "execution_count": 6
        }
      ]
    },
    {
      "cell_type": "code",
      "metadata": {
        "colab": {
          "base_uri": "https://localhost:8080/"
        },
        "id": "nBdbkOo9n4wu",
        "outputId": "a713a204-a9f0-4f15-ecb2-aba33aa292e8"
      },
      "source": [
        "y.shape"
      ],
      "execution_count": null,
      "outputs": [
        {
          "output_type": "execute_result",
          "data": {
            "text/plain": [
              "(256, 256, 6)"
            ]
          },
          "metadata": {
            "tags": []
          },
          "execution_count": 82
        }
      ]
    },
    {
      "cell_type": "code",
      "metadata": {
        "colab": {
          "base_uri": "https://localhost:8080/",
          "height": 52
        },
        "id": "pgiyZ4Rf9o2J",
        "outputId": "c34500b2-4556-4630-b1ec-476f3990db32"
      },
      "source": [
        "'''# plot the different mask segmentations\r\n",
        "for i in range(y.shape[2]):\r\n",
        "  mask = y[:, :, i]\r\n",
        "  plt.imshow(mask)\r\n",
        "  plt.show()'''"
      ],
      "execution_count": null,
      "outputs": [
        {
          "output_type": "execute_result",
          "data": {
            "application/vnd.google.colaboratory.intrinsic+json": {
              "type": "string"
            },
            "text/plain": [
              "'# plot the different mask segmentations\\nfor i in range(y.shape[2]):\\n  mask = y[:, :, i]\\n  plt.imshow(mask)\\n  plt.show()'"
            ]
          },
          "metadata": {
            "tags": []
          },
          "execution_count": 76
        }
      ]
    },
    {
      "cell_type": "markdown",
      "metadata": {
        "id": "nBOeQxAie2wn"
      },
      "source": [
        "## Create the Data Loader and Specify the Batches"
      ]
    },
    {
      "cell_type": "code",
      "metadata": {
        "id": "O8GchxJLgD5V"
      },
      "source": [
        "# Declare an augmentation pipeline\n",
        "\n",
        "transform = A.Compose([\n",
        "    A.CenterCrop(height=224, width=224),\n",
        "    A.HorizontalFlip(p=0.5),\n",
        " \n",
        " \n",
        "])\n",
        " \n",
        "def load_data(valid_split, batch_size, \n",
        "              transform = transform, preprocess=True):\n",
        "    \"\"\"Loads the data\"\"\"\n",
        "    base_path = \"/content/landcovernet_yes_baby\"\n",
        "    dataset = LandCoverNetDataset(os.path.join(base_path, 'inputs'), \n",
        "                           os.path.join(base_path, 'targets'), \n",
        "                           classes = CLASSES,\n",
        "                           crossEntropy_target = False,\n",
        "                           preprocessing=preprocess,\n",
        "                           augmentation=transform)\n",
        " \n",
        " \n",
        "    # Create indices for the split\n",
        "    dataset_size = len(dataset)\n",
        "    valid_size = int(valid_split * dataset_size)\n",
        "    test_size = int(valid_split * dataset_size)\n",
        "    train_size = dataset_size - (valid_size + test_size)\n",
        " \n",
        "    train_dataset, valid_dataset, test_dataset = torch.utils.data.random_split(dataset,\n",
        "                                               [train_size, valid_size, test_size])\n",
        " \n",
        "    train_loader = DataLoader(\n",
        "        train_dataset.dataset,\n",
        "        batch_size=batch_size,\n",
        "        shuffle=True)\n",
        "    valid_loader = DataLoader(\n",
        "        valid_dataset.dataset,\n",
        "        batch_size=batch_size,\n",
        "        shuffle=True)\n",
        "    \n",
        "    test_loader = DataLoader(\n",
        "        test_dataset.dataset,\n",
        "        batch_size=batch_size,\n",
        "        shuffle=True)\n",
        " \n",
        "    return train_loader, valid_loader, test_loader\n",
        " \n",
        "# Get our data loaders\n",
        "train_loader, valid_loader, test_loader =  load_data(valid_split=0.15, batch_size=32, transform=transform, preprocess=True)"
      ],
      "execution_count": null,
      "outputs": []
    },
    {
      "cell_type": "markdown",
      "metadata": {
        "id": "m_gHftxAFRF9"
      },
      "source": [
        "# Preparing our Model\r\n",
        "\r\n",
        "Replace the model.conv1 to accept 4 channels\r\n",
        "\r\n",
        "- first: copy the layer's weights\r\n",
        "- assign them to the first three input channels\r\n",
        "\r\n",
        "- assinitiate the fourth input channel wieghts with the weights of the first input channel "
      ]
    },
    {
      "cell_type": "code",
      "metadata": {
        "id": "N7GSjP8u7kGj"
      },
      "source": [
        "\r\n",
        "ENCODER = 'resnet101' #se_resnext50_32x4d  #Linknet\r\n",
        "ENCODER_WEIGHTS = 'imagenet'\r\n",
        "ACTIVATION = 'softmax2d' # softmax2d\r\n",
        "DEVICE = 'cuda'\r\n",
        "model = smp.Linknet(ENCODER, activation=ACTIVATION, classes=len(CLASSES), in_channels=4)\r\n"
      ],
      "execution_count": null,
      "outputs": []
    },
    {
      "cell_type": "code",
      "metadata": {
        "colab": {
          "base_uri": "https://localhost:8080/"
        },
        "id": "7kn3O8F7jYKF",
        "outputId": "d3f71f13-4b4a-4fcb-a0cb-5c5aaafc39b1"
      },
      "source": [
        "# Check the data loader\n",
        "images, masks = iter(train_loader).next()\n",
        "print(images.shape)\n",
        "print(masks.shape)\n",
        "# Check the max value in our normalized image\n",
        "print(images[0][0, :, :].max())\n",
        "print(masks[0].dtype)"
      ],
      "execution_count": null,
      "outputs": [
        {
          "output_type": "stream",
          "text": [
            "/usr/local/lib/python3.6/dist-packages/ipykernel_launcher.py:56: UserWarning: indexing with dtype torch.uint8 is now deprecated, please use a dtype torch.bool instead. (Triggered internally at  /pytorch/aten/src/ATen/native/IndexingUtils.h:25.)\n"
          ],
          "name": "stderr"
        },
        {
          "output_type": "stream",
          "text": [
            "torch.Size([32, 4, 224, 224])\n",
            "torch.Size([32, 6, 224, 224])\n",
            "tensor(1.)\n",
            "torch.float32\n"
          ],
          "name": "stdout"
        }
      ]
    },
    {
      "cell_type": "code",
      "metadata": {
        "colab": {
          "base_uri": "https://localhost:8080/"
        },
        "id": "rgDwAUBc2chA",
        "outputId": "4b82a818-9678-46ae-c396-fd82431156ca"
      },
      "source": [
        "model"
      ],
      "execution_count": null,
      "outputs": [
        {
          "output_type": "execute_result",
          "data": {
            "text/plain": [
              "Linknet(\n",
              "  (encoder): ResNetEncoder(\n",
              "    (conv1): Conv2d(4, 64, kernel_size=(7, 7), stride=(2, 2), padding=(3, 3), bias=False)\n",
              "    (bn1): BatchNorm2d(64, eps=1e-05, momentum=0.1, affine=True, track_running_stats=True)\n",
              "    (relu): ReLU(inplace=True)\n",
              "    (maxpool): MaxPool2d(kernel_size=3, stride=2, padding=1, dilation=1, ceil_mode=False)\n",
              "    (layer1): Sequential(\n",
              "      (0): Bottleneck(\n",
              "        (conv1): Conv2d(64, 64, kernel_size=(1, 1), stride=(1, 1), bias=False)\n",
              "        (bn1): BatchNorm2d(64, eps=1e-05, momentum=0.1, affine=True, track_running_stats=True)\n",
              "        (conv2): Conv2d(64, 64, kernel_size=(3, 3), stride=(1, 1), padding=(1, 1), bias=False)\n",
              "        (bn2): BatchNorm2d(64, eps=1e-05, momentum=0.1, affine=True, track_running_stats=True)\n",
              "        (conv3): Conv2d(64, 256, kernel_size=(1, 1), stride=(1, 1), bias=False)\n",
              "        (bn3): BatchNorm2d(256, eps=1e-05, momentum=0.1, affine=True, track_running_stats=True)\n",
              "        (relu): ReLU(inplace=True)\n",
              "        (downsample): Sequential(\n",
              "          (0): Conv2d(64, 256, kernel_size=(1, 1), stride=(1, 1), bias=False)\n",
              "          (1): BatchNorm2d(256, eps=1e-05, momentum=0.1, affine=True, track_running_stats=True)\n",
              "        )\n",
              "      )\n",
              "      (1): Bottleneck(\n",
              "        (conv1): Conv2d(256, 64, kernel_size=(1, 1), stride=(1, 1), bias=False)\n",
              "        (bn1): BatchNorm2d(64, eps=1e-05, momentum=0.1, affine=True, track_running_stats=True)\n",
              "        (conv2): Conv2d(64, 64, kernel_size=(3, 3), stride=(1, 1), padding=(1, 1), bias=False)\n",
              "        (bn2): BatchNorm2d(64, eps=1e-05, momentum=0.1, affine=True, track_running_stats=True)\n",
              "        (conv3): Conv2d(64, 256, kernel_size=(1, 1), stride=(1, 1), bias=False)\n",
              "        (bn3): BatchNorm2d(256, eps=1e-05, momentum=0.1, affine=True, track_running_stats=True)\n",
              "        (relu): ReLU(inplace=True)\n",
              "      )\n",
              "      (2): Bottleneck(\n",
              "        (conv1): Conv2d(256, 64, kernel_size=(1, 1), stride=(1, 1), bias=False)\n",
              "        (bn1): BatchNorm2d(64, eps=1e-05, momentum=0.1, affine=True, track_running_stats=True)\n",
              "        (conv2): Conv2d(64, 64, kernel_size=(3, 3), stride=(1, 1), padding=(1, 1), bias=False)\n",
              "        (bn2): BatchNorm2d(64, eps=1e-05, momentum=0.1, affine=True, track_running_stats=True)\n",
              "        (conv3): Conv2d(64, 256, kernel_size=(1, 1), stride=(1, 1), bias=False)\n",
              "        (bn3): BatchNorm2d(256, eps=1e-05, momentum=0.1, affine=True, track_running_stats=True)\n",
              "        (relu): ReLU(inplace=True)\n",
              "      )\n",
              "    )\n",
              "    (layer2): Sequential(\n",
              "      (0): Bottleneck(\n",
              "        (conv1): Conv2d(256, 128, kernel_size=(1, 1), stride=(1, 1), bias=False)\n",
              "        (bn1): BatchNorm2d(128, eps=1e-05, momentum=0.1, affine=True, track_running_stats=True)\n",
              "        (conv2): Conv2d(128, 128, kernel_size=(3, 3), stride=(2, 2), padding=(1, 1), bias=False)\n",
              "        (bn2): BatchNorm2d(128, eps=1e-05, momentum=0.1, affine=True, track_running_stats=True)\n",
              "        (conv3): Conv2d(128, 512, kernel_size=(1, 1), stride=(1, 1), bias=False)\n",
              "        (bn3): BatchNorm2d(512, eps=1e-05, momentum=0.1, affine=True, track_running_stats=True)\n",
              "        (relu): ReLU(inplace=True)\n",
              "        (downsample): Sequential(\n",
              "          (0): Conv2d(256, 512, kernel_size=(1, 1), stride=(2, 2), bias=False)\n",
              "          (1): BatchNorm2d(512, eps=1e-05, momentum=0.1, affine=True, track_running_stats=True)\n",
              "        )\n",
              "      )\n",
              "      (1): Bottleneck(\n",
              "        (conv1): Conv2d(512, 128, kernel_size=(1, 1), stride=(1, 1), bias=False)\n",
              "        (bn1): BatchNorm2d(128, eps=1e-05, momentum=0.1, affine=True, track_running_stats=True)\n",
              "        (conv2): Conv2d(128, 128, kernel_size=(3, 3), stride=(1, 1), padding=(1, 1), bias=False)\n",
              "        (bn2): BatchNorm2d(128, eps=1e-05, momentum=0.1, affine=True, track_running_stats=True)\n",
              "        (conv3): Conv2d(128, 512, kernel_size=(1, 1), stride=(1, 1), bias=False)\n",
              "        (bn3): BatchNorm2d(512, eps=1e-05, momentum=0.1, affine=True, track_running_stats=True)\n",
              "        (relu): ReLU(inplace=True)\n",
              "      )\n",
              "      (2): Bottleneck(\n",
              "        (conv1): Conv2d(512, 128, kernel_size=(1, 1), stride=(1, 1), bias=False)\n",
              "        (bn1): BatchNorm2d(128, eps=1e-05, momentum=0.1, affine=True, track_running_stats=True)\n",
              "        (conv2): Conv2d(128, 128, kernel_size=(3, 3), stride=(1, 1), padding=(1, 1), bias=False)\n",
              "        (bn2): BatchNorm2d(128, eps=1e-05, momentum=0.1, affine=True, track_running_stats=True)\n",
              "        (conv3): Conv2d(128, 512, kernel_size=(1, 1), stride=(1, 1), bias=False)\n",
              "        (bn3): BatchNorm2d(512, eps=1e-05, momentum=0.1, affine=True, track_running_stats=True)\n",
              "        (relu): ReLU(inplace=True)\n",
              "      )\n",
              "      (3): Bottleneck(\n",
              "        (conv1): Conv2d(512, 128, kernel_size=(1, 1), stride=(1, 1), bias=False)\n",
              "        (bn1): BatchNorm2d(128, eps=1e-05, momentum=0.1, affine=True, track_running_stats=True)\n",
              "        (conv2): Conv2d(128, 128, kernel_size=(3, 3), stride=(1, 1), padding=(1, 1), bias=False)\n",
              "        (bn2): BatchNorm2d(128, eps=1e-05, momentum=0.1, affine=True, track_running_stats=True)\n",
              "        (conv3): Conv2d(128, 512, kernel_size=(1, 1), stride=(1, 1), bias=False)\n",
              "        (bn3): BatchNorm2d(512, eps=1e-05, momentum=0.1, affine=True, track_running_stats=True)\n",
              "        (relu): ReLU(inplace=True)\n",
              "      )\n",
              "    )\n",
              "    (layer3): Sequential(\n",
              "      (0): Bottleneck(\n",
              "        (conv1): Conv2d(512, 256, kernel_size=(1, 1), stride=(1, 1), bias=False)\n",
              "        (bn1): BatchNorm2d(256, eps=1e-05, momentum=0.1, affine=True, track_running_stats=True)\n",
              "        (conv2): Conv2d(256, 256, kernel_size=(3, 3), stride=(2, 2), padding=(1, 1), bias=False)\n",
              "        (bn2): BatchNorm2d(256, eps=1e-05, momentum=0.1, affine=True, track_running_stats=True)\n",
              "        (conv3): Conv2d(256, 1024, kernel_size=(1, 1), stride=(1, 1), bias=False)\n",
              "        (bn3): BatchNorm2d(1024, eps=1e-05, momentum=0.1, affine=True, track_running_stats=True)\n",
              "        (relu): ReLU(inplace=True)\n",
              "        (downsample): Sequential(\n",
              "          (0): Conv2d(512, 1024, kernel_size=(1, 1), stride=(2, 2), bias=False)\n",
              "          (1): BatchNorm2d(1024, eps=1e-05, momentum=0.1, affine=True, track_running_stats=True)\n",
              "        )\n",
              "      )\n",
              "      (1): Bottleneck(\n",
              "        (conv1): Conv2d(1024, 256, kernel_size=(1, 1), stride=(1, 1), bias=False)\n",
              "        (bn1): BatchNorm2d(256, eps=1e-05, momentum=0.1, affine=True, track_running_stats=True)\n",
              "        (conv2): Conv2d(256, 256, kernel_size=(3, 3), stride=(1, 1), padding=(1, 1), bias=False)\n",
              "        (bn2): BatchNorm2d(256, eps=1e-05, momentum=0.1, affine=True, track_running_stats=True)\n",
              "        (conv3): Conv2d(256, 1024, kernel_size=(1, 1), stride=(1, 1), bias=False)\n",
              "        (bn3): BatchNorm2d(1024, eps=1e-05, momentum=0.1, affine=True, track_running_stats=True)\n",
              "        (relu): ReLU(inplace=True)\n",
              "      )\n",
              "      (2): Bottleneck(\n",
              "        (conv1): Conv2d(1024, 256, kernel_size=(1, 1), stride=(1, 1), bias=False)\n",
              "        (bn1): BatchNorm2d(256, eps=1e-05, momentum=0.1, affine=True, track_running_stats=True)\n",
              "        (conv2): Conv2d(256, 256, kernel_size=(3, 3), stride=(1, 1), padding=(1, 1), bias=False)\n",
              "        (bn2): BatchNorm2d(256, eps=1e-05, momentum=0.1, affine=True, track_running_stats=True)\n",
              "        (conv3): Conv2d(256, 1024, kernel_size=(1, 1), stride=(1, 1), bias=False)\n",
              "        (bn3): BatchNorm2d(1024, eps=1e-05, momentum=0.1, affine=True, track_running_stats=True)\n",
              "        (relu): ReLU(inplace=True)\n",
              "      )\n",
              "      (3): Bottleneck(\n",
              "        (conv1): Conv2d(1024, 256, kernel_size=(1, 1), stride=(1, 1), bias=False)\n",
              "        (bn1): BatchNorm2d(256, eps=1e-05, momentum=0.1, affine=True, track_running_stats=True)\n",
              "        (conv2): Conv2d(256, 256, kernel_size=(3, 3), stride=(1, 1), padding=(1, 1), bias=False)\n",
              "        (bn2): BatchNorm2d(256, eps=1e-05, momentum=0.1, affine=True, track_running_stats=True)\n",
              "        (conv3): Conv2d(256, 1024, kernel_size=(1, 1), stride=(1, 1), bias=False)\n",
              "        (bn3): BatchNorm2d(1024, eps=1e-05, momentum=0.1, affine=True, track_running_stats=True)\n",
              "        (relu): ReLU(inplace=True)\n",
              "      )\n",
              "      (4): Bottleneck(\n",
              "        (conv1): Conv2d(1024, 256, kernel_size=(1, 1), stride=(1, 1), bias=False)\n",
              "        (bn1): BatchNorm2d(256, eps=1e-05, momentum=0.1, affine=True, track_running_stats=True)\n",
              "        (conv2): Conv2d(256, 256, kernel_size=(3, 3), stride=(1, 1), padding=(1, 1), bias=False)\n",
              "        (bn2): BatchNorm2d(256, eps=1e-05, momentum=0.1, affine=True, track_running_stats=True)\n",
              "        (conv3): Conv2d(256, 1024, kernel_size=(1, 1), stride=(1, 1), bias=False)\n",
              "        (bn3): BatchNorm2d(1024, eps=1e-05, momentum=0.1, affine=True, track_running_stats=True)\n",
              "        (relu): ReLU(inplace=True)\n",
              "      )\n",
              "      (5): Bottleneck(\n",
              "        (conv1): Conv2d(1024, 256, kernel_size=(1, 1), stride=(1, 1), bias=False)\n",
              "        (bn1): BatchNorm2d(256, eps=1e-05, momentum=0.1, affine=True, track_running_stats=True)\n",
              "        (conv2): Conv2d(256, 256, kernel_size=(3, 3), stride=(1, 1), padding=(1, 1), bias=False)\n",
              "        (bn2): BatchNorm2d(256, eps=1e-05, momentum=0.1, affine=True, track_running_stats=True)\n",
              "        (conv3): Conv2d(256, 1024, kernel_size=(1, 1), stride=(1, 1), bias=False)\n",
              "        (bn3): BatchNorm2d(1024, eps=1e-05, momentum=0.1, affine=True, track_running_stats=True)\n",
              "        (relu): ReLU(inplace=True)\n",
              "      )\n",
              "      (6): Bottleneck(\n",
              "        (conv1): Conv2d(1024, 256, kernel_size=(1, 1), stride=(1, 1), bias=False)\n",
              "        (bn1): BatchNorm2d(256, eps=1e-05, momentum=0.1, affine=True, track_running_stats=True)\n",
              "        (conv2): Conv2d(256, 256, kernel_size=(3, 3), stride=(1, 1), padding=(1, 1), bias=False)\n",
              "        (bn2): BatchNorm2d(256, eps=1e-05, momentum=0.1, affine=True, track_running_stats=True)\n",
              "        (conv3): Conv2d(256, 1024, kernel_size=(1, 1), stride=(1, 1), bias=False)\n",
              "        (bn3): BatchNorm2d(1024, eps=1e-05, momentum=0.1, affine=True, track_running_stats=True)\n",
              "        (relu): ReLU(inplace=True)\n",
              "      )\n",
              "      (7): Bottleneck(\n",
              "        (conv1): Conv2d(1024, 256, kernel_size=(1, 1), stride=(1, 1), bias=False)\n",
              "        (bn1): BatchNorm2d(256, eps=1e-05, momentum=0.1, affine=True, track_running_stats=True)\n",
              "        (conv2): Conv2d(256, 256, kernel_size=(3, 3), stride=(1, 1), padding=(1, 1), bias=False)\n",
              "        (bn2): BatchNorm2d(256, eps=1e-05, momentum=0.1, affine=True, track_running_stats=True)\n",
              "        (conv3): Conv2d(256, 1024, kernel_size=(1, 1), stride=(1, 1), bias=False)\n",
              "        (bn3): BatchNorm2d(1024, eps=1e-05, momentum=0.1, affine=True, track_running_stats=True)\n",
              "        (relu): ReLU(inplace=True)\n",
              "      )\n",
              "      (8): Bottleneck(\n",
              "        (conv1): Conv2d(1024, 256, kernel_size=(1, 1), stride=(1, 1), bias=False)\n",
              "        (bn1): BatchNorm2d(256, eps=1e-05, momentum=0.1, affine=True, track_running_stats=True)\n",
              "        (conv2): Conv2d(256, 256, kernel_size=(3, 3), stride=(1, 1), padding=(1, 1), bias=False)\n",
              "        (bn2): BatchNorm2d(256, eps=1e-05, momentum=0.1, affine=True, track_running_stats=True)\n",
              "        (conv3): Conv2d(256, 1024, kernel_size=(1, 1), stride=(1, 1), bias=False)\n",
              "        (bn3): BatchNorm2d(1024, eps=1e-05, momentum=0.1, affine=True, track_running_stats=True)\n",
              "        (relu): ReLU(inplace=True)\n",
              "      )\n",
              "      (9): Bottleneck(\n",
              "        (conv1): Conv2d(1024, 256, kernel_size=(1, 1), stride=(1, 1), bias=False)\n",
              "        (bn1): BatchNorm2d(256, eps=1e-05, momentum=0.1, affine=True, track_running_stats=True)\n",
              "        (conv2): Conv2d(256, 256, kernel_size=(3, 3), stride=(1, 1), padding=(1, 1), bias=False)\n",
              "        (bn2): BatchNorm2d(256, eps=1e-05, momentum=0.1, affine=True, track_running_stats=True)\n",
              "        (conv3): Conv2d(256, 1024, kernel_size=(1, 1), stride=(1, 1), bias=False)\n",
              "        (bn3): BatchNorm2d(1024, eps=1e-05, momentum=0.1, affine=True, track_running_stats=True)\n",
              "        (relu): ReLU(inplace=True)\n",
              "      )\n",
              "      (10): Bottleneck(\n",
              "        (conv1): Conv2d(1024, 256, kernel_size=(1, 1), stride=(1, 1), bias=False)\n",
              "        (bn1): BatchNorm2d(256, eps=1e-05, momentum=0.1, affine=True, track_running_stats=True)\n",
              "        (conv2): Conv2d(256, 256, kernel_size=(3, 3), stride=(1, 1), padding=(1, 1), bias=False)\n",
              "        (bn2): BatchNorm2d(256, eps=1e-05, momentum=0.1, affine=True, track_running_stats=True)\n",
              "        (conv3): Conv2d(256, 1024, kernel_size=(1, 1), stride=(1, 1), bias=False)\n",
              "        (bn3): BatchNorm2d(1024, eps=1e-05, momentum=0.1, affine=True, track_running_stats=True)\n",
              "        (relu): ReLU(inplace=True)\n",
              "      )\n",
              "      (11): Bottleneck(\n",
              "        (conv1): Conv2d(1024, 256, kernel_size=(1, 1), stride=(1, 1), bias=False)\n",
              "        (bn1): BatchNorm2d(256, eps=1e-05, momentum=0.1, affine=True, track_running_stats=True)\n",
              "        (conv2): Conv2d(256, 256, kernel_size=(3, 3), stride=(1, 1), padding=(1, 1), bias=False)\n",
              "        (bn2): BatchNorm2d(256, eps=1e-05, momentum=0.1, affine=True, track_running_stats=True)\n",
              "        (conv3): Conv2d(256, 1024, kernel_size=(1, 1), stride=(1, 1), bias=False)\n",
              "        (bn3): BatchNorm2d(1024, eps=1e-05, momentum=0.1, affine=True, track_running_stats=True)\n",
              "        (relu): ReLU(inplace=True)\n",
              "      )\n",
              "      (12): Bottleneck(\n",
              "        (conv1): Conv2d(1024, 256, kernel_size=(1, 1), stride=(1, 1), bias=False)\n",
              "        (bn1): BatchNorm2d(256, eps=1e-05, momentum=0.1, affine=True, track_running_stats=True)\n",
              "        (conv2): Conv2d(256, 256, kernel_size=(3, 3), stride=(1, 1), padding=(1, 1), bias=False)\n",
              "        (bn2): BatchNorm2d(256, eps=1e-05, momentum=0.1, affine=True, track_running_stats=True)\n",
              "        (conv3): Conv2d(256, 1024, kernel_size=(1, 1), stride=(1, 1), bias=False)\n",
              "        (bn3): BatchNorm2d(1024, eps=1e-05, momentum=0.1, affine=True, track_running_stats=True)\n",
              "        (relu): ReLU(inplace=True)\n",
              "      )\n",
              "      (13): Bottleneck(\n",
              "        (conv1): Conv2d(1024, 256, kernel_size=(1, 1), stride=(1, 1), bias=False)\n",
              "        (bn1): BatchNorm2d(256, eps=1e-05, momentum=0.1, affine=True, track_running_stats=True)\n",
              "        (conv2): Conv2d(256, 256, kernel_size=(3, 3), stride=(1, 1), padding=(1, 1), bias=False)\n",
              "        (bn2): BatchNorm2d(256, eps=1e-05, momentum=0.1, affine=True, track_running_stats=True)\n",
              "        (conv3): Conv2d(256, 1024, kernel_size=(1, 1), stride=(1, 1), bias=False)\n",
              "        (bn3): BatchNorm2d(1024, eps=1e-05, momentum=0.1, affine=True, track_running_stats=True)\n",
              "        (relu): ReLU(inplace=True)\n",
              "      )\n",
              "      (14): Bottleneck(\n",
              "        (conv1): Conv2d(1024, 256, kernel_size=(1, 1), stride=(1, 1), bias=False)\n",
              "        (bn1): BatchNorm2d(256, eps=1e-05, momentum=0.1, affine=True, track_running_stats=True)\n",
              "        (conv2): Conv2d(256, 256, kernel_size=(3, 3), stride=(1, 1), padding=(1, 1), bias=False)\n",
              "        (bn2): BatchNorm2d(256, eps=1e-05, momentum=0.1, affine=True, track_running_stats=True)\n",
              "        (conv3): Conv2d(256, 1024, kernel_size=(1, 1), stride=(1, 1), bias=False)\n",
              "        (bn3): BatchNorm2d(1024, eps=1e-05, momentum=0.1, affine=True, track_running_stats=True)\n",
              "        (relu): ReLU(inplace=True)\n",
              "      )\n",
              "      (15): Bottleneck(\n",
              "        (conv1): Conv2d(1024, 256, kernel_size=(1, 1), stride=(1, 1), bias=False)\n",
              "        (bn1): BatchNorm2d(256, eps=1e-05, momentum=0.1, affine=True, track_running_stats=True)\n",
              "        (conv2): Conv2d(256, 256, kernel_size=(3, 3), stride=(1, 1), padding=(1, 1), bias=False)\n",
              "        (bn2): BatchNorm2d(256, eps=1e-05, momentum=0.1, affine=True, track_running_stats=True)\n",
              "        (conv3): Conv2d(256, 1024, kernel_size=(1, 1), stride=(1, 1), bias=False)\n",
              "        (bn3): BatchNorm2d(1024, eps=1e-05, momentum=0.1, affine=True, track_running_stats=True)\n",
              "        (relu): ReLU(inplace=True)\n",
              "      )\n",
              "      (16): Bottleneck(\n",
              "        (conv1): Conv2d(1024, 256, kernel_size=(1, 1), stride=(1, 1), bias=False)\n",
              "        (bn1): BatchNorm2d(256, eps=1e-05, momentum=0.1, affine=True, track_running_stats=True)\n",
              "        (conv2): Conv2d(256, 256, kernel_size=(3, 3), stride=(1, 1), padding=(1, 1), bias=False)\n",
              "        (bn2): BatchNorm2d(256, eps=1e-05, momentum=0.1, affine=True, track_running_stats=True)\n",
              "        (conv3): Conv2d(256, 1024, kernel_size=(1, 1), stride=(1, 1), bias=False)\n",
              "        (bn3): BatchNorm2d(1024, eps=1e-05, momentum=0.1, affine=True, track_running_stats=True)\n",
              "        (relu): ReLU(inplace=True)\n",
              "      )\n",
              "      (17): Bottleneck(\n",
              "        (conv1): Conv2d(1024, 256, kernel_size=(1, 1), stride=(1, 1), bias=False)\n",
              "        (bn1): BatchNorm2d(256, eps=1e-05, momentum=0.1, affine=True, track_running_stats=True)\n",
              "        (conv2): Conv2d(256, 256, kernel_size=(3, 3), stride=(1, 1), padding=(1, 1), bias=False)\n",
              "        (bn2): BatchNorm2d(256, eps=1e-05, momentum=0.1, affine=True, track_running_stats=True)\n",
              "        (conv3): Conv2d(256, 1024, kernel_size=(1, 1), stride=(1, 1), bias=False)\n",
              "        (bn3): BatchNorm2d(1024, eps=1e-05, momentum=0.1, affine=True, track_running_stats=True)\n",
              "        (relu): ReLU(inplace=True)\n",
              "      )\n",
              "      (18): Bottleneck(\n",
              "        (conv1): Conv2d(1024, 256, kernel_size=(1, 1), stride=(1, 1), bias=False)\n",
              "        (bn1): BatchNorm2d(256, eps=1e-05, momentum=0.1, affine=True, track_running_stats=True)\n",
              "        (conv2): Conv2d(256, 256, kernel_size=(3, 3), stride=(1, 1), padding=(1, 1), bias=False)\n",
              "        (bn2): BatchNorm2d(256, eps=1e-05, momentum=0.1, affine=True, track_running_stats=True)\n",
              "        (conv3): Conv2d(256, 1024, kernel_size=(1, 1), stride=(1, 1), bias=False)\n",
              "        (bn3): BatchNorm2d(1024, eps=1e-05, momentum=0.1, affine=True, track_running_stats=True)\n",
              "        (relu): ReLU(inplace=True)\n",
              "      )\n",
              "      (19): Bottleneck(\n",
              "        (conv1): Conv2d(1024, 256, kernel_size=(1, 1), stride=(1, 1), bias=False)\n",
              "        (bn1): BatchNorm2d(256, eps=1e-05, momentum=0.1, affine=True, track_running_stats=True)\n",
              "        (conv2): Conv2d(256, 256, kernel_size=(3, 3), stride=(1, 1), padding=(1, 1), bias=False)\n",
              "        (bn2): BatchNorm2d(256, eps=1e-05, momentum=0.1, affine=True, track_running_stats=True)\n",
              "        (conv3): Conv2d(256, 1024, kernel_size=(1, 1), stride=(1, 1), bias=False)\n",
              "        (bn3): BatchNorm2d(1024, eps=1e-05, momentum=0.1, affine=True, track_running_stats=True)\n",
              "        (relu): ReLU(inplace=True)\n",
              "      )\n",
              "      (20): Bottleneck(\n",
              "        (conv1): Conv2d(1024, 256, kernel_size=(1, 1), stride=(1, 1), bias=False)\n",
              "        (bn1): BatchNorm2d(256, eps=1e-05, momentum=0.1, affine=True, track_running_stats=True)\n",
              "        (conv2): Conv2d(256, 256, kernel_size=(3, 3), stride=(1, 1), padding=(1, 1), bias=False)\n",
              "        (bn2): BatchNorm2d(256, eps=1e-05, momentum=0.1, affine=True, track_running_stats=True)\n",
              "        (conv3): Conv2d(256, 1024, kernel_size=(1, 1), stride=(1, 1), bias=False)\n",
              "        (bn3): BatchNorm2d(1024, eps=1e-05, momentum=0.1, affine=True, track_running_stats=True)\n",
              "        (relu): ReLU(inplace=True)\n",
              "      )\n",
              "      (21): Bottleneck(\n",
              "        (conv1): Conv2d(1024, 256, kernel_size=(1, 1), stride=(1, 1), bias=False)\n",
              "        (bn1): BatchNorm2d(256, eps=1e-05, momentum=0.1, affine=True, track_running_stats=True)\n",
              "        (conv2): Conv2d(256, 256, kernel_size=(3, 3), stride=(1, 1), padding=(1, 1), bias=False)\n",
              "        (bn2): BatchNorm2d(256, eps=1e-05, momentum=0.1, affine=True, track_running_stats=True)\n",
              "        (conv3): Conv2d(256, 1024, kernel_size=(1, 1), stride=(1, 1), bias=False)\n",
              "        (bn3): BatchNorm2d(1024, eps=1e-05, momentum=0.1, affine=True, track_running_stats=True)\n",
              "        (relu): ReLU(inplace=True)\n",
              "      )\n",
              "      (22): Bottleneck(\n",
              "        (conv1): Conv2d(1024, 256, kernel_size=(1, 1), stride=(1, 1), bias=False)\n",
              "        (bn1): BatchNorm2d(256, eps=1e-05, momentum=0.1, affine=True, track_running_stats=True)\n",
              "        (conv2): Conv2d(256, 256, kernel_size=(3, 3), stride=(1, 1), padding=(1, 1), bias=False)\n",
              "        (bn2): BatchNorm2d(256, eps=1e-05, momentum=0.1, affine=True, track_running_stats=True)\n",
              "        (conv3): Conv2d(256, 1024, kernel_size=(1, 1), stride=(1, 1), bias=False)\n",
              "        (bn3): BatchNorm2d(1024, eps=1e-05, momentum=0.1, affine=True, track_running_stats=True)\n",
              "        (relu): ReLU(inplace=True)\n",
              "      )\n",
              "    )\n",
              "    (layer4): Sequential(\n",
              "      (0): Bottleneck(\n",
              "        (conv1): Conv2d(1024, 512, kernel_size=(1, 1), stride=(1, 1), bias=False)\n",
              "        (bn1): BatchNorm2d(512, eps=1e-05, momentum=0.1, affine=True, track_running_stats=True)\n",
              "        (conv2): Conv2d(512, 512, kernel_size=(3, 3), stride=(2, 2), padding=(1, 1), bias=False)\n",
              "        (bn2): BatchNorm2d(512, eps=1e-05, momentum=0.1, affine=True, track_running_stats=True)\n",
              "        (conv3): Conv2d(512, 2048, kernel_size=(1, 1), stride=(1, 1), bias=False)\n",
              "        (bn3): BatchNorm2d(2048, eps=1e-05, momentum=0.1, affine=True, track_running_stats=True)\n",
              "        (relu): ReLU(inplace=True)\n",
              "        (downsample): Sequential(\n",
              "          (0): Conv2d(1024, 2048, kernel_size=(1, 1), stride=(2, 2), bias=False)\n",
              "          (1): BatchNorm2d(2048, eps=1e-05, momentum=0.1, affine=True, track_running_stats=True)\n",
              "        )\n",
              "      )\n",
              "      (1): Bottleneck(\n",
              "        (conv1): Conv2d(2048, 512, kernel_size=(1, 1), stride=(1, 1), bias=False)\n",
              "        (bn1): BatchNorm2d(512, eps=1e-05, momentum=0.1, affine=True, track_running_stats=True)\n",
              "        (conv2): Conv2d(512, 512, kernel_size=(3, 3), stride=(1, 1), padding=(1, 1), bias=False)\n",
              "        (bn2): BatchNorm2d(512, eps=1e-05, momentum=0.1, affine=True, track_running_stats=True)\n",
              "        (conv3): Conv2d(512, 2048, kernel_size=(1, 1), stride=(1, 1), bias=False)\n",
              "        (bn3): BatchNorm2d(2048, eps=1e-05, momentum=0.1, affine=True, track_running_stats=True)\n",
              "        (relu): ReLU(inplace=True)\n",
              "      )\n",
              "      (2): Bottleneck(\n",
              "        (conv1): Conv2d(2048, 512, kernel_size=(1, 1), stride=(1, 1), bias=False)\n",
              "        (bn1): BatchNorm2d(512, eps=1e-05, momentum=0.1, affine=True, track_running_stats=True)\n",
              "        (conv2): Conv2d(512, 512, kernel_size=(3, 3), stride=(1, 1), padding=(1, 1), bias=False)\n",
              "        (bn2): BatchNorm2d(512, eps=1e-05, momentum=0.1, affine=True, track_running_stats=True)\n",
              "        (conv3): Conv2d(512, 2048, kernel_size=(1, 1), stride=(1, 1), bias=False)\n",
              "        (bn3): BatchNorm2d(2048, eps=1e-05, momentum=0.1, affine=True, track_running_stats=True)\n",
              "        (relu): ReLU(inplace=True)\n",
              "      )\n",
              "    )\n",
              "  )\n",
              "  (decoder): LinknetDecoder(\n",
              "    (blocks): ModuleList(\n",
              "      (0): DecoderBlock(\n",
              "        (block): Sequential(\n",
              "          (0): Conv2dReLU(\n",
              "            (0): Conv2d(2048, 512, kernel_size=(1, 1), stride=(1, 1), bias=False)\n",
              "            (1): BatchNorm2d(512, eps=1e-05, momentum=0.1, affine=True, track_running_stats=True)\n",
              "            (2): ReLU(inplace=True)\n",
              "          )\n",
              "          (1): TransposeX2(\n",
              "            (0): ConvTranspose2d(512, 512, kernel_size=(4, 4), stride=(2, 2), padding=(1, 1))\n",
              "            (1): BatchNorm2d(512, eps=1e-05, momentum=0.1, affine=True, track_running_stats=True)\n",
              "            (2): ReLU(inplace=True)\n",
              "          )\n",
              "          (2): Conv2dReLU(\n",
              "            (0): Conv2d(512, 1024, kernel_size=(1, 1), stride=(1, 1), bias=False)\n",
              "            (1): BatchNorm2d(1024, eps=1e-05, momentum=0.1, affine=True, track_running_stats=True)\n",
              "            (2): ReLU(inplace=True)\n",
              "          )\n",
              "        )\n",
              "      )\n",
              "      (1): DecoderBlock(\n",
              "        (block): Sequential(\n",
              "          (0): Conv2dReLU(\n",
              "            (0): Conv2d(1024, 256, kernel_size=(1, 1), stride=(1, 1), bias=False)\n",
              "            (1): BatchNorm2d(256, eps=1e-05, momentum=0.1, affine=True, track_running_stats=True)\n",
              "            (2): ReLU(inplace=True)\n",
              "          )\n",
              "          (1): TransposeX2(\n",
              "            (0): ConvTranspose2d(256, 256, kernel_size=(4, 4), stride=(2, 2), padding=(1, 1))\n",
              "            (1): BatchNorm2d(256, eps=1e-05, momentum=0.1, affine=True, track_running_stats=True)\n",
              "            (2): ReLU(inplace=True)\n",
              "          )\n",
              "          (2): Conv2dReLU(\n",
              "            (0): Conv2d(256, 512, kernel_size=(1, 1), stride=(1, 1), bias=False)\n",
              "            (1): BatchNorm2d(512, eps=1e-05, momentum=0.1, affine=True, track_running_stats=True)\n",
              "            (2): ReLU(inplace=True)\n",
              "          )\n",
              "        )\n",
              "      )\n",
              "      (2): DecoderBlock(\n",
              "        (block): Sequential(\n",
              "          (0): Conv2dReLU(\n",
              "            (0): Conv2d(512, 128, kernel_size=(1, 1), stride=(1, 1), bias=False)\n",
              "            (1): BatchNorm2d(128, eps=1e-05, momentum=0.1, affine=True, track_running_stats=True)\n",
              "            (2): ReLU(inplace=True)\n",
              "          )\n",
              "          (1): TransposeX2(\n",
              "            (0): ConvTranspose2d(128, 128, kernel_size=(4, 4), stride=(2, 2), padding=(1, 1))\n",
              "            (1): BatchNorm2d(128, eps=1e-05, momentum=0.1, affine=True, track_running_stats=True)\n",
              "            (2): ReLU(inplace=True)\n",
              "          )\n",
              "          (2): Conv2dReLU(\n",
              "            (0): Conv2d(128, 256, kernel_size=(1, 1), stride=(1, 1), bias=False)\n",
              "            (1): BatchNorm2d(256, eps=1e-05, momentum=0.1, affine=True, track_running_stats=True)\n",
              "            (2): ReLU(inplace=True)\n",
              "          )\n",
              "        )\n",
              "      )\n",
              "      (3): DecoderBlock(\n",
              "        (block): Sequential(\n",
              "          (0): Conv2dReLU(\n",
              "            (0): Conv2d(256, 64, kernel_size=(1, 1), stride=(1, 1), bias=False)\n",
              "            (1): BatchNorm2d(64, eps=1e-05, momentum=0.1, affine=True, track_running_stats=True)\n",
              "            (2): ReLU(inplace=True)\n",
              "          )\n",
              "          (1): TransposeX2(\n",
              "            (0): ConvTranspose2d(64, 64, kernel_size=(4, 4), stride=(2, 2), padding=(1, 1))\n",
              "            (1): BatchNorm2d(64, eps=1e-05, momentum=0.1, affine=True, track_running_stats=True)\n",
              "            (2): ReLU(inplace=True)\n",
              "          )\n",
              "          (2): Conv2dReLU(\n",
              "            (0): Conv2d(64, 64, kernel_size=(1, 1), stride=(1, 1), bias=False)\n",
              "            (1): BatchNorm2d(64, eps=1e-05, momentum=0.1, affine=True, track_running_stats=True)\n",
              "            (2): ReLU(inplace=True)\n",
              "          )\n",
              "        )\n",
              "      )\n",
              "      (4): DecoderBlock(\n",
              "        (block): Sequential(\n",
              "          (0): Conv2dReLU(\n",
              "            (0): Conv2d(64, 16, kernel_size=(1, 1), stride=(1, 1), bias=False)\n",
              "            (1): BatchNorm2d(16, eps=1e-05, momentum=0.1, affine=True, track_running_stats=True)\n",
              "            (2): ReLU(inplace=True)\n",
              "          )\n",
              "          (1): TransposeX2(\n",
              "            (0): ConvTranspose2d(16, 16, kernel_size=(4, 4), stride=(2, 2), padding=(1, 1))\n",
              "            (1): BatchNorm2d(16, eps=1e-05, momentum=0.1, affine=True, track_running_stats=True)\n",
              "            (2): ReLU(inplace=True)\n",
              "          )\n",
              "          (2): Conv2dReLU(\n",
              "            (0): Conv2d(16, 32, kernel_size=(1, 1), stride=(1, 1), bias=False)\n",
              "            (1): BatchNorm2d(32, eps=1e-05, momentum=0.1, affine=True, track_running_stats=True)\n",
              "            (2): ReLU(inplace=True)\n",
              "          )\n",
              "        )\n",
              "      )\n",
              "    )\n",
              "  )\n",
              "  (segmentation_head): SegmentationHead(\n",
              "    (0): Conv2d(32, 6, kernel_size=(1, 1), stride=(1, 1))\n",
              "    (1): Identity()\n",
              "    (2): Activation(\n",
              "      (activation): Softmax(dim=1)\n",
              "    )\n",
              "  )\n",
              ")"
            ]
          },
          "metadata": {
            "tags": []
          },
          "execution_count": 11
        }
      ]
    },
    {
      "cell_type": "code",
      "metadata": {
        "colab": {
          "base_uri": "https://localhost:8080/"
        },
        "id": "7mc-KniXHRIu",
        "outputId": "68046cf9-5985-44b6-da63-0816529426b9"
      },
      "source": [
        "# test our model \r\n",
        "x = torch.randn(8, 4, 224, 224)\r\n",
        "output = model(x)\r\n",
        "print(output.shape)"
      ],
      "execution_count": null,
      "outputs": [
        {
          "output_type": "stream",
          "text": [
            "torch.Size([8, 6, 224, 224])\n"
          ],
          "name": "stdout"
        }
      ]
    },
    {
      "cell_type": "markdown",
      "metadata": {
        "id": "Ktdw3Y5OKTCL"
      },
      "source": [
        "# Training our Model\r\n",
        "\r\n"
      ]
    },
    {
      "cell_type": "code",
      "metadata": {
        "id": "jgNJfbvmadxk"
      },
      "source": [
        "loss = smp.utils.losses.DiceLoss()\r\n",
        "metrics = [\r\n",
        "    smp.utils.metrics.IoU(threshold=0.5),\r\n",
        "]\r\n",
        "optimizer = torch.optim.Adam([ \r\n",
        "    dict(params=model.parameters(), lr=0.0001),\r\n",
        "])"
      ],
      "execution_count": null,
      "outputs": []
    },
    {
      "cell_type": "code",
      "metadata": {
        "id": "jni5aeRH2l1T"
      },
      "source": [
        "# create epoch runners \r\n",
        "# it is a simple loop of iterating over dataloader`s samples\r\n",
        "train_epoch = smp.utils.train.TrainEpoch(\r\n",
        "    model, \r\n",
        "    loss=loss, \r\n",
        "    metrics=metrics, \r\n",
        "    optimizer=optimizer,\r\n",
        "    device = DEVICE,\r\n",
        "    verbose=True,\r\n",
        ")\r\n",
        "\r\n",
        "valid_epoch = smp.utils.train.ValidEpoch(\r\n",
        "    model, \r\n",
        "    loss=loss, \r\n",
        "    metrics=metrics, \r\n",
        "    device = DEVICE,\r\n",
        "    verbose=True,\r\n",
        ")"
      ],
      "execution_count": null,
      "outputs": []
    },
    {
      "cell_type": "markdown",
      "metadata": {
        "id": "xIFHMm67RkS8"
      },
      "source": [
        "## Train Loop"
      ]
    },
    {
      "cell_type": "code",
      "metadata": {
        "colab": {
          "base_uri": "https://localhost:8080/"
        },
        "id": "HUu050KW2TAF",
        "outputId": "f518faed-2006-4084-e75a-6e9a17eb094d"
      },
      "source": [
        "# Notes:\r\n",
        "## Start with Adam and then SGD\r\n",
        "### Have larger batch size\r\n",
        "####\r\n",
        "\r\n",
        "# train model for 40 epochs\r\n",
        "\r\n",
        "max_score = 0\r\n",
        "for i in range(0, 50):\r\n",
        "    \r\n",
        "    print('\\nEpoch: {}'.format(i))\r\n",
        "    train_logs = train_epoch.run(train_loader)\r\n",
        "    valid_logs = valid_epoch.run(valid_loader)\r\n",
        "    \r\n",
        "    # do something (save model, change lr, etc.)\r\n",
        "    if max_score < valid_logs['iou_score']:\r\n",
        "        max_score = valid_logs['iou_score']\r\n",
        "        torch.save(model, './best_model.pth')\r\n",
        "        \r\n",
        "        print('Model saved!')\r\n",
        "        \r\n",
        "    '''if i == 30:\r\n",
        "        optimizer.param_groups[0]['lr'] = 1e-4\r\n",
        "        print('Decrease decoder learning rate to 1e-4!')'''\r\n",
        "\r\n",
        "    if i == 45:\r\n",
        "      torch.save({'model':model.state_dict(), 'optim':optimizer.state_dict()}, './best_model.pth')\r\n",
        "      state_dict = torch.load('./best_model.pth')\r\n",
        "      model.load_state_dict(state_dict['model'])\r\n",
        "      optimizer = torch.optim.SGD(model.parameters(), 1e-5)"
      ],
      "execution_count": null,
      "outputs": [
        {
          "output_type": "stream",
          "text": [
            "\n",
            "Epoch: 0\n",
            "\rtrain:   0%|          | 0/79 [00:00<?, ?it/s]"
          ],
          "name": "stdout"
        },
        {
          "output_type": "stream",
          "text": [
            "/usr/local/lib/python3.6/dist-packages/ipykernel_launcher.py:56: UserWarning: indexing with dtype torch.uint8 is now deprecated, please use a dtype torch.bool instead. (Triggered internally at  /pytorch/aten/src/ATen/native/IndexingUtils.h:25.)\n"
          ],
          "name": "stderr"
        },
        {
          "output_type": "stream",
          "text": [
            "train: 100%|██████████| 79/79 [01:28<00:00,  1.12s/it, dice_loss - 0.7796, iou_score - 0.1056]\n",
            "valid: 100%|██████████| 79/79 [00:50<00:00,  1.57it/s, dice_loss - 0.7204, iou_score - 0.1612]\n",
            "Model saved!\n",
            "\n",
            "Epoch: 1\n",
            "train: 100%|██████████| 79/79 [01:28<00:00,  1.12s/it, dice_loss - 0.7068, iou_score - 0.1849]\n",
            "valid: 100%|██████████| 79/79 [00:49<00:00,  1.58it/s, dice_loss - 0.6693, iou_score - 0.2404]\n",
            "Model saved!\n",
            "\n",
            "Epoch: 2\n",
            "train: 100%|██████████| 79/79 [01:28<00:00,  1.12s/it, dice_loss - 0.6633, iou_score - 0.2449]\n",
            "valid: 100%|██████████| 79/79 [00:50<00:00,  1.58it/s, dice_loss - 0.6309, iou_score - 0.2845]\n",
            "Model saved!\n",
            "\n",
            "Epoch: 3\n",
            "train: 100%|██████████| 79/79 [01:28<00:00,  1.12s/it, dice_loss - 0.6252, iou_score - 0.2885]\n",
            "valid: 100%|██████████| 79/79 [00:50<00:00,  1.57it/s, dice_loss - 0.5835, iou_score - 0.3409]\n",
            "Model saved!\n",
            "\n",
            "Epoch: 4\n",
            "train: 100%|██████████| 79/79 [01:28<00:00,  1.12s/it, dice_loss - 0.5821, iou_score - 0.3286]\n",
            "valid: 100%|██████████| 79/79 [00:49<00:00,  1.59it/s, dice_loss - 0.5441, iou_score - 0.3579]\n",
            "Model saved!\n",
            "\n",
            "Epoch: 5\n",
            "train: 100%|██████████| 79/79 [01:28<00:00,  1.12s/it, dice_loss - 0.5526, iou_score - 0.3448]\n",
            "valid: 100%|██████████| 79/79 [00:49<00:00,  1.59it/s, dice_loss - 0.5309, iou_score - 0.3653]\n",
            "Model saved!\n",
            "\n",
            "Epoch: 6\n",
            "train: 100%|██████████| 79/79 [01:28<00:00,  1.12s/it, dice_loss - 0.5242, iou_score - 0.3685]\n",
            "valid: 100%|██████████| 79/79 [00:49<00:00,  1.60it/s, dice_loss - 0.5032, iou_score - 0.3878]\n",
            "Model saved!\n",
            "\n",
            "Epoch: 7\n",
            "train: 100%|██████████| 79/79 [01:28<00:00,  1.11s/it, dice_loss - 0.5082, iou_score - 0.3758]\n",
            "valid: 100%|██████████| 79/79 [00:49<00:00,  1.60it/s, dice_loss - 0.4945, iou_score - 0.3845]\n",
            "\n",
            "Epoch: 8\n",
            "train: 100%|██████████| 79/79 [01:28<00:00,  1.12s/it, dice_loss - 0.4891, iou_score - 0.3874]\n",
            "valid: 100%|██████████| 79/79 [00:49<00:00,  1.60it/s, dice_loss - 0.464, iou_score - 0.4071]\n",
            "Model saved!\n",
            "\n",
            "Epoch: 9\n",
            "train: 100%|██████████| 79/79 [01:28<00:00,  1.12s/it, dice_loss - 0.4666, iou_score - 0.4043]\n",
            "valid: 100%|██████████| 79/79 [00:49<00:00,  1.60it/s, dice_loss - 0.4325, iou_score - 0.4386]\n",
            "Model saved!\n",
            "\n",
            "Epoch: 10\n",
            "train: 100%|██████████| 79/79 [01:28<00:00,  1.12s/it, dice_loss - 0.4547, iou_score - 0.4116]\n",
            "valid: 100%|██████████| 79/79 [00:49<00:00,  1.60it/s, dice_loss - 0.4309, iou_score - 0.432]\n",
            "\n",
            "Epoch: 11\n",
            "train: 100%|██████████| 79/79 [01:27<00:00,  1.11s/it, dice_loss - 0.4411, iou_score - 0.4198]\n",
            "valid: 100%|██████████| 79/79 [00:49<00:00,  1.60it/s, dice_loss - 0.4176, iou_score - 0.4418]\n",
            "Model saved!\n",
            "\n",
            "Epoch: 12\n",
            "train: 100%|██████████| 79/79 [01:28<00:00,  1.12s/it, dice_loss - 0.4337, iou_score - 0.4255]\n",
            "valid: 100%|██████████| 79/79 [00:49<00:00,  1.59it/s, dice_loss - 0.3978, iou_score - 0.4622]\n",
            "Model saved!\n",
            "\n",
            "Epoch: 13\n",
            "train: 100%|██████████| 79/79 [01:28<00:00,  1.12s/it, dice_loss - 0.421, iou_score - 0.4348]\n",
            "valid: 100%|██████████| 79/79 [00:49<00:00,  1.60it/s, dice_loss - 0.4033, iou_score - 0.451]\n",
            "\n",
            "Epoch: 14\n",
            "train: 100%|██████████| 79/79 [01:28<00:00,  1.11s/it, dice_loss - 0.4189, iou_score - 0.4333]\n",
            "valid: 100%|██████████| 79/79 [00:49<00:00,  1.60it/s, dice_loss - 0.3729, iou_score - 0.4827]\n",
            "Model saved!\n",
            "\n",
            "Epoch: 15\n",
            "train: 100%|██████████| 79/79 [01:28<00:00,  1.12s/it, dice_loss - 0.3983, iou_score - 0.4536]\n",
            "valid: 100%|██████████| 79/79 [00:49<00:00,  1.60it/s, dice_loss - 0.3709, iou_score - 0.4788]\n",
            "\n",
            "Epoch: 16\n",
            "train: 100%|██████████| 79/79 [01:27<00:00,  1.11s/it, dice_loss - 0.3893, iou_score - 0.4589]\n",
            "valid: 100%|██████████| 79/79 [00:49<00:00,  1.60it/s, dice_loss - 0.3574, iou_score - 0.4926]\n",
            "Model saved!\n",
            "\n",
            "Epoch: 17\n",
            "train: 100%|██████████| 79/79 [01:28<00:00,  1.12s/it, dice_loss - 0.385, iou_score - 0.4632]\n",
            "valid: 100%|██████████| 79/79 [00:49<00:00,  1.60it/s, dice_loss - 0.3655, iou_score - 0.4822]\n",
            "\n",
            "Epoch: 18\n",
            "train: 100%|██████████| 79/79 [01:27<00:00,  1.11s/it, dice_loss - 0.385, iou_score - 0.461]\n",
            "valid: 100%|██████████| 79/79 [00:49<00:00,  1.60it/s, dice_loss - 0.4216, iou_score - 0.4189]\n",
            "\n",
            "Epoch: 19\n",
            "train: 100%|██████████| 79/79 [01:27<00:00,  1.11s/it, dice_loss - 0.3736, iou_score - 0.4718]\n",
            "valid: 100%|██████████| 79/79 [00:49<00:00,  1.60it/s, dice_loss - 0.3286, iou_score - 0.5204]\n",
            "Model saved!\n",
            "\n",
            "Epoch: 20\n",
            "train: 100%|██████████| 79/79 [01:27<00:00,  1.11s/it, dice_loss - 0.3605, iou_score - 0.485]\n",
            "valid: 100%|██████████| 79/79 [00:49<00:00,  1.60it/s, dice_loss - 0.3322, iou_score - 0.5142]\n",
            "\n",
            "Epoch: 21\n",
            "train: 100%|██████████| 79/79 [01:27<00:00,  1.11s/it, dice_loss - 0.3564, iou_score - 0.4882]\n",
            "valid: 100%|██████████| 79/79 [00:49<00:00,  1.59it/s, dice_loss - 0.358, iou_score - 0.4846]\n",
            "\n",
            "Epoch: 22\n",
            "train: 100%|██████████| 79/79 [01:27<00:00,  1.11s/it, dice_loss - 0.3435, iou_score - 0.5017]\n",
            "valid: 100%|██████████| 79/79 [00:49<00:00,  1.60it/s, dice_loss - 0.3331, iou_score - 0.5122]\n",
            "\n",
            "Epoch: 23\n",
            "train: 100%|██████████| 79/79 [01:28<00:00,  1.12s/it, dice_loss - 0.3383, iou_score - 0.5066]\n",
            "valid: 100%|██████████| 79/79 [00:49<00:00,  1.59it/s, dice_loss - 0.308, iou_score - 0.5405]\n",
            "Model saved!\n",
            "\n",
            "Epoch: 24\n",
            "train: 100%|██████████| 79/79 [01:28<00:00,  1.12s/it, dice_loss - 0.3303, iou_score - 0.5155]\n",
            "valid: 100%|██████████| 79/79 [00:49<00:00,  1.59it/s, dice_loss - 0.3166, iou_score - 0.5295]\n",
            "\n",
            "Epoch: 25\n",
            "train: 100%|██████████| 79/79 [01:28<00:00,  1.12s/it, dice_loss - 0.3365, iou_score - 0.5073]\n",
            "valid: 100%|██████████| 79/79 [00:51<00:00,  1.54it/s, dice_loss - 0.3067, iou_score - 0.5404]\n",
            "\n",
            "Epoch: 26\n",
            "train: 100%|██████████| 79/79 [01:29<00:00,  1.14s/it, dice_loss - 0.3224, iou_score - 0.5228]\n",
            "valid: 100%|██████████| 79/79 [00:50<00:00,  1.56it/s, dice_loss - 0.2967, iou_score - 0.5522]\n",
            "Model saved!\n",
            "\n",
            "Epoch: 27\n",
            "train: 100%|██████████| 79/79 [01:30<00:00,  1.14s/it, dice_loss - 0.311, iou_score - 0.536]\n",
            "valid: 100%|██████████| 79/79 [00:51<00:00,  1.54it/s, dice_loss - 0.2901, iou_score - 0.5584]\n",
            "Model saved!\n",
            "\n",
            "Epoch: 28\n",
            "train: 100%|██████████| 79/79 [01:29<00:00,  1.14s/it, dice_loss - 0.319, iou_score - 0.5249]\n",
            "valid: 100%|██████████| 79/79 [00:51<00:00,  1.55it/s, dice_loss - 0.3066, iou_score - 0.5399]\n",
            "\n",
            "Epoch: 29\n",
            "train: 100%|██████████| 79/79 [01:29<00:00,  1.14s/it, dice_loss - 0.3211, iou_score - 0.5228]\n",
            "valid: 100%|██████████| 79/79 [00:51<00:00,  1.53it/s, dice_loss - 0.2936, iou_score - 0.5538]\n",
            "\n",
            "Epoch: 30\n",
            "train: 100%|██████████| 79/79 [01:30<00:00,  1.14s/it, dice_loss - 0.3053, iou_score - 0.5403]\n",
            "valid: 100%|██████████| 79/79 [00:51<00:00,  1.54it/s, dice_loss - 0.2757, iou_score - 0.5744]\n",
            "Model saved!\n",
            "\n",
            "Epoch: 31\n",
            "train: 100%|██████████| 79/79 [01:29<00:00,  1.13s/it, dice_loss - 0.2946, iou_score - 0.5535]\n",
            "valid: 100%|██████████| 79/79 [00:50<00:00,  1.57it/s, dice_loss - 0.2724, iou_score - 0.5783]\n",
            "Model saved!\n",
            "\n",
            "Epoch: 32\n",
            "train: 100%|██████████| 79/79 [01:29<00:00,  1.13s/it, dice_loss - 0.3004, iou_score - 0.5469]\n",
            "valid: 100%|██████████| 79/79 [00:50<00:00,  1.57it/s, dice_loss - 0.2891, iou_score - 0.5582]\n",
            "\n",
            "Epoch: 33\n",
            "train: 100%|██████████| 79/79 [01:28<00:00,  1.12s/it, dice_loss - 0.2932, iou_score - 0.5542]\n",
            "valid: 100%|██████████| 79/79 [00:49<00:00,  1.59it/s, dice_loss - 0.2713, iou_score - 0.5794]\n",
            "Model saved!\n",
            "\n",
            "Epoch: 34\n",
            "train: 100%|██████████| 79/79 [01:28<00:00,  1.12s/it, dice_loss - 0.2948, iou_score - 0.5514]\n",
            "valid: 100%|██████████| 79/79 [00:49<00:00,  1.59it/s, dice_loss - 0.2683, iou_score - 0.5822]\n",
            "Model saved!\n",
            "\n",
            "Epoch: 35\n",
            "train: 100%|██████████| 79/79 [01:28<00:00,  1.12s/it, dice_loss - 0.281, iou_score - 0.5672]\n",
            "valid: 100%|██████████| 79/79 [00:49<00:00,  1.60it/s, dice_loss - 0.2642, iou_score - 0.5879]\n",
            "Model saved!\n",
            "\n",
            "Epoch: 36\n",
            "train: 100%|██████████| 79/79 [01:28<00:00,  1.12s/it, dice_loss - 0.2792, iou_score - 0.5701]\n",
            "valid: 100%|██████████| 79/79 [00:49<00:00,  1.59it/s, dice_loss - 0.2727, iou_score - 0.5773]\n",
            "\n",
            "Epoch: 37\n",
            "train: 100%|██████████| 79/79 [01:28<00:00,  1.12s/it, dice_loss - 0.2865, iou_score - 0.5606]\n",
            "valid: 100%|██████████| 79/79 [00:49<00:00,  1.59it/s, dice_loss - 0.2672, iou_score - 0.5847]\n",
            "\n",
            "Epoch: 38\n",
            "train: 100%|██████████| 79/79 [01:28<00:00,  1.12s/it, dice_loss - 0.2893, iou_score - 0.5573]\n",
            "valid: 100%|██████████| 79/79 [00:49<00:00,  1.59it/s, dice_loss - 0.2707, iou_score - 0.5796]\n",
            "\n",
            "Epoch: 39\n",
            "train: 100%|██████████| 79/79 [01:28<00:00,  1.12s/it, dice_loss - 0.2822, iou_score - 0.5654]\n",
            "valid: 100%|██████████| 79/79 [00:49<00:00,  1.59it/s, dice_loss - 0.2606, iou_score - 0.5912]\n",
            "Model saved!\n",
            "\n",
            "Epoch: 40\n",
            "train: 100%|██████████| 79/79 [01:28<00:00,  1.12s/it, dice_loss - 0.2816, iou_score - 0.5667]\n",
            "valid: 100%|██████████| 79/79 [00:49<00:00,  1.59it/s, dice_loss - 0.2607, iou_score - 0.5913]\n",
            "Model saved!\n",
            "\n",
            "Epoch: 41\n",
            "train:  80%|███████▉  | 63/79 [01:10<00:17,  1.12s/it, dice_loss - 0.2798, iou_score - 0.5691]"
          ],
          "name": "stdout"
        }
      ]
    },
    {
      "cell_type": "markdown",
      "metadata": {
        "id": "s0tPJtKuJ9TI"
      },
      "source": [
        "#Test best saved model"
      ]
    },
    {
      "cell_type": "code",
      "metadata": {
        "id": "OHE81VS6J8W7"
      },
      "source": [
        "# load best saved checkpoint\r\n",
        "model = torch.load('./best_model.pth')\r\n"
      ],
      "execution_count": null,
      "outputs": []
    },
    {
      "cell_type": "code",
      "metadata": {
        "colab": {
          "base_uri": "https://localhost:8080/"
        },
        "id": "it0TcQ4JKHxX",
        "outputId": "6f464775-87db-4c9f-96d8-6938599ccf37"
      },
      "source": [
        "# evaluate model on test set\r\n",
        "test_epoch = smp.utils.train.ValidEpoch(\r\n",
        "    model=best_model,\r\n",
        "    loss=loss,\r\n",
        "    metrics=metrics,\r\n",
        "    device=DEVICE,\r\n",
        ")\r\n",
        "\r\n",
        "logs = test_epoch.run(test_loader)"
      ],
      "execution_count": null,
      "outputs": [
        {
          "output_type": "stream",
          "text": [
            "valid: 100%|██████████| 314/314 [00:44<00:00,  6.99it/s, dice_loss - nan, iou_score - 2.491e-13]\n"
          ],
          "name": "stdout"
        }
      ]
    },
    {
      "cell_type": "markdown",
      "metadata": {
        "id": "Ob4BS70fKNRL"
      },
      "source": [
        "#Visualize predictions"
      ]
    },
    {
      "cell_type": "code",
      "metadata": {
        "id": "25o9u5mGKMhh"
      },
      "source": [
        "# test dataset without transformations for image visualization\r\n",
        "test_dataset_vis = Dataset(\r\n",
        "    x_test_dir, y_test_dir, \r\n",
        "    classes=CLASSES,\r\n",
        ")"
      ],
      "execution_count": null,
      "outputs": []
    },
    {
      "cell_type": "code",
      "metadata": {
        "colab": {
          "base_uri": "https://localhost:8080/",
          "height": 69
        },
        "id": "Owm4-ROjKSKh",
        "outputId": "6bc2090b-6da6-461f-84fe-853d95d664da"
      },
      "source": [
        "for i in range(5):\r\n",
        "    n = np.random.choice(len(test_dataset))\r\n",
        "    \r\n",
        "    image_vis = (test_dataset[n][0]).numpy().astype('uint8')\r\n",
        "    '''\r\n",
        "    image, gt_mask = test_dataset[n]\r\n",
        "    \r\n",
        "    gt_mask = gt_mask[0, :, :]\r\n",
        "    \r\n",
        "    x_tensor = image.to(DEVICE).unsqueeze(0)\r\n",
        "    pr_mask = best_model.predict(x_tensor)\r\n",
        "    pr_mask = (pr_mask.squeeze().cpu().numpy().round())\r\n",
        "'''\r\n",
        "print(image_vis.shape)     \r\n",
        "'''    visualize(\r\n",
        "        image=image_vis, \r\n",
        "        ground_truth_mask=gt_mask, \r\n",
        "        predicted_mask=pr_mask[0,:,:]\r\n",
        "    )'''"
      ],
      "execution_count": null,
      "outputs": [
        {
          "output_type": "stream",
          "text": [
            "(4, 224, 224)\n"
          ],
          "name": "stdout"
        },
        {
          "output_type": "execute_result",
          "data": {
            "application/vnd.google.colaboratory.intrinsic+json": {
              "type": "string"
            },
            "text/plain": [
              "'    visualize(\\n        image=image_vis, \\n        ground_truth_mask=gt_mask, \\n        predicted_mask=pr_mask[0,:,:]\\n    )'"
            ]
          },
          "metadata": {
            "tags": []
          },
          "execution_count": 46
        }
      ]
    },
    {
      "cell_type": "markdown",
      "metadata": {
        "id": "kmP7yaa1JRWy"
      },
      "source": [
        "#Reference:\r\n",
        "- https://medium.com/analytics-vidhya/creating-a-very-simple-u-net-model-with-pytorch-for-semantic-segmentation-of-satellite-images-223aa216e705\r\n",
        "- https://medium.com/analytics-vidhya/how-to-create-a-custom-dataset-loader-in-pytorch-from-scratch-for-multi-band-satellite-images-c5924e908edf\r\n",
        "\r\n",
        "- https://heartbeat.fritz.ai/image-segmentation-with-transfer-learning-pytorch-5ada7121c6ab\r\n",
        "\r\n",
        "- https://github.com/qubvel/segmentation_models.pytorch/blob/master/examples/cars%20segmentation%20(camvid).ipynb\r\n",
        "\r\n",
        "- https://github.com/albumentations-team/albumentations\r\n",
        "\r\n",
        "- https://pypi.org/project/segmentation-models-pytorch/\r\n",
        "\r\n",
        "Training best practice:\r\n",
        "- https://towardsdatascience.com/a-big-of-tricks-for-image-classification-fec41eb28e01"
      ]
    },
    {
      "cell_type": "code",
      "metadata": {
        "id": "RGHDWklIn9ZY"
      },
      "source": [
        ""
      ],
      "execution_count": null,
      "outputs": []
    }
  ]
}