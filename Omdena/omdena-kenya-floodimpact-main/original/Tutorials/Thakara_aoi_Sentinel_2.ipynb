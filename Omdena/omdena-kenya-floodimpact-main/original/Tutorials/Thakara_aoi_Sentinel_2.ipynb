{
 "cells": [
  {
   "cell_type": "markdown",
   "metadata": {
    "id": "6tn9sYbyGS14"
   },
   "source": [
    "The following notebook uses the shapefile provided here: https://drive.google.com/drive/folders/1dU1tV1Aj4QZJIVzWo7wbIdSJi89mMNZ1\n",
    "\n",
    "to get SENTINEL 2 images from Google earth engine.\n",
    "\n",
    "Note: Make sure to register in Google earth engine if you want to execute the follwoing code. It is free!"
   ]
  },
  {
   "cell_type": "code",
   "execution_count": 6,
   "metadata": {
    "id": "uueKZYQFtMOd"
   },
   "outputs": [],
   "source": [
    "# Install dependencies \n",
    "import subprocess\n",
    "\n",
    "try: \n",
    "  import geopandas as gpd\n",
    "  import numpy as np\n",
    "  import folium\n",
    "  import rasterio\n",
    "  import geemap\n",
    "except ImportError:\n",
    "    print('package(s) not installed. Installing ...')\n",
    "    subprocess.check_call([\"python\", '-m', 'pip', 'install', 'rasterio'])\n",
    "    subprocess.check_call([\"python\", '-m', 'pip', 'install', 'geopandas'])\n",
    "    subprocess.check_call([\"python\", '-m', 'pip', 'install', 'folium'])\n",
    "    subprocess.check_call([\"python\", '-m', 'pip', 'install', \"geemap\"])\n",
    "\n",
    "  "
   ]
  },
  {
   "cell_type": "code",
   "execution_count": 7,
   "metadata": {
    "id": "v1romEZrtNb9"
   },
   "outputs": [],
   "source": [
    "from rasterio.plot import show\n",
    "from rasterio.plot import show_hist\n",
    "import matplotlib.pyplot as plt\n",
    "%matplotlib inline\n",
    "\n",
    "# Checks whether this notebook is running on Google Colab\n",
    "try:\n",
    "    import google.colab\n",
    "    import geemap.eefolium as emap\n",
    "except:\n",
    "    import geemap as emap\n",
    "\n",
    "# Authenticates and initializes Earth Engine\n",
    "import ee\n",
    "\n",
    "try:\n",
    "    ee.Initialize()\n",
    "except Exception as e:\n",
    "    ee.Authenticate()\n",
    "    ee.Initialize()"
   ]
  },
  {
   "cell_type": "code",
   "execution_count": 9,
   "metadata": {
    "id": "_911dE4P3V9Q"
   },
   "outputs": [],
   "source": [
    "# Extract the bounding box and the projection from our raster image\n",
    "from shapely.geometry import Polygon\n",
    "from shapely.geometry import box\n",
    "img_raster = rasterio.open('/content/drive/My Drive/Official Folder of Kenya Red Cross Desert Locust Project/Data/Tharaka Nithi Mission 2_transparent_mosaic_blue.tif')\n",
    "projection = img_raster.crs"
   ]
  },
  {
   "cell_type": "code",
   "execution_count": 11,
   "metadata": {
    "id": "f9l6tMJRt4s1"
   },
   "outputs": [],
   "source": [
    "# I already imported the the shapefile with the bounding box of aoi to the Earth engine assetes\n",
    "Regions = ee.FeatureCollection('users/rashagh22/Tharaka_AOI')\n",
    "S2 = ee.ImageCollection(\"COPERNICUS/S2\")\n",
    "images = ee.ImageCollection(S2).filterBounds(Regions)\\\n",
    ".filterDate('2017-01-01', '2019-01-01').filterMetadata('CLOUDY_PIXEL_PERCENTAGE', 'less_than', 1)"
   ]
  },
  {
   "cell_type": "code",
   "execution_count": 14,
   "metadata": {
    "colab": {
     "base_uri": "https://localhost:8080/",
     "height": 630
    },
    "id": "iUvDTppT3RZu",
    "outputId": "28555076-adef-4c6c-c08c-5cb6883f57a7"
   },
   "outputs": [
    {
     "data": {
      "text/html": [
       "<div style=\"width:100%;\"><div style=\"position:relative;width:100%;height:0;padding-bottom:60%;\"><span style=\"color:#565656\">Make this Notebook Trusted to load map: File -> Trust Notebook</span><iframe src=\"about:blank\" style=\"position:absolute;width:100%;height:100%;left:0;top:0;border:none !important;\" data-html=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 onload=\"this.contentDocument.open();this.contentDocument.write(atob(this.getAttribute('data-html')));this.contentDocument.close();\" allowfullscreen webkitallowfullscreen mozallowfullscreen></iframe></div></div>"
      ],
      "text/plain": [
       "<geemap.eefolium.Map at 0x7f5470f458d0>"
      ]
     },
     "execution_count": 14,
     "metadata": {
      "tags": []
     },
     "output_type": "execute_result"
    }
   ],
   "source": [
    "Map = emap.Map(center=[40,-100], zoom=4)\n",
    "Map.add_basemap('ROADMAP') # Add Google Map\n",
    "vis_params = {'bands':['B4', 'B3', 'B2'], 'max':1351.045036760246, min:495.2109567383318}\n",
    "#Display the view to the center of the screen and scale the view\n",
    "Map.centerObject(Regions, 15)\n",
    "Map.addLayer(images.median().clip(Regions), vis_params, 'Amhara Region')\n",
    "Map.addLayerControl()\n",
    "Map"
   ]
  },
  {
   "cell_type": "markdown",
   "metadata": {
    "id": "4EvgaFolGPjn"
   },
   "source": [
    "Nest We export the image"
   ]
  },
  {
   "cell_type": "code",
   "execution_count": 74,
   "metadata": {
    "colab": {
     "base_uri": "https://localhost:8080/",
     "height": 17,
     "referenced_widgets": [
      "366ff6a671d14b2e8ae94e88d5a1de16"
     ]
    },
    "id": "pR3Mgtv_vLLB",
    "outputId": "234271ed-0052-4118-a4f2-930eb4e56ab7"
   },
   "outputs": [
    {
     "data": {
      "application/vnd.jupyter.widget-view+json": {
       "model_id": "366ff6a671d14b2e8ae94e88d5a1de16",
       "version_major": 2,
       "version_minor": 0
      },
      "text/plain": [
       "Map(center=[40, -100], controls=(WidgetControl(options=['position'], widget=HBox(children=(ToggleButton(value=…"
      ]
     },
     "metadata": {
      "tags": []
     },
     "output_type": "display_data"
    }
   ],
   "source": []
  }
 ],
 "metadata": {
  "colab": {
   "name": "Untitled20.ipynb",
   "provenance": []
  },
  "kernelspec": {
   "display_name": "omdena_malaria",
   "language": "python",
   "name": "omdena_malaria"
  },
  "language_info": {
   "codemirror_mode": {
    "name": "ipython",
    "version": 3
   },
   "file_extension": ".py",
   "mimetype": "text/x-python",
   "name": "python",
   "nbconvert_exporter": "python",
   "pygments_lexer": "ipython3",
   "version": "3.8.5"
  },
  "widgets": {
   "application/vnd.jupyter.widget-state+json": {
    "366ff6a671d14b2e8ae94e88d5a1de16": {
     "model_module": "jupyter-leaflet",
     "model_name": "LeafletMapModel",
     "state": {
      "_dom_classes": [],
      "_model_module": "jupyter-leaflet",
      "_model_module_version": "^0.13.2",
      "_model_name": "LeafletMapModel",
      "_view_count": null,
      "_view_module": "jupyter-leaflet",
      "_view_module_version": "^0.13.2",
      "_view_name": "LeafletMapView",
      "bottom": 0,
      "bounce_at_zoom_limits": true,
      "box_zoom": true,
      "center": [
       40,
       -100
      ],
      "close_popup_on_click": true,
      "controls": [
       "IPY_MODEL_b0455a50718340d6a661c94669f0e357",
       "IPY_MODEL_46db9e03c45e4ce99b81ca98f0257fc2",
       "IPY_MODEL_88eab155c82d4535985ddcc5f2a7aa98",
       "IPY_MODEL_34adc67460374f08b6febca9f90da371",
       "IPY_MODEL_b0537fbef74a4c62b88877833c0c0e71",
       "IPY_MODEL_81114fd1237b4fc78a77860de86bf63e",
       "IPY_MODEL_89561d3c95ea43dd9b3e6a0a9e9db71f",
       "IPY_MODEL_d116ff0bbb2c4ad89151080e504cfe55",
       "IPY_MODEL_3880a59ac65b4c6f829605c05653924b",
       "IPY_MODEL_fe231dcaa86f462d8135e6a0ad22e2e8",
       "IPY_MODEL_80961da0f4a94e05bfef314c4a278028",
       "IPY_MODEL_ae450843101a4b7fbd056751a176f365",
       "IPY_MODEL_e039625c849f4a839a09bca4d46603bb"
      ],
      "crs": {
       "custom": false,
       "name": "EPSG3857"
      },
      "default_style": "IPY_MODEL_f5c75433a07440ed83fcb112fcc1a811",
      "double_click_zoom": true,
      "dragging": true,
      "dragging_style": "IPY_MODEL_eb7481df54e7476d917808ee9317e27b",
      "east": 0,
      "fullscreen": false,
      "inertia": true,
      "inertia_deceleration": 3000,
      "inertia_max_speed": 1500,
      "interpolation": "bilinear",
      "keyboard": true,
      "keyboard_pan_offset": 80,
      "keyboard_zoom_offset": 1,
      "layers": [
       "IPY_MODEL_38ac377c6bfe479c88138c4428dbf559",
       "IPY_MODEL_ea193054b5784159a35679498a1fbef1",
       "IPY_MODEL_b7ab00f737ed4b9b899f3594103301cd"
      ],
      "layout": "IPY_MODEL_bb81b55c6b5e40e5a255f7a74c81a0e5",
      "left": 9007199254740991,
      "max_zoom": 18,
      "min_zoom": 1,
      "modisdate": "yesterday",
      "north": 0,
      "options": [
       "bounce_at_zoom_limits",
       "box_zoom",
       "center",
       "close_popup_on_click",
       "double_click_zoom",
       "dragging",
       "fullscreen",
       "inertia",
       "inertia_deceleration",
       "inertia_max_speed",
       "interpolation",
       "keyboard",
       "keyboard_pan_offset",
       "keyboard_zoom_offset",
       "max_zoom",
       "min_zoom",
       "scroll_wheel_zoom",
       "tap",
       "tap_tolerance",
       "touch_zoom",
       "world_copy_jump",
       "zoom",
       "zoom_animation_threshold",
       "zoom_delta",
       "zoom_snap",
       "zoom_start"
      ],
      "right": 0,
      "scroll_wheel_zoom": true,
      "south": 0,
      "style": "IPY_MODEL_466ea78e2ec5459da5912ce1c02ddfcf",
      "tap": true,
      "tap_tolerance": 15,
      "top": 9007199254740991,
      "touch_zoom": true,
      "west": 0,
      "window_url": "",
      "world_copy_jump": false,
      "zoom": 4,
      "zoom_animation_threshold": 4,
      "zoom_delta": 1,
      "zoom_snap": 1,
      "zoom_start": 12
     }
    }
   }
  }
 },
 "nbformat": 4,
 "nbformat_minor": 1
}
