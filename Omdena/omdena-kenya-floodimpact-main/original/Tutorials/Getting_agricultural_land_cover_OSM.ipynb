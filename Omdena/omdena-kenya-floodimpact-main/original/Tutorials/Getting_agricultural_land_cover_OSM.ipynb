{
 "cells": [
  {
   "cell_type": "markdown",
   "metadata": {
    "id": "3fqI0hb7jMId"
   },
   "source": [
    "# Getting Data from OSM\n",
    "\n",
    "OpenStreetMap is a collaborative project to create a free editable map of the world. We are going to use this service to get the coordinates for all the landcovers annotated as agricultural see this link for diffirent tags of [agricultural landuse](https://wiki.openstreetmap.org/wiki/Landuse#key:landuse_values_not_used_to_indicate_land_use_in_all_cases).\n",
    "\n",
    "We are going to use [osmnx](https://osmnx.readthedocs.io/en/stable/) which provid a way to communicate with OSM services through Python code which is more convenient."
   ]
  },
  {
   "cell_type": "code",
   "execution_count": 1,
   "metadata": {
    "id": "fjVLCCPYjMIf",
    "outputId": "ca3f93d4-defc-4b54-b6c2-958d424293c6"
   },
   "outputs": [],
   "source": [
    "import geopandas as gpd\n",
    "import osmnx as ox\n",
    "import folium\n",
    "import matplotlib.pyplot as plt\n",
    "import seaborn as sns\n",
    "import numpy as np\n",
    "from shapely.geometry import Polygon\n",
    "from shapely.geometry import box\n",
    "import pandas as pd\n",
    "import matplotlib.pyplot as plt\n",
    "\n",
    "from sklearn.compose import ColumnTransformer"
   ]
  },
  {
   "cell_type": "markdown",
   "metadata": {
    "id": "GqTAYAeSjMIo"
   },
   "source": [
    "### Read The GeoJson containing the counties with high risk of desert locust attack\n",
    "We are going to use a GeoJson file that contains the counties with high risk of DL attacks to get the coordinates of any land covers annotated as (farms, meadow, orchard, vineyard, greenhouse_horticulture, farmyard). Note that these annotation were taken from the OSM wiki page."
   ]
  },
  {
   "cell_type": "code",
   "execution_count": 7,
   "metadata": {
    "id": "dSOORd-LjMIp"
   },
   "outputs": [],
   "source": [
    "# Loading the geojson file\n",
    "data_frame = gpd.read_file(\"C:/Users/rasha/OneDrive/Documents/GitHub/KenyaRedCross/Data/kenyan-counties.geojson\")"
   ]
  },
  {
   "cell_type": "code",
   "execution_count": 8,
   "metadata": {
    "id": "n-feNktDjMIt",
    "outputId": "1523b4e5-f73a-4c7f-d74d-002c111d9aba",
    "scrolled": true
   },
   "outputs": [
    {
     "data": {
      "text/html": [
       "<div>\n",
       "<style scoped>\n",
       "    .dataframe tbody tr th:only-of-type {\n",
       "        vertical-align: middle;\n",
       "    }\n",
       "\n",
       "    .dataframe tbody tr th {\n",
       "        vertical-align: top;\n",
       "    }\n",
       "\n",
       "    .dataframe thead th {\n",
       "        text-align: right;\n",
       "    }\n",
       "</style>\n",
       "<table border=\"1\" class=\"dataframe\">\n",
       "  <thead>\n",
       "    <tr style=\"text-align: right;\">\n",
       "      <th></th>\n",
       "      <th>OBJECTID</th>\n",
       "      <th>AREA</th>\n",
       "      <th>PERIMETER</th>\n",
       "      <th>COUNTY3_</th>\n",
       "      <th>COUNTY3_ID</th>\n",
       "      <th>COUNTY</th>\n",
       "      <th>Shape_Leng</th>\n",
       "      <th>Shape_Area</th>\n",
       "      <th>geometry</th>\n",
       "    </tr>\n",
       "  </thead>\n",
       "  <tbody>\n",
       "    <tr>\n",
       "      <th>0</th>\n",
       "      <td>1</td>\n",
       "      <td>5.677</td>\n",
       "      <td>15.047</td>\n",
       "      <td>2</td>\n",
       "      <td>1</td>\n",
       "      <td>Turkana</td>\n",
       "      <td>15.046838</td>\n",
       "      <td>5.676985</td>\n",
       "      <td>POLYGON ((35.79593 5.34449, 35.79659 5.34468, ...</td>\n",
       "    </tr>\n",
       "    <tr>\n",
       "      <th>1</th>\n",
       "      <td>2</td>\n",
       "      <td>6.177</td>\n",
       "      <td>11.974</td>\n",
       "      <td>3</td>\n",
       "      <td>2</td>\n",
       "      <td>Marsabit</td>\n",
       "      <td>11.974165</td>\n",
       "      <td>6.176831</td>\n",
       "      <td>POLYGON ((36.05061 4.45622, 36.23184 4.45124, ...</td>\n",
       "    </tr>\n",
       "    <tr>\n",
       "      <th>2</th>\n",
       "      <td>3</td>\n",
       "      <td>2.117</td>\n",
       "      <td>7.355</td>\n",
       "      <td>4</td>\n",
       "      <td>3</td>\n",
       "      <td>Mandera</td>\n",
       "      <td>7.355154</td>\n",
       "      <td>2.117196</td>\n",
       "      <td>POLYGON ((41.62133 3.97673, 41.62272 3.97860, ...</td>\n",
       "    </tr>\n",
       "    <tr>\n",
       "      <th>3</th>\n",
       "      <td>4</td>\n",
       "      <td>4.610</td>\n",
       "      <td>9.838</td>\n",
       "      <td>5</td>\n",
       "      <td>4</td>\n",
       "      <td>Wajir</td>\n",
       "      <td>9.838408</td>\n",
       "      <td>4.609589</td>\n",
       "      <td>POLYGON ((39.31812 3.47197, 39.31956 3.47168, ...</td>\n",
       "    </tr>\n",
       "    <tr>\n",
       "      <th>4</th>\n",
       "      <td>5</td>\n",
       "      <td>0.740</td>\n",
       "      <td>5.030</td>\n",
       "      <td>6</td>\n",
       "      <td>5</td>\n",
       "      <td>West Pokot</td>\n",
       "      <td>5.030271</td>\n",
       "      <td>0.740481</td>\n",
       "      <td>POLYGON ((35.12745 2.62271, 35.12762 2.62302, ...</td>\n",
       "    </tr>\n",
       "  </tbody>\n",
       "</table>\n",
       "</div>"
      ],
      "text/plain": [
       "   OBJECTID   AREA  PERIMETER  COUNTY3_  COUNTY3_ID      COUNTY  Shape_Leng  \\\n",
       "0         1  5.677     15.047         2           1     Turkana   15.046838   \n",
       "1         2  6.177     11.974         3           2    Marsabit   11.974165   \n",
       "2         3  2.117      7.355         4           3     Mandera    7.355154   \n",
       "3         4  4.610      9.838         5           4       Wajir    9.838408   \n",
       "4         5  0.740      5.030         6           5  West Pokot    5.030271   \n",
       "\n",
       "   Shape_Area                                           geometry  \n",
       "0    5.676985  POLYGON ((35.79593 5.34449, 35.79659 5.34468, ...  \n",
       "1    6.176831  POLYGON ((36.05061 4.45622, 36.23184 4.45124, ...  \n",
       "2    2.117196  POLYGON ((41.62133 3.97673, 41.62272 3.97860, ...  \n",
       "3    4.609589  POLYGON ((39.31812 3.47197, 39.31956 3.47168, ...  \n",
       "4    0.740481  POLYGON ((35.12745 2.62271, 35.12762 2.62302, ...  "
      ]
     },
     "execution_count": 8,
     "metadata": {},
     "output_type": "execute_result"
    }
   ],
   "source": [
    "# Take a look at the data\n",
    "data_frame.head()"
   ]
  },
  {
   "cell_type": "markdown",
   "metadata": {},
   "source": [
    "### Extracting Tharaka county from our GeoJSON"
   ]
  },
  {
   "cell_type": "code",
   "execution_count": 12,
   "metadata": {},
   "outputs": [],
   "source": [
    "tharaka_nithi_geom = data_frame.loc[data_frame.COUNTY.isin(['Tharaka'])].geometry"
   ]
  },
  {
   "cell_type": "code",
   "execution_count": 15,
   "metadata": {},
   "outputs": [
    {
     "data": {
      "text/plain": [
       "<AxesSubplot:>"
      ]
     },
     "execution_count": 15,
     "metadata": {},
     "output_type": "execute_result"
    },
    {
     "data": {
      "image/png": "[encoded data removed]",
      "text/plain": [
       "<Figure size 432x288 with 1 Axes>"
      ]
     },
     "metadata": {
      "needs_background": "light"
     },
     "output_type": "display_data"
    }
   ],
   "source": [
    "tharaka_nithi_geom.plot()"
   ]
  },
  {
   "cell_type": "code",
   "execution_count": 16,
   "metadata": {},
   "outputs": [],
   "source": [
    "# Storr the result in a geojson\n",
    "tharaka_nithi_geom.to_file(\"C:/Users/rasha/OneDrive/Documents/GitHub/KenyaRedCross/Data/tharaka_nithi.geojson\", driver='GeoJSON')"
   ]
  },
  {
   "cell_type": "code",
   "execution_count": 17,
   "metadata": {},
   "outputs": [],
   "source": [
    "# Storr the result in a geojson\n",
    "tharaka_nithi_geom.to_file(\"C:/Users/rasha/OneDrive/Documents/GitHub/KenyaRedCross/Data/tharaka_nithi.sh\", driver='Shapefile')"
   ]
  },
  {
   "cell_type": "markdown",
   "metadata": {
    "id": "2kRGUq1ojMIz"
   },
   "source": [
    "Find the bounding box for the region of interest. We'll use this to extract images from OSM."
   ]
  },
  {
   "cell_type": "code",
   "execution_count": null,
   "metadata": {
    "id": "3Bq0Qm1IjMI0",
    "outputId": "9f43a0fb-2832-45e0-db32-54e9c84d9f5d"
   },
   "outputs": [
    {
     "name": "stderr",
     "output_type": "stream",
     "text": [
      "C:\\Users\\rasha\\.conda\\envs\\omdena_malaria\\lib\\site-packages\\ipykernel\\ipkernel.py:287: DeprecationWarning: `should_run_async` will not call `transform_cell` automatically in the future. Please pass the result to `transformed_cell` argument and any exception that happen during thetransform in `preprocessing_exc_tuple` in IPython 7.17 and above.\n",
      "  and should_run_async(code)\n"
     ]
    }
   ],
   "source": [
    "# Creating a bounding box that will include all the counties we have from the previous GeoJson\n",
    "x_min, y_min, x_max, y_max = data_frame.total_bounds\n",
    "bbox = [x_min, y_min, x_max, y_max]\n",
    "# Convet bbox to Polygon\n",
    "kenya_poly =box(*bbox)"
   ]
  },
  {
   "cell_type": "markdown",
   "metadata": {
    "id": "S6FA53YdjMI5"
   },
   "source": [
    "Now we are going to use osmnx to get the coordinates for the land covers we specify below. This may take a few seconds to a minute depending on the amount of annotated data available (hopefully a lot) and the area of the region."
   ]
  },
  {
   "cell_type": "code",
   "execution_count": null,
   "metadata": {
    "id": "hgyIjsXSjMI6"
   },
   "outputs": [],
   "source": [
    "landuse = ox.geometries.geometries_from_polygon(kenya_poly, tags={'landuse':['farmland', 'meadow', 'orchard', 'vineyard', 'greenhouse_horticulture']})"
   ]
  },
  {
   "cell_type": "code",
   "execution_count": null,
   "metadata": {
    "id": "w4LR6RK-jMI-",
    "outputId": "8da7ec13-5050-4314-8481-aef922adc57b"
   },
   "outputs": [
    {
     "name": "stderr",
     "output_type": "stream",
     "text": [
      "C:\\Users\\rasha\\.conda\\envs\\omdena_malaria\\lib\\site-packages\\ipykernel\\ipkernel.py:287: DeprecationWarning: `should_run_async` will not call `transform_cell` automatically in the future. Please pass the result to `transformed_cell` argument and any exception that happen during thetransform in `preprocessing_exc_tuple` in IPython 7.17 and above.\n",
      "  and should_run_async(code)\n"
     ]
    },
    {
     "data": {
      "text/plain": [
       "106883"
      ]
     },
     "execution_count": 69,
     "metadata": {
      "tags": []
     },
     "output_type": "execute_result"
    }
   ],
   "source": [
    "len(landuse)"
   ]
  },
  {
   "cell_type": "markdown",
   "metadata": {
    "id": "ZPsk5Hb1jMJF"
   },
   "source": [
    "Now we have successfully fetched the annotated data from OSM. We can use these coordinates as our region of interet and use it to get data from Google earth engine or any other source."
   ]
  },
  {
   "cell_type": "code",
   "execution_count": null,
   "metadata": {
    "id": "PTz-paOKjMJG",
    "outputId": "314eab19-803b-47a7-8651-83a526682f14"
   },
   "outputs": [
    {
     "data": {
      "text/plain": [
       "<AxesSubplot:>"
      ]
     },
     "execution_count": 75,
     "metadata": {
      "tags": []
     },
     "output_type": "execute_result"
    },
    {
     "data": {
      "image/png": "[encoded data removed]",
      "text/plain": [
       "<Figure size 1440x1440 with 1 Axes>"
      ]
     },
     "metadata": {
      "needs_background": "light",
      "tags": []
     },
     "output_type": "display_data"
    }
   ],
   "source": [
    "landuse.plot(figsize=(20, 20), markersize=1, color='red')"
   ]
  },
  {
   "cell_type": "code",
   "execution_count": null,
   "metadata": {
    "id": "oDrHCVHljMJP",
    "outputId": "18393df6-2f76-4edf-baa8-081a7c74f05a"
   },
   "outputs": [
    {
     "name": "stderr",
     "output_type": "stream",
     "text": [
      "C:\\Users\\rasha\\.conda\\envs\\omdena_malaria\\lib\\site-packages\\ipykernel\\ipkernel.py:287: DeprecationWarning: `should_run_async` will not call `transform_cell` automatically in the future. Please pass the result to `transformed_cell` argument and any exception that happen during thetransform in `preprocessing_exc_tuple` in IPython 7.17 and above.\n",
      "  and should_run_async(code)\n",
      "C:\\Users\\rasha\\.conda\\envs\\omdena_malaria\\lib\\site-packages\\aiohttp\\helpers.py:107: DeprecationWarning: \"@coroutine\" decorator is deprecated since Python 3.8, use \"async def\" instead\n",
      "  def noop(*args, **kwargs):  # type: ignore\n"
     ]
    }
   ],
   "source": [
    "# Save our features by chunk\n",
    "landuse.to_csv('high_risk_agricultural_landuse.csv')"
   ]
  },
  {
   "cell_type": "code",
   "execution_count": null,
   "metadata": {
    "id": "K3yMetIQjMJT",
    "outputId": "713bf2db-3d64-4001-9539-627c7e8ecc12"
   },
   "outputs": [
    {
     "data": {
      "text/html": [
       "<div>\n",
       "<style scoped>\n",
       "    .dataframe tbody tr th:only-of-type {\n",
       "        vertical-align: middle;\n",
       "    }\n",
       "\n",
       "    .dataframe tbody tr th {\n",
       "        vertical-align: top;\n",
       "    }\n",
       "\n",
       "    .dataframe thead th {\n",
       "        text-align: right;\n",
       "    }\n",
       "</style>\n",
       "<table border=\"1\" class=\"dataframe\">\n",
       "  <thead>\n",
       "    <tr style=\"text-align: right;\">\n",
       "      <th></th>\n",
       "      <th>unique_id</th>\n",
       "      <th>osmid</th>\n",
       "      <th>element_type</th>\n",
       "      <th>nodes</th>\n",
       "      <th>landuse</th>\n",
       "      <th>geometry</th>\n",
       "      <th>ways</th>\n",
       "      <th>type</th>\n",
       "      <th>crop</th>\n",
       "      <th>name</th>\n",
       "      <th>...</th>\n",
       "      <th>acreage</th>\n",
       "      <th>measurement</th>\n",
       "      <th>email</th>\n",
       "      <th>imagery_used</th>\n",
       "      <th>ele</th>\n",
       "      <th>is_in</th>\n",
       "      <th>is_in:country</th>\n",
       "      <th>wheelchair</th>\n",
       "      <th>wetland</th>\n",
       "      <th>notes</th>\n",
       "    </tr>\n",
       "  </thead>\n",
       "  <tbody>\n",
       "    <tr>\n",
       "      <th>0</th>\n",
       "      <td>way/474833871</td>\n",
       "      <td>474833871</td>\n",
       "      <td>way</td>\n",
       "      <td>[4687011425, 4687011426, 4687011427, 468701142...</td>\n",
       "      <td>farmland</td>\n",
       "      <td>POLYGON ((33.99580 -2.68132, 33.99521 -2.68136...</td>\n",
       "      <td>NaN</td>\n",
       "      <td>NaN</td>\n",
       "      <td>NaN</td>\n",
       "      <td>NaN</td>\n",
       "      <td>...</td>\n",
       "      <td>NaN</td>\n",
       "      <td>NaN</td>\n",
       "      <td>NaN</td>\n",
       "      <td>NaN</td>\n",
       "      <td>NaN</td>\n",
       "      <td>NaN</td>\n",
       "      <td>NaN</td>\n",
       "      <td>NaN</td>\n",
       "      <td>NaN</td>\n",
       "      <td>NaN</td>\n",
       "    </tr>\n",
       "    <tr>\n",
       "      <th>1</th>\n",
       "      <td>way/483173675</td>\n",
       "      <td>483173675</td>\n",
       "      <td>way</td>\n",
       "      <td>[4759266718, 4759266719, 4759266720, 475926672...</td>\n",
       "      <td>farmland</td>\n",
       "      <td>POLYGON ((34.08100 -2.90305, 34.08057 -2.90391...</td>\n",
       "      <td>NaN</td>\n",
       "      <td>NaN</td>\n",
       "      <td>NaN</td>\n",
       "      <td>NaN</td>\n",
       "      <td>...</td>\n",
       "      <td>NaN</td>\n",
       "      <td>NaN</td>\n",
       "      <td>NaN</td>\n",
       "      <td>NaN</td>\n",
       "      <td>NaN</td>\n",
       "      <td>NaN</td>\n",
       "      <td>NaN</td>\n",
       "      <td>NaN</td>\n",
       "      <td>NaN</td>\n",
       "      <td>NaN</td>\n",
       "    </tr>\n",
       "    <tr>\n",
       "      <th>2</th>\n",
       "      <td>way/483173676</td>\n",
       "      <td>483173676</td>\n",
       "      <td>way</td>\n",
       "      <td>[4759266722, 4759266723, 4759266724, 475926672...</td>\n",
       "      <td>farmland</td>\n",
       "      <td>POLYGON ((34.08018 -2.90464, 34.08047 -2.90400...</td>\n",
       "      <td>NaN</td>\n",
       "      <td>NaN</td>\n",
       "      <td>NaN</td>\n",
       "      <td>NaN</td>\n",
       "      <td>...</td>\n",
       "      <td>NaN</td>\n",
       "      <td>NaN</td>\n",
       "      <td>NaN</td>\n",
       "      <td>NaN</td>\n",
       "      <td>NaN</td>\n",
       "      <td>NaN</td>\n",
       "      <td>NaN</td>\n",
       "      <td>NaN</td>\n",
       "      <td>NaN</td>\n",
       "      <td>NaN</td>\n",
       "    </tr>\n",
       "    <tr>\n",
       "      <th>3</th>\n",
       "      <td>way/487806944</td>\n",
       "      <td>487806944</td>\n",
       "      <td>way</td>\n",
       "      <td>[4802195151, 4802195152, 4802195153, 480219515...</td>\n",
       "      <td>farmland</td>\n",
       "      <td>POLYGON ((34.09547 -2.87501, 34.09522 -2.87537...</td>\n",
       "      <td>NaN</td>\n",
       "      <td>NaN</td>\n",
       "      <td>NaN</td>\n",
       "      <td>NaN</td>\n",
       "      <td>...</td>\n",
       "      <td>NaN</td>\n",
       "      <td>NaN</td>\n",
       "      <td>NaN</td>\n",
       "      <td>NaN</td>\n",
       "      <td>NaN</td>\n",
       "      <td>NaN</td>\n",
       "      <td>NaN</td>\n",
       "      <td>NaN</td>\n",
       "      <td>NaN</td>\n",
       "      <td>NaN</td>\n",
       "    </tr>\n",
       "    <tr>\n",
       "      <th>4</th>\n",
       "      <td>way/487806945</td>\n",
       "      <td>487806945</td>\n",
       "      <td>way</td>\n",
       "      <td>[4802195157, 4802195158, 4802195159, 480219516...</td>\n",
       "      <td>farmland</td>\n",
       "      <td>POLYGON ((34.09559 -2.87511, 34.09572 -2.87505...</td>\n",
       "      <td>NaN</td>\n",
       "      <td>NaN</td>\n",
       "      <td>NaN</td>\n",
       "      <td>NaN</td>\n",
       "      <td>...</td>\n",
       "      <td>NaN</td>\n",
       "      <td>NaN</td>\n",
       "      <td>NaN</td>\n",
       "      <td>NaN</td>\n",
       "      <td>NaN</td>\n",
       "      <td>NaN</td>\n",
       "      <td>NaN</td>\n",
       "      <td>NaN</td>\n",
       "      <td>NaN</td>\n",
       "      <td>NaN</td>\n",
       "    </tr>\n",
       "  </tbody>\n",
       "</table>\n",
       "<p>5 rows × 70 columns</p>\n",
       "</div>"
      ],
      "text/plain": [
       "       unique_id      osmid element_type  \\\n",
       "0  way/474833871  474833871          way   \n",
       "1  way/483173675  483173675          way   \n",
       "2  way/483173676  483173676          way   \n",
       "3  way/487806944  487806944          way   \n",
       "4  way/487806945  487806945          way   \n",
       "\n",
       "                                               nodes   landuse  \\\n",
       "0  [4687011425, 4687011426, 4687011427, 468701142...  farmland   \n",
       "1  [4759266718, 4759266719, 4759266720, 475926672...  farmland   \n",
       "2  [4759266722, 4759266723, 4759266724, 475926672...  farmland   \n",
       "3  [4802195151, 4802195152, 4802195153, 480219515...  farmland   \n",
       "4  [4802195157, 4802195158, 4802195159, 480219516...  farmland   \n",
       "\n",
       "                                            geometry ways type crop name  ...  \\\n",
       "0  POLYGON ((33.99580 -2.68132, 33.99521 -2.68136...  NaN  NaN  NaN  NaN  ...   \n",
       "1  POLYGON ((34.08100 -2.90305, 34.08057 -2.90391...  NaN  NaN  NaN  NaN  ...   \n",
       "2  POLYGON ((34.08018 -2.90464, 34.08047 -2.90400...  NaN  NaN  NaN  NaN  ...   \n",
       "3  POLYGON ((34.09547 -2.87501, 34.09522 -2.87537...  NaN  NaN  NaN  NaN  ...   \n",
       "4  POLYGON ((34.09559 -2.87511, 34.09572 -2.87505...  NaN  NaN  NaN  NaN  ...   \n",
       "\n",
       "  acreage measurement email imagery_used  ele is_in is_in:country wheelchair  \\\n",
       "0     NaN         NaN   NaN          NaN  NaN   NaN           NaN        NaN   \n",
       "1     NaN         NaN   NaN          NaN  NaN   NaN           NaN        NaN   \n",
       "2     NaN         NaN   NaN          NaN  NaN   NaN           NaN        NaN   \n",
       "3     NaN         NaN   NaN          NaN  NaN   NaN           NaN        NaN   \n",
       "4     NaN         NaN   NaN          NaN  NaN   NaN           NaN        NaN   \n",
       "\n",
       "  wetland notes  \n",
       "0     NaN   NaN  \n",
       "1     NaN   NaN  \n",
       "2     NaN   NaN  \n",
       "3     NaN   NaN  \n",
       "4     NaN   NaN  \n",
       "\n",
       "[5 rows x 70 columns]"
      ]
     },
     "execution_count": 73,
     "metadata": {
      "tags": []
     },
     "output_type": "execute_result"
    }
   ],
   "source": [
    "landuse.head()"
   ]
  },
  {
   "cell_type": "code",
   "execution_count": null,
   "metadata": {
    "id": "vUS5IjGOjMJY",
    "outputId": "f0d9fca3-38a7-4d16-b431-c9a36c918477"
   },
   "outputs": [
    {
     "name": "stderr",
     "output_type": "stream",
     "text": [
      "C:\\Users\\rasha\\.conda\\envs\\omdena_malaria\\lib\\site-packages\\ipykernel\\ipkernel.py:287: DeprecationWarning: `should_run_async` will not call `transform_cell` automatically in the future. Please pass the result to `transformed_cell` argument and any exception that happen during thetransform in `preprocessing_exc_tuple` in IPython 7.17 and above.\n",
      "  and should_run_async(code)\n"
     ]
    },
    {
     "data": {
      "text/plain": [
       "31839"
      ]
     },
     "execution_count": 74,
     "metadata": {
      "tags": []
     },
     "output_type": "execute_result"
    }
   ],
   "source": [
    "len(landuse)"
   ]
  },
  {
   "cell_type": "code",
   "execution_count": null,
   "metadata": {
    "id": "BVKgmeRcjMJc"
   },
   "outputs": [],
   "source": []
  }
 ],
 "metadata": {
  "colab": {
   "name": "Getting_agricultural_land_cover.ipynb",
   "provenance": []
  },
  "kernelspec": {
   "display_name": "omdena_malaria",
   "language": "python",
   "name": "omdena_malaria"
  },
  "language_info": {
   "codemirror_mode": {
    "name": "ipython",
    "version": 3
   },
   "file_extension": ".py",
   "mimetype": "text/x-python",
   "name": "python",
   "nbconvert_exporter": "python",
   "pygments_lexer": "ipython3",
   "version": "3.8.5"
  }
 },
 "nbformat": 4,
 "nbformat_minor": 1
}
