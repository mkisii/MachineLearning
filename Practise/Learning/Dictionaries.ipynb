{
 "cells": [
  {
   "cell_type": "markdown",
   "metadata": {},
   "source": [
    "Working with Dictionaries"
   ]
  },
  {
   "cell_type": "code",
   "execution_count": 1,
   "metadata": {},
   "outputs": [],
   "source": [
    "d = {\"Actor\": \"Jack\", \"Animal\": \"Lion\", \"List\":[26,66,87,98]}"
   ]
  },
  {
   "cell_type": "code",
   "execution_count": 3,
   "metadata": {},
   "outputs": [
    {
     "name": "stdout",
     "output_type": "stream",
     "text": [
      "Lion\n"
     ]
    }
   ],
   "source": [
    "Animal = d['Animal']\n",
    "print(Animal)"
   ]
  },
  {
   "cell_type": "code",
   "execution_count": 8,
   "metadata": {},
   "outputs": [
    {
     "name": "stdout",
     "output_type": "stream",
     "text": [
      "[26, 66, 87, 98]\n"
     ]
    }
   ],
   "source": [
    "age = d.get('List')\n",
    "print(age)"
   ]
  },
  {
   "cell_type": "code",
   "execution_count": 10,
   "metadata": {},
   "outputs": [
    {
     "name": "stdout",
     "output_type": "stream",
     "text": [
      "{'Actor': 'Jack', 'Animal': 'Lion', 'List': [1, 2, 56, 78, 98, 54, 44, 66], 'Profession': 'Data scientist'}\n"
     ]
    }
   ],
   "source": [
    "#Changing values  of en element in a dictionaries\n",
    "d['List'] = [1,2,56,78,98,54,44,66]\n",
    "print(d)"
   ]
  },
  {
   "cell_type": "code",
   "execution_count": 11,
   "metadata": {},
   "outputs": [
    {
     "name": "stdout",
     "output_type": "stream",
     "text": [
      "{'Actor': 'Jack', 'Animal': 'Lion', 'List': [1, 2, 56, 78, 98, 54, 44, 66], 'Profession': 'Data scientist'}\n"
     ]
    }
   ],
   "source": [
    "#Adding values to a dictionaries\n",
    "d['Profession'] = 'Data scientist'\n",
    "print(d)"
   ]
  },
  {
   "cell_type": "code",
   "execution_count": 12,
   "metadata": {},
   "outputs": [
    {
     "name": "stdout",
     "output_type": "stream",
     "text": [
      "['Actor', 'Animal', 'List', 'Profession']\n",
      "['Jack', 'Lion', [1, 2, 56, 78, 98, 54, 44, 66], 'Data scientist']\n"
     ]
    }
   ],
   "source": [
    "#to get all the keys\n",
    "print(list(d.keys()))\n",
    "#to get all the values \n",
    "print(list(d.values()))"
   ]
  },
  {
   "cell_type": "code",
   "execution_count": 13,
   "metadata": {},
   "outputs": [],
   "source": [
    " #creating new dictionary\n",
    "new = dict(Country = 'Kenya', Location=['Africa','East Africa'])   "
   ]
  },
  {
   "cell_type": "code",
   "execution_count": 14,
   "metadata": {},
   "outputs": [
    {
     "name": "stdout",
     "output_type": "stream",
     "text": [
      "{'Country': 'Kenya', 'Location': ['Africa', 'East Africa']}\n"
     ]
    }
   ],
   "source": [
    "print(new)"
   ]
  },
  {
   "cell_type": "code",
   "execution_count": 15,
   "metadata": {},
   "outputs": [],
   "source": [
    "d.update(new)"
   ]
  },
  {
   "cell_type": "code",
   "execution_count": 16,
   "metadata": {},
   "outputs": [
    {
     "name": "stdout",
     "output_type": "stream",
     "text": [
      "{'Actor': 'Jack', 'Animal': 'Lion', 'List': [1, 2, 56, 78, 98, 54, 44, 66], 'Profession': 'Data scientist', 'Country': 'Kenya', 'Location': ['Africa', 'East Africa']}\n"
     ]
    }
   ],
   "source": [
    "print(d)"
   ]
  },
  {
   "cell_type": "code",
   "execution_count": null,
   "metadata": {},
   "outputs": [],
   "source": []
  }
 ],
 "metadata": {
  "kernelspec": {
   "display_name": "Python 3",
   "language": "python",
   "name": "python3"
  },
  "language_info": {
   "codemirror_mode": {
    "name": "ipython",
    "version": 3
   },
   "file_extension": ".py",
   "mimetype": "text/x-python",
   "name": "python",
   "nbconvert_exporter": "python",
   "pygments_lexer": "ipython3",
   "version": "3.7.6"
  }
 },
 "nbformat": 4,
 "nbformat_minor": 4
}
