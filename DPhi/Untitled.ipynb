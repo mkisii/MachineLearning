{
 "cells": [
  {
   "cell_type": "code",
   "execution_count": 1,
   "id": "6ca2ecce",
   "metadata": {},
   "outputs": [],
   "source": [
    "import pandas as pd\n",
    "import matplotlib.pyplot as plt\n",
    "import seaborn as sns"
   ]
  },
  {
   "cell_type": "code",
   "execution_count": 2,
   "id": "167120a2",
   "metadata": {},
   "outputs": [],
   "source": [
    "sma_data = pd.read_csv(\"https://raw.githubusercontent.com/dphi-official/Assignment_Solutions/master/Standard%20Metropolitan%20Areas%20Data%20-%20train_data%20-%20data.csv\")"
   ]
  },
  {
   "cell_type": "code",
   "execution_count": 3,
   "id": "a4f44426",
   "metadata": {},
   "outputs": [
    {
     "data": {
      "text/plain": [
       "(99, 10)"
      ]
     },
     "execution_count": 3,
     "metadata": {},
     "output_type": "execute_result"
    }
   ],
   "source": [
    "sma_data.shape"
   ]
  },
  {
   "cell_type": "code",
   "execution_count": 4,
   "id": "73424dbf",
   "metadata": {},
   "outputs": [
    {
     "data": {
      "text/plain": [
       "land_area           int64\n",
       "percent_city      float64\n",
       "percent_senior    float64\n",
       "physicians          int64\n",
       "hospital_beds       int64\n",
       "graduates         float64\n",
       "work_force        float64\n",
       "income              int64\n",
       "region              int64\n",
       "crime_rate        float64\n",
       "dtype: object"
      ]
     },
     "execution_count": 4,
     "metadata": {},
     "output_type": "execute_result"
    }
   ],
   "source": [
    "sma_data.dtypes"
   ]
  },
  {
   "cell_type": "code",
   "execution_count": 5,
   "id": "1ff72ccc",
   "metadata": {},
   "outputs": [
    {
     "data": {
      "text/plain": [
       "54.16"
      ]
     },
     "execution_count": 5,
     "metadata": {},
     "output_type": "execute_result"
    }
   ],
   "source": [
    "sma_data['crime_rate'].iloc[10]"
   ]
  },
  {
   "cell_type": "code",
   "execution_count": 6,
   "id": "04a0593f",
   "metadata": {},
   "outputs": [
    {
     "data": {
      "text/plain": [
       "140"
      ]
     },
     "execution_count": 6,
     "metadata": {},
     "output_type": "execute_result"
    }
   ],
   "source": [
    "sma_data['physicians'].iloc[-1]"
   ]
  },
  {
   "cell_type": "code",
   "execution_count": 7,
   "id": "764b8339",
   "metadata": {},
   "outputs": [],
   "source": [
    "#  (numerical positions) - 1, 3, 5, 7, 9 and 13 and columns - 'land_area', 'work_force', 'income', 'region' and 'crime_rate'.\n",
    "# sample_data1 =sma_data.land_area.iloc[-1,3,5,7,9,13]\n",
    "#                        'work_force':[-1,3,5,7,9,13],\n",
    "#                        'income':[-1,3,5,7,9,13],\n",
    "#                        'region':[-1,3,5,7,9,13],\n",
    "#                        'crime_rate':[-1,3,5,7,9,13]]\n",
    "# df = pd.DataFrame(sample_data1)"
   ]
  },
  {
   "cell_type": "code",
   "execution_count": 8,
   "id": "d77c68e4",
   "metadata": {},
   "outputs": [],
   "source": [
    "# sample_data1"
   ]
  },
  {
   "cell_type": "code",
   "execution_count": 9,
   "id": "6aafaf37",
   "metadata": {},
   "outputs": [],
   "source": [
    "\n",
    "sample_data2  = sma_data.region==2"
   ]
  },
  {
   "cell_type": "code",
   "execution_count": 10,
   "id": "2c98e5f4",
   "metadata": {},
   "outputs": [
    {
     "data": {
      "text/plain": [
       "25"
      ]
     },
     "execution_count": 10,
     "metadata": {},
     "output_type": "execute_result"
    }
   ],
   "source": [
    "sample_data2.sum()"
   ]
  },
  {
   "cell_type": "code",
   "execution_count": 11,
   "id": "dab6fb82",
   "metadata": {},
   "outputs": [
    {
     "data": {
      "text/html": [
       "<div>\n",
       "<style scoped>\n",
       "    .dataframe tbody tr th:only-of-type {\n",
       "        vertical-align: middle;\n",
       "    }\n",
       "\n",
       "    .dataframe tbody tr th {\n",
       "        vertical-align: top;\n",
       "    }\n",
       "\n",
       "    .dataframe thead th {\n",
       "        text-align: right;\n",
       "    }\n",
       "</style>\n",
       "<table border=\"1\" class=\"dataframe\">\n",
       "  <thead>\n",
       "    <tr style=\"text-align: right;\">\n",
       "      <th></th>\n",
       "      <th>land_area</th>\n",
       "      <th>percent_city</th>\n",
       "      <th>percent_senior</th>\n",
       "      <th>physicians</th>\n",
       "      <th>hospital_beds</th>\n",
       "      <th>graduates</th>\n",
       "      <th>work_force</th>\n",
       "      <th>income</th>\n",
       "      <th>region</th>\n",
       "      <th>crime_rate</th>\n",
       "    </tr>\n",
       "  </thead>\n",
       "  <tbody>\n",
       "    <tr>\n",
       "      <th>count</th>\n",
       "      <td>99.000000</td>\n",
       "      <td>99.000000</td>\n",
       "      <td>99.000000</td>\n",
       "      <td>99.000000</td>\n",
       "      <td>99.000000</td>\n",
       "      <td>99.000000</td>\n",
       "      <td>99.000000</td>\n",
       "      <td>99.000000</td>\n",
       "      <td>99.000000</td>\n",
       "      <td>99.000000</td>\n",
       "    </tr>\n",
       "    <tr>\n",
       "      <th>mean</th>\n",
       "      <td>2615.727273</td>\n",
       "      <td>42.518182</td>\n",
       "      <td>9.781818</td>\n",
       "      <td>1828.333333</td>\n",
       "      <td>6345.868687</td>\n",
       "      <td>54.463636</td>\n",
       "      <td>449.366667</td>\n",
       "      <td>6762.505051</td>\n",
       "      <td>2.494949</td>\n",
       "      <td>55.643030</td>\n",
       "    </tr>\n",
       "    <tr>\n",
       "      <th>std</th>\n",
       "      <td>3045.826210</td>\n",
       "      <td>17.348277</td>\n",
       "      <td>2.524547</td>\n",
       "      <td>3192.199763</td>\n",
       "      <td>9136.202716</td>\n",
       "      <td>7.773286</td>\n",
       "      <td>610.990885</td>\n",
       "      <td>10393.349660</td>\n",
       "      <td>1.013921</td>\n",
       "      <td>13.470943</td>\n",
       "    </tr>\n",
       "    <tr>\n",
       "      <th>min</th>\n",
       "      <td>47.000000</td>\n",
       "      <td>13.400000</td>\n",
       "      <td>3.900000</td>\n",
       "      <td>140.000000</td>\n",
       "      <td>481.000000</td>\n",
       "      <td>30.300000</td>\n",
       "      <td>66.900000</td>\n",
       "      <td>769.000000</td>\n",
       "      <td>1.000000</td>\n",
       "      <td>23.320000</td>\n",
       "    </tr>\n",
       "    <tr>\n",
       "      <th>25%</th>\n",
       "      <td>1408.000000</td>\n",
       "      <td>30.100000</td>\n",
       "      <td>8.350000</td>\n",
       "      <td>459.000000</td>\n",
       "      <td>2390.000000</td>\n",
       "      <td>50.250000</td>\n",
       "      <td>150.300000</td>\n",
       "      <td>2003.000000</td>\n",
       "      <td>2.000000</td>\n",
       "      <td>46.115000</td>\n",
       "    </tr>\n",
       "    <tr>\n",
       "      <th>50%</th>\n",
       "      <td>1951.000000</td>\n",
       "      <td>39.500000</td>\n",
       "      <td>9.700000</td>\n",
       "      <td>774.000000</td>\n",
       "      <td>3472.000000</td>\n",
       "      <td>54.000000</td>\n",
       "      <td>257.200000</td>\n",
       "      <td>3510.000000</td>\n",
       "      <td>3.000000</td>\n",
       "      <td>56.060000</td>\n",
       "    </tr>\n",
       "    <tr>\n",
       "      <th>75%</th>\n",
       "      <td>2890.500000</td>\n",
       "      <td>52.600000</td>\n",
       "      <td>10.750000</td>\n",
       "      <td>1911.500000</td>\n",
       "      <td>6386.500000</td>\n",
       "      <td>58.300000</td>\n",
       "      <td>436.500000</td>\n",
       "      <td>6283.500000</td>\n",
       "      <td>3.000000</td>\n",
       "      <td>63.860000</td>\n",
       "    </tr>\n",
       "    <tr>\n",
       "      <th>max</th>\n",
       "      <td>27293.000000</td>\n",
       "      <td>100.000000</td>\n",
       "      <td>21.800000</td>\n",
       "      <td>25627.000000</td>\n",
       "      <td>69678.000000</td>\n",
       "      <td>72.800000</td>\n",
       "      <td>4083.900000</td>\n",
       "      <td>72100.000000</td>\n",
       "      <td>4.000000</td>\n",
       "      <td>85.620000</td>\n",
       "    </tr>\n",
       "  </tbody>\n",
       "</table>\n",
       "</div>"
      ],
      "text/plain": [
       "          land_area  percent_city  percent_senior    physicians  \\\n",
       "count     99.000000     99.000000       99.000000     99.000000   \n",
       "mean    2615.727273     42.518182        9.781818   1828.333333   \n",
       "std     3045.826210     17.348277        2.524547   3192.199763   \n",
       "min       47.000000     13.400000        3.900000    140.000000   \n",
       "25%     1408.000000     30.100000        8.350000    459.000000   \n",
       "50%     1951.000000     39.500000        9.700000    774.000000   \n",
       "75%     2890.500000     52.600000       10.750000   1911.500000   \n",
       "max    27293.000000    100.000000       21.800000  25627.000000   \n",
       "\n",
       "       hospital_beds  graduates   work_force        income     region  \\\n",
       "count      99.000000  99.000000    99.000000     99.000000  99.000000   \n",
       "mean     6345.868687  54.463636   449.366667   6762.505051   2.494949   \n",
       "std      9136.202716   7.773286   610.990885  10393.349660   1.013921   \n",
       "min       481.000000  30.300000    66.900000    769.000000   1.000000   \n",
       "25%      2390.000000  50.250000   150.300000   2003.000000   2.000000   \n",
       "50%      3472.000000  54.000000   257.200000   3510.000000   3.000000   \n",
       "75%      6386.500000  58.300000   436.500000   6283.500000   3.000000   \n",
       "max     69678.000000  72.800000  4083.900000  72100.000000   4.000000   \n",
       "\n",
       "       crime_rate  \n",
       "count   99.000000  \n",
       "mean    55.643030  \n",
       "std     13.470943  \n",
       "min     23.320000  \n",
       "25%     46.115000  \n",
       "50%     56.060000  \n",
       "75%     63.860000  \n",
       "max     85.620000  "
      ]
     },
     "execution_count": 11,
     "metadata": {},
     "output_type": "execute_result"
    }
   ],
   "source": [
    "sma_data.describe()"
   ]
  },
  {
   "cell_type": "code",
   "execution_count": 12,
   "id": "af1522e3",
   "metadata": {},
   "outputs": [
    {
     "data": {
      "text/plain": [
       "land_area         2615.727273\n",
       "percent_city        42.518182\n",
       "percent_senior       9.781818\n",
       "physicians        1828.333333\n",
       "hospital_beds     6345.868687\n",
       "graduates           54.463636\n",
       "work_force         449.366667\n",
       "income            6762.505051\n",
       "region               2.494949\n",
       "crime_rate          55.643030\n",
       "dtype: float64"
      ]
     },
     "execution_count": 12,
     "metadata": {},
     "output_type": "execute_result"
    }
   ],
   "source": [
    "sma_data.mean()"
   ]
  },
  {
   "cell_type": "code",
   "execution_count": 13,
   "id": "f06b8852",
   "metadata": {},
   "outputs": [
    {
     "data": {
      "text/plain": [
       "array([1, 2, 4, 3])"
      ]
     },
     "execution_count": 13,
     "metadata": {},
     "output_type": "execute_result"
    }
   ],
   "source": [
    "sma_data.region.unique()"
   ]
  },
  {
   "cell_type": "code",
   "execution_count": 14,
   "id": "ff400d78",
   "metadata": {},
   "outputs": [
    {
     "data": {
      "text/plain": [
       "769"
      ]
     },
     "execution_count": 14,
     "metadata": {},
     "output_type": "execute_result"
    }
   ],
   "source": [
    "sma_data.income.min()"
   ]
  },
  {
   "cell_type": "code",
   "execution_count": 15,
   "id": "ca1fdb20",
   "metadata": {},
   "outputs": [
    {
     "data": {
      "text/plain": [
       "72100"
      ]
     },
     "execution_count": 15,
     "metadata": {},
     "output_type": "execute_result"
    }
   ],
   "source": [
    "sma_data.income.max()"
   ]
  },
  {
   "cell_type": "markdown",
   "id": "79b1512c",
   "metadata": {},
   "source": [
    "sma_data.notnull().sum()"
   ]
  },
  {
   "cell_type": "code",
   "execution_count": 16,
   "id": "99f9fa25",
   "metadata": {},
   "outputs": [],
   "source": [
    "# Select the observations from the dataframe sma_data where the region is equal to 3. Name this selected data as sample_data1. select the correct options about sample_data1.\n",
    "\n",
    "sample_data1 = sma_data [sma_data['region'] ==3]\n",
    "# above_35 = titanic[titanic[\"Age\"] > 35]"
   ]
  },
  {
   "cell_type": "code",
   "execution_count": 17,
   "id": "560bc153",
   "metadata": {},
   "outputs": [
    {
     "data": {
      "text/html": [
       "<div>\n",
       "<style scoped>\n",
       "    .dataframe tbody tr th:only-of-type {\n",
       "        vertical-align: middle;\n",
       "    }\n",
       "\n",
       "    .dataframe tbody tr th {\n",
       "        vertical-align: top;\n",
       "    }\n",
       "\n",
       "    .dataframe thead th {\n",
       "        text-align: right;\n",
       "    }\n",
       "</style>\n",
       "<table border=\"1\" class=\"dataframe\">\n",
       "  <thead>\n",
       "    <tr style=\"text-align: right;\">\n",
       "      <th></th>\n",
       "      <th>land_area</th>\n",
       "      <th>percent_city</th>\n",
       "      <th>percent_senior</th>\n",
       "      <th>physicians</th>\n",
       "      <th>hospital_beds</th>\n",
       "      <th>graduates</th>\n",
       "      <th>work_force</th>\n",
       "      <th>income</th>\n",
       "      <th>region</th>\n",
       "      <th>crime_rate</th>\n",
       "    </tr>\n",
       "  </thead>\n",
       "  <tbody>\n",
       "    <tr>\n",
       "      <th>count</th>\n",
       "      <td>36.000000</td>\n",
       "      <td>36.000000</td>\n",
       "      <td>36.000000</td>\n",
       "      <td>36.000000</td>\n",
       "      <td>36.000000</td>\n",
       "      <td>36.000000</td>\n",
       "      <td>36.000000</td>\n",
       "      <td>36.000000</td>\n",
       "      <td>36.0</td>\n",
       "      <td>36.000000</td>\n",
       "    </tr>\n",
       "    <tr>\n",
       "      <th>mean</th>\n",
       "      <td>2485.972222</td>\n",
       "      <td>46.172222</td>\n",
       "      <td>9.283333</td>\n",
       "      <td>1313.722222</td>\n",
       "      <td>4962.777778</td>\n",
       "      <td>51.002778</td>\n",
       "      <td>343.797222</td>\n",
       "      <td>4806.861111</td>\n",
       "      <td>3.0</td>\n",
       "      <td>58.265556</td>\n",
       "    </tr>\n",
       "    <tr>\n",
       "      <th>std</th>\n",
       "      <td>1653.813800</td>\n",
       "      <td>19.101019</td>\n",
       "      <td>3.458199</td>\n",
       "      <td>1459.654903</td>\n",
       "      <td>3879.692625</td>\n",
       "      <td>7.328164</td>\n",
       "      <td>354.312228</td>\n",
       "      <td>5452.647656</td>\n",
       "      <td>0.0</td>\n",
       "      <td>10.155822</td>\n",
       "    </tr>\n",
       "    <tr>\n",
       "      <th>min</th>\n",
       "      <td>654.000000</td>\n",
       "      <td>14.500000</td>\n",
       "      <td>3.900000</td>\n",
       "      <td>140.000000</td>\n",
       "      <td>481.000000</td>\n",
       "      <td>30.300000</td>\n",
       "      <td>66.900000</td>\n",
       "      <td>769.000000</td>\n",
       "      <td>3.0</td>\n",
       "      <td>36.360000</td>\n",
       "    </tr>\n",
       "    <tr>\n",
       "      <th>25%</th>\n",
       "      <td>1517.000000</td>\n",
       "      <td>31.350000</td>\n",
       "      <td>7.600000</td>\n",
       "      <td>509.750000</td>\n",
       "      <td>2483.500000</td>\n",
       "      <td>46.950000</td>\n",
       "      <td>146.200000</td>\n",
       "      <td>1940.750000</td>\n",
       "      <td>3.0</td>\n",
       "      <td>52.447500</td>\n",
       "    </tr>\n",
       "    <tr>\n",
       "      <th>50%</th>\n",
       "      <td>2018.000000</td>\n",
       "      <td>47.000000</td>\n",
       "      <td>8.850000</td>\n",
       "      <td>767.000000</td>\n",
       "      <td>3876.000000</td>\n",
       "      <td>50.950000</td>\n",
       "      <td>230.550000</td>\n",
       "      <td>2976.500000</td>\n",
       "      <td>3.0</td>\n",
       "      <td>58.725000</td>\n",
       "    </tr>\n",
       "    <tr>\n",
       "      <th>75%</th>\n",
       "      <td>2911.000000</td>\n",
       "      <td>59.725000</td>\n",
       "      <td>9.975000</td>\n",
       "      <td>1583.500000</td>\n",
       "      <td>5811.750000</td>\n",
       "      <td>55.175000</td>\n",
       "      <td>366.950000</td>\n",
       "      <td>4829.500000</td>\n",
       "      <td>3.0</td>\n",
       "      <td>64.922500</td>\n",
       "    </tr>\n",
       "    <tr>\n",
       "      <th>max</th>\n",
       "      <td>8360.000000</td>\n",
       "      <td>90.700000</td>\n",
       "      <td>21.800000</td>\n",
       "      <td>7340.000000</td>\n",
       "      <td>16941.000000</td>\n",
       "      <td>70.700000</td>\n",
       "      <td>1541.900000</td>\n",
       "      <td>25663.000000</td>\n",
       "      <td>3.0</td>\n",
       "      <td>76.350000</td>\n",
       "    </tr>\n",
       "  </tbody>\n",
       "</table>\n",
       "</div>"
      ],
      "text/plain": [
       "         land_area  percent_city  percent_senior   physicians  hospital_beds  \\\n",
       "count    36.000000     36.000000       36.000000    36.000000      36.000000   \n",
       "mean   2485.972222     46.172222        9.283333  1313.722222    4962.777778   \n",
       "std    1653.813800     19.101019        3.458199  1459.654903    3879.692625   \n",
       "min     654.000000     14.500000        3.900000   140.000000     481.000000   \n",
       "25%    1517.000000     31.350000        7.600000   509.750000    2483.500000   \n",
       "50%    2018.000000     47.000000        8.850000   767.000000    3876.000000   \n",
       "75%    2911.000000     59.725000        9.975000  1583.500000    5811.750000   \n",
       "max    8360.000000     90.700000       21.800000  7340.000000   16941.000000   \n",
       "\n",
       "       graduates   work_force        income  region  crime_rate  \n",
       "count  36.000000    36.000000     36.000000    36.0   36.000000  \n",
       "mean   51.002778   343.797222   4806.861111     3.0   58.265556  \n",
       "std     7.328164   354.312228   5452.647656     0.0   10.155822  \n",
       "min    30.300000    66.900000    769.000000     3.0   36.360000  \n",
       "25%    46.950000   146.200000   1940.750000     3.0   52.447500  \n",
       "50%    50.950000   230.550000   2976.500000     3.0   58.725000  \n",
       "75%    55.175000   366.950000   4829.500000     3.0   64.922500  \n",
       "max    70.700000  1541.900000  25663.000000     3.0   76.350000  "
      ]
     },
     "execution_count": 17,
     "metadata": {},
     "output_type": "execute_result"
    }
   ],
   "source": [
    "sample_data1.describe()"
   ]
  },
  {
   "cell_type": "code",
   "execution_count": 18,
   "id": "38247032",
   "metadata": {},
   "outputs": [
    {
     "data": {
      "text/html": [
       "<div>\n",
       "<style scoped>\n",
       "    .dataframe tbody tr th:only-of-type {\n",
       "        vertical-align: middle;\n",
       "    }\n",
       "\n",
       "    .dataframe tbody tr th {\n",
       "        vertical-align: top;\n",
       "    }\n",
       "\n",
       "    .dataframe thead th {\n",
       "        text-align: right;\n",
       "    }\n",
       "</style>\n",
       "<table border=\"1\" class=\"dataframe\">\n",
       "  <thead>\n",
       "    <tr style=\"text-align: right;\">\n",
       "      <th></th>\n",
       "      <th>land_area</th>\n",
       "      <th>percent_city</th>\n",
       "      <th>percent_senior</th>\n",
       "      <th>physicians</th>\n",
       "      <th>hospital_beds</th>\n",
       "      <th>graduates</th>\n",
       "      <th>work_force</th>\n",
       "      <th>income</th>\n",
       "      <th>region</th>\n",
       "      <th>crime_rate</th>\n",
       "    </tr>\n",
       "  </thead>\n",
       "  <tbody>\n",
       "    <tr>\n",
       "      <th>5</th>\n",
       "      <td>2815</td>\n",
       "      <td>23.1</td>\n",
       "      <td>6.7</td>\n",
       "      <td>7340</td>\n",
       "      <td>16941</td>\n",
       "      <td>68.3</td>\n",
       "      <td>1541.9</td>\n",
       "      <td>25663</td>\n",
       "      <td>3</td>\n",
       "      <td>58.48</td>\n",
       "    </tr>\n",
       "    <tr>\n",
       "      <th>6</th>\n",
       "      <td>8360</td>\n",
       "      <td>46.3</td>\n",
       "      <td>8.2</td>\n",
       "      <td>4047</td>\n",
       "      <td>14347</td>\n",
       "      <td>53.6</td>\n",
       "      <td>1321.2</td>\n",
       "      <td>18350</td>\n",
       "      <td>3</td>\n",
       "      <td>72.25</td>\n",
       "    </tr>\n",
       "    <tr>\n",
       "      <th>7</th>\n",
       "      <td>6794</td>\n",
       "      <td>60.1</td>\n",
       "      <td>6.3</td>\n",
       "      <td>4562</td>\n",
       "      <td>14333</td>\n",
       "      <td>51.7</td>\n",
       "      <td>1272.7</td>\n",
       "      <td>18221</td>\n",
       "      <td>3</td>\n",
       "      <td>64.88</td>\n",
       "    </tr>\n",
       "    <tr>\n",
       "      <th>12</th>\n",
       "      <td>4326</td>\n",
       "      <td>23.6</td>\n",
       "      <td>7.3</td>\n",
       "      <td>3064</td>\n",
       "      <td>9976</td>\n",
       "      <td>50.4</td>\n",
       "      <td>867.2</td>\n",
       "      <td>12107</td>\n",
       "      <td>3</td>\n",
       "      <td>58.12</td>\n",
       "    </tr>\n",
       "    <tr>\n",
       "      <th>16</th>\n",
       "      <td>2045</td>\n",
       "      <td>37.2</td>\n",
       "      <td>21.4</td>\n",
       "      <td>1949</td>\n",
       "      <td>8863</td>\n",
       "      <td>50.7</td>\n",
       "      <td>543.2</td>\n",
       "      <td>7989</td>\n",
       "      <td>3</td>\n",
       "      <td>64.68</td>\n",
       "    </tr>\n",
       "  </tbody>\n",
       "</table>\n",
       "</div>"
      ],
      "text/plain": [
       "    land_area  percent_city  percent_senior  physicians  hospital_beds  \\\n",
       "5        2815          23.1             6.7        7340          16941   \n",
       "6        8360          46.3             8.2        4047          14347   \n",
       "7        6794          60.1             6.3        4562          14333   \n",
       "12       4326          23.6             7.3        3064           9976   \n",
       "16       2045          37.2            21.4        1949           8863   \n",
       "\n",
       "    graduates  work_force  income  region  crime_rate  \n",
       "5        68.3      1541.9   25663       3       58.48  \n",
       "6        53.6      1321.2   18350       3       72.25  \n",
       "7        51.7      1272.7   18221       3       64.88  \n",
       "12       50.4       867.2   12107       3       58.12  \n",
       "16       50.7       543.2    7989       3       64.68  "
      ]
     },
     "execution_count": 18,
     "metadata": {},
     "output_type": "execute_result"
    }
   ],
   "source": [
    "sample_data1.head()"
   ]
  },
  {
   "cell_type": "code",
   "execution_count": 19,
   "id": "3b2f3f6f",
   "metadata": {},
   "outputs": [
    {
     "data": {
      "text/plain": [
       "36"
      ]
     },
     "execution_count": 19,
     "metadata": {},
     "output_type": "execute_result"
    }
   ],
   "source": [
    "sample_data1.graduates.notnull().count()"
   ]
  },
  {
   "cell_type": "code",
   "execution_count": 20,
   "id": "a6a4ae83",
   "metadata": {},
   "outputs": [
    {
     "data": {
      "text/plain": [
       "58.265555555555565"
      ]
     },
     "execution_count": 20,
     "metadata": {},
     "output_type": "execute_result"
    }
   ],
   "source": [
    "sample_data1.crime_rate.mean()"
   ]
  },
  {
   "cell_type": "code",
   "execution_count": 21,
   "id": "19fdc0a0",
   "metadata": {},
   "outputs": [
    {
     "data": {
      "text/plain": [
       "array([36, 25, 21, 17])"
      ]
     },
     "execution_count": 21,
     "metadata": {},
     "output_type": "execute_result"
    }
   ],
   "source": [
    "sma_data.region.value_counts().unique()"
   ]
  },
  {
   "cell_type": "code",
   "execution_count": 22,
   "id": "1ef7ed83",
   "metadata": {},
   "outputs": [],
   "source": [
    "sorted_data1 = sma_data.sort_values(by = 'crime_rate', ascending=False).head()"
   ]
  },
  {
   "cell_type": "code",
   "execution_count": 23,
   "id": "ca92fdda",
   "metadata": {},
   "outputs": [
    {
     "data": {
      "text/html": [
       "<div>\n",
       "<style scoped>\n",
       "    .dataframe tbody tr th:only-of-type {\n",
       "        vertical-align: middle;\n",
       "    }\n",
       "\n",
       "    .dataframe tbody tr th {\n",
       "        vertical-align: top;\n",
       "    }\n",
       "\n",
       "    .dataframe thead th {\n",
       "        text-align: right;\n",
       "    }\n",
       "</style>\n",
       "<table border=\"1\" class=\"dataframe\">\n",
       "  <thead>\n",
       "    <tr style=\"text-align: right;\">\n",
       "      <th></th>\n",
       "      <th>land_area</th>\n",
       "      <th>percent_city</th>\n",
       "      <th>percent_senior</th>\n",
       "      <th>physicians</th>\n",
       "      <th>hospital_beds</th>\n",
       "      <th>graduates</th>\n",
       "      <th>work_force</th>\n",
       "      <th>income</th>\n",
       "      <th>region</th>\n",
       "      <th>crime_rate</th>\n",
       "    </tr>\n",
       "  </thead>\n",
       "  <tbody>\n",
       "    <tr>\n",
       "      <th>20</th>\n",
       "      <td>9155</td>\n",
       "      <td>53.8</td>\n",
       "      <td>11.1</td>\n",
       "      <td>2280</td>\n",
       "      <td>6450</td>\n",
       "      <td>60.1</td>\n",
       "      <td>575.2</td>\n",
       "      <td>7766</td>\n",
       "      <td>4</td>\n",
       "      <td>85.62</td>\n",
       "    </tr>\n",
       "    <tr>\n",
       "      <th>74</th>\n",
       "      <td>1412</td>\n",
       "      <td>39.2</td>\n",
       "      <td>11.3</td>\n",
       "      <td>436</td>\n",
       "      <td>1837</td>\n",
       "      <td>49.4</td>\n",
       "      <td>154.2</td>\n",
       "      <td>2098</td>\n",
       "      <td>4</td>\n",
       "      <td>82.68</td>\n",
       "    </tr>\n",
       "    <tr>\n",
       "      <th>53</th>\n",
       "      <td>5966</td>\n",
       "      <td>39.5</td>\n",
       "      <td>9.6</td>\n",
       "      <td>737</td>\n",
       "      <td>1907</td>\n",
       "      <td>52.7</td>\n",
       "      <td>246.6</td>\n",
       "      <td>3007</td>\n",
       "      <td>4</td>\n",
       "      <td>80.94</td>\n",
       "    </tr>\n",
       "    <tr>\n",
       "      <th>4</th>\n",
       "      <td>2480</td>\n",
       "      <td>31.5</td>\n",
       "      <td>10.5</td>\n",
       "      <td>8502</td>\n",
       "      <td>16751</td>\n",
       "      <td>66.1</td>\n",
       "      <td>1514.5</td>\n",
       "      <td>26573</td>\n",
       "      <td>4</td>\n",
       "      <td>80.19</td>\n",
       "    </tr>\n",
       "    <tr>\n",
       "      <th>67</th>\n",
       "      <td>8152</td>\n",
       "      <td>22.3</td>\n",
       "      <td>9.1</td>\n",
       "      <td>405</td>\n",
       "      <td>1254</td>\n",
       "      <td>51.7</td>\n",
       "      <td>165.6</td>\n",
       "      <td>2257</td>\n",
       "      <td>4</td>\n",
       "      <td>78.10</td>\n",
       "    </tr>\n",
       "  </tbody>\n",
       "</table>\n",
       "</div>"
      ],
      "text/plain": [
       "    land_area  percent_city  percent_senior  physicians  hospital_beds  \\\n",
       "20       9155          53.8            11.1        2280           6450   \n",
       "74       1412          39.2            11.3         436           1837   \n",
       "53       5966          39.5             9.6         737           1907   \n",
       "4        2480          31.5            10.5        8502          16751   \n",
       "67       8152          22.3             9.1         405           1254   \n",
       "\n",
       "    graduates  work_force  income  region  crime_rate  \n",
       "20       60.1       575.2    7766       4       85.62  \n",
       "74       49.4       154.2    2098       4       82.68  \n",
       "53       52.7       246.6    3007       4       80.94  \n",
       "4        66.1      1514.5   26573       4       80.19  \n",
       "67       51.7       165.6    2257       4       78.10  "
      ]
     },
     "execution_count": 23,
     "metadata": {},
     "output_type": "execute_result"
    }
   ],
   "source": [
    "sorted_data1"
   ]
  },
  {
   "cell_type": "code",
   "execution_count": 24,
   "id": "a571898a",
   "metadata": {},
   "outputs": [
    {
     "data": {
      "text/html": [
       "<div>\n",
       "<style scoped>\n",
       "    .dataframe tbody tr th:only-of-type {\n",
       "        vertical-align: middle;\n",
       "    }\n",
       "\n",
       "    .dataframe tbody tr th {\n",
       "        vertical-align: top;\n",
       "    }\n",
       "\n",
       "    .dataframe thead th {\n",
       "        text-align: right;\n",
       "    }\n",
       "</style>\n",
       "<table border=\"1\" class=\"dataframe\">\n",
       "  <thead>\n",
       "    <tr style=\"text-align: right;\">\n",
       "      <th></th>\n",
       "      <th>land_area</th>\n",
       "      <th>percent_city</th>\n",
       "      <th>percent_senior</th>\n",
       "      <th>num_physicians</th>\n",
       "      <th>hospital_beds</th>\n",
       "      <th>graduates</th>\n",
       "      <th>work_force</th>\n",
       "      <th>income</th>\n",
       "      <th>region</th>\n",
       "      <th>crime_rate</th>\n",
       "    </tr>\n",
       "  </thead>\n",
       "  <tbody>\n",
       "    <tr>\n",
       "      <th>0</th>\n",
       "      <td>1384</td>\n",
       "      <td>78.1</td>\n",
       "      <td>12.3</td>\n",
       "      <td>25627</td>\n",
       "      <td>69678</td>\n",
       "      <td>50.1</td>\n",
       "      <td>4083.9</td>\n",
       "      <td>72100</td>\n",
       "      <td>1</td>\n",
       "      <td>75.55</td>\n",
       "    </tr>\n",
       "    <tr>\n",
       "      <th>1</th>\n",
       "      <td>3719</td>\n",
       "      <td>43.9</td>\n",
       "      <td>9.4</td>\n",
       "      <td>13326</td>\n",
       "      <td>43292</td>\n",
       "      <td>53.9</td>\n",
       "      <td>3305.9</td>\n",
       "      <td>54542</td>\n",
       "      <td>2</td>\n",
       "      <td>56.03</td>\n",
       "    </tr>\n",
       "    <tr>\n",
       "      <th>2</th>\n",
       "      <td>3553</td>\n",
       "      <td>37.4</td>\n",
       "      <td>10.7</td>\n",
       "      <td>9724</td>\n",
       "      <td>33731</td>\n",
       "      <td>50.6</td>\n",
       "      <td>2066.3</td>\n",
       "      <td>33216</td>\n",
       "      <td>1</td>\n",
       "      <td>41.32</td>\n",
       "    </tr>\n",
       "    <tr>\n",
       "      <th>3</th>\n",
       "      <td>3916</td>\n",
       "      <td>29.9</td>\n",
       "      <td>8.8</td>\n",
       "      <td>6402</td>\n",
       "      <td>24167</td>\n",
       "      <td>52.2</td>\n",
       "      <td>1966.7</td>\n",
       "      <td>32906</td>\n",
       "      <td>2</td>\n",
       "      <td>67.38</td>\n",
       "    </tr>\n",
       "    <tr>\n",
       "      <th>4</th>\n",
       "      <td>2480</td>\n",
       "      <td>31.5</td>\n",
       "      <td>10.5</td>\n",
       "      <td>8502</td>\n",
       "      <td>16751</td>\n",
       "      <td>66.1</td>\n",
       "      <td>1514.5</td>\n",
       "      <td>26573</td>\n",
       "      <td>4</td>\n",
       "      <td>80.19</td>\n",
       "    </tr>\n",
       "    <tr>\n",
       "      <th>...</th>\n",
       "      <td>...</td>\n",
       "      <td>...</td>\n",
       "      <td>...</td>\n",
       "      <td>...</td>\n",
       "      <td>...</td>\n",
       "      <td>...</td>\n",
       "      <td>...</td>\n",
       "      <td>...</td>\n",
       "      <td>...</td>\n",
       "      <td>...</td>\n",
       "    </tr>\n",
       "    <tr>\n",
       "      <th>94</th>\n",
       "      <td>1511</td>\n",
       "      <td>38.7</td>\n",
       "      <td>10.7</td>\n",
       "      <td>348</td>\n",
       "      <td>1093</td>\n",
       "      <td>50.4</td>\n",
       "      <td>127.2</td>\n",
       "      <td>1452</td>\n",
       "      <td>4</td>\n",
       "      <td>70.66</td>\n",
       "    </tr>\n",
       "    <tr>\n",
       "      <th>95</th>\n",
       "      <td>1543</td>\n",
       "      <td>39.6</td>\n",
       "      <td>8.1</td>\n",
       "      <td>159</td>\n",
       "      <td>481</td>\n",
       "      <td>30.3</td>\n",
       "      <td>80.6</td>\n",
       "      <td>769</td>\n",
       "      <td>3</td>\n",
       "      <td>36.36</td>\n",
       "    </tr>\n",
       "    <tr>\n",
       "      <th>96</th>\n",
       "      <td>1011</td>\n",
       "      <td>37.8</td>\n",
       "      <td>10.5</td>\n",
       "      <td>264</td>\n",
       "      <td>964</td>\n",
       "      <td>70.7</td>\n",
       "      <td>93.2</td>\n",
       "      <td>1337</td>\n",
       "      <td>3</td>\n",
       "      <td>60.16</td>\n",
       "    </tr>\n",
       "    <tr>\n",
       "      <th>97</th>\n",
       "      <td>813</td>\n",
       "      <td>13.4</td>\n",
       "      <td>10.9</td>\n",
       "      <td>371</td>\n",
       "      <td>4355</td>\n",
       "      <td>58.0</td>\n",
       "      <td>97.0</td>\n",
       "      <td>1589</td>\n",
       "      <td>1</td>\n",
       "      <td>36.33</td>\n",
       "    </tr>\n",
       "    <tr>\n",
       "      <th>98</th>\n",
       "      <td>654</td>\n",
       "      <td>28.8</td>\n",
       "      <td>3.9</td>\n",
       "      <td>140</td>\n",
       "      <td>1296</td>\n",
       "      <td>55.1</td>\n",
       "      <td>66.9</td>\n",
       "      <td>1148</td>\n",
       "      <td>3</td>\n",
       "      <td>68.76</td>\n",
       "    </tr>\n",
       "  </tbody>\n",
       "</table>\n",
       "<p>99 rows × 10 columns</p>\n",
       "</div>"
      ],
      "text/plain": [
       "    land_area  percent_city  percent_senior  num_physicians  hospital_beds  \\\n",
       "0        1384          78.1            12.3           25627          69678   \n",
       "1        3719          43.9             9.4           13326          43292   \n",
       "2        3553          37.4            10.7            9724          33731   \n",
       "3        3916          29.9             8.8            6402          24167   \n",
       "4        2480          31.5            10.5            8502          16751   \n",
       "..        ...           ...             ...             ...            ...   \n",
       "94       1511          38.7            10.7             348           1093   \n",
       "95       1543          39.6             8.1             159            481   \n",
       "96       1011          37.8            10.5             264            964   \n",
       "97        813          13.4            10.9             371           4355   \n",
       "98        654          28.8             3.9             140           1296   \n",
       "\n",
       "    graduates  work_force  income  region  crime_rate  \n",
       "0        50.1      4083.9   72100       1       75.55  \n",
       "1        53.9      3305.9   54542       2       56.03  \n",
       "2        50.6      2066.3   33216       1       41.32  \n",
       "3        52.2      1966.7   32906       2       67.38  \n",
       "4        66.1      1514.5   26573       4       80.19  \n",
       "..        ...         ...     ...     ...         ...  \n",
       "94       50.4       127.2    1452       4       70.66  \n",
       "95       30.3        80.6     769       3       36.36  \n",
       "96       70.7        93.2    1337       3       60.16  \n",
       "97       58.0        97.0    1589       1       36.33  \n",
       "98       55.1        66.9    1148       3       68.76  \n",
       "\n",
       "[99 rows x 10 columns]"
      ]
     },
     "execution_count": 24,
     "metadata": {},
     "output_type": "execute_result"
    }
   ],
   "source": [
    "sma_data.rename(columns = {'physicians': 'num_physicians'})"
   ]
  },
  {
   "cell_type": "code",
   "execution_count": 25,
   "id": "5cb5d5ff",
   "metadata": {},
   "outputs": [
    {
     "data": {
      "text/plain": [
       "<AxesSubplot:title={'center':'Pearson Correlation of Features'}>"
      ]
     },
     "execution_count": 25,
     "metadata": {},
     "output_type": "execute_result"
    },
    {
     "data": {
      "image/png": "[encoded data removed]",
      "text/plain": [
       "<Figure size 1728x576 with 2 Axes>"
      ]
     },
     "metadata": {
      "needs_background": "light"
     },
     "output_type": "display_data"
    }
   ],
   "source": [
    "colormap = plt.cm.RdBu\n",
    "plt.figure(figsize=(24,8))\n",
    "plt.title('Pearson Correlation of Features', y=1.05, size=15)\n",
    "sns.heatmap(sma_data.corr(),linewidths=0.1,vmax=1.0, \n",
    "            square=True,linecolor='white',cmap=colormap, annot=True)"
   ]
  },
  {
   "cell_type": "code",
   "execution_count": 26,
   "id": "6eced699",
   "metadata": {},
   "outputs": [],
   "source": [
    "sample_data1 = sma_data [sma_data['region'] ==4]"
   ]
  },
  {
   "cell_type": "code",
   "execution_count": 27,
   "id": "2974e056",
   "metadata": {},
   "outputs": [
    {
     "data": {
      "text/html": [
       "<div>\n",
       "<style scoped>\n",
       "    .dataframe tbody tr th:only-of-type {\n",
       "        vertical-align: middle;\n",
       "    }\n",
       "\n",
       "    .dataframe tbody tr th {\n",
       "        vertical-align: top;\n",
       "    }\n",
       "\n",
       "    .dataframe thead th {\n",
       "        text-align: right;\n",
       "    }\n",
       "</style>\n",
       "<table border=\"1\" class=\"dataframe\">\n",
       "  <thead>\n",
       "    <tr style=\"text-align: right;\">\n",
       "      <th></th>\n",
       "      <th>land_area</th>\n",
       "      <th>percent_city</th>\n",
       "      <th>percent_senior</th>\n",
       "      <th>physicians</th>\n",
       "      <th>hospital_beds</th>\n",
       "      <th>graduates</th>\n",
       "      <th>work_force</th>\n",
       "      <th>income</th>\n",
       "      <th>region</th>\n",
       "      <th>crime_rate</th>\n",
       "    </tr>\n",
       "  </thead>\n",
       "  <tbody>\n",
       "    <tr>\n",
       "      <th>4</th>\n",
       "      <td>2480</td>\n",
       "      <td>31.5</td>\n",
       "      <td>10.5</td>\n",
       "      <td>8502</td>\n",
       "      <td>16751</td>\n",
       "      <td>66.1</td>\n",
       "      <td>1514.5</td>\n",
       "      <td>26573</td>\n",
       "      <td>4</td>\n",
       "      <td>80.19</td>\n",
       "    </tr>\n",
       "    <tr>\n",
       "      <th>13</th>\n",
       "      <td>782</td>\n",
       "      <td>28.4</td>\n",
       "      <td>7.8</td>\n",
       "      <td>3119</td>\n",
       "      <td>8656</td>\n",
       "      <td>70.5</td>\n",
       "      <td>915.2</td>\n",
       "      <td>12591</td>\n",
       "      <td>4</td>\n",
       "      <td>63.20</td>\n",
       "    </tr>\n",
       "    <tr>\n",
       "      <th>14</th>\n",
       "      <td>4226</td>\n",
       "      <td>38.1</td>\n",
       "      <td>9.8</td>\n",
       "      <td>3285</td>\n",
       "      <td>5392</td>\n",
       "      <td>67.8</td>\n",
       "      <td>699.8</td>\n",
       "      <td>10918</td>\n",
       "      <td>4</td>\n",
       "      <td>64.05</td>\n",
       "    </tr>\n",
       "    <tr>\n",
       "      <th>18</th>\n",
       "      <td>27293</td>\n",
       "      <td>25.3</td>\n",
       "      <td>12.3</td>\n",
       "      <td>2018</td>\n",
       "      <td>6323</td>\n",
       "      <td>57.4</td>\n",
       "      <td>510.6</td>\n",
       "      <td>7399</td>\n",
       "      <td>4</td>\n",
       "      <td>76.03</td>\n",
       "    </tr>\n",
       "    <tr>\n",
       "      <th>20</th>\n",
       "      <td>9155</td>\n",
       "      <td>53.8</td>\n",
       "      <td>11.1</td>\n",
       "      <td>2280</td>\n",
       "      <td>6450</td>\n",
       "      <td>60.1</td>\n",
       "      <td>575.2</td>\n",
       "      <td>7766</td>\n",
       "      <td>4</td>\n",
       "      <td>85.62</td>\n",
       "    </tr>\n",
       "  </tbody>\n",
       "</table>\n",
       "</div>"
      ],
      "text/plain": [
       "    land_area  percent_city  percent_senior  physicians  hospital_beds  \\\n",
       "4        2480          31.5            10.5        8502          16751   \n",
       "13        782          28.4             7.8        3119           8656   \n",
       "14       4226          38.1             9.8        3285           5392   \n",
       "18      27293          25.3            12.3        2018           6323   \n",
       "20       9155          53.8            11.1        2280           6450   \n",
       "\n",
       "    graduates  work_force  income  region  crime_rate  \n",
       "4        66.1      1514.5   26573       4       80.19  \n",
       "13       70.5       915.2   12591       4       63.20  \n",
       "14       67.8       699.8   10918       4       64.05  \n",
       "18       57.4       510.6    7399       4       76.03  \n",
       "20       60.1       575.2    7766       4       85.62  "
      ]
     },
     "execution_count": 27,
     "metadata": {},
     "output_type": "execute_result"
    }
   ],
   "source": [
    "sample_data1.head(5)"
   ]
  },
  {
   "cell_type": "code",
   "execution_count": 28,
   "id": "7f245b8d",
   "metadata": {},
   "outputs": [
    {
     "data": {
      "text/html": [
       "<div>\n",
       "<style scoped>\n",
       "    .dataframe tbody tr th:only-of-type {\n",
       "        vertical-align: middle;\n",
       "    }\n",
       "\n",
       "    .dataframe tbody tr th {\n",
       "        vertical-align: top;\n",
       "    }\n",
       "\n",
       "    .dataframe thead th {\n",
       "        text-align: right;\n",
       "    }\n",
       "</style>\n",
       "<table border=\"1\" class=\"dataframe\">\n",
       "  <thead>\n",
       "    <tr style=\"text-align: right;\">\n",
       "      <th></th>\n",
       "      <th>land_area</th>\n",
       "      <th>percent_city</th>\n",
       "      <th>percent_senior</th>\n",
       "      <th>physicians</th>\n",
       "      <th>hospital_beds</th>\n",
       "      <th>graduates</th>\n",
       "      <th>work_force</th>\n",
       "      <th>income</th>\n",
       "      <th>region</th>\n",
       "      <th>crime_rate</th>\n",
       "    </tr>\n",
       "  </thead>\n",
       "  <tbody>\n",
       "    <tr>\n",
       "      <th>count</th>\n",
       "      <td>17.000000</td>\n",
       "      <td>17.000000</td>\n",
       "      <td>17.000000</td>\n",
       "      <td>17.000000</td>\n",
       "      <td>17.000000</td>\n",
       "      <td>17.000000</td>\n",
       "      <td>17.000000</td>\n",
       "      <td>17.000000</td>\n",
       "      <td>17.0</td>\n",
       "      <td>17.000000</td>\n",
       "    </tr>\n",
       "    <tr>\n",
       "      <th>mean</th>\n",
       "      <td>4723.705882</td>\n",
       "      <td>44.270588</td>\n",
       "      <td>9.452941</td>\n",
       "      <td>1603.882353</td>\n",
       "      <td>3971.882353</td>\n",
       "      <td>61.941176</td>\n",
       "      <td>382.000000</td>\n",
       "      <td>5737.117647</td>\n",
       "      <td>4.0</td>\n",
       "      <td>69.455882</td>\n",
       "    </tr>\n",
       "    <tr>\n",
       "      <th>std</th>\n",
       "      <td>6311.765301</td>\n",
       "      <td>18.611145</td>\n",
       "      <td>1.807318</td>\n",
       "      <td>2030.634257</td>\n",
       "      <td>3988.035103</td>\n",
       "      <td>7.407265</td>\n",
       "      <td>376.171407</td>\n",
       "      <td>6368.078035</td>\n",
       "      <td>0.0</td>\n",
       "      <td>10.179898</td>\n",
       "    </tr>\n",
       "    <tr>\n",
       "      <th>min</th>\n",
       "      <td>596.000000</td>\n",
       "      <td>22.300000</td>\n",
       "      <td>6.000000</td>\n",
       "      <td>329.000000</td>\n",
       "      <td>719.000000</td>\n",
       "      <td>49.400000</td>\n",
       "      <td>110.900000</td>\n",
       "      <td>1386.000000</td>\n",
       "      <td>4.0</td>\n",
       "      <td>53.760000</td>\n",
       "    </tr>\n",
       "    <tr>\n",
       "      <th>25%</th>\n",
       "      <td>1676.000000</td>\n",
       "      <td>31.500000</td>\n",
       "      <td>8.300000</td>\n",
       "      <td>436.000000</td>\n",
       "      <td>1462.000000</td>\n",
       "      <td>57.400000</td>\n",
       "      <td>131.400000</td>\n",
       "      <td>1980.000000</td>\n",
       "      <td>4.0</td>\n",
       "      <td>63.100000</td>\n",
       "    </tr>\n",
       "    <tr>\n",
       "      <th>50%</th>\n",
       "      <td>2710.000000</td>\n",
       "      <td>39.200000</td>\n",
       "      <td>9.600000</td>\n",
       "      <td>674.000000</td>\n",
       "      <td>2819.000000</td>\n",
       "      <td>63.800000</td>\n",
       "      <td>194.800000</td>\n",
       "      <td>2747.000000</td>\n",
       "      <td>4.0</td>\n",
       "      <td>64.980000</td>\n",
       "    </tr>\n",
       "    <tr>\n",
       "      <th>75%</th>\n",
       "      <td>4552.000000</td>\n",
       "      <td>53.800000</td>\n",
       "      <td>10.700000</td>\n",
       "      <td>2018.000000</td>\n",
       "      <td>5392.000000</td>\n",
       "      <td>66.100000</td>\n",
       "      <td>510.600000</td>\n",
       "      <td>7399.000000</td>\n",
       "      <td>4.0</td>\n",
       "      <td>78.100000</td>\n",
       "    </tr>\n",
       "    <tr>\n",
       "      <th>max</th>\n",
       "      <td>27293.000000</td>\n",
       "      <td>100.000000</td>\n",
       "      <td>12.300000</td>\n",
       "      <td>8502.000000</td>\n",
       "      <td>16751.000000</td>\n",
       "      <td>72.800000</td>\n",
       "      <td>1514.500000</td>\n",
       "      <td>26573.000000</td>\n",
       "      <td>4.0</td>\n",
       "      <td>85.620000</td>\n",
       "    </tr>\n",
       "  </tbody>\n",
       "</table>\n",
       "</div>"
      ],
      "text/plain": [
       "          land_area  percent_city  percent_senior   physicians  hospital_beds  \\\n",
       "count     17.000000     17.000000       17.000000    17.000000      17.000000   \n",
       "mean    4723.705882     44.270588        9.452941  1603.882353    3971.882353   \n",
       "std     6311.765301     18.611145        1.807318  2030.634257    3988.035103   \n",
       "min      596.000000     22.300000        6.000000   329.000000     719.000000   \n",
       "25%     1676.000000     31.500000        8.300000   436.000000    1462.000000   \n",
       "50%     2710.000000     39.200000        9.600000   674.000000    2819.000000   \n",
       "75%     4552.000000     53.800000       10.700000  2018.000000    5392.000000   \n",
       "max    27293.000000    100.000000       12.300000  8502.000000   16751.000000   \n",
       "\n",
       "       graduates   work_force        income  region  crime_rate  \n",
       "count  17.000000    17.000000     17.000000    17.0   17.000000  \n",
       "mean   61.941176   382.000000   5737.117647     4.0   69.455882  \n",
       "std     7.407265   376.171407   6368.078035     0.0   10.179898  \n",
       "min    49.400000   110.900000   1386.000000     4.0   53.760000  \n",
       "25%    57.400000   131.400000   1980.000000     4.0   63.100000  \n",
       "50%    63.800000   194.800000   2747.000000     4.0   64.980000  \n",
       "75%    66.100000   510.600000   7399.000000     4.0   78.100000  \n",
       "max    72.800000  1514.500000  26573.000000     4.0   85.620000  "
      ]
     },
     "execution_count": 28,
     "metadata": {},
     "output_type": "execute_result"
    }
   ],
   "source": [
    "sample_data1.describe()"
   ]
  },
  {
   "cell_type": "code",
   "execution_count": 36,
   "id": "64601ded",
   "metadata": {},
   "outputs": [
    {
     "data": {
      "text/plain": [
       "3    36\n",
       "2    25\n",
       "1    21\n",
       "4    17\n",
       "Name: region, dtype: int64"
      ]
     },
     "execution_count": 36,
     "metadata": {},
     "output_type": "execute_result"
    }
   ],
   "source": [
    "sma_data.region.value_counts()\n"
   ]
  },
  {
   "cell_type": "code",
   "execution_count": 31,
   "id": "ed83c902",
   "metadata": {},
   "outputs": [
    {
     "data": {
      "image/png": "[encoded data removed]",
      "text/plain": [
       "<Figure size 432x288 with 1 Axes>"
      ]
     },
     "metadata": {
      "needs_background": "light"
     },
     "output_type": "display_data"
    }
   ],
   "source": [
    "plt.plot(sma_data.land_area,sma_data.crime_rate)\n",
    "plt.show()"
   ]
  },
  {
   "cell_type": "code",
   "execution_count": 32,
   "id": "d150a7cc",
   "metadata": {},
   "outputs": [
    {
     "data": {
      "image/png": "[encoded data removed]",
      "text/plain": [
       "<Figure size 432x288 with 1 Axes>"
      ]
     },
     "metadata": {
      "needs_background": "light"
     },
     "output_type": "display_data"
    }
   ],
   "source": [
    "plt.scatter(sma_data.physicians,sma_data.hospital_beds)\n",
    "plt.show()"
   ]
  },
  {
   "cell_type": "code",
   "execution_count": 35,
   "id": "ffbf0d62",
   "metadata": {},
   "outputs": [
    {
     "ename": "TypeError",
     "evalue": "bar() missing 1 required positional argument: 'height'",
     "output_type": "error",
     "traceback": [
      "\u001b[0;31m---------------------------------------------------------------------------\u001b[0m",
      "\u001b[0;31mTypeError\u001b[0m                                 Traceback (most recent call last)",
      "\u001b[0;32m/tmp/ipykernel_100985/2970732791.py\u001b[0m in \u001b[0;36m<module>\u001b[0;34m\u001b[0m\n\u001b[0;32m----> 1\u001b[0;31m \u001b[0mplt\u001b[0m\u001b[0;34m.\u001b[0m\u001b[0mbar\u001b[0m\u001b[0;34m(\u001b[0m\u001b[0msma_data\u001b[0m\u001b[0;34m.\u001b[0m\u001b[0mregion\u001b[0m\u001b[0;34m.\u001b[0m\u001b[0mvalue_counts\u001b[0m\u001b[0;34m(\u001b[0m\u001b[0;34m)\u001b[0m\u001b[0;34m,\u001b[0m\u001b[0mwidth\u001b[0m \u001b[0;34m=\u001b[0m \u001b[0;36m0.4\u001b[0m\u001b[0;34m)\u001b[0m\u001b[0;34m\u001b[0m\u001b[0;34m\u001b[0m\u001b[0m\n\u001b[0m\u001b[1;32m      2\u001b[0m \u001b[0mplt\u001b[0m\u001b[0;34m.\u001b[0m\u001b[0mshow\u001b[0m\u001b[0;34m(\u001b[0m\u001b[0;34m)\u001b[0m\u001b[0;34m\u001b[0m\u001b[0;34m\u001b[0m\u001b[0m\n",
      "\u001b[0;31mTypeError\u001b[0m: bar() missing 1 required positional argument: 'height'"
     ]
    }
   ],
   "source": [
    "plt.bar(sma_data.region.value_counts(),width = 0.4)\n",
    "plt.show()"
   ]
  },
  {
   "cell_type": "code",
   "execution_count": 37,
   "id": "1a2866f2",
   "metadata": {},
   "outputs": [
    {
     "data": {
      "image/png": "[encoded data removed]",
      "text/plain": [
       "<Figure size 432x288 with 1 Axes>"
      ]
     },
     "metadata": {
      "needs_background": "light"
     },
     "output_type": "display_data"
    }
   ],
   "source": [
    "plt.hist(sma_data.income)\n",
    "plt.show()"
   ]
  },
  {
   "cell_type": "code",
   "execution_count": null,
   "id": "a7fc84d5",
   "metadata": {},
   "outputs": [],
   "source": []
  }
 ],
 "metadata": {
  "kernelspec": {
   "display_name": "Python 3 (ipykernel)",
   "language": "python",
   "name": "python3"
  },
  "language_info": {
   "codemirror_mode": {
    "name": "ipython",
    "version": 3
   },
   "file_extension": ".py",
   "mimetype": "text/x-python",
   "name": "python",
   "nbconvert_exporter": "python",
   "pygments_lexer": "ipython3",
   "version": "3.9.7"
  }
 },
 "nbformat": 4,
 "nbformat_minor": 5
}
